{
  "nbformat": 4,
  "nbformat_minor": 0,
  "metadata": {
    "colab": {
      "name": "naver_review.ipynb",
      "provenance": [],
      "authorship_tag": "ABX9TyN6QQTKxXyqZx0hyHHoZWxV",
      "include_colab_link": true
    },
    "kernelspec": {
      "name": "python3",
      "display_name": "Python 3"
    },
    "language_info": {
      "name": "python"
    }
  },
  "cells": [
    {
      "cell_type": "markdown",
      "metadata": {
        "id": "view-in-github",
        "colab_type": "text"
      },
      "source": [
        "<a href=\"https://colab.research.google.com/github/Vaycold/Python_DL/blob/main/Text_Classification/naver_review.ipynb\" target=\"_parent\"><img src=\"https://colab.research.google.com/assets/colab-badge.svg\" alt=\"Open In Colab\"/></a>"
      ]
    },
    {
      "cell_type": "markdown",
      "metadata": {
        "id": "fMycU-ZgRwAP"
      },
      "source": [
        "## Goal\n",
        "   - Seq2Seq model\n",
        "   - word embedding\n",
        "   - time series data"
      ]
    },
    {
      "cell_type": "markdown",
      "metadata": {
        "id": "6tiltNmt-s_o"
      },
      "source": [
        "## Import the Library & Load the data"
      ]
    },
    {
      "cell_type": "code",
      "metadata": {
        "id": "CaoNPKL58_1n"
      },
      "source": [
        "import tensorflow as tf\n",
        "from tensorflow import keras\n",
        "from keras.layers import Dense\n",
        "from keras.models import Sequential, Model\n",
        "\n",
        "import pandas as pd\n",
        "import numpy as np\n",
        "import matplotlib.pyplot as plt\n",
        "import seaborn as sns\n",
        "import warnings\n",
        "from IPython.display import Image\n",
        "warnings.filterwarnings('ignore')\n"
      ],
      "execution_count": 2,
      "outputs": []
    },
    {
      "cell_type": "code",
      "metadata": {
        "colab": {
          "base_uri": "https://localhost:8080/"
        },
        "id": "FdkRAUKISUpk",
        "outputId": "03b3cba1-b924-437b-aaa3-7385f89cdf77"
      },
      "source": [
        "!wget https://raw.githubusercontent.com/e9t/nsmc/master/ratings_train.txt\n",
        "!wget https://raw.githubusercontent.com/e9t/nsmc/master/ratings_test.txt"
      ],
      "execution_count": 1,
      "outputs": [
        {
          "output_type": "stream",
          "text": [
            "--2021-05-26 15:35:29--  https://raw.githubusercontent.com/e9t/nsmc/master/ratings_train.txt\n",
            "Resolving raw.githubusercontent.com (raw.githubusercontent.com)... 185.199.108.133, 185.199.111.133, 185.199.110.133, ...\n",
            "Connecting to raw.githubusercontent.com (raw.githubusercontent.com)|185.199.108.133|:443... connected.\n",
            "HTTP request sent, awaiting response... 200 OK\n",
            "Length: 14628807 (14M) [text/plain]\n",
            "Saving to: ‘ratings_train.txt’\n",
            "\n",
            "ratings_train.txt   100%[===================>]  13.95M  36.4MB/s    in 0.4s    \n",
            "\n",
            "2021-05-26 15:35:30 (36.4 MB/s) - ‘ratings_train.txt’ saved [14628807/14628807]\n",
            "\n",
            "--2021-05-26 15:35:30--  https://raw.githubusercontent.com/e9t/nsmc/master/ratings_test.txt\n",
            "Resolving raw.githubusercontent.com (raw.githubusercontent.com)... 185.199.108.133, 185.199.109.133, 185.199.110.133, ...\n",
            "Connecting to raw.githubusercontent.com (raw.githubusercontent.com)|185.199.108.133|:443... connected.\n",
            "HTTP request sent, awaiting response... 200 OK\n",
            "Length: 4893335 (4.7M) [text/plain]\n",
            "Saving to: ‘ratings_test.txt’\n",
            "\n",
            "ratings_test.txt    100%[===================>]   4.67M  --.-KB/s    in 0.1s    \n",
            "\n",
            "2021-05-26 15:35:30 (44.5 MB/s) - ‘ratings_test.txt’ saved [4893335/4893335]\n",
            "\n"
          ],
          "name": "stdout"
        }
      ]
    },
    {
      "cell_type": "code",
      "metadata": {
        "colab": {
          "base_uri": "https://localhost:8080/"
        },
        "id": "JZCEHdxCSUnt",
        "outputId": "115a6331-b770-42ec-8002-26e0c53440cb"
      },
      "source": [
        "!ls -alh"
      ],
      "execution_count": 6,
      "outputs": [
        {
          "output_type": "stream",
          "text": [
            "total 19M\n",
            "drwxr-xr-x 1 root root 4.0K May 26 15:35 .\n",
            "drwxr-xr-x 1 root root 4.0K May 26 15:31 ..\n",
            "drwxr-xr-x 4 root root 4.0K May  6 13:43 .config\n",
            "-rw-r--r-- 1 root root 4.7M May 26 15:35 ratings_test.txt\n",
            "-rw-r--r-- 1 root root  14M May 26 15:35 ratings_train.txt\n",
            "drwxr-xr-x 1 root root 4.0K May  6 13:44 sample_data\n"
          ],
          "name": "stdout"
        }
      ]
    },
    {
      "cell_type": "code",
      "metadata": {
        "colab": {
          "base_uri": "https://localhost:8080/",
          "height": 195
        },
        "id": "bDR1QOI_SUkv",
        "outputId": "60bf7e80-316e-4cfc-c7c1-596f5962fa50"
      },
      "source": [
        "train_df = pd.read_csv('ratings_train.txt', sep='\\t')\n",
        "test_df = pd.read_csv('ratings_test.txt', sep='\\t')\n",
        "train_df.head()"
      ],
      "execution_count": 7,
      "outputs": [
        {
          "output_type": "execute_result",
          "data": {
            "text/html": [
              "<div>\n",
              "<style scoped>\n",
              "    .dataframe tbody tr th:only-of-type {\n",
              "        vertical-align: middle;\n",
              "    }\n",
              "\n",
              "    .dataframe tbody tr th {\n",
              "        vertical-align: top;\n",
              "    }\n",
              "\n",
              "    .dataframe thead th {\n",
              "        text-align: right;\n",
              "    }\n",
              "</style>\n",
              "<table border=\"1\" class=\"dataframe\">\n",
              "  <thead>\n",
              "    <tr style=\"text-align: right;\">\n",
              "      <th></th>\n",
              "      <th>id</th>\n",
              "      <th>document</th>\n",
              "      <th>label</th>\n",
              "    </tr>\n",
              "  </thead>\n",
              "  <tbody>\n",
              "    <tr>\n",
              "      <th>0</th>\n",
              "      <td>9976970</td>\n",
              "      <td>아 더빙.. 진짜 짜증나네요 목소리</td>\n",
              "      <td>0</td>\n",
              "    </tr>\n",
              "    <tr>\n",
              "      <th>1</th>\n",
              "      <td>3819312</td>\n",
              "      <td>흠...포스터보고 초딩영화줄....오버연기조차 가볍지 않구나</td>\n",
              "      <td>1</td>\n",
              "    </tr>\n",
              "    <tr>\n",
              "      <th>2</th>\n",
              "      <td>10265843</td>\n",
              "      <td>너무재밓었다그래서보는것을추천한다</td>\n",
              "      <td>0</td>\n",
              "    </tr>\n",
              "    <tr>\n",
              "      <th>3</th>\n",
              "      <td>9045019</td>\n",
              "      <td>교도소 이야기구먼 ..솔직히 재미는 없다..평점 조정</td>\n",
              "      <td>0</td>\n",
              "    </tr>\n",
              "    <tr>\n",
              "      <th>4</th>\n",
              "      <td>6483659</td>\n",
              "      <td>사이몬페그의 익살스런 연기가 돋보였던 영화!스파이더맨에서 늙어보이기만 했던 커스틴 ...</td>\n",
              "      <td>1</td>\n",
              "    </tr>\n",
              "  </tbody>\n",
              "</table>\n",
              "</div>"
            ],
            "text/plain": [
              "         id                                           document  label\n",
              "0   9976970                                아 더빙.. 진짜 짜증나네요 목소리      0\n",
              "1   3819312                  흠...포스터보고 초딩영화줄....오버연기조차 가볍지 않구나      1\n",
              "2  10265843                                  너무재밓었다그래서보는것을추천한다      0\n",
              "3   9045019                      교도소 이야기구먼 ..솔직히 재미는 없다..평점 조정      0\n",
              "4   6483659  사이몬페그의 익살스런 연기가 돋보였던 영화!스파이더맨에서 늙어보이기만 했던 커스틴 ...      1"
            ]
          },
          "metadata": {
            "tags": []
          },
          "execution_count": 7
        }
      ]
    },
    {
      "cell_type": "code",
      "metadata": {
        "colab": {
          "base_uri": "https://localhost:8080/",
          "height": 195
        },
        "id": "YT7z-Bw7SUiN",
        "outputId": "3f80bdf9-4a56-45d0-d718-f12ae4f9d384"
      },
      "source": [
        "test_df.head()"
      ],
      "execution_count": 8,
      "outputs": [
        {
          "output_type": "execute_result",
          "data": {
            "text/html": [
              "<div>\n",
              "<style scoped>\n",
              "    .dataframe tbody tr th:only-of-type {\n",
              "        vertical-align: middle;\n",
              "    }\n",
              "\n",
              "    .dataframe tbody tr th {\n",
              "        vertical-align: top;\n",
              "    }\n",
              "\n",
              "    .dataframe thead th {\n",
              "        text-align: right;\n",
              "    }\n",
              "</style>\n",
              "<table border=\"1\" class=\"dataframe\">\n",
              "  <thead>\n",
              "    <tr style=\"text-align: right;\">\n",
              "      <th></th>\n",
              "      <th>id</th>\n",
              "      <th>document</th>\n",
              "      <th>label</th>\n",
              "    </tr>\n",
              "  </thead>\n",
              "  <tbody>\n",
              "    <tr>\n",
              "      <th>0</th>\n",
              "      <td>6270596</td>\n",
              "      <td>굳 ㅋ</td>\n",
              "      <td>1</td>\n",
              "    </tr>\n",
              "    <tr>\n",
              "      <th>1</th>\n",
              "      <td>9274899</td>\n",
              "      <td>GDNTOPCLASSINTHECLUB</td>\n",
              "      <td>0</td>\n",
              "    </tr>\n",
              "    <tr>\n",
              "      <th>2</th>\n",
              "      <td>8544678</td>\n",
              "      <td>뭐야 이 평점들은.... 나쁘진 않지만 10점 짜리는 더더욱 아니잖아</td>\n",
              "      <td>0</td>\n",
              "    </tr>\n",
              "    <tr>\n",
              "      <th>3</th>\n",
              "      <td>6825595</td>\n",
              "      <td>지루하지는 않은데 완전 막장임... 돈주고 보기에는....</td>\n",
              "      <td>0</td>\n",
              "    </tr>\n",
              "    <tr>\n",
              "      <th>4</th>\n",
              "      <td>6723715</td>\n",
              "      <td>3D만 아니었어도 별 다섯 개 줬을텐데.. 왜 3D로 나와서 제 심기를 불편하게 하죠??</td>\n",
              "      <td>0</td>\n",
              "    </tr>\n",
              "  </tbody>\n",
              "</table>\n",
              "</div>"
            ],
            "text/plain": [
              "        id                                           document  label\n",
              "0  6270596                                                굳 ㅋ      1\n",
              "1  9274899                               GDNTOPCLASSINTHECLUB      0\n",
              "2  8544678             뭐야 이 평점들은.... 나쁘진 않지만 10점 짜리는 더더욱 아니잖아      0\n",
              "3  6825595                   지루하지는 않은데 완전 막장임... 돈주고 보기에는....      0\n",
              "4  6723715  3D만 아니었어도 별 다섯 개 줬을텐데.. 왜 3D로 나와서 제 심기를 불편하게 하죠??      0"
            ]
          },
          "metadata": {
            "tags": []
          },
          "execution_count": 8
        }
      ]
    },
    {
      "cell_type": "code",
      "metadata": {
        "colab": {
          "base_uri": "https://localhost:8080/"
        },
        "id": "aEZ7J0ljX3Ml",
        "outputId": "05939bce-3eb1-4f7c-a85a-25fd073f0861"
      },
      "source": [
        "train_df.columns"
      ],
      "execution_count": 19,
      "outputs": [
        {
          "output_type": "execute_result",
          "data": {
            "text/plain": [
              "Index(['id', 'document', 'label'], dtype='object')"
            ]
          },
          "metadata": {
            "tags": []
          },
          "execution_count": 19
        }
      ]
    },
    {
      "cell_type": "code",
      "metadata": {
        "colab": {
          "base_uri": "https://localhost:8080/"
        },
        "id": "2aLOo4OLU8Ls",
        "outputId": "506a8f34-0a64-4dbd-8048-9a829151b5fa"
      },
      "source": [
        "train_df.shape, test_df.shape"
      ],
      "execution_count": 10,
      "outputs": [
        {
          "output_type": "execute_result",
          "data": {
            "text/plain": [
              "((150000, 3), (50000, 3))"
            ]
          },
          "metadata": {
            "tags": []
          },
          "execution_count": 10
        }
      ]
    },
    {
      "cell_type": "code",
      "metadata": {
        "colab": {
          "base_uri": "https://localhost:8080/"
        },
        "id": "7F6JQmo7U8JM",
        "outputId": "b168ad72-530e-44d3-cb4f-0b97a018321a"
      },
      "source": [
        "print(train_df.dtypes)"
      ],
      "execution_count": 11,
      "outputs": [
        {
          "output_type": "stream",
          "text": [
            "id           int64\n",
            "document    object\n",
            "label        int64\n",
            "dtype: object\n"
          ],
          "name": "stdout"
        }
      ]
    },
    {
      "cell_type": "code",
      "metadata": {
        "colab": {
          "base_uri": "https://localhost:8080/"
        },
        "id": "JfITYFolVL3u",
        "outputId": "f8e7224d-982f-4a68-e583-ab64ae26353f"
      },
      "source": [
        "!pip install konlpy"
      ],
      "execution_count": 12,
      "outputs": [
        {
          "output_type": "stream",
          "text": [
            "Collecting konlpy\n",
            "\u001b[?25l  Downloading https://files.pythonhosted.org/packages/85/0e/f385566fec837c0b83f216b2da65db9997b35dd675e107752005b7d392b1/konlpy-0.5.2-py2.py3-none-any.whl (19.4MB)\n",
            "\u001b[K     |████████████████████████████████| 19.4MB 6.5MB/s \n",
            "\u001b[?25hCollecting JPype1>=0.7.0\n",
            "\u001b[?25l  Downloading https://files.pythonhosted.org/packages/cd/a5/9781e2ef4ca92d09912c4794642c1653aea7607f473e156cf4d423a881a1/JPype1-1.2.1-cp37-cp37m-manylinux2010_x86_64.whl (457kB)\n",
            "\u001b[K     |████████████████████████████████| 460kB 35.6MB/s \n",
            "\u001b[?25hRequirement already satisfied: lxml>=4.1.0 in /usr/local/lib/python3.7/dist-packages (from konlpy) (4.2.6)\n",
            "Collecting colorama\n",
            "  Downloading https://files.pythonhosted.org/packages/44/98/5b86278fbbf250d239ae0ecb724f8572af1c91f4a11edf4d36a206189440/colorama-0.4.4-py2.py3-none-any.whl\n",
            "Collecting beautifulsoup4==4.6.0\n",
            "\u001b[?25l  Downloading https://files.pythonhosted.org/packages/9e/d4/10f46e5cfac773e22707237bfcd51bbffeaf0a576b0a847ec7ab15bd7ace/beautifulsoup4-4.6.0-py3-none-any.whl (86kB)\n",
            "\u001b[K     |████████████████████████████████| 92kB 8.3MB/s \n",
            "\u001b[?25hRequirement already satisfied: numpy>=1.6 in /usr/local/lib/python3.7/dist-packages (from konlpy) (1.19.5)\n",
            "Requirement already satisfied: tweepy>=3.7.0 in /usr/local/lib/python3.7/dist-packages (from konlpy) (3.10.0)\n",
            "Requirement already satisfied: typing-extensions; python_version < \"3.8\" in /usr/local/lib/python3.7/dist-packages (from JPype1>=0.7.0->konlpy) (3.7.4.3)\n",
            "Requirement already satisfied: requests[socks]>=2.11.1 in /usr/local/lib/python3.7/dist-packages (from tweepy>=3.7.0->konlpy) (2.23.0)\n",
            "Requirement already satisfied: requests-oauthlib>=0.7.0 in /usr/local/lib/python3.7/dist-packages (from tweepy>=3.7.0->konlpy) (1.3.0)\n",
            "Requirement already satisfied: six>=1.10.0 in /usr/local/lib/python3.7/dist-packages (from tweepy>=3.7.0->konlpy) (1.15.0)\n",
            "Requirement already satisfied: idna<3,>=2.5 in /usr/local/lib/python3.7/dist-packages (from requests[socks]>=2.11.1->tweepy>=3.7.0->konlpy) (2.10)\n",
            "Requirement already satisfied: chardet<4,>=3.0.2 in /usr/local/lib/python3.7/dist-packages (from requests[socks]>=2.11.1->tweepy>=3.7.0->konlpy) (3.0.4)\n",
            "Requirement already satisfied: urllib3!=1.25.0,!=1.25.1,<1.26,>=1.21.1 in /usr/local/lib/python3.7/dist-packages (from requests[socks]>=2.11.1->tweepy>=3.7.0->konlpy) (1.24.3)\n",
            "Requirement already satisfied: certifi>=2017.4.17 in /usr/local/lib/python3.7/dist-packages (from requests[socks]>=2.11.1->tweepy>=3.7.0->konlpy) (2020.12.5)\n",
            "Requirement already satisfied: PySocks!=1.5.7,>=1.5.6; extra == \"socks\" in /usr/local/lib/python3.7/dist-packages (from requests[socks]>=2.11.1->tweepy>=3.7.0->konlpy) (1.7.1)\n",
            "Requirement already satisfied: oauthlib>=3.0.0 in /usr/local/lib/python3.7/dist-packages (from requests-oauthlib>=0.7.0->tweepy>=3.7.0->konlpy) (3.1.0)\n",
            "Installing collected packages: JPype1, colorama, beautifulsoup4, konlpy\n",
            "  Found existing installation: beautifulsoup4 4.6.3\n",
            "    Uninstalling beautifulsoup4-4.6.3:\n",
            "      Successfully uninstalled beautifulsoup4-4.6.3\n",
            "Successfully installed JPype1-1.2.1 beautifulsoup4-4.6.0 colorama-0.4.4 konlpy-0.5.2\n"
          ],
          "name": "stdout"
        }
      ]
    },
    {
      "cell_type": "code",
      "metadata": {
        "colab": {
          "base_uri": "https://localhost:8080/"
        },
        "id": "w8YPbmnjVL1s",
        "outputId": "eb2af01e-ab25-4d38-deb5-7b6cc81bcbbf"
      },
      "source": [
        "!pip install sentencepiece"
      ],
      "execution_count": 13,
      "outputs": [
        {
          "output_type": "stream",
          "text": [
            "Collecting sentencepiece\n",
            "\u001b[?25l  Downloading https://files.pythonhosted.org/packages/f5/99/e0808cb947ba10f575839c43e8fafc9cc44e4a7a2c8f79c60db48220a577/sentencepiece-0.1.95-cp37-cp37m-manylinux2014_x86_64.whl (1.2MB)\n",
            "\u001b[K     |████████████████████████████████| 1.2MB 6.7MB/s \n",
            "\u001b[?25hInstalling collected packages: sentencepiece\n",
            "Successfully installed sentencepiece-0.1.95\n"
          ],
          "name": "stdout"
        }
      ]
    },
    {
      "cell_type": "markdown",
      "metadata": {
        "id": "ENG3RPE1v7dx"
      },
      "source": [
        "## Preprocessing"
      ]
    },
    {
      "cell_type": "code",
      "metadata": {
        "id": "QcxrTZNiVLzU"
      },
      "source": [
        "from konlpy.tag import Okt\n",
        "okt = Okt()"
      ],
      "execution_count": 15,
      "outputs": []
    },
    {
      "cell_type": "code",
      "metadata": {
        "colab": {
          "base_uri": "https://localhost:8080/"
        },
        "id": "hXcn92lzVLw1",
        "outputId": "9b41e73b-c4b1-4597-9746-7a9bb7320597"
      },
      "source": [
        "okt.pos('오늘은 즐겁게 딥러닝 공부를 하고 있습니다')"
      ],
      "execution_count": 16,
      "outputs": [
        {
          "output_type": "execute_result",
          "data": {
            "text/plain": [
              "[('오늘', 'Noun'),\n",
              " ('은', 'Josa'),\n",
              " ('즐겁게', 'Adjective'),\n",
              " ('딥', 'Noun'),\n",
              " ('러닝', 'Noun'),\n",
              " ('공부', 'Noun'),\n",
              " ('를', 'Josa'),\n",
              " ('하고', 'Verb'),\n",
              " ('있습니다', 'Adjective')]"
            ]
          },
          "metadata": {
            "tags": []
          },
          "execution_count": 16
        }
      ]
    },
    {
      "cell_type": "code",
      "metadata": {
        "colab": {
          "base_uri": "https://localhost:8080/"
        },
        "id": "h4cGzTt3U8G-",
        "outputId": "8e0de88b-6ebd-486e-dffc-6bda1090cbeb"
      },
      "source": [
        "list(filter(lambda x : x[1] == 'Noun', okt.pos('오늘은 즐겁게 딥러닝 공부를 하고 있습니다')))"
      ],
      "execution_count": 17,
      "outputs": [
        {
          "output_type": "execute_result",
          "data": {
            "text/plain": [
              "[('오늘', 'Noun'), ('딥', 'Noun'), ('러닝', 'Noun'), ('공부', 'Noun')]"
            ]
          },
          "metadata": {
            "tags": []
          },
          "execution_count": 17
        }
      ]
    },
    {
      "cell_type": "code",
      "metadata": {
        "id": "ZQKtrqNzXpSf"
      },
      "source": [
        "import sentencepiece as spm"
      ],
      "execution_count": 18,
      "outputs": []
    },
    {
      "cell_type": "code",
      "metadata": {
        "colab": {
          "base_uri": "https://localhost:8080/"
        },
        "id": "Dn-SeoQbXpQF",
        "outputId": "0ab5d52b-2396-44e6-abbc-25f8de109e0b"
      },
      "source": [
        "train_df['document'].values.shape, test_df['document'].values.shape"
      ],
      "execution_count": 28,
      "outputs": [
        {
          "output_type": "execute_result",
          "data": {
            "text/plain": [
              "((150000,), (50000,))"
            ]
          },
          "metadata": {
            "tags": []
          },
          "execution_count": 28
        }
      ]
    },
    {
      "cell_type": "code",
      "metadata": {
        "id": "TfclazRpXpNU"
      },
      "source": [
        "full_document = np.concatenate(\n",
        "    [train_df['document'].values, test_df['document'].values])\n",
        "\n",
        "with open('./full_document.txt', 'w', encoding='utf-8') as f:\n",
        "    for line in full_document :\n",
        "        if len(str(line).strip()) == 0 : continue\n",
        "        try :\n",
        "            f.write(line + '\\n')\n",
        "        except : continue\n"
      ],
      "execution_count": 32,
      "outputs": []
    },
    {
      "cell_type": "code",
      "metadata": {
        "colab": {
          "base_uri": "https://localhost:8080/"
        },
        "id": "s3-GAfKRXpLB",
        "outputId": "ec97f136-47b4-4ee1-b389-32107d549537"
      },
      "source": [
        "!ls -alh"
      ],
      "execution_count": 33,
      "outputs": [
        {
          "output_type": "stream",
          "text": [
            "total 36M\n",
            "drwxr-xr-x 1 root root 4.0K May 26 17:21 .\n",
            "drwxr-xr-x 1 root root 4.0K May 26 15:31 ..\n",
            "drwxr-xr-x 4 root root 4.0K May  6 13:43 .config\n",
            "-rw-r--r-- 1 root root  17M May 26 17:21 full_document.txt\n",
            "-rw-r--r-- 1 root root 4.7M May 26 15:35 ratings_test.txt\n",
            "-rw-r--r-- 1 root root  14M May 26 15:35 ratings_train.txt\n",
            "drwxr-xr-x 1 root root 4.0K May  6 13:44 sample_data\n"
          ],
          "name": "stdout"
        }
      ]
    },
    {
      "cell_type": "code",
      "metadata": {
        "colab": {
          "base_uri": "https://localhost:8080/"
        },
        "id": "bnVdhwvgXpIu",
        "outputId": "95242ec3-8695-4a7c-e5f8-b91f6343eee8"
      },
      "source": [
        "!cat full_document.txt | head -n10"
      ],
      "execution_count": 35,
      "outputs": [
        {
          "output_type": "stream",
          "text": [
            "아 더빙.. 진짜 짜증나네요 목소리\n",
            "흠...포스터보고 초딩영화줄....오버연기조차 가볍지 않구나\n",
            "너무재밓었다그래서보는것을추천한다\n",
            "교도소 이야기구먼 ..솔직히 재미는 없다..평점 조정\n",
            "사이몬페그의 익살스런 연기가 돋보였던 영화!스파이더맨에서 늙어보이기만 했던 커스틴 던스트가 너무나도 이뻐보였다\n",
            "막 걸음마 뗀 3세부터 초등학교 1학년생인 8살용영화.ㅋㅋㅋ...별반개도 아까움.\n",
            "원작의 긴장감을 제대로 살려내지못했다.\n",
            "별 반개도 아깝다 욕나온다 이응경 길용우 연기생활이몇년인지..정말 발로해도 그것보단 낫겟다 납치.감금만반복반복..이드라마는 가족도없다 연기못하는사람만모엿네\n",
            "액션이 없는데도 재미 있는 몇안되는 영화\n",
            "왜케 평점이 낮은건데? 꽤 볼만한데.. 헐리우드식 화려함에만 너무 길들여져 있나?\n"
          ],
          "name": "stdout"
        }
      ]
    },
    {
      "cell_type": "code",
      "metadata": {
        "id": "FKYUWrUtXpGU"
      },
      "source": [
        "spm.SentencePieceTrainer.train('--input=full_document.txt --model_prefix=m --vocab_size=20000')"
      ],
      "execution_count": 37,
      "outputs": []
    },
    {
      "cell_type": "code",
      "metadata": {
        "colab": {
          "base_uri": "https://localhost:8080/"
        },
        "id": "yM5MhVipXpEF",
        "outputId": "929b1d4d-2df6-4301-d8fe-1b320f1da4bd"
      },
      "source": [
        "sp = spm.SentencePieceProcessor()\n",
        "sp.load('m.model')"
      ],
      "execution_count": 38,
      "outputs": [
        {
          "output_type": "execute_result",
          "data": {
            "text/plain": [
              "True"
            ]
          },
          "metadata": {
            "tags": []
          },
          "execution_count": 38
        }
      ]
    },
    {
      "cell_type": "code",
      "metadata": {
        "id": "PjS_gk0fuB1s"
      },
      "source": [
        "s = '오늘은 즐겁게 딥러닝 공부를 하고 있습니다.'"
      ],
      "execution_count": 40,
      "outputs": []
    },
    {
      "cell_type": "code",
      "metadata": {
        "colab": {
          "base_uri": "https://localhost:8080/"
        },
        "id": "MwZ2fYHdtiqJ",
        "outputId": "731864c1-11be-4049-e641-4400def19fed"
      },
      "source": [
        "sp.encode_as_pieces('오늘은 즐겁게 딥러닝 공부를 하고 있습니다.')"
      ],
      "execution_count": 39,
      "outputs": [
        {
          "output_type": "execute_result",
          "data": {
            "text/plain": [
              "['▁오늘', '은', '▁즐겁게', '▁', '딥', '러', '닝', '▁공부', '를', '▁하고', '▁있습니다', '.']"
            ]
          },
          "metadata": {
            "tags": []
          },
          "execution_count": 39
        }
      ]
    },
    {
      "cell_type": "code",
      "metadata": {
        "colab": {
          "base_uri": "https://localhost:8080/"
        },
        "id": "6A687Ml1tioD",
        "outputId": "b81ad03d-ee39-45e2-9d44-71ea911d9af9"
      },
      "source": [
        "# 텍스트 id로 인코딩\n",
        "sp.encode_as_ids(s)"
      ],
      "execution_count": 42,
      "outputs": [
        {
          "output_type": "execute_result",
          "data": {
            "text/plain": [
              "[605, 17, 2634, 4, 19433, 320, 3864, 2747, 23, 306, 2100, 3]"
            ]
          },
          "metadata": {
            "tags": []
          },
          "execution_count": 42
        }
      ]
    },
    {
      "cell_type": "code",
      "metadata": {
        "colab": {
          "base_uri": "https://localhost:8080/",
          "height": 35
        },
        "id": "OdZLUGGktilh",
        "outputId": "40338209-2d19-4e85-ea93-bb60902a1f18"
      },
      "source": [
        "# 텍스트 id로 디코딩\n",
        "sp.decode_pieces(['▁오늘', '은', '▁즐겁게', '▁', '딥', '러', '닝', '▁공부', '를', '▁하고', '▁있습니다', '.'])"
      ],
      "execution_count": 43,
      "outputs": [
        {
          "output_type": "execute_result",
          "data": {
            "application/vnd.google.colaboratory.intrinsic+json": {
              "type": "string"
            },
            "text/plain": [
              "'오늘은 즐겁게 딥러닝 공부를 하고 있습니다.'"
            ]
          },
          "metadata": {
            "tags": []
          },
          "execution_count": 43
        }
      ]
    },
    {
      "cell_type": "code",
      "metadata": {
        "colab": {
          "base_uri": "https://localhost:8080/",
          "height": 35
        },
        "id": "DQF-YJjNtijB",
        "outputId": "569fcd22-ce58-4652-ee44-b04f4d7d8753"
      },
      "source": [
        "sp.decode_ids([605, 17, 2634, 4, 19433, 320, 3864, 2747, 23, 306, 2100, 3])"
      ],
      "execution_count": 45,
      "outputs": [
        {
          "output_type": "execute_result",
          "data": {
            "application/vnd.google.colaboratory.intrinsic+json": {
              "type": "string"
            },
            "text/plain": [
              "'오늘은 즐겁게 딥러닝 공부를 하고 있습니다.'"
            ]
          },
          "metadata": {
            "tags": []
          },
          "execution_count": 45
        }
      ]
    },
    {
      "cell_type": "code",
      "metadata": {
        "colab": {
          "base_uri": "https://localhost:8080/"
        },
        "id": "_T6IYZi3ueQ1",
        "outputId": "31e98413-b584-4ed9-c7fb-b2d2df43b657"
      },
      "source": [
        "train_df['document']"
      ],
      "execution_count": 46,
      "outputs": [
        {
          "output_type": "execute_result",
          "data": {
            "text/plain": [
              "0                                       아 더빙.. 진짜 짜증나네요 목소리\n",
              "1                         흠...포스터보고 초딩영화줄....오버연기조차 가볍지 않구나\n",
              "2                                         너무재밓었다그래서보는것을추천한다\n",
              "3                             교도소 이야기구먼 ..솔직히 재미는 없다..평점 조정\n",
              "4         사이몬페그의 익살스런 연기가 돋보였던 영화!스파이더맨에서 늙어보이기만 했던 커스틴 ...\n",
              "                                ...                        \n",
              "149995                                  인간이 문제지.. 소는 뭔죄인가..\n",
              "149996                                        평점이 너무 낮아서...\n",
              "149997                      이게 뭐요? 한국인은 거들먹거리고 필리핀 혼혈은 착하다?\n",
              "149998                          청춘 영화의 최고봉.방황과 우울했던 날들의 자화상\n",
              "149999                             한국 영화 최초로 수간하는 내용이 담긴 영화\n",
              "Name: document, Length: 150000, dtype: object"
            ]
          },
          "metadata": {
            "tags": []
          },
          "execution_count": 46
        }
      ]
    },
    {
      "cell_type": "code",
      "metadata": {
        "id": "CMnyS1-hueOb"
      },
      "source": [
        "train_df['bow'] = train_df['document'].apply(lambda x : sp.encode_as_ids(str(x)))"
      ],
      "execution_count": 47,
      "outputs": []
    },
    {
      "cell_type": "code",
      "metadata": {
        "id": "rXXTk9p1ueL5"
      },
      "source": [
        "test_df['bow'] = test_df['document'].apply(lambda x : sp.encode_as_ids(str(x)))"
      ],
      "execution_count": 48,
      "outputs": []
    },
    {
      "cell_type": "code",
      "metadata": {
        "colab": {
          "base_uri": "https://localhost:8080/",
          "height": 195
        },
        "id": "jbP0x9ByueKC",
        "outputId": "91a00b59-f06c-4fb9-979f-69988e257e02"
      },
      "source": [
        "train_df.head()"
      ],
      "execution_count": 49,
      "outputs": [
        {
          "output_type": "execute_result",
          "data": {
            "text/html": [
              "<div>\n",
              "<style scoped>\n",
              "    .dataframe tbody tr th:only-of-type {\n",
              "        vertical-align: middle;\n",
              "    }\n",
              "\n",
              "    .dataframe tbody tr th {\n",
              "        vertical-align: top;\n",
              "    }\n",
              "\n",
              "    .dataframe thead th {\n",
              "        text-align: right;\n",
              "    }\n",
              "</style>\n",
              "<table border=\"1\" class=\"dataframe\">\n",
              "  <thead>\n",
              "    <tr style=\"text-align: right;\">\n",
              "      <th></th>\n",
              "      <th>id</th>\n",
              "      <th>document</th>\n",
              "      <th>label</th>\n",
              "      <th>bow</th>\n",
              "    </tr>\n",
              "  </thead>\n",
              "  <tbody>\n",
              "    <tr>\n",
              "      <th>0</th>\n",
              "      <td>9976970</td>\n",
              "      <td>아 더빙.. 진짜 짜증나네요 목소리</td>\n",
              "      <td>0</td>\n",
              "      <td>[55, 992, 5, 26, 15918, 1228]</td>\n",
              "    </tr>\n",
              "    <tr>\n",
              "      <th>1</th>\n",
              "      <td>3819312</td>\n",
              "      <td>흠...포스터보고 초딩영화줄....오버연기조차 가볍지 않구나</td>\n",
              "      <td>1</td>\n",
              "      <td>[1494, 6, 4134, 162, 1679, 34, 368, 50, 15251,...</td>\n",
              "    </tr>\n",
              "    <tr>\n",
              "      <th>2</th>\n",
              "      <td>10265843</td>\n",
              "      <td>너무재밓었다그래서보는것을추천한다</td>\n",
              "      <td>0</td>\n",
              "      <td>[18, 493, 19794, 543, 3006, 13489, 14, 2172, 292]</td>\n",
              "    </tr>\n",
              "    <tr>\n",
              "      <th>3</th>\n",
              "      <td>9045019</td>\n",
              "      <td>교도소 이야기구먼 ..솔직히 재미는 없다..평점 조정</td>\n",
              "      <td>0</td>\n",
              "      <td>[14221, 200, 6985, 4, 5, 3718, 949, 90, 5, 690...</td>\n",
              "    </tr>\n",
              "    <tr>\n",
              "      <th>4</th>\n",
              "      <td>6483659</td>\n",
              "      <td>사이몬페그의 익살스런 연기가 돋보였던 영화!스파이더맨에서 늙어보이기만 했던 커스틴 ...</td>\n",
              "      <td>1</td>\n",
              "      <td>[3044, 5637, 1831, 235, 9, 18574, 2081, 330, 1...</td>\n",
              "    </tr>\n",
              "  </tbody>\n",
              "</table>\n",
              "</div>"
            ],
            "text/plain": [
              "         id  ...                                                bow\n",
              "0   9976970  ...                      [55, 992, 5, 26, 15918, 1228]\n",
              "1   3819312  ...  [1494, 6, 4134, 162, 1679, 34, 368, 50, 15251,...\n",
              "2  10265843  ...  [18, 493, 19794, 543, 3006, 13489, 14, 2172, 292]\n",
              "3   9045019  ...  [14221, 200, 6985, 4, 5, 3718, 949, 90, 5, 690...\n",
              "4   6483659  ...  [3044, 5637, 1831, 235, 9, 18574, 2081, 330, 1...\n",
              "\n",
              "[5 rows x 4 columns]"
            ]
          },
          "metadata": {
            "tags": []
          },
          "execution_count": 49
        }
      ]
    },
    {
      "cell_type": "code",
      "metadata": {
        "id": "M7WvR_L1ueGr"
      },
      "source": [
        "train_text = train_df['bow'].values\n",
        "test_text  = test_df['bow'].values"
      ],
      "execution_count": 50,
      "outputs": []
    },
    {
      "cell_type": "code",
      "metadata": {
        "colab": {
          "base_uri": "https://localhost:8080/"
        },
        "id": "uheJTd9SueEB",
        "outputId": "d8a2934b-1625-4c78-eca5-ba3b2129a00e"
      },
      "source": [
        "train_text[:2]"
      ],
      "execution_count": 54,
      "outputs": [
        {
          "output_type": "execute_result",
          "data": {
            "text/plain": [
              "array([list([55, 992, 5, 26, 15918, 1228]),\n",
              "       list([1494, 6, 4134, 162, 1679, 34, 368, 50, 15251, 416, 1336, 8263, 876, 441])],\n",
              "      dtype=object)"
            ]
          },
          "metadata": {
            "tags": []
          },
          "execution_count": 54
        }
      ]
    },
    {
      "cell_type": "code",
      "metadata": {
        "id": "sPINqZrbv3FL"
      },
      "source": [
        "train_sentiment = train_df['label'].values\n",
        "test_sentiment = test_df['label'].values"
      ],
      "execution_count": 56,
      "outputs": []
    },
    {
      "cell_type": "code",
      "metadata": {
        "colab": {
          "base_uri": "https://localhost:8080/"
        },
        "id": "VD4HdEGMv3DB",
        "outputId": "d06cfa0b-3b09-41a4-c90e-a83c1d9bd037"
      },
      "source": [
        "test_text.shape , len(test_sentiment)"
      ],
      "execution_count": 62,
      "outputs": [
        {
          "output_type": "execute_result",
          "data": {
            "text/plain": [
              "((50000,), 50000)"
            ]
          },
          "metadata": {
            "tags": []
          },
          "execution_count": 62
        }
      ]
    },
    {
      "cell_type": "code",
      "metadata": {
        "id": "e8nNbwXqv3BN"
      },
      "source": [
        "# 모든 정수를 확인해보자\n",
        "all_words = set([id for ids in train_text for id in ids]) | set([id for ids in test_text for id in ids])"
      ],
      "execution_count": 63,
      "outputs": []
    },
    {
      "cell_type": "code",
      "metadata": {
        "colab": {
          "base_uri": "https://localhost:8080/"
        },
        "id": "8gmwkiZlv2-p",
        "outputId": "58ec7f13-f993-4259-a643-10c13fe9eff4"
      },
      "source": [
        "sorted(all_words)[:5]"
      ],
      "execution_count": 64,
      "outputs": [
        {
          "output_type": "execute_result",
          "data": {
            "text/plain": [
              "[0, 3, 4, 5, 6]"
            ]
          },
          "metadata": {
            "tags": []
          },
          "execution_count": 64
        }
      ]
    },
    {
      "cell_type": "code",
      "metadata": {
        "id": "d7BYdbrxv28M"
      },
      "source": [
        "# train text와 test text를 bow형태로 변경\n",
        "train_bow_text = tf.keras.preprocessing.sequence.pad_sequences(train_text)\n",
        "test_bow_text = tf.keras.preprocessing.sequence.pad_sequences(test_text)"
      ],
      "execution_count": 65,
      "outputs": []
    },
    {
      "cell_type": "code",
      "metadata": {
        "colab": {
          "base_uri": "https://localhost:8080/"
        },
        "id": "8foS-TdB1ZFJ",
        "outputId": "7075a737-b739-4a55-c5b1-7cd262947a52"
      },
      "source": [
        "train_bow_text.shape, test_bow_text.shape"
      ],
      "execution_count": 66,
      "outputs": [
        {
          "output_type": "execute_result",
          "data": {
            "text/plain": [
              "((150000, 132), (50000, 107))"
            ]
          },
          "metadata": {
            "tags": []
          },
          "execution_count": 66
        }
      ]
    },
    {
      "cell_type": "code",
      "metadata": {
        "id": "__uo7Xny1ZDd"
      },
      "source": [
        "# word count\n",
        "import collections\n",
        "word_count = collections.Counter()\n",
        "\n",
        "for text in train_text : \n",
        "    word_count.update(text)\n",
        "for text in test_text : \n",
        "    word_count.update(text)    "
      ],
      "execution_count": 67,
      "outputs": []
    },
    {
      "cell_type": "code",
      "metadata": {
        "colab": {
          "base_uri": "https://localhost:8080/"
        },
        "id": "spFUXjzS1ZA4",
        "outputId": "e8996ce5-4e28-4158-95bf-b70425822fc7"
      },
      "source": [
        "word_count.most_common(10)"
      ],
      "execution_count": 68,
      "outputs": [
        {
          "output_type": "execute_result",
          "data": {
            "text/plain": [
              "[(3, 92725),\n",
              " (4, 48120),\n",
              " (5, 40816),\n",
              " (6, 33568),\n",
              " (7, 30107),\n",
              " (10, 24225),\n",
              " (9, 24211),\n",
              " (8, 23664),\n",
              " (11, 20862),\n",
              " (12, 19666)]"
            ]
          },
          "metadata": {
            "tags": []
          },
          "execution_count": 68
        }
      ]
    },
    {
      "cell_type": "code",
      "metadata": {
        "id": "7gyuCPIO1Y-u"
      },
      "source": [
        "# n 번이하로 나온 word를 제거하자\n",
        "def n_cut(texts, n) :\n",
        "    return np.array([[word for word in text if word_count[word] >= n] for text in texts ])"
      ],
      "execution_count": 70,
      "outputs": []
    },
    {
      "cell_type": "code",
      "metadata": {
        "id": "iUxAnQA92YuA"
      },
      "source": [
        "train_cut_text = n_cut(train_text, 20)\n",
        "test_cut_text = n_cut(test_text, 20)"
      ],
      "execution_count": 71,
      "outputs": []
    },
    {
      "cell_type": "code",
      "metadata": {
        "colab": {
          "base_uri": "https://localhost:8080/"
        },
        "id": "p0nmeCrN2YsD",
        "outputId": "c624e5ca-b471-4811-d7ca-3694f3928797"
      },
      "source": [
        "train_cut_text.shape,test_cut_text.shape"
      ],
      "execution_count": 72,
      "outputs": [
        {
          "output_type": "execute_result",
          "data": {
            "text/plain": [
              "((150000,), (50000,))"
            ]
          },
          "metadata": {
            "tags": []
          },
          "execution_count": 72
        }
      ]
    },
    {
      "cell_type": "code",
      "metadata": {
        "id": "eWcD04SD2Ypp"
      },
      "source": [
        "# pad 추가된 bow 형태로 변화하여 width길이를 확인\n",
        "train_cut_bow_text = tf.keras.preprocessing.sequence.pad_sequences(train_cut_text)\n",
        "test_cut_bow_text = tf.keras.preprocessing.sequence.pad_sequences(test_cut_text)"
      ],
      "execution_count": 73,
      "outputs": []
    },
    {
      "cell_type": "code",
      "metadata": {
        "colab": {
          "base_uri": "https://localhost:8080/"
        },
        "id": "90RJ95nl2YnP",
        "outputId": "b8b082b9-9d74-46cf-841f-7a15909b94f0"
      },
      "source": [
        "train_cut_bow_text.shape , test_cut_bow_text.shape"
      ],
      "execution_count": 74,
      "outputs": [
        {
          "output_type": "execute_result",
          "data": {
            "text/plain": [
              "((150000, 132), (50000, 106))"
            ]
          },
          "metadata": {
            "tags": []
          },
          "execution_count": 74
        }
      ]
    },
    {
      "cell_type": "code",
      "metadata": {
        "id": "FvkAXGil2Yk4"
      },
      "source": [
        "train_cut_bow_text2 = tf.keras.preprocessing.sequence.pad_sequences(train_cut_text, maxlen=100) # maxlen 추가\n",
        "test_cut_bow_text2 = tf.keras.preprocessing.sequence.pad_sequences(test_cut_text, maxlen=100)"
      ],
      "execution_count": 75,
      "outputs": []
    },
    {
      "cell_type": "code",
      "metadata": {
        "colab": {
          "base_uri": "https://localhost:8080/"
        },
        "id": "gHxLzcAV4bFB",
        "outputId": "2f00b4bc-f096-4a1f-ac64-765ee58cc10e"
      },
      "source": [
        "train_cut_bow_text2.shape, test_cut_bow_text2.shape"
      ],
      "execution_count": 77,
      "outputs": [
        {
          "output_type": "execute_result",
          "data": {
            "text/plain": [
              "((150000, 100), (50000, 100))"
            ]
          },
          "metadata": {
            "tags": []
          },
          "execution_count": 77
        }
      ]
    },
    {
      "cell_type": "code",
      "metadata": {
        "colab": {
          "base_uri": "https://localhost:8080/"
        },
        "id": "7coHymi44sfT",
        "outputId": "8c6cc38b-4ec8-4a01-bfc0-555cdfe23f85"
      },
      "source": [
        "# sentiment를 ont-hot으로\n",
        "np.unique(train_sentiment), np.unique(test_sentiment)"
      ],
      "execution_count": 78,
      "outputs": [
        {
          "output_type": "execute_result",
          "data": {
            "text/plain": [
              "(array([0, 1]), array([0, 1]))"
            ]
          },
          "metadata": {
            "tags": []
          },
          "execution_count": 78
        }
      ]
    },
    {
      "cell_type": "code",
      "metadata": {
        "id": "ofc08YY74scw"
      },
      "source": [
        "train_onehot_centiment = keras.utils.to_categorical(train_sentiment)\n",
        "test_onehot_centiment = keras.utils.to_categorical(test_sentiment)"
      ],
      "execution_count": 79,
      "outputs": []
    },
    {
      "cell_type": "code",
      "metadata": {
        "colab": {
          "base_uri": "https://localhost:8080/"
        },
        "id": "FXA7PxPW4sbE",
        "outputId": "5de48b5e-0c3d-4192-ccd7-59215b41a16b"
      },
      "source": [
        "train_onehot_centiment[:5]"
      ],
      "execution_count": 81,
      "outputs": [
        {
          "output_type": "execute_result",
          "data": {
            "text/plain": [
              "array([[1., 0.],\n",
              "       [0., 1.],\n",
              "       [1., 0.],\n",
              "       [1., 0.],\n",
              "       [0., 1.]], dtype=float32)"
            ]
          },
          "metadata": {
            "tags": []
          },
          "execution_count": 81
        }
      ]
    },
    {
      "cell_type": "code",
      "metadata": {
        "id": "PXaAWoWo4sY7"
      },
      "source": [
        "raw_labels = ['bad','good']\n",
        "def senti2labels(idx) :\n",
        "    return raw_labels[idx]"
      ],
      "execution_count": 82,
      "outputs": []
    },
    {
      "cell_type": "code",
      "metadata": {
        "id": "wRo8PLOo5JQx"
      },
      "source": [
        "# bow가 들어오면 text 출력\n",
        "def bow2text(bow) :\n",
        "    return sp.decode_ids(bow)"
      ],
      "execution_count": 83,
      "outputs": []
    },
    {
      "cell_type": "code",
      "metadata": {
        "colab": {
          "base_uri": "https://localhost:8080/",
          "height": 35
        },
        "id": "X3aHZ42n5JN5",
        "outputId": "d562ed61-64d5-495c-937c-ab680001dbdb"
      },
      "source": [
        "bow2text(test_text[0])"
      ],
      "execution_count": 84,
      "outputs": [
        {
          "output_type": "execute_result",
          "data": {
            "application/vnd.google.colaboratory.intrinsic+json": {
              "type": "string"
            },
            "text/plain": [
              "'굳 ᄏ'"
            ]
          },
          "metadata": {
            "tags": []
          },
          "execution_count": 84
        }
      ]
    },
    {
      "cell_type": "code",
      "metadata": {
        "colab": {
          "base_uri": "https://localhost:8080/",
          "height": 35
        },
        "id": "o_JLFHNv5JLi",
        "outputId": "1cabc4a9-5b63-408b-fe3b-09abe9d72df5"
      },
      "source": [
        "bow2text(test_text[199])"
      ],
      "execution_count": 85,
      "outputs": [
        {
          "output_type": "execute_result",
          "data": {
            "application/vnd.google.colaboratory.intrinsic+json": {
              "type": "string"
            },
            "text/plain": [
              "'신날 것 없는 애니.'"
            ]
          },
          "metadata": {
            "tags": []
          },
          "execution_count": 85
        }
      ]
    },
    {
      "cell_type": "code",
      "metadata": {
        "colab": {
          "base_uri": "https://localhost:8080/"
        },
        "id": "6XOgnrsf5JJV",
        "outputId": "4fb9688b-e072-4856-e68c-0ebe0b4b71fb"
      },
      "source": [
        "test_text[199]"
      ],
      "execution_count": 86,
      "outputs": [
        {
          "output_type": "execute_result",
          "data": {
            "text/plain": [
              "[480, 466, 113, 83, 559, 3]"
            ]
          },
          "metadata": {
            "tags": []
          },
          "execution_count": 86
        }
      ]
    },
    {
      "cell_type": "code",
      "metadata": {
        "colab": {
          "base_uri": "https://localhost:8080/",
          "height": 265
        },
        "id": "lrEvUH755JG4",
        "outputId": "92b62d7d-efdc-4016-c031-3c2fdea3a327"
      },
      "source": [
        "# 문서 당 가장 많은 횟수로 출현한 word\n",
        "plt.plot(sorted([np.unique(doc, return_counts=True)[1].argmax() for doc in train_text], reverse=True))\n",
        "plt.show()"
      ],
      "execution_count": 87,
      "outputs": [
        {
          "output_type": "display_data",
          "data": {
            "image/png": "[encoded data removed]",
            "text/plain": [
              "<Figure size 432x288 with 1 Axes>"
            ]
          },
          "metadata": {
            "tags": [],
            "needs_background": "light"
          }
        }
      ]
    },
    {
      "cell_type": "markdown",
      "metadata": {
        "id": "wrN_edRkR1BM"
      },
      "source": [
        "\n",
        "\n",
        "## Modeling"
      ]
    },
    {
      "cell_type": "code",
      "metadata": {
        "id": "qVjCzPssR1BN"
      },
      "source": [
        "from keras.layers import Input, Embedding, GRU, Dense\n",
        "from keras.models import Model\n",
        "\n",
        "def seq2seq() :\n",
        "    input_x_bow = Input(shape=(100,))\n",
        "    embedding = Embedding(20000,120)\n",
        "    x = embedding(input_x_bow)\n",
        "    z = GRU(64)(x)\n",
        "\n",
        "    y = Dense(2, activation = 'softmax')(z)\n",
        "\n",
        "    model = Model(input_x_bow, y)\n",
        "    model.compile(\n",
        "        loss = 'categorical_crossentropy',\n",
        "        optimizer = 'adam',\n",
        "        metrics= ['accuracy']\n",
        "    )\n",
        "    return model"
      ],
      "execution_count": 92,
      "outputs": []
    },
    {
      "cell_type": "code",
      "metadata": {
        "id": "szTHMTsT-kCf",
        "outputId": "3fd1ef72-f14c-4d93-ce56-95eccc021501",
        "colab": {
          "base_uri": "https://localhost:8080/"
        }
      },
      "source": [
        "model = seq2seq()\n",
        "model.summary()"
      ],
      "execution_count": 94,
      "outputs": [
        {
          "output_type": "stream",
          "text": [
            "Model: \"model_1\"\n",
            "_________________________________________________________________\n",
            "Layer (type)                 Output Shape              Param #   \n",
            "=================================================================\n",
            "input_3 (InputLayer)         [(None, 100)]             0         \n",
            "_________________________________________________________________\n",
            "embedding_2 (Embedding)      (None, 100, 120)          2400000   \n",
            "_________________________________________________________________\n",
            "gru_1 (GRU)                  (None, 64)                35712     \n",
            "_________________________________________________________________\n",
            "dense_1 (Dense)              (None, 2)                 130       \n",
            "=================================================================\n",
            "Total params: 2,435,842\n",
            "Trainable params: 2,435,842\n",
            "Non-trainable params: 0\n",
            "_________________________________________________________________\n"
          ],
          "name": "stdout"
        }
      ]
    },
    {
      "cell_type": "code",
      "metadata": {
        "id": "ZkmXT2Hv_EVE"
      },
      "source": [
        "hist = model.fit(train_cut_bow_text2, train_onehot_centiment,\n",
        "                 validation_data = (test_cut_bow_text2, test_onehot_centiment),\n",
        "                 epochs = 2,\n",
        "                 verbose = 1)"
      ],
      "execution_count": null,
      "outputs": []
    },
    {
      "cell_type": "code",
      "metadata": {
        "id": "FiogXy5o_ESs"
      },
      "source": [
        ""
      ],
      "execution_count": null,
      "outputs": []
    },
    {
      "cell_type": "code",
      "metadata": {
        "id": "5rPFSuev_EQy"
      },
      "source": [
        ""
      ],
      "execution_count": null,
      "outputs": []
    },
    {
      "cell_type": "code",
      "metadata": {
        "id": "PboYRJQw_EOs"
      },
      "source": [
        ""
      ],
      "execution_count": null,
      "outputs": []
    },
    {
      "cell_type": "code",
      "metadata": {
        "id": "8fhlHseA_EMG"
      },
      "source": [
        ""
      ],
      "execution_count": null,
      "outputs": []
    },
    {
      "cell_type": "code",
      "metadata": {
        "id": "pjkJoGoB_EJq"
      },
      "source": [
        ""
      ],
      "execution_count": null,
      "outputs": []
    },
    {
      "cell_type": "markdown",
      "metadata": {
        "id": "K1Cp035qR1vP"
      },
      "source": [
        "## Import the Library & Load the data"
      ]
    },
    {
      "cell_type": "code",
      "metadata": {
        "id": "0MFcKaMlR1vQ"
      },
      "source": [
        ""
      ],
      "execution_count": null,
      "outputs": []
    },
    {
      "cell_type": "markdown",
      "metadata": {
        "id": "5bVWxiWpR15s"
      },
      "source": [
        "## Import the Library & Load the data"
      ]
    },
    {
      "cell_type": "code",
      "metadata": {
        "id": "OxksqvUAR15s"
      },
      "source": [
        ""
      ],
      "execution_count": null,
      "outputs": []
    },
    {
      "cell_type": "markdown",
      "metadata": {
        "id": "40JPDJsqR182"
      },
      "source": [
        "## Import the Library & Load the data"
      ]
    },
    {
      "cell_type": "code",
      "metadata": {
        "id": "kil6AqUqR182"
      },
      "source": [
        ""
      ],
      "execution_count": null,
      "outputs": []
    },
    {
      "cell_type": "markdown",
      "metadata": {
        "id": "DO9rnk40R2AE"
      },
      "source": [
        "## Import the Library & Load the data"
      ]
    },
    {
      "cell_type": "code",
      "metadata": {
        "id": "ZpKra6InR2AE"
      },
      "source": [
        ""
      ],
      "execution_count": null,
      "outputs": []
    }
  ]
}