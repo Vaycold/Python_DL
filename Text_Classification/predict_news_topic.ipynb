{
  "nbformat": 4,
  "nbformat_minor": 0,
  "metadata": {
    "colab": {
      "name": "predict_news_topic.ipynb",
      "provenance": [],
      "authorship_tag": "ABX9TyPX6Ae7YOBQjBTnRYBgErV+",
      "include_colab_link": true
    },
    "kernelspec": {
      "name": "python3",
      "display_name": "Python 3"
    },
    "language_info": {
      "name": "python"
    }
  },
  "cells": [
    {
      "cell_type": "markdown",
      "metadata": {
        "id": "view-in-github",
        "colab_type": "text"
      },
      "source": [
        "<a href=\"https://colab.research.google.com/github/Vaycold/Python_DL/blob/main/Text_Classification/predict_news_topic.ipynb\" target=\"_parent\"><img src=\"https://colab.research.google.com/assets/colab-badge.svg\" alt=\"Open In Colab\"/></a>"
      ]
    },
    {
      "cell_type": "markdown",
      "metadata": {
        "id": "naUKJU729FEB"
      },
      "source": [
        "## Goal\n",
        "   - Seq2Seq model\n",
        "   - word embedding\n",
        "   - time series data"
      ]
    },
    {
      "cell_type": "code",
      "metadata": {
        "id": "CaoNPKL58_1n"
      },
      "source": [
        ""
      ],
      "execution_count": null,
      "outputs": []
    }
  ]
}