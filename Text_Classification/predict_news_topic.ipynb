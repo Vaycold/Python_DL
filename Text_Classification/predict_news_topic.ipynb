{
  "nbformat": 4,
  "nbformat_minor": 0,
  "metadata": {
    "colab": {
      "name": "predict_news_topic.ipynb",
      "provenance": [],
      "authorship_tag": "ABX9TyOifyVmLYp8YdGVbThOyqwQ",
      "include_colab_link": true
    },
    "kernelspec": {
      "name": "python3",
      "display_name": "Python 3"
    },
    "language_info": {
      "name": "python"
    }
  },
  "cells": [
    {
      "cell_type": "markdown",
      "metadata": {
        "id": "view-in-github",
        "colab_type": "text"
      },
      "source": [
        "<a href=\"https://colab.research.google.com/github/Vaycold/Python_DL/blob/main/Text_Classification/predict_news_topic.ipynb\" target=\"_parent\"><img src=\"https://colab.research.google.com/assets/colab-badge.svg\" alt=\"Open In Colab\"/></a>"
      ]
    },
    {
      "cell_type": "markdown",
      "metadata": {
        "id": "naUKJU729FEB"
      },
      "source": [
        "## Goal\n",
        "   - Seq2Seq model\n",
        "   - word embedding\n",
        "   - time series data\n",
        "### Dataset\n",
        "    - 11288 news article, 46 topic\n",
        "    - every word is replaced by ***integer*** following frequency"
      ]
    },
    {
      "cell_type": "markdown",
      "metadata": {
        "id": "6tiltNmt-s_o"
      },
      "source": [
        "## Import the Library & Load the data"
      ]
    },
    {
      "cell_type": "code",
      "metadata": {
        "id": "CaoNPKL58_1n"
      },
      "source": [
        "import tensorflow as tf\n",
        "from tensorflow import keras\n",
        "from keras.layers import Dense\n",
        "from keras.models import Sequential, Model\n",
        "\n",
        "import pandas as pd\n",
        "import numpy as np\n",
        "import matplotlib.pyplot as plt\n",
        "import seaborn as sns\n",
        "import warnings\n",
        "from IPython.display import Image\n",
        "warnings.filterwarnings('ignore')\n"
      ],
      "execution_count": 2,
      "outputs": []
    },
    {
      "cell_type": "code",
      "metadata": {
        "id": "SByavaWG-00A",
        "outputId": "4e5bb740-0b76-45a2-ef20-efc558119ae5",
        "colab": {
          "base_uri": "https://localhost:8080/"
        }
      },
      "source": [
        "# explore the reuters dataset\n",
        "(train_text, train_topic), (test_text, test_topic) = keras.datasets.reuters.load_data()"
      ],
      "execution_count": 3,
      "outputs": [
        {
          "output_type": "stream",
          "text": [
            "Downloading data from https://storage.googleapis.com/tensorflow/tf-keras-datasets/reuters.npz\n",
            "2113536/2110848 [==============================] - 0s 0us/step\n"
          ],
          "name": "stdout"
        }
      ]
    },
    {
      "cell_type": "code",
      "metadata": {
        "id": "wGDkvCAY-0yC",
        "outputId": "4cd9e950-caf1-44a4-b9e3-82e431ae3057",
        "colab": {
          "base_uri": "https://localhost:8080/"
        }
      },
      "source": [
        "print( 'train_text : ', train_text.shape)\n",
        "print( 'train_topic : ', train_topic.shape, )\n",
        "print( 'test_text : ', test_text.shape)\n",
        "print( 'test_topic : ', test_topic.shape, )"
      ],
      "execution_count": 4,
      "outputs": [
        {
          "output_type": "stream",
          "text": [
            "train_text :  (8982,)\n",
            "train_topic :  (8982,)\n",
            "test_text :  (2246,)\n",
            "test_topic :  (2246,)\n"
          ],
          "name": "stdout"
        }
      ]
    },
    {
      "cell_type": "code",
      "metadata": {
        "id": "DuaNaw65-0rX",
        "outputId": "9ceb989c-0f93-40d2-ac79-53878a452384",
        "colab": {
          "base_uri": "https://localhost:8080/",
          "height": 283
        }
      },
      "source": [
        "# bar plot in order to check each article's length\n",
        "plt.bar(\n",
        "    range(len(train_text)), [len(text) for text in train_text]\n",
        ")"
      ],
      "execution_count": 21,
      "outputs": [
        {
          "output_type": "execute_result",
          "data": {
            "text/plain": [
              "<BarContainer object of 8982 artists>"
            ]
          },
          "metadata": {
            "tags": []
          },
          "execution_count": 21
        },
        {
          "output_type": "display_data",
          "data": {
            "image/png": "[encoded data removed]",
            "text/plain": [
              "<Figure size 432x288 with 1 Axes>"
            ]
          },
          "metadata": {
            "tags": [],
            "needs_background": "light"
          }
        }
      ]
    },
    {
      "cell_type": "code",
      "metadata": {
        "id": "hCz3yzf5B0k2"
      },
      "source": [
        ""
      ],
      "execution_count": null,
      "outputs": []
    },
    {
      "cell_type": "code",
      "metadata": {
        "id": "_GKt9xH5B0id"
      },
      "source": [
        ""
      ],
      "execution_count": null,
      "outputs": []
    },
    {
      "cell_type": "code",
      "metadata": {
        "id": "PqoGx-HOB0gd"
      },
      "source": [
        ""
      ],
      "execution_count": null,
      "outputs": []
    },
    {
      "cell_type": "code",
      "metadata": {
        "id": "AfuRw89fB0eP"
      },
      "source": [
        ""
      ],
      "execution_count": null,
      "outputs": []
    },
    {
      "cell_type": "markdown",
      "metadata": {
        "id": "PIZIqn-s-wZk"
      },
      "source": [
        "## Preprocessing"
      ]
    },
    {
      "cell_type": "code",
      "metadata": {
        "id": "Eitln21N-wZk",
        "outputId": "785edfdd-645f-43b1-bc14-edae3685a388",
        "colab": {
          "base_uri": "https://localhost:8080/"
        }
      },
      "source": [
        "len([word for text in train_text for word in text])"
      ],
      "execution_count": 22,
      "outputs": [
        {
          "output_type": "execute_result",
          "data": {
            "text/plain": [
              "1307239"
            ]
          },
          "metadata": {
            "tags": []
          },
          "execution_count": 22
        }
      ]
    },
    {
      "cell_type": "code",
      "metadata": {
        "id": "ttdJxz4kaaGy",
        "outputId": "8a680e20-109e-4e27-c054-e6a36f9ded75",
        "colab": {
          "base_uri": "https://localhost:8080/"
        }
      },
      "source": [
        "len(set([word for text in train_text for word in text]))"
      ],
      "execution_count": 23,
      "outputs": [
        {
          "output_type": "execute_result",
          "data": {
            "text/plain": [
              "28138"
            ]
          },
          "metadata": {
            "tags": []
          },
          "execution_count": 23
        }
      ]
    },
    {
      "cell_type": "code",
      "metadata": {
        "id": "CrGs7Dl7aaEj"
      },
      "source": [
        "all_words = set([word for text in train_text for word in text]) | set([word for text in test_text for word in text])"
      ],
      "execution_count": 24,
      "outputs": []
    },
    {
      "cell_type": "code",
      "metadata": {
        "id": "35xgs3wkaaCK",
        "outputId": "f49f14a8-38f8-41b6-b662-f0e85772563a",
        "colab": {
          "base_uri": "https://localhost:8080/"
        }
      },
      "source": [
        "len(all_words) # 30980"
      ],
      "execution_count": 25,
      "outputs": [
        {
          "output_type": "execute_result",
          "data": {
            "text/plain": [
              "30980"
            ]
          },
          "metadata": {
            "tags": []
          },
          "execution_count": 25
        }
      ]
    },
    {
      "cell_type": "code",
      "metadata": {
        "id": "KJN4x97qaZ_y"
      },
      "source": [
        "# Bag of words\n",
        "train_bow_text = keras.preprocessing.sequence.pad_sequences(train_text)\n",
        "train_bow_text.shape #8982 row, 2376 column \n",
        "# most will be filled with 0\n",
        "\n",
        "test_bow_text = keras.preprocessing.sequence.pad_sequences(test_text)"
      ],
      "execution_count": 27,
      "outputs": []
    },
    {
      "cell_type": "code",
      "metadata": {
        "id": "1kxEkDkOcIcB",
        "outputId": "9b563761-8f0b-4c52-dd6f-524c6db30e8f",
        "colab": {
          "base_uri": "https://localhost:8080/"
        }
      },
      "source": [
        "train_bow_text.shape, test_bow_text.shape # Difference with train, test size"
      ],
      "execution_count": 29,
      "outputs": [
        {
          "output_type": "execute_result",
          "data": {
            "text/plain": [
              "((8982, 2376), (2246, 1032))"
            ]
          },
          "metadata": {
            "tags": []
          },
          "execution_count": 29
        }
      ]
    },
    {
      "cell_type": "code",
      "metadata": {
        "id": "gmzTnyzlcIZ1",
        "outputId": "47a55c31-efe4-44ef-e141-145e561f15a0",
        "colab": {
          "base_uri": "https://localhost:8080/"
        }
      },
      "source": [
        "# word count \n",
        "import collections\n",
        "word_count = collections.Counter()\n",
        "for text in train_text :\n",
        "    word_count.update(text)\n",
        "for text in test_text :\n",
        "    word_count.update(text)\n",
        "\n",
        "word_count.most_common(10)"
      ],
      "execution_count": 31,
      "outputs": [
        {
          "output_type": "execute_result",
          "data": {
            "text/plain": [
              "[(4, 82723),\n",
              " (5, 42393),\n",
              " (6, 40350),\n",
              " (7, 33157),\n",
              " (8, 29978),\n",
              " (9, 29956),\n",
              " (10, 29581),\n",
              " (11, 20141),\n",
              " (12, 16668),\n",
              " (13, 15224)]"
            ]
          },
          "metadata": {
            "tags": []
          },
          "execution_count": 31
        }
      ]
    },
    {
      "cell_type": "code",
      "metadata": {
        "id": "NgWTpPnacIXa"
      },
      "source": [
        "# Using word count, Delete the word that is under 'n'\n",
        "def n_cut(texts, n) :\n",
        "    return np.array([[word for word in text if word_count[word] >= n ] for text in texts])"
      ],
      "execution_count": 32,
      "outputs": []
    },
    {
      "cell_type": "code",
      "metadata": {
        "id": "b2E0KQ7fcIVI"
      },
      "source": [
        "train_cut_text = n_cut(train_text, 20)\n",
        "test_cut_text = n_cut(test_text, 20)"
      ],
      "execution_count": 33,
      "outputs": []
    },
    {
      "cell_type": "code",
      "metadata": {
        "id": "izVKLvCHcISp",
        "outputId": "6a3ca194-516c-45af-faba-6d8e7110813d",
        "colab": {
          "base_uri": "https://localhost:8080/"
        }
      },
      "source": [
        "train_cut_text.shape, test_cut_text.shape"
      ],
      "execution_count": 34,
      "outputs": [
        {
          "output_type": "execute_result",
          "data": {
            "text/plain": [
              "((8982,), (2246,))"
            ]
          },
          "metadata": {
            "tags": []
          },
          "execution_count": 34
        }
      ]
    },
    {
      "cell_type": "code",
      "metadata": {
        "id": "vNxsub8jff5w",
        "outputId": "e08ac841-529d-4bac-b615-9112c7ca4167",
        "colab": {
          "base_uri": "https://localhost:8080/"
        }
      },
      "source": [
        "train_cut_bow_text = keras.preprocessing.sequence.pad_sequences(train_cut_text)\n",
        "test_cut_bow_text = keras.preprocessing.sequence.pad_sequences(test_cut_text)\n",
        "train_cut_bow_text.shape, test_cut_bow_text.shape"
      ],
      "execution_count": 35,
      "outputs": [
        {
          "output_type": "execute_result",
          "data": {
            "text/plain": [
              "((8982, 2266), (2246, 995))"
            ]
          },
          "metadata": {
            "tags": []
          },
          "execution_count": 35
        }
      ]
    },
    {
      "cell_type": "code",
      "metadata": {
        "id": "7AqgZkrkff3v",
        "outputId": "6a150500-aad3-4dff-b6f2-af797ea80a58",
        "colab": {
          "base_uri": "https://localhost:8080/"
        }
      },
      "source": [
        "# Set the limit length\n",
        "train_cut_bow_text2 = tf.keras.preprocessing.sequence.pad_sequences(train_text, maxlen = 200)\n",
        "test_cut_bow_text2 = tf.keras.preprocessing.sequence.pad_sequences(test_text, maxlen = 200)\n",
        "\n",
        "train_cut_bow_text2.shape, test_cut_bow_text2.shape"
      ],
      "execution_count": 36,
      "outputs": [
        {
          "output_type": "execute_result",
          "data": {
            "text/plain": [
              "((8982, 200), (2246, 200))"
            ]
          },
          "metadata": {
            "tags": []
          },
          "execution_count": 36
        }
      ]
    },
    {
      "cell_type": "code",
      "metadata": {
        "id": "Y24MwlwSff1x",
        "outputId": "5f13c7b3-ecfc-4abd-ba0c-acb6c6d3c72d",
        "colab": {
          "base_uri": "https://localhost:8080/"
        }
      },
      "source": [
        "# One-hot encoding topic\n",
        "\n",
        "train_onehot_topic = keras.utils.to_categorical(train_topic)\n",
        "test_onehot_topic = keras.utils.to_categorical(test_topic)\n",
        "\n",
        "train_onehot_topic.shape, test_onehot_topic.shape"
      ],
      "execution_count": 37,
      "outputs": [
        {
          "output_type": "execute_result",
          "data": {
            "text/plain": [
              "((8982, 46), (2246, 46))"
            ]
          },
          "metadata": {
            "tags": []
          },
          "execution_count": 37
        }
      ]
    },
    {
      "cell_type": "code",
      "metadata": {
        "id": "pCHaVgSQffzX"
      },
      "source": [
        "raw_labels = ['cocoa','grain','veg-oil','earn','acq','wheat','copper','housing','money-supply',\n",
        "   'coffee','sugar','trade','reserves','ship','cotton','carcass','crude','nat-gas',\n",
        "   'cpi','money-fx','interest','gnp','meal-feed','alum','oilseed','gold','tin',\n",
        "   'strategic-metal','livestock','retail','ipi','iron-steel','rubber','heat','jobs',\n",
        "   'lei','bop','zinc','orange','pet-chem','dlr','gas','silver','wpi','hog','lead']"
      ],
      "execution_count": 38,
      "outputs": []
    },
    {
      "cell_type": "code",
      "metadata": {
        "id": "gSDgx0HaffxR"
      },
      "source": [
        "def topic2label(idx) :\n",
        "    return raw_labels[idx]"
      ],
      "execution_count": 39,
      "outputs": []
    },
    {
      "cell_type": "code",
      "metadata": {
        "id": "gBP1Hq37o-uD",
        "outputId": "fba27551-8381-468a-8aee-a311c17cd54e",
        "colab": {
          "base_uri": "https://localhost:8080/"
        }
      },
      "source": [
        "print(topic2label(42))"
      ],
      "execution_count": 41,
      "outputs": [
        {
          "output_type": "stream",
          "text": [
            "silver\n"
          ],
          "name": "stdout"
        }
      ]
    },
    {
      "cell_type": "markdown",
      "metadata": {
        "id": "yuHEInLx-wev"
      },
      "source": [
        "## Visualizing"
      ]
    },
    {
      "cell_type": "code",
      "metadata": {
        "id": "qWbGiPjl-wew",
        "outputId": "26815b53-4e3a-44cf-93c7-d5895db55467",
        "colab": {
          "base_uri": "https://localhost:8080/"
        }
      },
      "source": [
        "train_bow_text.shape"
      ],
      "execution_count": 43,
      "outputs": [
        {
          "output_type": "execute_result",
          "data": {
            "text/plain": [
              "(8982, 2376)"
            ]
          },
          "metadata": {
            "tags": []
          },
          "execution_count": 43
        }
      ]
    },
    {
      "cell_type": "code",
      "metadata": {
        "id": "KABHEAfQqJyc",
        "outputId": "ab7a179e-a925-4cd6-ddcc-0a4c64489a55",
        "colab": {
          "base_uri": "https://localhost:8080/"
        }
      },
      "source": [
        "train_text.shape"
      ],
      "execution_count": 47,
      "outputs": [
        {
          "output_type": "execute_result",
          "data": {
            "text/plain": [
              "(8982,)"
            ]
          },
          "metadata": {
            "tags": []
          },
          "execution_count": 47
        }
      ]
    },
    {
      "cell_type": "code",
      "metadata": {
        "id": "wacdJzgFqJvV",
        "outputId": "23a6ba7e-8d3d-4560-feb6-cc215168ef4d",
        "colab": {
          "base_uri": "https://localhost:8080/",
          "height": 265
        }
      },
      "source": [
        "plt.hist( [ len(s) for s in train_text], bins=100)\n",
        "plt.show()"
      ],
      "execution_count": 50,
      "outputs": [
        {
          "output_type": "display_data",
          "data": {
            "image/png": "[encoded data removed]",
            "text/plain": [
              "<Figure size 432x288 with 1 Axes>"
            ]
          },
          "metadata": {
            "tags": [],
            "needs_background": "light"
          }
        }
      ]
    },
    {
      "cell_type": "code",
      "metadata": {
        "id": "DRBBs3g_qJs1",
        "outputId": "2270dd48-aebb-4267-a41e-062504853972",
        "colab": {
          "base_uri": "https://localhost:8080/",
          "height": 268
        }
      },
      "source": [
        "plt.hist([len(s) for s in train_cut_text] , bins=100)\n",
        "plt.show()"
      ],
      "execution_count": 52,
      "outputs": [
        {
          "output_type": "display_data",
          "data": {
            "image/png": "[encoded data removed]",
            "text/plain": [
              "<Figure size 432x288 with 1 Axes>"
            ]
          },
          "metadata": {
            "tags": [],
            "needs_background": "light"
          }
        }
      ]
    },
    {
      "cell_type": "code",
      "metadata": {
        "id": "P_LmXKAhqJqb",
        "outputId": "d0992f24-de76-4b02-8a3c-f5b782cf0f02",
        "colab": {
          "base_uri": "https://localhost:8080/"
        }
      },
      "source": [
        "# Check the label\n",
        "import collections\n",
        "# np.unique(train_topic)\n",
        "collections.Counter(train_topic)"
      ],
      "execution_count": 62,
      "outputs": [
        {
          "output_type": "execute_result",
          "data": {
            "text/plain": [
              "Counter({0: 55,\n",
              "         1: 432,\n",
              "         2: 74,\n",
              "         3: 3159,\n",
              "         4: 1949,\n",
              "         5: 17,\n",
              "         6: 48,\n",
              "         7: 16,\n",
              "         8: 139,\n",
              "         9: 101,\n",
              "         10: 124,\n",
              "         11: 390,\n",
              "         12: 49,\n",
              "         13: 172,\n",
              "         14: 26,\n",
              "         15: 20,\n",
              "         16: 444,\n",
              "         17: 39,\n",
              "         18: 66,\n",
              "         19: 549,\n",
              "         20: 269,\n",
              "         21: 100,\n",
              "         22: 15,\n",
              "         23: 41,\n",
              "         24: 62,\n",
              "         25: 92,\n",
              "         26: 24,\n",
              "         27: 15,\n",
              "         28: 48,\n",
              "         29: 19,\n",
              "         30: 45,\n",
              "         31: 39,\n",
              "         32: 32,\n",
              "         33: 11,\n",
              "         34: 50,\n",
              "         35: 10,\n",
              "         36: 49,\n",
              "         37: 19,\n",
              "         38: 19,\n",
              "         39: 24,\n",
              "         40: 36,\n",
              "         41: 30,\n",
              "         42: 13,\n",
              "         43: 21,\n",
              "         44: 12,\n",
              "         45: 18})"
            ]
          },
          "metadata": {
            "tags": []
          },
          "execution_count": 62
        }
      ]
    },
    {
      "cell_type": "code",
      "metadata": {
        "id": "CeP59br7qJn5",
        "outputId": "d4581895-4fb6-4642-934f-be6232462f22",
        "colab": {
          "base_uri": "https://localhost:8080/"
        }
      },
      "source": [
        "sorted(collections.Counter(train_topic).items())[:10] # sorted -> change dictionary to list"
      ],
      "execution_count": 71,
      "outputs": [
        {
          "output_type": "execute_result",
          "data": {
            "text/plain": [
              "[(0, 55),\n",
              " (1, 432),\n",
              " (2, 74),\n",
              " (3, 3159),\n",
              " (4, 1949),\n",
              " (5, 17),\n",
              " (6, 48),\n",
              " (7, 16),\n",
              " (8, 139),\n",
              " (9, 101)]"
            ]
          },
          "metadata": {
            "tags": []
          },
          "execution_count": 71
        }
      ]
    },
    {
      "cell_type": "code",
      "metadata": {
        "id": "rH908nz7qJlt",
        "outputId": "ec83221d-91c7-440c-9655-a6833886800a",
        "colab": {
          "base_uri": "https://localhost:8080/"
        }
      },
      "source": [
        "list(map(lambda x : x[1], sorted(collections.Counter(train_topic).items())))[:10]"
      ],
      "execution_count": 74,
      "outputs": [
        {
          "output_type": "execute_result",
          "data": {
            "text/plain": [
              "[55, 432, 74, 3159, 1949, 17, 48, 16, 139, 101]"
            ]
          },
          "metadata": {
            "tags": []
          },
          "execution_count": 74
        }
      ]
    },
    {
      "cell_type": "code",
      "metadata": {
        "id": "s8use7GEqJja",
        "outputId": "6b9d34e0-ae2c-4b8c-85d5-7902296ec83d",
        "colab": {
          "base_uri": "https://localhost:8080/"
        }
      },
      "source": [
        "ct = []\n",
        "for k,v in sorted(collections.Counter(train_topic).items()) :\n",
        "    ct.append(v)\n",
        "ct[:10]"
      ],
      "execution_count": 81,
      "outputs": [
        {
          "output_type": "execute_result",
          "data": {
            "text/plain": [
              "[55, 432, 74, 3159, 1949, 17, 48, 16, 139, 101]"
            ]
          },
          "metadata": {
            "tags": []
          },
          "execution_count": 81
        }
      ]
    },
    {
      "cell_type": "code",
      "metadata": {
        "id": "PAfu8VLbqJg7",
        "outputId": "9c242504-932a-4d7c-a265-916034b72a95",
        "colab": {
          "base_uri": "https://localhost:8080/",
          "height": 428
        }
      },
      "source": [
        "plt.figure(figsize=(10,7))\n",
        "plt.bar(\n",
        "    np.unique(train_topic), ct\n",
        ")\n",
        "plt.show()"
      ],
      "execution_count": 83,
      "outputs": [
        {
          "output_type": "display_data",
          "data": {
            "image/png": "[encoded data removed]",
            "text/plain": [
              "<Figure size 720x504 with 1 Axes>"
            ]
          },
          "metadata": {
            "tags": [],
            "needs_background": "light"
          }
        }
      ]
    },
    {
      "cell_type": "code",
      "metadata": {
        "id": "-wT9Q02IwC23"
      },
      "source": [
        ""
      ],
      "execution_count": null,
      "outputs": []
    },
    {
      "cell_type": "code",
      "metadata": {
        "id": "3OmE88jswC0O"
      },
      "source": [
        ""
      ],
      "execution_count": null,
      "outputs": []
    },
    {
      "cell_type": "code",
      "metadata": {
        "id": "p1-32sQNwCxy"
      },
      "source": [
        ""
      ],
      "execution_count": null,
      "outputs": []
    },
    {
      "cell_type": "code",
      "metadata": {
        "id": "AuqMy97GwCvX"
      },
      "source": [
        ""
      ],
      "execution_count": null,
      "outputs": []
    },
    {
      "cell_type": "code",
      "metadata": {
        "id": "EZX9MZnHwCtB"
      },
      "source": [
        ""
      ],
      "execution_count": null,
      "outputs": []
    },
    {
      "cell_type": "code",
      "metadata": {
        "id": "sKlpbYzkwCqH"
      },
      "source": [
        ""
      ],
      "execution_count": null,
      "outputs": []
    },
    {
      "cell_type": "code",
      "metadata": {
        "id": "gLUR7XbEwCmX"
      },
      "source": [
        ""
      ],
      "execution_count": null,
      "outputs": []
    },
    {
      "cell_type": "markdown",
      "metadata": {
        "id": "8Pz0wcc0-wiR"
      },
      "source": [
        "## Pass"
      ]
    },
    {
      "cell_type": "code",
      "metadata": {
        "id": "xWfp3mJ0-wiR"
      },
      "source": [
        "    "
      ],
      "execution_count": null,
      "outputs": []
    }
  ]
}