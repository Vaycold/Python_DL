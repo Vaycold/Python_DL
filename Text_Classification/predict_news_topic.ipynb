{
  "nbformat": 4,
  "nbformat_minor": 0,
  "metadata": {
    "colab": {
      "name": "predict_news_topic.ipynb",
      "provenance": [],
      "authorship_tag": "ABX9TyO+yjUchk976QTuhbnqvKUn",
      "include_colab_link": true
    },
    "kernelspec": {
      "name": "python3",
      "display_name": "Python 3"
    },
    "language_info": {
      "name": "python"
    }
  },
  "cells": [
    {
      "cell_type": "markdown",
      "metadata": {
        "id": "view-in-github",
        "colab_type": "text"
      },
      "source": [
        "<a href=\"https://colab.research.google.com/github/Vaycold/Python_DL/blob/main/Text_Classification/predict_news_topic.ipynb\" target=\"_parent\"><img src=\"https://colab.research.google.com/assets/colab-badge.svg\" alt=\"Open In Colab\"/></a>"
      ]
    },
    {
      "cell_type": "markdown",
      "metadata": {
        "id": "naUKJU729FEB"
      },
      "source": [
        "## Goal\n",
        "   - Seq2Seq model\n",
        "   - word embedding\n",
        "   - time series data\n",
        "### Dataset\n",
        "    - 11288 news article, 46 topic\n",
        "    - every word is replaced by ***integer*** following frequency"
      ]
    },
    {
      "cell_type": "markdown",
      "metadata": {
        "id": "6tiltNmt-s_o"
      },
      "source": [
        "## Import the Library & Load the data"
      ]
    },
    {
      "cell_type": "code",
      "metadata": {
        "id": "CaoNPKL58_1n"
      },
      "source": [
        "import tensorflow as tf\n",
        "from tensorflow import keras\n",
        "from keras.layers import Dense\n",
        "from keras.models import Sequential, Model\n",
        "\n",
        "import pandas as pd\n",
        "import numpy as np\n",
        "import matplotlib.pyplot as plt\n",
        "import seaborn as sns\n",
        "import warnings\n",
        "from IPython.display import Image\n",
        "warnings.filterwarnings('ignore')\n"
      ],
      "execution_count": 1,
      "outputs": []
    },
    {
      "cell_type": "code",
      "metadata": {
        "id": "SByavaWG-00A",
        "colab": {
          "base_uri": "https://localhost:8080/"
        },
        "outputId": "f8f02d5f-79e9-46b4-f4f0-382afc38c7d4"
      },
      "source": [
        "# explore the reuters dataset\n",
        "(train_text, train_topic), (test_text, test_topic) = keras.datasets.reuters.load_data()"
      ],
      "execution_count": 2,
      "outputs": [
        {
          "output_type": "stream",
          "text": [
            "Downloading data from https://storage.googleapis.com/tensorflow/tf-keras-datasets/reuters.npz\n",
            "2113536/2110848 [==============================] - 0s 0us/step\n"
          ],
          "name": "stdout"
        }
      ]
    },
    {
      "cell_type": "code",
      "metadata": {
        "id": "wGDkvCAY-0yC",
        "colab": {
          "base_uri": "https://localhost:8080/"
        },
        "outputId": "028f3abd-4869-4fc8-c0da-2fe3e4046395"
      },
      "source": [
        "print( 'train_text : ', train_text.shape)\n",
        "print( 'train_topic : ', train_topic.shape, )\n",
        "print( 'test_text : ', test_text.shape)\n",
        "print( 'test_topic : ', test_topic.shape, )"
      ],
      "execution_count": 3,
      "outputs": [
        {
          "output_type": "stream",
          "text": [
            "train_text :  (8982,)\n",
            "train_topic :  (8982,)\n",
            "test_text :  (2246,)\n",
            "test_topic :  (2246,)\n"
          ],
          "name": "stdout"
        }
      ]
    },
    {
      "cell_type": "code",
      "metadata": {
        "id": "DuaNaw65-0rX",
        "colab": {
          "base_uri": "https://localhost:8080/",
          "height": 283
        },
        "outputId": "e6338c76-3f9a-4b98-8aec-a15e4515ff1a"
      },
      "source": [
        "# bar plot in order to check each article's length\n",
        "plt.bar(\n",
        "    range(len(train_text)), [len(text) for text in train_text]\n",
        ")"
      ],
      "execution_count": 4,
      "outputs": [
        {
          "output_type": "execute_result",
          "data": {
            "text/plain": [
              "<BarContainer object of 8982 artists>"
            ]
          },
          "metadata": {
            "tags": []
          },
          "execution_count": 4
        },
        {
          "output_type": "display_data",
          "data": {
            "image/png": "[encoded data removed]",
            "text/plain": [
              "<Figure size 432x288 with 1 Axes>"
            ]
          },
          "metadata": {
            "tags": [],
            "needs_background": "light"
          }
        }
      ]
    },
    {
      "cell_type": "markdown",
      "metadata": {
        "id": "PIZIqn-s-wZk"
      },
      "source": [
        "## Preprocessing"
      ]
    },
    {
      "cell_type": "code",
      "metadata": {
        "id": "Eitln21N-wZk",
        "colab": {
          "base_uri": "https://localhost:8080/"
        },
        "outputId": "93cd00f5-1fe9-45c8-b3ae-255af01f5398"
      },
      "source": [
        "len([word for text in train_text for word in text])"
      ],
      "execution_count": 5,
      "outputs": [
        {
          "output_type": "execute_result",
          "data": {
            "text/plain": [
              "1307239"
            ]
          },
          "metadata": {
            "tags": []
          },
          "execution_count": 5
        }
      ]
    },
    {
      "cell_type": "code",
      "metadata": {
        "id": "ttdJxz4kaaGy",
        "colab": {
          "base_uri": "https://localhost:8080/"
        },
        "outputId": "f2a60ca6-1fb4-4e59-91a3-dab51675d5e0"
      },
      "source": [
        "len(set([word for text in train_text for word in text]))"
      ],
      "execution_count": 6,
      "outputs": [
        {
          "output_type": "execute_result",
          "data": {
            "text/plain": [
              "28138"
            ]
          },
          "metadata": {
            "tags": []
          },
          "execution_count": 6
        }
      ]
    },
    {
      "cell_type": "code",
      "metadata": {
        "id": "CrGs7Dl7aaEj"
      },
      "source": [
        "all_words = set([word for text in train_text for word in text]) | set([word for text in test_text for word in text])"
      ],
      "execution_count": 7,
      "outputs": []
    },
    {
      "cell_type": "code",
      "metadata": {
        "id": "35xgs3wkaaCK",
        "colab": {
          "base_uri": "https://localhost:8080/"
        },
        "outputId": "579ea245-03b9-4620-c812-4ae98be4c8bc"
      },
      "source": [
        "len(all_words) # 30980"
      ],
      "execution_count": 8,
      "outputs": [
        {
          "output_type": "execute_result",
          "data": {
            "text/plain": [
              "30980"
            ]
          },
          "metadata": {
            "tags": []
          },
          "execution_count": 8
        }
      ]
    },
    {
      "cell_type": "code",
      "metadata": {
        "id": "KJN4x97qaZ_y"
      },
      "source": [
        "# Bag of words\n",
        "train_bow_text = keras.preprocessing.sequence.pad_sequences(train_text)\n",
        "train_bow_text.shape #8982 row, 2376 column \n",
        "# most will be filled with 0\n",
        "\n",
        "test_bow_text = keras.preprocessing.sequence.pad_sequences(test_text)"
      ],
      "execution_count": 9,
      "outputs": []
    },
    {
      "cell_type": "code",
      "metadata": {
        "id": "1kxEkDkOcIcB",
        "colab": {
          "base_uri": "https://localhost:8080/"
        },
        "outputId": "f08f27d6-c579-4e78-d11e-ebf6f9d18990"
      },
      "source": [
        "train_bow_text.shape, test_bow_text.shape # Difference with train, test size"
      ],
      "execution_count": 10,
      "outputs": [
        {
          "output_type": "execute_result",
          "data": {
            "text/plain": [
              "((8982, 2376), (2246, 1032))"
            ]
          },
          "metadata": {
            "tags": []
          },
          "execution_count": 10
        }
      ]
    },
    {
      "cell_type": "code",
      "metadata": {
        "id": "gmzTnyzlcIZ1",
        "colab": {
          "base_uri": "https://localhost:8080/"
        },
        "outputId": "076dab58-07ae-4f17-803b-fb9add5002ea"
      },
      "source": [
        "# word count \n",
        "import collections\n",
        "word_count = collections.Counter()\n",
        "for text in train_text :\n",
        "    word_count.update(text)\n",
        "for text in test_text :\n",
        "    word_count.update(text)\n",
        "\n",
        "word_count.most_common(10)"
      ],
      "execution_count": 11,
      "outputs": [
        {
          "output_type": "execute_result",
          "data": {
            "text/plain": [
              "[(4, 82723),\n",
              " (5, 42393),\n",
              " (6, 40350),\n",
              " (7, 33157),\n",
              " (8, 29978),\n",
              " (9, 29956),\n",
              " (10, 29581),\n",
              " (11, 20141),\n",
              " (12, 16668),\n",
              " (13, 15224)]"
            ]
          },
          "metadata": {
            "tags": []
          },
          "execution_count": 11
        }
      ]
    },
    {
      "cell_type": "code",
      "metadata": {
        "id": "NgWTpPnacIXa"
      },
      "source": [
        "# Using word count, Delete the word that is under 'n'\n",
        "def n_cut(texts, n) :\n",
        "    return np.array([[word for word in text if word_count[word] >= n ] for text in texts])"
      ],
      "execution_count": 12,
      "outputs": []
    },
    {
      "cell_type": "code",
      "metadata": {
        "id": "b2E0KQ7fcIVI"
      },
      "source": [
        "train_cut_text = n_cut(train_text, 20)\n",
        "test_cut_text = n_cut(test_text, 20)"
      ],
      "execution_count": 13,
      "outputs": []
    },
    {
      "cell_type": "code",
      "metadata": {
        "id": "izVKLvCHcISp",
        "colab": {
          "base_uri": "https://localhost:8080/"
        },
        "outputId": "ee27ce5f-186d-4ff0-9142-b5bdf9e1a8b6"
      },
      "source": [
        "train_cut_text.shape, test_cut_text.shape"
      ],
      "execution_count": 14,
      "outputs": [
        {
          "output_type": "execute_result",
          "data": {
            "text/plain": [
              "((8982,), (2246,))"
            ]
          },
          "metadata": {
            "tags": []
          },
          "execution_count": 14
        }
      ]
    },
    {
      "cell_type": "code",
      "metadata": {
        "id": "vNxsub8jff5w",
        "colab": {
          "base_uri": "https://localhost:8080/"
        },
        "outputId": "b81ad0ff-a43f-494a-db3a-9d9628bba487"
      },
      "source": [
        "train_cut_bow_text = keras.preprocessing.sequence.pad_sequences(train_cut_text)\n",
        "test_cut_bow_text = keras.preprocessing.sequence.pad_sequences(test_cut_text)\n",
        "train_cut_bow_text.shape, test_cut_bow_text.shape"
      ],
      "execution_count": 15,
      "outputs": [
        {
          "output_type": "execute_result",
          "data": {
            "text/plain": [
              "((8982, 2266), (2246, 995))"
            ]
          },
          "metadata": {
            "tags": []
          },
          "execution_count": 15
        }
      ]
    },
    {
      "cell_type": "code",
      "metadata": {
        "id": "7AqgZkrkff3v",
        "colab": {
          "base_uri": "https://localhost:8080/"
        },
        "outputId": "bfd9bff8-8e2c-4043-bc5c-5ac6c759f6de"
      },
      "source": [
        "# Set the limit length\n",
        "train_cut_bow_text2 = tf.keras.preprocessing.sequence.pad_sequences(train_text, maxlen = 200)\n",
        "test_cut_bow_text2 = tf.keras.preprocessing.sequence.pad_sequences(test_text, maxlen = 200)\n",
        "\n",
        "train_cut_bow_text2.shape, test_cut_bow_text2.shape"
      ],
      "execution_count": 16,
      "outputs": [
        {
          "output_type": "execute_result",
          "data": {
            "text/plain": [
              "((8982, 200), (2246, 200))"
            ]
          },
          "metadata": {
            "tags": []
          },
          "execution_count": 16
        }
      ]
    },
    {
      "cell_type": "code",
      "metadata": {
        "id": "Y24MwlwSff1x",
        "colab": {
          "base_uri": "https://localhost:8080/"
        },
        "outputId": "03bd56af-13a6-4ee7-9619-d609a0b43fb6"
      },
      "source": [
        "# One-hot encoding topic\n",
        "\n",
        "train_onehot_topic = keras.utils.to_categorical(train_topic)\n",
        "test_onehot_topic = keras.utils.to_categorical(test_topic)\n",
        "\n",
        "train_onehot_topic.shape, test_onehot_topic.shape"
      ],
      "execution_count": 17,
      "outputs": [
        {
          "output_type": "execute_result",
          "data": {
            "text/plain": [
              "((8982, 46), (2246, 46))"
            ]
          },
          "metadata": {
            "tags": []
          },
          "execution_count": 17
        }
      ]
    },
    {
      "cell_type": "code",
      "metadata": {
        "id": "pCHaVgSQffzX"
      },
      "source": [
        "raw_labels = ['cocoa','grain','veg-oil','earn','acq','wheat','copper','housing','money-supply',\n",
        "   'coffee','sugar','trade','reserves','ship','cotton','carcass','crude','nat-gas',\n",
        "   'cpi','money-fx','interest','gnp','meal-feed','alum','oilseed','gold','tin',\n",
        "   'strategic-metal','livestock','retail','ipi','iron-steel','rubber','heat','jobs',\n",
        "   'lei','bop','zinc','orange','pet-chem','dlr','gas','silver','wpi','hog','lead']"
      ],
      "execution_count": 18,
      "outputs": []
    },
    {
      "cell_type": "code",
      "metadata": {
        "id": "gSDgx0HaffxR"
      },
      "source": [
        "def topic2label(idx) :\n",
        "    return raw_labels[idx]"
      ],
      "execution_count": 19,
      "outputs": []
    },
    {
      "cell_type": "code",
      "metadata": {
        "id": "gBP1Hq37o-uD",
        "colab": {
          "base_uri": "https://localhost:8080/"
        },
        "outputId": "6c698e7d-ce87-4734-bf7c-3da76a1aa829"
      },
      "source": [
        "print(topic2label(42))"
      ],
      "execution_count": 20,
      "outputs": [
        {
          "output_type": "stream",
          "text": [
            "silver\n"
          ],
          "name": "stdout"
        }
      ]
    },
    {
      "cell_type": "markdown",
      "metadata": {
        "id": "yuHEInLx-wev"
      },
      "source": [
        "## Visualizing"
      ]
    },
    {
      "cell_type": "code",
      "metadata": {
        "id": "qWbGiPjl-wew",
        "colab": {
          "base_uri": "https://localhost:8080/"
        },
        "outputId": "ae60993b-613a-4e14-cdc3-6e2386adac97"
      },
      "source": [
        "train_bow_text.shape"
      ],
      "execution_count": 21,
      "outputs": [
        {
          "output_type": "execute_result",
          "data": {
            "text/plain": [
              "(8982, 2376)"
            ]
          },
          "metadata": {
            "tags": []
          },
          "execution_count": 21
        }
      ]
    },
    {
      "cell_type": "code",
      "metadata": {
        "id": "KABHEAfQqJyc",
        "colab": {
          "base_uri": "https://localhost:8080/"
        },
        "outputId": "34b2474e-07c7-441e-b38d-e65842181366"
      },
      "source": [
        "train_text.shape"
      ],
      "execution_count": 22,
      "outputs": [
        {
          "output_type": "execute_result",
          "data": {
            "text/plain": [
              "(8982,)"
            ]
          },
          "metadata": {
            "tags": []
          },
          "execution_count": 22
        }
      ]
    },
    {
      "cell_type": "code",
      "metadata": {
        "id": "wacdJzgFqJvV",
        "colab": {
          "base_uri": "https://localhost:8080/",
          "height": 265
        },
        "outputId": "95e90b89-937d-4bac-e09e-64faa3c0508e"
      },
      "source": [
        "plt.hist( [ len(s) for s in train_text], bins=100)\n",
        "plt.show()"
      ],
      "execution_count": 23,
      "outputs": [
        {
          "output_type": "display_data",
          "data": {
            "image/png": "[encoded data removed]",
            "text/plain": [
              "<Figure size 432x288 with 1 Axes>"
            ]
          },
          "metadata": {
            "tags": [],
            "needs_background": "light"
          }
        }
      ]
    },
    {
      "cell_type": "code",
      "metadata": {
        "id": "DRBBs3g_qJs1",
        "colab": {
          "base_uri": "https://localhost:8080/",
          "height": 268
        },
        "outputId": "d5bfc085-5ab7-414f-c61e-26710d0e29bc"
      },
      "source": [
        "plt.hist([len(s) for s in train_cut_text] , bins=100)\n",
        "plt.show()"
      ],
      "execution_count": 24,
      "outputs": [
        {
          "output_type": "display_data",
          "data": {
            "image/png": "[encoded data removed]",
            "text/plain": [
              "<Figure size 432x288 with 1 Axes>"
            ]
          },
          "metadata": {
            "tags": [],
            "needs_background": "light"
          }
        }
      ]
    },
    {
      "cell_type": "code",
      "metadata": {
        "id": "P_LmXKAhqJqb",
        "colab": {
          "base_uri": "https://localhost:8080/"
        },
        "outputId": "38cf5673-2057-4aec-90fa-7fd49cda3cbc"
      },
      "source": [
        "# Check the label\n",
        "import collections\n",
        "# np.unique(train_topic)\n",
        "collections.Counter(train_topic)"
      ],
      "execution_count": 25,
      "outputs": [
        {
          "output_type": "execute_result",
          "data": {
            "text/plain": [
              "Counter({0: 55,\n",
              "         1: 432,\n",
              "         2: 74,\n",
              "         3: 3159,\n",
              "         4: 1949,\n",
              "         5: 17,\n",
              "         6: 48,\n",
              "         7: 16,\n",
              "         8: 139,\n",
              "         9: 101,\n",
              "         10: 124,\n",
              "         11: 390,\n",
              "         12: 49,\n",
              "         13: 172,\n",
              "         14: 26,\n",
              "         15: 20,\n",
              "         16: 444,\n",
              "         17: 39,\n",
              "         18: 66,\n",
              "         19: 549,\n",
              "         20: 269,\n",
              "         21: 100,\n",
              "         22: 15,\n",
              "         23: 41,\n",
              "         24: 62,\n",
              "         25: 92,\n",
              "         26: 24,\n",
              "         27: 15,\n",
              "         28: 48,\n",
              "         29: 19,\n",
              "         30: 45,\n",
              "         31: 39,\n",
              "         32: 32,\n",
              "         33: 11,\n",
              "         34: 50,\n",
              "         35: 10,\n",
              "         36: 49,\n",
              "         37: 19,\n",
              "         38: 19,\n",
              "         39: 24,\n",
              "         40: 36,\n",
              "         41: 30,\n",
              "         42: 13,\n",
              "         43: 21,\n",
              "         44: 12,\n",
              "         45: 18})"
            ]
          },
          "metadata": {
            "tags": []
          },
          "execution_count": 25
        }
      ]
    },
    {
      "cell_type": "code",
      "metadata": {
        "id": "CeP59br7qJn5",
        "colab": {
          "base_uri": "https://localhost:8080/"
        },
        "outputId": "c0111893-6520-4968-d3fd-3551697ddc1e"
      },
      "source": [
        "sorted(collections.Counter(train_topic).items())[:10] # sorted -> change dictionary to list"
      ],
      "execution_count": 26,
      "outputs": [
        {
          "output_type": "execute_result",
          "data": {
            "text/plain": [
              "[(0, 55),\n",
              " (1, 432),\n",
              " (2, 74),\n",
              " (3, 3159),\n",
              " (4, 1949),\n",
              " (5, 17),\n",
              " (6, 48),\n",
              " (7, 16),\n",
              " (8, 139),\n",
              " (9, 101)]"
            ]
          },
          "metadata": {
            "tags": []
          },
          "execution_count": 26
        }
      ]
    },
    {
      "cell_type": "code",
      "metadata": {
        "id": "rH908nz7qJlt",
        "colab": {
          "base_uri": "https://localhost:8080/"
        },
        "outputId": "8534f853-84de-440b-93dd-6106f18fc790"
      },
      "source": [
        "list(map(lambda x : x[1], sorted(collections.Counter(train_topic).items())))[:10]"
      ],
      "execution_count": 27,
      "outputs": [
        {
          "output_type": "execute_result",
          "data": {
            "text/plain": [
              "[55, 432, 74, 3159, 1949, 17, 48, 16, 139, 101]"
            ]
          },
          "metadata": {
            "tags": []
          },
          "execution_count": 27
        }
      ]
    },
    {
      "cell_type": "code",
      "metadata": {
        "id": "s8use7GEqJja",
        "colab": {
          "base_uri": "https://localhost:8080/"
        },
        "outputId": "97030101-c0c7-4d75-a47d-5b3ec11bb491"
      },
      "source": [
        "ct = []\n",
        "for k,v in sorted(collections.Counter(train_topic).items()) :\n",
        "    ct.append(v)\n",
        "ct[:10]"
      ],
      "execution_count": 28,
      "outputs": [
        {
          "output_type": "execute_result",
          "data": {
            "text/plain": [
              "[55, 432, 74, 3159, 1949, 17, 48, 16, 139, 101]"
            ]
          },
          "metadata": {
            "tags": []
          },
          "execution_count": 28
        }
      ]
    },
    {
      "cell_type": "code",
      "metadata": {
        "id": "PAfu8VLbqJg7",
        "colab": {
          "base_uri": "https://localhost:8080/",
          "height": 428
        },
        "outputId": "9cd96f50-3115-411f-9051-b2a894fa3564"
      },
      "source": [
        "plt.figure(figsize=(10,7))\n",
        "plt.bar(\n",
        "    np.unique(train_topic), ct\n",
        ")\n",
        "plt.show()"
      ],
      "execution_count": 29,
      "outputs": [
        {
          "output_type": "display_data",
          "data": {
            "image/png": "[encoded data removed]",
            "text/plain": [
              "<Figure size 720x504 with 1 Axes>"
            ]
          },
          "metadata": {
            "tags": [],
            "needs_background": "light"
          }
        }
      ]
    },
    {
      "cell_type": "code",
      "metadata": {
        "id": "-wT9Q02IwC23",
        "outputId": "4eb828d6-14d2-417a-8d36-7f68f320faa8",
        "colab": {
          "base_uri": "https://localhost:8080/"
        }
      },
      "source": [
        "np.unique(train_topic,return_counts=True)"
      ],
      "execution_count": 31,
      "outputs": [
        {
          "output_type": "execute_result",
          "data": {
            "text/plain": [
              "(array([ 0,  1,  2,  3,  4,  5,  6,  7,  8,  9, 10, 11, 12, 13, 14, 15, 16,\n",
              "        17, 18, 19, 20, 21, 22, 23, 24, 25, 26, 27, 28, 29, 30, 31, 32, 33,\n",
              "        34, 35, 36, 37, 38, 39, 40, 41, 42, 43, 44, 45]),\n",
              " array([  55,  432,   74, 3159, 1949,   17,   48,   16,  139,  101,  124,\n",
              "         390,   49,  172,   26,   20,  444,   39,   66,  549,  269,  100,\n",
              "          15,   41,   62,   92,   24,   15,   48,   19,   45,   39,   32,\n",
              "          11,   50,   10,   49,   19,   19,   24,   36,   30,   13,   21,\n",
              "          12,   18]))"
            ]
          },
          "metadata": {
            "tags": []
          },
          "execution_count": 31
        }
      ]
    },
    {
      "cell_type": "code",
      "metadata": {
        "id": "3OmE88jswC0O",
        "outputId": "dc9b3e6b-e230-4121-a7de-2a587c3b4548",
        "colab": {
          "base_uri": "https://localhost:8080/",
          "height": 428
        }
      },
      "source": [
        "plt.figure(figsize=(10,7))\n",
        "plt.bar( *np.unique(train_topic,return_counts=True))\n",
        "plt.show()"
      ],
      "execution_count": 34,
      "outputs": [
        {
          "output_type": "display_data",
          "data": {
            "image/png": "[encoded data removed]",
            "text/plain": [
              "<Figure size 720x504 with 1 Axes>"
            ]
          },
          "metadata": {
            "tags": [],
            "needs_background": "light"
          }
        }
      ]
    },
    {
      "cell_type": "code",
      "metadata": {
        "id": "p1-32sQNwCxy",
        "outputId": "4bbd1aca-2064-40fd-93e4-bcf89543554f",
        "colab": {
          "base_uri": "https://localhost:8080/",
          "height": 435
        }
      },
      "source": [
        "plt.figure(figsize=(15,7))\n",
        "sns.countplot(train_topic)\n",
        "plt.xticks(rotation=45)\n",
        "plt.show()"
      ],
      "execution_count": 37,
      "outputs": [
        {
          "output_type": "display_data",
          "data": {
            "image/png": "[encoded data removed]",
            "text/plain": [
              "<Figure size 1080x504 with 1 Axes>"
            ]
          },
          "metadata": {
            "tags": [],
            "needs_background": "light"
          }
        }
      ]
    },
    {
      "cell_type": "code",
      "metadata": {
        "id": "Qgniz_icqaP_",
        "outputId": "e18cf9c1-3bbd-417a-e0c8-3f528f456ff2",
        "colab": {
          "base_uri": "https://localhost:8080/",
          "height": 495
        }
      },
      "source": [
        "plt.figure(figsize=(15,7))\n",
        "sns.countplot(\n",
        "    list(map(lambda x : topic2label(x) ,train_topic))\n",
        ")\n",
        "plt.xticks(rotation=90)\n",
        "plt.show()"
      ],
      "execution_count": 42,
      "outputs": [
        {
          "output_type": "display_data",
          "data": {
            "image/png": "[encoded data removed]",
            "text/plain": [
              "<Figure size 1080x504 with 1 Axes>"
            ]
          },
          "metadata": {
            "tags": [],
            "needs_background": "light"
          }
        }
      ]
    },
    {
      "cell_type": "code",
      "metadata": {
        "id": "BEXvHo3DqaN3"
      },
      "source": [
        "# real text decoding\n",
        "index_word = {y : x for x,y in keras.datasets.reuters.get_word_index().items()}\n",
        "\n",
        "def bow2txt(bow) :\n",
        "    return ' '.join([index_word[idx] for idx in bow])"
      ],
      "execution_count": 53,
      "outputs": []
    },
    {
      "cell_type": "code",
      "metadata": {
        "id": "AuqMy97GwCvX",
        "outputId": "0141fdfd-71e9-400c-aa25-d25d52434783",
        "colab": {
          "base_uri": "https://localhost:8080/"
        }
      },
      "source": [
        "print(len(test_text[0]))\n",
        "print(test_text[0][:10])"
      ],
      "execution_count": 55,
      "outputs": [
        {
          "output_type": "stream",
          "text": [
            "145\n",
            "[1, 4, 1378, 2025, 9, 697, 4622, 111, 8, 25]\n"
          ],
          "name": "stdout"
        }
      ]
    },
    {
      "cell_type": "code",
      "metadata": {
        "id": "EZX9MZnHwCtB",
        "outputId": "6d9da9f1-0f96-40ec-f5c5-36b6fe2f1e1d",
        "colab": {
          "base_uri": "https://localhost:8080/",
          "height": 129
        }
      },
      "source": [
        "bow2txt(test_text[1])"
      ],
      "execution_count": 58,
      "outputs": [
        {
          "output_type": "execute_result",
          "data": {
            "application/vnd.google.colaboratory.intrinsic+json": {
              "type": "string"
            },
            "text/plain": [
              "\"the slide both their a in after london adjusted 2 contracts 54 as sales agriculture with from were vs been prices its for benefit from dlrs vs been are 2 both 97 firms deficient i geneen briefly mln briefly week operating for giving 28 in record disappointed spending shr initiative around five farmers in but 18 66 5 efforts scale will t net mln with deal from billion vs been said in after london adjusted 5 will agip it take supplies briefly mln 9 confidence on been 5 will agriculture method it in has would both administration without on been it intended figures 3 total on been 5 will 75 that in into shares net mln january in three subject for system guaranty deficient users and 381 surviving in attempt 5 higher prices producers without on been 57 request in executive in three it at china concentrate as sales priorities paris said in attempt last told showed 1 and 48 deficit be what briefly mln surviving over qtr prices today is said acres agree in one news possible be 9 1988 vs regional briefly mln against while slide sne oil smith and extraordinary investor surviving january in attempt u subject in surviving attempt 5 plc a medium it 9 before on produced increasing medical acquired issuer period said 150 be 240 into both per 3 for galloping take when their north agriculture it in 15 pay a after london share sales disease and export 796 romero his economists in export 5 announcement philippine sandi in market soybean flavor more in march 545 net mln last 25 cts modest 50 balance it 22 north told or institute west discount offered 57 agreement fiscal china supplies subsidiary in 80 bank boosted equilibrium 22 term per briefly mln bankers both u french free viewed it suspension regional april collaspe prices its harcourt regional have 54 briefly mln per oil seasons prices between said telecommunications here in brittany cost and within their told or 50 air valued including canada was in into shares net mln bankers 80 a in diminishes remarks share rawl its interest bessemer 3 hotels common bpd 3 beefing contains 3 compagnia their net mln steam common through group other surviving u two following 88 in both when in brochure system unit milliyet interest rings briefly mln stock bank 1988 both break operations was fiscal division last stock index's 90 said goods 3 hotels their told dutch and rejected are for facility's pattamapong preliminary said in both when net mln 791 over will decision and consisting 3 zero making it briarcliff seattle's 7 making a exchanges dillution four nearly yen 791 nearly usair saudi bank and 1984 both net mln briefly mln in double u shake it for elect said in there both note shr 183 a 84 loss for while both taken told or sound goods and sosnoff for market note shr 5 judgement into per briefly mln january 25 cts 50 note into per he charles will 240 settlement between in who sector cts debtholders at 80 3 inventories both that in money net mln record into per 52 newly with 9 had ministry community april try oil oxford it in double de their days curbs its all and countries community for try january in first produce newly it for 14 with had ministry community his showed in subsidiary and earlier and 9 meeting community for try be in 31 said are 2 net mln briefly mln takeover levels for friendly both shares be region was into supplies donor their net mln both money oil 52 prices chief poul its filled goria 3 term uganda bpd idled last told or 1986 kwacha was in fourth firms net mln currency purhcase told bank sales spokeswoman journalists said both and in has would a johnson four stock upland in administration ago stock yen harsh a can ministers cash lined christian u greenshields 937 initiatives entered and yen take might per and all community for try its sources community in has would seven time have only digiorgio at all five after both news administration its in double and starts deliver german slightly its cie advisor german slightly a but briefly mln chief around 09 results their executive no slide break oil under and mineral markets with deal 17 said in division break oil 1986 consider 28 in but 18 spending net mln told showed corp 7 against quarter and 01 ceiling 28 in around spending pct dlrs\""
            ]
          },
          "metadata": {
            "tags": []
          },
          "execution_count": 58
        }
      ]
    },
    {
      "cell_type": "code",
      "metadata": {
        "id": "sKlpbYzkwCqH",
        "outputId": "7f4b4368-43b4-43ff-8148-00168b21d726",
        "colab": {
          "base_uri": "https://localhost:8080/",
          "height": 283
        }
      },
      "source": [
        "# the most frequence of word\n",
        "plt.plot(sorted([np.unique(doc, return_counts=True)[1].argmax() for doc in train_text], reverse =True))\n",
        "\n"
      ],
      "execution_count": 59,
      "outputs": [
        {
          "output_type": "execute_result",
          "data": {
            "text/plain": [
              "[<matplotlib.lines.Line2D at 0x7fa0b7b71450>]"
            ]
          },
          "metadata": {
            "tags": []
          },
          "execution_count": 59
        },
        {
          "output_type": "display_data",
          "data": {
            "image/png": "[encoded data removed]",
            "text/plain": [
              "<Figure size 432x288 with 1 Axes>"
            ]
          },
          "metadata": {
            "tags": [],
            "needs_background": "light"
          }
        }
      ]
    },
    {
      "cell_type": "markdown",
      "metadata": {
        "id": "8Pz0wcc0-wiR"
      },
      "source": [
        "## Modeling"
      ]
    },
    {
      "cell_type": "code",
      "metadata": {
        "id": "xWfp3mJ0-wiR"
      },
      "source": [
        "# "
      ],
      "execution_count": 29,
      "outputs": []
    },
    {
      "cell_type": "code",
      "metadata": {
        "id": "nvFuRHhMugMv"
      },
      "source": [
        ""
      ],
      "execution_count": null,
      "outputs": []
    },
    {
      "cell_type": "code",
      "metadata": {
        "id": "kgOuA1oQugJr"
      },
      "source": [
        ""
      ],
      "execution_count": null,
      "outputs": []
    },
    {
      "cell_type": "code",
      "metadata": {
        "id": "XgSrTi4RugHY"
      },
      "source": [
        ""
      ],
      "execution_count": null,
      "outputs": []
    },
    {
      "cell_type": "code",
      "metadata": {
        "id": "51NbKt1iugE8"
      },
      "source": [
        ""
      ],
      "execution_count": null,
      "outputs": []
    },
    {
      "cell_type": "code",
      "metadata": {
        "id": "JLh5ggUmugCw"
      },
      "source": [
        ""
      ],
      "execution_count": null,
      "outputs": []
    },
    {
      "cell_type": "markdown",
      "metadata": {
        "id": "dm_x_60huffG"
      },
      "source": [
        "## Pass"
      ]
    },
    {
      "cell_type": "code",
      "metadata": {
        "id": "AV4Oev4-uffH"
      },
      "source": [
        "    "
      ],
      "execution_count": null,
      "outputs": []
    },
    {
      "cell_type": "markdown",
      "metadata": {
        "id": "CUEFN6tlufrL"
      },
      "source": [
        "## Pass"
      ]
    },
    {
      "cell_type": "code",
      "metadata": {
        "id": "qGXBQbYBufrL"
      },
      "source": [
        "    "
      ],
      "execution_count": null,
      "outputs": []
    }
  ]
}