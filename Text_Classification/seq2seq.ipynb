{
  "nbformat": 4,
  "nbformat_minor": 0,
  "metadata": {
    "colab": {
      "name": "seq2seq.ipynb",
      "provenance": [],
      "authorship_tag": "ABX9TyNVvL9A6qhZXUDBPHeuvSIv",
      "include_colab_link": true
    },
    "kernelspec": {
      "name": "python3",
      "display_name": "Python 3"
    },
    "language_info": {
      "name": "python"
    }
  },
  "cells": [
    {
      "cell_type": "markdown",
      "metadata": {
        "id": "view-in-github",
        "colab_type": "text"
      },
      "source": [
        "<a href=\"https://colab.research.google.com/github/Vaycold/Python_DL/blob/main/Text_Classification/seq2seq.ipynb\" target=\"_parent\"><img src=\"https://colab.research.google.com/assets/colab-badge.svg\" alt=\"Open In Colab\"/></a>"
      ]
    },
    {
      "cell_type": "markdown",
      "metadata": {
        "id": "x_xUXtfdNWSb"
      },
      "source": [
        "## Goal\n",
        "   - Seq2Seq model\n",
        "   - word embedding\n",
        "   - time series data"
      ]
    },
    {
      "cell_type": "markdown",
      "metadata": {
        "id": "aOa8qV4HNl0D"
      },
      "source": [
        "## Library"
      ]
    },
    {
      "cell_type": "code",
      "metadata": {
        "id": "nvmWCZUYLrV9"
      },
      "source": [
        "import tensorflow as tf\n",
        "from tensorflow import keras\n",
        "from keras.layers import Dense\n",
        "from keras.models import Sequential\n",
        "\n",
        "import pandas as pd\n",
        "import numpy as np\n",
        "import matplotlib.pyplot as plt\n",
        "import seaborn as sns\n",
        "import warnings\n",
        "from IPython.display import Image\n",
        "\n",
        "warnings.filterwarnings('ignore')\n",
        "SEED=34"
      ],
      "execution_count": 3,
      "outputs": []
    },
    {
      "cell_type": "code",
      "metadata": {
        "id": "QqK85Fg0N7HL"
      },
      "source": [
        "# DATA SET\n",
        "import random\n",
        "def make_raw_text(count=50000) :\n",
        "    train_text = []\n",
        "    train_answer = []\n",
        "\n",
        "    for _ in range(count) :\n",
        "        t = random.randint(0,3)\n",
        "        if t == 0 :\n",
        "            a = random.randint(0,10)\n",
        "        else :\n",
        "            a = random.randint(0,100)\n",
        "\n",
        "        if t == 0 :\n",
        "            b = random.randint(0,10)\n",
        "        else :\n",
        "            b = random.randint(0,100)\n",
        "        if random.randint(0,2) == 0 :\n",
        "            train = f'{a} + {b}'\n",
        "            answer = f'{a+b}'\n",
        "        else :\n",
        "            train = f'{a} - {b}'\n",
        "            answer = f'{a - b}'\n",
        "        train_text.append(train)\n",
        "        train_answer.append(answer)\n",
        "    return train_text, train_answer"
      ],
      "execution_count": 6,
      "outputs": []
    },
    {
      "cell_type": "code",
      "metadata": {
        "id": "2c9itQ_5QCVn"
      },
      "source": [
        "train_text, train_answer = make_raw_text()"
      ],
      "execution_count": 9,
      "outputs": []
    },
    {
      "cell_type": "code",
      "metadata": {
        "id": "Npfu8ExsRQbX",
        "outputId": "93a34d8a-0c76-4a31-dc49-90510d2c84b6",
        "colab": {
          "base_uri": "https://localhost:8080/"
        }
      },
      "source": [
        "print(train_text[:10], '\\n',train_answer[:10])"
      ],
      "execution_count": 16,
      "outputs": [
        {
          "output_type": "stream",
          "text": [
            "['48 - 69', '16 + 40', '72 - 88', '5 - 5', '8 - 6', '56 + 23', '23 - 68', '57 - 42', '7 + 8', '4 - 6'] \n",
            " ['-21', '56', '-16', '0', '2', '79', '-45', '15', '15', '-2']\n"
          ],
          "name": "stdout"
        }
      ]
    },
    {
      "cell_type": "code",
      "metadata": {
        "id": "oPdfrBX0RaO4",
        "outputId": "de22286c-5533-4b06-fcf4-4c23f9ba5acf",
        "colab": {
          "base_uri": "https://localhost:8080/"
        }
      },
      "source": [
        "train_text[0], train_answer[0]"
      ],
      "execution_count": 17,
      "outputs": [
        {
          "output_type": "execute_result",
          "data": {
            "text/plain": [
              "('48 - 69', '-21')"
            ]
          },
          "metadata": {
            "tags": []
          },
          "execution_count": 17
        }
      ]
    },
    {
      "cell_type": "markdown",
      "metadata": {
        "id": "xWjwqlEUR3ii"
      },
      "source": [
        "## Preprocessing"
      ]
    },
    {
      "cell_type": "code",
      "metadata": {
        "id": "Z4juQT1tR91t",
        "outputId": "e20e3f9e-c9a0-4854-814d-2cb86d662c91",
        "colab": {
          "base_uri": "https://localhost:8080/"
        }
      },
      "source": [
        "# Bag of Words \n",
        "# train_text, train_answer 에 나오는 모든 token을 [token , id ] 형태로 변경 // + : 10, - : 11, PAD : 12, EOS : 13\n",
        "vocab= {str(i) : i for i in range(10)}\n",
        "vocab.update(\n",
        "    { \"+\" : 10,\n",
        "      \"-\" : 11, \n",
        "      \"PAD\" : 12,\n",
        "      \"EOS\" : 13}\n",
        ")\n",
        "vocab"
      ],
      "execution_count": 18,
      "outputs": [
        {
          "output_type": "execute_result",
          "data": {
            "text/plain": [
              "{'+': 10,\n",
              " '-': 11,\n",
              " '0': 0,\n",
              " '1': 1,\n",
              " '2': 2,\n",
              " '3': 3,\n",
              " '4': 4,\n",
              " '5': 5,\n",
              " '6': 6,\n",
              " '7': 7,\n",
              " '8': 8,\n",
              " '9': 9,\n",
              " 'EOS': 13,\n",
              " 'PAD': 12}"
            ]
          },
          "metadata": {
            "tags": []
          },
          "execution_count": 18
        }
      ]
    },
    {
      "cell_type": "code",
      "metadata": {
        "id": "hO9dJewrU048",
        "outputId": "f6a7f0cd-bf11-423a-86a4-68438edd2b3d",
        "colab": {
          "base_uri": "https://localhost:8080/"
        }
      },
      "source": [
        "# 위 vocab의 역형태 \n",
        "invocab = { v:k for k,v in vocab.items()}\n",
        "invocab"
      ],
      "execution_count": 34,
      "outputs": [
        {
          "output_type": "execute_result",
          "data": {
            "text/plain": [
              "{0: '0',\n",
              " 1: '1',\n",
              " 2: '2',\n",
              " 3: '3',\n",
              " 4: '4',\n",
              " 5: '5',\n",
              " 6: '6',\n",
              " 7: '7',\n",
              " 8: '8',\n",
              " 9: '9',\n",
              " 10: '+',\n",
              " 11: '-',\n",
              " 12: 'PAD',\n",
              " 13: 'EOS'}"
            ]
          },
          "metadata": {
            "tags": []
          },
          "execution_count": 34
        }
      ]
    },
    {
      "cell_type": "code",
      "metadata": {
        "id": "-6SlT7PaR9xq"
      },
      "source": [
        "# bow형태로 변경 // EOS : End of Sentence\n",
        "def plain2bow(text, vocab) :\n",
        "    return np.array([vocab[ch] for word in text.split() for ch in word] + [vocab['EOS']])"
      ],
      "execution_count": 43,
      "outputs": []
    },
    {
      "cell_type": "code",
      "metadata": {
        "id": "TjdlsCKsR9vT"
      },
      "source": [
        "train_bow_text = [plain2bow(text, vocab) for text in train_text]\n",
        "train_bow_answer = [plain2bow(text, vocab) for text in train_answer]"
      ],
      "execution_count": 44,
      "outputs": []
    },
    {
      "cell_type": "code",
      "metadata": {
        "id": "b-0Dn0oxR9s1",
        "outputId": "8b39f088-78d4-4225-cfd5-61b970a31f07",
        "colab": {
          "base_uri": "https://localhost:8080/"
        }
      },
      "source": [
        "train_bow_text[:10]"
      ],
      "execution_count": 45,
      "outputs": [
        {
          "output_type": "execute_result",
          "data": {
            "text/plain": [
              "[array([ 4,  8, 11,  6,  9, 13]),\n",
              " array([ 1,  6, 10,  4,  0, 13]),\n",
              " array([ 7,  2, 11,  8,  8, 13]),\n",
              " array([ 5, 11,  5, 13]),\n",
              " array([ 8, 11,  6, 13]),\n",
              " array([ 5,  6, 10,  2,  3, 13]),\n",
              " array([ 2,  3, 11,  6,  8, 13]),\n",
              " array([ 5,  7, 11,  4,  2, 13]),\n",
              " array([ 7, 10,  8, 13]),\n",
              " array([ 4, 11,  6, 13])]"
            ]
          },
          "metadata": {
            "tags": []
          },
          "execution_count": 45
        }
      ]
    },
    {
      "cell_type": "code",
      "metadata": {
        "id": "6vWhukA3R9qs"
      },
      "source": [
        "# padding 을 추가하여 완전한 np.array로 만들자\n",
        "train_bow_text=tf.keras.preprocessing.sequence.pad_sequences(train_bow_text, value = vocab['PAD'])\n",
        "train_bow_answer=tf.keras.preprocessing.sequence.pad_sequences(train_bow_answer, padding = 'post' ,value = vocab['PAD'])"
      ],
      "execution_count": 48,
      "outputs": []
    },
    {
      "cell_type": "code",
      "metadata": {
        "id": "BpnBX4YrR9oa",
        "outputId": "e723ac12-f3c4-4c32-82aa-dc984b1830e4",
        "colab": {
          "base_uri": "https://localhost:8080/"
        }
      },
      "source": [
        "train_bow_text.shape, train_bow_answer.shape"
      ],
      "execution_count": 49,
      "outputs": [
        {
          "output_type": "execute_result",
          "data": {
            "text/plain": [
              "((50000, 8), (50000, 5))"
            ]
          },
          "metadata": {
            "tags": []
          },
          "execution_count": 49
        }
      ]
    },
    {
      "cell_type": "code",
      "metadata": {
        "colab": {
          "base_uri": "https://localhost:8080/"
        },
        "id": "cWI41q2TR3ij",
        "outputId": "828f0d75-9884-4db0-ca88-adf45e2f57fc"
      },
      "source": [
        "train_bow_text[:10]"
      ],
      "execution_count": 52,
      "outputs": [
        {
          "output_type": "execute_result",
          "data": {
            "text/plain": [
              "array([[12, 12,  4,  8, 11,  6,  9, 13],\n",
              "       [12, 12,  1,  6, 10,  4,  0, 13],\n",
              "       [12, 12,  7,  2, 11,  8,  8, 13],\n",
              "       [12, 12, 12, 12,  5, 11,  5, 13],\n",
              "       [12, 12, 12, 12,  8, 11,  6, 13],\n",
              "       [12, 12,  5,  6, 10,  2,  3, 13],\n",
              "       [12, 12,  2,  3, 11,  6,  8, 13],\n",
              "       [12, 12,  5,  7, 11,  4,  2, 13],\n",
              "       [12, 12, 12, 12,  7, 10,  8, 13],\n",
              "       [12, 12, 12, 12,  4, 11,  6, 13]], dtype=int32)"
            ]
          },
          "metadata": {
            "tags": []
          },
          "execution_count": 52
        }
      ]
    },
    {
      "cell_type": "code",
      "metadata": {
        "id": "-Brwp2SLYorD",
        "outputId": "74d96b26-01f6-43e4-83f7-d0ab4e418fd0",
        "colab": {
          "base_uri": "https://localhost:8080/"
        }
      },
      "source": [
        "train_bow_answer[:10]"
      ],
      "execution_count": 54,
      "outputs": [
        {
          "output_type": "execute_result",
          "data": {
            "text/plain": [
              "array([[11,  2,  1, 13, 12],\n",
              "       [ 5,  6, 13, 12, 12],\n",
              "       [11,  1,  6, 13, 12],\n",
              "       [ 0, 13, 12, 12, 12],\n",
              "       [ 2, 13, 12, 12, 12],\n",
              "       [ 7,  9, 13, 12, 12],\n",
              "       [11,  4,  5, 13, 12],\n",
              "       [ 1,  5, 13, 12, 12],\n",
              "       [ 1,  5, 13, 12, 12],\n",
              "       [11,  2, 13, 12, 12]], dtype=int32)"
            ]
          },
          "metadata": {
            "tags": []
          },
          "execution_count": 54
        }
      ]
    },
    {
      "cell_type": "markdown",
      "metadata": {
        "id": "W7GAHsXAR80f"
      },
      "source": [
        "## Split the data"
      ]
    },
    {
      "cell_type": "code",
      "metadata": {
        "id": "6glOTOKOR80h"
      },
      "source": [
        ""
      ],
      "execution_count": null,
      "outputs": []
    },
    {
      "cell_type": "code",
      "metadata": {
        "id": "R3X_GMBfY41h"
      },
      "source": [
        ""
      ],
      "execution_count": null,
      "outputs": []
    },
    {
      "cell_type": "code",
      "metadata": {
        "id": "Sl043OYKY4zr"
      },
      "source": [
        ""
      ],
      "execution_count": null,
      "outputs": []
    },
    {
      "cell_type": "code",
      "metadata": {
        "id": "46Bc4HrOY4xm"
      },
      "source": [
        ""
      ],
      "execution_count": null,
      "outputs": []
    },
    {
      "cell_type": "code",
      "metadata": {
        "id": "At0JNPokY4vk"
      },
      "source": [
        ""
      ],
      "execution_count": null,
      "outputs": []
    },
    {
      "cell_type": "code",
      "metadata": {
        "id": "Z2lPslchY4tM"
      },
      "source": [
        ""
      ],
      "execution_count": null,
      "outputs": []
    },
    {
      "cell_type": "markdown",
      "metadata": {
        "id": "WziL0bomR8-N"
      },
      "source": [
        "## Preprocessing"
      ]
    },
    {
      "cell_type": "code",
      "metadata": {
        "id": "tqRiTJJoR8-N"
      },
      "source": [
        ""
      ],
      "execution_count": null,
      "outputs": []
    },
    {
      "cell_type": "markdown",
      "metadata": {
        "id": "y0qKlOSwR9BK"
      },
      "source": [
        "## Preprocessing"
      ]
    },
    {
      "cell_type": "code",
      "metadata": {
        "id": "uvnR3tkPR9BL"
      },
      "source": [
        ""
      ],
      "execution_count": null,
      "outputs": []
    },
    {
      "cell_type": "markdown",
      "metadata": {
        "id": "aDCs7RejR9EW"
      },
      "source": [
        "## Preprocessing"
      ]
    },
    {
      "cell_type": "code",
      "metadata": {
        "id": "TbJKyvPbR9EX"
      },
      "source": [
        ""
      ],
      "execution_count": null,
      "outputs": []
    }
  ]
}