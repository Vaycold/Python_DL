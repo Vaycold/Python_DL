{
  "nbformat": 4,
  "nbformat_minor": 0,
  "metadata": {
    "colab": {
      "name": "Untitled2.ipynb",
      "provenance": [],
      "authorship_tag": "ABX9TyOKkh1EL1G9EyOrwg3kAEDp",
      "include_colab_link": true
    },
    "kernelspec": {
      "name": "python3",
      "display_name": "Python 3"
    }
  },
  "cells": [
    {
      "cell_type": "markdown",
      "metadata": {
        "id": "view-in-github",
        "colab_type": "text"
      },
      "source": [
        "<a href=\"https://colab.research.google.com/github/moch1996/Vaycold/blob/main/Recommend_Algorithm/%EA%B0%84%EB%8B%A8%ED%95%9C%20%EC%B6%94%EC%B2%9C%EC%8B%9C%EC%8A%A4%ED%85%9C%20%EB%A7%8C%EB%93%A4%EA%B8%B0.ipynb\" target=\"_parent\"><img src=\"https://colab.research.google.com/assets/colab-badge.svg\" alt=\"Open In Colab\"/></a>"
      ]
    },
    {
      "cell_type": "markdown",
      "metadata": {
        "id": "y1YwAt8iFTIP"
      },
      "source": [
        "# 간단한 추천시스템 만들기\r\n",
        "  - ### 목표 : 특정유저가 특정영화에 몇점을 주었는가??\r\n",
        "  - 간단한 추천알고리즘 만들기\r\n",
        "  - 평점을 예측하고 RMSE로 평가"
      ]
    },
    {
      "cell_type": "markdown",
      "metadata": {
        "id": "qNFf6U-mF_nn"
      },
      "source": [
        "## 라이브러리 정의"
      ]
    },
    {
      "cell_type": "code",
      "metadata": {
        "id": "EF0tzjBdFL-6"
      },
      "source": [
        "import os\r\n",
        "from tqdm import tqdm\r\n",
        "import pandas as pd\r\n",
        "import numpy as np\r\n",
        "from math import sqrt\r\n",
        "\r\n",
        "from sklearn.model_selection import train_test_split\r\n",
        "from sklearn.metrics import mean_squared_error\r\n",
        "from scipy.sparse import csr_matrix\r\n",
        "\r\n",
        "import warnings\r\n",
        "warnings.filterwarnings('ignore')"
      ],
      "execution_count": null,
      "outputs": []
    },
    {
      "cell_type": "code",
      "metadata": {
        "colab": {
          "base_uri": "https://localhost:8080/"
        },
        "id": "SmwRgQphGKFF",
        "outputId": "9d2dfafa-03d9-47f6-93f0-3e65eb399927"
      },
      "source": [
        "from google.colab import drive\r\n",
        "drive.mount('/content/drive')"
      ],
      "execution_count": null,
      "outputs": [
        {
          "output_type": "stream",
          "text": [
            "Mounted at /content/drive\n"
          ],
          "name": "stdout"
        }
      ]
    },
    {
      "cell_type": "code",
      "metadata": {
        "colab": {
          "base_uri": "https://localhost:8080/"
        },
        "id": "bb7g6EJWGtLj",
        "outputId": "e6899101-023b-44bc-88a6-57ac6b78cf4a"
      },
      "source": [
        "os.listdir('drive/MyDrive/fastcampus/recommend/movielens')"
      ],
      "execution_count": null,
      "outputs": [
        {
          "output_type": "execute_result",
          "data": {
            "text/plain": [
              "['ratings.csv', 'tags.csv', 'movies.csv', 'README.txt', 'links.csv']"
            ]
          },
          "metadata": {
            "tags": []
          },
          "execution_count": 15
        }
      ]
    },
    {
      "cell_type": "code",
      "metadata": {
        "id": "4QGyE6KWG3R4"
      },
      "source": [
        "path = '/content/drive/MyDrive/fastcampus/recommend/movielens'"
      ],
      "execution_count": null,
      "outputs": []
    },
    {
      "cell_type": "code",
      "metadata": {
        "id": "CJLlRu38HBXc"
      },
      "source": [
        "# 데이터 불러오기\r\n",
        "\r\n",
        "ratings_df = pd.read_csv(os.path.join(path,'ratings.csv'), encoding='utf-8')\r\n",
        "movies_df = pd.read_csv(os.path.join(path,'movies.csv'), index_col = 'movieId', encoding='utf-8')\r\n",
        "tags_df = pd.read_csv(os.path.join(path,'tags.csv'), encoding='utf-8')"
      ],
      "execution_count": null,
      "outputs": []
    },
    {
      "cell_type": "code",
      "metadata": {
        "colab": {
          "base_uri": "https://localhost:8080/"
        },
        "id": "Q5qpN-4wHThc",
        "outputId": "6925a3df-d870-4410-8618-9dcf6a11aee3"
      },
      "source": [
        "print(ratings_df.shape)\r\n",
        "print(ratings_df.head())"
      ],
      "execution_count": null,
      "outputs": [
        {
          "output_type": "stream",
          "text": [
            "(100836, 4)\n",
            "   userId  movieId  rating  timestamp\n",
            "0       1        1     4.0  964982703\n",
            "1       1        3     4.0  964981247\n",
            "2       1        6     4.0  964982224\n",
            "3       1       47     5.0  964983815\n",
            "4       1       50     5.0  964982931\n"
          ],
          "name": "stdout"
        }
      ]
    },
    {
      "cell_type": "code",
      "metadata": {
        "id": "91LG60g4g5Rx"
      },
      "source": [
        "# Ratings data 확인"
      ],
      "execution_count": null,
      "outputs": []
    }
  ]
}