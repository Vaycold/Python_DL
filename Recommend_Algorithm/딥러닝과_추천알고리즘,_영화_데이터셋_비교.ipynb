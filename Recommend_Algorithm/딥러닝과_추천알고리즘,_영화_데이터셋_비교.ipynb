{
  "nbformat": 4,
  "nbformat_minor": 0,
  "metadata": {
    "colab": {
      "name": "딥러닝과 추천알고리즘, 영화 데이터셋 비교.ipynb",
      "provenance": [],
      "authorship_tag": "ABX9TyPPk03/Eb9zjNANy3rb00dE",
      "include_colab_link": true
    },
    "kernelspec": {
      "name": "python3",
      "display_name": "Python 3"
    },
    "language_info": {
      "name": "python"
    }
  },
  "cells": [
    {
      "cell_type": "markdown",
      "metadata": {
        "id": "view-in-github",
        "colab_type": "text"
      },
      "source": [
        "<a href=\"https://colab.research.google.com/github/moch1996/Vaycold/blob/main/Recommend_Algorithm/%EB%94%A5%EB%9F%AC%EB%8B%9D%EA%B3%BC_%EC%B6%94%EC%B2%9C%EC%95%8C%EA%B3%A0%EB%A6%AC%EC%A6%98%2C_%EC%98%81%ED%99%94_%EB%8D%B0%EC%9D%B4%ED%84%B0%EC%85%8B_%EB%B9%84%EA%B5%90.ipynb\" target=\"_parent\"><img src=\"https://colab.research.google.com/assets/colab-badge.svg\" alt=\"Open In Colab\"/></a>"
      ]
    },
    {
      "cell_type": "markdown",
      "metadata": {
        "id": "jiN5sxqoaeXn"
      },
      "source": [
        "# 데이터셋 종류\n",
        " 1. Movielens\n",
        " 2. KMRD\n",
        " 3. Netflix  "
      ]
    },
    {
      "cell_type": "markdown",
      "metadata": {
        "id": "iBBisfSPeOPq"
      },
      "source": [
        "## Movielens 데이터"
      ]
    },
    {
      "cell_type": "code",
      "metadata": {
        "id": "obOWRRbkaYAb"
      },
      "source": [
        "import os\n",
        "import pandas as pd"
      ],
      "execution_count": 1,
      "outputs": []
    },
    {
      "cell_type": "code",
      "metadata": {
        "id": "8AB9tFODa14S"
      },
      "source": [
        "from google.colab import drive"
      ],
      "execution_count": 2,
      "outputs": []
    },
    {
      "cell_type": "code",
      "metadata": {
        "colab": {
          "base_uri": "https://localhost:8080/"
        },
        "id": "xtq0iSnXa5Uh",
        "outputId": "827d9aa4-ef00-43a3-aa30-ddc940b0d99c"
      },
      "source": [
        "drive.mount('/content/drive')"
      ],
      "execution_count": 17,
      "outputs": [
        {
          "output_type": "stream",
          "text": [
            "Drive already mounted at /content/drive; to attempt to forcibly remount, call drive.mount(\"/content/drive\", force_remount=True).\n"
          ],
          "name": "stdout"
        }
      ]
    },
    {
      "cell_type": "code",
      "metadata": {
        "id": "Aldu6yG3dWK9"
      },
      "source": [
        "data_path = '/content/drive/MyDrive/fastcampus/recommend/'"
      ],
      "execution_count": 18,
      "outputs": []
    },
    {
      "cell_type": "code",
      "metadata": {
        "id": "nZkgoqV4doby"
      },
      "source": [
        "path = data_path+'movielens'\n",
        "tags_df = pd.read_csv(os.path.join(path, 'tags.csv'), encoding='utf-8')\n",
        "ratings_df = pd.read_csv(os.path.join(path, 'ratings.csv'), index_col = 'userId', encoding='utf-8')\n",
        "movies_df = pd.read_csv(os.path.join(path, 'movies.csv'), index_col = 'movieId', encoding='utf-8')"
      ],
      "execution_count": 9,
      "outputs": []
    },
    {
      "cell_type": "code",
      "metadata": {
        "id": "RgmCwVIaeGbn"
      },
      "source": [
        "def get_simple_df_info(df):\n",
        "  print(\"dataframe 사이즈: \", df.shape)\n",
        "  print(\"\\n\")\n",
        "  print(\"dataframe 정보\")\n",
        "  print(df.info())\n",
        "  print(\"\\n\")\n",
        "  print(\"dataframe 간단 통계량\")\n",
        "  print(df.describe())\n",
        "  print(\"\\n\")\n",
        "  print(\"dataframe의 몇몇 데이터 샘플\")\n",
        "  print(df.head())"
      ],
      "execution_count": 10,
      "outputs": []
    },
    {
      "cell_type": "code",
      "metadata": {
        "colab": {
          "base_uri": "https://localhost:8080/"
        },
        "id": "aiYE9d5DeIYZ",
        "outputId": "0217d456-4b80-4175-f7cc-13238597433a"
      },
      "source": [
        "get_simple_df_info(tags_df)"
      ],
      "execution_count": 11,
      "outputs": [
        {
          "output_type": "stream",
          "text": [
            "dataframe 사이즈:  (3683, 4)\n",
            "\n",
            "\n",
            "dataframe 정보\n",
            "<class 'pandas.core.frame.DataFrame'>\n",
            "RangeIndex: 3683 entries, 0 to 3682\n",
            "Data columns (total 4 columns):\n",
            " #   Column     Non-Null Count  Dtype \n",
            "---  ------     --------------  ----- \n",
            " 0   userId     3683 non-null   int64 \n",
            " 1   movieId    3683 non-null   int64 \n",
            " 2   tag        3683 non-null   object\n",
            " 3   timestamp  3683 non-null   int64 \n",
            "dtypes: int64(3), object(1)\n",
            "memory usage: 115.2+ KB\n",
            "None\n",
            "\n",
            "\n",
            "dataframe 간단 통계량\n",
            "            userId        movieId     timestamp\n",
            "count  3683.000000    3683.000000  3.683000e+03\n",
            "mean    431.149335   27252.013576  1.320032e+09\n",
            "std     158.472553   43490.558803  1.721025e+08\n",
            "min       2.000000       1.000000  1.137179e+09\n",
            "25%     424.000000    1262.500000  1.137521e+09\n",
            "50%     474.000000    4454.000000  1.269833e+09\n",
            "75%     477.000000   39263.000000  1.498457e+09\n",
            "max     610.000000  193565.000000  1.537099e+09\n",
            "\n",
            "\n",
            "dataframe의 몇몇 데이터 샘플\n",
            "   userId  movieId              tag   timestamp\n",
            "0       2    60756            funny  1445714994\n",
            "1       2    60756  Highly quotable  1445714996\n",
            "2       2    60756     will ferrell  1445714992\n",
            "3       2    89774     Boxing story  1445715207\n",
            "4       2    89774              MMA  1445715200\n"
          ],
          "name": "stdout"
        }
      ]
    },
    {
      "cell_type": "markdown",
      "metadata": {
        "id": "Lue9b-VUeRo0"
      },
      "source": [
        "## KMRD \n",
        " - Korean Moive Recommender system Dtaset\n",
        " - 네이버 영화 평점 사이트를 바탕으로 제작 "
      ]
    },
    {
      "cell_type": "code",
      "metadata": {
        "id": "VpkzamiFee2r"
      },
      "source": [
        "path = data_path + \"kmrd\"\n",
        "%cd $path\n",
        "\n",
        "if not os.path.exists(path):\n",
        "  !git clone https://github.com/lovit/kmrd\n",
        "  !python setup.py install\n",
        "else:\n",
        "  print(\"data and path already exists!\")"
      ],
      "execution_count": null,
      "outputs": []
    },
    {
      "cell_type": "code",
      "metadata": {
        "colab": {
          "base_uri": "https://localhost:8080/"
        },
        "id": "zbkE15_Tej8B",
        "outputId": "757d7827-3fe9-4200-8d72-6874d1dddf44"
      },
      "source": [
        "!git clone https://github.com/lovit/kmrd\n",
        "!python setup.py install"
      ],
      "execution_count": 21,
      "outputs": [
        {
          "output_type": "stream",
          "text": [
            "shell-init: error retrieving current directory: getcwd: cannot access parent directories: No such file or directory\n",
            "fatal: could not create work tree dir 'kmrd': No such file or directory\n",
            "shell-init: error retrieving current directory: getcwd: cannot access parent directories: No such file or directory\n",
            "shell-init: error retrieving current directory: getcwd: cannot access parent directories: No such file or directory\n",
            "python3: can't open file 'setup.py': [Errno 2] No such file or directory\n"
          ],
          "name": "stdout"
        }
      ]
    },
    {
      "cell_type": "code",
      "metadata": {
        "id": "gcaOY3IAgCRr"
      },
      "source": [
        ""
      ],
      "execution_count": null,
      "outputs": []
    }
  ]
}