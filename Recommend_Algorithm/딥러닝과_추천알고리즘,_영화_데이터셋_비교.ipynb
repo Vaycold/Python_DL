{
  "nbformat": 4,
  "nbformat_minor": 0,
  "metadata": {
    "colab": {
      "name": "딥러닝과 추천알고리즘, 영화 데이터셋 비교.ipynb",
      "provenance": [],
      "authorship_tag": "ABX9TyNvBt0Zpn1FsxrhuKx5Iw5x",
      "include_colab_link": true
    },
    "kernelspec": {
      "name": "python3",
      "display_name": "Python 3"
    },
    "language_info": {
      "name": "python"
    }
  },
  "cells": [
    {
      "cell_type": "markdown",
      "metadata": {
        "id": "view-in-github",
        "colab_type": "text"
      },
      "source": [
        "<a href=\"https://colab.research.google.com/github/moch1996/Vaycold/blob/main/Recommend_Algorithm/%EB%94%A5%EB%9F%AC%EB%8B%9D%EA%B3%BC_%EC%B6%94%EC%B2%9C%EC%95%8C%EA%B3%A0%EB%A6%AC%EC%A6%98%2C_%EC%98%81%ED%99%94_%EB%8D%B0%EC%9D%B4%ED%84%B0%EC%85%8B_%EB%B9%84%EA%B5%90.ipynb\" target=\"_parent\"><img src=\"https://colab.research.google.com/assets/colab-badge.svg\" alt=\"Open In Colab\"/></a>"
      ]
    },
    {
      "cell_type": "markdown",
      "metadata": {
        "id": "jiN5sxqoaeXn"
      },
      "source": [
        "# 데이터셋 종류\n",
        " 1. Movielens\n",
        " 2. KMRD\n",
        " 3. Netflix  "
      ]
    },
    {
      "cell_type": "code",
      "metadata": {
        "id": "obOWRRbkaYAb"
      },
      "source": [
        "import os\n",
        "import pandas as pd"
      ],
      "execution_count": 1,
      "outputs": []
    },
    {
      "cell_type": "code",
      "metadata": {
        "id": "8AB9tFODa14S"
      },
      "source": [
        "from google.colab import drive"
      ],
      "execution_count": 2,
      "outputs": []
    },
    {
      "cell_type": "code",
      "metadata": {
        "colab": {
          "base_uri": "https://localhost:8080/"
        },
        "id": "xtq0iSnXa5Uh",
        "outputId": "6f81b340-9fcb-4467-a679-dff88a8607db"
      },
      "source": [
        "drive.mount('/content/drive')"
      ],
      "execution_count": 3,
      "outputs": [
        {
          "output_type": "stream",
          "text": [
            "Mounted at /content/drive\n"
          ],
          "name": "stdout"
        }
      ]
    },
    {
      "cell_type": "code",
      "metadata": {
        "id": "Aldu6yG3dWK9"
      },
      "source": [
        "data_path = '/content/drive/MyDrive/fastcampus/recommend/'"
      ],
      "execution_count": 4,
      "outputs": []
    },
    {
      "cell_type": "markdown",
      "metadata": {
        "id": "LAwQEu_pH67I"
      },
      "source": [
        "## Movielens 데이터"
      ]
    },
    {
      "cell_type": "code",
      "metadata": {
        "id": "nZkgoqV4doby",
        "outputId": "5a68b4a5-b208-4b7b-ec05-0db2eabc4a12",
        "colab": {
          "base_uri": "https://localhost:8080/",
          "height": 229
        }
      },
      "source": [
        "path = data_path+'movielens'\n",
        "tags_df = pd.read_csv(os.path.join(path, 'tags.csv'), encoding='utf-8')\n",
        "ratings_df = pd.read_csv(os.path.join(path, 'ratings.csv'), index_col = 'userId', encoding='utf-8')\n",
        "movies_df = pd.read_csv(os.path.join(path, 'movies.csv'), index_col = 'movieId', encoding='utf-8')"
      ],
      "execution_count": 5,
      "outputs": [
        {
          "output_type": "error",
          "ename": "NameError",
          "evalue": "ignored",
          "traceback": [
            "\u001b[0;31m---------------------------------------------------------------------------\u001b[0m",
            "\u001b[0;31mNameError\u001b[0m                                 Traceback (most recent call last)",
            "\u001b[0;32m<ipython-input-5-2fcf9c8c9706>\u001b[0m in \u001b[0;36m<module>\u001b[0;34m()\u001b[0m\n\u001b[1;32m      1\u001b[0m \u001b[0mpath\u001b[0m \u001b[0;34m=\u001b[0m \u001b[0mdata_path\u001b[0m\u001b[0;34m+\u001b[0m\u001b[0;34m'movielens'\u001b[0m\u001b[0;34m\u001b[0m\u001b[0;34m\u001b[0m\u001b[0m\n\u001b[0;32m----> 2\u001b[0;31m \u001b[0mtags_df\u001b[0m \u001b[0;34m=\u001b[0m \u001b[0mpd\u001b[0m\u001b[0;34m.\u001b[0m\u001b[0mread_csv\u001b[0m\u001b[0;34m(\u001b[0m\u001b[0mos\u001b[0m\u001b[0;34m.\u001b[0m\u001b[0mpath\u001b[0m\u001b[0;34m.\u001b[0m\u001b[0mjoin\u001b[0m\u001b[0;34m(\u001b[0m\u001b[0mpath\u001b[0m\u001b[0;34m,\u001b[0m \u001b[0;34m'tags.csv'\u001b[0m\u001b[0;34m)\u001b[0m\u001b[0;34m,\u001b[0m \u001b[0mencoding\u001b[0m\u001b[0;34m=\u001b[0m\u001b[0;34m'utf-8'\u001b[0m\u001b[0;34m)\u001b[0m\u001b[0;34m\u001b[0m\u001b[0;34m\u001b[0m\u001b[0m\n\u001b[0m\u001b[1;32m      3\u001b[0m \u001b[0mratings_df\u001b[0m \u001b[0;34m=\u001b[0m \u001b[0mpd\u001b[0m\u001b[0;34m.\u001b[0m\u001b[0mread_csv\u001b[0m\u001b[0;34m(\u001b[0m\u001b[0mos\u001b[0m\u001b[0;34m.\u001b[0m\u001b[0mpath\u001b[0m\u001b[0;34m.\u001b[0m\u001b[0mjoin\u001b[0m\u001b[0;34m(\u001b[0m\u001b[0mpath\u001b[0m\u001b[0;34m,\u001b[0m \u001b[0;34m'ratings.csv'\u001b[0m\u001b[0;34m)\u001b[0m\u001b[0;34m,\u001b[0m \u001b[0mindex_col\u001b[0m \u001b[0;34m=\u001b[0m \u001b[0;34m'userId'\u001b[0m\u001b[0;34m,\u001b[0m \u001b[0mencoding\u001b[0m\u001b[0;34m=\u001b[0m\u001b[0;34m'utf-8'\u001b[0m\u001b[0;34m)\u001b[0m\u001b[0;34m\u001b[0m\u001b[0;34m\u001b[0m\u001b[0m\n\u001b[1;32m      4\u001b[0m \u001b[0mmovies_df\u001b[0m \u001b[0;34m=\u001b[0m \u001b[0mpd\u001b[0m\u001b[0;34m.\u001b[0m\u001b[0mread_csv\u001b[0m\u001b[0;34m(\u001b[0m\u001b[0mos\u001b[0m\u001b[0;34m.\u001b[0m\u001b[0mpath\u001b[0m\u001b[0;34m.\u001b[0m\u001b[0mjoin\u001b[0m\u001b[0;34m(\u001b[0m\u001b[0mpath\u001b[0m\u001b[0;34m,\u001b[0m \u001b[0;34m'movies.csv'\u001b[0m\u001b[0;34m)\u001b[0m\u001b[0;34m,\u001b[0m \u001b[0mindex_col\u001b[0m \u001b[0;34m=\u001b[0m \u001b[0;34m'movieId'\u001b[0m\u001b[0;34m,\u001b[0m \u001b[0mencoding\u001b[0m\u001b[0;34m=\u001b[0m\u001b[0;34m'utf-8'\u001b[0m\u001b[0;34m)\u001b[0m\u001b[0;34m\u001b[0m\u001b[0;34m\u001b[0m\u001b[0m\n",
            "\u001b[0;31mNameError\u001b[0m: name 'pd' is not defined"
          ]
        }
      ]
    },
    {
      "cell_type": "code",
      "metadata": {
        "id": "RgmCwVIaeGbn"
      },
      "source": [
        "def get_simple_df_info(df):\n",
        "  print(\"dataframe 사이즈: \", df.shape)\n",
        "  print(\"\\n\")\n",
        "  print(\"dataframe 정보\")\n",
        "  print(df.info())\n",
        "  print(\"\\n\")\n",
        "  print(\"dataframe 간단 통계량\")\n",
        "  print(df.describe())\n",
        "  print(\"\\n\")\n",
        "  print(\"dataframe의 몇몇 데이터 샘플\")\n",
        "  print(df.head())"
      ],
      "execution_count": 22,
      "outputs": []
    },
    {
      "cell_type": "code",
      "metadata": {
        "id": "aiYE9d5DeIYZ"
      },
      "source": [
        "get_simple_df_info(tags_df)"
      ],
      "execution_count": null,
      "outputs": []
    },
    {
      "cell_type": "markdown",
      "metadata": {
        "id": "Lue9b-VUeRo0"
      },
      "source": [
        "## KMRD \n",
        " - Korean Moive Recommender system Dtaset\n",
        " - 네이버 영화 평점 사이트를 바탕으로 제작 "
      ]
    },
    {
      "cell_type": "code",
      "metadata": {
        "id": "nR_WiPw5JRgn",
        "outputId": "1b441b13-343f-4ab3-be02-347041c70c26",
        "colab": {
          "base_uri": "https://localhost:8080/"
        }
      },
      "source": [
        "%cd $data_path"
      ],
      "execution_count": 5,
      "outputs": [
        {
          "output_type": "stream",
          "text": [
            "/content/drive/MyDrive/fastcampus/recommend\n"
          ],
          "name": "stdout"
        }
      ]
    },
    {
      "cell_type": "code",
      "metadata": {
        "id": "eAf78nG8JV0F",
        "outputId": "2937bae1-4c80-4c5c-c7a3-bc3b2a0fd051",
        "colab": {
          "base_uri": "https://localhost:8080/"
        }
      },
      "source": [
        "!git clone https://github.com/lovit/kmrd"
      ],
      "execution_count": 6,
      "outputs": [
        {
          "output_type": "stream",
          "text": [
            "Cloning into 'kmrd'...\n",
            "remote: Enumerating objects: 84, done.\u001b[K\n",
            "remote: Counting objects: 100% (84/84), done.\u001b[K\n",
            "remote: Compressing objects: 100% (51/51), done.\u001b[K\n",
            "remote: Total 298 (delta 38), reused 69 (delta 33), pack-reused 214\u001b[K\n",
            "Receiving objects: 100% (298/298), 194.05 MiB | 20.01 MiB/s, done.\n",
            "Resolving deltas: 100% (135/135), done.\n"
          ],
          "name": "stdout"
        }
      ]
    },
    {
      "cell_type": "code",
      "metadata": {
        "id": "ejC0AK1BPFdI",
        "outputId": "aef65115-b920-41fc-9753-8127e6c00a90",
        "colab": {
          "base_uri": "https://localhost:8080/"
        }
      },
      "source": [
        "%cd $data_path/kmrd"
      ],
      "execution_count": 10,
      "outputs": [
        {
          "output_type": "stream",
          "text": [
            "/content/drive/MyDrive/fastcampus/recommend/kmrd\n"
          ],
          "name": "stdout"
        }
      ]
    },
    {
      "cell_type": "code",
      "metadata": {
        "id": "l7jBnGauPd0j",
        "outputId": "c5bd89fe-2b74-4288-c629-dc499afa2c74",
        "colab": {
          "base_uri": "https://localhost:8080/"
        }
      },
      "source": [
        "!python setup.py install"
      ],
      "execution_count": 11,
      "outputs": [
        {
          "output_type": "stream",
          "text": [
            "running install\n",
            "running bdist_egg\n",
            "running egg_info\n",
            "creating kmr_dataset.egg-info\n",
            "writing kmr_dataset.egg-info/PKG-INFO\n",
            "writing dependency_links to kmr_dataset.egg-info/dependency_links.txt\n",
            "writing requirements to kmr_dataset.egg-info/requires.txt\n",
            "writing top-level names to kmr_dataset.egg-info/top_level.txt\n",
            "writing manifest file 'kmr_dataset.egg-info/SOURCES.txt'\n",
            "writing manifest file 'kmr_dataset.egg-info/SOURCES.txt'\n",
            "installing library code to build/bdist.linux-x86_64/egg\n",
            "running install_lib\n",
            "running build_py\n",
            "creating build\n",
            "creating build/lib\n",
            "creating build/lib/kmr_dataset\n",
            "copying kmr_dataset/__init__.py -> build/lib/kmr_dataset\n",
            "copying kmr_dataset/install.py -> build/lib/kmr_dataset\n",
            "copying kmr_dataset/io.py -> build/lib/kmr_dataset\n",
            "creating build/lib/kmr_dataset/datafile\n",
            "creating build/lib/kmr_dataset/datafile/kmrd-small\n",
            "copying kmr_dataset/datafile/kmrd-small/castings.csv -> build/lib/kmr_dataset/datafile/kmrd-small\n",
            "copying kmr_dataset/datafile/kmrd-small/countries.csv -> build/lib/kmr_dataset/datafile/kmrd-small\n",
            "copying kmr_dataset/datafile/kmrd-small/genres.csv -> build/lib/kmr_dataset/datafile/kmrd-small\n",
            "copying kmr_dataset/datafile/kmrd-small/movies.txt -> build/lib/kmr_dataset/datafile/kmrd-small\n",
            "copying kmr_dataset/datafile/kmrd-small/peoples.txt -> build/lib/kmr_dataset/datafile/kmrd-small\n",
            "copying kmr_dataset/datafile/kmrd-small/rates.csv -> build/lib/kmr_dataset/datafile/kmrd-small\n",
            "creating build/lib/kmr_dataset/datafile/kmrd\n",
            "copying kmr_dataset/datafile/kmrd/meta.zip -> build/lib/kmr_dataset/datafile/kmrd\n",
            "copying kmr_dataset/datafile/kmrd/rates-2m.zip -> build/lib/kmr_dataset/datafile/kmrd\n",
            "copying kmr_dataset/datafile/kmrd/rates-5m.zip -> build/lib/kmr_dataset/datafile/kmrd\n",
            "creating build/bdist.linux-x86_64\n",
            "creating build/bdist.linux-x86_64/egg\n",
            "creating build/bdist.linux-x86_64/egg/kmr_dataset\n",
            "copying build/lib/kmr_dataset/__init__.py -> build/bdist.linux-x86_64/egg/kmr_dataset\n",
            "copying build/lib/kmr_dataset/install.py -> build/bdist.linux-x86_64/egg/kmr_dataset\n",
            "copying build/lib/kmr_dataset/io.py -> build/bdist.linux-x86_64/egg/kmr_dataset\n",
            "creating build/bdist.linux-x86_64/egg/kmr_dataset/datafile\n",
            "creating build/bdist.linux-x86_64/egg/kmr_dataset/datafile/kmrd-small\n",
            "copying build/lib/kmr_dataset/datafile/kmrd-small/castings.csv -> build/bdist.linux-x86_64/egg/kmr_dataset/datafile/kmrd-small\n",
            "copying build/lib/kmr_dataset/datafile/kmrd-small/countries.csv -> build/bdist.linux-x86_64/egg/kmr_dataset/datafile/kmrd-small\n",
            "copying build/lib/kmr_dataset/datafile/kmrd-small/genres.csv -> build/bdist.linux-x86_64/egg/kmr_dataset/datafile/kmrd-small\n",
            "copying build/lib/kmr_dataset/datafile/kmrd-small/movies.txt -> build/bdist.linux-x86_64/egg/kmr_dataset/datafile/kmrd-small\n",
            "copying build/lib/kmr_dataset/datafile/kmrd-small/peoples.txt -> build/bdist.linux-x86_64/egg/kmr_dataset/datafile/kmrd-small\n",
            "copying build/lib/kmr_dataset/datafile/kmrd-small/rates.csv -> build/bdist.linux-x86_64/egg/kmr_dataset/datafile/kmrd-small\n",
            "creating build/bdist.linux-x86_64/egg/kmr_dataset/datafile/kmrd\n",
            "copying build/lib/kmr_dataset/datafile/kmrd/meta.zip -> build/bdist.linux-x86_64/egg/kmr_dataset/datafile/kmrd\n",
            "copying build/lib/kmr_dataset/datafile/kmrd/rates-2m.zip -> build/bdist.linux-x86_64/egg/kmr_dataset/datafile/kmrd\n",
            "copying build/lib/kmr_dataset/datafile/kmrd/rates-5m.zip -> build/bdist.linux-x86_64/egg/kmr_dataset/datafile/kmrd\n",
            "byte-compiling build/bdist.linux-x86_64/egg/kmr_dataset/__init__.py to __init__.cpython-37.pyc\n",
            "byte-compiling build/bdist.linux-x86_64/egg/kmr_dataset/install.py to install.cpython-37.pyc\n",
            "byte-compiling build/bdist.linux-x86_64/egg/kmr_dataset/io.py to io.cpython-37.pyc\n",
            "creating build/bdist.linux-x86_64/egg/EGG-INFO\n",
            "copying kmr_dataset.egg-info/PKG-INFO -> build/bdist.linux-x86_64/egg/EGG-INFO\n",
            "copying kmr_dataset.egg-info/SOURCES.txt -> build/bdist.linux-x86_64/egg/EGG-INFO\n",
            "copying kmr_dataset.egg-info/dependency_links.txt -> build/bdist.linux-x86_64/egg/EGG-INFO\n",
            "copying kmr_dataset.egg-info/requires.txt -> build/bdist.linux-x86_64/egg/EGG-INFO\n",
            "copying kmr_dataset.egg-info/top_level.txt -> build/bdist.linux-x86_64/egg/EGG-INFO\n",
            "zip_safe flag not set; analyzing archive contents...\n",
            "kmr_dataset.__pycache__.install.cpython-37: module references __file__\n",
            "kmr_dataset.__pycache__.io.cpython-37: module references __file__\n",
            "creating dist\n",
            "creating 'dist/kmr_dataset-1.0.1-py3.7.egg' and adding 'build/bdist.linux-x86_64/egg' to it\n",
            "removing 'build/bdist.linux-x86_64/egg' (and everything under it)\n",
            "Processing kmr_dataset-1.0.1-py3.7.egg\n",
            "creating /usr/local/lib/python3.7/dist-packages/kmr_dataset-1.0.1-py3.7.egg\n",
            "Extracting kmr_dataset-1.0.1-py3.7.egg to /usr/local/lib/python3.7/dist-packages\n",
            "Adding kmr-dataset 1.0.1 to easy-install.pth file\n",
            "\n",
            "Installed /usr/local/lib/python3.7/dist-packages/kmr_dataset-1.0.1-py3.7.egg\n",
            "Processing dependencies for kmr-dataset==1.0.1\n",
            "Searching for numpy==1.19.5\n",
            "Best match: numpy 1.19.5\n",
            "Adding numpy 1.19.5 to easy-install.pth file\n",
            "Installing f2py script to /usr/local/bin\n",
            "Installing f2py3 script to /usr/local/bin\n",
            "Installing f2py3.7 script to /usr/local/bin\n",
            "\n",
            "Using /usr/local/lib/python3.7/dist-packages\n",
            "Searching for scipy==1.4.1\n",
            "Best match: scipy 1.4.1\n",
            "Adding scipy 1.4.1 to easy-install.pth file\n",
            "\n",
            "Using /usr/local/lib/python3.7/dist-packages\n",
            "Finished processing dependencies for kmr-dataset==1.0.1\n"
          ],
          "name": "stdout"
        }
      ]
    },
    {
      "cell_type": "code",
      "metadata": {
        "id": "uPsRp0MaIJMe"
      },
      "source": [
        "'''\n",
        "!git clone https://github.com/lovit/kmrd\n",
        "!python setup.py install\n",
        "'''"
      ],
      "execution_count": null,
      "outputs": []
    },
    {
      "cell_type": "code",
      "metadata": {
        "id": "VpkzamiFee2r"
      },
      "source": [
        "'''\n",
        "path = data_path + \"kmrd\"\n",
        "%cd $path\n",
        "\n",
        "if not os.path.exists(path):\n",
        "  !git clone https://github.com/lovit/kmrd\n",
        "  !python setup.py install\n",
        "else:\n",
        "  print(\"data and path already exists!\")\n",
        "'''"
      ],
      "execution_count": null,
      "outputs": []
    },
    {
      "cell_type": "code",
      "metadata": {
        "id": "gcaOY3IAgCRr"
      },
      "source": [
        "# dataset 종류\n",
        "# 'small', '2m', '5m\n",
        "# delimiter = '\\t'"
      ],
      "execution_count": 13,
      "outputs": []
    },
    {
      "cell_type": "markdown",
      "metadata": {
        "id": "_mol77s2Gepc"
      },
      "source": [
        " - 2m 또는 5m은 zip파일로 되어 있음\n",
        " - kmr_dataset 있는 directory 임을 확인해야한다."
      ]
    },
    {
      "cell_type": "code",
      "metadata": {
        "id": "DlnTP32JHESE",
        "outputId": "194c71da-b6b4-4829-ba0d-479f6eec44d8",
        "colab": {
          "base_uri": "https://localhost:8080/"
        }
      },
      "source": [
        "from kmr_dataset import load_rates\n",
        "from kmr_dataset import get_paths\n",
        "\n",
        "paths = get_paths(size='2m')\n",
        "rates, timestamps = load_rates(size='2m')"
      ],
      "execution_count": 14,
      "outputs": [
        {
          "output_type": "stream",
          "text": [
            "Unzipped meta.zip\n",
            "Unzipped rates-2m.zip\n",
            "skip 44048 lines which are duplicated (user, item), #uniques=2570549\n"
          ],
          "name": "stdout"
        }
      ]
    },
    {
      "cell_type": "code",
      "metadata": {
        "id": "kJ2M9g9KGzku"
      },
      "source": [
        "# 우리는 kmrd-small 데이터 사용 예정"
      ],
      "execution_count": 15,
      "outputs": []
    },
    {
      "cell_type": "code",
      "metadata": {
        "id": "qz8oOBB4UlKy",
        "outputId": "1f81d4f5-568f-4d8c-b89d-91864591c810",
        "colab": {
          "base_uri": "https://localhost:8080/",
          "height": 35
        }
      },
      "source": [
        "data_path"
      ],
      "execution_count": 17,
      "outputs": [
        {
          "output_type": "execute_result",
          "data": {
            "application/vnd.google.colaboratory.intrinsic+json": {
              "type": "string"
            },
            "text/plain": [
              "'/content/drive/MyDrive/fastcampus/recommend/'"
            ]
          },
          "metadata": {
            "tags": []
          },
          "execution_count": 17
        }
      ]
    },
    {
      "cell_type": "code",
      "metadata": {
        "id": "1Gu18wRmUlgY"
      },
      "source": [
        "path = data_path + 'kmrd/kmr_dataset/datafile/kmrd-small'"
      ],
      "execution_count": 18,
      "outputs": []
    },
    {
      "cell_type": "code",
      "metadata": {
        "id": "PNJHeNBEUxPH",
        "outputId": "cffa5d89-f646-4eeb-eaeb-00565bfb5440",
        "colab": {
          "base_uri": "https://localhost:8080/"
        }
      },
      "source": [
        "print(os.listdir(path))"
      ],
      "execution_count": 20,
      "outputs": [
        {
          "output_type": "stream",
          "text": [
            "['castings.csv', 'countries.csv', 'genres.csv', 'movies.txt', 'peoples.txt', 'rates.csv']\n"
          ],
          "name": "stdout"
        }
      ]
    },
    {
      "cell_type": "code",
      "metadata": {
        "id": "sBKzAQ8By18M",
        "outputId": "5fcc5483-5131-4609-e4c0-feca92a61035",
        "colab": {
          "base_uri": "https://localhost:8080/"
        }
      },
      "source": [
        "castings_df = pd.read_csv(os.path.join(path, 'castings.csv'), encoding='utf-8')\n",
        "get_simple_df_info(castings_df)"
      ],
      "execution_count": 23,
      "outputs": [
        {
          "output_type": "stream",
          "text": [
            "dataframe 사이즈:  (9776, 4)\n",
            "\n",
            "\n",
            "dataframe 정보\n",
            "<class 'pandas.core.frame.DataFrame'>\n",
            "RangeIndex: 9776 entries, 0 to 9775\n",
            "Data columns (total 4 columns):\n",
            " #   Column   Non-Null Count  Dtype\n",
            "---  ------   --------------  -----\n",
            " 0   movie    9776 non-null   int64\n",
            " 1   people   9776 non-null   int64\n",
            " 2   order    9776 non-null   int64\n",
            " 3   leading  9776 non-null   int64\n",
            "dtypes: int64(4)\n",
            "memory usage: 305.6 KB\n",
            "None\n",
            "\n",
            "\n",
            "dataframe 간단 통계량\n",
            "              movie         people        order      leading\n",
            "count   9776.000000    9776.000000  9776.000000  9776.000000\n",
            "mean   10499.104746   36151.930851     9.799509     0.295315\n",
            "std      287.023933   62989.430164    12.576221     0.456208\n",
            "min    10001.000000       5.000000     1.000000     0.000000\n",
            "25%    10260.000000    4327.000000     3.000000     0.000000\n",
            "50%    10485.000000   14048.500000     6.000000     0.000000\n",
            "75%    10754.250000   27978.000000    10.000000     1.000000\n",
            "max    10999.000000  420466.000000   101.000000     1.000000\n",
            "\n",
            "\n",
            "dataframe의 몇몇 데이터 샘플\n",
            "   movie  people  order  leading\n",
            "0  10001    4374      1        1\n",
            "1  10001     178      2        1\n",
            "2  10001    3241      3        1\n",
            "3  10001   47952      4        1\n",
            "4  10001   47953      5        0\n"
          ],
          "name": "stdout"
        }
      ]
    },
    {
      "cell_type": "code",
      "metadata": {
        "id": "a0gLIuwbzDN8",
        "outputId": "32782fbc-d56e-4280-e6ee-58bd90f3a70e",
        "colab": {
          "base_uri": "https://localhost:8080/"
        }
      },
      "source": [
        "countries_df = pd.read_csv(os.path.join(path, 'countries.csv'), encoding='utf-8')\n",
        "get_simple_df_info(countries_df)"
      ],
      "execution_count": 24,
      "outputs": [
        {
          "output_type": "stream",
          "text": [
            "dataframe 사이즈:  (1109, 2)\n",
            "\n",
            "\n",
            "dataframe 정보\n",
            "<class 'pandas.core.frame.DataFrame'>\n",
            "RangeIndex: 1109 entries, 0 to 1108\n",
            "Data columns (total 2 columns):\n",
            " #   Column   Non-Null Count  Dtype \n",
            "---  ------   --------------  ----- \n",
            " 0   movie    1109 non-null   int64 \n",
            " 1   country  1109 non-null   object\n",
            "dtypes: int64(1), object(1)\n",
            "memory usage: 17.5+ KB\n",
            "None\n",
            "\n",
            "\n",
            "dataframe 간단 통계량\n",
            "              movie\n",
            "count   1109.000000\n",
            "mean   10496.257890\n",
            "std      285.409915\n",
            "min    10001.000000\n",
            "25%    10253.000000\n",
            "50%    10492.000000\n",
            "75%    10746.000000\n",
            "max    10999.000000\n",
            "\n",
            "\n",
            "dataframe의 몇몇 데이터 샘플\n",
            "   movie country\n",
            "0  10001    이탈리아\n",
            "1  10001     프랑스\n",
            "2  10002      미국\n",
            "3  10003      미국\n",
            "4  10004      미국\n"
          ],
          "name": "stdout"
        }
      ]
    },
    {
      "cell_type": "code",
      "metadata": {
        "id": "NkdeT7fvxxyh",
        "outputId": "fb5e9c0a-4eb3-4a62-81ba-26c072ea4fdb",
        "colab": {
          "base_uri": "https://localhost:8080/"
        }
      },
      "source": [
        "genres_df = pd.read_csv(os.path.join(path, 'genres.csv'), encoding='utf-8')\n",
        "get_simple_df_info(genres_df)"
      ],
      "execution_count": 25,
      "outputs": [
        {
          "output_type": "stream",
          "text": [
            "dataframe 사이즈:  (2025, 2)\n",
            "\n",
            "\n",
            "dataframe 정보\n",
            "<class 'pandas.core.frame.DataFrame'>\n",
            "RangeIndex: 2025 entries, 0 to 2024\n",
            "Data columns (total 2 columns):\n",
            " #   Column  Non-Null Count  Dtype \n",
            "---  ------  --------------  ----- \n",
            " 0   movie   2025 non-null   int64 \n",
            " 1   genre   2025 non-null   object\n",
            "dtypes: int64(1), object(1)\n",
            "memory usage: 31.8+ KB\n",
            "None\n",
            "\n",
            "\n",
            "dataframe 간단 통계량\n",
            "              movie\n",
            "count   2025.000000\n",
            "mean   10474.521975\n",
            "std      289.972315\n",
            "min    10001.000000\n",
            "25%    10221.000000\n",
            "50%    10474.000000\n",
            "75%    10719.000000\n",
            "max    10999.000000\n",
            "\n",
            "\n",
            "dataframe의 몇몇 데이터 샘플\n",
            "   movie   genre\n",
            "0  10001     드라마\n",
            "1  10001  멜로/로맨스\n",
            "2  10002      SF\n",
            "3  10002     코미디\n",
            "4  10003      SF\n"
          ],
          "name": "stdout"
        }
      ]
    },
    {
      "cell_type": "code",
      "metadata": {
        "id": "zkKAByrYzPyi",
        "outputId": "22045e7a-a13c-499f-d44b-c5d489c0c54f",
        "colab": {
          "base_uri": "https://localhost:8080/"
        }
      },
      "source": [
        "movies_df = pd.read_csv(os.path.join(path, 'movies.txt'), sep='\\t', encoding='utf-8')\n",
        "get_simple_df_info(movies_df)"
      ],
      "execution_count": 26,
      "outputs": [
        {
          "output_type": "stream",
          "text": [
            "dataframe 사이즈:  (999, 5)\n",
            "\n",
            "\n",
            "dataframe 정보\n",
            "<class 'pandas.core.frame.DataFrame'>\n",
            "RangeIndex: 999 entries, 0 to 998\n",
            "Data columns (total 5 columns):\n",
            " #   Column     Non-Null Count  Dtype  \n",
            "---  ------     --------------  -----  \n",
            " 0   movie      999 non-null    int64  \n",
            " 1   title      992 non-null    object \n",
            " 2   title_eng  991 non-null    object \n",
            " 3   year       609 non-null    float64\n",
            " 4   grade      957 non-null    object \n",
            "dtypes: float64(1), int64(1), object(3)\n",
            "memory usage: 39.1+ KB\n",
            "None\n",
            "\n",
            "\n",
            "dataframe 간단 통계량\n",
            "              movie         year\n",
            "count    999.000000   609.000000\n",
            "mean   10500.000000  1987.471264\n",
            "std      288.530761    15.303710\n",
            "min    10001.000000  1926.000000\n",
            "25%    10250.500000  1982.000000\n",
            "50%    10500.000000  1989.000000\n",
            "75%    10749.500000  1991.000000\n",
            "max    10999.000000  2020.000000\n",
            "\n",
            "\n",
            "dataframe의 몇몇 데이터 샘플\n",
            "   movie                 title  ...    year    grade\n",
            "0  10001                시네마 천국  ...  2013.0   전체 관람가\n",
            "1  10002              빽 투 더 퓨쳐  ...  2015.0  12세 관람가\n",
            "2  10003            빽 투 더 퓨쳐 2  ...  2015.0  12세 관람가\n",
            "3  10004            빽 투 더 퓨쳐 3  ...  1990.0   전체 관람가\n",
            "4  10005  스타워즈 에피소드 4 - 새로운 희망  ...  1997.0       PG\n",
            "\n",
            "[5 rows x 5 columns]\n"
          ],
          "name": "stdout"
        }
      ]
    },
    {
      "cell_type": "code",
      "metadata": {
        "id": "b0_z_v1yza1N",
        "outputId": "d8c49d10-8a08-4a93-aa63-f10bc2d4d926",
        "colab": {
          "base_uri": "https://localhost:8080/"
        }
      },
      "source": [
        "peoples_df = pd.read_csv(os.path.join(path, 'peoples.txt'), sep='\\t', encoding='utf-8')\n",
        "get_simple_df_info(peoples_df)"
      ],
      "execution_count": 27,
      "outputs": [
        {
          "output_type": "stream",
          "text": [
            "dataframe 사이즈:  (7172, 3)\n",
            "\n",
            "\n",
            "dataframe 정보\n",
            "<class 'pandas.core.frame.DataFrame'>\n",
            "RangeIndex: 7172 entries, 0 to 7171\n",
            "Data columns (total 3 columns):\n",
            " #   Column    Non-Null Count  Dtype \n",
            "---  ------    --------------  ----- \n",
            " 0   people    7172 non-null   int64 \n",
            " 1   korean    7172 non-null   object\n",
            " 2   original  6305 non-null   object\n",
            "dtypes: int64(1), object(2)\n",
            "memory usage: 168.2+ KB\n",
            "None\n",
            "\n",
            "\n",
            "dataframe 간단 통계량\n",
            "              people\n",
            "count    7172.000000\n",
            "mean    45828.791132\n",
            "std     70461.756830\n",
            "min         5.000000\n",
            "25%      7157.000000\n",
            "50%     15658.500000\n",
            "75%     42337.000000\n",
            "max    420466.000000\n",
            "\n",
            "\n",
            "dataframe의 몇몇 데이터 샘플\n",
            "   people    korean        original\n",
            "0       5    아담 볼드윈    Adam Baldwin\n",
            "1       8   애드리안 라인     Adrian Lyne\n",
            "2       9     에이단 퀸     Aidan Quinn\n",
            "3      13  구로사와 아키라  Akira Kurosawa\n",
            "4      15     알 파치노       Al Pacino\n"
          ],
          "name": "stdout"
        }
      ]
    },
    {
      "cell_type": "code",
      "metadata": {
        "id": "I--TmJwXzkPn",
        "outputId": "c75be519-59c6-441e-8b83-46b128968a6d",
        "colab": {
          "base_uri": "https://localhost:8080/"
        }
      },
      "source": [
        "rates_df = pd.read_csv(os.path.join(path, 'rates.csv'), encoding='utf-8')\n",
        "get_simple_df_info(rates_df)"
      ],
      "execution_count": 28,
      "outputs": [
        {
          "output_type": "stream",
          "text": [
            "dataframe 사이즈:  (140710, 4)\n",
            "\n",
            "\n",
            "dataframe 정보\n",
            "<class 'pandas.core.frame.DataFrame'>\n",
            "RangeIndex: 140710 entries, 0 to 140709\n",
            "Data columns (total 4 columns):\n",
            " #   Column  Non-Null Count   Dtype\n",
            "---  ------  --------------   -----\n",
            " 0   user    140710 non-null  int64\n",
            " 1   movie   140710 non-null  int64\n",
            " 2   rate    140710 non-null  int64\n",
            " 3   time    140710 non-null  int64\n",
            "dtypes: int64(4)\n",
            "memory usage: 4.3 MB\n",
            "None\n",
            "\n",
            "\n",
            "dataframe 간단 통계량\n",
            "                user          movie           rate          time\n",
            "count  140710.000000  140710.000000  140710.000000  1.407100e+05\n",
            "mean    14948.679916   10278.818861       8.953258  1.297460e+09\n",
            "std     14539.728057     292.806259       2.106047  1.374877e+08\n",
            "min         0.000000   10001.000000       1.000000  1.069340e+09\n",
            "25%      2980.000000   10048.000000       9.000000  1.180398e+09\n",
            "50%      9292.000000   10148.000000      10.000000  1.271521e+09\n",
            "75%     24129.000000   10489.000000      10.000000  1.409478e+09\n",
            "max     52027.000000   10998.000000      10.000000  1.576526e+09\n",
            "\n",
            "\n",
            "dataframe의 몇몇 데이터 샘플\n",
            "   user  movie  rate        time\n",
            "0     0  10003     7  1494128040\n",
            "1     0  10004     7  1467529800\n",
            "2     0  10018     9  1513344120\n",
            "3     0  10021     9  1424497980\n",
            "4     0  10022     7  1427627340\n"
          ],
          "name": "stdout"
        }
      ]
    },
    {
      "cell_type": "code",
      "metadata": {
        "id": "CejXa4xJVj4N"
      },
      "source": [
        " # 장르 데이터 확인"
      ],
      "execution_count": 29,
      "outputs": []
    },
    {
      "cell_type": "code",
      "metadata": {
        "id": "R54JuL_vV23X",
        "outputId": "be6e1fce-b8c9-427c-f85d-082ae788f8d3",
        "colab": {
          "base_uri": "https://localhost:8080/",
          "height": 195
        }
      },
      "source": [
        "genres_df.head()"
      ],
      "execution_count": 30,
      "outputs": [
        {
          "output_type": "execute_result",
          "data": {
            "text/html": [
              "<div>\n",
              "<style scoped>\n",
              "    .dataframe tbody tr th:only-of-type {\n",
              "        vertical-align: middle;\n",
              "    }\n",
              "\n",
              "    .dataframe tbody tr th {\n",
              "        vertical-align: top;\n",
              "    }\n",
              "\n",
              "    .dataframe thead th {\n",
              "        text-align: right;\n",
              "    }\n",
              "</style>\n",
              "<table border=\"1\" class=\"dataframe\">\n",
              "  <thead>\n",
              "    <tr style=\"text-align: right;\">\n",
              "      <th></th>\n",
              "      <th>movie</th>\n",
              "      <th>genre</th>\n",
              "    </tr>\n",
              "  </thead>\n",
              "  <tbody>\n",
              "    <tr>\n",
              "      <th>0</th>\n",
              "      <td>10001</td>\n",
              "      <td>드라마</td>\n",
              "    </tr>\n",
              "    <tr>\n",
              "      <th>1</th>\n",
              "      <td>10001</td>\n",
              "      <td>멜로/로맨스</td>\n",
              "    </tr>\n",
              "    <tr>\n",
              "      <th>2</th>\n",
              "      <td>10002</td>\n",
              "      <td>SF</td>\n",
              "    </tr>\n",
              "    <tr>\n",
              "      <th>3</th>\n",
              "      <td>10002</td>\n",
              "      <td>코미디</td>\n",
              "    </tr>\n",
              "    <tr>\n",
              "      <th>4</th>\n",
              "      <td>10003</td>\n",
              "      <td>SF</td>\n",
              "    </tr>\n",
              "  </tbody>\n",
              "</table>\n",
              "</div>"
            ],
            "text/plain": [
              "   movie   genre\n",
              "0  10001     드라마\n",
              "1  10001  멜로/로맨스\n",
              "2  10002      SF\n",
              "3  10002     코미디\n",
              "4  10003      SF"
            ]
          },
          "metadata": {
            "tags": []
          },
          "execution_count": 30
        }
      ]
    },
    {
      "cell_type": "code",
      "metadata": {
        "id": "sPqQ6EihZztd",
        "outputId": "ea28b1aa-d7cc-4570-967d-3507e6a8201d",
        "colab": {
          "base_uri": "https://localhost:8080/"
        }
      },
      "source": [
        "genres_df.movie.values"
      ],
      "execution_count": 54,
      "outputs": [
        {
          "output_type": "execute_result",
          "data": {
            "text/plain": [
              "array([10001, 10001, 10002, ..., 10999, 10999, 10999])"
            ]
          },
          "metadata": {
            "tags": []
          },
          "execution_count": 54
        }
      ]
    },
    {
      "cell_type": "code",
      "metadata": {
        "id": "qEc8ddfIW4oi"
      },
      "source": [
        "groups = genres_df.groupby('movie')"
      ],
      "execution_count": 36,
      "outputs": []
    },
    {
      "cell_type": "code",
      "metadata": {
        "id": "EpeMO4aTV4HD",
        "outputId": "9cf4856c-a2de-4f3c-de9f-59b791006f8f",
        "colab": {
          "base_uri": "https://localhost:8080/",
          "height": 225
        }
      },
      "source": [
        "# 예쁘게 다듬자 무비같은 경우에 10001이 두개의 행으로 나누어져 있으니 하나로 합쳐서 나타내보자.\n",
        "groups = genres_df.groupby('movie')\n",
        "# list comprehension 용법\n",
        "genres = [(list(set(x['movie'].values))[0], '/'.join(x['genre'].values)) for index, x in groups]\n",
        "combined_genres_df = pd.DataFrame(data=genres, columns=['movie', 'genres'])\n",
        "combined_genres_df = combined_genres_df.set_index('movie')\n",
        "combined_genres_df.head()"
      ],
      "execution_count": 40,
      "outputs": [
        {
          "output_type": "execute_result",
          "data": {
            "text/html": [
              "<div>\n",
              "<style scoped>\n",
              "    .dataframe tbody tr th:only-of-type {\n",
              "        vertical-align: middle;\n",
              "    }\n",
              "\n",
              "    .dataframe tbody tr th {\n",
              "        vertical-align: top;\n",
              "    }\n",
              "\n",
              "    .dataframe thead th {\n",
              "        text-align: right;\n",
              "    }\n",
              "</style>\n",
              "<table border=\"1\" class=\"dataframe\">\n",
              "  <thead>\n",
              "    <tr style=\"text-align: right;\">\n",
              "      <th></th>\n",
              "      <th>genres</th>\n",
              "    </tr>\n",
              "    <tr>\n",
              "      <th>movie</th>\n",
              "      <th></th>\n",
              "    </tr>\n",
              "  </thead>\n",
              "  <tbody>\n",
              "    <tr>\n",
              "      <th>10001</th>\n",
              "      <td>드라마/멜로/로맨스</td>\n",
              "    </tr>\n",
              "    <tr>\n",
              "      <th>10002</th>\n",
              "      <td>SF/코미디</td>\n",
              "    </tr>\n",
              "    <tr>\n",
              "      <th>10003</th>\n",
              "      <td>SF/코미디</td>\n",
              "    </tr>\n",
              "    <tr>\n",
              "      <th>10004</th>\n",
              "      <td>서부/SF/판타지/코미디</td>\n",
              "    </tr>\n",
              "    <tr>\n",
              "      <th>10005</th>\n",
              "      <td>판타지/모험/SF/액션</td>\n",
              "    </tr>\n",
              "  </tbody>\n",
              "</table>\n",
              "</div>"
            ],
            "text/plain": [
              "              genres\n",
              "movie               \n",
              "10001     드라마/멜로/로맨스\n",
              "10002         SF/코미디\n",
              "10003         SF/코미디\n",
              "10004  서부/SF/판타지/코미디\n",
              "10005   판타지/모험/SF/액션"
            ]
          },
          "metadata": {
            "tags": []
          },
          "execution_count": 40
        }
      ]
    },
    {
      "cell_type": "code",
      "metadata": {
        "id": "EoR9d84vYx9i"
      },
      "source": [
        ""
      ],
      "execution_count": null,
      "outputs": []
    },
    {
      "cell_type": "code",
      "metadata": {
        "id": "Jd7K35srWk1S",
        "outputId": "1af61f90-3620-4309-fbec-6f2a085fed24",
        "colab": {
          "base_uri": "https://localhost:8080/"
        }
      },
      "source": [
        "groups.groups"
      ],
      "execution_count": 55,
      "outputs": [
        {
          "output_type": "execute_result",
          "data": {
            "text/plain": [
              "{10001: [0, 1], 10002: [2, 3], 10003: [4, 5], 10004: [6, 7, 8, 9], 10005: [10, 11, 12, 13], 10006: [14, 15, 16, 17], 10007: [18, 19, 20, 21], 10008: [22, 23, 24, 25], 10009: [26, 27, 28, 29], 10010: [30, 31, 32, 33, 34], 10011: [35, 36, 37, 38], 10012: [39, 40, 41], 10013: [42, 43, 44, 45, 46, 47, 48], 10014: [49, 50], 10015: [51, 52, 53], 10016: [54, 55, 56, 57], 10017: [58, 59], 10018: [60, 61, 62, 63], 10019: [64, 65, 66], 10020: [67, 68, 69], 10021: [70, 71], 10022: [72, 73], 10023: [74, 75], 10024: [76, 77], 10025: [78, 79], 10026: [80, 81, 82], 10027: [83, 84, 85], 10028: [86, 87, 88], 10029: [89, 90], 10030: [91, 92, 93], 10031: [94, 95], 10032: [96, 97], 10033: [98, 99], 10034: [100, 101, 102], 10035: [103, 104, 105], 10036: [106], 10037: [107, 108], 10038: [109, 110, 111, 112], 10039: [113, 114], 10040: [115, 116, 117, 118], 10041: [119, 120, 121], 10042: [122, 123, 124], 10043: [125, 126, 127, 128], 10044: [129, 130], 10045: [131, 132], 10046: [133, 134, 135], 10047: [136, 137, 138], 10048: [139], 10049: [140, 141, 142, 143], 10050: [144, 145, 146], 10051: [147, 148], 10052: [149, 150], 10053: [151], 10054: [152], 10055: [153, 154, 155], 10056: [156, 157], 10057: [158, 159], 10058: [160, 161, 162, 163], 10059: [164, 165], 10060: [166], 10061: [167, 168, 169, 170], 10062: [171, 172, 173], 10063: [174], 10064: [175], 10065: [176], 10066: [177, 178, 179], 10067: [180, 181], 10068: [182, 183, 184], 10069: [185], 10070: [186, 187, 188], 10071: [189, 190, 191], 10072: [192, 193], 10073: [194, 195], 10074: [196, 197, 198, 199], 10075: [200, 201], 10076: [202, 203], 10077: [204, 205], 10078: [206, 207], 10079: [208, 209], 10080: [210, 211], 10081: [212], 10082: [213], 10083: [214], 10084: [215], 10085: [216], 10086: [217], 10087: [218, 219, 220], 10088: [221, 222], 10089: [223, 224, 225], 10090: [226], 10091: [227, 228], 10092: [229, 230, 231], 10093: [232, 233], 10094: [234, 235], 10095: [236, 237, 238], 10096: [239, 240, 241], 10097: [242, 243, 244], 10098: [245, 246], 10099: [247, 248], 10100: [249, 250], ...}"
            ]
          },
          "metadata": {
            "tags": []
          },
          "execution_count": 55
        }
      ]
    },
    {
      "cell_type": "code",
      "metadata": {
        "id": "AZchbAN7W1Bq",
        "outputId": "9636aecb-deff-493a-832c-b33ab39a4229",
        "colab": {
          "base_uri": "https://localhost:8080/",
          "height": 302
        }
      },
      "source": [
        "groups['movie']."
      ],
      "execution_count": 43,
      "outputs": [
        {
          "output_type": "error",
          "ename": "AttributeError",
          "evalue": "ignored",
          "traceback": [
            "\u001b[0;31m---------------------------------------------------------------------------\u001b[0m",
            "\u001b[0;31mAttributeError\u001b[0m                            Traceback (most recent call last)",
            "\u001b[0;32m<ipython-input-43-1bb2a8fb5175>\u001b[0m in \u001b[0;36m<module>\u001b[0;34m()\u001b[0m\n\u001b[0;32m----> 1\u001b[0;31m \u001b[0mgroups\u001b[0m\u001b[0;34m[\u001b[0m\u001b[0;34m'movie'\u001b[0m\u001b[0;34m]\u001b[0m\u001b[0;34m.\u001b[0m\u001b[0mvalues\u001b[0m\u001b[0;34m\u001b[0m\u001b[0;34m\u001b[0m\u001b[0m\n\u001b[0m",
            "\u001b[0;32m/usr/local/lib/python3.7/dist-packages/pandas/core/groupby/groupby.py\u001b[0m in \u001b[0;36m__getattr__\u001b[0;34m(self, attr)\u001b[0m\n\u001b[1;32m    702\u001b[0m \u001b[0;34m\u001b[0m\u001b[0m\n\u001b[1;32m    703\u001b[0m         raise AttributeError(\n\u001b[0;32m--> 704\u001b[0;31m             \u001b[0;34mf\"'{type(self).__name__}' object has no attribute '{attr}'\"\u001b[0m\u001b[0;34m\u001b[0m\u001b[0;34m\u001b[0m\u001b[0m\n\u001b[0m\u001b[1;32m    705\u001b[0m         )\n\u001b[1;32m    706\u001b[0m \u001b[0;34m\u001b[0m\u001b[0m\n",
            "\u001b[0;31mAttributeError\u001b[0m: 'SeriesGroupBy' object has no attribute 'values'"
          ]
        }
      ]
    },
    {
      "cell_type": "code",
      "metadata": {
        "id": "Q3E54tkkW3Oh"
      },
      "source": [
        ""
      ],
      "execution_count": null,
      "outputs": []
    }
  ]
}