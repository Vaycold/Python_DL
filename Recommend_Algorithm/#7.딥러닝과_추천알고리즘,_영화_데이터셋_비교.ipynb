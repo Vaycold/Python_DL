{
  "nbformat": 4,
  "nbformat_minor": 0,
  "metadata": {
    "colab": {
      "name": "딥러닝과 추천알고리즘, 영화 데이터셋 비교.ipynb",
      "provenance": [],
      "authorship_tag": "ABX9TyPwoMIqYdjh+wmORO2mXfsE",
      "include_colab_link": true
    },
    "kernelspec": {
      "name": "python3",
      "display_name": "Python 3"
    },
    "language_info": {
      "name": "python"
    }
  },
  "cells": [
    {
      "cell_type": "markdown",
      "metadata": {
        "id": "view-in-github",
        "colab_type": "text"
      },
      "source": [
        "<a href=\"https://colab.research.google.com/github/moch1996/Vaycold/blob/main/Recommend_Algorithm/%237.%EB%94%A5%EB%9F%AC%EB%8B%9D%EA%B3%BC_%EC%B6%94%EC%B2%9C%EC%95%8C%EA%B3%A0%EB%A6%AC%EC%A6%98%2C_%EC%98%81%ED%99%94_%EB%8D%B0%EC%9D%B4%ED%84%B0%EC%85%8B_%EB%B9%84%EA%B5%90.ipynb\" target=\"_parent\"><img src=\"https://colab.research.google.com/assets/colab-badge.svg\" alt=\"Open In Colab\"/></a>"
      ]
    },
    {
      "cell_type": "markdown",
      "metadata": {
        "id": "jiN5sxqoaeXn"
      },
      "source": [
        "# 데이터셋 종류\n",
        " 1. Movielens\n",
        " 2. KMRD\n",
        " 3. Netflix  "
      ]
    },
    {
      "cell_type": "code",
      "metadata": {
        "id": "obOWRRbkaYAb"
      },
      "source": [
        "import os\n",
        "import pandas as pd"
      ],
      "execution_count": 1,
      "outputs": []
    },
    {
      "cell_type": "code",
      "metadata": {
        "id": "8AB9tFODa14S"
      },
      "source": [
        "from google.colab import drive"
      ],
      "execution_count": 2,
      "outputs": []
    },
    {
      "cell_type": "code",
      "metadata": {
        "colab": {
          "base_uri": "https://localhost:8080/"
        },
        "id": "xtq0iSnXa5Uh",
        "outputId": "9ff4cccc-34db-4a9b-aa6e-6fb58456dcf2"
      },
      "source": [
        "drive.mount('/content/drive')"
      ],
      "execution_count": 3,
      "outputs": [
        {
          "output_type": "stream",
          "text": [
            "Mounted at /content/drive\n"
          ],
          "name": "stdout"
        }
      ]
    },
    {
      "cell_type": "code",
      "metadata": {
        "id": "Aldu6yG3dWK9"
      },
      "source": [
        "data_path = '/content/drive/MyDrive/fastcampus/recommend/'"
      ],
      "execution_count": 4,
      "outputs": []
    },
    {
      "cell_type": "markdown",
      "metadata": {
        "id": "LAwQEu_pH67I"
      },
      "source": [
        "## Movielens 데이터"
      ]
    },
    {
      "cell_type": "code",
      "metadata": {
        "id": "nZkgoqV4doby"
      },
      "source": [
        "path = data_path+'movielens'\n",
        "tags_df = pd.read_csv(os.path.join(path, 'tags.csv'), encoding='utf-8')\n",
        "ratings_df = pd.read_csv(os.path.join(path, 'ratings.csv'), index_col = 'userId', encoding='utf-8')\n",
        "movies_df = pd.read_csv(os.path.join(path, 'movies.csv'), index_col = 'movieId', encoding='utf-8')"
      ],
      "execution_count": 5,
      "outputs": []
    },
    {
      "cell_type": "code",
      "metadata": {
        "id": "RgmCwVIaeGbn"
      },
      "source": [
        "def get_simple_df_info(df):\n",
        "  print(\"dataframe 사이즈: \", df.shape)\n",
        "  print(\"\\n\")\n",
        "  print(\"dataframe 정보\")\n",
        "  print(df.info())\n",
        "  print(\"\\n\")\n",
        "  print(\"dataframe 간단 통계량\")\n",
        "  print(df.describe())\n",
        "  print(\"\\n\")\n",
        "  print(\"dataframe의 몇몇 데이터 샘플\")\n",
        "  print(df.head())"
      ],
      "execution_count": 6,
      "outputs": []
    },
    {
      "cell_type": "code",
      "metadata": {
        "id": "aiYE9d5DeIYZ",
        "colab": {
          "base_uri": "https://localhost:8080/"
        },
        "outputId": "733c9256-b631-486d-ee8c-8eebf54ec20f"
      },
      "source": [
        "get_simple_df_info(tags_df)"
      ],
      "execution_count": 7,
      "outputs": [
        {
          "output_type": "stream",
          "text": [
            "dataframe 사이즈:  (3683, 4)\n",
            "\n",
            "\n",
            "dataframe 정보\n",
            "<class 'pandas.core.frame.DataFrame'>\n",
            "RangeIndex: 3683 entries, 0 to 3682\n",
            "Data columns (total 4 columns):\n",
            " #   Column     Non-Null Count  Dtype \n",
            "---  ------     --------------  ----- \n",
            " 0   userId     3683 non-null   int64 \n",
            " 1   movieId    3683 non-null   int64 \n",
            " 2   tag        3683 non-null   object\n",
            " 3   timestamp  3683 non-null   int64 \n",
            "dtypes: int64(3), object(1)\n",
            "memory usage: 115.2+ KB\n",
            "None\n",
            "\n",
            "\n",
            "dataframe 간단 통계량\n",
            "            userId        movieId     timestamp\n",
            "count  3683.000000    3683.000000  3.683000e+03\n",
            "mean    431.149335   27252.013576  1.320032e+09\n",
            "std     158.472553   43490.558803  1.721025e+08\n",
            "min       2.000000       1.000000  1.137179e+09\n",
            "25%     424.000000    1262.500000  1.137521e+09\n",
            "50%     474.000000    4454.000000  1.269833e+09\n",
            "75%     477.000000   39263.000000  1.498457e+09\n",
            "max     610.000000  193565.000000  1.537099e+09\n",
            "\n",
            "\n",
            "dataframe의 몇몇 데이터 샘플\n",
            "   userId  movieId              tag   timestamp\n",
            "0       2    60756            funny  1445714994\n",
            "1       2    60756  Highly quotable  1445714996\n",
            "2       2    60756     will ferrell  1445714992\n",
            "3       2    89774     Boxing story  1445715207\n",
            "4       2    89774              MMA  1445715200\n"
          ],
          "name": "stdout"
        }
      ]
    },
    {
      "cell_type": "markdown",
      "metadata": {
        "id": "Lue9b-VUeRo0"
      },
      "source": [
        "## KMRD \n",
        " - Korean Moive Recommender system Dtaset\n",
        " - 네이버 영화 평점 사이트를 바탕으로 제작 "
      ]
    },
    {
      "cell_type": "code",
      "metadata": {
        "id": "nR_WiPw5JRgn",
        "colab": {
          "base_uri": "https://localhost:8080/"
        },
        "outputId": "91686867-ba93-419c-f275-8eeff5b9b576"
      },
      "source": [
        "%cd $data_path"
      ],
      "execution_count": 8,
      "outputs": [
        {
          "output_type": "stream",
          "text": [
            "/content/drive/MyDrive/fastcampus/recommend\n"
          ],
          "name": "stdout"
        }
      ]
    },
    {
      "cell_type": "code",
      "metadata": {
        "id": "eAf78nG8JV0F",
        "colab": {
          "base_uri": "https://localhost:8080/"
        },
        "outputId": "85159d23-8f15-41fc-c4cf-bfb71c2442e4"
      },
      "source": [
        "!git clone https://github.com/lovit/kmrd"
      ],
      "execution_count": 9,
      "outputs": [
        {
          "output_type": "stream",
          "text": [
            "fatal: destination path 'kmrd' already exists and is not an empty directory.\n"
          ],
          "name": "stdout"
        }
      ]
    },
    {
      "cell_type": "code",
      "metadata": {
        "id": "ejC0AK1BPFdI",
        "colab": {
          "base_uri": "https://localhost:8080/"
        },
        "outputId": "abbcf0bc-93f0-4c35-ecff-f3a81eaf10e6"
      },
      "source": [
        "%cd $data_path/kmrd"
      ],
      "execution_count": 10,
      "outputs": [
        {
          "output_type": "stream",
          "text": [
            "/content/drive/MyDrive/fastcampus/recommend/kmrd\n"
          ],
          "name": "stdout"
        }
      ]
    },
    {
      "cell_type": "code",
      "metadata": {
        "id": "l7jBnGauPd0j",
        "colab": {
          "base_uri": "https://localhost:8080/"
        },
        "outputId": "f6f94f63-007c-4068-b9ab-5da475752d78"
      },
      "source": [
        "!python setup.py install"
      ],
      "execution_count": 11,
      "outputs": [
        {
          "output_type": "stream",
          "text": [
            "running install\n",
            "running bdist_egg\n",
            "running egg_info\n",
            "writing kmr_dataset.egg-info/PKG-INFO\n",
            "writing dependency_links to kmr_dataset.egg-info/dependency_links.txt\n",
            "writing requirements to kmr_dataset.egg-info/requires.txt\n",
            "writing top-level names to kmr_dataset.egg-info/top_level.txt\n",
            "writing manifest file 'kmr_dataset.egg-info/SOURCES.txt'\n",
            "installing library code to build/bdist.linux-x86_64/egg\n",
            "running install_lib\n",
            "running build_py\n",
            "creating build/bdist.linux-x86_64/egg\n",
            "creating build/bdist.linux-x86_64/egg/kmr_dataset\n",
            "copying build/lib/kmr_dataset/__init__.py -> build/bdist.linux-x86_64/egg/kmr_dataset\n",
            "copying build/lib/kmr_dataset/install.py -> build/bdist.linux-x86_64/egg/kmr_dataset\n",
            "copying build/lib/kmr_dataset/io.py -> build/bdist.linux-x86_64/egg/kmr_dataset\n",
            "creating build/bdist.linux-x86_64/egg/kmr_dataset/datafile\n",
            "creating build/bdist.linux-x86_64/egg/kmr_dataset/datafile/kmrd-small\n",
            "copying build/lib/kmr_dataset/datafile/kmrd-small/castings.csv -> build/bdist.linux-x86_64/egg/kmr_dataset/datafile/kmrd-small\n",
            "copying build/lib/kmr_dataset/datafile/kmrd-small/peoples.txt -> build/bdist.linux-x86_64/egg/kmr_dataset/datafile/kmrd-small\n",
            "copying build/lib/kmr_dataset/datafile/kmrd-small/movies.txt -> build/bdist.linux-x86_64/egg/kmr_dataset/datafile/kmrd-small\n",
            "copying build/lib/kmr_dataset/datafile/kmrd-small/rates.csv -> build/bdist.linux-x86_64/egg/kmr_dataset/datafile/kmrd-small\n",
            "copying build/lib/kmr_dataset/datafile/kmrd-small/genres.csv -> build/bdist.linux-x86_64/egg/kmr_dataset/datafile/kmrd-small\n",
            "copying build/lib/kmr_dataset/datafile/kmrd-small/countries.csv -> build/bdist.linux-x86_64/egg/kmr_dataset/datafile/kmrd-small\n",
            "creating build/bdist.linux-x86_64/egg/kmr_dataset/datafile/kmrd\n",
            "copying build/lib/kmr_dataset/datafile/kmrd/meta.zip -> build/bdist.linux-x86_64/egg/kmr_dataset/datafile/kmrd\n",
            "copying build/lib/kmr_dataset/datafile/kmrd/rates-2m.zip -> build/bdist.linux-x86_64/egg/kmr_dataset/datafile/kmrd\n",
            "copying build/lib/kmr_dataset/datafile/kmrd/rates-5m.zip -> build/bdist.linux-x86_64/egg/kmr_dataset/datafile/kmrd\n",
            "byte-compiling build/bdist.linux-x86_64/egg/kmr_dataset/__init__.py to __init__.cpython-37.pyc\n",
            "byte-compiling build/bdist.linux-x86_64/egg/kmr_dataset/install.py to install.cpython-37.pyc\n",
            "byte-compiling build/bdist.linux-x86_64/egg/kmr_dataset/io.py to io.cpython-37.pyc\n",
            "creating build/bdist.linux-x86_64/egg/EGG-INFO\n",
            "copying kmr_dataset.egg-info/PKG-INFO -> build/bdist.linux-x86_64/egg/EGG-INFO\n",
            "copying kmr_dataset.egg-info/SOURCES.txt -> build/bdist.linux-x86_64/egg/EGG-INFO\n",
            "copying kmr_dataset.egg-info/dependency_links.txt -> build/bdist.linux-x86_64/egg/EGG-INFO\n",
            "copying kmr_dataset.egg-info/requires.txt -> build/bdist.linux-x86_64/egg/EGG-INFO\n",
            "copying kmr_dataset.egg-info/top_level.txt -> build/bdist.linux-x86_64/egg/EGG-INFO\n",
            "zip_safe flag not set; analyzing archive contents...\n",
            "kmr_dataset.__pycache__.install.cpython-37: module references __file__\n",
            "kmr_dataset.__pycache__.io.cpython-37: module references __file__\n",
            "creating 'dist/kmr_dataset-1.0.1-py3.7.egg' and adding 'build/bdist.linux-x86_64/egg' to it\n",
            "removing 'build/bdist.linux-x86_64/egg' (and everything under it)\n",
            "Processing kmr_dataset-1.0.1-py3.7.egg\n",
            "creating /usr/local/lib/python3.7/dist-packages/kmr_dataset-1.0.1-py3.7.egg\n",
            "Extracting kmr_dataset-1.0.1-py3.7.egg to /usr/local/lib/python3.7/dist-packages\n",
            "Adding kmr-dataset 1.0.1 to easy-install.pth file\n",
            "\n",
            "Installed /usr/local/lib/python3.7/dist-packages/kmr_dataset-1.0.1-py3.7.egg\n",
            "Processing dependencies for kmr-dataset==1.0.1\n",
            "Searching for numpy==1.19.5\n",
            "Best match: numpy 1.19.5\n",
            "Adding numpy 1.19.5 to easy-install.pth file\n",
            "Installing f2py script to /usr/local/bin\n",
            "Installing f2py3 script to /usr/local/bin\n",
            "Installing f2py3.7 script to /usr/local/bin\n",
            "\n",
            "Using /usr/local/lib/python3.7/dist-packages\n",
            "Searching for scipy==1.4.1\n",
            "Best match: scipy 1.4.1\n",
            "Adding scipy 1.4.1 to easy-install.pth file\n",
            "\n",
            "Using /usr/local/lib/python3.7/dist-packages\n",
            "Finished processing dependencies for kmr-dataset==1.0.1\n"
          ],
          "name": "stdout"
        }
      ]
    },
    {
      "cell_type": "code",
      "metadata": {
        "id": "uPsRp0MaIJMe"
      },
      "source": [
        "'''\n",
        "!git clone https://github.com/lovit/kmrd\n",
        "!python setup.py install\n",
        "'''"
      ],
      "execution_count": null,
      "outputs": []
    },
    {
      "cell_type": "code",
      "metadata": {
        "id": "VpkzamiFee2r"
      },
      "source": [
        "'''\n",
        "path = data_path + \"kmrd\"\n",
        "%cd $path\n",
        "\n",
        "if not os.path.exists(path):\n",
        "  !git clone https://github.com/lovit/kmrd\n",
        "  !python setup.py install\n",
        "else:\n",
        "  print(\"data and path already exists!\")\n",
        "'''"
      ],
      "execution_count": null,
      "outputs": []
    },
    {
      "cell_type": "code",
      "metadata": {
        "id": "gcaOY3IAgCRr"
      },
      "source": [
        "# dataset 종류\n",
        "# 'small', '2m', '5m\n",
        "# delimiter = '\\t'"
      ],
      "execution_count": null,
      "outputs": []
    },
    {
      "cell_type": "markdown",
      "metadata": {
        "id": "_mol77s2Gepc"
      },
      "source": [
        " - 2m 또는 5m은 zip파일로 되어 있음\n",
        " - kmr_dataset 있는 directory 임을 확인해야한다."
      ]
    },
    {
      "cell_type": "code",
      "metadata": {
        "id": "DlnTP32JHESE",
        "colab": {
          "base_uri": "https://localhost:8080/"
        },
        "outputId": "b1ee840e-7bce-40c9-dc47-5746b126c0a9"
      },
      "source": [
        "from kmr_dataset import load_rates\n",
        "from kmr_dataset import get_paths\n",
        "\n",
        "paths = get_paths(size='2m')\n",
        "rates, timestamps = load_rates(size='2m')"
      ],
      "execution_count": 12,
      "outputs": [
        {
          "output_type": "stream",
          "text": [
            "skip 44048 lines which are duplicated (user, item), #uniques=2570549\n"
          ],
          "name": "stdout"
        }
      ]
    },
    {
      "cell_type": "code",
      "metadata": {
        "id": "kJ2M9g9KGzku"
      },
      "source": [
        "# 우리는 kmrd-small 데이터 사용 예정"
      ],
      "execution_count": null,
      "outputs": []
    },
    {
      "cell_type": "code",
      "metadata": {
        "id": "qz8oOBB4UlKy",
        "colab": {
          "base_uri": "https://localhost:8080/",
          "height": 35
        },
        "outputId": "be1ca365-01c1-43df-a930-232576c0ca6b"
      },
      "source": [
        "data_path"
      ],
      "execution_count": 13,
      "outputs": [
        {
          "output_type": "execute_result",
          "data": {
            "application/vnd.google.colaboratory.intrinsic+json": {
              "type": "string"
            },
            "text/plain": [
              "'/content/drive/MyDrive/fastcampus/recommend/'"
            ]
          },
          "metadata": {
            "tags": []
          },
          "execution_count": 13
        }
      ]
    },
    {
      "cell_type": "code",
      "metadata": {
        "id": "1Gu18wRmUlgY"
      },
      "source": [
        "path = data_path + 'kmrd/kmr_dataset/datafile/kmrd-small'"
      ],
      "execution_count": 14,
      "outputs": []
    },
    {
      "cell_type": "code",
      "metadata": {
        "id": "PNJHeNBEUxPH",
        "colab": {
          "base_uri": "https://localhost:8080/"
        },
        "outputId": "20d33c06-e70b-4666-f6b1-68438e6ab156"
      },
      "source": [
        "print(os.listdir(path))"
      ],
      "execution_count": 15,
      "outputs": [
        {
          "output_type": "stream",
          "text": [
            "['castings.csv', 'countries.csv', 'genres.csv', 'movies.txt', 'peoples.txt', 'rates.csv']\n"
          ],
          "name": "stdout"
        }
      ]
    },
    {
      "cell_type": "code",
      "metadata": {
        "id": "sBKzAQ8By18M",
        "colab": {
          "base_uri": "https://localhost:8080/"
        },
        "outputId": "d51e5c60-b887-4e72-c2e7-c1011089de0d"
      },
      "source": [
        "castings_df = pd.read_csv(os.path.join(path, 'castings.csv'), encoding='utf-8')\n",
        "get_simple_df_info(castings_df)"
      ],
      "execution_count": 16,
      "outputs": [
        {
          "output_type": "stream",
          "text": [
            "dataframe 사이즈:  (9776, 4)\n",
            "\n",
            "\n",
            "dataframe 정보\n",
            "<class 'pandas.core.frame.DataFrame'>\n",
            "RangeIndex: 9776 entries, 0 to 9775\n",
            "Data columns (total 4 columns):\n",
            " #   Column   Non-Null Count  Dtype\n",
            "---  ------   --------------  -----\n",
            " 0   movie    9776 non-null   int64\n",
            " 1   people   9776 non-null   int64\n",
            " 2   order    9776 non-null   int64\n",
            " 3   leading  9776 non-null   int64\n",
            "dtypes: int64(4)\n",
            "memory usage: 305.6 KB\n",
            "None\n",
            "\n",
            "\n",
            "dataframe 간단 통계량\n",
            "              movie         people        order      leading\n",
            "count   9776.000000    9776.000000  9776.000000  9776.000000\n",
            "mean   10499.104746   36151.930851     9.799509     0.295315\n",
            "std      287.023933   62989.430164    12.576221     0.456208\n",
            "min    10001.000000       5.000000     1.000000     0.000000\n",
            "25%    10260.000000    4327.000000     3.000000     0.000000\n",
            "50%    10485.000000   14048.500000     6.000000     0.000000\n",
            "75%    10754.250000   27978.000000    10.000000     1.000000\n",
            "max    10999.000000  420466.000000   101.000000     1.000000\n",
            "\n",
            "\n",
            "dataframe의 몇몇 데이터 샘플\n",
            "   movie  people  order  leading\n",
            "0  10001    4374      1        1\n",
            "1  10001     178      2        1\n",
            "2  10001    3241      3        1\n",
            "3  10001   47952      4        1\n",
            "4  10001   47953      5        0\n"
          ],
          "name": "stdout"
        }
      ]
    },
    {
      "cell_type": "code",
      "metadata": {
        "id": "a0gLIuwbzDN8"
      },
      "source": [
        "countries_df = pd.read_csv(os.path.join(path, 'countries.csv'), encoding='utf-8')\n",
        "get_simple_df_info(countries_df)"
      ],
      "execution_count": null,
      "outputs": []
    },
    {
      "cell_type": "code",
      "metadata": {
        "id": "NkdeT7fvxxyh"
      },
      "source": [
        "genres_df = pd.read_csv(os.path.join(path, 'genres.csv'), encoding='utf-8')\n",
        "get_simple_df_info(genres_df)"
      ],
      "execution_count": null,
      "outputs": []
    },
    {
      "cell_type": "code",
      "metadata": {
        "id": "zkKAByrYzPyi",
        "colab": {
          "base_uri": "https://localhost:8080/"
        },
        "outputId": "60521e8e-48ce-43cc-e8b7-475cb1dc3aa1"
      },
      "source": [
        "movies_df = pd.read_csv(os.path.join(path, 'movies.txt'), sep='\\t', encoding='utf-8')\n",
        "get_simple_df_info(movies_df)"
      ],
      "execution_count": 59,
      "outputs": [
        {
          "output_type": "stream",
          "text": [
            "dataframe 사이즈:  (999, 5)\n",
            "\n",
            "\n",
            "dataframe 정보\n",
            "<class 'pandas.core.frame.DataFrame'>\n",
            "RangeIndex: 999 entries, 0 to 998\n",
            "Data columns (total 5 columns):\n",
            " #   Column     Non-Null Count  Dtype  \n",
            "---  ------     --------------  -----  \n",
            " 0   movie      999 non-null    int64  \n",
            " 1   title      992 non-null    object \n",
            " 2   title_eng  991 non-null    object \n",
            " 3   year       609 non-null    float64\n",
            " 4   grade      957 non-null    object \n",
            "dtypes: float64(1), int64(1), object(3)\n",
            "memory usage: 39.1+ KB\n",
            "None\n",
            "\n",
            "\n",
            "dataframe 간단 통계량\n",
            "              movie         year\n",
            "count    999.000000   609.000000\n",
            "mean   10500.000000  1987.471264\n",
            "std      288.530761    15.303710\n",
            "min    10001.000000  1926.000000\n",
            "25%    10250.500000  1982.000000\n",
            "50%    10500.000000  1989.000000\n",
            "75%    10749.500000  1991.000000\n",
            "max    10999.000000  2020.000000\n",
            "\n",
            "\n",
            "dataframe의 몇몇 데이터 샘플\n",
            "   movie                 title  ...    year    grade\n",
            "0  10001                시네마 천국  ...  2013.0   전체 관람가\n",
            "1  10002              빽 투 더 퓨쳐  ...  2015.0  12세 관람가\n",
            "2  10003            빽 투 더 퓨쳐 2  ...  2015.0  12세 관람가\n",
            "3  10004            빽 투 더 퓨쳐 3  ...  1990.0   전체 관람가\n",
            "4  10005  스타워즈 에피소드 4 - 새로운 희망  ...  1997.0       PG\n",
            "\n",
            "[5 rows x 5 columns]\n"
          ],
          "name": "stdout"
        }
      ]
    },
    {
      "cell_type": "code",
      "metadata": {
        "id": "b0_z_v1yza1N"
      },
      "source": [
        "peoples_df = pd.read_csv(os.path.join(path, 'peoples.txt'), sep='\\t', encoding='utf-8')\n",
        "get_simple_df_info(peoples_df)"
      ],
      "execution_count": null,
      "outputs": []
    },
    {
      "cell_type": "code",
      "metadata": {
        "id": "I--TmJwXzkPn"
      },
      "source": [
        "rates_df = pd.read_csv(os.path.join(path, 'rates.csv'), encoding='utf-8')\n",
        "get_simple_df_info(rates_df)"
      ],
      "execution_count": null,
      "outputs": []
    },
    {
      "cell_type": "code",
      "metadata": {
        "id": "CejXa4xJVj4N"
      },
      "source": [
        " # 장르 데이터 확인"
      ],
      "execution_count": 22,
      "outputs": []
    },
    {
      "cell_type": "code",
      "metadata": {
        "id": "R54JuL_vV23X",
        "colab": {
          "base_uri": "https://localhost:8080/",
          "height": 195
        },
        "outputId": "08053055-f134-457f-98b0-5d1d0f0a78c3"
      },
      "source": [
        "genres_df.head()"
      ],
      "execution_count": 23,
      "outputs": [
        {
          "output_type": "execute_result",
          "data": {
            "text/html": [
              "<div>\n",
              "<style scoped>\n",
              "    .dataframe tbody tr th:only-of-type {\n",
              "        vertical-align: middle;\n",
              "    }\n",
              "\n",
              "    .dataframe tbody tr th {\n",
              "        vertical-align: top;\n",
              "    }\n",
              "\n",
              "    .dataframe thead th {\n",
              "        text-align: right;\n",
              "    }\n",
              "</style>\n",
              "<table border=\"1\" class=\"dataframe\">\n",
              "  <thead>\n",
              "    <tr style=\"text-align: right;\">\n",
              "      <th></th>\n",
              "      <th>movie</th>\n",
              "      <th>genre</th>\n",
              "    </tr>\n",
              "  </thead>\n",
              "  <tbody>\n",
              "    <tr>\n",
              "      <th>0</th>\n",
              "      <td>10001</td>\n",
              "      <td>드라마</td>\n",
              "    </tr>\n",
              "    <tr>\n",
              "      <th>1</th>\n",
              "      <td>10001</td>\n",
              "      <td>멜로/로맨스</td>\n",
              "    </tr>\n",
              "    <tr>\n",
              "      <th>2</th>\n",
              "      <td>10002</td>\n",
              "      <td>SF</td>\n",
              "    </tr>\n",
              "    <tr>\n",
              "      <th>3</th>\n",
              "      <td>10002</td>\n",
              "      <td>코미디</td>\n",
              "    </tr>\n",
              "    <tr>\n",
              "      <th>4</th>\n",
              "      <td>10003</td>\n",
              "      <td>SF</td>\n",
              "    </tr>\n",
              "  </tbody>\n",
              "</table>\n",
              "</div>"
            ],
            "text/plain": [
              "   movie   genre\n",
              "0  10001     드라마\n",
              "1  10001  멜로/로맨스\n",
              "2  10002      SF\n",
              "3  10002     코미디\n",
              "4  10003      SF"
            ]
          },
          "metadata": {
            "tags": []
          },
          "execution_count": 23
        }
      ]
    },
    {
      "cell_type": "code",
      "metadata": {
        "id": "qEc8ddfIW4oi"
      },
      "source": [
        "groups = genres_df.groupby('movie')"
      ],
      "execution_count": 25,
      "outputs": []
    },
    {
      "cell_type": "code",
      "metadata": {
        "id": "EpeMO4aTV4HD",
        "colab": {
          "base_uri": "https://localhost:8080/"
        },
        "outputId": "c7d3b9d9-7064-4799-d1e1-e6a3c55873a5"
      },
      "source": [
        "# 예쁘게 다듬자 무비같은 경우에 10001이 두개의 행으로 나누어져 있으니 하나로 합쳐서 나타내보자.\n",
        "groups = genres_df.groupby('movie')\n",
        "# list comprehension 용법\n",
        "genres = [(list(set(x['movie'].values))[0]\n",
        "           , '/'.join(x['genre'].values)) for  i,x in groups]\n",
        "# 이 용법을 다시 한번 뜯어보자\n",
        "# genres를 실현시켜보면 해석하기 쉬운거같다. \n",
        "genres[:5]"
      ],
      "execution_count": 51,
      "outputs": [
        {
          "output_type": "execute_result",
          "data": {
            "text/plain": [
              "[(10001, '드라마/멜로/로맨스'),\n",
              " (10002, 'SF/코미디'),\n",
              " (10003, 'SF/코미디'),\n",
              " (10004, '서부/SF/판타지/코미디'),\n",
              " (10005, '판타지/모험/SF/액션')]"
            ]
          },
          "metadata": {
            "tags": []
          },
          "execution_count": 51
        }
      ]
    },
    {
      "cell_type": "code",
      "metadata": {
        "colab": {
          "base_uri": "https://localhost:8080/",
          "height": 137
        },
        "id": "ylQBEa5B-hTL",
        "outputId": "1c6ebb2f-a01d-4765-d71f-994fc562fab2"
      },
      "source": [
        "# 우선 list compreheinsion 을 사용하기 위해 [          ] 를 사용하였다.\n",
        "# genres를 보면 인덱스, 장르 로 나눠져 있다. 즉 , 를 기준으로 x['movie'].values와 '/'.join(x['genre'].values) 두 개로 나누어 짐을 알 수 있다."
      ],
      "execution_count": 52,
      "outputs": [
        {
          "output_type": "error",
          "ename": "SyntaxError",
          "evalue": "ignored",
          "traceback": [
            "\u001b[0;36m  File \u001b[0;32m\"<ipython-input-52-070f543bb02f>\"\u001b[0;36m, line \u001b[0;32m1\u001b[0m\n\u001b[0;31m    genres = (list(set(x['movie'].values))[0], '/'.join(x['genre'].values)) for  i,x in groups\u001b[0m\n\u001b[0m                                                                              ^\u001b[0m\n\u001b[0;31mSyntaxError\u001b[0m\u001b[0;31m:\u001b[0m invalid syntax\n"
          ]
        }
      ]
    },
    {
      "cell_type": "code",
      "metadata": {
        "colab": {
          "base_uri": "https://localhost:8080/",
          "height": 225
        },
        "id": "48RoFomu8ahV",
        "outputId": "4366dbc1-96fc-434a-cf71-2516fd941f80"
      },
      "source": [
        "combined_genres_df = pd.DataFrame(data=genres, columns=['movie', 'genres'])\n",
        "combined_genres_df = combined_genres_df.set_index('movie')\n",
        "combined_genres_df.head()"
      ],
      "execution_count": 53,
      "outputs": [
        {
          "output_type": "execute_result",
          "data": {
            "text/html": [
              "<div>\n",
              "<style scoped>\n",
              "    .dataframe tbody tr th:only-of-type {\n",
              "        vertical-align: middle;\n",
              "    }\n",
              "\n",
              "    .dataframe tbody tr th {\n",
              "        vertical-align: top;\n",
              "    }\n",
              "\n",
              "    .dataframe thead th {\n",
              "        text-align: right;\n",
              "    }\n",
              "</style>\n",
              "<table border=\"1\" class=\"dataframe\">\n",
              "  <thead>\n",
              "    <tr style=\"text-align: right;\">\n",
              "      <th></th>\n",
              "      <th>genres</th>\n",
              "    </tr>\n",
              "    <tr>\n",
              "      <th>movie</th>\n",
              "      <th></th>\n",
              "    </tr>\n",
              "  </thead>\n",
              "  <tbody>\n",
              "    <tr>\n",
              "      <th>10001</th>\n",
              "      <td>드라마/멜로/로맨스</td>\n",
              "    </tr>\n",
              "    <tr>\n",
              "      <th>10002</th>\n",
              "      <td>SF/코미디</td>\n",
              "    </tr>\n",
              "    <tr>\n",
              "      <th>10003</th>\n",
              "      <td>SF/코미디</td>\n",
              "    </tr>\n",
              "    <tr>\n",
              "      <th>10004</th>\n",
              "      <td>서부/SF/판타지/코미디</td>\n",
              "    </tr>\n",
              "    <tr>\n",
              "      <th>10005</th>\n",
              "      <td>판타지/모험/SF/액션</td>\n",
              "    </tr>\n",
              "  </tbody>\n",
              "</table>\n",
              "</div>"
            ],
            "text/plain": [
              "              genres\n",
              "movie               \n",
              "10001     드라마/멜로/로맨스\n",
              "10002         SF/코미디\n",
              "10003         SF/코미디\n",
              "10004  서부/SF/판타지/코미디\n",
              "10005   판타지/모험/SF/액션"
            ]
          },
          "metadata": {
            "tags": []
          },
          "execution_count": 53
        }
      ]
    },
    {
      "cell_type": "code",
      "metadata": {
        "colab": {
          "base_uri": "https://localhost:8080/",
          "height": 195
        },
        "id": "Se6mHIl9-RkK",
        "outputId": "2f9ff5ec-ea5a-4f7a-8c21-98c4f5cb4e00"
      },
      "source": [
        "movies_df.head()"
      ],
      "execution_count": 60,
      "outputs": [
        {
          "output_type": "execute_result",
          "data": {
            "text/html": [
              "<div>\n",
              "<style scoped>\n",
              "    .dataframe tbody tr th:only-of-type {\n",
              "        vertical-align: middle;\n",
              "    }\n",
              "\n",
              "    .dataframe tbody tr th {\n",
              "        vertical-align: top;\n",
              "    }\n",
              "\n",
              "    .dataframe thead th {\n",
              "        text-align: right;\n",
              "    }\n",
              "</style>\n",
              "<table border=\"1\" class=\"dataframe\">\n",
              "  <thead>\n",
              "    <tr style=\"text-align: right;\">\n",
              "      <th></th>\n",
              "      <th>movie</th>\n",
              "      <th>title</th>\n",
              "      <th>title_eng</th>\n",
              "      <th>year</th>\n",
              "      <th>grade</th>\n",
              "    </tr>\n",
              "  </thead>\n",
              "  <tbody>\n",
              "    <tr>\n",
              "      <th>0</th>\n",
              "      <td>10001</td>\n",
              "      <td>시네마 천국</td>\n",
              "      <td>Cinema Paradiso , 1988</td>\n",
              "      <td>2013.0</td>\n",
              "      <td>전체 관람가</td>\n",
              "    </tr>\n",
              "    <tr>\n",
              "      <th>1</th>\n",
              "      <td>10002</td>\n",
              "      <td>빽 투 더 퓨쳐</td>\n",
              "      <td>Back To The Future , 1985</td>\n",
              "      <td>2015.0</td>\n",
              "      <td>12세 관람가</td>\n",
              "    </tr>\n",
              "    <tr>\n",
              "      <th>2</th>\n",
              "      <td>10003</td>\n",
              "      <td>빽 투 더 퓨쳐 2</td>\n",
              "      <td>Back To The Future Part 2 , 1989</td>\n",
              "      <td>2015.0</td>\n",
              "      <td>12세 관람가</td>\n",
              "    </tr>\n",
              "    <tr>\n",
              "      <th>3</th>\n",
              "      <td>10004</td>\n",
              "      <td>빽 투 더 퓨쳐 3</td>\n",
              "      <td>Back To The Future Part III , 1990</td>\n",
              "      <td>1990.0</td>\n",
              "      <td>전체 관람가</td>\n",
              "    </tr>\n",
              "    <tr>\n",
              "      <th>4</th>\n",
              "      <td>10005</td>\n",
              "      <td>스타워즈 에피소드 4 - 새로운 희망</td>\n",
              "      <td>Star Wars , 1977</td>\n",
              "      <td>1997.0</td>\n",
              "      <td>PG</td>\n",
              "    </tr>\n",
              "  </tbody>\n",
              "</table>\n",
              "</div>"
            ],
            "text/plain": [
              "   movie                 title  ...    year    grade\n",
              "0  10001                시네마 천국  ...  2013.0   전체 관람가\n",
              "1  10002              빽 투 더 퓨쳐  ...  2015.0  12세 관람가\n",
              "2  10003            빽 투 더 퓨쳐 2  ...  2015.0  12세 관람가\n",
              "3  10004            빽 투 더 퓨쳐 3  ...  1990.0   전체 관람가\n",
              "4  10005  스타워즈 에피소드 4 - 새로운 희망  ...  1997.0       PG\n",
              "\n",
              "[5 rows x 5 columns]"
            ]
          },
          "metadata": {
            "tags": []
          },
          "execution_count": 60
        }
      ]
    },
    {
      "cell_type": "code",
      "metadata": {
        "colab": {
          "base_uri": "https://localhost:8080/"
        },
        "id": "_dOhenhwBSAY",
        "outputId": "d5d01637-8c64-400d-e91d-c97864a035b7"
      },
      "source": [
        "movies_df.columns"
      ],
      "execution_count": 61,
      "outputs": [
        {
          "output_type": "execute_result",
          "data": {
            "text/plain": [
              "Index(['movie', 'title', 'title_eng', 'year', 'grade'], dtype='object')"
            ]
          },
          "metadata": {
            "tags": []
          },
          "execution_count": 61
        }
      ]
    },
    {
      "cell_type": "code",
      "metadata": {
        "colab": {
          "base_uri": "https://localhost:8080/",
          "height": 225
        },
        "id": "oE0ZxsKAA7w1",
        "outputId": "5b208704-c48e-4494-d045-440f7e0db879"
      },
      "source": [
        "movies_df = movies_df.set_index('movie')\n",
        "movies_df.head()"
      ],
      "execution_count": 62,
      "outputs": [
        {
          "output_type": "execute_result",
          "data": {
            "text/html": [
              "<div>\n",
              "<style scoped>\n",
              "    .dataframe tbody tr th:only-of-type {\n",
              "        vertical-align: middle;\n",
              "    }\n",
              "\n",
              "    .dataframe tbody tr th {\n",
              "        vertical-align: top;\n",
              "    }\n",
              "\n",
              "    .dataframe thead th {\n",
              "        text-align: right;\n",
              "    }\n",
              "</style>\n",
              "<table border=\"1\" class=\"dataframe\">\n",
              "  <thead>\n",
              "    <tr style=\"text-align: right;\">\n",
              "      <th></th>\n",
              "      <th>title</th>\n",
              "      <th>title_eng</th>\n",
              "      <th>year</th>\n",
              "      <th>grade</th>\n",
              "    </tr>\n",
              "    <tr>\n",
              "      <th>movie</th>\n",
              "      <th></th>\n",
              "      <th></th>\n",
              "      <th></th>\n",
              "      <th></th>\n",
              "    </tr>\n",
              "  </thead>\n",
              "  <tbody>\n",
              "    <tr>\n",
              "      <th>10001</th>\n",
              "      <td>시네마 천국</td>\n",
              "      <td>Cinema Paradiso , 1988</td>\n",
              "      <td>2013.0</td>\n",
              "      <td>전체 관람가</td>\n",
              "    </tr>\n",
              "    <tr>\n",
              "      <th>10002</th>\n",
              "      <td>빽 투 더 퓨쳐</td>\n",
              "      <td>Back To The Future , 1985</td>\n",
              "      <td>2015.0</td>\n",
              "      <td>12세 관람가</td>\n",
              "    </tr>\n",
              "    <tr>\n",
              "      <th>10003</th>\n",
              "      <td>빽 투 더 퓨쳐 2</td>\n",
              "      <td>Back To The Future Part 2 , 1989</td>\n",
              "      <td>2015.0</td>\n",
              "      <td>12세 관람가</td>\n",
              "    </tr>\n",
              "    <tr>\n",
              "      <th>10004</th>\n",
              "      <td>빽 투 더 퓨쳐 3</td>\n",
              "      <td>Back To The Future Part III , 1990</td>\n",
              "      <td>1990.0</td>\n",
              "      <td>전체 관람가</td>\n",
              "    </tr>\n",
              "    <tr>\n",
              "      <th>10005</th>\n",
              "      <td>스타워즈 에피소드 4 - 새로운 희망</td>\n",
              "      <td>Star Wars , 1977</td>\n",
              "      <td>1997.0</td>\n",
              "      <td>PG</td>\n",
              "    </tr>\n",
              "  </tbody>\n",
              "</table>\n",
              "</div>"
            ],
            "text/plain": [
              "                      title  ...    grade\n",
              "movie                        ...         \n",
              "10001                시네마 천국  ...   전체 관람가\n",
              "10002              빽 투 더 퓨쳐  ...  12세 관람가\n",
              "10003            빽 투 더 퓨쳐 2  ...  12세 관람가\n",
              "10004            빽 투 더 퓨쳐 3  ...   전체 관람가\n",
              "10005  스타워즈 에피소드 4 - 새로운 희망  ...       PG\n",
              "\n",
              "[5 rows x 4 columns]"
            ]
          },
          "metadata": {
            "tags": []
          },
          "execution_count": 62
        }
      ]
    },
    {
      "cell_type": "code",
      "metadata": {
        "colab": {
          "base_uri": "https://localhost:8080/",
          "height": 225
        },
        "id": "Bw-38ZMcBDv5",
        "outputId": "4a8fc1fc-6010-4588-b547-580c6cfd875d"
      },
      "source": [
        "# 아까 장르 데이터를 합치자\n",
        "\n",
        "movies_df = pd.concat([movies_df, combined_genres_df], axis=1)\n",
        "movies_df.head()"
      ],
      "execution_count": 63,
      "outputs": [
        {
          "output_type": "execute_result",
          "data": {
            "text/html": [
              "<div>\n",
              "<style scoped>\n",
              "    .dataframe tbody tr th:only-of-type {\n",
              "        vertical-align: middle;\n",
              "    }\n",
              "\n",
              "    .dataframe tbody tr th {\n",
              "        vertical-align: top;\n",
              "    }\n",
              "\n",
              "    .dataframe thead th {\n",
              "        text-align: right;\n",
              "    }\n",
              "</style>\n",
              "<table border=\"1\" class=\"dataframe\">\n",
              "  <thead>\n",
              "    <tr style=\"text-align: right;\">\n",
              "      <th></th>\n",
              "      <th>title</th>\n",
              "      <th>title_eng</th>\n",
              "      <th>year</th>\n",
              "      <th>grade</th>\n",
              "      <th>genres</th>\n",
              "    </tr>\n",
              "    <tr>\n",
              "      <th>movie</th>\n",
              "      <th></th>\n",
              "      <th></th>\n",
              "      <th></th>\n",
              "      <th></th>\n",
              "      <th></th>\n",
              "    </tr>\n",
              "  </thead>\n",
              "  <tbody>\n",
              "    <tr>\n",
              "      <th>10001</th>\n",
              "      <td>시네마 천국</td>\n",
              "      <td>Cinema Paradiso , 1988</td>\n",
              "      <td>2013.0</td>\n",
              "      <td>전체 관람가</td>\n",
              "      <td>드라마/멜로/로맨스</td>\n",
              "    </tr>\n",
              "    <tr>\n",
              "      <th>10002</th>\n",
              "      <td>빽 투 더 퓨쳐</td>\n",
              "      <td>Back To The Future , 1985</td>\n",
              "      <td>2015.0</td>\n",
              "      <td>12세 관람가</td>\n",
              "      <td>SF/코미디</td>\n",
              "    </tr>\n",
              "    <tr>\n",
              "      <th>10003</th>\n",
              "      <td>빽 투 더 퓨쳐 2</td>\n",
              "      <td>Back To The Future Part 2 , 1989</td>\n",
              "      <td>2015.0</td>\n",
              "      <td>12세 관람가</td>\n",
              "      <td>SF/코미디</td>\n",
              "    </tr>\n",
              "    <tr>\n",
              "      <th>10004</th>\n",
              "      <td>빽 투 더 퓨쳐 3</td>\n",
              "      <td>Back To The Future Part III , 1990</td>\n",
              "      <td>1990.0</td>\n",
              "      <td>전체 관람가</td>\n",
              "      <td>서부/SF/판타지/코미디</td>\n",
              "    </tr>\n",
              "    <tr>\n",
              "      <th>10005</th>\n",
              "      <td>스타워즈 에피소드 4 - 새로운 희망</td>\n",
              "      <td>Star Wars , 1977</td>\n",
              "      <td>1997.0</td>\n",
              "      <td>PG</td>\n",
              "      <td>판타지/모험/SF/액션</td>\n",
              "    </tr>\n",
              "  </tbody>\n",
              "</table>\n",
              "</div>"
            ],
            "text/plain": [
              "                      title  ...         genres\n",
              "movie                        ...               \n",
              "10001                시네마 천국  ...     드라마/멜로/로맨스\n",
              "10002              빽 투 더 퓨쳐  ...         SF/코미디\n",
              "10003            빽 투 더 퓨쳐 2  ...         SF/코미디\n",
              "10004            빽 투 더 퓨쳐 3  ...  서부/SF/판타지/코미디\n",
              "10005  스타워즈 에피소드 4 - 새로운 희망  ...   판타지/모험/SF/액션\n",
              "\n",
              "[5 rows x 5 columns]"
            ]
          },
          "metadata": {
            "tags": []
          },
          "execution_count": 63
        }
      ]
    },
    {
      "cell_type": "code",
      "metadata": {
        "id": "gxYetHjKCm9x"
      },
      "source": [
        "# People 과 Casting 확인"
      ],
      "execution_count": 64,
      "outputs": []
    },
    {
      "cell_type": "code",
      "metadata": {
        "colab": {
          "base_uri": "https://localhost:8080/",
          "height": 195
        },
        "id": "RiNg-BKDCqQl",
        "outputId": "5edaff07-fe94-4771-fb69-814ba580b14e"
      },
      "source": [
        "peoples_df.head()"
      ],
      "execution_count": 65,
      "outputs": [
        {
          "output_type": "execute_result",
          "data": {
            "text/html": [
              "<div>\n",
              "<style scoped>\n",
              "    .dataframe tbody tr th:only-of-type {\n",
              "        vertical-align: middle;\n",
              "    }\n",
              "\n",
              "    .dataframe tbody tr th {\n",
              "        vertical-align: top;\n",
              "    }\n",
              "\n",
              "    .dataframe thead th {\n",
              "        text-align: right;\n",
              "    }\n",
              "</style>\n",
              "<table border=\"1\" class=\"dataframe\">\n",
              "  <thead>\n",
              "    <tr style=\"text-align: right;\">\n",
              "      <th></th>\n",
              "      <th>people</th>\n",
              "      <th>korean</th>\n",
              "      <th>original</th>\n",
              "    </tr>\n",
              "  </thead>\n",
              "  <tbody>\n",
              "    <tr>\n",
              "      <th>0</th>\n",
              "      <td>5</td>\n",
              "      <td>아담 볼드윈</td>\n",
              "      <td>Adam Baldwin</td>\n",
              "    </tr>\n",
              "    <tr>\n",
              "      <th>1</th>\n",
              "      <td>8</td>\n",
              "      <td>애드리안 라인</td>\n",
              "      <td>Adrian Lyne</td>\n",
              "    </tr>\n",
              "    <tr>\n",
              "      <th>2</th>\n",
              "      <td>9</td>\n",
              "      <td>에이단 퀸</td>\n",
              "      <td>Aidan Quinn</td>\n",
              "    </tr>\n",
              "    <tr>\n",
              "      <th>3</th>\n",
              "      <td>13</td>\n",
              "      <td>구로사와 아키라</td>\n",
              "      <td>Akira Kurosawa</td>\n",
              "    </tr>\n",
              "    <tr>\n",
              "      <th>4</th>\n",
              "      <td>15</td>\n",
              "      <td>알 파치노</td>\n",
              "      <td>Al Pacino</td>\n",
              "    </tr>\n",
              "  </tbody>\n",
              "</table>\n",
              "</div>"
            ],
            "text/plain": [
              "   people    korean        original\n",
              "0       5    아담 볼드윈    Adam Baldwin\n",
              "1       8   애드리안 라인     Adrian Lyne\n",
              "2       9     에이단 퀸     Aidan Quinn\n",
              "3      13  구로사와 아키라  Akira Kurosawa\n",
              "4      15     알 파치노       Al Pacino"
            ]
          },
          "metadata": {
            "tags": []
          },
          "execution_count": 65
        }
      ]
    },
    {
      "cell_type": "code",
      "metadata": {
        "colab": {
          "base_uri": "https://localhost:8080/",
          "height": 195
        },
        "id": "AWkPvel0Csew",
        "outputId": "752de8d7-cf94-4cb9-d1af-e2ffafec45bc"
      },
      "source": [
        "castings_df.head()"
      ],
      "execution_count": 66,
      "outputs": [
        {
          "output_type": "execute_result",
          "data": {
            "text/html": [
              "<div>\n",
              "<style scoped>\n",
              "    .dataframe tbody tr th:only-of-type {\n",
              "        vertical-align: middle;\n",
              "    }\n",
              "\n",
              "    .dataframe tbody tr th {\n",
              "        vertical-align: top;\n",
              "    }\n",
              "\n",
              "    .dataframe thead th {\n",
              "        text-align: right;\n",
              "    }\n",
              "</style>\n",
              "<table border=\"1\" class=\"dataframe\">\n",
              "  <thead>\n",
              "    <tr style=\"text-align: right;\">\n",
              "      <th></th>\n",
              "      <th>movie</th>\n",
              "      <th>people</th>\n",
              "      <th>order</th>\n",
              "      <th>leading</th>\n",
              "    </tr>\n",
              "  </thead>\n",
              "  <tbody>\n",
              "    <tr>\n",
              "      <th>0</th>\n",
              "      <td>10001</td>\n",
              "      <td>4374</td>\n",
              "      <td>1</td>\n",
              "      <td>1</td>\n",
              "    </tr>\n",
              "    <tr>\n",
              "      <th>1</th>\n",
              "      <td>10001</td>\n",
              "      <td>178</td>\n",
              "      <td>2</td>\n",
              "      <td>1</td>\n",
              "    </tr>\n",
              "    <tr>\n",
              "      <th>2</th>\n",
              "      <td>10001</td>\n",
              "      <td>3241</td>\n",
              "      <td>3</td>\n",
              "      <td>1</td>\n",
              "    </tr>\n",
              "    <tr>\n",
              "      <th>3</th>\n",
              "      <td>10001</td>\n",
              "      <td>47952</td>\n",
              "      <td>4</td>\n",
              "      <td>1</td>\n",
              "    </tr>\n",
              "    <tr>\n",
              "      <th>4</th>\n",
              "      <td>10001</td>\n",
              "      <td>47953</td>\n",
              "      <td>5</td>\n",
              "      <td>0</td>\n",
              "    </tr>\n",
              "  </tbody>\n",
              "</table>\n",
              "</div>"
            ],
            "text/plain": [
              "   movie  people  order  leading\n",
              "0  10001    4374      1        1\n",
              "1  10001     178      2        1\n",
              "2  10001    3241      3        1\n",
              "3  10001   47952      4        1\n",
              "4  10001   47953      5        0"
            ]
          },
          "metadata": {
            "tags": []
          },
          "execution_count": 66
        }
      ]
    },
    {
      "cell_type": "code",
      "metadata": {
        "colab": {
          "base_uri": "https://localhost:8080/",
          "height": 225
        },
        "id": "t32vIBTMCtTQ",
        "outputId": "e378ee6c-f170-41bc-aa25-ae76c49a7b39"
      },
      "source": [
        "# 캐스팅 정보도 위의 영화 데이터 처럼 groupby를 활용하서 모아주자\n",
        "\n",
        "casting = castings_df.groupby('movie')\n",
        "castings = [(list(set(x['movie'].values))[0], x['people'].values) for i, x in casting]\n",
        "combinde_castings_df = pd.DataFrame(data = castings, columns = ['movie','people'])\n",
        "combinde_castings_df = combinde_castings_df.set_index('movie')\n",
        "combinde_castings_df.head()"
      ],
      "execution_count": 68,
      "outputs": [
        {
          "output_type": "execute_result",
          "data": {
            "text/html": [
              "<div>\n",
              "<style scoped>\n",
              "    .dataframe tbody tr th:only-of-type {\n",
              "        vertical-align: middle;\n",
              "    }\n",
              "\n",
              "    .dataframe tbody tr th {\n",
              "        vertical-align: top;\n",
              "    }\n",
              "\n",
              "    .dataframe thead th {\n",
              "        text-align: right;\n",
              "    }\n",
              "</style>\n",
              "<table border=\"1\" class=\"dataframe\">\n",
              "  <thead>\n",
              "    <tr style=\"text-align: right;\">\n",
              "      <th></th>\n",
              "      <th>people</th>\n",
              "    </tr>\n",
              "    <tr>\n",
              "      <th>movie</th>\n",
              "      <th></th>\n",
              "    </tr>\n",
              "  </thead>\n",
              "  <tbody>\n",
              "    <tr>\n",
              "      <th>10001</th>\n",
              "      <td>[4374, 178, 3241, 47952, 47953, 19538, 18991, ...</td>\n",
              "    </tr>\n",
              "    <tr>\n",
              "      <th>10002</th>\n",
              "      <td>[1076, 4603, 917, 8637, 5104, 9986, 7470, 9987]</td>\n",
              "    </tr>\n",
              "    <tr>\n",
              "      <th>10003</th>\n",
              "      <td>[1076, 4603, 917, 5104, 391, 5106, 5105, 5107,...</td>\n",
              "    </tr>\n",
              "    <tr>\n",
              "      <th>10004</th>\n",
              "      <td>[1076, 4603, 1031, 5104, 10001, 5984, 10002, 1...</td>\n",
              "    </tr>\n",
              "    <tr>\n",
              "      <th>10005</th>\n",
              "      <td>[1007, 535, 215, 1236, 35]</td>\n",
              "    </tr>\n",
              "  </tbody>\n",
              "</table>\n",
              "</div>"
            ],
            "text/plain": [
              "                                                  people\n",
              "movie                                                   \n",
              "10001  [4374, 178, 3241, 47952, 47953, 19538, 18991, ...\n",
              "10002    [1076, 4603, 917, 8637, 5104, 9986, 7470, 9987]\n",
              "10003  [1076, 4603, 917, 5104, 391, 5106, 5105, 5107,...\n",
              "10004  [1076, 4603, 1031, 5104, 10001, 5984, 10002, 1...\n",
              "10005                         [1007, 535, 215, 1236, 35]"
            ]
          },
          "metadata": {
            "tags": []
          },
          "execution_count": 68
        }
      ]
    },
    {
      "cell_type": "code",
      "metadata": {
        "colab": {
          "base_uri": "https://localhost:8080/",
          "height": 225
        },
        "id": "_Hhb8UToD47B",
        "outputId": "2b5d7124-4d5f-42db-83fe-506b90d40c13"
      },
      "source": [
        "# 캐스팅 정보 또한 영화에다가 합쳐보자\n",
        "movies_df = pd.concat([movies_df, combinde_castings_df], axis =1)\n",
        "movies_df.head()"
      ],
      "execution_count": 69,
      "outputs": [
        {
          "output_type": "execute_result",
          "data": {
            "text/html": [
              "<div>\n",
              "<style scoped>\n",
              "    .dataframe tbody tr th:only-of-type {\n",
              "        vertical-align: middle;\n",
              "    }\n",
              "\n",
              "    .dataframe tbody tr th {\n",
              "        vertical-align: top;\n",
              "    }\n",
              "\n",
              "    .dataframe thead th {\n",
              "        text-align: right;\n",
              "    }\n",
              "</style>\n",
              "<table border=\"1\" class=\"dataframe\">\n",
              "  <thead>\n",
              "    <tr style=\"text-align: right;\">\n",
              "      <th></th>\n",
              "      <th>title</th>\n",
              "      <th>title_eng</th>\n",
              "      <th>year</th>\n",
              "      <th>grade</th>\n",
              "      <th>genres</th>\n",
              "      <th>people</th>\n",
              "    </tr>\n",
              "    <tr>\n",
              "      <th>movie</th>\n",
              "      <th></th>\n",
              "      <th></th>\n",
              "      <th></th>\n",
              "      <th></th>\n",
              "      <th></th>\n",
              "      <th></th>\n",
              "    </tr>\n",
              "  </thead>\n",
              "  <tbody>\n",
              "    <tr>\n",
              "      <th>10001</th>\n",
              "      <td>시네마 천국</td>\n",
              "      <td>Cinema Paradiso , 1988</td>\n",
              "      <td>2013.0</td>\n",
              "      <td>전체 관람가</td>\n",
              "      <td>드라마/멜로/로맨스</td>\n",
              "      <td>[4374, 178, 3241, 47952, 47953, 19538, 18991, ...</td>\n",
              "    </tr>\n",
              "    <tr>\n",
              "      <th>10002</th>\n",
              "      <td>빽 투 더 퓨쳐</td>\n",
              "      <td>Back To The Future , 1985</td>\n",
              "      <td>2015.0</td>\n",
              "      <td>12세 관람가</td>\n",
              "      <td>SF/코미디</td>\n",
              "      <td>[1076, 4603, 917, 8637, 5104, 9986, 7470, 9987]</td>\n",
              "    </tr>\n",
              "    <tr>\n",
              "      <th>10003</th>\n",
              "      <td>빽 투 더 퓨쳐 2</td>\n",
              "      <td>Back To The Future Part 2 , 1989</td>\n",
              "      <td>2015.0</td>\n",
              "      <td>12세 관람가</td>\n",
              "      <td>SF/코미디</td>\n",
              "      <td>[1076, 4603, 917, 5104, 391, 5106, 5105, 5107,...</td>\n",
              "    </tr>\n",
              "    <tr>\n",
              "      <th>10004</th>\n",
              "      <td>빽 투 더 퓨쳐 3</td>\n",
              "      <td>Back To The Future Part III , 1990</td>\n",
              "      <td>1990.0</td>\n",
              "      <td>전체 관람가</td>\n",
              "      <td>서부/SF/판타지/코미디</td>\n",
              "      <td>[1076, 4603, 1031, 5104, 10001, 5984, 10002, 1...</td>\n",
              "    </tr>\n",
              "    <tr>\n",
              "      <th>10005</th>\n",
              "      <td>스타워즈 에피소드 4 - 새로운 희망</td>\n",
              "      <td>Star Wars , 1977</td>\n",
              "      <td>1997.0</td>\n",
              "      <td>PG</td>\n",
              "      <td>판타지/모험/SF/액션</td>\n",
              "      <td>[1007, 535, 215, 1236, 35]</td>\n",
              "    </tr>\n",
              "  </tbody>\n",
              "</table>\n",
              "</div>"
            ],
            "text/plain": [
              "                      title  ...                                             people\n",
              "movie                        ...                                                   \n",
              "10001                시네마 천국  ...  [4374, 178, 3241, 47952, 47953, 19538, 18991, ...\n",
              "10002              빽 투 더 퓨쳐  ...    [1076, 4603, 917, 8637, 5104, 9986, 7470, 9987]\n",
              "10003            빽 투 더 퓨쳐 2  ...  [1076, 4603, 917, 5104, 391, 5106, 5105, 5107,...\n",
              "10004            빽 투 더 퓨쳐 3  ...  [1076, 4603, 1031, 5104, 10001, 5984, 10002, 1...\n",
              "10005  스타워즈 에피소드 4 - 새로운 희망  ...                         [1007, 535, 215, 1236, 35]\n",
              "\n",
              "[5 rows x 6 columns]"
            ]
          },
          "metadata": {
            "tags": []
          },
          "execution_count": 69
        }
      ]
    },
    {
      "cell_type": "code",
      "metadata": {
        "colab": {
          "base_uri": "https://localhost:8080/",
          "height": 195
        },
        "id": "H0AS11jyENDH",
        "outputId": "f06496d8-e47f-45eb-8b5f-3b97068f54e2"
      },
      "source": [
        "# countries 데이터 확인\n",
        "countries_df.head()"
      ],
      "execution_count": 70,
      "outputs": [
        {
          "output_type": "execute_result",
          "data": {
            "text/html": [
              "<div>\n",
              "<style scoped>\n",
              "    .dataframe tbody tr th:only-of-type {\n",
              "        vertical-align: middle;\n",
              "    }\n",
              "\n",
              "    .dataframe tbody tr th {\n",
              "        vertical-align: top;\n",
              "    }\n",
              "\n",
              "    .dataframe thead th {\n",
              "        text-align: right;\n",
              "    }\n",
              "</style>\n",
              "<table border=\"1\" class=\"dataframe\">\n",
              "  <thead>\n",
              "    <tr style=\"text-align: right;\">\n",
              "      <th></th>\n",
              "      <th>movie</th>\n",
              "      <th>country</th>\n",
              "    </tr>\n",
              "  </thead>\n",
              "  <tbody>\n",
              "    <tr>\n",
              "      <th>0</th>\n",
              "      <td>10001</td>\n",
              "      <td>이탈리아</td>\n",
              "    </tr>\n",
              "    <tr>\n",
              "      <th>1</th>\n",
              "      <td>10001</td>\n",
              "      <td>프랑스</td>\n",
              "    </tr>\n",
              "    <tr>\n",
              "      <th>2</th>\n",
              "      <td>10002</td>\n",
              "      <td>미국</td>\n",
              "    </tr>\n",
              "    <tr>\n",
              "      <th>3</th>\n",
              "      <td>10003</td>\n",
              "      <td>미국</td>\n",
              "    </tr>\n",
              "    <tr>\n",
              "      <th>4</th>\n",
              "      <td>10004</td>\n",
              "      <td>미국</td>\n",
              "    </tr>\n",
              "  </tbody>\n",
              "</table>\n",
              "</div>"
            ],
            "text/plain": [
              "   movie country\n",
              "0  10001    이탈리아\n",
              "1  10001     프랑스\n",
              "2  10002      미국\n",
              "3  10003      미국\n",
              "4  10004      미국"
            ]
          },
          "metadata": {
            "tags": []
          },
          "execution_count": 70
        }
      ]
    },
    {
      "cell_type": "code",
      "metadata": {
        "colab": {
          "base_uri": "https://localhost:8080/",
          "height": 225
        },
        "id": "xlCgh_7AEVFA",
        "outputId": "ffac9a0e-b902-4a1a-f4ac-9077f0b43011"
      },
      "source": [
        "# 또 다시 그룹핑\n",
        "groups = countries_df.groupby('movie')\n",
        "countries = [(list(set(x['movie'].values))[0], ','.join(x['country'].values)) for index, x in groups][:10]\n",
        "combined_countries_df = pd.DataFrame(data=countries, columns=['movie', 'country'])\n",
        "combined_countries_df = combined_countries_df.set_index('movie')\n",
        "combined_countries_df.head()"
      ],
      "execution_count": 71,
      "outputs": [
        {
          "output_type": "execute_result",
          "data": {
            "text/html": [
              "<div>\n",
              "<style scoped>\n",
              "    .dataframe tbody tr th:only-of-type {\n",
              "        vertical-align: middle;\n",
              "    }\n",
              "\n",
              "    .dataframe tbody tr th {\n",
              "        vertical-align: top;\n",
              "    }\n",
              "\n",
              "    .dataframe thead th {\n",
              "        text-align: right;\n",
              "    }\n",
              "</style>\n",
              "<table border=\"1\" class=\"dataframe\">\n",
              "  <thead>\n",
              "    <tr style=\"text-align: right;\">\n",
              "      <th></th>\n",
              "      <th>country</th>\n",
              "    </tr>\n",
              "    <tr>\n",
              "      <th>movie</th>\n",
              "      <th></th>\n",
              "    </tr>\n",
              "  </thead>\n",
              "  <tbody>\n",
              "    <tr>\n",
              "      <th>10001</th>\n",
              "      <td>이탈리아,프랑스</td>\n",
              "    </tr>\n",
              "    <tr>\n",
              "      <th>10002</th>\n",
              "      <td>미국</td>\n",
              "    </tr>\n",
              "    <tr>\n",
              "      <th>10003</th>\n",
              "      <td>미국</td>\n",
              "    </tr>\n",
              "    <tr>\n",
              "      <th>10004</th>\n",
              "      <td>미국</td>\n",
              "    </tr>\n",
              "    <tr>\n",
              "      <th>10005</th>\n",
              "      <td>미국</td>\n",
              "    </tr>\n",
              "  </tbody>\n",
              "</table>\n",
              "</div>"
            ],
            "text/plain": [
              "        country\n",
              "movie          \n",
              "10001  이탈리아,프랑스\n",
              "10002        미국\n",
              "10003        미국\n",
              "10004        미국\n",
              "10005        미국"
            ]
          },
          "metadata": {
            "tags": []
          },
          "execution_count": 71
        }
      ]
    },
    {
      "cell_type": "code",
      "metadata": {
        "colab": {
          "base_uri": "https://localhost:8080/",
          "height": 225
        },
        "id": "3xt9sVsWEdXX",
        "outputId": "a4ad851f-6eff-4402-fe57-a21ca9133ba6"
      },
      "source": [
        "# 얘도 영화 데이터에 넣어보자\n",
        "movies_df = pd.concat([movies_df, combined_countries_df], axis=1)\n",
        "movies_df.head()"
      ],
      "execution_count": 72,
      "outputs": [
        {
          "output_type": "execute_result",
          "data": {
            "text/html": [
              "<div>\n",
              "<style scoped>\n",
              "    .dataframe tbody tr th:only-of-type {\n",
              "        vertical-align: middle;\n",
              "    }\n",
              "\n",
              "    .dataframe tbody tr th {\n",
              "        vertical-align: top;\n",
              "    }\n",
              "\n",
              "    .dataframe thead th {\n",
              "        text-align: right;\n",
              "    }\n",
              "</style>\n",
              "<table border=\"1\" class=\"dataframe\">\n",
              "  <thead>\n",
              "    <tr style=\"text-align: right;\">\n",
              "      <th></th>\n",
              "      <th>title</th>\n",
              "      <th>title_eng</th>\n",
              "      <th>year</th>\n",
              "      <th>grade</th>\n",
              "      <th>genres</th>\n",
              "      <th>people</th>\n",
              "      <th>country</th>\n",
              "    </tr>\n",
              "    <tr>\n",
              "      <th>movie</th>\n",
              "      <th></th>\n",
              "      <th></th>\n",
              "      <th></th>\n",
              "      <th></th>\n",
              "      <th></th>\n",
              "      <th></th>\n",
              "      <th></th>\n",
              "    </tr>\n",
              "  </thead>\n",
              "  <tbody>\n",
              "    <tr>\n",
              "      <th>10001</th>\n",
              "      <td>시네마 천국</td>\n",
              "      <td>Cinema Paradiso , 1988</td>\n",
              "      <td>2013.0</td>\n",
              "      <td>전체 관람가</td>\n",
              "      <td>드라마/멜로/로맨스</td>\n",
              "      <td>[4374, 178, 3241, 47952, 47953, 19538, 18991, ...</td>\n",
              "      <td>이탈리아,프랑스</td>\n",
              "    </tr>\n",
              "    <tr>\n",
              "      <th>10002</th>\n",
              "      <td>빽 투 더 퓨쳐</td>\n",
              "      <td>Back To The Future , 1985</td>\n",
              "      <td>2015.0</td>\n",
              "      <td>12세 관람가</td>\n",
              "      <td>SF/코미디</td>\n",
              "      <td>[1076, 4603, 917, 8637, 5104, 9986, 7470, 9987]</td>\n",
              "      <td>미국</td>\n",
              "    </tr>\n",
              "    <tr>\n",
              "      <th>10003</th>\n",
              "      <td>빽 투 더 퓨쳐 2</td>\n",
              "      <td>Back To The Future Part 2 , 1989</td>\n",
              "      <td>2015.0</td>\n",
              "      <td>12세 관람가</td>\n",
              "      <td>SF/코미디</td>\n",
              "      <td>[1076, 4603, 917, 5104, 391, 5106, 5105, 5107,...</td>\n",
              "      <td>미국</td>\n",
              "    </tr>\n",
              "    <tr>\n",
              "      <th>10004</th>\n",
              "      <td>빽 투 더 퓨쳐 3</td>\n",
              "      <td>Back To The Future Part III , 1990</td>\n",
              "      <td>1990.0</td>\n",
              "      <td>전체 관람가</td>\n",
              "      <td>서부/SF/판타지/코미디</td>\n",
              "      <td>[1076, 4603, 1031, 5104, 10001, 5984, 10002, 1...</td>\n",
              "      <td>미국</td>\n",
              "    </tr>\n",
              "    <tr>\n",
              "      <th>10005</th>\n",
              "      <td>스타워즈 에피소드 4 - 새로운 희망</td>\n",
              "      <td>Star Wars , 1977</td>\n",
              "      <td>1997.0</td>\n",
              "      <td>PG</td>\n",
              "      <td>판타지/모험/SF/액션</td>\n",
              "      <td>[1007, 535, 215, 1236, 35]</td>\n",
              "      <td>미국</td>\n",
              "    </tr>\n",
              "  </tbody>\n",
              "</table>\n",
              "</div>"
            ],
            "text/plain": [
              "                      title  ...   country\n",
              "movie                        ...          \n",
              "10001                시네마 천국  ...  이탈리아,프랑스\n",
              "10002              빽 투 더 퓨쳐  ...        미국\n",
              "10003            빽 투 더 퓨쳐 2  ...        미국\n",
              "10004            빽 투 더 퓨쳐 3  ...        미국\n",
              "10005  스타워즈 에피소드 4 - 새로운 희망  ...        미국\n",
              "\n",
              "[5 rows x 7 columns]"
            ]
          },
          "metadata": {
            "tags": []
          },
          "execution_count": 72
        }
      ]
    },
    {
      "cell_type": "code",
      "metadata": {
        "colab": {
          "base_uri": "https://localhost:8080/"
        },
        "id": "OjkpqmQIEiEW",
        "outputId": "93edbbb9-1f03-4bc8-fae2-cdd3b2b0a333"
      },
      "source": [
        "# 이번에는 유저와 아이템 간에 interaction이 어떠했는 지 확인해보자\n",
        "print(rates_df.head())\n",
        "print(rates_df.shape)"
      ],
      "execution_count": 74,
      "outputs": [
        {
          "output_type": "stream",
          "text": [
            "   user  movie  rate        time\n",
            "0     0  10003     7  1494128040\n",
            "1     0  10004     7  1467529800\n",
            "2     0  10018     9  1513344120\n",
            "3     0  10021     9  1424497980\n",
            "4     0  10022     7  1427627340\n",
            "(140710, 4)\n"
          ],
          "name": "stdout"
        }
      ]
    },
    {
      "cell_type": "code",
      "metadata": {
        "colab": {
          "base_uri": "https://localhost:8080/"
        },
        "id": "RmsABMtBEtEN",
        "outputId": "08c78871-d5bb-488b-ef29-45efc06820ee"
      },
      "source": [
        "# 총 몇명이 평가했을까??\n",
        "n_unique_users= len(rates_df['user'].unique())\n",
        "print(n_unique_users)"
      ],
      "execution_count": 76,
      "outputs": [
        {
          "output_type": "stream",
          "text": [
            "52028\n"
          ],
          "name": "stdout"
        }
      ]
    },
    {
      "cell_type": "code",
      "metadata": {
        "colab": {
          "base_uri": "https://localhost:8080/"
        },
        "id": "v_Qear63E-Zp",
        "outputId": "fd39e2fd-9609-401d-d40a-f456aae32067"
      },
      "source": [
        "# 총 영화의 갯수는???\n",
        "n_unique_movies= len(rates_df['movie'].unique())\n",
        "print(n_unique_movies)"
      ],
      "execution_count": 78,
      "outputs": [
        {
          "output_type": "stream",
          "text": [
            "600\n"
          ],
          "name": "stdout"
        }
      ]
    },
    {
      "cell_type": "code",
      "metadata": {
        "colab": {
          "base_uri": "https://localhost:8080/"
        },
        "id": "S6hBFTOSFD7b",
        "outputId": "3245aa85-3623-4312-b72b-de98e53a38e0"
      },
      "source": [
        "# 평점의 평균은??\n",
        "print('평점의 평균 : ', rates_df.rate.mean())\n",
        "print('평점의 표준편차 : ', rates_df.rate.std())"
      ],
      "execution_count": 81,
      "outputs": [
        {
          "output_type": "stream",
          "text": [
            "평점의 평균 :  8.953258474877407\n",
            "평점의 표준편차 :  2.106047173852251\n"
          ],
          "name": "stdout"
        }
      ]
    },
    {
      "cell_type": "code",
      "metadata": {
        "colab": {
          "base_uri": "https://localhost:8080/"
        },
        "id": "oQKSbVWkFShp",
        "outputId": "8626f316-9ca9-4c3e-a187-5db0e0c64d25"
      },
      "source": [
        "# 결측값이 있는 지 확인해보자\n",
        "\n",
        "rates_df.isnull().sum()"
      ],
      "execution_count": 83,
      "outputs": [
        {
          "output_type": "execute_result",
          "data": {
            "text/plain": [
              "user     0\n",
              "movie    0\n",
              "rate     0\n",
              "time     0\n",
              "dtype: int64"
            ]
          },
          "metadata": {
            "tags": []
          },
          "execution_count": 83
        }
      ]
    },
    {
      "cell_type": "code",
      "metadata": {
        "colab": {
          "base_uri": "https://localhost:8080/",
          "height": 373
        },
        "id": "yxCDYeKBFeu6",
        "outputId": "3ddbda60-72e4-4cd8-a635-a0013008d576"
      },
      "source": [
        "# 히스토그램볼까\n",
        "\n",
        "rates_df[['user','movie','rate']].hist()"
      ],
      "execution_count": 84,
      "outputs": [
        {
          "output_type": "execute_result",
          "data": {
            "text/plain": [
              "array([[<matplotlib.axes._subplots.AxesSubplot object at 0x7f308d878450>,\n",
              "        <matplotlib.axes._subplots.AxesSubplot object at 0x7f307483b610>],\n",
              "       [<matplotlib.axes._subplots.AxesSubplot object at 0x7f307a057c50>,\n",
              "        <matplotlib.axes._subplots.AxesSubplot object at 0x7f307a031310>]],\n",
              "      dtype=object)"
            ]
          },
          "metadata": {
            "tags": []
          },
          "execution_count": 84
        },
        {
          "output_type": "display_data",
          "data": {
            "image/png": "[encoded data removed]",
            "text/plain": [
              "<Figure size 432x288 with 4 Axes>"
            ]
          },
          "metadata": {
            "tags": [],
            "needs_background": "light"
          }
        }
      ]
    },
    {
      "cell_type": "code",
      "metadata": {
        "colab": {
          "base_uri": "https://localhost:8080/"
        },
        "id": "iNzm0QqDFox0",
        "outputId": "a9034f68-4bdb-439c-9c8b-66b2d983f7a3"
      },
      "source": [
        "rates_df.groupby(['user','rate']).size()"
      ],
      "execution_count": 85,
      "outputs": [
        {
          "output_type": "execute_result",
          "data": {
            "text/plain": [
              "user   rate\n",
              "0      3        1\n",
              "       4        2\n",
              "       5        1\n",
              "       6       14\n",
              "       7       29\n",
              "               ..\n",
              "52023  10       1\n",
              "52024  10       1\n",
              "52025  7        1\n",
              "52026  9        1\n",
              "52027  10       1\n",
              "Length: 67575, dtype: int64"
            ]
          },
          "metadata": {
            "tags": []
          },
          "execution_count": 85
        }
      ]
    },
    {
      "cell_type": "code",
      "metadata": {
        "colab": {
          "base_uri": "https://localhost:8080/",
          "height": 431
        },
        "id": "Vd5pzv4cF6ua",
        "outputId": "9ddcd4cf-2ed8-4a74-a19c-98dcc5f75a9d"
      },
      "source": [
        "rates_df.groupby('user').mean()"
      ],
      "execution_count": 87,
      "outputs": [
        {
          "output_type": "execute_result",
          "data": {
            "text/html": [
              "<div>\n",
              "<style scoped>\n",
              "    .dataframe tbody tr th:only-of-type {\n",
              "        vertical-align: middle;\n",
              "    }\n",
              "\n",
              "    .dataframe tbody tr th {\n",
              "        vertical-align: top;\n",
              "    }\n",
              "\n",
              "    .dataframe thead th {\n",
              "        text-align: right;\n",
              "    }\n",
              "</style>\n",
              "<table border=\"1\" class=\"dataframe\">\n",
              "  <thead>\n",
              "    <tr style=\"text-align: right;\">\n",
              "      <th></th>\n",
              "      <th>movie</th>\n",
              "      <th>rate</th>\n",
              "      <th>time</th>\n",
              "    </tr>\n",
              "    <tr>\n",
              "      <th>user</th>\n",
              "      <th></th>\n",
              "      <th></th>\n",
              "      <th></th>\n",
              "    </tr>\n",
              "  </thead>\n",
              "  <tbody>\n",
              "    <tr>\n",
              "      <th>0</th>\n",
              "      <td>10330.588235</td>\n",
              "      <td>7.388235</td>\n",
              "      <td>1.447577e+09</td>\n",
              "    </tr>\n",
              "    <tr>\n",
              "      <th>1</th>\n",
              "      <td>10107.000000</td>\n",
              "      <td>9.000000</td>\n",
              "      <td>1.408888e+09</td>\n",
              "    </tr>\n",
              "    <tr>\n",
              "      <th>2</th>\n",
              "      <td>10198.866667</td>\n",
              "      <td>7.733333</td>\n",
              "      <td>1.321878e+09</td>\n",
              "    </tr>\n",
              "    <tr>\n",
              "      <th>3</th>\n",
              "      <td>10320.923913</td>\n",
              "      <td>7.413043</td>\n",
              "      <td>1.396393e+09</td>\n",
              "    </tr>\n",
              "    <tr>\n",
              "      <th>4</th>\n",
              "      <td>10364.323944</td>\n",
              "      <td>6.760563</td>\n",
              "      <td>1.464992e+09</td>\n",
              "    </tr>\n",
              "    <tr>\n",
              "      <th>...</th>\n",
              "      <td>...</td>\n",
              "      <td>...</td>\n",
              "      <td>...</td>\n",
              "    </tr>\n",
              "    <tr>\n",
              "      <th>52023</th>\n",
              "      <td>10998.000000</td>\n",
              "      <td>10.000000</td>\n",
              "      <td>1.421680e+09</td>\n",
              "    </tr>\n",
              "    <tr>\n",
              "      <th>52024</th>\n",
              "      <td>10998.000000</td>\n",
              "      <td>10.000000</td>\n",
              "      <td>1.204622e+09</td>\n",
              "    </tr>\n",
              "    <tr>\n",
              "      <th>52025</th>\n",
              "      <td>10998.000000</td>\n",
              "      <td>7.000000</td>\n",
              "      <td>1.498547e+09</td>\n",
              "    </tr>\n",
              "    <tr>\n",
              "      <th>52026</th>\n",
              "      <td>10998.000000</td>\n",
              "      <td>9.000000</td>\n",
              "      <td>1.434090e+09</td>\n",
              "    </tr>\n",
              "    <tr>\n",
              "      <th>52027</th>\n",
              "      <td>10998.000000</td>\n",
              "      <td>10.000000</td>\n",
              "      <td>1.227037e+09</td>\n",
              "    </tr>\n",
              "  </tbody>\n",
              "</table>\n",
              "<p>52028 rows × 3 columns</p>\n",
              "</div>"
            ],
            "text/plain": [
              "              movie       rate          time\n",
              "user                                        \n",
              "0      10330.588235   7.388235  1.447577e+09\n",
              "1      10107.000000   9.000000  1.408888e+09\n",
              "2      10198.866667   7.733333  1.321878e+09\n",
              "3      10320.923913   7.413043  1.396393e+09\n",
              "4      10364.323944   6.760563  1.464992e+09\n",
              "...             ...        ...           ...\n",
              "52023  10998.000000  10.000000  1.421680e+09\n",
              "52024  10998.000000  10.000000  1.204622e+09\n",
              "52025  10998.000000   7.000000  1.498547e+09\n",
              "52026  10998.000000   9.000000  1.434090e+09\n",
              "52027  10998.000000  10.000000  1.227037e+09\n",
              "\n",
              "[52028 rows x 3 columns]"
            ]
          },
          "metadata": {
            "tags": []
          },
          "execution_count": 87
        }
      ]
    },
    {
      "cell_type": "code",
      "metadata": {
        "colab": {
          "base_uri": "https://localhost:8080/"
        },
        "id": "oBD682n8GEkk",
        "outputId": "36e16493-0606-4f87-ebe3-7d873fc622d7"
      },
      "source": [
        "rates_df.groupby('user')['movie'].count()"
      ],
      "execution_count": 90,
      "outputs": [
        {
          "output_type": "execute_result",
          "data": {
            "text/plain": [
              "user\n",
              "0        85\n",
              "1         1\n",
              "2        15\n",
              "3        92\n",
              "4        71\n",
              "         ..\n",
              "52023     1\n",
              "52024     1\n",
              "52025     1\n",
              "52026     1\n",
              "52027     1\n",
              "Name: movie, Length: 52028, dtype: int64"
            ]
          },
          "metadata": {
            "tags": []
          },
          "execution_count": 90
        }
      ]
    },
    {
      "cell_type": "code",
      "metadata": {
        "colab": {
          "base_uri": "https://localhost:8080/"
        },
        "id": "mO_XBplIGOIF",
        "outputId": "b1cad64f-708d-46ff-b480-dd8cbfa2a083"
      },
      "source": [
        "# 유저가 평점을 준 영화의 수 & 평균평점\n",
        "\n",
        "stats_df = pd.DataFrame({\n",
        "    'movie_count' : rates_df.groupby('user')['movie'].count(),\n",
        "    'rating_avg' : rates_df.groupby('user')['rate'].mean(),\n",
        "    'rating-_std' : rates_df.groupby('user')['rate'].std()\n",
        "}\n",
        ")\n",
        "\n",
        "print(stats_df.shape)\n",
        "print(stats_df.head())"
      ],
      "execution_count": 93,
      "outputs": [
        {
          "output_type": "stream",
          "text": [
            "(52028, 3)\n",
            "      movie_count  rating_avg  rating-_std\n",
            "user                                      \n",
            "0              85    7.388235     1.337144\n",
            "1               1    9.000000          NaN\n",
            "2              15    7.733333     1.869556\n",
            "3              92    7.413043     1.638494\n",
            "4              71    6.760563     2.338893\n"
          ],
          "name": "stdout"
        }
      ]
    },
    {
      "cell_type": "code",
      "metadata": {
        "id": "rDxSMLZpOC3w",
        "outputId": "27aef489-96f7-4da2-d7cc-dc52bc923cab",
        "colab": {
          "base_uri": "https://localhost:8080/"
        }
      },
      "source": [
        "# rate가 많은 영화\n",
        "\n",
        "movieid_user_df = pd.DataFrame({\n",
        "    'num_users_watch': rates_df.groupby('movie')['user'].count(),\n",
        "    'avg_ratings': rates_df.groupby('movie')['rate'].mean(),\n",
        "    'std_ratings': rates_df.groupby('movie')['rate'].std()\n",
        "})\n",
        "movieid_user_df = movieid_user_df.reset_index()\n",
        "print(movieid_user_df.shape)\n",
        "print(movieid_user_df.head(10))"
      ],
      "execution_count": 94,
      "outputs": [
        {
          "output_type": "stream",
          "text": [
            "(600, 4)\n",
            "   movie  num_users_watch  avg_ratings  std_ratings\n",
            "0  10001             3635     9.294360     2.032011\n",
            "1  10002             3004     9.416778     1.740604\n",
            "2  10003              989     9.270981     1.741194\n",
            "3  10004              700     9.120000     1.688944\n",
            "4  10005              905     9.048619     1.935881\n",
            "5  10006              747     9.115127     2.004051\n",
            "6  10007              699     9.034335     1.886909\n",
            "7  10008              242     8.805785     2.108934\n",
            "8  10009              119     8.462185     2.053480\n",
            "9  10011               76     5.250000     3.128898\n"
          ],
          "name": "stdout"
        }
      ]
    },
    {
      "cell_type": "code",
      "metadata": {
        "id": "Mb_Ix0X0OT3Z",
        "outputId": "54c82078-d1f5-4025-f4bd-83da09ea742c",
        "colab": {
          "base_uri": "https://localhost:8080/",
          "height": 402
        }
      },
      "source": [
        "movieid_user_df.sort_values(by='num_users_watch', ascending=False)"
      ],
      "execution_count": 95,
      "outputs": [
        {
          "output_type": "execute_result",
          "data": {
            "text/html": [
              "<div>\n",
              "<style scoped>\n",
              "    .dataframe tbody tr th:only-of-type {\n",
              "        vertical-align: middle;\n",
              "    }\n",
              "\n",
              "    .dataframe tbody tr th {\n",
              "        vertical-align: top;\n",
              "    }\n",
              "\n",
              "    .dataframe thead th {\n",
              "        text-align: right;\n",
              "    }\n",
              "</style>\n",
              "<table border=\"1\" class=\"dataframe\">\n",
              "  <thead>\n",
              "    <tr style=\"text-align: right;\">\n",
              "      <th></th>\n",
              "      <th>movie</th>\n",
              "      <th>num_users_watch</th>\n",
              "      <th>avg_ratings</th>\n",
              "      <th>std_ratings</th>\n",
              "    </tr>\n",
              "  </thead>\n",
              "  <tbody>\n",
              "    <tr>\n",
              "      <th>164</th>\n",
              "      <td>10200</td>\n",
              "      <td>7265</td>\n",
              "      <td>9.434136</td>\n",
              "      <td>1.945808</td>\n",
              "    </tr>\n",
              "    <tr>\n",
              "      <th>44</th>\n",
              "      <td>10048</td>\n",
              "      <td>7016</td>\n",
              "      <td>9.378706</td>\n",
              "      <td>1.853923</td>\n",
              "    </tr>\n",
              "    <tr>\n",
              "      <th>83</th>\n",
              "      <td>10102</td>\n",
              "      <td>4391</td>\n",
              "      <td>9.401503</td>\n",
              "      <td>2.013120</td>\n",
              "    </tr>\n",
              "    <tr>\n",
              "      <th>14</th>\n",
              "      <td>10016</td>\n",
              "      <td>4029</td>\n",
              "      <td>9.399851</td>\n",
              "      <td>1.863305</td>\n",
              "    </tr>\n",
              "    <tr>\n",
              "      <th>570</th>\n",
              "      <td>10936</td>\n",
              "      <td>3690</td>\n",
              "      <td>9.250949</td>\n",
              "      <td>1.990736</td>\n",
              "    </tr>\n",
              "    <tr>\n",
              "      <th>...</th>\n",
              "      <td>...</td>\n",
              "      <td>...</td>\n",
              "      <td>...</td>\n",
              "      <td>...</td>\n",
              "    </tr>\n",
              "    <tr>\n",
              "      <th>571</th>\n",
              "      <td>10937</td>\n",
              "      <td>1</td>\n",
              "      <td>10.000000</td>\n",
              "      <td>NaN</td>\n",
              "    </tr>\n",
              "    <tr>\n",
              "      <th>358</th>\n",
              "      <td>10510</td>\n",
              "      <td>1</td>\n",
              "      <td>10.000000</td>\n",
              "      <td>NaN</td>\n",
              "    </tr>\n",
              "    <tr>\n",
              "      <th>506</th>\n",
              "      <td>10799</td>\n",
              "      <td>1</td>\n",
              "      <td>10.000000</td>\n",
              "      <td>NaN</td>\n",
              "    </tr>\n",
              "    <tr>\n",
              "      <th>511</th>\n",
              "      <td>10811</td>\n",
              "      <td>1</td>\n",
              "      <td>7.000000</td>\n",
              "      <td>NaN</td>\n",
              "    </tr>\n",
              "    <tr>\n",
              "      <th>398</th>\n",
              "      <td>10585</td>\n",
              "      <td>1</td>\n",
              "      <td>9.000000</td>\n",
              "      <td>NaN</td>\n",
              "    </tr>\n",
              "  </tbody>\n",
              "</table>\n",
              "<p>600 rows × 4 columns</p>\n",
              "</div>"
            ],
            "text/plain": [
              "     movie  num_users_watch  avg_ratings  std_ratings\n",
              "164  10200             7265     9.434136     1.945808\n",
              "44   10048             7016     9.378706     1.853923\n",
              "83   10102             4391     9.401503     2.013120\n",
              "14   10016             4029     9.399851     1.863305\n",
              "570  10936             3690     9.250949     1.990736\n",
              "..     ...              ...          ...          ...\n",
              "571  10937                1    10.000000          NaN\n",
              "358  10510                1    10.000000          NaN\n",
              "506  10799                1    10.000000          NaN\n",
              "511  10811                1     7.000000          NaN\n",
              "398  10585                1     9.000000          NaN\n",
              "\n",
              "[600 rows x 4 columns]"
            ]
          },
          "metadata": {
            "tags": []
          },
          "execution_count": 95
        }
      ]
    },
    {
      "cell_type": "code",
      "metadata": {
        "id": "9rdh6EtAOb0h",
        "outputId": "b4613448-a959-4a53-835b-4e7a7f11e417",
        "colab": {
          "base_uri": "https://localhost:8080/",
          "height": 283
        }
      },
      "source": [
        "movieid_user_df['num_users_watch'].hist()"
      ],
      "execution_count": 96,
      "outputs": [
        {
          "output_type": "execute_result",
          "data": {
            "text/plain": [
              "<matplotlib.axes._subplots.AxesSubplot at 0x7f3078c4a190>"
            ]
          },
          "metadata": {
            "tags": []
          },
          "execution_count": 96
        },
        {
          "output_type": "display_data",
          "data": {
            "image/png": "[encoded data removed]",
            "text/plain": [
              "<Figure size 432x288 with 1 Axes>"
            ]
          },
          "metadata": {
            "tags": [],
            "needs_background": "light"
          }
        }
      ]
    },
    {
      "cell_type": "code",
      "metadata": {
        "id": "78xl5rBFOqj6",
        "outputId": "d536387a-c7d7-4d91-9182-d8aad34aafc0",
        "colab": {
          "base_uri": "https://localhost:8080/",
          "height": 195
        }
      },
      "source": [
        "rates_df.head()"
      ],
      "execution_count": 97,
      "outputs": [
        {
          "output_type": "execute_result",
          "data": {
            "text/html": [
              "<div>\n",
              "<style scoped>\n",
              "    .dataframe tbody tr th:only-of-type {\n",
              "        vertical-align: middle;\n",
              "    }\n",
              "\n",
              "    .dataframe tbody tr th {\n",
              "        vertical-align: top;\n",
              "    }\n",
              "\n",
              "    .dataframe thead th {\n",
              "        text-align: right;\n",
              "    }\n",
              "</style>\n",
              "<table border=\"1\" class=\"dataframe\">\n",
              "  <thead>\n",
              "    <tr style=\"text-align: right;\">\n",
              "      <th></th>\n",
              "      <th>user</th>\n",
              "      <th>movie</th>\n",
              "      <th>rate</th>\n",
              "      <th>time</th>\n",
              "    </tr>\n",
              "  </thead>\n",
              "  <tbody>\n",
              "    <tr>\n",
              "      <th>0</th>\n",
              "      <td>0</td>\n",
              "      <td>10003</td>\n",
              "      <td>7</td>\n",
              "      <td>1494128040</td>\n",
              "    </tr>\n",
              "    <tr>\n",
              "      <th>1</th>\n",
              "      <td>0</td>\n",
              "      <td>10004</td>\n",
              "      <td>7</td>\n",
              "      <td>1467529800</td>\n",
              "    </tr>\n",
              "    <tr>\n",
              "      <th>2</th>\n",
              "      <td>0</td>\n",
              "      <td>10018</td>\n",
              "      <td>9</td>\n",
              "      <td>1513344120</td>\n",
              "    </tr>\n",
              "    <tr>\n",
              "      <th>3</th>\n",
              "      <td>0</td>\n",
              "      <td>10021</td>\n",
              "      <td>9</td>\n",
              "      <td>1424497980</td>\n",
              "    </tr>\n",
              "    <tr>\n",
              "      <th>4</th>\n",
              "      <td>0</td>\n",
              "      <td>10022</td>\n",
              "      <td>7</td>\n",
              "      <td>1427627340</td>\n",
              "    </tr>\n",
              "  </tbody>\n",
              "</table>\n",
              "</div>"
            ],
            "text/plain": [
              "   user  movie  rate        time\n",
              "0     0  10003     7  1494128040\n",
              "1     0  10004     7  1467529800\n",
              "2     0  10018     9  1513344120\n",
              "3     0  10021     9  1424497980\n",
              "4     0  10022     7  1427627340"
            ]
          },
          "metadata": {
            "tags": []
          },
          "execution_count": 97
        }
      ]
    },
    {
      "cell_type": "code",
      "metadata": {
        "id": "D3JCdaKmOggh"
      },
      "source": [
        "# 평점이 높은 영화(장르), 평점을 많이 받은 영화(장르)"
      ],
      "execution_count": 100,
      "outputs": []
    },
    {
      "cell_type": "code",
      "metadata": {
        "id": "vnPesGPfOxkE",
        "outputId": "50ae22ab-5b6c-4a3a-c44c-7e4d2578755a",
        "colab": {
          "base_uri": "https://localhost:8080/"
        }
      },
      "source": [
        "# 평점을 많이 받은 영화\n",
        "\n",
        "\n",
        "ratings_count_df = rates_df.groupby('movie')['user'].count()\n",
        "ratings_count_df.head()"
      ],
      "execution_count": 101,
      "outputs": [
        {
          "output_type": "execute_result",
          "data": {
            "text/plain": [
              "movie\n",
              "10001    3635\n",
              "10002    3004\n",
              "10003     989\n",
              "10004     700\n",
              "10005     905\n",
              "Name: user, dtype: int64"
            ]
          },
          "metadata": {
            "tags": []
          },
          "execution_count": 101
        }
      ]
    },
    {
      "cell_type": "code",
      "metadata": {
        "id": "qdQ9b0siO1tY"
      },
      "source": [
        "df = pd.DataFrame({\n",
        "    'ratings_count' : rates_df.groupby('movie')['user'].count(),\n",
        "})"
      ],
      "execution_count": 102,
      "outputs": []
    },
    {
      "cell_type": "code",
      "metadata": {
        "id": "fU7ysTV4PHkY",
        "outputId": "95896a10-84e8-4566-8489-4f42a9d134b0",
        "colab": {
          "base_uri": "https://localhost:8080/",
          "height": 373
        }
      },
      "source": [
        "df.head(10)"
      ],
      "execution_count": 104,
      "outputs": [
        {
          "output_type": "execute_result",
          "data": {
            "text/html": [
              "<div>\n",
              "<style scoped>\n",
              "    .dataframe tbody tr th:only-of-type {\n",
              "        vertical-align: middle;\n",
              "    }\n",
              "\n",
              "    .dataframe tbody tr th {\n",
              "        vertical-align: top;\n",
              "    }\n",
              "\n",
              "    .dataframe thead th {\n",
              "        text-align: right;\n",
              "    }\n",
              "</style>\n",
              "<table border=\"1\" class=\"dataframe\">\n",
              "  <thead>\n",
              "    <tr style=\"text-align: right;\">\n",
              "      <th></th>\n",
              "      <th>ratings_count</th>\n",
              "    </tr>\n",
              "    <tr>\n",
              "      <th>movie</th>\n",
              "      <th></th>\n",
              "    </tr>\n",
              "  </thead>\n",
              "  <tbody>\n",
              "    <tr>\n",
              "      <th>10001</th>\n",
              "      <td>3635</td>\n",
              "    </tr>\n",
              "    <tr>\n",
              "      <th>10002</th>\n",
              "      <td>3004</td>\n",
              "    </tr>\n",
              "    <tr>\n",
              "      <th>10003</th>\n",
              "      <td>989</td>\n",
              "    </tr>\n",
              "    <tr>\n",
              "      <th>10004</th>\n",
              "      <td>700</td>\n",
              "    </tr>\n",
              "    <tr>\n",
              "      <th>10005</th>\n",
              "      <td>905</td>\n",
              "    </tr>\n",
              "    <tr>\n",
              "      <th>10006</th>\n",
              "      <td>747</td>\n",
              "    </tr>\n",
              "    <tr>\n",
              "      <th>10007</th>\n",
              "      <td>699</td>\n",
              "    </tr>\n",
              "    <tr>\n",
              "      <th>10008</th>\n",
              "      <td>242</td>\n",
              "    </tr>\n",
              "    <tr>\n",
              "      <th>10009</th>\n",
              "      <td>119</td>\n",
              "    </tr>\n",
              "    <tr>\n",
              "      <th>10011</th>\n",
              "      <td>76</td>\n",
              "    </tr>\n",
              "  </tbody>\n",
              "</table>\n",
              "</div>"
            ],
            "text/plain": [
              "       ratings_count\n",
              "movie               \n",
              "10001           3635\n",
              "10002           3004\n",
              "10003            989\n",
              "10004            700\n",
              "10005            905\n",
              "10006            747\n",
              "10007            699\n",
              "10008            242\n",
              "10009            119\n",
              "10011             76"
            ]
          },
          "metadata": {
            "tags": []
          },
          "execution_count": 104
        }
      ]
    },
    {
      "cell_type": "code",
      "metadata": {
        "id": "NS4FvwVXPIUh",
        "outputId": "5c0fe02b-0d10-4f0a-c4e9-0c2243cf7595",
        "colab": {
          "base_uri": "https://localhost:8080/",
          "height": 225
        }
      },
      "source": [
        "movies_df.head()"
      ],
      "execution_count": 105,
      "outputs": [
        {
          "output_type": "execute_result",
          "data": {
            "text/html": [
              "<div>\n",
              "<style scoped>\n",
              "    .dataframe tbody tr th:only-of-type {\n",
              "        vertical-align: middle;\n",
              "    }\n",
              "\n",
              "    .dataframe tbody tr th {\n",
              "        vertical-align: top;\n",
              "    }\n",
              "\n",
              "    .dataframe thead th {\n",
              "        text-align: right;\n",
              "    }\n",
              "</style>\n",
              "<table border=\"1\" class=\"dataframe\">\n",
              "  <thead>\n",
              "    <tr style=\"text-align: right;\">\n",
              "      <th></th>\n",
              "      <th>title</th>\n",
              "      <th>title_eng</th>\n",
              "      <th>year</th>\n",
              "      <th>grade</th>\n",
              "      <th>genres</th>\n",
              "      <th>people</th>\n",
              "      <th>country</th>\n",
              "    </tr>\n",
              "    <tr>\n",
              "      <th>movie</th>\n",
              "      <th></th>\n",
              "      <th></th>\n",
              "      <th></th>\n",
              "      <th></th>\n",
              "      <th></th>\n",
              "      <th></th>\n",
              "      <th></th>\n",
              "    </tr>\n",
              "  </thead>\n",
              "  <tbody>\n",
              "    <tr>\n",
              "      <th>10001</th>\n",
              "      <td>시네마 천국</td>\n",
              "      <td>Cinema Paradiso , 1988</td>\n",
              "      <td>2013.0</td>\n",
              "      <td>전체 관람가</td>\n",
              "      <td>드라마/멜로/로맨스</td>\n",
              "      <td>[4374, 178, 3241, 47952, 47953, 19538, 18991, ...</td>\n",
              "      <td>이탈리아,프랑스</td>\n",
              "    </tr>\n",
              "    <tr>\n",
              "      <th>10002</th>\n",
              "      <td>빽 투 더 퓨쳐</td>\n",
              "      <td>Back To The Future , 1985</td>\n",
              "      <td>2015.0</td>\n",
              "      <td>12세 관람가</td>\n",
              "      <td>SF/코미디</td>\n",
              "      <td>[1076, 4603, 917, 8637, 5104, 9986, 7470, 9987]</td>\n",
              "      <td>미국</td>\n",
              "    </tr>\n",
              "    <tr>\n",
              "      <th>10003</th>\n",
              "      <td>빽 투 더 퓨쳐 2</td>\n",
              "      <td>Back To The Future Part 2 , 1989</td>\n",
              "      <td>2015.0</td>\n",
              "      <td>12세 관람가</td>\n",
              "      <td>SF/코미디</td>\n",
              "      <td>[1076, 4603, 917, 5104, 391, 5106, 5105, 5107,...</td>\n",
              "      <td>미국</td>\n",
              "    </tr>\n",
              "    <tr>\n",
              "      <th>10004</th>\n",
              "      <td>빽 투 더 퓨쳐 3</td>\n",
              "      <td>Back To The Future Part III , 1990</td>\n",
              "      <td>1990.0</td>\n",
              "      <td>전체 관람가</td>\n",
              "      <td>서부/SF/판타지/코미디</td>\n",
              "      <td>[1076, 4603, 1031, 5104, 10001, 5984, 10002, 1...</td>\n",
              "      <td>미국</td>\n",
              "    </tr>\n",
              "    <tr>\n",
              "      <th>10005</th>\n",
              "      <td>스타워즈 에피소드 4 - 새로운 희망</td>\n",
              "      <td>Star Wars , 1977</td>\n",
              "      <td>1997.0</td>\n",
              "      <td>PG</td>\n",
              "      <td>판타지/모험/SF/액션</td>\n",
              "      <td>[1007, 535, 215, 1236, 35]</td>\n",
              "      <td>미국</td>\n",
              "    </tr>\n",
              "  </tbody>\n",
              "</table>\n",
              "</div>"
            ],
            "text/plain": [
              "                      title  ...   country\n",
              "movie                        ...          \n",
              "10001                시네마 천국  ...  이탈리아,프랑스\n",
              "10002              빽 투 더 퓨쳐  ...        미국\n",
              "10003            빽 투 더 퓨쳐 2  ...        미국\n",
              "10004            빽 투 더 퓨쳐 3  ...        미국\n",
              "10005  스타워즈 에피소드 4 - 새로운 희망  ...        미국\n",
              "\n",
              "[5 rows x 7 columns]"
            ]
          },
          "metadata": {
            "tags": []
          },
          "execution_count": 105
        }
      ]
    },
    {
      "cell_type": "code",
      "metadata": {
        "id": "lbyJ6EccPTMn"
      },
      "source": [
        "df['movie_name'] = df.apply(lambda x : movies_df.title.loc[x.index])"
      ],
      "execution_count": 106,
      "outputs": []
    },
    {
      "cell_type": "code",
      "metadata": {
        "id": "RudbWAouPzVY",
        "outputId": "e9805fc9-8cf9-4b95-f869-624ffbfd5e2b",
        "colab": {
          "base_uri": "https://localhost:8080/",
          "height": 225
        }
      },
      "source": [
        "df.head()"
      ],
      "execution_count": 107,
      "outputs": [
        {
          "output_type": "execute_result",
          "data": {
            "text/html": [
              "<div>\n",
              "<style scoped>\n",
              "    .dataframe tbody tr th:only-of-type {\n",
              "        vertical-align: middle;\n",
              "    }\n",
              "\n",
              "    .dataframe tbody tr th {\n",
              "        vertical-align: top;\n",
              "    }\n",
              "\n",
              "    .dataframe thead th {\n",
              "        text-align: right;\n",
              "    }\n",
              "</style>\n",
              "<table border=\"1\" class=\"dataframe\">\n",
              "  <thead>\n",
              "    <tr style=\"text-align: right;\">\n",
              "      <th></th>\n",
              "      <th>ratings_count</th>\n",
              "      <th>movie_name</th>\n",
              "    </tr>\n",
              "    <tr>\n",
              "      <th>movie</th>\n",
              "      <th></th>\n",
              "      <th></th>\n",
              "    </tr>\n",
              "  </thead>\n",
              "  <tbody>\n",
              "    <tr>\n",
              "      <th>10001</th>\n",
              "      <td>3635</td>\n",
              "      <td>시네마 천국</td>\n",
              "    </tr>\n",
              "    <tr>\n",
              "      <th>10002</th>\n",
              "      <td>3004</td>\n",
              "      <td>빽 투 더 퓨쳐</td>\n",
              "    </tr>\n",
              "    <tr>\n",
              "      <th>10003</th>\n",
              "      <td>989</td>\n",
              "      <td>빽 투 더 퓨쳐 2</td>\n",
              "    </tr>\n",
              "    <tr>\n",
              "      <th>10004</th>\n",
              "      <td>700</td>\n",
              "      <td>빽 투 더 퓨쳐 3</td>\n",
              "    </tr>\n",
              "    <tr>\n",
              "      <th>10005</th>\n",
              "      <td>905</td>\n",
              "      <td>스타워즈 에피소드 4 - 새로운 희망</td>\n",
              "    </tr>\n",
              "  </tbody>\n",
              "</table>\n",
              "</div>"
            ],
            "text/plain": [
              "       ratings_count            movie_name\n",
              "movie                                     \n",
              "10001           3635                시네마 천국\n",
              "10002           3004              빽 투 더 퓨쳐\n",
              "10003            989            빽 투 더 퓨쳐 2\n",
              "10004            700            빽 투 더 퓨쳐 3\n",
              "10005            905  스타워즈 에피소드 4 - 새로운 희망"
            ]
          },
          "metadata": {
            "tags": []
          },
          "execution_count": 107
        }
      ]
    },
    {
      "cell_type": "code",
      "metadata": {
        "id": "0NCCHU4aPzvL",
        "outputId": "23419d62-9538-4011-b576-44cb18c893f0",
        "colab": {
          "base_uri": "https://localhost:8080/",
          "height": 431
        }
      },
      "source": [
        "df.sort_values(by='ratings_count', ascending=False)"
      ],
      "execution_count": 108,
      "outputs": [
        {
          "output_type": "execute_result",
          "data": {
            "text/html": [
              "<div>\n",
              "<style scoped>\n",
              "    .dataframe tbody tr th:only-of-type {\n",
              "        vertical-align: middle;\n",
              "    }\n",
              "\n",
              "    .dataframe tbody tr th {\n",
              "        vertical-align: top;\n",
              "    }\n",
              "\n",
              "    .dataframe thead th {\n",
              "        text-align: right;\n",
              "    }\n",
              "</style>\n",
              "<table border=\"1\" class=\"dataframe\">\n",
              "  <thead>\n",
              "    <tr style=\"text-align: right;\">\n",
              "      <th></th>\n",
              "      <th>ratings_count</th>\n",
              "      <th>movie_name</th>\n",
              "    </tr>\n",
              "    <tr>\n",
              "      <th>movie</th>\n",
              "      <th></th>\n",
              "      <th></th>\n",
              "    </tr>\n",
              "  </thead>\n",
              "  <tbody>\n",
              "    <tr>\n",
              "      <th>10200</th>\n",
              "      <td>7265</td>\n",
              "      <td>터미네이터 2:오리지널</td>\n",
              "    </tr>\n",
              "    <tr>\n",
              "      <th>10048</th>\n",
              "      <td>7016</td>\n",
              "      <td>죽은 시인의 사회</td>\n",
              "    </tr>\n",
              "    <tr>\n",
              "      <th>10102</th>\n",
              "      <td>4391</td>\n",
              "      <td>사운드 오브 뮤직</td>\n",
              "    </tr>\n",
              "    <tr>\n",
              "      <th>10016</th>\n",
              "      <td>4029</td>\n",
              "      <td>나 홀로 집에</td>\n",
              "    </tr>\n",
              "    <tr>\n",
              "      <th>10936</th>\n",
              "      <td>3690</td>\n",
              "      <td>가위손</td>\n",
              "    </tr>\n",
              "    <tr>\n",
              "      <th>...</th>\n",
              "      <td>...</td>\n",
              "      <td>...</td>\n",
              "    </tr>\n",
              "    <tr>\n",
              "      <th>10937</th>\n",
              "      <td>1</td>\n",
              "      <td>위기의 여자</td>\n",
              "    </tr>\n",
              "    <tr>\n",
              "      <th>10510</th>\n",
              "      <td>1</td>\n",
              "      <td>성춘향전</td>\n",
              "    </tr>\n",
              "    <tr>\n",
              "      <th>10799</th>\n",
              "      <td>1</td>\n",
              "      <td>내 친구 제제</td>\n",
              "    </tr>\n",
              "    <tr>\n",
              "      <th>10811</th>\n",
              "      <td>1</td>\n",
              "      <td>이자벨 에버하트</td>\n",
              "    </tr>\n",
              "    <tr>\n",
              "      <th>10585</th>\n",
              "      <td>1</td>\n",
              "      <td>위대한 지그펠드</td>\n",
              "    </tr>\n",
              "  </tbody>\n",
              "</table>\n",
              "<p>600 rows × 2 columns</p>\n",
              "</div>"
            ],
            "text/plain": [
              "       ratings_count    movie_name\n",
              "movie                             \n",
              "10200           7265  터미네이터 2:오리지널\n",
              "10048           7016     죽은 시인의 사회\n",
              "10102           4391     사운드 오브 뮤직\n",
              "10016           4029       나 홀로 집에\n",
              "10936           3690           가위손\n",
              "...              ...           ...\n",
              "10937              1        위기의 여자\n",
              "10510              1          성춘향전\n",
              "10799              1       내 친구 제제\n",
              "10811              1      이자벨 에버하트\n",
              "10585              1      위대한 지그펠드\n",
              "\n",
              "[600 rows x 2 columns]"
            ]
          },
          "metadata": {
            "tags": []
          },
          "execution_count": 108
        }
      ]
    },
    {
      "cell_type": "code",
      "metadata": {
        "id": "xemAyQC7P7Dt"
      },
      "source": [
        "# 특정 영화의 평점 분포\n",
        "\n",
        "rates_df"
      ],
      "execution_count": null,
      "outputs": []
    }
  ]
}