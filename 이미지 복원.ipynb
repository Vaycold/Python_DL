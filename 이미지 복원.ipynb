{
  "nbformat": 4,
  "nbformat_minor": 0,
  "metadata": {
    "colab": {
      "name": "이미지 복원.ipynb",
      "provenance": [],
      "authorship_tag": "ABX9TyMJJc6IcDo+UqG1ASr07aGd",
      "include_colab_link": true
    },
    "kernelspec": {
      "name": "python3",
      "display_name": "Python 3"
    },
    "language_info": {
      "name": "python"
    }
  },
  "cells": [
    {
      "cell_type": "markdown",
      "metadata": {
        "id": "view-in-github",
        "colab_type": "text"
      },
      "source": [
        "<a href=\"https://colab.research.google.com/github/Vaycold/Python_DL/blob/main/%EC%9D%B4%EB%AF%B8%EC%A7%80%20%EB%B3%B5%EC%9B%90.ipynb\" target=\"_parent\"><img src=\"https://colab.research.google.com/assets/colab-badge.svg\" alt=\"Open In Colab\"/></a>"
      ]
    },
    {
      "cell_type": "markdown",
      "metadata": {
        "id": "FJIOfCBr_znT"
      },
      "source": [
        "## Goal\n",
        "    - noisy가 있는 fashion MNIST 이미지 원래대로 복구\n",
        "    - 흑백이미지와 컬러 이미지의 차이\n",
        "    - 이미지에 noisy 추가\n",
        "    - 이미지에 대한 autoencoder식 접근방법\n",
        "    "
      ]
    },
    {
      "cell_type": "code",
      "metadata": {
        "id": "OtvNYP-q_08U"
      },
      "source": [
        "# Load the package\n",
        "import tensorflow as tf\n",
        "from tensorflow import keras\n",
        "from keras.layers import Dense\n",
        "from keras.models import Sequential\n",
        "\n",
        "import pandas as pd\n",
        "import numpy as np\n",
        "import matplotlib.pyplot as plt\n",
        "import seaborn as sns\n",
        "import os\n",
        "import warnings\n",
        "from IPython.display import Image\n",
        "\n",
        "warnings.filterwarnings('ignore')\n",
        "seed = 34"
      ],
      "execution_count": 1,
      "outputs": []
    },
    {
      "cell_type": "code",
      "metadata": {
        "colab": {
          "base_uri": "https://localhost:8080/"
        },
        "id": "69mSE2-M4FDs",
        "outputId": "58b825e2-4285-4999-f8a9-90821f141c1c"
      },
      "source": [
        "# Load the dataset\n",
        "fashion_mnist = keras.datasets.fashion_mnist\n",
        "(train_images, train_labels) , (test_images, test_labels) = fashion_mnist.load_data()\n",
        "print(train_images.shape)\n",
        "print(test_labels.shape)"
      ],
      "execution_count": 2,
      "outputs": [
        {
          "output_type": "stream",
          "text": [
            "Downloading data from https://storage.googleapis.com/tensorflow/tf-keras-datasets/train-labels-idx1-ubyte.gz\n",
            "32768/29515 [=================================] - 0s 0us/step\n",
            "Downloading data from https://storage.googleapis.com/tensorflow/tf-keras-datasets/train-images-idx3-ubyte.gz\n",
            "26427392/26421880 [==============================] - 0s 0us/step\n",
            "Downloading data from https://storage.googleapis.com/tensorflow/tf-keras-datasets/t10k-labels-idx1-ubyte.gz\n",
            "8192/5148 [===============================================] - 0s 0us/step\n",
            "Downloading data from https://storage.googleapis.com/tensorflow/tf-keras-datasets/t10k-images-idx3-ubyte.gz\n",
            "4423680/4422102 [==============================] - 0s 0us/step\n",
            "(60000, 28, 28)\n",
            "(10000,)\n"
          ],
          "name": "stdout"
        }
      ]
    },
    {
      "cell_type": "code",
      "metadata": {
        "colab": {
          "base_uri": "https://localhost:8080/",
          "height": 265
        },
        "id": "6L62ch7k4oba",
        "outputId": "59cc6cfa-b78e-4c1e-ed31-2f10d39b4a0f"
      },
      "source": [
        "# 이미지 출력\n",
        "\n",
        "plt.imshow(train_images[0])\n",
        "plt.colorbar()\n",
        "plt.show()"
      ],
      "execution_count": 3,
      "outputs": [
        {
          "output_type": "display_data",
          "data": {
            "image/png": "[encoded data removed]",
            "text/plain": [
              "<Figure size 432x288 with 2 Axes>"
            ]
          },
          "metadata": {
            "tags": [],
            "needs_background": "light"
          }
        }
      ]
    },
    {
      "cell_type": "code",
      "metadata": {
        "id": "qkWF3F584zsS",
        "outputId": "7b938f2c-ff4e-4240-95b7-8ddb2bfeabd5",
        "colab": {
          "base_uri": "https://localhost:8080/"
        }
      },
      "source": [
        "# 0이 아닌 값들을 확인\n",
        "\n",
        "list(filter(lambda x : x != 0, train_images[0].reshape(-1)))[:10]\n"
      ],
      "execution_count": 4,
      "outputs": [
        {
          "output_type": "execute_result",
          "data": {
            "text/plain": [
              "[1, 13, 73, 1, 4, 1, 1, 3, 36, 136]"
            ]
          },
          "metadata": {
            "tags": []
          },
          "execution_count": 4
        }
      ]
    },
    {
      "cell_type": "markdown",
      "metadata": {
        "id": "t6FIRTN9_zwE"
      },
      "source": [
        "## Pre-processing\n",
        "    "
      ]
    },
    {
      "cell_type": "code",
      "metadata": {
        "id": "7nwiWkkC5TQU"
      },
      "source": [
        "# 0-1 normailzie scaling\n",
        "train_images = train_images / 255\n",
        "test_images = test_images / 255"
      ],
      "execution_count": 5,
      "outputs": []
    },
    {
      "cell_type": "code",
      "metadata": {
        "colab": {
          "base_uri": "https://localhost:8080/"
        },
        "id": "UHJop8yC5TpK",
        "outputId": "2374ddd0-8bcb-40e5-be22-44e03fe192b8"
      },
      "source": [
        "print(min(train_images.reshape(-1)), max(train_images.reshape(-1)))"
      ],
      "execution_count": 6,
      "outputs": [
        {
          "output_type": "stream",
          "text": [
            "0.0 1.0\n"
          ],
          "name": "stdout"
        }
      ]
    },
    {
      "cell_type": "code",
      "metadata": {
        "colab": {
          "base_uri": "https://localhost:8080/"
        },
        "id": "BQ4XB1115Tnj",
        "outputId": "c5880c48-fdc9-4790-9536-e13df5981c0e"
      },
      "source": [
        "# gray-scale shape -> color map shape\n",
        "\n",
        "from skimage import color\n",
        "print(f'train_images shape : {train_images[0].shape}')\n",
        "print(f\"gray2rgb's shape : {color.gray2rgb(train_images[0]).shape}\")"
      ],
      "execution_count": 7,
      "outputs": [
        {
          "output_type": "stream",
          "text": [
            "train_images shape : (28, 28)\n",
            "gray2rgb's shape : (28, 28, 3)\n"
          ],
          "name": "stdout"
        }
      ]
    },
    {
      "cell_type": "code",
      "metadata": {
        "colab": {
          "base_uri": "https://localhost:8080/",
          "height": 265
        },
        "id": "XmW3EsCg5Tli",
        "outputId": "41f3297b-f09b-4aef-8bba-6adf5515d8c5"
      },
      "source": [
        "plt.imshow(color.gray2rgb(train_images[0]))\n",
        "plt.show()"
      ],
      "execution_count": 8,
      "outputs": [
        {
          "output_type": "display_data",
          "data": {
            "image/png": "[encoded data removed]",
            "text/plain": [
              "<Figure size 432x288 with 1 Axes>"
            ]
          },
          "metadata": {
            "tags": [],
            "needs_background": "light"
          }
        }
      ]
    },
    {
      "cell_type": "code",
      "metadata": {
        "colab": {
          "base_uri": "https://localhost:8080/"
        },
        "id": "zK9g4paN5TOD",
        "outputId": "b11c40b1-39e8-44d2-b10b-8f728832c0f0"
      },
      "source": [
        "train_images = np.array([color.gray2rgb(img) for img in train_images])\n",
        "test_images = np.array([color.gray2rgb(img) for img in test_images])\n",
        "print(train_images.shape, test_images.shape)"
      ],
      "execution_count": 9,
      "outputs": [
        {
          "output_type": "stream",
          "text": [
            "(60000, 28, 28, 3) (10000, 28, 28, 3)\n"
          ],
          "name": "stdout"
        }
      ]
    },
    {
      "cell_type": "markdown",
      "metadata": {
        "id": "hFerfXqs_k2q"
      },
      "source": [
        "## Visualization\n",
        "    "
      ]
    },
    {
      "cell_type": "code",
      "metadata": {
        "colab": {
          "base_uri": "https://localhost:8080/"
        },
        "id": "qqNePUAn8obf",
        "outputId": "0f5b1139-f8b3-43e6-fd14-1fd00bec823c"
      },
      "source": [
        "# Using 5 train_images\n",
        "\n",
        "train_images[:5].shape"
      ],
      "execution_count": 10,
      "outputs": [
        {
          "output_type": "execute_result",
          "data": {
            "text/plain": [
              "(5, 28, 28, 3)"
            ]
          },
          "metadata": {
            "tags": []
          },
          "execution_count": 10
        }
      ]
    },
    {
      "cell_type": "code",
      "metadata": {
        "colab": {
          "base_uri": "https://localhost:8080/"
        },
        "id": "bOCsCSA18oYz",
        "outputId": "507bbd5e-2fdd-4206-ac20-d266fb89c0d3"
      },
      "source": [
        "# image shape change : (5,28,28,3 ) -> (28, 28*5, 3)\n",
        "np.hstack(train_images[:5]).shape"
      ],
      "execution_count": 11,
      "outputs": [
        {
          "output_type": "execute_result",
          "data": {
            "text/plain": [
              "(28, 140, 3)"
            ]
          },
          "metadata": {
            "tags": []
          },
          "execution_count": 11
        }
      ]
    },
    {
      "cell_type": "code",
      "metadata": {
        "colab": {
          "base_uri": "https://localhost:8080/",
          "height": 271
        },
        "id": "MQza1eIO8oWW",
        "outputId": "4d7df1be-00e2-4a81-fd6a-d3eb859c28d2"
      },
      "source": [
        "plt.figure(figsize=(20,5))\n",
        "plt.imshow(np.hstack(train_images[:5]))\n",
        "plt.show()"
      ],
      "execution_count": 12,
      "outputs": [
        {
          "output_type": "display_data",
          "data": {
            "image/png": "[encoded data removed]",
            "text/plain": [
              "<Figure size 1440x360 with 1 Axes>"
            ]
          },
          "metadata": {
            "tags": [],
            "needs_background": "light"
          }
        }
      ]
    },
    {
      "cell_type": "code",
      "metadata": {
        "colab": {
          "base_uri": "https://localhost:8080/"
        },
        "id": "m7nD0JKc8oUM",
        "outputId": "a1590fc5-cd58-4729-9fd0-a7b2ed6839d3"
      },
      "source": [
        "# Another Method (recommend)\n",
        "print(train_images[:5].shape)\n",
        "print(train_images[:5].transpose( (1, 0, 2, 3)  ).shape) # (orignal : 0 , 1, 2, 3) -> (changed : 1, 0, 2, 3)\n",
        "print(train_images[:5].transpose( (1, 0, 2, 3)  ).reshape((28,-1,3)).shape)"
      ],
      "execution_count": 13,
      "outputs": [
        {
          "output_type": "stream",
          "text": [
            "(5, 28, 28, 3)\n",
            "(28, 5, 28, 3)\n",
            "(28, 140, 3)\n"
          ],
          "name": "stdout"
        }
      ]
    },
    {
      "cell_type": "code",
      "metadata": {
        "colab": {
          "base_uri": "https://localhost:8080/",
          "height": 271
        },
        "id": "KwCJa8GV8oRz",
        "outputId": "b2e89b8d-4598-40d4-b7a0-e831bca1ffa4"
      },
      "source": [
        "plt.figure(figsize=(20,5))\n",
        "plt.imshow(train_images[:5].transpose( (1, 0, 2, 3)  ).reshape((28,-1,3)))\n",
        "plt.show()"
      ],
      "execution_count": 14,
      "outputs": [
        {
          "output_type": "display_data",
          "data": {
            "image/png": "[encoded data removed]",
            "text/plain": [
              "<Figure size 1440x360 with 1 Axes>"
            ]
          },
          "metadata": {
            "tags": [],
            "needs_background": "light"
          }
        }
      ]
    },
    {
      "cell_type": "markdown",
      "metadata": {
        "id": "s3eKLwia_1kn"
      },
      "source": [
        "## Add noisy\n",
        "    "
      ]
    },
    {
      "cell_type": "code",
      "metadata": {
        "colab": {
          "base_uri": "https://localhost:8080/"
        },
        "id": "PLLWsA5HDc4V",
        "outputId": "8d432be2-a432-44ce-b18b-2e7dbffd2dd7"
      },
      "source": [
        "np.random.random()"
      ],
      "execution_count": 15,
      "outputs": [
        {
          "output_type": "execute_result",
          "data": {
            "text/plain": [
              "0.30615662813548605"
            ]
          },
          "metadata": {
            "tags": []
          },
          "execution_count": 15
        }
      ]
    },
    {
      "cell_type": "code",
      "metadata": {
        "colab": {
          "base_uri": "https://localhost:8080/"
        },
        "id": "y81z6rDRDc2d",
        "outputId": "e76ae7ae-dd5e-4c91-c5c8-d27890445e84"
      },
      "source": [
        "# (28,28,3)의 noise 생성\n",
        "np.random.random((28,28,3)).shape"
      ],
      "execution_count": 16,
      "outputs": [
        {
          "output_type": "execute_result",
          "data": {
            "text/plain": [
              "(28, 28, 3)"
            ]
          },
          "metadata": {
            "tags": []
          },
          "execution_count": 16
        }
      ]
    },
    {
      "cell_type": "code",
      "metadata": {
        "colab": {
          "base_uri": "https://localhost:8080/",
          "height": 265
        },
        "id": "tgNBActrDc0W",
        "outputId": "e52573ff-bde5-4b54-baf6-e24c313f10de"
      },
      "source": [
        "plt.imshow(np.random.random((28,28,3)))\n",
        "plt.show()"
      ],
      "execution_count": 17,
      "outputs": [
        {
          "output_type": "display_data",
          "data": {
            "image/png": "[encoded data removed]",
            "text/plain": [
              "<Figure size 432x288 with 1 Axes>"
            ]
          },
          "metadata": {
            "tags": [],
            "needs_background": "light"
          }
        }
      ]
    },
    {
      "cell_type": "code",
      "metadata": {
        "colab": {
          "base_uri": "https://localhost:8080/"
        },
        "id": "3MotKUgaDcxf",
        "outputId": "cd085929-43e3-42db-9997-c4cc5b1fd361"
      },
      "source": [
        "# Gaussian noise\n",
        "np.random.normal(0,0.1,3)"
      ],
      "execution_count": 18,
      "outputs": [
        {
          "output_type": "execute_result",
          "data": {
            "text/plain": [
              "array([ 0.26903345, -0.12747673,  0.06076525])"
            ]
          },
          "metadata": {
            "tags": []
          },
          "execution_count": 18
        }
      ]
    },
    {
      "cell_type": "code",
      "metadata": {
        "colab": {
          "base_uri": "https://localhost:8080/",
          "height": 265
        },
        "id": "jIl-NLu6Fo9-",
        "outputId": "b074de45-2d1d-47cf-d77b-1d2ecdeff0a6"
      },
      "source": [
        "noise = np.random.normal(0.5, 0.1, (28,28,3))\n",
        "plt.imshow(noise)\n",
        "plt.colorbar()\n",
        "plt.show()"
      ],
      "execution_count": 19,
      "outputs": [
        {
          "output_type": "display_data",
          "data": {
            "image/png": "[encoded data removed]",
            "text/plain": [
              "<Figure size 432x288 with 2 Axes>"
            ]
          },
          "metadata": {
            "tags": [],
            "needs_background": "light"
          }
        }
      ]
    },
    {
      "cell_type": "code",
      "metadata": {
        "colab": {
          "base_uri": "https://localhost:8080/"
        },
        "id": "5tuf6Me7Fo7n",
        "outputId": "90473056-89e7-48df-b0ff-78d95fadd2de"
      },
      "source": [
        "# Adding 'noise' to #.5 images \n",
        "print(train_images[5].shape)\n",
        "print(noise.shape)\n",
        "print((train_images[5] + noise).shape)"
      ],
      "execution_count": 20,
      "outputs": [
        {
          "output_type": "stream",
          "text": [
            "(28, 28, 3)\n",
            "(28, 28, 3)\n",
            "(28, 28, 3)\n"
          ],
          "name": "stdout"
        }
      ]
    },
    {
      "cell_type": "code",
      "metadata": {
        "colab": {
          "base_uri": "https://localhost:8080/"
        },
        "id": "xAM-w6LkFo5O",
        "outputId": "8f07766e-fa39-4630-f2cf-a87e27003d7b"
      },
      "source": [
        "noise_image = train_images[5] + noise\n",
        "print(min(noise_image.reshape(-1)), max(noise_image.reshape(-1)))\n",
        "noise_image[noise_image > 1 ] = 1.0\n",
        "print(max(noise_image.reshape(-1)))"
      ],
      "execution_count": 21,
      "outputs": [
        {
          "output_type": "stream",
          "text": [
            "0.23013715180818234 1.7049868859747392\n",
            "1.0\n"
          ],
          "name": "stdout"
        }
      ]
    },
    {
      "cell_type": "code",
      "metadata": {
        "colab": {
          "base_uri": "https://localhost:8080/",
          "height": 269
        },
        "id": "MEdncAQFIK12",
        "outputId": "251dcee3-48be-472d-e02a-c0972c175392"
      },
      "source": [
        "plt.imshow(noise_image)\n",
        "plt.colorbar()\n",
        "plt.show()"
      ],
      "execution_count": 22,
      "outputs": [
        {
          "output_type": "display_data",
          "data": {
            "image/png": "[encoded data removed]",
            "text/plain": [
              "<Figure size 432x288 with 2 Axes>"
            ]
          },
          "metadata": {
            "tags": [],
            "needs_background": "light"
          }
        }
      ]
    },
    {
      "cell_type": "code",
      "metadata": {
        "colab": {
          "base_uri": "https://localhost:8080/"
        },
        "id": "zZTDzmyPIWxG",
        "outputId": "b976e76a-2813-453c-c02e-1e36dbd4c0eb"
      },
      "source": [
        "# Adding 'noise' to Entire dataset\n",
        "train_images.shape"
      ],
      "execution_count": 23,
      "outputs": [
        {
          "output_type": "execute_result",
          "data": {
            "text/plain": [
              "(60000, 28, 28, 3)"
            ]
          },
          "metadata": {
            "tags": []
          },
          "execution_count": 23
        }
      ]
    },
    {
      "cell_type": "code",
      "metadata": {
        "id": "dn-eEsm4IWvP"
      },
      "source": [
        "train_noisy_images = train_images + np.random.normal(0.5, 0.2, train_images.shape)\n",
        "train_noisy_images[train_noisy_images > 1] = 1\n",
        "test_noisy_images = test_images + np.random.normal(0.5, 0.2, test_images.shape)\n",
        "test_noisy_images[test_noisy_images > 1] = 1"
      ],
      "execution_count": 24,
      "outputs": []
    },
    {
      "cell_type": "code",
      "metadata": {
        "colab": {
          "base_uri": "https://localhost:8080/",
          "height": 290
        },
        "id": "sXo6qIo3MWUW",
        "outputId": "dac4b0f7-2b7c-4d72-b385-6ebbd038c392"
      },
      "source": [
        "# Checking the noise_images\n",
        "plt.figure(figsize=(20,5))\n",
        "plt.imshow(train_noisy_images[:5].transpose( (1, 0, 2, 3)  ).reshape((28,-1,3)))\n",
        "plt.show()"
      ],
      "execution_count": 25,
      "outputs": [
        {
          "output_type": "stream",
          "text": [
            "Clipping input data to the valid range for imshow with RGB data ([0..1] for floats or [0..255] for integers).\n"
          ],
          "name": "stderr"
        },
        {
          "output_type": "display_data",
          "data": {
            "image/png": "[encoded data removed]",
            "text/plain": [
              "<Figure size 1440x360 with 1 Axes>"
            ]
          },
          "metadata": {
            "tags": [],
            "needs_background": "light"
          }
        }
      ]
    },
    {
      "cell_type": "markdown",
      "metadata": {
        "id": "T6xdetx5MWUg"
      },
      "source": [
        "## Modeling\n",
        "\n",
        "``` \n",
        " -  image denoising model\n",
        " -  Autoencoder\n",
        "```"
      ]
    },
    {
      "cell_type": "code",
      "metadata": {
        "id": "jCrZvDRnJhEu"
      },
      "source": [
        "from keras.layers import Dense, Input, Conv2D, Conv2DTranspose, Flatten, Reshape\n",
        "from keras.models import Model\n",
        "'''\n",
        "autoencoder : 28x28 짜리가 점점 작아지다가 커지는 모래시계형 구조\n",
        "'''\n",
        "inputs = Input(shape=(28, 28, 3))\n",
        "x = Conv2D(32, kernel_size = 3, strides= 2, activation = 'relu', padding='same')(inputs)\n",
        "x = Conv2D(64, kernel_size = 3, strides= 2, activation = 'relu', padding='same')(x)\n",
        "x = Flatten()(x) # 여기까지가 작아지는 부분\n",
        "latent = Dense(10)(x) # 1차원 벡터로 바꿈\n",
        "\n",
        "x = Dense(7*7*64)(latent)\n",
        "x = Reshape((7,7,64))(x) # CNN에서 뱉어낸 형태로 바꿔줌\n",
        "x = Conv2DTranspose(64, 3, 2, activation = 'relu', padding='same')(x)\n",
        "x = Conv2DTranspose(32, 3, 2, activation = 'relu', padding='same')(x)\n",
        "x = Conv2DTranspose(3, 3, activation = 'sigmoid', padding='same')(x)\n",
        "\n",
        "model = Model(inputs, x)"
      ],
      "execution_count": null,
      "outputs": []
    },
    {
      "cell_type": "code",
      "metadata": {
        "id": "497CkEpHIWrA"
      },
      "source": [
        ""
      ],
      "execution_count": null,
      "outputs": []
    },
    {
      "cell_type": "markdown",
      "metadata": {
        "id": "njvDWqiW_1pp"
      },
      "source": [
        "## Goal\n",
        "    - noisy가 있는 fashion MNIST 이미지 원래대로 복구\n",
        "    - 흑백이미지와 컬러 이미지의 차이\n",
        "    - 이미지에 noisy 추가\n",
        "    - 이미지에 대한 autoencoder식 접근방법\n",
        "    "
      ]
    },
    {
      "cell_type": "markdown",
      "metadata": {
        "id": "Jx9KPy11_1sp"
      },
      "source": [
        "## Goal\n",
        "    - noisy가 있는 fashion MNIST 이미지 원래대로 복구\n",
        "    - 흑백이미지와 컬러 이미지의 차이\n",
        "    - 이미지에 noisy 추가\n",
        "    - 이미지에 대한 autoencoder식 접근방법\n",
        "    "
      ]
    },
    {
      "cell_type": "markdown",
      "metadata": {
        "id": "5R0JiS5x_xze"
      },
      "source": [
        "## Goal\n",
        "    - noisy가 있는 fashion MNIST 이미지 원래대로 복구\n",
        "    - 흑백이미지와 컬러 이미지의 차이\n",
        "    - 이미지에 noisy 추가\n",
        "    - 이미지에 대한 autoencoder식 접근방법\n",
        "    "
      ]
    }
  ]
}