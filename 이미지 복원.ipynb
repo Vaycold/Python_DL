{
  "nbformat": 4,
  "nbformat_minor": 0,
  "metadata": {
    "colab": {
      "name": "이미지 복원.ipynb",
      "provenance": [],
      "authorship_tag": "ABX9TyPIyZya+D6SH+U5gPuv5abL",
      "include_colab_link": true
    },
    "kernelspec": {
      "name": "python3",
      "display_name": "Python 3"
    },
    "language_info": {
      "name": "python"
    }
  },
  "cells": [
    {
      "cell_type": "markdown",
      "metadata": {
        "id": "view-in-github",
        "colab_type": "text"
      },
      "source": [
        "<a href=\"https://colab.research.google.com/github/Vaycold/Python_DL/blob/main/%EC%9D%B4%EB%AF%B8%EC%A7%80%20%EB%B3%B5%EC%9B%90.ipynb\" target=\"_parent\"><img src=\"https://colab.research.google.com/assets/colab-badge.svg\" alt=\"Open In Colab\"/></a>"
      ]
    },
    {
      "cell_type": "markdown",
      "metadata": {
        "id": "FJIOfCBr_znT"
      },
      "source": [
        "## Goal\n",
        "    - noisy가 있는 fashion MNIST 이미지 원래대로 복구\n",
        "    - 흑백이미지와 컬러 이미지의 차이\n",
        "    - 이미지에 noisy 추가\n",
        "    - 이미지에 대한 autoencoder식 접근방법\n",
        "    "
      ]
    },
    {
      "cell_type": "code",
      "metadata": {
        "id": "OtvNYP-q_08U"
      },
      "source": [
        "# Load the package\n",
        "import tensorflow as tf\n",
        "from tensorflow import keras\n",
        "from keras.layers import Dense\n",
        "from keras.models import Sequential\n",
        "\n",
        "import pandas as pd\n",
        "import numpy as np\n",
        "import matplotlib.pyplot as plt\n",
        "import seaborn as sns\n",
        "import os\n",
        "import warnings\n",
        "from IPython.display import Image\n",
        "\n",
        "warnings.filterwarnings('ignore')\n",
        "seed = 34"
      ],
      "execution_count": 4,
      "outputs": []
    },
    {
      "cell_type": "code",
      "metadata": {
        "colab": {
          "base_uri": "https://localhost:8080/"
        },
        "id": "69mSE2-M4FDs",
        "outputId": "c0685447-1dd5-49cc-939d-fd42e1a0df88"
      },
      "source": [
        "# Load the dataset\n",
        "fashion_mnist = keras.datasets.fashion_mnist\n",
        "(train_images, train_labels) , (test_images, test_labels) = fashion_mnist.load_data()\n",
        "print(train_images.shape)\n",
        "print(test_labels.shape)"
      ],
      "execution_count": 23,
      "outputs": [
        {
          "output_type": "stream",
          "text": [
            "(60000, 28, 28)\n",
            "(10000,)\n"
          ],
          "name": "stdout"
        }
      ]
    },
    {
      "cell_type": "code",
      "metadata": {
        "colab": {
          "base_uri": "https://localhost:8080/",
          "height": 265
        },
        "id": "6L62ch7k4oba",
        "outputId": "3f946316-84d1-4c02-f990-64888850dbdf"
      },
      "source": [
        "# 이미지 출력\n",
        "\n",
        "plt.imshow(train_images[0])\n",
        "plt.colorbar()\n",
        "plt.show()"
      ],
      "execution_count": 12,
      "outputs": [
        {
          "output_type": "display_data",
          "data": {
            "image/png": "[encoded data removed]",
            "text/plain": [
              "<Figure size 432x288 with 2 Axes>"
            ]
          },
          "metadata": {
            "tags": [],
            "needs_background": "light"
          }
        }
      ]
    },
    {
      "cell_type": "code",
      "metadata": {
        "id": "qkWF3F584zsS"
      },
      "source": [
        "# 0이 아닌 값들을 확인\n",
        "\n",
        "list(filter(lambda x : x != 0, train_images[0].reshape(-1)))[:10]\n"
      ],
      "execution_count": null,
      "outputs": []
    },
    {
      "cell_type": "markdown",
      "metadata": {
        "id": "t6FIRTN9_zwE"
      },
      "source": [
        "## Pre-processing\n",
        "    "
      ]
    },
    {
      "cell_type": "code",
      "metadata": {
        "id": "7nwiWkkC5TQU"
      },
      "source": [
        "# 0-1 normailzie scaling\n",
        "train_images = train_images / 255\n",
        "test_images = test_images / 255"
      ],
      "execution_count": 24,
      "outputs": []
    },
    {
      "cell_type": "code",
      "metadata": {
        "colab": {
          "base_uri": "https://localhost:8080/"
        },
        "id": "UHJop8yC5TpK",
        "outputId": "36b9dd41-1784-4a0b-ece2-5a28cb6c37f2"
      },
      "source": [
        "print(min(train_images.reshape(-1)), max(train_images.reshape(-1)))"
      ],
      "execution_count": 26,
      "outputs": [
        {
          "output_type": "stream",
          "text": [
            "0.0 1.0\n"
          ],
          "name": "stdout"
        }
      ]
    },
    {
      "cell_type": "code",
      "metadata": {
        "colab": {
          "base_uri": "https://localhost:8080/"
        },
        "id": "BQ4XB1115Tnj",
        "outputId": "3313775f-a08d-450e-f2cb-b6c6064c3da3"
      },
      "source": [
        "# gray-scale shape -> color map shape\n",
        "\n",
        "from skimage import color\n",
        "print(f'train_images shape : {train_images[0].shape}')\n",
        "print(f\"gray2rgb's shape : {color.gray2rgb(train_images[0]).shape}\")"
      ],
      "execution_count": 30,
      "outputs": [
        {
          "output_type": "stream",
          "text": [
            "train_images shape : (28, 28)\n",
            "gray2rgb's shape : (28, 28, 3)\n"
          ],
          "name": "stdout"
        }
      ]
    },
    {
      "cell_type": "code",
      "metadata": {
        "colab": {
          "base_uri": "https://localhost:8080/",
          "height": 265
        },
        "id": "XmW3EsCg5Tli",
        "outputId": "809d5de8-2148-4af3-fff5-356f6481cba1"
      },
      "source": [
        "plt.imshow(color.gray2rgb(train_images[0]))\n",
        "plt.show()"
      ],
      "execution_count": 32,
      "outputs": [
        {
          "output_type": "display_data",
          "data": {
            "image/png": "[encoded data removed]",
            "text/plain": [
              "<Figure size 432x288 with 1 Axes>"
            ]
          },
          "metadata": {
            "tags": [],
            "needs_background": "light"
          }
        }
      ]
    },
    {
      "cell_type": "code",
      "metadata": {
        "colab": {
          "base_uri": "https://localhost:8080/"
        },
        "id": "zK9g4paN5TOD",
        "outputId": "c6c5dd38-c9a5-4dee-c2cc-2ae9f12e1696"
      },
      "source": [
        "train_images = np.array([color.gray2rgb(img) for img in train_images])\n",
        "test_images = np.array([color.gray2rgb(img) for img in test_images])\n",
        "print(train_images.shape, test_images.shape)"
      ],
      "execution_count": 34,
      "outputs": [
        {
          "output_type": "stream",
          "text": [
            "(60000, 28, 28, 3) (10000, 28, 28, 3)\n"
          ],
          "name": "stdout"
        }
      ]
    },
    {
      "cell_type": "markdown",
      "metadata": {
        "id": "hFerfXqs_k2q"
      },
      "source": [
        "## Visualization\n",
        "    "
      ]
    },
    {
      "cell_type": "code",
      "metadata": {
        "colab": {
          "base_uri": "https://localhost:8080/"
        },
        "id": "qqNePUAn8obf",
        "outputId": "a5b0335c-8f18-460f-ae87-76d57cb0e074"
      },
      "source": [
        "# Using 5 train_images\n",
        "\n",
        "train_images[:5].shape"
      ],
      "execution_count": 35,
      "outputs": [
        {
          "output_type": "execute_result",
          "data": {
            "text/plain": [
              "(5, 28, 28, 3)"
            ]
          },
          "metadata": {
            "tags": []
          },
          "execution_count": 35
        }
      ]
    },
    {
      "cell_type": "code",
      "metadata": {
        "colab": {
          "base_uri": "https://localhost:8080/"
        },
        "id": "bOCsCSA18oYz",
        "outputId": "dd8925f7-572b-49f2-a146-edc6983b0d1c"
      },
      "source": [
        "# image shape change : (5,28,28,3 ) -> (28, 28*5, 3)\n",
        "np.hstack(train_images[:5]).shape"
      ],
      "execution_count": 36,
      "outputs": [
        {
          "output_type": "execute_result",
          "data": {
            "text/plain": [
              "(28, 140, 3)"
            ]
          },
          "metadata": {
            "tags": []
          },
          "execution_count": 36
        }
      ]
    },
    {
      "cell_type": "code",
      "metadata": {
        "colab": {
          "base_uri": "https://localhost:8080/",
          "height": 271
        },
        "id": "MQza1eIO8oWW",
        "outputId": "8ba7b999-1f91-453d-dc60-48921ad3118b"
      },
      "source": [
        "plt.figure(figsize=(20,5))\n",
        "plt.imshow(np.hstack(train_images[:5]))\n",
        "plt.show()"
      ],
      "execution_count": 37,
      "outputs": [
        {
          "output_type": "display_data",
          "data": {
            "image/png": "[encoded data removed]",
            "text/plain": [
              "<Figure size 1440x360 with 1 Axes>"
            ]
          },
          "metadata": {
            "tags": [],
            "needs_background": "light"
          }
        }
      ]
    },
    {
      "cell_type": "code",
      "metadata": {
        "colab": {
          "base_uri": "https://localhost:8080/"
        },
        "id": "m7nD0JKc8oUM",
        "outputId": "95268fa9-264b-4572-8bc6-da361522e258"
      },
      "source": [
        "# Another Method (recommend)\n",
        "print(train_images[:5].shape)\n",
        "print(train_images[:5].transpose( (1, 0, 2, 3)  ).shape) # (orignal : 0 , 1, 2, 3) -> (changed : 1, 0, 2, 3)\n",
        "print(train_images[:5].transpose( (1, 0, 2, 3)  ).reshape((28,-1,3)).shape)"
      ],
      "execution_count": 43,
      "outputs": [
        {
          "output_type": "stream",
          "text": [
            "(5, 28, 28, 3)\n",
            "(28, 5, 28, 3)\n",
            "(28, 140, 3)\n"
          ],
          "name": "stdout"
        }
      ]
    },
    {
      "cell_type": "code",
      "metadata": {
        "colab": {
          "base_uri": "https://localhost:8080/",
          "height": 271
        },
        "id": "KwCJa8GV8oRz",
        "outputId": "42f430ad-96b2-4d6c-dadb-6d6349e386a5"
      },
      "source": [
        "plt.figure(figsize=(20,5))\n",
        "plt.imshow(train_images[:5].transpose( (1, 0, 2, 3)  ).reshape((28,-1,3)))\n",
        "plt.show()"
      ],
      "execution_count": 44,
      "outputs": [
        {
          "output_type": "display_data",
          "data": {
            "image/png": "[encoded data removed]",
            "text/plain": [
              "<Figure size 1440x360 with 1 Axes>"
            ]
          },
          "metadata": {
            "tags": [],
            "needs_background": "light"
          }
        }
      ]
    },
    {
      "cell_type": "markdown",
      "metadata": {
        "id": "s3eKLwia_1kn"
      },
      "source": [
        "## Add noisy\n",
        "    "
      ]
    },
    {
      "cell_type": "code",
      "metadata": {
        "colab": {
          "base_uri": "https://localhost:8080/"
        },
        "id": "PLLWsA5HDc4V",
        "outputId": "93521b2c-f1bb-40e9-b448-05d043fae8e9"
      },
      "source": [
        "np.random.random()"
      ],
      "execution_count": 48,
      "outputs": [
        {
          "output_type": "execute_result",
          "data": {
            "text/plain": [
              "0.31263727253550233"
            ]
          },
          "metadata": {
            "tags": []
          },
          "execution_count": 48
        }
      ]
    },
    {
      "cell_type": "code",
      "metadata": {
        "colab": {
          "base_uri": "https://localhost:8080/"
        },
        "id": "y81z6rDRDc2d",
        "outputId": "b5f19e0d-c8f0-4a36-e0ff-610def04ce3b"
      },
      "source": [
        "# (28,28,3)의 noise 생성\n",
        "np.random.random((28,28,3)).shape"
      ],
      "execution_count": 50,
      "outputs": [
        {
          "output_type": "execute_result",
          "data": {
            "text/plain": [
              "(28, 28, 3)"
            ]
          },
          "metadata": {
            "tags": []
          },
          "execution_count": 50
        }
      ]
    },
    {
      "cell_type": "code",
      "metadata": {
        "colab": {
          "base_uri": "https://localhost:8080/",
          "height": 265
        },
        "id": "tgNBActrDc0W",
        "outputId": "9a180ed6-414e-4364-8f70-91226a9c4c29"
      },
      "source": [
        "plt.imshow(np.random.random((28,28,3)))\n",
        "plt.show()"
      ],
      "execution_count": 54,
      "outputs": [
        {
          "output_type": "display_data",
          "data": {
            "image/png": "[encoded data removed]",
            "text/plain": [
              "<Figure size 432x288 with 1 Axes>"
            ]
          },
          "metadata": {
            "tags": [],
            "needs_background": "light"
          }
        }
      ]
    },
    {
      "cell_type": "code",
      "metadata": {
        "colab": {
          "base_uri": "https://localhost:8080/"
        },
        "id": "3MotKUgaDcxf",
        "outputId": "41a515fd-f131-4019-829d-a471b64363d9"
      },
      "source": [
        "# Gaussian noise\n",
        "np.random.normal(0,0.1,3)"
      ],
      "execution_count": 56,
      "outputs": [
        {
          "output_type": "execute_result",
          "data": {
            "text/plain": [
              "array([-0.02970248, -0.02880849,  0.04901235])"
            ]
          },
          "metadata": {
            "tags": []
          },
          "execution_count": 56
        }
      ]
    },
    {
      "cell_type": "code",
      "metadata": {
        "colab": {
          "base_uri": "https://localhost:8080/",
          "height": 265
        },
        "id": "jIl-NLu6Fo9-",
        "outputId": "fcd2c7e8-d82c-43e5-8423-98d6f4e1b57a"
      },
      "source": [
        "noise = np.random.normal(0.5, 0.1, (28,28,3))\n",
        "plt.imshow(noise)\n",
        "plt.colorbar()\n",
        "plt.show()"
      ],
      "execution_count": 119,
      "outputs": [
        {
          "output_type": "display_data",
          "data": {
            "image/png": "[encoded data removed]",
            "text/plain": [
              "<Figure size 432x288 with 2 Axes>"
            ]
          },
          "metadata": {
            "tags": [],
            "needs_background": "light"
          }
        }
      ]
    },
    {
      "cell_type": "code",
      "metadata": {
        "colab": {
          "base_uri": "https://localhost:8080/"
        },
        "id": "5tuf6Me7Fo7n",
        "outputId": "53eb255b-ad3b-42a8-8d40-8ec42275e1d4"
      },
      "source": [
        "# Adding 'noise' to #.5 images \n",
        "print(train_images[5].shape)\n",
        "print(noise.shape)\n",
        "print((train_images[5] + noise).shape)"
      ],
      "execution_count": 124,
      "outputs": [
        {
          "output_type": "stream",
          "text": [
            "(28, 28, 3)\n",
            "(28, 28, 3)\n",
            "(28, 28, 3)\n"
          ],
          "name": "stdout"
        }
      ]
    },
    {
      "cell_type": "code",
      "metadata": {
        "colab": {
          "base_uri": "https://localhost:8080/"
        },
        "id": "xAM-w6LkFo5O",
        "outputId": "fa8123d3-fca6-4ff6-df1b-52b895ac0c71"
      },
      "source": [
        "noise_image = train_images[5] + noise\n",
        "print(min(noise_image.reshape(-1)), max(noise_image.reshape(-1)))\n",
        "noise_image[noise_image > 1 ] = 1.0\n",
        "print(max(noise_image.reshape(-1)))"
      ],
      "execution_count": 126,
      "outputs": [
        {
          "output_type": "stream",
          "text": [
            "0.17586777824725874 1.736389235492306\n",
            "1.0\n"
          ],
          "name": "stdout"
        }
      ]
    },
    {
      "cell_type": "code",
      "metadata": {
        "colab": {
          "base_uri": "https://localhost:8080/",
          "height": 269
        },
        "id": "MEdncAQFIK12",
        "outputId": "97d8831c-f527-493f-9979-99309954376c"
      },
      "source": [
        "plt.imshow(noise_image)\n",
        "plt.colorbar()\n",
        "plt.show()"
      ],
      "execution_count": 128,
      "outputs": [
        {
          "output_type": "display_data",
          "data": {
            "image/png": "[encoded data removed]",
            "text/plain": [
              "<Figure size 432x288 with 2 Axes>"
            ]
          },
          "metadata": {
            "tags": [],
            "needs_background": "light"
          }
        }
      ]
    },
    {
      "cell_type": "code",
      "metadata": {
        "colab": {
          "base_uri": "https://localhost:8080/"
        },
        "id": "zZTDzmyPIWxG",
        "outputId": "b64d0b41-9227-402d-bd9d-328042c4e777"
      },
      "source": [
        "# Adding 'noise' to Entire dataset\n",
        "train_images.shape"
      ],
      "execution_count": 129,
      "outputs": [
        {
          "output_type": "execute_result",
          "data": {
            "text/plain": [
              "(60000, 28, 28, 3)"
            ]
          },
          "metadata": {
            "tags": []
          },
          "execution_count": 129
        }
      ]
    },
    {
      "cell_type": "code",
      "metadata": {
        "id": "dn-eEsm4IWvP"
      },
      "source": [
        "train_noisy_images = train_images + np.random.normal(0.5, 0.2, train_images.shape)\n",
        "train_noisy_images[train_noisy_images > 1] = 1\n",
        "test_noisy_images = test_images + np.random.normal(0.5, 0.2, test_images.shape)\n",
        "test_noisy_images[test_noisy_images > 1] = 1"
      ],
      "execution_count": 130,
      "outputs": []
    },
    {
      "cell_type": "code",
      "metadata": {
        "id": "Hnc1KypgIWtZ"
      },
      "source": [
        "# Checking the  "
      ],
      "execution_count": null,
      "outputs": []
    },
    {
      "cell_type": "code",
      "metadata": {
        "id": "497CkEpHIWrA"
      },
      "source": [
        ""
      ],
      "execution_count": null,
      "outputs": []
    },
    {
      "cell_type": "markdown",
      "metadata": {
        "id": "njvDWqiW_1pp"
      },
      "source": [
        "## Goal\n",
        "    - noisy가 있는 fashion MNIST 이미지 원래대로 복구\n",
        "    - 흑백이미지와 컬러 이미지의 차이\n",
        "    - 이미지에 noisy 추가\n",
        "    - 이미지에 대한 autoencoder식 접근방법\n",
        "    "
      ]
    },
    {
      "cell_type": "markdown",
      "metadata": {
        "id": "Jx9KPy11_1sp"
      },
      "source": [
        "## Goal\n",
        "    - noisy가 있는 fashion MNIST 이미지 원래대로 복구\n",
        "    - 흑백이미지와 컬러 이미지의 차이\n",
        "    - 이미지에 noisy 추가\n",
        "    - 이미지에 대한 autoencoder식 접근방법\n",
        "    "
      ]
    },
    {
      "cell_type": "markdown",
      "metadata": {
        "id": "5R0JiS5x_xze"
      },
      "source": [
        "## Goal\n",
        "    - noisy가 있는 fashion MNIST 이미지 원래대로 복구\n",
        "    - 흑백이미지와 컬러 이미지의 차이\n",
        "    - 이미지에 noisy 추가\n",
        "    - 이미지에 대한 autoencoder식 접근방법\n",
        "    "
      ]
    }
  ]
}