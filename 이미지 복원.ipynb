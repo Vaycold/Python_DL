{
  "nbformat": 4,
  "nbformat_minor": 0,
  "metadata": {
    "colab": {
      "name": "이미지 복원.ipynb",
      "provenance": [],
      "authorship_tag": "ABX9TyN2ipL8MvXmgmA2kBiemi7A",
      "include_colab_link": true
    },
    "kernelspec": {
      "name": "python3",
      "display_name": "Python 3"
    },
    "language_info": {
      "name": "python"
    }
  },
  "cells": [
    {
      "cell_type": "markdown",
      "metadata": {
        "id": "view-in-github",
        "colab_type": "text"
      },
      "source": [
        "<a href=\"https://colab.research.google.com/github/Vaycold/Python_DL/blob/main/%EC%9D%B4%EB%AF%B8%EC%A7%80%20%EB%B3%B5%EC%9B%90.ipynb\" target=\"_parent\"><img src=\"https://colab.research.google.com/assets/colab-badge.svg\" alt=\"Open In Colab\"/></a>"
      ]
    },
    {
      "cell_type": "markdown",
      "metadata": {
        "id": "FJIOfCBr_znT"
      },
      "source": [
        "## Goal\n",
        "    - noisy가 있는 fashion MNIST 이미지 원래대로 복구\n",
        "    - 흑백이미지와 컬러 이미지의 차이\n",
        "    - 이미지에 noisy 추가\n",
        "    - 이미지에 대한 autoencoder식 접근방법\n",
        "    "
      ]
    },
    {
      "cell_type": "code",
      "metadata": {
        "id": "OtvNYP-q_08U"
      },
      "source": [
        ""
      ],
      "execution_count": null,
      "outputs": []
    },
    {
      "cell_type": "code",
      "metadata": {
        "id": "IsUPzp9k_06a"
      },
      "source": [
        ""
      ],
      "execution_count": null,
      "outputs": []
    },
    {
      "cell_type": "code",
      "metadata": {
        "id": "cunzFa2N_03z"
      },
      "source": [
        ""
      ],
      "execution_count": null,
      "outputs": []
    },
    {
      "cell_type": "markdown",
      "metadata": {
        "id": "t6FIRTN9_zwE"
      },
      "source": [
        "## Goal\n",
        "    - noisy가 있는 fashion MNIST 이미지 원래대로 복구\n",
        "    - 흑백이미지와 컬러 이미지의 차이\n",
        "    - 이미지에 noisy 추가\n",
        "    - 이미지에 대한 autoencoder식 접근방법\n",
        "    "
      ]
    },
    {
      "cell_type": "markdown",
      "metadata": {
        "id": "hFerfXqs_k2q"
      },
      "source": [
        "## Goal\n",
        "    - noisy가 있는 fashion MNIST 이미지 원래대로 복구\n",
        "    - 흑백이미지와 컬러 이미지의 차이\n",
        "    - 이미지에 noisy 추가\n",
        "    - 이미지에 대한 autoencoder식 접근방법\n",
        "    "
      ]
    },
    {
      "cell_type": "markdown",
      "metadata": {
        "id": "s3eKLwia_1kn"
      },
      "source": [
        "## Goal\n",
        "    - noisy가 있는 fashion MNIST 이미지 원래대로 복구\n",
        "    - 흑백이미지와 컬러 이미지의 차이\n",
        "    - 이미지에 noisy 추가\n",
        "    - 이미지에 대한 autoencoder식 접근방법\n",
        "    "
      ]
    },
    {
      "cell_type": "markdown",
      "metadata": {
        "id": "njvDWqiW_1pp"
      },
      "source": [
        "## Goal\n",
        "    - noisy가 있는 fashion MNIST 이미지 원래대로 복구\n",
        "    - 흑백이미지와 컬러 이미지의 차이\n",
        "    - 이미지에 noisy 추가\n",
        "    - 이미지에 대한 autoencoder식 접근방법\n",
        "    "
      ]
    },
    {
      "cell_type": "markdown",
      "metadata": {
        "id": "Jx9KPy11_1sp"
      },
      "source": [
        "## Goal\n",
        "    - noisy가 있는 fashion MNIST 이미지 원래대로 복구\n",
        "    - 흑백이미지와 컬러 이미지의 차이\n",
        "    - 이미지에 noisy 추가\n",
        "    - 이미지에 대한 autoencoder식 접근방법\n",
        "    "
      ]
    },
    {
      "cell_type": "markdown",
      "metadata": {
        "id": "5R0JiS5x_xze"
      },
      "source": [
        "## Goal\n",
        "    - noisy가 있는 fashion MNIST 이미지 원래대로 복구\n",
        "    - 흑백이미지와 컬러 이미지의 차이\n",
        "    - 이미지에 noisy 추가\n",
        "    - 이미지에 대한 autoencoder식 접근방법\n",
        "    "
      ]
    }
  ]
}