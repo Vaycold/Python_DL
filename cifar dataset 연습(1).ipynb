{
  "nbformat": 4,
  "nbformat_minor": 0,
  "metadata": {
    "colab": {
      "name": "Untitled14.ipynb",
      "provenance": [],
      "authorship_tag": "ABX9TyOMUyyguUnfmHkppo/SOYRj",
      "include_colab_link": true
    },
    "kernelspec": {
      "name": "python3",
      "display_name": "Python 3"
    },
    "language_info": {
      "name": "python"
    }
  },
  "cells": [
    {
      "cell_type": "markdown",
      "metadata": {
        "id": "view-in-github",
        "colab_type": "text"
      },
      "source": [
        "<a href=\"https://colab.research.google.com/github/Vaycold/Python_DL/blob/main/cifar%20dataset%20%EC%97%B0%EC%8A%B5(1).ipynb\" target=\"_parent\"><img src=\"https://colab.research.google.com/assets/colab-badge.svg\" alt=\"Open In Colab\"/></a>"
      ]
    },
    {
      "cell_type": "code",
      "metadata": {
        "colab": {
          "base_uri": "https://localhost:8080/"
        },
        "id": "Ln3JOiVAlh4_",
        "outputId": "25074caf-61c5-474f-e88a-af5e80e02351"
      },
      "source": [
        "import os\n",
        "import numpy as np\n",
        "import tensorflow as tf\n",
        "from PIL import Image\n",
        "import matplotlib.pyplot as plt\n",
        "from glob import glob\n",
        "from natsort import natsorted\n",
        "from google.colab import drive\n",
        "drive.mount('/content/MyDrive')"
      ],
      "execution_count": 2,
      "outputs": [
        {
          "output_type": "stream",
          "text": [
            "Drive already mounted at /content/MyDrive; to attempt to forcibly remount, call drive.mount(\"/content/MyDrive\", force_remount=True).\n"
          ],
          "name": "stdout"
        }
      ]
    },
    {
      "cell_type": "code",
      "metadata": {
        "id": "JUVRXOhkln3J"
      },
      "source": [
        "drive_path = '/content/MyDrive/MyDrive/part3--이미지-분석으로-배우는-tensorflow-2.0과-pytorch/Part3) 이미지 분석으로 배우는 tensorflow 2.0과 Pytorch/dataset'"
      ],
      "execution_count": 14,
      "outputs": []
    },
    {
      "cell_type": "code",
      "metadata": {
        "colab": {
          "base_uri": "https://localhost:8080/"
        },
        "id": "rRLi9SPel4VN",
        "outputId": "296d21db-5e1d-4727-fc35-0b0fdcdd8a3c"
      },
      "source": [
        "# Data load\n",
        "\n",
        "data_paths = sorted(glob(drive_path + '/cifar/train/*.png'))\n",
        "data_paths"
      ],
      "execution_count": 17,
      "outputs": [
        {
          "output_type": "execute_result",
          "data": {
            "text/plain": [
              "['/content/MyDrive/MyDrive/part3--이미지-분석으로-배우는-tensorflow-2.0과-pytorch/Part3) 이미지 분석으로 배우는 tensorflow 2.0과 Pytorch/dataset/cifar/train/0_frog.png',\n",
              " '/content/MyDrive/MyDrive/part3--이미지-분석으로-배우는-tensorflow-2.0과-pytorch/Part3) 이미지 분석으로 배우는 tensorflow 2.0과 Pytorch/dataset/cifar/train/10000_automobile.png',\n",
              " '/content/MyDrive/MyDrive/part3--이미지-분석으로-배우는-tensorflow-2.0과-pytorch/Part3) 이미지 분석으로 배우는 tensorflow 2.0과 Pytorch/dataset/cifar/train/10001_frog.png']"
            ]
          },
          "metadata": {
            "tags": []
          },
          "execution_count": 17
        }
      ]
    },
    {
      "cell_type": "code",
      "metadata": {
        "colab": {
          "base_uri": "https://localhost:8080/"
        },
        "id": "OLzTUAtsnLC2",
        "outputId": "036a3ccf-562e-49e1-977d-62fbb82ab3d8"
      },
      "source": [
        "path = data_paths[0]\n",
        "gfile = tf.io.read_file(path)\n",
        "image = tf.io.decode_image(gfile)\n",
        "\n",
        "image.shape"
      ],
      "execution_count": 18,
      "outputs": [
        {
          "output_type": "execute_result",
          "data": {
            "text/plain": [
              "TensorShape([32, 32, 3])"
            ]
          },
          "metadata": {
            "tags": []
          },
          "execution_count": 18
        }
      ]
    },
    {
      "cell_type": "code",
      "metadata": {
        "colab": {
          "base_uri": "https://localhost:8080/",
          "height": 266
        },
        "id": "LocZhvwQsd7k",
        "outputId": "5db51e69-70c2-4d8c-e232-e9e1b8de38e1"
      },
      "source": [
        "plt.imshow(image)\n",
        "plt.show()"
      ],
      "execution_count": 20,
      "outputs": [
        {
          "output_type": "display_data",
          "data": {
            "image/png": "[encoded data removed]",
            "text/plain": [
              "<Figure size 432x288 with 1 Axes>"
            ]
          },
          "metadata": {
            "tags": [],
            "needs_background": "light"
          }
        }
      ]
    },
    {
      "cell_type": "code",
      "metadata": {
        "id": "E4GAE-Bashfp"
      },
      "source": [
        "def read_image(path) :\n",
        "    gfile = tf.io.read_file(path)\n",
        "    image = tf.io.decode_image(gfile)\n",
        "    return image"
      ],
      "execution_count": 21,
      "outputs": []
    },
    {
      "cell_type": "code",
      "metadata": {
        "colab": {
          "base_uri": "https://localhost:8080/",
          "height": 266
        },
        "id": "0F0VrfKQsshf",
        "outputId": "e816e723-39b8-475b-ca15-4d907a9cbe89"
      },
      "source": [
        "plt.imshow(read_image(data_paths[6]))\n",
        "plt.show()"
      ],
      "execution_count": 27,
      "outputs": [
        {
          "output_type": "display_data",
          "data": {
            "image/png": "[encoded data removed]",
            "text/plain": [
              "<Figure size 432x288 with 1 Axes>"
            ]
          },
          "metadata": {
            "tags": [],
            "needs_background": "light"
          }
        }
      ]
    },
    {
      "cell_type": "code",
      "metadata": {
        "id": "L59gl5l_sz3i"
      },
      "source": [
        "# Image in List\n",
        "\n",
        "batch_image = []\n",
        "for path in data_paths[:8] :\n",
        "    image = read_image(path)\n",
        "    batch_image.append(image)"
      ],
      "execution_count": 28,
      "outputs": []
    },
    {
      "cell_type": "code",
      "metadata": {
        "colab": {
          "base_uri": "https://localhost:8080/"
        },
        "id": "whagayS2tcxm",
        "outputId": "a308f298-b9d1-4f1e-ab30-138cb0774951"
      },
      "source": [
        "len(batch_image)"
      ],
      "execution_count": 29,
      "outputs": [
        {
          "output_type": "execute_result",
          "data": {
            "text/plain": [
              "8"
            ]
          },
          "metadata": {
            "tags": []
          },
          "execution_count": 29
        }
      ]
    },
    {
      "cell_type": "code",
      "metadata": {
        "colab": {
          "base_uri": "https://localhost:8080/"
        },
        "id": "n0csd6STtd9k",
        "outputId": "78793373-7e36-411c-ee44-75f162604494"
      },
      "source": [
        "# 배치로 만들기\n",
        "\n",
        "batch = tf.convert_to_tensor(batch_image)\n",
        "batch.shape"
      ],
      "execution_count": 30,
      "outputs": [
        {
          "output_type": "execute_result",
          "data": {
            "text/plain": [
              "TensorShape([8, 32, 32, 3])"
            ]
          },
          "metadata": {
            "tags": []
          },
          "execution_count": 30
        }
      ]
    },
    {
      "cell_type": "code",
      "metadata": {
        "id": "b4SN1SA1t8Wy"
      },
      "source": [
        ""
      ],
      "execution_count": null,
      "outputs": []
    }
  ]
}