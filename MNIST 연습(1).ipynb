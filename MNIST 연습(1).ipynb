{
  "nbformat": 4,
  "nbformat_minor": 0,
  "metadata": {
    "colab": {
      "name": "MNIST_연습2.ipynb",
      "provenance": [],
      "collapsed_sections": [],
      "include_colab_link": true
    },
    "kernelspec": {
      "name": "python3",
      "display_name": "Python 3"
    },
    "language_info": {
      "name": "python"
    },
    "accelerator": "GPU"
  },
  "cells": [
    {
      "cell_type": "markdown",
      "metadata": {
        "id": "view-in-github",
        "colab_type": "text"
      },
      "source": [
        "<a href=\"https://colab.research.google.com/github/Vaycold/Python_DL/blob/main/MNIST%20%EC%97%B0%EC%8A%B5(1).ipynb\" target=\"_parent\"><img src=\"https://colab.research.google.com/assets/colab-badge.svg\" alt=\"Open In Colab\"/></a>"
      ]
    },
    {
      "cell_type": "code",
      "metadata": {
        "colab": {
          "base_uri": "https://localhost:8080/"
        },
        "id": "I4BWAjIYvSYe",
        "outputId": "ec1aeda7-ac26-4a1e-bbee-1dcfe64e8183"
      },
      "source": [
        "import os\n",
        "import numpy as np\n",
        "import tensorflow as tf\n",
        "from PIL import Image\n",
        "import matplotlib.pyplot as plt\n",
        "from glob import glob\n",
        "from natsort import natsorted\n",
        "from google.colab import drive\n",
        "drive.mount('/content/MyDrive')"
      ],
      "execution_count": 2,
      "outputs": [
        {
          "output_type": "stream",
          "text": [
            "Mounted at /content/MyDrive\n"
          ],
          "name": "stdout"
        }
      ]
    },
    {
      "cell_type": "code",
      "metadata": {
        "id": "jsSmC51aw3zo"
      },
      "source": [
        "google_path = '/content/MyDrive/MyDrive/part3--이미지-분석으로-배우는-tensorflow-2.0과-pytorch/Part3) 이미지 분석으로 배우는 tensorflow 2.0과 Pytorch/dataset/mnist_png'"
      ],
      "execution_count": 3,
      "outputs": []
    },
    {
      "cell_type": "code",
      "metadata": {
        "colab": {
          "base_uri": "https://localhost:8080/"
        },
        "id": "bfLNjmHB1qrp",
        "outputId": "ad270206-b852-4387-8359-7832aa42c019"
      },
      "source": [
        "os.listdir(google_path +'/training')"
      ],
      "execution_count": 4,
      "outputs": [
        {
          "output_type": "execute_result",
          "data": {
            "text/plain": [
              "['3', '7', '9', '5', '8', '2', '4', '6', '0', '1']"
            ]
          },
          "metadata": {
            "tags": []
          },
          "execution_count": 4
        }
      ]
    },
    {
      "cell_type": "code",
      "metadata": {
        "id": "-Z52BTPUxGkV",
        "colab": {
          "base_uri": "https://localhost:8080/",
          "height": 35
        },
        "outputId": "b670514a-9b9b-4511-d141-8a4884b05d4b"
      },
      "source": [
        "# Data load\n",
        "\n",
        "glob(google_path + '/training/0/*.png')[:2] # 트레이닝 0폴더에 있는 png 전부다 가져오기\n",
        "data_paths = glob(google_path + '/training/*/*.png') # 트레이닝 폴더에 있는 png 전부다 가져오기\n",
        "data_paths = natsorted(data_paths)\n",
        "data_paths[0]"
      ],
      "execution_count": 5,
      "outputs": [
        {
          "output_type": "execute_result",
          "data": {
            "application/vnd.google.colaboratory.intrinsic+json": {
              "type": "string"
            },
            "text/plain": [
              "'/content/MyDrive/MyDrive/part3--이미지-분석으로-배우는-tensorflow-2.0과-pytorch/Part3) 이미지 분석으로 배우는 tensorflow 2.0과 Pytorch/dataset/mnist_png/training/0/1.png'"
            ]
          },
          "metadata": {
            "tags": []
          },
          "execution_count": 5
        }
      ]
    },
    {
      "cell_type": "code",
      "metadata": {
        "id": "WnFPAF-gzYsY"
      },
      "source": [
        "label_nums = natsorted(os.listdir(google_path + '/training'))"
      ],
      "execution_count": 6,
      "outputs": []
    },
    {
      "cell_type": "code",
      "metadata": {
        "id": "oXE40HbE9Seg",
        "colab": {
          "base_uri": "https://localhost:8080/"
        },
        "outputId": "b850a294-fef1-4d04-92ea-a66338697a7d"
      },
      "source": [
        "# 각 레이블의 갯수\n",
        "\n",
        "nums_dataset = []\n",
        "\n",
        "for i in label_nums :\n",
        "    label_data = os.listdir(google_path + '/training/' + i )\n",
        "    nums_dataset.append(len(label_data))\n",
        "nums_dataset"
      ],
      "execution_count": 7,
      "outputs": [
        {
          "output_type": "execute_result",
          "data": {
            "text/plain": [
              "[5923, 6742, 5958, 6131, 5842, 5421, 5918, 6265, 5852, 5949]"
            ]
          },
          "metadata": {
            "tags": []
          },
          "execution_count": 7
        }
      ]
    },
    {
      "cell_type": "code",
      "metadata": {
        "colab": {
          "base_uri": "https://localhost:8080/",
          "height": 267
        },
        "id": "gTbLAZlNGo_U",
        "outputId": "349a7c80-cbb2-45e2-a899-06bab8d92841"
      },
      "source": [
        "plt.bar(label_nums, nums_dataset)\n",
        "plt.show()"
      ],
      "execution_count": 8,
      "outputs": [
        {
          "output_type": "display_data",
          "data": {
            "image/png": "[encoded data removed]",
            "text/plain": [
              "<Figure size 432x288 with 1 Axes>"
            ]
          },
          "metadata": {
            "tags": [],
            "needs_background": "light"
          }
        }
      ]
    },
    {
      "cell_type": "code",
      "metadata": {
        "colab": {
          "base_uri": "https://localhost:8080/"
        },
        "id": "7HcnpmXYzNVZ",
        "outputId": "2e65f396-6825-42a8-bec2-79db014bd8d1"
      },
      "source": [
        "image_pil = Image.open(data_paths[0])\n",
        "image = np.array(image_pil)\n",
        "image.shape"
      ],
      "execution_count": 9,
      "outputs": [
        {
          "output_type": "execute_result",
          "data": {
            "text/plain": [
              "(28, 28)"
            ]
          },
          "metadata": {
            "tags": []
          },
          "execution_count": 9
        }
      ]
    },
    {
      "cell_type": "code",
      "metadata": {
        "colab": {
          "base_uri": "https://localhost:8080/",
          "height": 265
        },
        "id": "xbk964Ynzwsx",
        "outputId": "3a2f834e-94ed-4bc2-b897-d831657ecd94"
      },
      "source": [
        "plt.imshow(image, 'gray')\n",
        "plt.show()"
      ],
      "execution_count": 10,
      "outputs": [
        {
          "output_type": "display_data",
          "data": {
            "image/png": "[encoded data removed]",
            "text/plain": [
              "<Figure size 432x288 with 1 Axes>"
            ]
          },
          "metadata": {
            "tags": [],
            "needs_background": "light"
          }
        }
      ]
    },
    {
      "cell_type": "code",
      "metadata": {
        "id": "x6FAyDO50gOW"
      },
      "source": [
        "path = data_paths[0]"
      ],
      "execution_count": 11,
      "outputs": []
    },
    {
      "cell_type": "code",
      "metadata": {
        "colab": {
          "base_uri": "https://localhost:8080/"
        },
        "id": "d-vMS4EKz9ne",
        "outputId": "68ebec02-6c5a-44a1-d79a-178ede7f0438"
      },
      "source": [
        "# Tensorflow로도 열어보자\n",
        "\n",
        "gfile = tf.io.read_file(path)\n",
        "image = tf.io.decode_image(gfile)\n",
        "image.shape # 텐서로 불러오면 채널이 하나 생김\n"
      ],
      "execution_count": 12,
      "outputs": [
        {
          "output_type": "execute_result",
          "data": {
            "text/plain": [
              "TensorShape([28, 28, 1])"
            ]
          },
          "metadata": {
            "tags": []
          },
          "execution_count": 12
        }
      ]
    },
    {
      "cell_type": "code",
      "metadata": {
        "id": "mYcM-hbF0rfe",
        "outputId": "0c260e41-4522-4a9a-d2b6-cb6a85719d3f",
        "colab": {
          "base_uri": "https://localhost:8080/",
          "height": 265
        }
      },
      "source": [
        "plt.imshow(image[:,:,0], cmap = 'gray')\n",
        "plt.show()"
      ],
      "execution_count": 13,
      "outputs": [
        {
          "output_type": "display_data",
          "data": {
            "image/png": "[encoded data removed]",
            "text/plain": [
              "<Figure size 432x288 with 1 Axes>"
            ]
          },
          "metadata": {
            "tags": [],
            "needs_background": "light"
          }
        }
      ]
    },
    {
      "cell_type": "code",
      "metadata": {
        "id": "_NCwpEyeZQ15",
        "outputId": "2b81d444-bc12-4d4b-bc0a-947262f52da5",
        "colab": {
          "base_uri": "https://localhost:8080/",
          "height": 35
        }
      },
      "source": [
        "# label 얻기\n",
        "\n",
        "path"
      ],
      "execution_count": 14,
      "outputs": [
        {
          "output_type": "execute_result",
          "data": {
            "application/vnd.google.colaboratory.intrinsic+json": {
              "type": "string"
            },
            "text/plain": [
              "'/content/MyDrive/MyDrive/part3--이미지-분석으로-배우는-tensorflow-2.0과-pytorch/Part3) 이미지 분석으로 배우는 tensorflow 2.0과 Pytorch/dataset/mnist_png/training/0/1.png'"
            ]
          },
          "metadata": {
            "tags": []
          },
          "execution_count": 14
        }
      ]
    },
    {
      "cell_type": "code",
      "metadata": {
        "id": "BEE-TdzKZgmz",
        "outputId": "fbbb9cd8-b7e8-4927-8328-fae5e7d8221c",
        "colab": {
          "base_uri": "https://localhost:8080/"
        }
      },
      "source": [
        "label = path.split('/')[-2]\n",
        "type(label)"
      ],
      "execution_count": 15,
      "outputs": [
        {
          "output_type": "execute_result",
          "data": {
            "text/plain": [
              "str"
            ]
          },
          "metadata": {
            "tags": []
          },
          "execution_count": 15
        }
      ]
    },
    {
      "cell_type": "code",
      "metadata": {
        "id": "faWAXbaLZt6w",
        "outputId": "9e03b257-82c7-4767-e59d-0ffd107981e1",
        "colab": {
          "base_uri": "https://localhost:8080/"
        }
      },
      "source": [
        "int(label)"
      ],
      "execution_count": 16,
      "outputs": [
        {
          "output_type": "execute_result",
          "data": {
            "text/plain": [
              "0"
            ]
          },
          "metadata": {
            "tags": []
          },
          "execution_count": 16
        }
      ]
    },
    {
      "cell_type": "code",
      "metadata": {
        "id": "eyxIQF_YZ6tF"
      },
      "source": [
        "def get_label(path) :\n",
        "    label = path.split('/')[-2]\n",
        "    return int(label)"
      ],
      "execution_count": 17,
      "outputs": []
    },
    {
      "cell_type": "code",
      "metadata": {
        "id": "C7ZKCfecaJwM",
        "outputId": "03a87847-f973-4d5e-ccb0-468139980854",
        "colab": {
          "base_uri": "https://localhost:8080/"
        }
      },
      "source": [
        "get_label(path)"
      ],
      "execution_count": 18,
      "outputs": [
        {
          "output_type": "execute_result",
          "data": {
            "text/plain": [
              "0"
            ]
          },
          "metadata": {
            "tags": []
          },
          "execution_count": 18
        }
      ]
    },
    {
      "cell_type": "code",
      "metadata": {
        "id": "mJdMTDkCaKiP"
      },
      "source": [
        "# 데이터 이미지 사이즈 알기\n",
        "from tqdm import tqdm_notebook\n",
        "heights = []\n",
        "width = []\n",
        "\n",
        "for path in tqdm_notebook(data_paths) : 데이터많아서 시간이 너무 오래걸릴듯..........\n",
        "    imp_pil = Image.open(path)\n",
        "    image =  np.array(imp_pil)\n",
        "    h, w = image.shape\n",
        "    heights.append(h)\n",
        "    width.append(w)\n"
      ],
      "execution_count": null,
      "outputs": []
    },
    {
      "cell_type": "code",
      "metadata": {
        "id": "FaOkdOQPalLc"
      },
      "source": [
        ""
      ],
      "execution_count": null,
      "outputs": []
    }
  ]
}