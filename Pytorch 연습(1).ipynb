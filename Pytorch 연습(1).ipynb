{
  "nbformat": 4,
  "nbformat_minor": 0,
  "metadata": {
    "colab": {
      "name": "Pytorch 연습.ipynb",
      "provenance": [],
      "include_colab_link": true
    },
    "kernelspec": {
      "name": "python3",
      "display_name": "Python 3"
    },
    "language_info": {
      "name": "python"
    },
    "accelerator": "GPU"
  },
  "cells": [
    {
      "cell_type": "markdown",
      "metadata": {
        "id": "view-in-github",
        "colab_type": "text"
      },
      "source": [
        "<a href=\"https://colab.research.google.com/github/Vaycold/Python_DL/blob/main/Pytorch%20%EC%97%B0%EC%8A%B5.ipynb\" target=\"_parent\"><img src=\"https://colab.research.google.com/assets/colab-badge.svg\" alt=\"Open In Colab\"/></a>"
      ]
    },
    {
      "cell_type": "code",
      "metadata": {
        "id": "hNq2Xhw1onGu"
      },
      "source": [
        "import os\n",
        "import numpy as np\n",
        "import pandas as pd\n",
        "import matplotlib.pyplot as plt\n",
        "from glob import glob\n",
        "from google.colab import drive\n",
        "\n",
        "\n",
        "import torch\n",
        "import torch.nn as nn\n",
        "import torch.nn.functional as F\n",
        "import torch.optim as optim\n",
        "\n",
        "from torchvision import datasets, transforms"
      ],
      "execution_count": 1,
      "outputs": []
    },
    {
      "cell_type": "code",
      "metadata": {
        "id": "QADtj-QSou4G"
      },
      "source": [
        "seed = 1\n",
        "lr = 1e-3\n",
        "momentum = 0.5\n",
        "batch_size = 64\n",
        "test_batch_size = 64\n",
        "epochs = 5\n",
        "no_cuda = False\n",
        "log_interval = 100"
      ],
      "execution_count": 2,
      "outputs": []
    },
    {
      "cell_type": "code",
      "metadata": {
        "id": "MwowK2RMpAX9"
      },
      "source": [
        "# Model\n",
        "\n",
        "class Net(nn.Module) :\n",
        "    def __init__(self) :\n",
        "        super(Net, self).__init__()\n",
        "        self.conv1 = nn.Conv2d(3,20,5,1)\n",
        "        self.conv2 = nn.Conv2d(20,50,5,1)\n",
        "        self.fc1   = nn.Linear(4*4*50, 500)\n",
        "        self.fc2   = nn.Linear(500,10)\n",
        "\n",
        "    def forward(self, x) :\n",
        "        x = F.relu(self.conv1(x))\n",
        "        x = F.max_pool2d(x, 2, 2)\n",
        "        x = F.relu(self.conv2(x))\n",
        "        x = F.max_pool2d(x, 2, 2) \n",
        "        x = x.view(-1,4*4*50)\n",
        "        x = F.relu(self.fc1(x))\n",
        "        x = self.fc2(x)\n",
        "\n",
        "        return F.log_softmax(x, dim=1)"
      ],
      "execution_count": 3,
      "outputs": []
    },
    {
      "cell_type": "code",
      "metadata": {
        "colab": {
          "base_uri": "https://localhost:8080/"
        },
        "id": "qJRL1IJ1p45T",
        "outputId": "e8f5e671-49fa-49b3-8be4-8676d8d0f5ec"
      },
      "source": [
        "drive.mount('/content/MyDrive')"
      ],
      "execution_count": 4,
      "outputs": [
        {
          "output_type": "stream",
          "text": [
            "Mounted at /content/MyDrive\n"
          ],
          "name": "stdout"
        }
      ]
    },
    {
      "cell_type": "markdown",
      "metadata": {
        "id": "P3L1iDKdreff"
      },
      "source": [
        "## Preprocess"
      ]
    },
    {
      "cell_type": "code",
      "metadata": {
        "id": "RqRm6rAzqjy_"
      },
      "source": [
        "google_path = '/content/MyDrive/MyDrive/fastcampus/DL_300/이미지분석/dataset/mnist_png'\n",
        "# os.listdir('MyDrive/MyDrive/fastcampus/DL_300/이미지분석/dataset/mnist_png')\n",
        "os.chdir(google_path)"
      ],
      "execution_count": 5,
      "outputs": []
    },
    {
      "cell_type": "code",
      "metadata": {
        "colab": {
          "base_uri": "https://localhost:8080/"
        },
        "id": "Y4j-5hXeqlx2",
        "outputId": "f1a50619-1fa1-4c76-e10a-cf884710e449"
      },
      "source": [
        "os.listdir('training')"
      ],
      "execution_count": 6,
      "outputs": [
        {
          "output_type": "execute_result",
          "data": {
            "text/plain": [
              "['3', '7', '9', '5', '8', '2', '4', '6', '0', '1']"
            ]
          },
          "metadata": {
            "tags": []
          },
          "execution_count": 6
        }
      ]
    },
    {
      "cell_type": "code",
      "metadata": {
        "colab": {
          "base_uri": "https://localhost:8080/",
          "height": 35
        },
        "id": "mkaeV5Rps6qP",
        "outputId": "42ac82f4-6841-4eba-fedf-e5bff94ba9f1"
      },
      "source": [
        "os.listdir()[1]"
      ],
      "execution_count": 7,
      "outputs": [
        {
          "output_type": "execute_result",
          "data": {
            "application/vnd.google.colaboratory.intrinsic+json": {
              "type": "string"
            },
            "text/plain": [
              "'training'"
            ]
          },
          "metadata": {
            "tags": []
          },
          "execution_count": 7
        }
      ]
    },
    {
      "cell_type": "code",
      "metadata": {
        "id": "uknTGu5Arb8_"
      },
      "source": [
        "train_dir = google_path + '/' + os.listdir()[1]\n",
        "test_dir  = google_path + '/' + os.listdir()[0]"
      ],
      "execution_count": 8,
      "outputs": []
    },
    {
      "cell_type": "code",
      "metadata": {
        "id": "1itqDRGftTkR"
      },
      "source": [
        "torch.manual_seed(seed)\n",
        "\n",
        "use_cuda = not no_cuda and torch.cuda.is_available()\n",
        "device = torch.device(\"cuda\" if use_cuda else \"cpu\")"
      ],
      "execution_count": 9,
      "outputs": []
    },
    {
      "cell_type": "code",
      "metadata": {
        "colab": {
          "base_uri": "https://localhost:8080/"
        },
        "id": "0o-lgr6cu5xp",
        "outputId": "3e820260-f0e2-4815-c6e0-3fbeab7f432b"
      },
      "source": [
        "print(device)"
      ],
      "execution_count": 10,
      "outputs": [
        {
          "output_type": "stream",
          "text": [
            "cuda\n"
          ],
          "name": "stdout"
        }
      ]
    },
    {
      "cell_type": "code",
      "metadata": {
        "id": "99unJK1kvJME"
      },
      "source": [
        "train_dataset = datasets.ImageFolder(root = train_dir, # torch로 불러오면 gray scale이 되지 않기 떄문에 input에 채널을 3으로 바꿔준다.\n",
        "                                     transform = transforms.Compose([\n",
        "                                                        transforms.ToTensor(),\n",
        "                                                        transforms.Normalize((0.1307,),(0.3081,))\n",
        "                                     ]))    "
      ],
      "execution_count": 11,
      "outputs": []
    },
    {
      "cell_type": "code",
      "metadata": {
        "colab": {
          "base_uri": "https://localhost:8080/"
        },
        "id": "Q3iASEsh-pPK",
        "outputId": "1ead35e4-1f55-4111-b865-f403ed3de0a4"
      },
      "source": [
        "train_dataset"
      ],
      "execution_count": 13,
      "outputs": [
        {
          "output_type": "execute_result",
          "data": {
            "text/plain": [
              "Dataset ImageFolder\n",
              "    Number of datapoints: 60001\n",
              "    Root location: /content/MyDrive/MyDrive/fastcampus/DL_300/이미지분석/dataset/mnist_png/training\n",
              "    StandardTransform\n",
              "Transform: Compose(\n",
              "               ToTensor()\n",
              "               Normalize(mean=(0.1307,), std=(0.3081,))\n",
              "           )"
            ]
          },
          "metadata": {
            "tags": []
          },
          "execution_count": 13
        }
      ]
    },
    {
      "cell_type": "code",
      "metadata": {
        "id": "4jmn_2Aawo2O"
      },
      "source": [
        "test_dataset = datasets.ImageFolder(root = test_dir, # torch로 불러오면 gray scale이 되지 않기 떄문에 input에 채널을 3으로 바꿔준다.\n",
        "                                     transform = transforms.Compose([\n",
        "                                                        transforms.ToTensor(),\n",
        "                                                        transforms.Normalize((0.1307,),(0.3081,))\n",
        "                                     ]))  "
      ],
      "execution_count": 12,
      "outputs": []
    },
    {
      "cell_type": "code",
      "metadata": {
        "colab": {
          "base_uri": "https://localhost:8080/"
        },
        "id": "rGJ8_KrI_AtR",
        "outputId": "b407c909-efbf-45cc-8f72-097f838db08d"
      },
      "source": [
        "test_dataset"
      ],
      "execution_count": 14,
      "outputs": [
        {
          "output_type": "execute_result",
          "data": {
            "text/plain": [
              "Dataset ImageFolder\n",
              "    Number of datapoints: 10000\n",
              "    Root location: /content/MyDrive/MyDrive/fastcampus/DL_300/이미지분석/dataset/mnist_png/testing\n",
              "    StandardTransform\n",
              "Transform: Compose(\n",
              "               ToTensor()\n",
              "               Normalize(mean=(0.1307,), std=(0.3081,))\n",
              "           )"
            ]
          },
          "metadata": {
            "tags": []
          },
          "execution_count": 14
        }
      ]
    },
    {
      "cell_type": "code",
      "metadata": {
        "id": "g6dmfvtxxI5D"
      },
      "source": [
        "train_loader = torch.utils.data.DataLoader(train_dataset,\n",
        "                                           batch_size = batch_size,\n",
        "                                           shuffle = True)\n",
        "\n",
        "test_loader = torch.utils.data.DataLoader(test_dataset,\n",
        "                                           batch_size = batch_size,\n",
        "                                           shuffle = False)\n"
      ],
      "execution_count": 16,
      "outputs": []
    },
    {
      "cell_type": "markdown",
      "metadata": {
        "id": "NklpOouF_OC5"
      },
      "source": [
        "## Optimization"
      ]
    },
    {
      "cell_type": "code",
      "metadata": {
        "id": "btaaX2tv_F8l"
      },
      "source": [
        "model = Net().to(device)\n",
        "optimizer = optim.SGD(model.parameters(), lr =lr, momentum=momentum)"
      ],
      "execution_count": 17,
      "outputs": []
    },
    {
      "cell_type": "code",
      "metadata": {
        "colab": {
          "base_uri": "https://localhost:8080/",
          "height": 137
        },
        "id": "FdIrAylF_cM_",
        "outputId": "ffd0a4b2-0a1b-4140-fbad-43322b506764"
      },
      "source": [
        "for epoch in range(1, epochs+1) :\n",
        "\n",
        "    model.train()\n",
        "\n",
        "    for batch_idx, (data,target) in enumerate(train_loader) :\n",
        "        data, target = data.to(device), target.to(device)\n",
        "        optimizer.zero_grad() # 역전파 계산하기 전 0으로 기울기 계산\n",
        "        output = model(data)\n",
        "        loss = F.nll_loss(output, target)\n",
        "        loss.backward()\n",
        "        optimizer.step()\n",
        "\n",
        "        if batch_idx % log_interval == 0 :\n",
        "            print( 'Train Epoch : {} [ {} / {} ({:.0f}%) ] \\tLoss : {:.6f}'.format(\n",
        "                epoch, batch_idx*len(data), len(train_loader.dataset), 100*batch_idx / len(train_loader), loss.item()\n",
        "            ))\n",
        "    \n",
        "    model.eval()\n",
        "    test_loss = 0\n",
        "    correct = 0\n",
        "\n",
        "    with torch.no_grad() : \n",
        "        for data, target in test_loader :\n",
        "            data. target = data.to(device), target.to(device)\n",
        "            output = model(data)\n",
        "            test_loss += F.nll_loss(output, target, reduction = 'sum').item() # sum up batch loss\n",
        "            pred = output.argmax(dim =1, keepdim=True)\n",
        "            correct += pred.eq(target.view_as(pred)).sum().item()\n",
        "    \n",
        "    test_loss /= len(test_loader.dataset)\n",
        "\n",
        "    print('\\nTest set : Average loss : {:.4f}, Accuracy : {} / {} ({:.0f}%)\\n'.format(\n",
        "        test_loss, correct, len(test_loader.dataset), 100*correct/ len(test_loader.dataset)\n",
        "    )) \n",
        "뭔가 문제가 생긴듯 하다.... \n"
      ],
      "execution_count": 19,
      "outputs": [
        {
          "output_type": "error",
          "ename": "SyntaxError",
          "evalue": "ignored",
          "traceback": [
            "\u001b[0;36m  File \u001b[0;32m\"<ipython-input-19-548c1be69f0c>\"\u001b[0;36m, line \u001b[0;32m34\u001b[0m\n\u001b[0;31m    )) 뭔가\u001b[0m\n\u001b[0m        ^\u001b[0m\n\u001b[0;31mSyntaxError\u001b[0m\u001b[0;31m:\u001b[0m invalid syntax\n"
          ]
        }
      ]
    },
    {
      "cell_type": "code",
      "metadata": {
        "id": "IAe4-Cu2BoLd"
      },
      "source": [
        ""
      ],
      "execution_count": null,
      "outputs": []
    }
  ]
}
