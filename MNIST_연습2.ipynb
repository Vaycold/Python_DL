{
  "nbformat": 4,
  "nbformat_minor": 0,
  "metadata": {
    "colab": {
      "name": "MNIST_연습2.ipynb",
      "provenance": [],
      "collapsed_sections": []
    },
    "kernelspec": {
      "name": "python3",
      "display_name": "Python 3"
    },
    "language_info": {
      "name": "python"
    }
  },
  "cells": [
    {
      "cell_type": "code",
      "metadata": {
        "colab": {
          "base_uri": "https://localhost:8080/"
        },
        "id": "I4BWAjIYvSYe",
        "outputId": "cdda32d3-e12c-4712-a294-0f8cdddf8e81"
      },
      "source": [
        "import os\n",
        "import numpy as np\n",
        "import tensorflow as tf\n",
        "from PIL import Image\n",
        "import matplotlib.pyplot as plt\n",
        "from glob import glob\n",
        "from natsort import natsorted\n",
        "from google.colab import drive\n",
        "drive.mount('/content/MyDrive')"
      ],
      "execution_count": null,
      "outputs": [
        {
          "output_type": "stream",
          "text": [
            "Mounted at /content/MyDrive\n"
          ],
          "name": "stdout"
        }
      ]
    },
    {
      "cell_type": "code",
      "metadata": {
        "id": "jsSmC51aw3zo"
      },
      "source": [
        "google_path = '/content/MyDrive/MyDrive/part3--이미지-분석으로-배우는-tensorflow-2.0과-pytorch/Part3) 이미지 분석으로 배우는 tensorflow 2.0과 Pytorch/dataset/mnist_png'"
      ],
      "execution_count": null,
      "outputs": []
    },
    {
      "cell_type": "code",
      "metadata": {
        "colab": {
          "base_uri": "https://localhost:8080/"
        },
        "id": "bfLNjmHB1qrp",
        "outputId": "da807d76-5243-4731-e7a8-e3fa410c958d"
      },
      "source": [
        "os.listdir(google_path +'/training')"
      ],
      "execution_count": null,
      "outputs": [
        {
          "output_type": "execute_result",
          "data": {
            "text/plain": [
              "['3', '7', '9', '5', '8', '2', '4', '6', '0', '1']"
            ]
          },
          "metadata": {
            "tags": []
          },
          "execution_count": 4
        }
      ]
    },
    {
      "cell_type": "code",
      "metadata": {
        "id": "-Z52BTPUxGkV",
        "colab": {
          "base_uri": "https://localhost:8080/",
          "height": 35
        },
        "outputId": "c9fbde0a-d7cc-4600-a8ca-96c08872dfdb"
      },
      "source": [
        "# Data load\n",
        "\n",
        "glob(google_path + '/training/0/*.png')[:2] # 트레이닝 0폴더에 있는 png 전부다 가져오기\n",
        "data_paths = glob(google_path + '/training/*/*.png') # 트레이닝 폴더에 있는 png 전부다 가져오기\n",
        "data_paths = natsorted(data_paths)\n",
        "data_paths[0]"
      ],
      "execution_count": null,
      "outputs": [
        {
          "output_type": "execute_result",
          "data": {
            "application/vnd.google.colaboratory.intrinsic+json": {
              "type": "string"
            },
            "text/plain": [
              "'/content/MyDrive/MyDrive/part3--이미지-분석으로-배우는-tensorflow-2.0과-pytorch/Part3) 이미지 분석으로 배우는 tensorflow 2.0과 Pytorch/dataset/mnist_png/training/0/1.png'"
            ]
          },
          "metadata": {
            "tags": []
          },
          "execution_count": 5
        }
      ]
    },
    {
      "cell_type": "code",
      "metadata": {
        "id": "WnFPAF-gzYsY"
      },
      "source": [
        "label_nums = natsorted(os.listdir(google_path + '/training'))"
      ],
      "execution_count": null,
      "outputs": []
    },
    {
      "cell_type": "code",
      "metadata": {
        "id": "oXE40HbE9Seg",
        "colab": {
          "base_uri": "https://localhost:8080/"
        },
        "outputId": "31f9a84b-51d9-453f-b95d-fa5b681991bd"
      },
      "source": [
        "# 각 레이블의 갯수\n",
        "\n",
        "nums_dataset = []\n",
        "\n",
        "for i in label_nums :\n",
        "    label_data = os.listdir(google_path + '/training/' + i )\n",
        "    nums_dataset.append(len(label_data))\n",
        "nums_dataset"
      ],
      "execution_count": null,
      "outputs": [
        {
          "output_type": "execute_result",
          "data": {
            "text/plain": [
              "[5923, 6742, 5958, 6131, 5842, 5421, 5918, 6265, 5852, 5949]"
            ]
          },
          "metadata": {
            "tags": []
          },
          "execution_count": 18
        }
      ]
    },
    {
      "cell_type": "code",
      "metadata": {
        "colab": {
          "base_uri": "https://localhost:8080/",
          "height": 286
        },
        "id": "gTbLAZlNGo_U",
        "outputId": "a410e114-c964-4a2e-9a5e-5711515975b9"
      },
      "source": [
        "plt.bar(label_nums, nums_dataset)"
      ],
      "execution_count": null,
      "outputs": [
        {
          "output_type": "execute_result",
          "data": {
            "text/plain": [
              "<BarContainer object of 10 artists>"
            ]
          },
          "metadata": {
            "tags": []
          },
          "execution_count": 19
        },
        {
          "output_type": "display_data",
          "data": {
            "image/png": "[encoded data removed]",
            "text/plain": [
              "<Figure size 432x288 with 1 Axes>"
            ]
          },
          "metadata": {
            "tags": [],
            "needs_background": "light"
          }
        }
      ]
    },
    {
      "cell_type": "code",
      "metadata": {
        "id": "iLww_PebG0D-"
      },
      "source": [
        ""
      ],
      "execution_count": null,
      "outputs": []
    }
  ]
}