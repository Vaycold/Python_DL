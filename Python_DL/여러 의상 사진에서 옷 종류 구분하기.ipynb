{
  "nbformat": 4,
  "nbformat_minor": 0,
  "metadata": {
    "colab": {
      "name": "여러 의상 사진에서 옷 종류 구분하기.ipynb",
      "provenance": [],
      "authorship_tag": "ABX9TyObjgyihR01Ec+DbUtuYqdw",
      "include_colab_link": true
    },
    "kernelspec": {
      "name": "python3",
      "display_name": "Python 3"
    },
    "language_info": {
      "name": "python"
    }
  },
  "cells": [
    {
      "cell_type": "markdown",
      "metadata": {
        "id": "view-in-github",
        "colab_type": "text"
      },
      "source": [
        "<a href=\"https://colab.research.google.com/github/moch1996/Vaycold/blob/main/Python_DL/%EC%97%AC%EB%9F%AC%20%EC%9D%98%EC%83%81%20%EC%82%AC%EC%A7%84%EC%97%90%EC%84%9C%20%EC%98%B7%20%EC%A2%85%EB%A5%98%20%EA%B5%AC%EB%B6%84%ED%95%98%EA%B8%B0.ipynb\" target=\"_parent\"><img src=\"https://colab.research.google.com/assets/colab-badge.svg\" alt=\"Open In Colab\"/></a>"
      ]
    },
    {
      "cell_type": "markdown",
      "metadata": {
        "id": "szHq3rqTSM1R"
      },
      "source": [
        "# Goal :\n",
        " - fashion MNIST 이미지를 분류하기\n",
        " - Multi-Class & Multi-Label 구분\n",
        "   - 하나의 사진에 여러 객체가 있을 때 // ex) 한 사진안에 고양이와 독수리가 있을 때 이를 새, 고양이로 분류하는 것\n",
        " - 이미지 확장, 이미지에 객체 삽입"
      ]
    },
    {
      "cell_type": "markdown",
      "metadata": {
        "id": "baiXLrPhSm_e"
      },
      "source": [
        "## Library"
      ]
    },
    {
      "cell_type": "code",
      "metadata": {
        "id": "W0Dnaz4xRfjg"
      },
      "source": [
        "import tensorflow as tf\n",
        "from tensorflow import keras\n",
        "from keras.layers import Dense\n",
        "from keras.models import Sequential\n",
        "\n",
        "import pandas as pd\n",
        "import numpy as np\n",
        "import matplotlib.pyplot as plt\n",
        "import seaborn as sns\n",
        "import warnings\n",
        "from IPython.display import Image\n",
        "from google.colab import drive\n",
        "\n",
        "warnings.filterwarnings('ignore')\n",
        "\n",
        "SEED=34"
      ],
      "execution_count": 7,
      "outputs": []
    },
    {
      "cell_type": "markdown",
      "metadata": {
        "id": "mYCJEwbiTKJI"
      },
      "source": [
        "## 도입전 기본 처리"
      ]
    },
    {
      "cell_type": "code",
      "metadata": {
        "colab": {
          "base_uri": "https://localhost:8080/"
        },
        "id": "zn7w-BGJTIFG",
        "outputId": "80e765d6-cd0b-4018-a221-57098a4592f1"
      },
      "source": [
        "# fashion MNIST 데이터를 살펴보자\n",
        "fashion_mnist = keras.datasets.fashion_mnist\n",
        "((train_images,train_labels),(test_images, test_labels)) = fashion_mnist.load_data()"
      ],
      "execution_count": 8,
      "outputs": [
        {
          "output_type": "stream",
          "text": [
            "Downloading data from https://storage.googleapis.com/tensorflow/tf-keras-datasets/train-labels-idx1-ubyte.gz\n",
            "32768/29515 [=================================] - 0s 0us/step\n",
            "Downloading data from https://storage.googleapis.com/tensorflow/tf-keras-datasets/train-images-idx3-ubyte.gz\n",
            "26427392/26421880 [==============================] - 0s 0us/step\n",
            "Downloading data from https://storage.googleapis.com/tensorflow/tf-keras-datasets/t10k-labels-idx1-ubyte.gz\n",
            "8192/5148 [===============================================] - 0s 0us/step\n",
            "Downloading data from https://storage.googleapis.com/tensorflow/tf-keras-datasets/t10k-images-idx3-ubyte.gz\n",
            "4423680/4422102 [==============================] - 0s 0us/step\n"
          ],
          "name": "stdout"
        }
      ]
    },
    {
      "cell_type": "code",
      "metadata": {
        "colab": {
          "base_uri": "https://localhost:8080/"
        },
        "id": "TvG77WXuVfhy",
        "outputId": "d543c23f-fae0-4ca3-9080-e06e8380d5a5"
      },
      "source": [
        "print(train_images.shape, train_labels.shape)\n",
        "print(test_images.shape, test_labels.shape)"
      ],
      "execution_count": 9,
      "outputs": [
        {
          "output_type": "stream",
          "text": [
            "(60000, 28, 28) (60000,)\n",
            "(10000, 28, 28) (10000,)\n"
          ],
          "name": "stdout"
        }
      ]
    },
    {
      "cell_type": "code",
      "metadata": {
        "id": "00Xk813dVhW_"
      },
      "source": [
        "# label을 설정해보자 \n",
        "# 0이 뭔지 1이 뭔지 모르겠음...\n",
        "labels = [\"T-shirt/top\",   #idx 0\n",
        "          \"Trouser\",       #idx 1\n",
        "          \"Pullover\",      #idx 2\n",
        "          \"Dress\",         #idx 3\n",
        "          \"Coat\",          #idx 4\n",
        "          \"Sandal\",        #idx 5\n",
        "          \"Shirt\",         #idx 6\n",
        "          \"Sneaker\",       #idx 7\n",
        "          \"Bag\",           #idx 8\n",
        "          \"Ankle_boot\"]    #idx 9"
      ],
      "execution_count": 162,
      "outputs": []
    },
    {
      "cell_type": "code",
      "metadata": {
        "id": "KS2m6vr_Yqu1"
      },
      "source": [
        "def idx2label(idx) :\n",
        "  return labels[idx]"
      ],
      "execution_count": 163,
      "outputs": []
    },
    {
      "cell_type": "code",
      "metadata": {
        "colab": {
          "base_uri": "https://localhost:8080/",
          "height": 320
        },
        "id": "OBa7StKdZSAM",
        "outputId": "d798c421-1914-438b-d679-4974e80af2e1"
      },
      "source": [
        "# plt로 형태를 출력해보자\n",
        "\n",
        "plt.imshow(train_images[0], cmap='gray')\n",
        "plt.title(idx2label(train_labels[0]), size=15)\n",
        "plt.show()\n",
        "print('')\n",
        "print(idx2label(train_labels[0]))"
      ],
      "execution_count": 40,
      "outputs": [
        {
          "output_type": "display_data",
          "data": {
            "image/png": "[encoded data removed]",
            "text/plain": [
              "<Figure size 432x288 with 1 Axes>"
            ]
          },
          "metadata": {
            "tags": [],
            "needs_background": "light"
          }
        },
        {
          "output_type": "stream",
          "text": [
            "\n",
            "Ankle boot\n"
          ],
          "name": "stdout"
        }
      ]
    },
    {
      "cell_type": "code",
      "metadata": {
        "id": "0Jui0eSMZalH"
      },
      "source": [
        "# 이걸 함수로 만들어 볼까\n",
        "\n",
        "def train_show(idx) :\n",
        "  plt.imshow(train_images[idx], cmap='gray')\n",
        "  plt.title(idx2label(train_labels[idx]), size=20)\n",
        "  plt.show()"
      ],
      "execution_count": 44,
      "outputs": []
    },
    {
      "cell_type": "code",
      "metadata": {
        "colab": {
          "base_uri": "https://localhost:8080/",
          "height": 286
        },
        "id": "1KB_g7ZyaaQc",
        "outputId": "17e99281-bc47-4359-a6d2-86a166e63f98"
      },
      "source": [
        "train_show(0)"
      ],
      "execution_count": 117,
      "outputs": [
        {
          "output_type": "display_data",
          "data": {
            "image/png": "[encoded data removed]",
            "text/plain": [
              "<Figure size 432x288 with 1 Axes>"
            ]
          },
          "metadata": {
            "tags": [],
            "needs_background": "light"
          }
        }
      ]
    },
    {
      "cell_type": "code",
      "metadata": {
        "colab": {
          "base_uri": "https://localhost:8080/"
        },
        "id": "m55dsjmuabgV",
        "outputId": "cad0168b-97d5-48bb-b245-614547a6ac6d"
      },
      "source": [
        "# train images에서 0이 아닌 값들을 찾아보자\n",
        "\n",
        "train_images[train_images != 0]"
      ],
      "execution_count": 50,
      "outputs": [
        {
          "output_type": "execute_result",
          "data": {
            "text/plain": [
              "array([ 1, 13, 73, ..., 42, 21, 18], dtype=uint8)"
            ]
          },
          "metadata": {
            "tags": []
          },
          "execution_count": 50
        }
      ]
    },
    {
      "cell_type": "code",
      "metadata": {
        "colab": {
          "base_uri": "https://localhost:8080/"
        },
        "id": "6ZwqatquaxYc",
        "outputId": "28ca2b09-90c7-4a9a-8981-a47b4eff9c02"
      },
      "source": [
        "# 이미지의 값이 가장 큰 idx 와 가장 작은 idx를 찾아보자\n",
        "train_images.reshape((60000,-1)).shape"
      ],
      "execution_count": 51,
      "outputs": [
        {
          "output_type": "execute_result",
          "data": {
            "text/plain": [
              "(60000, 784)"
            ]
          },
          "metadata": {
            "tags": []
          },
          "execution_count": 51
        }
      ]
    },
    {
      "cell_type": "code",
      "metadata": {
        "colab": {
          "base_uri": "https://localhost:8080/"
        },
        "id": "2p2be_ZYbhJ0",
        "outputId": "d4b09580-0d49-4fac-8977-56578ecf46e1"
      },
      "source": [
        "print(train_images.reshape((60000,-1)).sum(axis=1).argmax()) #최대값\n",
        "print(train_images.reshape((60000,-1)).sum(axis=1).argmin()) #최소값"
      ],
      "execution_count": 55,
      "outputs": [
        {
          "output_type": "stream",
          "text": [
            "55023\n",
            "9230\n"
          ],
          "name": "stdout"
        }
      ]
    },
    {
      "cell_type": "code",
      "metadata": {
        "colab": {
          "base_uri": "https://localhost:8080/",
          "height": 286
        },
        "id": "wiCjMkQJbreN",
        "outputId": "22a00d48-27b0-4465-fcb1-ec3e586316d3"
      },
      "source": [
        "train_show(train_images.reshape((60000,-1)).sum(axis=1).argmax())"
      ],
      "execution_count": 56,
      "outputs": [
        {
          "output_type": "display_data",
          "data": {
            "image/png": "[encoded data removed]",
            "text/plain": [
              "<Figure size 432x288 with 1 Axes>"
            ]
          },
          "metadata": {
            "tags": [],
            "needs_background": "light"
          }
        }
      ]
    },
    {
      "cell_type": "code",
      "metadata": {
        "colab": {
          "base_uri": "https://localhost:8080/",
          "height": 286
        },
        "id": "K8CHOGvvb_zv",
        "outputId": "9018126b-f877-4609-dbcb-2cc6999f9800"
      },
      "source": [
        "train_show(train_images.reshape((60000,-1)).sum(axis=1).argmin())"
      ],
      "execution_count": 57,
      "outputs": [
        {
          "output_type": "display_data",
          "data": {
            "image/png": "[encoded data removed]",
            "text/plain": [
              "<Figure size 432x288 with 1 Axes>"
            ]
          },
          "metadata": {
            "tags": [],
            "needs_background": "light"
          }
        }
      ]
    },
    {
      "cell_type": "markdown",
      "metadata": {
        "id": "1O3Y_bXwcVNr"
      },
      "source": [
        "## PreProcessing"
      ]
    },
    {
      "cell_type": "code",
      "metadata": {
        "colab": {
          "base_uri": "https://localhost:8080/"
        },
        "id": "fhU_iDMdcYFE",
        "outputId": "60c59afe-9cb8-4428-bb17-102515533dc4"
      },
      "source": [
        "# Train, Test 이미지 데이터 범위 확인\n",
        "print(train_images.max(), train_images.min())\n",
        "print(test_images.max(), test_images.min())"
      ],
      "execution_count": 61,
      "outputs": [
        {
          "output_type": "stream",
          "text": [
            "255 0\n",
            "255 0\n"
          ],
          "name": "stdout"
        }
      ]
    },
    {
      "cell_type": "code",
      "metadata": {
        "colab": {
          "base_uri": "https://localhost:8080/"
        },
        "id": "6VNwUteYeuLM",
        "outputId": "e85432ec-9577-4c2f-d9bd-881d3494646b"
      },
      "source": [
        "print(train_images.dtype)\n",
        "print(test_images.dtype)"
      ],
      "execution_count": 64,
      "outputs": [
        {
          "output_type": "stream",
          "text": [
            "uint8\n",
            "uint8\n"
          ],
          "name": "stdout"
        }
      ]
    },
    {
      "cell_type": "code",
      "metadata": {
        "id": "jYYSBJUGpopI"
      },
      "source": [
        "train_images = train_images.astype(np.float64)\n",
        "test_images = test_images.astype(np.float64)"
      ],
      "execution_count": 65,
      "outputs": []
    },
    {
      "cell_type": "code",
      "metadata": {
        "id": "WFcgvMpbqq8s"
      },
      "source": [
        "# 데이터 정규화\n",
        "\n",
        "train_images = train_images / 255\n",
        "test_images = test_images / 255"
      ],
      "execution_count": 66,
      "outputs": []
    },
    {
      "cell_type": "code",
      "metadata": {
        "id": "uocGixbUrRBb"
      },
      "source": [
        "# 함수로 구현하면 이런 느낌\n",
        "def norm(data) :\n",
        "  min_v = data.min()\n",
        "  max_v = data.max()\n",
        "  return (data - min_v)/(max_v - min_v)"
      ],
      "execution_count": 67,
      "outputs": []
    },
    {
      "cell_type": "code",
      "metadata": {
        "colab": {
          "base_uri": "https://localhost:8080/"
        },
        "id": "8M3p7Dj2re2P",
        "outputId": "45b536a0-ae8c-468e-9b25-c254a7500804"
      },
      "source": [
        "norm(train_images).min(), norm(train_images).max()"
      ],
      "execution_count": 69,
      "outputs": [
        {
          "output_type": "execute_result",
          "data": {
            "text/plain": [
              "(0.0, 1.0)"
            ]
          },
          "metadata": {
            "tags": []
          },
          "execution_count": 69
        }
      ]
    },
    {
      "cell_type": "markdown",
      "metadata": {
        "id": "aA2g_3_8sIz2"
      },
      "source": [
        "## Visualizing"
      ]
    },
    {
      "cell_type": "markdown",
      "metadata": {
        "id": "NsydGZTmtjEl"
      },
      "source": [
        "### random"
      ]
    },
    {
      "cell_type": "code",
      "metadata": {
        "id": "-2JAkyHXrsIu"
      },
      "source": [
        "# 랜덤으로 n장을 가져오고 그것의 plt를 그린 후 label까지 불러와보자.\n",
        "def draw(n) : \n",
        "  label_list = []\n",
        "  idx = list(np.random.randint(0,60001,n))\n",
        "  pic_n = train_images[idx].transpose((1,0,2)).reshape((28,-1))\n",
        "  plt.figure(figsize=(10+(n/2), 12))\n",
        "  plt.imshow(pic_n,cmap='gray')\n",
        "  plt.show()\n",
        "\n",
        "  for i in idx :\n",
        "    label_list.append(idx2label(train_labels[i]))\n",
        "  print('')\n",
        "  for j in label_list :\n",
        "    print(j, sep=' ', end= ' ')\n",
        "#train_images[list(np.random.randint(0,60000,5))].shape\n",
        "#np.random.randin"
      ],
      "execution_count": 157,
      "outputs": []
    },
    {
      "cell_type": "code",
      "metadata": {
        "colab": {
          "base_uri": "https://localhost:8080/",
          "height": 171
        },
        "id": "bCX5hVxfQ5Ko",
        "outputId": "f2aa2ec2-21d6-4fa5-e084-7d21da709069"
      },
      "source": [
        "draw(10)"
      ],
      "execution_count": 165,
      "outputs": [
        {
          "output_type": "display_data",
          "data": {
            "image/png": "[encoded data removed]",
            "text/plain": [
              "<Figure size 1080x864 with 1 Axes>"
            ]
          },
          "metadata": {
            "tags": [],
            "needs_background": "light"
          }
        },
        {
          "output_type": "stream",
          "text": [
            "\n",
            "Coat Bag Sandal Dress Sandal Dress Shirt T-shirt/top Sandal Coat "
          ],
          "name": "stdout"
        }
      ]
    },
    {
      "cell_type": "markdown",
      "metadata": {
        "id": "H54dFqlLto18"
      },
      "source": [
        "### Standard"
      ]
    },
    {
      "cell_type": "code",
      "metadata": {
        "colab": {
          "base_uri": "https://localhost:8080/"
        },
        "id": "q1iy7aBwtrJr",
        "outputId": "d4bd3b09-ce2a-4b9b-9469-a5ec9a3509ad"
      },
      "source": [
        "# (5,28,28) 획득하기\n",
        "train_images[:5].shape"
      ],
      "execution_count": 94,
      "outputs": [
        {
          "output_type": "execute_result",
          "data": {
            "text/plain": [
              "(5, 28, 28)"
            ]
          },
          "metadata": {
            "tags": []
          },
          "execution_count": 94
        }
      ]
    },
    {
      "cell_type": "code",
      "metadata": {
        "colab": {
          "base_uri": "https://localhost:8080/"
        },
        "id": "NuNopkkYtwwz",
        "outputId": "d9161885-a8fb-4a83-a2ac-c8ecb9b17f91"
      },
      "source": [
        "# (28,28*5)로 변환하자\n",
        "train_images[:5].transpose((1,0,2)).reshape((28,-1)).shape"
      ],
      "execution_count": 98,
      "outputs": [
        {
          "output_type": "execute_result",
          "data": {
            "text/plain": [
              "(28, 140)"
            ]
          },
          "metadata": {
            "tags": []
          },
          "execution_count": 98
        }
      ]
    },
    {
      "cell_type": "code",
      "metadata": {
        "colab": {
          "base_uri": "https://localhost:8080/",
          "height": 227
        },
        "id": "NOswLL71utpg",
        "outputId": "ea884746-fb62-460a-f6f8-abf0d39dae38"
      },
      "source": [
        "plt.figure(figsize=(16,12))\n",
        "plt.imshow(train_images[:5].transpose((1,0,2)).reshape((28,-1)),cmap='gray')\n",
        "plt.show()\n"
      ],
      "execution_count": 115,
      "outputs": [
        {
          "output_type": "display_data",
          "data": {
            "image/png": "[encoded data removed]",
            "text/plain": [
              "<Figure size 1152x864 with 1 Axes>"
            ]
          },
          "metadata": {
            "tags": [],
            "needs_background": "light"
          }
        }
      ]
    },
    {
      "cell_type": "code",
      "metadata": {
        "colab": {
          "base_uri": "https://localhost:8080/"
        },
        "id": "gOg2xgARM4Kc",
        "outputId": "1c356e69-3186-4c4e-dbbf-493a140853ea"
      },
      "source": [
        "# 레이블에 따라 5개를 출력하는 함수를 만들어보자\n",
        "# argwhere을 사용하자\n",
        "np.argwhere(train_labels == 7)[:5,...,0] # 뒤에 ...,0은 펴주는 역할을 수행함"
      ],
      "execution_count": 168,
      "outputs": [
        {
          "output_type": "execute_result",
          "data": {
            "text/plain": [
              "array([ 6, 14, 41, 46, 52])"
            ]
          },
          "metadata": {
            "tags": []
          },
          "execution_count": 168
        }
      ]
    },
    {
      "cell_type": "code",
      "metadata": {
        "colab": {
          "base_uri": "https://localhost:8080/"
        },
        "id": "wQOOfP0KS6jj",
        "outputId": "49763309-3b21-46a4-e8b9-048a198c0eaf"
      },
      "source": [
        "train_images[np.argwhere(train_labels == 7)[:5,...,0]].transpose((1,0,2)).reshape(28,-1).shape"
      ],
      "execution_count": 171,
      "outputs": [
        {
          "output_type": "execute_result",
          "data": {
            "text/plain": [
              "(28, 140)"
            ]
          },
          "metadata": {
            "tags": []
          },
          "execution_count": 171
        }
      ]
    },
    {
      "cell_type": "code",
      "metadata": {
        "colab": {
          "base_uri": "https://localhost:8080/",
          "height": 118
        },
        "id": "4p7oAUaxTege",
        "outputId": "db21513b-e662-4575-cd71-86d0c2ddcc87"
      },
      "source": [
        "plt.imshow(train_images[np.argwhere(train_labels == 2)[:5,...,0]].transpose((1,0,2)).reshape(28,-1))\n",
        "plt.show()"
      ],
      "execution_count": 175,
      "outputs": [
        {
          "output_type": "display_data",
          "data": {
            "image/png": "[encoded data removed]",
            "text/plain": [
              "<Figure size 432x288 with 1 Axes>"
            ]
          },
          "metadata": {
            "tags": [],
            "needs_background": "light"
          }
        }
      ]
    },
    {
      "cell_type": "code",
      "metadata": {
        "id": "j8ITp-jeTp9i"
      },
      "source": [
        ""
      ],
      "execution_count": null,
      "outputs": []
    },
    {
      "cell_type": "markdown",
      "metadata": {
        "id": "caeC1UDbZx9c"
      },
      "source": [
        "## Data Augmentation\n",
        " - 이미지 확대 및 다객체 추가 방법"
      ]
    },
    {
      "cell_type": "code",
      "metadata": {
        "id": "nmFokj3NZyvc"
      },
      "source": [
        "# 이미지 한장의 크기를 4배로 확대하고, 객체는 4분면 영역중 랜덤으로 1공간에 넣는 함수를 작성해보자\n",
        "\n",
        "def expand(img) :\n",
        "  bg = np.zeros(img.shape)\n",
        "  # 1 0\n",
        "  # 2 3\n",
        "  idx = np.random.randint(0,4)\n",
        "  slots = [bg,bg,bg,bg]\n",
        "  slots[idx] = img\n",
        "  expanded = np.vstack([\n",
        "                        np.hstack(slots[:2]), \n",
        "                        np.hstack(slots[2:])\n",
        "                        \n",
        "  ]\n",
        "  )\n",
        "  return expanded"
      ],
      "execution_count": 179,
      "outputs": []
    },
    {
      "cell_type": "code",
      "metadata": {
        "colab": {
          "base_uri": "https://localhost:8080/",
          "height": 286
        },
        "id": "Qx2N0pZmf8eR",
        "outputId": "eeee850f-98af-4d61-c549-52a2ccdfe650"
      },
      "source": [
        "plt.imshow(expand(train_images[0]))"
      ],
      "execution_count": 182,
      "outputs": [
        {
          "output_type": "execute_result",
          "data": {
            "text/plain": [
              "<matplotlib.image.AxesImage at 0x7f62e2c06d50>"
            ]
          },
          "metadata": {
            "tags": []
          },
          "execution_count": 182
        },
        {
          "output_type": "display_data",
          "data": {
            "image/png": "[encoded data removed]",
            "text/plain": [
              "<Figure size 432x288 with 1 Axes>"
            ]
          },
          "metadata": {
            "tags": [],
            "needs_background": "light"
          }
        }
      ]
    },
    {
      "cell_type": "code",
      "metadata": {
        "colab": {
          "base_uri": "https://localhost:8080/"
        },
        "id": "NBZ20KP7f_n4",
        "outputId": "c2670c30-f56f-41a6-b52d-c11024ad805c"
      },
      "source": [
        "expand(train_images[0]).shape"
      ],
      "execution_count": 183,
      "outputs": [
        {
          "output_type": "execute_result",
          "data": {
            "text/plain": [
              "(56, 56)"
            ]
          },
          "metadata": {
            "tags": []
          },
          "execution_count": 183
        }
      ]
    },
    {
      "cell_type": "code",
      "metadata": {
        "id": "PEOzolBXgVts"
      },
      "source": [
        "# 전체 training셋과 test셋에 적용해보자.\n",
        "train_expand_images = np.array([expand(img) for img in train_images])\n",
        "test_expand_images = np.array([expand(img) for img in test_images])"
      ],
      "execution_count": 184,
      "outputs": []
    },
    {
      "cell_type": "code",
      "metadata": {
        "colab": {
          "base_uri": "https://localhost:8080/"
        },
        "id": "Nz5hahyqhh0W",
        "outputId": "e0cf40e1-92d3-4541-e8c2-cffdd0508693"
      },
      "source": [
        "train_expand_images.shape, test_expand_images.shape"
      ],
      "execution_count": 185,
      "outputs": [
        {
          "output_type": "execute_result",
          "data": {
            "text/plain": [
              "((60000, 56, 56), (10000, 56, 56))"
            ]
          },
          "metadata": {
            "tags": []
          },
          "execution_count": 185
        }
      ]
    },
    {
      "cell_type": "code",
      "metadata": {
        "id": "yeWKUNKuhkpj"
      },
      "source": [
        "# 4배 이미지 변환함수를 수정하여 이미지 사이즈를 4배 확대 후 객체를 랜덤으로 0~4개 랜덤 4분면에 위치시키는 함수를 만들어보자\n",
        "# 이 과정을 수행하고 나면 하나의 그림에 여러 그림이 들어 갈 수 있으므로 라벨링을 다르게 해줘야 함.\n",
        "# 그래서 인자가 두 개 필요함\n",
        "\n",
        "def expand_2(x,y) :\n",
        "\n",
        "  images = []\n",
        "  labels = []\n",
        "\n",
        "  for _ in range(4) :\n",
        "    bg = np.zeros((28,28))\n",
        "    idx = np.random.randint(0,5)\n",
        "\n",
        "    label = np.zeros((10,)) #[0,0,0,.....] \n",
        "    slots = [bg, bg, bg, bg]\n",
        "    \n",
        "  \n",
        "\n",
        "\n",
        "\n",
        "  bg = np.zeros(img.shape)\n",
        "  # 1 0\n",
        "  # 2 3\n",
        "  idx = np.random.randint(0,4)\n",
        "  slots = [bg,bg,bg,bg]\n",
        "  slots[idx] = img\n",
        "  expanded = np.vstack([\n",
        "                        np.hstack(slots[:2]), \n",
        "                        np.hstack(slots[2:])\n",
        "                        \n",
        "  ]\n",
        "  )\n",
        "  return expanded"
      ],
      "execution_count": null,
      "outputs": []
    },
    {
      "cell_type": "code",
      "metadata": {
        "id": "bka1bZBglSTJ"
      },
      "source": [
        "def expand_bc(x, y) :\n",
        "\n",
        "  rd_idx = [0, 1, 2, 3]\n",
        "  np"
      ],
      "execution_count": null,
      "outputs": []
    },
    {
      "cell_type": "code",
      "metadata": {
        "colab": {
          "base_uri": "https://localhost:8080/",
          "height": 192
        },
        "id": "Oc6-Nxvwlfe2",
        "outputId": "27bf2004-f61e-46bb-88e9-d980b3170344"
      },
      "source": [
        "rd_idx = [0,1,2,3]\n",
        "list[np.random.choice(rd_idx,np.random.randint(0,4),replace=False)]"
      ],
      "execution_count": 199,
      "outputs": [
        {
          "output_type": "error",
          "ename": "TypeError",
          "evalue": "ignored",
          "traceback": [
            "\u001b[0;31m---------------------------------------------------------------------------\u001b[0m",
            "\u001b[0;31mTypeError\u001b[0m                                 Traceback (most recent call last)",
            "\u001b[0;32m<ipython-input-199-364f68fbc10a>\u001b[0m in \u001b[0;36m<module>\u001b[0;34m()\u001b[0m\n\u001b[1;32m      1\u001b[0m \u001b[0mrd_idx\u001b[0m \u001b[0;34m=\u001b[0m \u001b[0;34m[\u001b[0m\u001b[0;36m0\u001b[0m\u001b[0;34m,\u001b[0m\u001b[0;36m1\u001b[0m\u001b[0;34m,\u001b[0m\u001b[0;36m2\u001b[0m\u001b[0;34m,\u001b[0m\u001b[0;36m3\u001b[0m\u001b[0;34m]\u001b[0m\u001b[0;34m\u001b[0m\u001b[0;34m\u001b[0m\u001b[0m\n\u001b[0;32m----> 2\u001b[0;31m \u001b[0mlist\u001b[0m\u001b[0;34m[\u001b[0m\u001b[0mnp\u001b[0m\u001b[0;34m.\u001b[0m\u001b[0mrandom\u001b[0m\u001b[0;34m.\u001b[0m\u001b[0mchoice\u001b[0m\u001b[0;34m(\u001b[0m\u001b[0mrd_idx\u001b[0m\u001b[0;34m,\u001b[0m\u001b[0mnp\u001b[0m\u001b[0;34m.\u001b[0m\u001b[0mrandom\u001b[0m\u001b[0;34m.\u001b[0m\u001b[0mrandint\u001b[0m\u001b[0;34m(\u001b[0m\u001b[0;36m0\u001b[0m\u001b[0;34m,\u001b[0m\u001b[0;36m4\u001b[0m\u001b[0;34m)\u001b[0m\u001b[0;34m,\u001b[0m\u001b[0mreplace\u001b[0m\u001b[0;34m=\u001b[0m\u001b[0;32mFalse\u001b[0m\u001b[0;34m)\u001b[0m\u001b[0;34m]\u001b[0m\u001b[0;34m\u001b[0m\u001b[0;34m\u001b[0m\u001b[0m\n\u001b[0m",
            "\u001b[0;31mTypeError\u001b[0m: 'type' object is not subscriptable"
          ]
        }
      ]
    },
    {
      "cell_type": "code",
      "metadata": {
        "colab": {
          "base_uri": "https://localhost:8080/"
        },
        "id": "4XN73BngoEZZ",
        "outputId": "42af1d5a-5fe8-4596-f146-926e850331f2"
      },
      "source": [
        "train_images.shape"
      ],
      "execution_count": 226,
      "outputs": [
        {
          "output_type": "execute_result",
          "data": {
            "text/plain": [
              "(60000, 28, 28)"
            ]
          },
          "metadata": {
            "tags": []
          },
          "execution_count": 226
        }
      ]
    },
    {
      "cell_type": "code",
      "metadata": {
        "colab": {
          "base_uri": "https://localhost:8080/"
        },
        "id": "N5GOIG9klgcu",
        "outputId": "8430e157-ecab-445a-e6d1-ee223fcf26d9"
      },
      "source": [
        "bg = np.zeros((28,28)) # 그림하나당 할당량\n",
        "quad = [0, 1, 2, 3]  # 4분면\n",
        "pick = np.random.randint(0,4) # 몇 개를 뽑을 지 랜덤으로 정한다\n",
        "pic_bg = list(np.random.choice(quad,pick, replace=False)) # 그림이 그려질 사분면\n",
        "pic_n  = list(np.random.choice(range(60000),pick, replace=False)) # 그림을 미리 뽑는다.\n",
        "slots = [bg, bg, bg, bg]\n",
        "\n",
        "for i in pic_bg : # 각 사분면\n",
        "  pic_idx = np.random.randint(0,60000)\n",
        "  for image in x # 랜덤으로 그림 선택\n",
        "\n",
        "\n",
        "\n",
        "  print(i)"
      ],
      "execution_count": 229,
      "outputs": [
        {
          "output_type": "stream",
          "text": [
            "1\n",
            "3\n",
            "2\n"
          ],
          "name": "stdout"
        }
      ]
    },
    {
      "cell_type": "code",
      "metadata": {
        "id": "e1-DStnJlvRe"
      },
      "source": [
        "for _ in range(100) :\n",
        "  print(np.random.randint(0,4))"
      ],
      "execution_count": null,
      "outputs": []
    },
    {
      "cell_type": "code",
      "metadata": {
        "colab": {
          "base_uri": "https://localhost:8080/"
        },
        "id": "zTt1UgX_ma-G",
        "outputId": "e3f65c51-6203-4742-a01b-a53dd22aede9"
      },
      "source": [
        "train_images[0].shape"
      ],
      "execution_count": 235,
      "outputs": [
        {
          "output_type": "execute_result",
          "data": {
            "text/plain": [
              "(28, 28)"
            ]
          },
          "metadata": {
            "tags": []
          },
          "execution_count": 235
        }
      ]
    },
    {
      "cell_type": "code",
      "metadata": {
        "colab": {
          "base_uri": "https://localhost:8080/"
        },
        "id": "7vQLMaxlo63y",
        "outputId": "e1244140-dcf3-49a5-cf0b-6e8d66cfec58"
      },
      "source": [
        "a = [1,2,3,4,5]\n",
        "b = [3,4,5,6,7]\n",
        "\n",
        "for c,v in zip(a,b) :\n",
        "  print(c,v)"
      ],
      "execution_count": 249,
      "outputs": [
        {
          "output_type": "stream",
          "text": [
            "1 3\n",
            "2 4\n",
            "3 5\n",
            "4 6\n",
            "5 7\n"
          ],
          "name": "stdout"
        }
      ]
    },
    {
      "cell_type": "code",
      "metadata": {
        "id": "0gB0fACzsbV5"
      },
      "source": [
        "from tensorflow.keras.utils import to_categorical"
      ],
      "execution_count": 265,
      "outputs": []
    },
    {
      "cell_type": "code",
      "metadata": {
        "id": "PwekPDpppocZ"
      },
      "source": [
        "bg = np.zeros((28,28)) # 그림하나당 할당량\n",
        "quad = [0, 1, 2, 3]  # 4분면\n",
        "pick = np.random.randint(0,4) # 몇 개를 뽑을 지 랜덤으로 정한다\n",
        "pic_bg = list(np.random.choice(quad,pick, replace=False)) # 그림이 그려질 사분면\n",
        "pic_n  = list(np.random.choice(range(60000),pick, replace=False)) # 그림을 미리 뽑는다.\n",
        "slots = [bg, bg, bg, bg]\n",
        "\n",
        "\n",
        "for a,b in zip(pic_bg, pic_n) :\n",
        "  slots[a] = x[pic_n]\n",
        "  y[pic_n] = to_categorical()\n"
      ],
      "execution_count": 253,
      "outputs": []
    },
    {
      "cell_type": "code",
      "metadata": {
        "colab": {
          "base_uri": "https://localhost:8080/"
        },
        "id": "2ldGWJFgqdEt",
        "outputId": "36688951-4578-4715-e22f-1120d8f40e5b"
      },
      "source": [
        "print(pic_bg, pic_n)"
      ],
      "execution_count": 254,
      "outputs": [
        {
          "output_type": "stream",
          "text": [
            "[1, 2] [39709, 5011]\n"
          ],
          "name": "stdout"
        }
      ]
    },
    {
      "cell_type": "code",
      "metadata": {
        "id": "pqUfoizKqghz"
      },
      "source": [
        "for a,b in zip(pic_bg, pic_n) :\n",
        "  slots[a] = train_images[b]"
      ],
      "execution_count": 268,
      "outputs": []
    },
    {
      "cell_type": "code",
      "metadata": {
        "colab": {
          "base_uri": "https://localhost:8080/"
        },
        "id": "2MdqikxLu-Ay",
        "outputId": "f16a95fb-05a1-495e-fe83-fc56bedc865d"
      },
      "source": [
        "slots[3].sum()"
      ],
      "execution_count": 275,
      "outputs": [
        {
          "output_type": "execute_result",
          "data": {
            "text/plain": [
              "0.0"
            ]
          },
          "metadata": {
            "tags": []
          },
          "execution_count": 275
        }
      ]
    },
    {
      "cell_type": "code",
      "metadata": {
        "colab": {
          "base_uri": "https://localhost:8080/"
        },
        "id": "EjSgn33Yqlav",
        "outputId": "1f63ee41-a19e-4f94-a506-b52346599219"
      },
      "source": [
        "train_images[39709].shape"
      ],
      "execution_count": 262,
      "outputs": [
        {
          "output_type": "execute_result",
          "data": {
            "text/plain": [
              "(28, 28)"
            ]
          },
          "metadata": {
            "tags": []
          },
          "execution_count": 262
        }
      ]
    },
    {
      "cell_type": "code",
      "metadata": {
        "colab": {
          "base_uri": "https://localhost:8080/"
        },
        "id": "PIKbb37MsACP",
        "outputId": "940b3e71-c4b1-4a5c-eea6-14068383eb18"
      },
      "source": [
        "to_categorical(train_labels[39709],10)"
      ],
      "execution_count": 266,
      "outputs": [
        {
          "output_type": "execute_result",
          "data": {
            "text/plain": [
              "array([0., 0., 0., 0., 0., 0., 1., 0., 0., 0.], dtype=float32)"
            ]
          },
          "metadata": {
            "tags": []
          },
          "execution_count": 266
        }
      ]
    },
    {
      "cell_type": "code",
      "metadata": {
        "colab": {
          "base_uri": "https://localhost:8080/"
        },
        "id": "T3O42j7LsTNM",
        "outputId": "2be54fd5-817a-4578-c4cb-89cadab32994"
      },
      "source": [
        "pic_bg"
      ],
      "execution_count": 267,
      "outputs": [
        {
          "output_type": "execute_result",
          "data": {
            "text/plain": [
              "[1, 2]"
            ]
          },
          "metadata": {
            "tags": []
          },
          "execution_count": 267
        }
      ]
    },
    {
      "cell_type": "code",
      "metadata": {
        "id": "uZs5lmkKuvsh"
      },
      "source": [
        ""
      ],
      "execution_count": null,
      "outputs": []
    }
  ]
}