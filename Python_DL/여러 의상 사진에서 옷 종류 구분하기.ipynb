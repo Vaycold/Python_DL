{
  "nbformat": 4,
  "nbformat_minor": 0,
  "metadata": {
    "colab": {
      "name": "여러 의상 사진에서 옷 종류 구분하기.ipynb",
      "provenance": [],
      "authorship_tag": "ABX9TyPHqmgQrvK6ITKC7g+XwHWC",
      "include_colab_link": true
    },
    "kernelspec": {
      "name": "python3",
      "display_name": "Python 3"
    },
    "language_info": {
      "name": "python"
    }
  },
  "cells": [
    {
      "cell_type": "markdown",
      "metadata": {
        "id": "view-in-github",
        "colab_type": "text"
      },
      "source": [
        "<a href=\"https://colab.research.google.com/github/moch1996/Vaycold/blob/main/Python_DL/%EC%97%AC%EB%9F%AC%20%EC%9D%98%EC%83%81%20%EC%82%AC%EC%A7%84%EC%97%90%EC%84%9C%20%EC%98%B7%20%EC%A2%85%EB%A5%98%20%EA%B5%AC%EB%B6%84%ED%95%98%EA%B8%B0.ipynb\" target=\"_parent\"><img src=\"https://colab.research.google.com/assets/colab-badge.svg\" alt=\"Open In Colab\"/></a>"
      ]
    },
    {
      "cell_type": "markdown",
      "metadata": {
        "id": "szHq3rqTSM1R"
      },
      "source": [
        "# Goal :\n",
        " - fashion MNIST 이미지를 분류하기\n",
        " - Multi-Class & Multi-Label 구분\n",
        "   - 하나의 사진에 여러 객체가 있을 때 // ex) 한 사진안에 고양이와 독수리가 있을 때 이를 새, 고양이로 분류하는 것\n",
        " - 이미지 확장, 이미지에 객체 삽입"
      ]
    },
    {
      "cell_type": "markdown",
      "metadata": {
        "id": "baiXLrPhSm_e"
      },
      "source": [
        "## Library"
      ]
    },
    {
      "cell_type": "code",
      "metadata": {
        "id": "W0Dnaz4xRfjg"
      },
      "source": [
        "import tensorflow as tf\n",
        "from tensorflow import keras\n",
        "from keras.layers import Dense\n",
        "from keras.models import Sequential\n",
        "\n",
        "import pandas as pd\n",
        "import numpy as np\n",
        "import matplotlib.pyplot as plt\n",
        "import seaborn as sns\n",
        "import warnings\n",
        "from IPython.display import Image\n",
        "from google.colab import drive\n",
        "\n",
        "warnings.filterwarnings('ignore')\n",
        "\n",
        "SEED=34"
      ],
      "execution_count": 7,
      "outputs": []
    },
    {
      "cell_type": "markdown",
      "metadata": {
        "id": "mYCJEwbiTKJI"
      },
      "source": [
        "## 도입전 기본 처리"
      ]
    },
    {
      "cell_type": "code",
      "metadata": {
        "colab": {
          "base_uri": "https://localhost:8080/"
        },
        "id": "zn7w-BGJTIFG",
        "outputId": "80e765d6-cd0b-4018-a221-57098a4592f1"
      },
      "source": [
        "# fashion MNIST 데이터를 살펴보자\n",
        "fashion_mnist = keras.datasets.fashion_mnist\n",
        "((train_images,train_labels),(test_images, test_labels)) = fashion_mnist.load_data()"
      ],
      "execution_count": 8,
      "outputs": [
        {
          "output_type": "stream",
          "text": [
            "Downloading data from https://storage.googleapis.com/tensorflow/tf-keras-datasets/train-labels-idx1-ubyte.gz\n",
            "32768/29515 [=================================] - 0s 0us/step\n",
            "Downloading data from https://storage.googleapis.com/tensorflow/tf-keras-datasets/train-images-idx3-ubyte.gz\n",
            "26427392/26421880 [==============================] - 0s 0us/step\n",
            "Downloading data from https://storage.googleapis.com/tensorflow/tf-keras-datasets/t10k-labels-idx1-ubyte.gz\n",
            "8192/5148 [===============================================] - 0s 0us/step\n",
            "Downloading data from https://storage.googleapis.com/tensorflow/tf-keras-datasets/t10k-images-idx3-ubyte.gz\n",
            "4423680/4422102 [==============================] - 0s 0us/step\n"
          ],
          "name": "stdout"
        }
      ]
    },
    {
      "cell_type": "code",
      "metadata": {
        "colab": {
          "base_uri": "https://localhost:8080/"
        },
        "id": "TvG77WXuVfhy",
        "outputId": "d543c23f-fae0-4ca3-9080-e06e8380d5a5"
      },
      "source": [
        "print(train_images.shape, train_labels.shape)\n",
        "print(test_images.shape, test_labels.shape)"
      ],
      "execution_count": 9,
      "outputs": [
        {
          "output_type": "stream",
          "text": [
            "(60000, 28, 28) (60000,)\n",
            "(10000, 28, 28) (10000,)\n"
          ],
          "name": "stdout"
        }
      ]
    },
    {
      "cell_type": "code",
      "metadata": {
        "id": "00Xk813dVhW_"
      },
      "source": [
        "# label을 설정해보자 \n",
        "# 0이 뭔지 1이 뭔지 모르겠음...\n",
        "labels = [\"T-shirt/top\",   #idx 0\n",
        "          \"Trouser\",       #idx 1\n",
        "          \"Pullover\",      #idx 2\n",
        "          \"Dress\",         #idx 3\n",
        "          \"Coat\",          #idx 4\n",
        "          \"Sandal\",        #idx 5\n",
        "          \"Shirt\",         #idx 6\n",
        "          \"Sneaker\",       #idx 7\n",
        "          \"Bag\",           #idx 8\n",
        "          \"Ankle_boot\"]    #idx 9"
      ],
      "execution_count": 162,
      "outputs": []
    },
    {
      "cell_type": "code",
      "metadata": {
        "id": "KS2m6vr_Yqu1"
      },
      "source": [
        "def idx2label(idx) :\n",
        "  return labels[idx]"
      ],
      "execution_count": 163,
      "outputs": []
    },
    {
      "cell_type": "code",
      "metadata": {
        "colab": {
          "base_uri": "https://localhost:8080/",
          "height": 320
        },
        "id": "OBa7StKdZSAM",
        "outputId": "d798c421-1914-438b-d679-4974e80af2e1"
      },
      "source": [
        "# plt로 형태를 출력해보자\n",
        "\n",
        "plt.imshow(train_images[0], cmap='gray')\n",
        "plt.title(idx2label(train_labels[0]), size=15)\n",
        "plt.show()\n",
        "print('')\n",
        "print(idx2label(train_labels[0]))"
      ],
      "execution_count": 40,
      "outputs": [
        {
          "output_type": "display_data",
          "data": {
            "image/png": "[encoded data removed]",
            "text/plain": [
              "<Figure size 432x288 with 1 Axes>"
            ]
          },
          "metadata": {
            "tags": [],
            "needs_background": "light"
          }
        },
        {
          "output_type": "stream",
          "text": [
            "\n",
            "Ankle boot\n"
          ],
          "name": "stdout"
        }
      ]
    },
    {
      "cell_type": "code",
      "metadata": {
        "id": "0Jui0eSMZalH"
      },
      "source": [
        "# 이걸 함수로 만들어 볼까\n",
        "\n",
        "def train_show(idx) :\n",
        "  plt.imshow(train_images[idx], cmap='gray')\n",
        "  plt.title(idx2label(train_labels[idx]), size=20)\n",
        "  plt.show()"
      ],
      "execution_count": 44,
      "outputs": []
    },
    {
      "cell_type": "code",
      "metadata": {
        "colab": {
          "base_uri": "https://localhost:8080/",
          "height": 286
        },
        "id": "1KB_g7ZyaaQc",
        "outputId": "17e99281-bc47-4359-a6d2-86a166e63f98"
      },
      "source": [
        "train_show(0)"
      ],
      "execution_count": 117,
      "outputs": [
        {
          "output_type": "display_data",
          "data": {
            "image/png": "[encoded data removed]",
            "text/plain": [
              "<Figure size 432x288 with 1 Axes>"
            ]
          },
          "metadata": {
            "tags": [],
            "needs_background": "light"
          }
        }
      ]
    },
    {
      "cell_type": "code",
      "metadata": {
        "colab": {
          "base_uri": "https://localhost:8080/"
        },
        "id": "m55dsjmuabgV",
        "outputId": "cad0168b-97d5-48bb-b245-614547a6ac6d"
      },
      "source": [
        "# train images에서 0이 아닌 값들을 찾아보자\n",
        "\n",
        "train_images[train_images != 0]"
      ],
      "execution_count": 50,
      "outputs": [
        {
          "output_type": "execute_result",
          "data": {
            "text/plain": [
              "array([ 1, 13, 73, ..., 42, 21, 18], dtype=uint8)"
            ]
          },
          "metadata": {
            "tags": []
          },
          "execution_count": 50
        }
      ]
    },
    {
      "cell_type": "code",
      "metadata": {
        "colab": {
          "base_uri": "https://localhost:8080/"
        },
        "id": "6ZwqatquaxYc",
        "outputId": "28ca2b09-90c7-4a9a-8981-a47b4eff9c02"
      },
      "source": [
        "# 이미지의 값이 가장 큰 idx 와 가장 작은 idx를 찾아보자\n",
        "train_images.reshape((60000,-1)).shape"
      ],
      "execution_count": 51,
      "outputs": [
        {
          "output_type": "execute_result",
          "data": {
            "text/plain": [
              "(60000, 784)"
            ]
          },
          "metadata": {
            "tags": []
          },
          "execution_count": 51
        }
      ]
    },
    {
      "cell_type": "code",
      "metadata": {
        "colab": {
          "base_uri": "https://localhost:8080/"
        },
        "id": "2p2be_ZYbhJ0",
        "outputId": "d4b09580-0d49-4fac-8977-56578ecf46e1"
      },
      "source": [
        "print(train_images.reshape((60000,-1)).sum(axis=1).argmax()) #최대값\n",
        "print(train_images.reshape((60000,-1)).sum(axis=1).argmin()) #최소값"
      ],
      "execution_count": 55,
      "outputs": [
        {
          "output_type": "stream",
          "text": [
            "55023\n",
            "9230\n"
          ],
          "name": "stdout"
        }
      ]
    },
    {
      "cell_type": "code",
      "metadata": {
        "colab": {
          "base_uri": "https://localhost:8080/",
          "height": 286
        },
        "id": "wiCjMkQJbreN",
        "outputId": "22a00d48-27b0-4465-fcb1-ec3e586316d3"
      },
      "source": [
        "train_show(train_images.reshape((60000,-1)).sum(axis=1).argmax())"
      ],
      "execution_count": 56,
      "outputs": [
        {
          "output_type": "display_data",
          "data": {
            "image/png": "[encoded data removed]",
            "text/plain": [
              "<Figure size 432x288 with 1 Axes>"
            ]
          },
          "metadata": {
            "tags": [],
            "needs_background": "light"
          }
        }
      ]
    },
    {
      "cell_type": "code",
      "metadata": {
        "colab": {
          "base_uri": "https://localhost:8080/",
          "height": 286
        },
        "id": "K8CHOGvvb_zv",
        "outputId": "9018126b-f877-4609-dbcb-2cc6999f9800"
      },
      "source": [
        "train_show(train_images.reshape((60000,-1)).sum(axis=1).argmin())"
      ],
      "execution_count": 57,
      "outputs": [
        {
          "output_type": "display_data",
          "data": {
            "image/png": "[encoded data removed]",
            "text/plain": [
              "<Figure size 432x288 with 1 Axes>"
            ]
          },
          "metadata": {
            "tags": [],
            "needs_background": "light"
          }
        }
      ]
    },
    {
      "cell_type": "markdown",
      "metadata": {
        "id": "1O3Y_bXwcVNr"
      },
      "source": [
        "## PreProcessing"
      ]
    },
    {
      "cell_type": "code",
      "metadata": {
        "colab": {
          "base_uri": "https://localhost:8080/"
        },
        "id": "fhU_iDMdcYFE",
        "outputId": "60c59afe-9cb8-4428-bb17-102515533dc4"
      },
      "source": [
        "# Train, Test 이미지 데이터 범위 확인\n",
        "print(train_images.max(), train_images.min())\n",
        "print(test_images.max(), test_images.min())"
      ],
      "execution_count": 61,
      "outputs": [
        {
          "output_type": "stream",
          "text": [
            "255 0\n",
            "255 0\n"
          ],
          "name": "stdout"
        }
      ]
    },
    {
      "cell_type": "code",
      "metadata": {
        "colab": {
          "base_uri": "https://localhost:8080/"
        },
        "id": "6VNwUteYeuLM",
        "outputId": "e85432ec-9577-4c2f-d9bd-881d3494646b"
      },
      "source": [
        "print(train_images.dtype)\n",
        "print(test_images.dtype)"
      ],
      "execution_count": 64,
      "outputs": [
        {
          "output_type": "stream",
          "text": [
            "uint8\n",
            "uint8\n"
          ],
          "name": "stdout"
        }
      ]
    },
    {
      "cell_type": "code",
      "metadata": {
        "id": "jYYSBJUGpopI"
      },
      "source": [
        "train_images = train_images.astype(np.float64)\n",
        "test_images = test_images.astype(np.float64)"
      ],
      "execution_count": 65,
      "outputs": []
    },
    {
      "cell_type": "code",
      "metadata": {
        "id": "WFcgvMpbqq8s"
      },
      "source": [
        "# 데이터 정규화\n",
        "\n",
        "train_images = train_images / 255\n",
        "test_images = test_images / 255"
      ],
      "execution_count": 66,
      "outputs": []
    },
    {
      "cell_type": "code",
      "metadata": {
        "id": "uocGixbUrRBb"
      },
      "source": [
        "# 함수로 구현하면 이런 느낌\n",
        "def norm(data) :\n",
        "  min_v = data.min()\n",
        "  max_v = data.max()\n",
        "  return (data - min_v)/(max_v - min_v)"
      ],
      "execution_count": 67,
      "outputs": []
    },
    {
      "cell_type": "code",
      "metadata": {
        "colab": {
          "base_uri": "https://localhost:8080/"
        },
        "id": "8M3p7Dj2re2P",
        "outputId": "45b536a0-ae8c-468e-9b25-c254a7500804"
      },
      "source": [
        "norm(train_images).min(), norm(train_images).max()"
      ],
      "execution_count": 69,
      "outputs": [
        {
          "output_type": "execute_result",
          "data": {
            "text/plain": [
              "(0.0, 1.0)"
            ]
          },
          "metadata": {
            "tags": []
          },
          "execution_count": 69
        }
      ]
    },
    {
      "cell_type": "markdown",
      "metadata": {
        "id": "aA2g_3_8sIz2"
      },
      "source": [
        "## Visualizing"
      ]
    },
    {
      "cell_type": "markdown",
      "metadata": {
        "id": "NsydGZTmtjEl"
      },
      "source": [
        "### random"
      ]
    },
    {
      "cell_type": "code",
      "metadata": {
        "id": "-2JAkyHXrsIu"
      },
      "source": [
        "# 랜덤으로 n장을 가져오고 그것의 plt를 그린 후 label까지 불러와보자.\n",
        "def draw(n) : \n",
        "  label_list = []\n",
        "  idx = list(np.random.randint(0,60001,n))\n",
        "  pic_n = train_images[idx].transpose((1,0,2)).reshape((28,-1))\n",
        "  plt.figure(figsize=(10+(n/2), 12))\n",
        "  plt.imshow(pic_n,cmap='gray')\n",
        "  plt.show()\n",
        "\n",
        "  for i in idx :\n",
        "    label_list.append(idx2label(train_labels[i]))\n",
        "  print('')\n",
        "  for j in label_list :\n",
        "    print(j, sep=' ', end= ' ')\n",
        "#train_images[list(np.random.randint(0,60000,5))].shape\n",
        "#np.random.randin"
      ],
      "execution_count": 157,
      "outputs": []
    },
    {
      "cell_type": "code",
      "metadata": {
        "colab": {
          "base_uri": "https://localhost:8080/",
          "height": 171
        },
        "id": "bCX5hVxfQ5Ko",
        "outputId": "f2aa2ec2-21d6-4fa5-e084-7d21da709069"
      },
      "source": [
        "draw(10)"
      ],
      "execution_count": 165,
      "outputs": [
        {
          "output_type": "display_data",
          "data": {
            "image/png": "[encoded data removed]",
            "text/plain": [
              "<Figure size 1080x864 with 1 Axes>"
            ]
          },
          "metadata": {
            "tags": [],
            "needs_background": "light"
          }
        },
        {
          "output_type": "stream",
          "text": [
            "\n",
            "Coat Bag Sandal Dress Sandal Dress Shirt T-shirt/top Sandal Coat "
          ],
          "name": "stdout"
        }
      ]
    },
    {
      "cell_type": "markdown",
      "metadata": {
        "id": "H54dFqlLto18"
      },
      "source": [
        "### Standard"
      ]
    },
    {
      "cell_type": "code",
      "metadata": {
        "colab": {
          "base_uri": "https://localhost:8080/"
        },
        "id": "q1iy7aBwtrJr",
        "outputId": "d4bd3b09-ce2a-4b9b-9469-a5ec9a3509ad"
      },
      "source": [
        "# (5,28,28) 획득하기\n",
        "train_images[:5].shape"
      ],
      "execution_count": 94,
      "outputs": [
        {
          "output_type": "execute_result",
          "data": {
            "text/plain": [
              "(5, 28, 28)"
            ]
          },
          "metadata": {
            "tags": []
          },
          "execution_count": 94
        }
      ]
    },
    {
      "cell_type": "code",
      "metadata": {
        "colab": {
          "base_uri": "https://localhost:8080/"
        },
        "id": "NuNopkkYtwwz",
        "outputId": "d9161885-a8fb-4a83-a2ac-c8ecb9b17f91"
      },
      "source": [
        "# (28,28*5)로 변환하자\n",
        "train_images[:5].transpose((1,0,2)).reshape((28,-1)).shape"
      ],
      "execution_count": 98,
      "outputs": [
        {
          "output_type": "execute_result",
          "data": {
            "text/plain": [
              "(28, 140)"
            ]
          },
          "metadata": {
            "tags": []
          },
          "execution_count": 98
        }
      ]
    },
    {
      "cell_type": "code",
      "metadata": {
        "colab": {
          "base_uri": "https://localhost:8080/",
          "height": 227
        },
        "id": "NOswLL71utpg",
        "outputId": "ea884746-fb62-460a-f6f8-abf0d39dae38"
      },
      "source": [
        "plt.figure(figsize=(16,12))\n",
        "plt.imshow(train_images[:5].transpose((1,0,2)).reshape((28,-1)),cmap='gray')\n",
        "plt.show()\n"
      ],
      "execution_count": 115,
      "outputs": [
        {
          "output_type": "display_data",
          "data": {
            "image/png": "[encoded data removed]",
            "text/plain": [
              "<Figure size 1152x864 with 1 Axes>"
            ]
          },
          "metadata": {
            "tags": [],
            "needs_background": "light"
          }
        }
      ]
    },
    {
      "cell_type": "code",
      "metadata": {
        "id": "gOg2xgARM4Kc"
      },
      "source": [
        "# 레이블에 따라"
      ],
      "execution_count": null,
      "outputs": []
    }
  ]
}