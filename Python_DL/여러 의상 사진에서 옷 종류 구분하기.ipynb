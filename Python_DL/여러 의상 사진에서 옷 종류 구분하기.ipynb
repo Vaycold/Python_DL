{
  "nbformat": 4,
  "nbformat_minor": 0,
  "metadata": {
    "colab": {
      "name": "여러 의상 사진에서 옷 종류 구분하기.ipynb",
      "provenance": [],
      "authorship_tag": "ABX9TyNEvCqj3DrEDFP41tf2V1iw",
      "include_colab_link": true
    },
    "kernelspec": {
      "name": "python3",
      "display_name": "Python 3"
    },
    "language_info": {
      "name": "python"
    },
    "accelerator": "GPU"
  },
  "cells": [
    {
      "cell_type": "markdown",
      "metadata": {
        "id": "view-in-github",
        "colab_type": "text"
      },
      "source": [
        "<a href=\"https://colab.research.google.com/github/moch1996/Vaycold/blob/main/Python_DL/%EC%97%AC%EB%9F%AC%20%EC%9D%98%EC%83%81%20%EC%82%AC%EC%A7%84%EC%97%90%EC%84%9C%20%EC%98%B7%20%EC%A2%85%EB%A5%98%20%EA%B5%AC%EB%B6%84%ED%95%98%EA%B8%B0.ipynb\" target=\"_parent\"><img src=\"https://colab.research.google.com/assets/colab-badge.svg\" alt=\"Open In Colab\"/></a>"
      ]
    },
    {
      "cell_type": "markdown",
      "metadata": {
        "id": "szHq3rqTSM1R"
      },
      "source": [
        "# Goal :\n",
        " - fashion MNIST 이미지를 분류하기\n",
        " - Multi-Class & Multi-Label 구분\n",
        "   - 하나의 사진에 여러 객체가 있을 때 // ex) 한 사진안에 고양이와 독수리가 있을 때 이를 새, 고양이로 분류하는 것\n",
        " - 이미지 확장, 이미지에 객체 삽입"
      ]
    },
    {
      "cell_type": "markdown",
      "metadata": {
        "id": "baiXLrPhSm_e"
      },
      "source": [
        "## Library"
      ]
    },
    {
      "cell_type": "code",
      "metadata": {
        "id": "W0Dnaz4xRfjg"
      },
      "source": [
        "import tensorflow as tf\n",
        "from tensorflow import keras\n",
        "from keras.layers import Dense\n",
        "from keras.models import Sequential\n",
        "\n",
        "import pandas as pd\n",
        "import numpy as np\n",
        "import matplotlib.pyplot as plt\n",
        "import seaborn as sns\n",
        "import warnings\n",
        "from IPython.display import Image\n",
        "from google.colab import drive\n",
        "\n",
        "warnings.filterwarnings('ignore')\n",
        "\n",
        "SEED=34"
      ],
      "execution_count": 1,
      "outputs": []
    },
    {
      "cell_type": "markdown",
      "metadata": {
        "id": "mYCJEwbiTKJI"
      },
      "source": [
        "## 도입전 기본 처리"
      ]
    },
    {
      "cell_type": "code",
      "metadata": {
        "colab": {
          "base_uri": "https://localhost:8080/"
        },
        "id": "zn7w-BGJTIFG",
        "outputId": "22d05625-18de-4285-9cdc-e79542bd23d7"
      },
      "source": [
        "# fashion MNIST 데이터를 살펴보자\n",
        "fashion_mnist = keras.datasets.fashion_mnist\n",
        "((train_images,train_labels),(test_images, test_labels)) = fashion_mnist.load_data()"
      ],
      "execution_count": 2,
      "outputs": [
        {
          "output_type": "stream",
          "text": [
            "Downloading data from https://storage.googleapis.com/tensorflow/tf-keras-datasets/train-labels-idx1-ubyte.gz\n",
            "32768/29515 [=================================] - 0s 0us/step\n",
            "Downloading data from https://storage.googleapis.com/tensorflow/tf-keras-datasets/train-images-idx3-ubyte.gz\n",
            "26427392/26421880 [==============================] - 0s 0us/step\n",
            "Downloading data from https://storage.googleapis.com/tensorflow/tf-keras-datasets/t10k-labels-idx1-ubyte.gz\n",
            "8192/5148 [===============================================] - 0s 0us/step\n",
            "Downloading data from https://storage.googleapis.com/tensorflow/tf-keras-datasets/t10k-images-idx3-ubyte.gz\n",
            "4423680/4422102 [==============================] - 0s 0us/step\n"
          ],
          "name": "stdout"
        }
      ]
    },
    {
      "cell_type": "code",
      "metadata": {
        "colab": {
          "base_uri": "https://localhost:8080/"
        },
        "id": "TvG77WXuVfhy",
        "outputId": "77b85355-6b2d-4f0c-d849-0cfceb8a7b47"
      },
      "source": [
        "print(train_images.shape, train_labels.shape)\n",
        "print(test_images.shape, test_labels.shape)"
      ],
      "execution_count": 3,
      "outputs": [
        {
          "output_type": "stream",
          "text": [
            "(60000, 28, 28) (60000,)\n",
            "(10000, 28, 28) (10000,)\n"
          ],
          "name": "stdout"
        }
      ]
    },
    {
      "cell_type": "code",
      "metadata": {
        "id": "00Xk813dVhW_"
      },
      "source": [
        "# label을 설정해보자 \n",
        "# 0이 뭔지 1이 뭔지 모르겠음...\n",
        "labels = [\"T-shirt/top\",   #idx 0\n",
        "          \"Trouser\",       #idx 1\n",
        "          \"Pullover\",      #idx 2\n",
        "          \"Dress\",         #idx 3\n",
        "          \"Coat\",          #idx 4\n",
        "          \"Sandal\",        #idx 5\n",
        "          \"Shirt\",         #idx 6\n",
        "          \"Sneaker\",       #idx 7\n",
        "          \"Bag\",           #idx 8\n",
        "          \"Ankle_boot\"]    #idx 9"
      ],
      "execution_count": 4,
      "outputs": []
    },
    {
      "cell_type": "code",
      "metadata": {
        "id": "KS2m6vr_Yqu1"
      },
      "source": [
        "def idx2label(idx) :\n",
        "  return labels[idx]"
      ],
      "execution_count": 5,
      "outputs": []
    },
    {
      "cell_type": "code",
      "metadata": {
        "colab": {
          "base_uri": "https://localhost:8080/",
          "height": 320
        },
        "id": "OBa7StKdZSAM",
        "outputId": "b3f53b21-416a-4f6a-d01c-2d52cf72501c"
      },
      "source": [
        "# plt로 형태를 출력해보자\n",
        "\n",
        "plt.imshow(train_images[0], cmap='gray')\n",
        "plt.title(idx2label(train_labels[0]), size=15)\n",
        "plt.show()\n",
        "print('')\n",
        "print(idx2label(train_labels[0]))"
      ],
      "execution_count": 6,
      "outputs": [
        {
          "output_type": "display_data",
          "data": {
            "image/png": "[encoded data removed]",
            "text/plain": [
              "<Figure size 432x288 with 1 Axes>"
            ]
          },
          "metadata": {
            "tags": [],
            "needs_background": "light"
          }
        },
        {
          "output_type": "stream",
          "text": [
            "\n",
            "Ankle_boot\n"
          ],
          "name": "stdout"
        }
      ]
    },
    {
      "cell_type": "code",
      "metadata": {
        "id": "0Jui0eSMZalH"
      },
      "source": [
        "# 이걸 함수로 만들어 볼까\n",
        "\n",
        "def train_show(idx) :\n",
        "  plt.imshow(train_images[idx], cmap='gray')\n",
        "  plt.title(idx2label(train_labels[idx]), size=20)\n",
        "  plt.show()"
      ],
      "execution_count": 7,
      "outputs": []
    },
    {
      "cell_type": "code",
      "metadata": {
        "colab": {
          "base_uri": "https://localhost:8080/",
          "height": 286
        },
        "id": "1KB_g7ZyaaQc",
        "outputId": "8d0e5b9c-9e9d-4999-f126-09386599da60"
      },
      "source": [
        "train_show(0)"
      ],
      "execution_count": 8,
      "outputs": [
        {
          "output_type": "display_data",
          "data": {
            "image/png": "[encoded data removed]",
            "text/plain": [
              "<Figure size 432x288 with 1 Axes>"
            ]
          },
          "metadata": {
            "tags": [],
            "needs_background": "light"
          }
        }
      ]
    },
    {
      "cell_type": "code",
      "metadata": {
        "colab": {
          "base_uri": "https://localhost:8080/"
        },
        "id": "m55dsjmuabgV",
        "outputId": "cdb97569-0c89-4e38-a34a-e145ce37bea1"
      },
      "source": [
        "# train images에서 0이 아닌 값들을 찾아보자\n",
        "\n",
        "train_images[train_images != 0]"
      ],
      "execution_count": 9,
      "outputs": [
        {
          "output_type": "execute_result",
          "data": {
            "text/plain": [
              "array([ 1, 13, 73, ..., 42, 21, 18], dtype=uint8)"
            ]
          },
          "metadata": {
            "tags": []
          },
          "execution_count": 9
        }
      ]
    },
    {
      "cell_type": "code",
      "metadata": {
        "colab": {
          "base_uri": "https://localhost:8080/"
        },
        "id": "6ZwqatquaxYc",
        "outputId": "522e5e3b-d0c5-4e07-f25b-a4e689109762"
      },
      "source": [
        "# 이미지의 값이 가장 큰 idx 와 가장 작은 idx를 찾아보자\n",
        "train_images.reshape((60000,-1)).shape"
      ],
      "execution_count": 10,
      "outputs": [
        {
          "output_type": "execute_result",
          "data": {
            "text/plain": [
              "(60000, 784)"
            ]
          },
          "metadata": {
            "tags": []
          },
          "execution_count": 10
        }
      ]
    },
    {
      "cell_type": "code",
      "metadata": {
        "colab": {
          "base_uri": "https://localhost:8080/"
        },
        "id": "2p2be_ZYbhJ0",
        "outputId": "89e93feb-956c-4dad-a02e-d2af8048b004"
      },
      "source": [
        "print(train_images.reshape((60000,-1)).sum(axis=1).argmax()) #최대값\n",
        "print(train_images.reshape((60000,-1)).sum(axis=1).argmin()) #최소값"
      ],
      "execution_count": 11,
      "outputs": [
        {
          "output_type": "stream",
          "text": [
            "55023\n",
            "9230\n"
          ],
          "name": "stdout"
        }
      ]
    },
    {
      "cell_type": "code",
      "metadata": {
        "colab": {
          "base_uri": "https://localhost:8080/",
          "height": 286
        },
        "id": "wiCjMkQJbreN",
        "outputId": "4e9d391c-0393-4187-fa24-9b0dcb6992a9"
      },
      "source": [
        "train_show(train_images.reshape((60000,-1)).sum(axis=1).argmax())"
      ],
      "execution_count": 12,
      "outputs": [
        {
          "output_type": "display_data",
          "data": {
            "image/png": "[encoded data removed]",
            "text/plain": [
              "<Figure size 432x288 with 1 Axes>"
            ]
          },
          "metadata": {
            "tags": [],
            "needs_background": "light"
          }
        }
      ]
    },
    {
      "cell_type": "code",
      "metadata": {
        "colab": {
          "base_uri": "https://localhost:8080/",
          "height": 286
        },
        "id": "K8CHOGvvb_zv",
        "outputId": "07b42869-baf6-47a3-8abc-69bfb79a44d2"
      },
      "source": [
        "train_show(train_images.reshape((60000,-1)).sum(axis=1).argmin())"
      ],
      "execution_count": 13,
      "outputs": [
        {
          "output_type": "display_data",
          "data": {
            "image/png": "[encoded data removed]",
            "text/plain": [
              "<Figure size 432x288 with 1 Axes>"
            ]
          },
          "metadata": {
            "tags": [],
            "needs_background": "light"
          }
        }
      ]
    },
    {
      "cell_type": "markdown",
      "metadata": {
        "id": "1O3Y_bXwcVNr"
      },
      "source": [
        "## PreProcessing"
      ]
    },
    {
      "cell_type": "code",
      "metadata": {
        "colab": {
          "base_uri": "https://localhost:8080/"
        },
        "id": "fhU_iDMdcYFE",
        "outputId": "ce15336c-1ed5-479f-e52a-5d01c92e6a35"
      },
      "source": [
        "# Train, Test 이미지 데이터 범위 확인\n",
        "print(train_images.max(), train_images.min())\n",
        "print(test_images.max(), test_images.min())"
      ],
      "execution_count": 14,
      "outputs": [
        {
          "output_type": "stream",
          "text": [
            "255 0\n",
            "255 0\n"
          ],
          "name": "stdout"
        }
      ]
    },
    {
      "cell_type": "code",
      "metadata": {
        "colab": {
          "base_uri": "https://localhost:8080/"
        },
        "id": "6VNwUteYeuLM",
        "outputId": "a53b1633-483f-45bd-aea2-77fae8e61429"
      },
      "source": [
        "print(train_images.dtype)\n",
        "print(test_images.dtype)"
      ],
      "execution_count": 15,
      "outputs": [
        {
          "output_type": "stream",
          "text": [
            "uint8\n",
            "uint8\n"
          ],
          "name": "stdout"
        }
      ]
    },
    {
      "cell_type": "code",
      "metadata": {
        "id": "jYYSBJUGpopI"
      },
      "source": [
        "train_images = train_images.astype(np.float64)\n",
        "test_images = test_images.astype(np.float64)"
      ],
      "execution_count": 16,
      "outputs": []
    },
    {
      "cell_type": "code",
      "metadata": {
        "id": "WFcgvMpbqq8s"
      },
      "source": [
        "# 데이터 정규화\n",
        "\n",
        "train_images = train_images / 255\n",
        "test_images = test_images / 255"
      ],
      "execution_count": 17,
      "outputs": []
    },
    {
      "cell_type": "code",
      "metadata": {
        "id": "uocGixbUrRBb"
      },
      "source": [
        "# 함수로 구현하면 이런 느낌\n",
        "def norm(data) :\n",
        "  min_v = data.min()\n",
        "  max_v = data.max()\n",
        "  return (data - min_v)/(max_v - min_v)"
      ],
      "execution_count": 18,
      "outputs": []
    },
    {
      "cell_type": "code",
      "metadata": {
        "colab": {
          "base_uri": "https://localhost:8080/"
        },
        "id": "8M3p7Dj2re2P",
        "outputId": "85b5edd9-0eae-4a01-9e70-b34e854c0506"
      },
      "source": [
        "norm(train_images).min(), norm(train_images).max()"
      ],
      "execution_count": 19,
      "outputs": [
        {
          "output_type": "execute_result",
          "data": {
            "text/plain": [
              "(0.0, 1.0)"
            ]
          },
          "metadata": {
            "tags": []
          },
          "execution_count": 19
        }
      ]
    },
    {
      "cell_type": "markdown",
      "metadata": {
        "id": "aA2g_3_8sIz2"
      },
      "source": [
        "## Visualizing"
      ]
    },
    {
      "cell_type": "markdown",
      "metadata": {
        "id": "NsydGZTmtjEl"
      },
      "source": [
        "### random"
      ]
    },
    {
      "cell_type": "code",
      "metadata": {
        "id": "-2JAkyHXrsIu"
      },
      "source": [
        "# 랜덤으로 n장을 가져오고 그것의 plt를 그린 후 label까지 불러와보자.\n",
        "def draw(n) : \n",
        "  label_list = []\n",
        "  idx = list(np.random.randint(0,60001,n))\n",
        "  pic_n = train_images[idx].transpose((1,0,2)).reshape((28,-1))\n",
        "  plt.figure(figsize=(10+(n/2), 12))\n",
        "  plt.imshow(pic_n,cmap='gray')\n",
        "  plt.show()\n",
        "\n",
        "  for i in idx :\n",
        "    label_list.append(idx2label(train_labels[i]))\n",
        "  print('')\n",
        "  for j in label_list :\n",
        "    print(j, sep=' ', end= ' ')\n",
        "#train_images[list(np.random.randint(0,60000,5))].shape\n",
        "#np.random.randin"
      ],
      "execution_count": 20,
      "outputs": []
    },
    {
      "cell_type": "code",
      "metadata": {
        "colab": {
          "base_uri": "https://localhost:8080/",
          "height": 171
        },
        "id": "bCX5hVxfQ5Ko",
        "outputId": "56202f62-2baf-47e1-e752-ba8f8d285de0"
      },
      "source": [
        "draw(10)"
      ],
      "execution_count": 21,
      "outputs": [
        {
          "output_type": "display_data",
          "data": {
            "image/png": "[encoded data removed]",
            "text/plain": [
              "<Figure size 1080x864 with 1 Axes>"
            ]
          },
          "metadata": {
            "tags": [],
            "needs_background": "light"
          }
        },
        {
          "output_type": "stream",
          "text": [
            "\n",
            "Shirt Sandal Dress Bag Ankle_boot Bag Trouser Sandal Pullover Bag "
          ],
          "name": "stdout"
        }
      ]
    },
    {
      "cell_type": "markdown",
      "metadata": {
        "id": "H54dFqlLto18"
      },
      "source": [
        "### Standard"
      ]
    },
    {
      "cell_type": "code",
      "metadata": {
        "colab": {
          "base_uri": "https://localhost:8080/"
        },
        "id": "q1iy7aBwtrJr",
        "outputId": "a4c8df4d-d668-4216-a76e-dbb348371e7b"
      },
      "source": [
        "# (5,28,28) 획득하기\n",
        "train_images[:5].shape"
      ],
      "execution_count": 22,
      "outputs": [
        {
          "output_type": "execute_result",
          "data": {
            "text/plain": [
              "(5, 28, 28)"
            ]
          },
          "metadata": {
            "tags": []
          },
          "execution_count": 22
        }
      ]
    },
    {
      "cell_type": "code",
      "metadata": {
        "colab": {
          "base_uri": "https://localhost:8080/"
        },
        "id": "NuNopkkYtwwz",
        "outputId": "591a393f-dc57-4cc2-f3ef-9775fb002d47"
      },
      "source": [
        "# (28,28*5)로 변환하자\n",
        "train_images[:5].transpose((1,0,2)).reshape((28,-1)).shape"
      ],
      "execution_count": 23,
      "outputs": [
        {
          "output_type": "execute_result",
          "data": {
            "text/plain": [
              "(28, 140)"
            ]
          },
          "metadata": {
            "tags": []
          },
          "execution_count": 23
        }
      ]
    },
    {
      "cell_type": "code",
      "metadata": {
        "colab": {
          "base_uri": "https://localhost:8080/",
          "height": 227
        },
        "id": "NOswLL71utpg",
        "outputId": "33138065-4d26-44f5-ffad-e07725f98ef1"
      },
      "source": [
        "plt.figure(figsize=(16,12))\n",
        "plt.imshow(train_images[:5].transpose((1,0,2)).reshape((28,-1)),cmap='gray')\n",
        "plt.show()\n"
      ],
      "execution_count": 24,
      "outputs": [
        {
          "output_type": "display_data",
          "data": {
            "image/png": "[encoded data removed]",
            "text/plain": [
              "<Figure size 1152x864 with 1 Axes>"
            ]
          },
          "metadata": {
            "tags": [],
            "needs_background": "light"
          }
        }
      ]
    },
    {
      "cell_type": "code",
      "metadata": {
        "colab": {
          "base_uri": "https://localhost:8080/"
        },
        "id": "gOg2xgARM4Kc",
        "outputId": "5da5520a-059d-4430-ffb5-2506fd279fdc"
      },
      "source": [
        "# 레이블에 따라 5개를 출력하는 함수를 만들어보자\n",
        "# argwhere을 사용하자\n",
        "np.argwhere(train_labels == 7)[:5,...,0] # 뒤에 ...,0은 펴주는 역할을 수행함"
      ],
      "execution_count": 25,
      "outputs": [
        {
          "output_type": "execute_result",
          "data": {
            "text/plain": [
              "array([ 6, 14, 41, 46, 52])"
            ]
          },
          "metadata": {
            "tags": []
          },
          "execution_count": 25
        }
      ]
    },
    {
      "cell_type": "code",
      "metadata": {
        "colab": {
          "base_uri": "https://localhost:8080/"
        },
        "id": "wQOOfP0KS6jj",
        "outputId": "1aebcb41-54d9-4bd2-83d7-e8e14131f112"
      },
      "source": [
        "train_images[np.argwhere(train_labels == 7)[:5,...,0]].transpose((1,0,2)).reshape(28,-1).shape"
      ],
      "execution_count": 26,
      "outputs": [
        {
          "output_type": "execute_result",
          "data": {
            "text/plain": [
              "(28, 140)"
            ]
          },
          "metadata": {
            "tags": []
          },
          "execution_count": 26
        }
      ]
    },
    {
      "cell_type": "code",
      "metadata": {
        "colab": {
          "base_uri": "https://localhost:8080/",
          "height": 118
        },
        "id": "4p7oAUaxTege",
        "outputId": "52e322ff-e2c8-4d0f-e390-e993eab73fd9"
      },
      "source": [
        "plt.imshow(train_images[np.argwhere(train_labels == 2)[:5,...,0]].transpose((1,0,2)).reshape(28,-1))\n",
        "plt.show()"
      ],
      "execution_count": 27,
      "outputs": [
        {
          "output_type": "display_data",
          "data": {
            "image/png": "[encoded data removed]",
            "text/plain": [
              "<Figure size 432x288 with 1 Axes>"
            ]
          },
          "metadata": {
            "tags": [],
            "needs_background": "light"
          }
        }
      ]
    },
    {
      "cell_type": "code",
      "metadata": {
        "id": "j8ITp-jeTp9i"
      },
      "source": [
        ""
      ],
      "execution_count": 27,
      "outputs": []
    },
    {
      "cell_type": "markdown",
      "metadata": {
        "id": "caeC1UDbZx9c"
      },
      "source": [
        "## Data Augmentation\n",
        " - 이미지 확대 및 다객체 추가 방법"
      ]
    },
    {
      "cell_type": "code",
      "metadata": {
        "id": "nmFokj3NZyvc"
      },
      "source": [
        "# 이미지 한장의 크기를 4배로 확대하고, 객체는 4분면 영역중 랜덤으로 1공간에 넣는 함수를 작성해보자\n",
        "\n",
        "def expand(img) :\n",
        "  bg = np.zeros(img.shape)\n",
        "  # 1 0\n",
        "  # 2 3\n",
        "  idx = np.random.randint(0,4)\n",
        "  slots = [bg,bg,bg,bg]\n",
        "  slots[idx] = img\n",
        "  expanded = np.vstack([\n",
        "                        np.hstack(slots[:2]), \n",
        "                        np.hstack(slots[2:])\n",
        "                        \n",
        "  ]\n",
        "  )\n",
        "  return expanded"
      ],
      "execution_count": 28,
      "outputs": []
    },
    {
      "cell_type": "code",
      "metadata": {
        "colab": {
          "base_uri": "https://localhost:8080/",
          "height": 286
        },
        "id": "Qx2N0pZmf8eR",
        "outputId": "c80fe93b-69c4-41ba-9500-032e3d811221"
      },
      "source": [
        "plt.imshow(expand(train_images[0]))"
      ],
      "execution_count": 29,
      "outputs": [
        {
          "output_type": "execute_result",
          "data": {
            "text/plain": [
              "<matplotlib.image.AxesImage at 0x7f675b604250>"
            ]
          },
          "metadata": {
            "tags": []
          },
          "execution_count": 29
        },
        {
          "output_type": "display_data",
          "data": {
            "image/png": "[encoded data removed]",
            "text/plain": [
              "<Figure size 432x288 with 1 Axes>"
            ]
          },
          "metadata": {
            "tags": [],
            "needs_background": "light"
          }
        }
      ]
    },
    {
      "cell_type": "code",
      "metadata": {
        "colab": {
          "base_uri": "https://localhost:8080/"
        },
        "id": "NBZ20KP7f_n4",
        "outputId": "1035a3a5-b861-46bb-aa7a-645f8a53d267"
      },
      "source": [
        "expand(train_images[0]).shape"
      ],
      "execution_count": 30,
      "outputs": [
        {
          "output_type": "execute_result",
          "data": {
            "text/plain": [
              "(56, 56)"
            ]
          },
          "metadata": {
            "tags": []
          },
          "execution_count": 30
        }
      ]
    },
    {
      "cell_type": "code",
      "metadata": {
        "id": "PEOzolBXgVts"
      },
      "source": [
        "# 전체 training셋과 test셋에 적용해보자.\n",
        "train_expand_images = np.array([expand(img) for img in train_images])\n",
        "test_expand_images = np.array([expand(img) for img in test_images])"
      ],
      "execution_count": 31,
      "outputs": []
    },
    {
      "cell_type": "code",
      "metadata": {
        "colab": {
          "base_uri": "https://localhost:8080/"
        },
        "id": "Nz5hahyqhh0W",
        "outputId": "c328e8f5-9899-4dda-e8d3-ffa9b479fc45"
      },
      "source": [
        "train_expand_images.shape, test_expand_images.shape"
      ],
      "execution_count": 32,
      "outputs": [
        {
          "output_type": "execute_result",
          "data": {
            "text/plain": [
              "((60000, 56, 56), (10000, 56, 56))"
            ]
          },
          "metadata": {
            "tags": []
          },
          "execution_count": 32
        }
      ]
    },
    {
      "cell_type": "code",
      "metadata": {
        "id": "yeWKUNKuhkpj",
        "colab": {
          "base_uri": "https://localhost:8080/",
          "height": 72
        },
        "outputId": "da2ee12f-c4fc-4b3b-a469-26b394901c3a"
      },
      "source": [
        "# 4배 이미지 변환함수를 수정하여 이미지 사이즈를 4배 확대 후 객체를 랜덤으로 0~4개 랜덤 4분면에 위치시키는 함수를 만들어보자\n",
        "# 이 과정을 수행하고 나면 하나의 그림에 여러 그림이 들어 갈 수 있으므로 라벨링을 다르게 해줘야 함.\n",
        "# 그래서 인자가 두 개 필요함\n",
        "'''\n",
        "def expand_2(x,y) :\n",
        "\n",
        "  images = []\n",
        "  labels = []\n",
        "\n",
        "  for _ in range(4) :\n",
        "    bg = np.zeros((28,28))\n",
        "    idx = np.random.randint(0,5)\n",
        "\n",
        "    label = np.zeros((10,)) #[0,0,0,.....] \n",
        "    slots = [bg, bg, bg, bg]\n",
        "    \n",
        "  \n",
        "\n",
        "\n",
        "\n",
        "  bg = np.zeros(img.shape)\n",
        "  # 1 0\n",
        "  # 2 3\n",
        "  idx = np.random.randint(0,4)\n",
        "  slots = [bg,bg,bg,bg]\n",
        "  slots[idx] = img\n",
        "  expanded = np.vstack([\n",
        "                        np.hstack(slots[:2]), \n",
        "                        np.hstack(slots[2:])\n",
        "                        \n",
        "  ]\n",
        "  )\n",
        "  return expanded\n",
        "  '''"
      ],
      "execution_count": 33,
      "outputs": [
        {
          "output_type": "execute_result",
          "data": {
            "application/vnd.google.colaboratory.intrinsic+json": {
              "type": "string"
            },
            "text/plain": [
              "'\\ndef expand_2(x,y) :\\n\\n  images = []\\n  labels = []\\n\\n  for _ in range(4) :\\n    bg = np.zeros((28,28))\\n    idx = np.random.randint(0,5)\\n\\n    label = np.zeros((10,)) #[0,0,0,.....] \\n    slots = [bg, bg, bg, bg]\\n    \\n  \\n\\n\\n\\n  bg = np.zeros(img.shape)\\n  # 1 0\\n  # 2 3\\n  idx = np.random.randint(0,4)\\n  slots = [bg,bg,bg,bg]\\n  slots[idx] = img\\n  expanded = np.vstack([\\n                        np.hstack(slots[:2]), \\n                        np.hstack(slots[2:])\\n                        \\n  ]\\n  )\\n  return expanded\\n  '"
            ]
          },
          "metadata": {
            "tags": []
          },
          "execution_count": 33
        }
      ]
    },
    {
      "cell_type": "code",
      "metadata": {
        "id": "5Uo7WS1akNdw"
      },
      "source": [
        "from tensorflow.keras.utils import to_categorical"
      ],
      "execution_count": 37,
      "outputs": []
    },
    {
      "cell_type": "code",
      "metadata": {
        "id": "RXFaPdmJXUEo"
      },
      "source": [
        "def multi_plot(x,y,iterations=3) :\n",
        "  for iter in range(iterations) :\n",
        "  \n",
        "    bg = np.zeros((28,28))\n",
        "    quad = [0, 1, 2, 3]  # 4분면\n",
        "    pick = np.random.randint(1,5) # 몇 개를 뽑을 지 랜덤으로 정한다 # 최소 1개는 나오게하자;;\n",
        "    pic_bg = list(np.random.choice(quad,pick, replace=False)) # 그림이 그려질 사분면\n",
        "    pic_n  = list(np.random.choice(range(x.shape[0]),pick, replace=False)) # 그림을 미리 뽑는다.\n",
        "    slots = [bg, bg, bg, bg]\n",
        "\n",
        "    labels = np.zeros((10,))\n",
        "    for a,b in zip(pic_bg, pic_n) :\n",
        "      slots[a] = x[b]\n",
        "      labels += to_categorical(y[b],10)\n",
        "\n",
        "    picture = np.vstack([\n",
        "                        np.hstack(slots[:2]),\n",
        "                        np.hstack(slots[2:])\n",
        "    ])\n",
        "\n",
        "\n",
        "    labels[labels >=1 ] = 1\n",
        "    plt.imshow(picture)\n",
        "    plt.show()\n",
        "    print(labels)\n",
        "    for idx in list(np.argwhere(labels==1).reshape(-1)) :\n",
        "      print(idx2label(idx))\n",
        "    print('\\n')\n",
        "  #return picture, labels"
      ],
      "execution_count": 38,
      "outputs": []
    },
    {
      "cell_type": "code",
      "metadata": {
        "colab": {
          "base_uri": "https://localhost:8080/",
          "height": 396
        },
        "id": "P3KJe6dUTyqG",
        "outputId": "1c3f84ed-b0be-401a-96bd-45a43bbf6919"
      },
      "source": [
        "multi_plot(train_images, train_labels,1)"
      ],
      "execution_count": 39,
      "outputs": [
        {
          "output_type": "display_data",
          "data": {
            "image/png": "[encoded data removed]",
            "text/plain": [
              "<Figure size 432x288 with 1 Axes>"
            ]
          },
          "metadata": {
            "tags": [],
            "needs_background": "light"
          }
        },
        {
          "output_type": "stream",
          "text": [
            "[0. 1. 0. 0. 1. 1. 1. 0. 0. 0.]\n",
            "Trouser\n",
            "Coat\n",
            "Sandal\n",
            "Shirt\n",
            "\n",
            "\n"
          ],
          "name": "stdout"
        }
      ]
    },
    {
      "cell_type": "code",
      "metadata": {
        "id": "X4lZKONieGf8",
        "outputId": "93f5e3a4-4caf-4125-e8ff-23ca2905a8f6",
        "colab": {
          "base_uri": "https://localhost:8080/",
          "height": 341
        }
      },
      "source": [
        "multi_plot(test_images, test_labels,1)"
      ],
      "execution_count": 40,
      "outputs": [
        {
          "output_type": "display_data",
          "data": {
            "image/png": "[encoded data removed]",
            "text/plain": [
              "<Figure size 432x288 with 1 Axes>"
            ]
          },
          "metadata": {
            "tags": [],
            "needs_background": "light"
          }
        },
        {
          "output_type": "stream",
          "text": [
            "[0. 0. 0. 0. 1. 0. 0. 0. 0. 0.]\n",
            "Coat\n",
            "\n",
            "\n"
          ],
          "name": "stdout"
        }
      ]
    },
    {
      "cell_type": "code",
      "metadata": {
        "id": "eqpmNZibeewc"
      },
      "source": [
        "# ploting말고 값을 출력하는 함수를 다시 만들어보자\n",
        "def expand_bc(x,y) :\n",
        "  bg = np.zeros(x.shape[1:3])\n",
        "  quad = [0,1,2,3]\n",
        "  pick = np.random.randint(1,5)\n",
        "  pic_bg = list(np.random.choice(quad,pick, replace=False))\n",
        "  pic_n  = list(np.random.choice(range(x.shape[0]),pick, replace=False))\n",
        "  slots = [bg, bg, bg, bg]\n",
        "\n",
        "  labels = np.zeros((len(np.unique(y)),))\n",
        "\n",
        "  for a,b in zip(pic_bg, pic_n) :\n",
        "    slots[a] = x[b]\n",
        "    labels += to_categorical(y[b],len(np.unique(y)))\n",
        "  \n",
        "  labels[labels >=1] =1\n",
        "  labels = labels.astype(int)\n",
        "  picture = np.vstack([\n",
        "                        np.hstack(slots[:2]),\n",
        "                        np.hstack(slots[2:])\n",
        "    ])\n",
        "  return picture, labels\n"
      ],
      "execution_count": 42,
      "outputs": []
    },
    {
      "cell_type": "code",
      "metadata": {
        "id": "bMKINEMnhRY7"
      },
      "source": [
        "h = expand_bc(train_images, train_labels)"
      ],
      "execution_count": 43,
      "outputs": []
    },
    {
      "cell_type": "code",
      "metadata": {
        "id": "kIrfJ2AmiBD-",
        "outputId": "c02a1f8d-6688-459f-c7f4-a646b4d52a38",
        "colab": {
          "base_uri": "https://localhost:8080/",
          "height": 267
        }
      },
      "source": [
        "plt.imshow(h[0],cmap='gray')\n",
        "plt.show()"
      ],
      "execution_count": 44,
      "outputs": [
        {
          "output_type": "display_data",
          "data": {
            "image/png": "[encoded data removed]",
            "text/plain": [
              "<Figure size 432x288 with 1 Axes>"
            ]
          },
          "metadata": {
            "tags": [],
            "needs_background": "light"
          }
        }
      ]
    },
    {
      "cell_type": "code",
      "metadata": {
        "id": "VmKAWfc-iHGo"
      },
      "source": [
        "# 4배 이미지 변환을 전체 train/ test 데이터에 실행하여 train_multi_images, train_multi_labels, test_multi_images, test_multi_labels 를 생성하자\n",
        "\n",
        "train_multi_images, train_multi_labels = list(zip(*[expand_bc(train_images, train_labels) for i in train_images]))\n",
        "test_multi_images, test_multi_labels = list(zip(*[expand_bc(test_images, test_labels) for i in test_images]))"
      ],
      "execution_count": 45,
      "outputs": []
    },
    {
      "cell_type": "code",
      "metadata": {
        "id": "04S2gE6gi9SE"
      },
      "source": [
        "# 위에 꺼 돌리는데 15분 13초 걸렸다... 뭔가 좀 이상하다...\n",
        "# 함수를 다르게 한번 짜보자\n",
        "\n",
        "def expand_4times(x_data,y_data) :\n",
        "  images = []\n",
        "  labels = []\n",
        "\n",
        "  for _ in range(4) :\n",
        "    bg = np.zeros((28,28))\n",
        "    obj_count = np.random.randint(0,5)\n",
        "\n",
        "    label = np.zeros((10,))\n",
        "    slots = [bg, bg,bg,bg]\n",
        "\n",
        "    for idx in range(obj_count) :\n",
        "      i = np.random.randint(len(x_data))\n",
        "      slots[idx] = x_data[i]\n",
        "      label += tf.keras.utils.to_categorical(y_data[i],10)\n",
        "    \n",
        "    np.random.shuffle(slots)\n",
        "  \n",
        "  new_img = np.vstack([\n",
        "                       np.hstack(slots[:2]),\n",
        "                       np.hstack(slots[2:])\n",
        "  ])\n",
        "\n",
        "  images.append(new_img)\n",
        "  labels.append((label >=1).astype(np.int))\n",
        "  return np.array(images), np.array(labels)"
      ],
      "execution_count": 51,
      "outputs": []
    },
    {
      "cell_type": "code",
      "metadata": {
        "id": "ysXmdFYFqTEz"
      },
      "source": [
        "train_multi_images, train_multi_labels = list(zip(*[expand_4times(train_images, train_labels) for i in train_images]))\n",
        "test_multi_images, test_multi_labels = list(zip(*[expand_4times(test_images, test_labels) for i in test_images]))"
      ],
      "execution_count": 52,
      "outputs": []
    },
    {
      "cell_type": "code",
      "metadata": {
        "id": "9qq8vIRFqZqf"
      },
      "source": [
        "# 뭐지 14초가 걸렸다.... 뭐가 문제일까..."
      ],
      "execution_count": 53,
      "outputs": []
    },
    {
      "cell_type": "code",
      "metadata": {
        "id": "pNiroJi0rZnJ"
      },
      "source": [
        ""
      ],
      "execution_count": null,
      "outputs": []
    }
  ]
}