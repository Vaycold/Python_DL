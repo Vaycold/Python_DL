{
  "nbformat": 4,
  "nbformat_minor": 0,
  "metadata": {
    "colab": {
      "name": "여러 의상 사진에서 옷 종류 구분하기.ipynb",
      "provenance": [],
      "authorship_tag": "ABX9TyOgruq50UowVkgxnlD8OYlI",
      "include_colab_link": true
    },
    "kernelspec": {
      "name": "python3",
      "display_name": "Python 3"
    },
    "language_info": {
      "name": "python"
    },
    "accelerator": "GPU"
  },
  "cells": [
    {
      "cell_type": "markdown",
      "metadata": {
        "id": "view-in-github",
        "colab_type": "text"
      },
      "source": [
        "<a href=\"https://colab.research.google.com/github/moch1996/Vaycold/blob/main/Python_DL/%EC%97%AC%EB%9F%AC%20%EC%9D%98%EC%83%81%20%EC%82%AC%EC%A7%84%EC%97%90%EC%84%9C%20%EC%98%B7%20%EC%A2%85%EB%A5%98%20%EA%B5%AC%EB%B6%84%ED%95%98%EA%B8%B0.ipynb\" target=\"_parent\"><img src=\"https://colab.research.google.com/assets/colab-badge.svg\" alt=\"Open In Colab\"/></a>"
      ]
    },
    {
      "cell_type": "markdown",
      "metadata": {
        "id": "szHq3rqTSM1R"
      },
      "source": [
        "# Goal :\n",
        " - fashion MNIST 이미지를 분류하기\n",
        " - Multi-Class & Multi-Label 구분\n",
        "   - 하나의 사진에 여러 객체가 있을 때 // ex) 한 사진안에 고양이와 독수리가 있을 때 이를 새, 고양이로 분류하는 것\n",
        " - 이미지 확장, 이미지에 객체 삽입"
      ]
    },
    {
      "cell_type": "markdown",
      "metadata": {
        "id": "baiXLrPhSm_e"
      },
      "source": [
        "## Library"
      ]
    },
    {
      "cell_type": "code",
      "metadata": {
        "id": "W0Dnaz4xRfjg"
      },
      "source": [
        "import tensorflow as tf\n",
        "from tensorflow import keras\n",
        "from keras.layers import Dense\n",
        "from keras.models import Sequential\n",
        "\n",
        "import pandas as pd\n",
        "import numpy as np\n",
        "import matplotlib.pyplot as plt\n",
        "import seaborn as sns\n",
        "import warnings\n",
        "from IPython.display import Image\n",
        "from google.colab import drive\n",
        "\n",
        "warnings.filterwarnings('ignore')\n",
        "\n",
        "SEED=34"
      ],
      "execution_count": 1,
      "outputs": []
    },
    {
      "cell_type": "markdown",
      "metadata": {
        "id": "mYCJEwbiTKJI"
      },
      "source": [
        "## 도입전 기본 처리"
      ]
    },
    {
      "cell_type": "code",
      "metadata": {
        "colab": {
          "base_uri": "https://localhost:8080/"
        },
        "id": "zn7w-BGJTIFG",
        "outputId": "22d05625-18de-4285-9cdc-e79542bd23d7"
      },
      "source": [
        "# fashion MNIST 데이터를 살펴보자\n",
        "fashion_mnist = keras.datasets.fashion_mnist\n",
        "((train_images,train_labels),(test_images, test_labels)) = fashion_mnist.load_data()"
      ],
      "execution_count": 2,
      "outputs": [
        {
          "output_type": "stream",
          "text": [
            "Downloading data from https://storage.googleapis.com/tensorflow/tf-keras-datasets/train-labels-idx1-ubyte.gz\n",
            "32768/29515 [=================================] - 0s 0us/step\n",
            "Downloading data from https://storage.googleapis.com/tensorflow/tf-keras-datasets/train-images-idx3-ubyte.gz\n",
            "26427392/26421880 [==============================] - 0s 0us/step\n",
            "Downloading data from https://storage.googleapis.com/tensorflow/tf-keras-datasets/t10k-labels-idx1-ubyte.gz\n",
            "8192/5148 [===============================================] - 0s 0us/step\n",
            "Downloading data from https://storage.googleapis.com/tensorflow/tf-keras-datasets/t10k-images-idx3-ubyte.gz\n",
            "4423680/4422102 [==============================] - 0s 0us/step\n"
          ],
          "name": "stdout"
        }
      ]
    },
    {
      "cell_type": "code",
      "metadata": {
        "colab": {
          "base_uri": "https://localhost:8080/"
        },
        "id": "TvG77WXuVfhy",
        "outputId": "77b85355-6b2d-4f0c-d849-0cfceb8a7b47"
      },
      "source": [
        "print(train_images.shape, train_labels.shape)\n",
        "print(test_images.shape, test_labels.shape)"
      ],
      "execution_count": 3,
      "outputs": [
        {
          "output_type": "stream",
          "text": [
            "(60000, 28, 28) (60000,)\n",
            "(10000, 28, 28) (10000,)\n"
          ],
          "name": "stdout"
        }
      ]
    },
    {
      "cell_type": "code",
      "metadata": {
        "id": "00Xk813dVhW_"
      },
      "source": [
        "# label을 설정해보자 \n",
        "# 0이 뭔지 1이 뭔지 모르겠음...\n",
        "labels = [\"T-shirt/top\",   #idx 0\n",
        "          \"Trouser\",       #idx 1\n",
        "          \"Pullover\",      #idx 2\n",
        "          \"Dress\",         #idx 3\n",
        "          \"Coat\",          #idx 4\n",
        "          \"Sandal\",        #idx 5\n",
        "          \"Shirt\",         #idx 6\n",
        "          \"Sneaker\",       #idx 7\n",
        "          \"Bag\",           #idx 8\n",
        "          \"Ankle_boot\"]    #idx 9"
      ],
      "execution_count": 4,
      "outputs": []
    },
    {
      "cell_type": "code",
      "metadata": {
        "id": "KS2m6vr_Yqu1"
      },
      "source": [
        "def idx2label(idx) :\n",
        "  return labels[idx]"
      ],
      "execution_count": 5,
      "outputs": []
    },
    {
      "cell_type": "code",
      "metadata": {
        "colab": {
          "base_uri": "https://localhost:8080/",
          "height": 320
        },
        "id": "OBa7StKdZSAM",
        "outputId": "b3f53b21-416a-4f6a-d01c-2d52cf72501c"
      },
      "source": [
        "# plt로 형태를 출력해보자\n",
        "\n",
        "plt.imshow(train_images[0], cmap='gray')\n",
        "plt.title(idx2label(train_labels[0]), size=15)\n",
        "plt.show()\n",
        "print('')\n",
        "print(idx2label(train_labels[0]))"
      ],
      "execution_count": 6,
      "outputs": [
        {
          "output_type": "display_data",
          "data": {
            "image/png": "[encoded data removed]",
            "text/plain": [
              "<Figure size 432x288 with 1 Axes>"
            ]
          },
          "metadata": {
            "tags": [],
            "needs_background": "light"
          }
        },
        {
          "output_type": "stream",
          "text": [
            "\n",
            "Ankle_boot\n"
          ],
          "name": "stdout"
        }
      ]
    },
    {
      "cell_type": "code",
      "metadata": {
        "id": "0Jui0eSMZalH"
      },
      "source": [
        "# 이걸 함수로 만들어 볼까\n",
        "\n",
        "def train_show(idx) :\n",
        "  plt.imshow(train_images[idx], cmap='gray')\n",
        "  plt.title(idx2label(train_labels[idx]), size=20)\n",
        "  plt.show()"
      ],
      "execution_count": 7,
      "outputs": []
    },
    {
      "cell_type": "code",
      "metadata": {
        "colab": {
          "base_uri": "https://localhost:8080/",
          "height": 286
        },
        "id": "1KB_g7ZyaaQc",
        "outputId": "8d0e5b9c-9e9d-4999-f126-09386599da60"
      },
      "source": [
        "train_show(0)"
      ],
      "execution_count": 8,
      "outputs": [
        {
          "output_type": "display_data",
          "data": {
            "image/png": "[encoded data removed]",
            "text/plain": [
              "<Figure size 432x288 with 1 Axes>"
            ]
          },
          "metadata": {
            "tags": [],
            "needs_background": "light"
          }
        }
      ]
    },
    {
      "cell_type": "code",
      "metadata": {
        "colab": {
          "base_uri": "https://localhost:8080/"
        },
        "id": "m55dsjmuabgV",
        "outputId": "cdb97569-0c89-4e38-a34a-e145ce37bea1"
      },
      "source": [
        "# train images에서 0이 아닌 값들을 찾아보자\n",
        "\n",
        "train_images[train_images != 0]"
      ],
      "execution_count": 9,
      "outputs": [
        {
          "output_type": "execute_result",
          "data": {
            "text/plain": [
              "array([ 1, 13, 73, ..., 42, 21, 18], dtype=uint8)"
            ]
          },
          "metadata": {
            "tags": []
          },
          "execution_count": 9
        }
      ]
    },
    {
      "cell_type": "code",
      "metadata": {
        "colab": {
          "base_uri": "https://localhost:8080/"
        },
        "id": "6ZwqatquaxYc",
        "outputId": "522e5e3b-d0c5-4e07-f25b-a4e689109762"
      },
      "source": [
        "# 이미지의 값이 가장 큰 idx 와 가장 작은 idx를 찾아보자\n",
        "train_images.reshape((60000,-1)).shape"
      ],
      "execution_count": 10,
      "outputs": [
        {
          "output_type": "execute_result",
          "data": {
            "text/plain": [
              "(60000, 784)"
            ]
          },
          "metadata": {
            "tags": []
          },
          "execution_count": 10
        }
      ]
    },
    {
      "cell_type": "code",
      "metadata": {
        "colab": {
          "base_uri": "https://localhost:8080/"
        },
        "id": "2p2be_ZYbhJ0",
        "outputId": "89e93feb-956c-4dad-a02e-d2af8048b004"
      },
      "source": [
        "print(train_images.reshape((60000,-1)).sum(axis=1).argmax()) #최대값\n",
        "print(train_images.reshape((60000,-1)).sum(axis=1).argmin()) #최소값"
      ],
      "execution_count": 11,
      "outputs": [
        {
          "output_type": "stream",
          "text": [
            "55023\n",
            "9230\n"
          ],
          "name": "stdout"
        }
      ]
    },
    {
      "cell_type": "code",
      "metadata": {
        "colab": {
          "base_uri": "https://localhost:8080/",
          "height": 286
        },
        "id": "wiCjMkQJbreN",
        "outputId": "4e9d391c-0393-4187-fa24-9b0dcb6992a9"
      },
      "source": [
        "train_show(train_images.reshape((60000,-1)).sum(axis=1).argmax())"
      ],
      "execution_count": 12,
      "outputs": [
        {
          "output_type": "display_data",
          "data": {
            "image/png": "[encoded data removed]",
            "text/plain": [
              "<Figure size 432x288 with 1 Axes>"
            ]
          },
          "metadata": {
            "tags": [],
            "needs_background": "light"
          }
        }
      ]
    },
    {
      "cell_type": "code",
      "metadata": {
        "colab": {
          "base_uri": "https://localhost:8080/",
          "height": 286
        },
        "id": "K8CHOGvvb_zv",
        "outputId": "07b42869-baf6-47a3-8abc-69bfb79a44d2"
      },
      "source": [
        "train_show(train_images.reshape((60000,-1)).sum(axis=1).argmin())"
      ],
      "execution_count": 13,
      "outputs": [
        {
          "output_type": "display_data",
          "data": {
            "image/png": "[encoded data removed]",
            "text/plain": [
              "<Figure size 432x288 with 1 Axes>"
            ]
          },
          "metadata": {
            "tags": [],
            "needs_background": "light"
          }
        }
      ]
    },
    {
      "cell_type": "markdown",
      "metadata": {
        "id": "1O3Y_bXwcVNr"
      },
      "source": [
        "## PreProcessing"
      ]
    },
    {
      "cell_type": "code",
      "metadata": {
        "colab": {
          "base_uri": "https://localhost:8080/"
        },
        "id": "fhU_iDMdcYFE",
        "outputId": "ce15336c-1ed5-479f-e52a-5d01c92e6a35"
      },
      "source": [
        "# Train, Test 이미지 데이터 범위 확인\n",
        "print(train_images.max(), train_images.min())\n",
        "print(test_images.max(), test_images.min())"
      ],
      "execution_count": 14,
      "outputs": [
        {
          "output_type": "stream",
          "text": [
            "255 0\n",
            "255 0\n"
          ],
          "name": "stdout"
        }
      ]
    },
    {
      "cell_type": "code",
      "metadata": {
        "colab": {
          "base_uri": "https://localhost:8080/"
        },
        "id": "6VNwUteYeuLM",
        "outputId": "a53b1633-483f-45bd-aea2-77fae8e61429"
      },
      "source": [
        "print(train_images.dtype)\n",
        "print(test_images.dtype)"
      ],
      "execution_count": 15,
      "outputs": [
        {
          "output_type": "stream",
          "text": [
            "uint8\n",
            "uint8\n"
          ],
          "name": "stdout"
        }
      ]
    },
    {
      "cell_type": "code",
      "metadata": {
        "id": "jYYSBJUGpopI"
      },
      "source": [
        "train_images = train_images.astype(np.float64)\n",
        "test_images = test_images.astype(np.float64)"
      ],
      "execution_count": 16,
      "outputs": []
    },
    {
      "cell_type": "code",
      "metadata": {
        "id": "WFcgvMpbqq8s"
      },
      "source": [
        "# 데이터 정규화\n",
        "\n",
        "train_images = train_images / 255\n",
        "test_images = test_images / 255"
      ],
      "execution_count": 17,
      "outputs": []
    },
    {
      "cell_type": "code",
      "metadata": {
        "id": "uocGixbUrRBb"
      },
      "source": [
        "# 함수로 구현하면 이런 느낌\n",
        "def norm(data) :\n",
        "  min_v = data.min()\n",
        "  max_v = data.max()\n",
        "  return (data - min_v)/(max_v - min_v)"
      ],
      "execution_count": 18,
      "outputs": []
    },
    {
      "cell_type": "code",
      "metadata": {
        "colab": {
          "base_uri": "https://localhost:8080/"
        },
        "id": "8M3p7Dj2re2P",
        "outputId": "85b5edd9-0eae-4a01-9e70-b34e854c0506"
      },
      "source": [
        "norm(train_images).min(), norm(train_images).max()"
      ],
      "execution_count": 19,
      "outputs": [
        {
          "output_type": "execute_result",
          "data": {
            "text/plain": [
              "(0.0, 1.0)"
            ]
          },
          "metadata": {
            "tags": []
          },
          "execution_count": 19
        }
      ]
    },
    {
      "cell_type": "markdown",
      "metadata": {
        "id": "aA2g_3_8sIz2"
      },
      "source": [
        "## Visualizing"
      ]
    },
    {
      "cell_type": "markdown",
      "metadata": {
        "id": "NsydGZTmtjEl"
      },
      "source": [
        "### random"
      ]
    },
    {
      "cell_type": "code",
      "metadata": {
        "id": "-2JAkyHXrsIu"
      },
      "source": [
        "# 랜덤으로 n장을 가져오고 그것의 plt를 그린 후 label까지 불러와보자.\n",
        "def draw(n) : \n",
        "  label_list = []\n",
        "  idx = list(np.random.randint(0,60001,n))\n",
        "  pic_n = train_images[idx].transpose((1,0,2)).reshape((28,-1))\n",
        "  plt.figure(figsize=(10+(n/2), 12))\n",
        "  plt.imshow(pic_n,cmap='gray')\n",
        "  plt.show()\n",
        "\n",
        "  for i in idx :\n",
        "    label_list.append(idx2label(train_labels[i]))\n",
        "  print('')\n",
        "  for j in label_list :\n",
        "    print(j, sep=' ', end= ' ')\n",
        "#train_images[list(np.random.randint(0,60000,5))].shape\n",
        "#np.random.randin"
      ],
      "execution_count": 20,
      "outputs": []
    },
    {
      "cell_type": "code",
      "metadata": {
        "colab": {
          "base_uri": "https://localhost:8080/",
          "height": 171
        },
        "id": "bCX5hVxfQ5Ko",
        "outputId": "56202f62-2baf-47e1-e752-ba8f8d285de0"
      },
      "source": [
        "draw(10)"
      ],
      "execution_count": 21,
      "outputs": [
        {
          "output_type": "display_data",
          "data": {
            "image/png": "[encoded data removed]",
            "text/plain": [
              "<Figure size 1080x864 with 1 Axes>"
            ]
          },
          "metadata": {
            "tags": [],
            "needs_background": "light"
          }
        },
        {
          "output_type": "stream",
          "text": [
            "\n",
            "Shirt Sandal Dress Bag Ankle_boot Bag Trouser Sandal Pullover Bag "
          ],
          "name": "stdout"
        }
      ]
    },
    {
      "cell_type": "markdown",
      "metadata": {
        "id": "H54dFqlLto18"
      },
      "source": [
        "### Standard"
      ]
    },
    {
      "cell_type": "code",
      "metadata": {
        "colab": {
          "base_uri": "https://localhost:8080/"
        },
        "id": "q1iy7aBwtrJr",
        "outputId": "a4c8df4d-d668-4216-a76e-dbb348371e7b"
      },
      "source": [
        "# (5,28,28) 획득하기\n",
        "train_images[:5].shape"
      ],
      "execution_count": 22,
      "outputs": [
        {
          "output_type": "execute_result",
          "data": {
            "text/plain": [
              "(5, 28, 28)"
            ]
          },
          "metadata": {
            "tags": []
          },
          "execution_count": 22
        }
      ]
    },
    {
      "cell_type": "code",
      "metadata": {
        "colab": {
          "base_uri": "https://localhost:8080/"
        },
        "id": "NuNopkkYtwwz",
        "outputId": "591a393f-dc57-4cc2-f3ef-9775fb002d47"
      },
      "source": [
        "# (28,28*5)로 변환하자\n",
        "train_images[:5].transpose((1,0,2)).reshape((28,-1)).shape"
      ],
      "execution_count": 23,
      "outputs": [
        {
          "output_type": "execute_result",
          "data": {
            "text/plain": [
              "(28, 140)"
            ]
          },
          "metadata": {
            "tags": []
          },
          "execution_count": 23
        }
      ]
    },
    {
      "cell_type": "code",
      "metadata": {
        "colab": {
          "base_uri": "https://localhost:8080/",
          "height": 227
        },
        "id": "NOswLL71utpg",
        "outputId": "33138065-4d26-44f5-ffad-e07725f98ef1"
      },
      "source": [
        "plt.figure(figsize=(16,12))\n",
        "plt.imshow(train_images[:5].transpose((1,0,2)).reshape((28,-1)),cmap='gray')\n",
        "plt.show()\n"
      ],
      "execution_count": 24,
      "outputs": [
        {
          "output_type": "display_data",
          "data": {
            "image/png": "[encoded data removed]",
            "text/plain": [
              "<Figure size 1152x864 with 1 Axes>"
            ]
          },
          "metadata": {
            "tags": [],
            "needs_background": "light"
          }
        }
      ]
    },
    {
      "cell_type": "code",
      "metadata": {
        "colab": {
          "base_uri": "https://localhost:8080/"
        },
        "id": "gOg2xgARM4Kc",
        "outputId": "5da5520a-059d-4430-ffb5-2506fd279fdc"
      },
      "source": [
        "# 레이블에 따라 5개를 출력하는 함수를 만들어보자\n",
        "# argwhere을 사용하자\n",
        "np.argwhere(train_labels == 7)[:5,...,0] # 뒤에 ...,0은 펴주는 역할을 수행함"
      ],
      "execution_count": 25,
      "outputs": [
        {
          "output_type": "execute_result",
          "data": {
            "text/plain": [
              "array([ 6, 14, 41, 46, 52])"
            ]
          },
          "metadata": {
            "tags": []
          },
          "execution_count": 25
        }
      ]
    },
    {
      "cell_type": "code",
      "metadata": {
        "colab": {
          "base_uri": "https://localhost:8080/"
        },
        "id": "wQOOfP0KS6jj",
        "outputId": "1aebcb41-54d9-4bd2-83d7-e8e14131f112"
      },
      "source": [
        "train_images[np.argwhere(train_labels == 7)[:5,...,0]].transpose((1,0,2)).reshape(28,-1).shape"
      ],
      "execution_count": 26,
      "outputs": [
        {
          "output_type": "execute_result",
          "data": {
            "text/plain": [
              "(28, 140)"
            ]
          },
          "metadata": {
            "tags": []
          },
          "execution_count": 26
        }
      ]
    },
    {
      "cell_type": "code",
      "metadata": {
        "colab": {
          "base_uri": "https://localhost:8080/",
          "height": 118
        },
        "id": "4p7oAUaxTege",
        "outputId": "52e322ff-e2c8-4d0f-e390-e993eab73fd9"
      },
      "source": [
        "plt.imshow(train_images[np.argwhere(train_labels == 2)[:5,...,0]].transpose((1,0,2)).reshape(28,-1))\n",
        "plt.show()"
      ],
      "execution_count": 27,
      "outputs": [
        {
          "output_type": "display_data",
          "data": {
            "image/png": "[encoded data removed]",
            "text/plain": [
              "<Figure size 432x288 with 1 Axes>"
            ]
          },
          "metadata": {
            "tags": [],
            "needs_background": "light"
          }
        }
      ]
    },
    {
      "cell_type": "code",
      "metadata": {
        "id": "j8ITp-jeTp9i"
      },
      "source": [
        ""
      ],
      "execution_count": 27,
      "outputs": []
    },
    {
      "cell_type": "markdown",
      "metadata": {
        "id": "caeC1UDbZx9c"
      },
      "source": [
        "## Data Augmentation\n",
        " - 이미지 확대 및 다객체 추가 방법"
      ]
    },
    {
      "cell_type": "code",
      "metadata": {
        "id": "nmFokj3NZyvc"
      },
      "source": [
        "# 이미지 한장의 크기를 4배로 확대하고, 객체는 4분면 영역중 랜덤으로 1공간에 넣는 함수를 작성해보자\n",
        "\n",
        "def expand(img) :\n",
        "  bg = np.zeros(img.shape)\n",
        "  # 1 0\n",
        "  # 2 3\n",
        "  idx = np.random.randint(0,4)\n",
        "  slots = [bg,bg,bg,bg]\n",
        "  slots[idx] = img\n",
        "  expanded = np.vstack([\n",
        "                        np.hstack(slots[:2]), \n",
        "                        np.hstack(slots[2:])\n",
        "                        \n",
        "  ]\n",
        "  )\n",
        "  return expanded"
      ],
      "execution_count": 28,
      "outputs": []
    },
    {
      "cell_type": "code",
      "metadata": {
        "colab": {
          "base_uri": "https://localhost:8080/",
          "height": 286
        },
        "id": "Qx2N0pZmf8eR",
        "outputId": "c80fe93b-69c4-41ba-9500-032e3d811221"
      },
      "source": [
        "plt.imshow(expand(train_images[0]))"
      ],
      "execution_count": 29,
      "outputs": [
        {
          "output_type": "execute_result",
          "data": {
            "text/plain": [
              "<matplotlib.image.AxesImage at 0x7f675b604250>"
            ]
          },
          "metadata": {
            "tags": []
          },
          "execution_count": 29
        },
        {
          "output_type": "display_data",
          "data": {
            "image/png": "[encoded data removed]",
            "text/plain": [
              "<Figure size 432x288 with 1 Axes>"
            ]
          },
          "metadata": {
            "tags": [],
            "needs_background": "light"
          }
        }
      ]
    },
    {
      "cell_type": "code",
      "metadata": {
        "colab": {
          "base_uri": "https://localhost:8080/"
        },
        "id": "NBZ20KP7f_n4",
        "outputId": "1035a3a5-b861-46bb-aa7a-645f8a53d267"
      },
      "source": [
        "expand(train_images[0]).shape"
      ],
      "execution_count": 30,
      "outputs": [
        {
          "output_type": "execute_result",
          "data": {
            "text/plain": [
              "(56, 56)"
            ]
          },
          "metadata": {
            "tags": []
          },
          "execution_count": 30
        }
      ]
    },
    {
      "cell_type": "code",
      "metadata": {
        "id": "PEOzolBXgVts"
      },
      "source": [
        "# 전체 training셋과 test셋에 적용해보자.\n",
        "train_expand_images = np.array([expand(img) for img in train_images])\n",
        "test_expand_images = np.array([expand(img) for img in test_images])"
      ],
      "execution_count": 31,
      "outputs": []
    },
    {
      "cell_type": "code",
      "metadata": {
        "colab": {
          "base_uri": "https://localhost:8080/"
        },
        "id": "Nz5hahyqhh0W",
        "outputId": "c328e8f5-9899-4dda-e8d3-ffa9b479fc45"
      },
      "source": [
        "train_expand_images.shape, test_expand_images.shape"
      ],
      "execution_count": 32,
      "outputs": [
        {
          "output_type": "execute_result",
          "data": {
            "text/plain": [
              "((60000, 56, 56), (10000, 56, 56))"
            ]
          },
          "metadata": {
            "tags": []
          },
          "execution_count": 32
        }
      ]
    },
    {
      "cell_type": "code",
      "metadata": {
        "id": "yeWKUNKuhkpj",
        "colab": {
          "base_uri": "https://localhost:8080/",
          "height": 72
        },
        "outputId": "da2ee12f-c4fc-4b3b-a469-26b394901c3a"
      },
      "source": [
        "# 4배 이미지 변환함수를 수정하여 이미지 사이즈를 4배 확대 후 객체를 랜덤으로 0~4개 랜덤 4분면에 위치시키는 함수를 만들어보자\n",
        "# 이 과정을 수행하고 나면 하나의 그림에 여러 그림이 들어 갈 수 있으므로 라벨링을 다르게 해줘야 함.\n",
        "# 그래서 인자가 두 개 필요함\n",
        "'''\n",
        "def expand_2(x,y) :\n",
        "\n",
        "  images = []\n",
        "  labels = []\n",
        "\n",
        "  for _ in range(4) :\n",
        "    bg = np.zeros((28,28))\n",
        "    idx = np.random.randint(0,5)\n",
        "\n",
        "    label = np.zeros((10,)) #[0,0,0,.....] \n",
        "    slots = [bg, bg, bg, bg]\n",
        "    \n",
        "  \n",
        "\n",
        "\n",
        "\n",
        "  bg = np.zeros(img.shape)\n",
        "  # 1 0\n",
        "  # 2 3\n",
        "  idx = np.random.randint(0,4)\n",
        "  slots = [bg,bg,bg,bg]\n",
        "  slots[idx] = img\n",
        "  expanded = np.vstack([\n",
        "                        np.hstack(slots[:2]), \n",
        "                        np.hstack(slots[2:])\n",
        "                        \n",
        "  ]\n",
        "  )\n",
        "  return expanded\n",
        "  '''"
      ],
      "execution_count": 33,
      "outputs": [
        {
          "output_type": "execute_result",
          "data": {
            "application/vnd.google.colaboratory.intrinsic+json": {
              "type": "string"
            },
            "text/plain": [
              "'\\ndef expand_2(x,y) :\\n\\n  images = []\\n  labels = []\\n\\n  for _ in range(4) :\\n    bg = np.zeros((28,28))\\n    idx = np.random.randint(0,5)\\n\\n    label = np.zeros((10,)) #[0,0,0,.....] \\n    slots = [bg, bg, bg, bg]\\n    \\n  \\n\\n\\n\\n  bg = np.zeros(img.shape)\\n  # 1 0\\n  # 2 3\\n  idx = np.random.randint(0,4)\\n  slots = [bg,bg,bg,bg]\\n  slots[idx] = img\\n  expanded = np.vstack([\\n                        np.hstack(slots[:2]), \\n                        np.hstack(slots[2:])\\n                        \\n  ]\\n  )\\n  return expanded\\n  '"
            ]
          },
          "metadata": {
            "tags": []
          },
          "execution_count": 33
        }
      ]
    },
    {
      "cell_type": "code",
      "metadata": {
        "id": "5Uo7WS1akNdw"
      },
      "source": [
        "from tensorflow.keras.utils import to_categorical"
      ],
      "execution_count": 37,
      "outputs": []
    },
    {
      "cell_type": "code",
      "metadata": {
        "id": "RXFaPdmJXUEo"
      },
      "source": [
        "def multi_plot(x,y,iterations=3) :\n",
        "  for iter in range(iterations) :\n",
        "  \n",
        "    bg = np.zeros((28,28))\n",
        "    quad = [0, 1, 2, 3]  # 4분면\n",
        "    pick = np.random.randint(1,5) # 몇 개를 뽑을 지 랜덤으로 정한다 # 최소 1개는 나오게하자;;\n",
        "    pic_bg = list(np.random.choice(quad,pick, replace=False)) # 그림이 그려질 사분면\n",
        "    pic_n  = list(np.random.choice(range(x.shape[0]),pick, replace=False)) # 그림을 미리 뽑는다.\n",
        "    slots = [bg, bg, bg, bg]\n",
        "\n",
        "    labels = np.zeros((10,))\n",
        "    for a,b in zip(pic_bg, pic_n) :\n",
        "      slots[a] = x[b]\n",
        "      labels += to_categorical(y[b],10)\n",
        "\n",
        "    picture = np.vstack([\n",
        "                        np.hstack(slots[:2]),\n",
        "                        np.hstack(slots[2:])\n",
        "    ])\n",
        "\n",
        "\n",
        "    labels[labels >=1 ] = 1\n",
        "    plt.imshow(picture)\n",
        "    plt.show()\n",
        "    print(labels)\n",
        "    for idx in list(np.argwhere(labels==1).reshape(-1)) :\n",
        "      print(idx2label(idx))\n",
        "    print('\\n')\n",
        "  #return picture, labels"
      ],
      "execution_count": 38,
      "outputs": []
    },
    {
      "cell_type": "code",
      "metadata": {
        "colab": {
          "base_uri": "https://localhost:8080/",
          "height": 396
        },
        "id": "P3KJe6dUTyqG",
        "outputId": "1c3f84ed-b0be-401a-96bd-45a43bbf6919"
      },
      "source": [
        "multi_plot(train_images, train_labels,1)"
      ],
      "execution_count": 39,
      "outputs": [
        {
          "output_type": "display_data",
          "data": {
            "image/png": "[encoded data removed]",
            "text/plain": [
              "<Figure size 432x288 with 1 Axes>"
            ]
          },
          "metadata": {
            "tags": [],
            "needs_background": "light"
          }
        },
        {
          "output_type": "stream",
          "text": [
            "[0. 1. 0. 0. 1. 1. 1. 0. 0. 0.]\n",
            "Trouser\n",
            "Coat\n",
            "Sandal\n",
            "Shirt\n",
            "\n",
            "\n"
          ],
          "name": "stdout"
        }
      ]
    },
    {
      "cell_type": "code",
      "metadata": {
        "colab": {
          "base_uri": "https://localhost:8080/",
          "height": 341
        },
        "id": "X4lZKONieGf8",
        "outputId": "93f5e3a4-4caf-4125-e8ff-23ca2905a8f6"
      },
      "source": [
        "multi_plot(test_images, test_labels,1)"
      ],
      "execution_count": 40,
      "outputs": [
        {
          "output_type": "display_data",
          "data": {
            "image/png": "[encoded data removed]",
            "text/plain": [
              "<Figure size 432x288 with 1 Axes>"
            ]
          },
          "metadata": {
            "tags": [],
            "needs_background": "light"
          }
        },
        {
          "output_type": "stream",
          "text": [
            "[0. 0. 0. 0. 1. 0. 0. 0. 0. 0.]\n",
            "Coat\n",
            "\n",
            "\n"
          ],
          "name": "stdout"
        }
      ]
    },
    {
      "cell_type": "code",
      "metadata": {
        "id": "eqpmNZibeewc"
      },
      "source": [
        "# ploting말고 값을 출력하는 함수를 다시 만들어보자\n",
        "def expand_bc(x,y) :\n",
        "  bg = np.zeros(x.shape[1:3])\n",
        "  quad = [0,1,2,3]\n",
        "  pick = np.random.randint(1,5)\n",
        "  pic_bg = list(np.random.choice(quad,pick, replace=False))\n",
        "  pic_n  = list(np.random.choice(range(x.shape[0]),pick, replace=False))\n",
        "  slots = [bg, bg, bg, bg]\n",
        "\n",
        "  labels = np.zeros((len(np.unique(y)),))\n",
        "\n",
        "  for a,b in zip(pic_bg, pic_n) :\n",
        "    slots[a] = x[b]\n",
        "    labels += to_categorical(y[b],len(np.unique(y)))\n",
        "  \n",
        "  labels[labels >=1] =1\n",
        "  labels = labels.astype(int)\n",
        "  picture = np.vstack([\n",
        "                        np.hstack(slots[:2]),\n",
        "                        np.hstack(slots[2:])\n",
        "    ])\n",
        "  return picture, labels\n"
      ],
      "execution_count": 42,
      "outputs": []
    },
    {
      "cell_type": "code",
      "metadata": {
        "id": "bMKINEMnhRY7"
      },
      "source": [
        "h = expand_bc(train_images, train_labels)"
      ],
      "execution_count": 43,
      "outputs": []
    },
    {
      "cell_type": "code",
      "metadata": {
        "colab": {
          "base_uri": "https://localhost:8080/",
          "height": 267
        },
        "id": "kIrfJ2AmiBD-",
        "outputId": "c02a1f8d-6688-459f-c7f4-a646b4d52a38"
      },
      "source": [
        "plt.imshow(h[0],cmap='gray')\n",
        "plt.show()"
      ],
      "execution_count": 44,
      "outputs": [
        {
          "output_type": "display_data",
          "data": {
            "image/png": "[encoded data removed]",
            "text/plain": [
              "<Figure size 432x288 with 1 Axes>"
            ]
          },
          "metadata": {
            "tags": [],
            "needs_background": "light"
          }
        }
      ]
    },
    {
      "cell_type": "code",
      "metadata": {
        "id": "VmKAWfc-iHGo"
      },
      "source": [
        "# 4배 이미지 변환을 전체 train/ test 데이터에 실행하여 train_multi_images, train_multi_labels, test_multi_images, test_multi_labels 를 생성하자\n",
        "\n",
        "train_multi_images, train_multi_labels = list(zip(*[expand_bc(train_images, train_labels) for i in train_images]))\n",
        "test_multi_images, test_multi_labels = list(zip(*[expand_bc(test_images, test_labels) for i in test_images]))"
      ],
      "execution_count": 45,
      "outputs": []
    },
    {
      "cell_type": "code",
      "metadata": {
        "id": "04S2gE6gi9SE"
      },
      "source": [
        "# 위에 꺼 돌리는데 15분 13초 걸렸다... 뭔가 좀 이상하다...\n",
        "# 함수를 다르게 한번 짜보자\n",
        "\n",
        "def expand_4times(x_data,y_data) :\n",
        "  images = []\n",
        "  labels = []\n",
        "\n",
        "  for _ in range(4) :\n",
        "    bg = np.zeros((28,28))\n",
        "    obj_count = np.random.randint(0,5)\n",
        "\n",
        "    label = np.zeros((10,))\n",
        "    slots = [bg, bg,bg,bg]\n",
        "\n",
        "    for idx in range(obj_count) :\n",
        "      i = np.random.randint(len(x_data))\n",
        "      slots[idx] = x_data[i]\n",
        "      label += tf.keras.utils.to_categorical(y_data[i],10)\n",
        "    \n",
        "    np.random.shuffle(slots)\n",
        "  \n",
        "  new_img = np.vstack([\n",
        "                       np.hstack(slots[:2]),\n",
        "                       np.hstack(slots[2:])\n",
        "  ])\n",
        "\n",
        "  images.append(new_img)\n",
        "  labels.append((label >=1).astype(np.int))\n",
        "  return np.array(images), np.array(labels)"
      ],
      "execution_count": 51,
      "outputs": []
    },
    {
      "cell_type": "code",
      "metadata": {
        "id": "ysXmdFYFqTEz"
      },
      "source": [
        "train_multi_images, train_multi_labels = list(zip(*[expand_4times(train_images, train_labels) for i in train_images]))\n",
        "test_multi_images, test_multi_labels = list(zip(*[expand_4times(test_images, test_labels) for i in test_images]))"
      ],
      "execution_count": 65,
      "outputs": []
    },
    {
      "cell_type": "code",
      "metadata": {
        "id": "9qq8vIRFqZqf"
      },
      "source": [
        "# 뭐지 14초가 걸렸다.... 뭐가 문제일까..."
      ],
      "execution_count": 53,
      "outputs": []
    },
    {
      "cell_type": "code",
      "metadata": {
        "colab": {
          "base_uri": "https://localhost:8080/"
        },
        "id": "pNiroJi0rZnJ",
        "outputId": "1e97edeb-20f7-4f7c-8388-5a866387ac43"
      },
      "source": [
        "np.array(train_multi_images).shape # 뭐여 중간에1 이 껴있네"
      ],
      "execution_count": 55,
      "outputs": [
        {
          "output_type": "execute_result",
          "data": {
            "text/plain": [
              "(60000, 1, 56, 56)"
            ]
          },
          "metadata": {
            "tags": []
          },
          "execution_count": 55
        }
      ]
    },
    {
      "cell_type": "code",
      "metadata": {
        "id": "DRYK_fd0tiex",
        "outputId": "719a0163-0ba0-4064-dd9c-931f9137c9b7",
        "colab": {
          "base_uri": "https://localhost:8080/"
        }
      },
      "source": [
        "np.array(train_multi_images)[...,0, :, :].shape"
      ],
      "execution_count": 57,
      "outputs": [
        {
          "output_type": "execute_result",
          "data": {
            "text/plain": [
              "(60000, 56, 56)"
            ]
          },
          "metadata": {
            "tags": []
          },
          "execution_count": 57
        }
      ]
    },
    {
      "cell_type": "code",
      "metadata": {
        "id": "Gz0EXpZDt2fM",
        "outputId": "082b9b06-b6ac-4ddc-a481-6c382ef36730",
        "colab": {
          "base_uri": "https://localhost:8080/"
        }
      },
      "source": [
        "# 이렇게 표시하는게 더 이해하기 쉬움\n",
        "np.array(train_multi_images)[:,0,:,:].shape"
      ],
      "execution_count": 58,
      "outputs": [
        {
          "output_type": "execute_result",
          "data": {
            "text/plain": [
              "(60000, 56, 56)"
            ]
          },
          "metadata": {
            "tags": []
          },
          "execution_count": 58
        }
      ]
    },
    {
      "cell_type": "code",
      "metadata": {
        "id": "8f9RxeuFuFai",
        "outputId": "b1c94626-9d22-4098-f671-117843377882",
        "colab": {
          "base_uri": "https://localhost:8080/"
        }
      },
      "source": [
        "np.array(train_multi_labels).shape # 얘도 바꿔주자"
      ],
      "execution_count": 59,
      "outputs": [
        {
          "output_type": "execute_result",
          "data": {
            "text/plain": [
              "(60000, 1, 10)"
            ]
          },
          "metadata": {
            "tags": []
          },
          "execution_count": 59
        }
      ]
    },
    {
      "cell_type": "code",
      "metadata": {
        "id": "62KAK_mFuQ8M",
        "outputId": "8a66b8fc-d770-488d-9a12-de65c8af3324",
        "colab": {
          "base_uri": "https://localhost:8080/"
        }
      },
      "source": [
        "np.array(train_multi_labels)[:,0,:].shape"
      ],
      "execution_count": 61,
      "outputs": [
        {
          "output_type": "execute_result",
          "data": {
            "text/plain": [
              "(60000, 10)"
            ]
          },
          "metadata": {
            "tags": []
          },
          "execution_count": 61
        }
      ]
    },
    {
      "cell_type": "code",
      "metadata": {
        "id": "xfLF-w9JuVUK"
      },
      "source": [
        "# 데이터셋을 재정의하자\n",
        "train_multi_images = np.array(train_multi_images)[:,0,:,:].reshape(-1,56,56,1)\n",
        "train_multi_labels = np.array(train_multi_labels)[:,0,:]\n",
        "\n",
        "test_multi_images = np.array(test_multi_images)[:,0,:,:].reshape(-1,56,56,1)\n",
        "test_multi_labels = np.array(test_multi_labels)[:,0,:]"
      ],
      "execution_count": 66,
      "outputs": []
    },
    {
      "cell_type": "code",
      "metadata": {
        "id": "8sm4GsEgu0b4",
        "outputId": "25dca86a-3b77-489b-c42f-e16c753654d0",
        "colab": {
          "base_uri": "https://localhost:8080/"
        }
      },
      "source": [
        "train_multi_images.shape, test_multi_images.shape"
      ],
      "execution_count": 68,
      "outputs": [
        {
          "output_type": "execute_result",
          "data": {
            "text/plain": [
              "((60000, 56, 56, 1), (10000, 56, 56, 1))"
            ]
          },
          "metadata": {
            "tags": []
          },
          "execution_count": 68
        }
      ]
    },
    {
      "cell_type": "code",
      "metadata": {
        "id": "zYjYtIZiu3EW"
      },
      "source": [
        "# 개수에 따라 연속된 그림을 보여주는 함수를 작성해보자\n",
        "def filter(obj_count, count=5) :\n",
        "  labels = train_multi_labels.sum(axis=1)\n",
        "  ids = np.argwhere( labels == obj_count)[:count,0]\n",
        "\n",
        "  imgs = train_multi_images[ids][...,0].transpose((1,0,2)).reshape(56,-1)\n",
        "  plt.imshow(imgs)\n",
        "  plt.show()"
      ],
      "execution_count": 69,
      "outputs": []
    },
    {
      "cell_type": "code",
      "metadata": {
        "id": "aRowZaRZwpiT",
        "outputId": "75f83616-7550-4d36-a23a-242ff30f0eb0",
        "colab": {
          "base_uri": "https://localhost:8080/",
          "height": 118
        }
      },
      "source": [
        "filter(3,5)"
      ],
      "execution_count": 84,
      "outputs": [
        {
          "output_type": "display_data",
          "data": {
            "image/png": "[encoded data removed]",
            "text/plain": [
              "<Figure size 432x288 with 1 Axes>"
            ]
          },
          "metadata": {
            "tags": [],
            "needs_background": "light"
          }
        }
      ]
    },
    {
      "cell_type": "code",
      "metadata": {
        "id": "iK42nuDcwqTh",
        "outputId": "ed29e6a2-9347-4a2d-f58a-11360bb57aac",
        "colab": {
          "base_uri": "https://localhost:8080/"
        }
      },
      "source": [
        "# multi label와 train label 차이\n",
        "train_labels[0]"
      ],
      "execution_count": 85,
      "outputs": [
        {
          "output_type": "execute_result",
          "data": {
            "text/plain": [
              "9"
            ]
          },
          "metadata": {
            "tags": []
          },
          "execution_count": 85
        }
      ]
    },
    {
      "cell_type": "code",
      "metadata": {
        "id": "z7OFjEFOxNDk",
        "outputId": "1af3f97a-21b4-4cee-b269-23dc12f38fb7",
        "colab": {
          "base_uri": "https://localhost:8080/"
        }
      },
      "source": [
        "train_multi_labels[3]"
      ],
      "execution_count": 89,
      "outputs": [
        {
          "output_type": "execute_result",
          "data": {
            "text/plain": [
              "array([0, 0, 0, 0, 1, 0, 1, 0, 1, 0])"
            ]
          },
          "metadata": {
            "tags": []
          },
          "execution_count": 89
        }
      ]
    },
    {
      "cell_type": "code",
      "metadata": {
        "id": "dt_cVnkAx7mq",
        "outputId": "5e05e850-6ea0-4e5a-a365-5d595e29758c",
        "colab": {
          "base_uri": "https://localhost:8080/"
        }
      },
      "source": [
        "list(range(0,10))"
      ],
      "execution_count": 96,
      "outputs": [
        {
          "output_type": "execute_result",
          "data": {
            "text/plain": [
              "[0, 1, 2, 3, 4, 5, 6, 7, 8, 9]"
            ]
          },
          "metadata": {
            "tags": []
          },
          "execution_count": 96
        }
      ]
    },
    {
      "cell_type": "code",
      "metadata": {
        "id": "MA3nCgkHxS00",
        "outputId": "bf20b6f6-0690-421a-b2fa-ac93e90473e7",
        "colab": {
          "base_uri": "https://localhost:8080/",
          "height": 283
        }
      },
      "source": [
        "# train label에서 label 들의 분포를 히스토그램으로 보자\n",
        "plt.bar(list(range(0,10)), to_categorical(train_labels).sum(axis=0))\n",
        "\n",
        "# 고르게 분포되있음.\n"
      ],
      "execution_count": 98,
      "outputs": [
        {
          "output_type": "execute_result",
          "data": {
            "text/plain": [
              "<BarContainer object of 10 artists>"
            ]
          },
          "metadata": {
            "tags": []
          },
          "execution_count": 98
        },
        {
          "output_type": "display_data",
          "data": {
            "image/png": "[encoded data removed]",
            "text/plain": [
              "<Figure size 432x288 with 1 Axes>"
            ]
          },
          "metadata": {
            "tags": [],
            "needs_background": "light"
          }
        }
      ]
    },
    {
      "cell_type": "code",
      "metadata": {
        "id": "J5QuKG1Vxrr7",
        "outputId": "7a26f67c-3da1-4718-86ed-2095cb0b1909",
        "colab": {
          "base_uri": "https://localhost:8080/",
          "height": 283
        }
      },
      "source": [
        "# 멀티레이블의 분포도 봐보자\n",
        "\n",
        "plt.bar(list(range(10)), train_multi_labels.sum(axis=0))"
      ],
      "execution_count": 100,
      "outputs": [
        {
          "output_type": "execute_result",
          "data": {
            "text/plain": [
              "<BarContainer object of 10 artists>"
            ]
          },
          "metadata": {
            "tags": []
          },
          "execution_count": 100
        },
        {
          "output_type": "display_data",
          "data": {
            "image/png": "[encoded data removed]",
            "text/plain": [
              "<Figure size 432x288 with 1 Axes>"
            ]
          },
          "metadata": {
            "tags": [],
            "needs_background": "light"
          }
        }
      ]
    },
    {
      "cell_type": "code",
      "metadata": {
        "id": "Dao2I01wyWV6",
        "outputId": "3e2cc0eb-d3c6-49f2-81d1-deb41565a941",
        "colab": {
          "base_uri": "https://localhost:8080/",
          "height": 338
        }
      },
      "source": [
        "# multi images에서 평균 사진의 개수 분포를 구해보자\n",
        "plt.hist(train_multi_labels.sum(axis=1))"
      ],
      "execution_count": 101,
      "outputs": [
        {
          "output_type": "execute_result",
          "data": {
            "text/plain": [
              "(array([11876.,     0., 13391.,     0.,     0., 14877.,     0., 13836.,\n",
              "            0.,  6020.]),\n",
              " array([0. , 0.4, 0.8, 1.2, 1.6, 2. , 2.4, 2.8, 3.2, 3.6, 4. ]),\n",
              " <a list of 10 Patch objects>)"
            ]
          },
          "metadata": {
            "tags": []
          },
          "execution_count": 101
        },
        {
          "output_type": "display_data",
          "data": {
            "image/png": "[encoded data removed]",
            "text/plain": [
              "<Figure size 432x288 with 1 Axes>"
            ]
          },
          "metadata": {
            "tags": [],
            "needs_background": "light"
          }
        }
      ]
    },
    {
      "cell_type": "code",
      "metadata": {
        "id": "I0m7KWNdyndU"
      },
      "source": [
        ""
      ],
      "execution_count": null,
      "outputs": []
    },
    {
      "cell_type": "markdown",
      "metadata": {
        "id": "mFybddn8yuPQ"
      },
      "source": [
        "## Modeling\n",
        " - Transfer Learning\n",
        "   - 학습을 시킨 후 학습한 내용을 바탕으로 다른 모델을 학습시키는 방법"
      ]
    },
    {
      "cell_type": "code",
      "metadata": {
        "id": "4tyQIgp8yu93"
      },
      "source": [
        " # train_expand_images, train_labels로 싱글 label을 처리하는 모델을 생성해보자\n",
        "from keras.layers import Input, MaxPool2D, Conv2D, Dropout, Dense, Flatten, GlobalAveragePooling2D\n",
        "from keras.models import Model"
      ],
      "execution_count": 106,
      "outputs": []
    },
    {
      "cell_type": "code",
      "metadata": {
        "id": "-YdmGA-81mwr"
      },
      "source": [
        "def single_model() :\n",
        "  input = Input((56,56,1))\n",
        "  x = Conv2D(16, 2, padding='same',activation='relu')(input)\n",
        "  x = MaxPool2D(2)(x)\n",
        "  x = Dropout(0.3)(x)\n",
        "\n",
        "  x = Conv2D(32, 2, padding='same',activation='relu')(x)\n",
        "  x = MaxPool2D(2)(x)\n",
        "  x = Dropout(0.3)(x)\n",
        "\n",
        "  x = Conv2D(64, 2, padding='same',activation='relu')(x)\n",
        "  x = MaxPool2D(2)(x)\n",
        "  #x = Flatten()(x) # 요건 모델1\n",
        "  x = GlobalAveragePooling2D()(x) #요건 모델2\n",
        "  x = Dense(10, activation = 'softmax')(x)\n",
        "\n",
        "  return Model(input,x)\n"
      ],
      "execution_count": 112,
      "outputs": []
    },
    {
      "cell_type": "code",
      "metadata": {
        "id": "EQfK-v661uJs",
        "outputId": "7be93034-f2d3-41ef-99c7-5d8074ae2376",
        "colab": {
          "base_uri": "https://localhost:8080/"
        }
      },
      "source": [
        "model = single_model()\n",
        "model.summary()"
      ],
      "execution_count": 111,
      "outputs": [
        {
          "output_type": "stream",
          "text": [
            "Model: \"model\"\n",
            "_________________________________________________________________\n",
            "Layer (type)                 Output Shape              Param #   \n",
            "=================================================================\n",
            "input_3 (InputLayer)         [(None, 56, 56, 1)]       0         \n",
            "_________________________________________________________________\n",
            "conv2d_6 (Conv2D)            (None, 56, 56, 16)        80        \n",
            "_________________________________________________________________\n",
            "max_pooling2d_6 (MaxPooling2 (None, 28, 28, 16)        0         \n",
            "_________________________________________________________________\n",
            "dropout_4 (Dropout)          (None, 28, 28, 16)        0         \n",
            "_________________________________________________________________\n",
            "conv2d_7 (Conv2D)            (None, 28, 28, 32)        2080      \n",
            "_________________________________________________________________\n",
            "max_pooling2d_7 (MaxPooling2 (None, 14, 14, 32)        0         \n",
            "_________________________________________________________________\n",
            "dropout_5 (Dropout)          (None, 14, 14, 32)        0         \n",
            "_________________________________________________________________\n",
            "conv2d_8 (Conv2D)            (None, 14, 14, 64)        8256      \n",
            "_________________________________________________________________\n",
            "max_pooling2d_8 (MaxPooling2 (None, 7, 7, 64)          0         \n",
            "_________________________________________________________________\n",
            "flatten_2 (Flatten)          (None, 3136)              0         \n",
            "_________________________________________________________________\n",
            "dense (Dense)                (None, 10)                31370     \n",
            "=================================================================\n",
            "Total params: 41,786\n",
            "Trainable params: 41,786\n",
            "Non-trainable params: 0\n",
            "_________________________________________________________________\n"
          ],
          "name": "stdout"
        }
      ]
    },
    {
      "cell_type": "code",
      "metadata": {
        "id": "iPOkpRN007wD",
        "outputId": "277b995b-f9b9-427a-ace7-594dd34858bd",
        "colab": {
          "base_uri": "https://localhost:8080/"
        }
      },
      "source": [
        "model2 = single_model()\n",
        "model2.summary() #보면 파라미터가 많이 줄었다."
      ],
      "execution_count": 113,
      "outputs": [
        {
          "output_type": "stream",
          "text": [
            "Model: \"model_1\"\n",
            "_________________________________________________________________\n",
            "Layer (type)                 Output Shape              Param #   \n",
            "=================================================================\n",
            "input_4 (InputLayer)         [(None, 56, 56, 1)]       0         \n",
            "_________________________________________________________________\n",
            "conv2d_9 (Conv2D)            (None, 56, 56, 16)        80        \n",
            "_________________________________________________________________\n",
            "max_pooling2d_9 (MaxPooling2 (None, 28, 28, 16)        0         \n",
            "_________________________________________________________________\n",
            "dropout_6 (Dropout)          (None, 28, 28, 16)        0         \n",
            "_________________________________________________________________\n",
            "conv2d_10 (Conv2D)           (None, 28, 28, 32)        2080      \n",
            "_________________________________________________________________\n",
            "max_pooling2d_10 (MaxPooling (None, 14, 14, 32)        0         \n",
            "_________________________________________________________________\n",
            "dropout_7 (Dropout)          (None, 14, 14, 32)        0         \n",
            "_________________________________________________________________\n",
            "conv2d_11 (Conv2D)           (None, 14, 14, 64)        8256      \n",
            "_________________________________________________________________\n",
            "max_pooling2d_11 (MaxPooling (None, 7, 7, 64)          0         \n",
            "_________________________________________________________________\n",
            "global_average_pooling2d (Gl (None, 64)                0         \n",
            "_________________________________________________________________\n",
            "dense_1 (Dense)              (None, 10)                650       \n",
            "=================================================================\n",
            "Total params: 11,066\n",
            "Trainable params: 11,066\n",
            "Non-trainable params: 0\n",
            "_________________________________________________________________\n"
          ],
          "name": "stdout"
        }
      ]
    },
    {
      "cell_type": "code",
      "metadata": {
        "id": "jDcGNb1r3whZ"
      },
      "source": [
        "# 만든 모델에 loss 와 optimizer, metric을 설정하자\n",
        "model2.compile(loss = 'categorical_crossentropy', optimizer = 'adam', metrics = ['accuracy'])"
      ],
      "execution_count": 114,
      "outputs": []
    },
    {
      "cell_type": "code",
      "metadata": {
        "id": "Xt6h2QMa4ark",
        "outputId": "da89d07d-fe49-4dfd-e2b7-0b682b01ab88",
        "colab": {
          "base_uri": "https://localhost:8080/"
        }
      },
      "source": [
        "train_expand_images.shape\n",
        "# shape이 다르기 때문에 뒤에 1을 붙여주자\n"
      ],
      "execution_count": 115,
      "outputs": [
        {
          "output_type": "execute_result",
          "data": {
            "text/plain": [
              "(60000, 56, 56)"
            ]
          },
          "metadata": {
            "tags": []
          },
          "execution_count": 115
        }
      ]
    },
    {
      "cell_type": "code",
      "metadata": {
        "id": "KfRaiXXS4PB_",
        "outputId": "14ee643a-2168-4bb8-edaa-b48e15c9f296",
        "colab": {
          "base_uri": "https://localhost:8080/"
        }
      },
      "source": [
        "# 모델 학습시키자\n",
        "hist = model2.fit(train_expand_images.reshape((-1,56,56,1)),\n",
        "                  to_categorical(train_labels,10),\n",
        "                  \n",
        "                  validation_data = (test_expand_images.reshape((-1,56,56,1)),\n",
        "                                     to_categorical(test_labels,10))\n",
        "                  ,epochs=15, verbose=1)"
      ],
      "execution_count": 116,
      "outputs": [
        {
          "output_type": "stream",
          "text": [
            "Epoch 1/15\n",
            "1875/1875 [==============================] - 41s 5ms/step - loss: 1.7695 - accuracy: 0.3246 - val_loss: 1.0596 - val_accuracy: 0.6040\n",
            "Epoch 2/15\n",
            "1875/1875 [==============================] - 8s 4ms/step - loss: 0.9950 - accuracy: 0.6293 - val_loss: 0.9025 - val_accuracy: 0.6710\n",
            "Epoch 3/15\n",
            "1875/1875 [==============================] - 8s 5ms/step - loss: 0.8588 - accuracy: 0.6795 - val_loss: 0.7737 - val_accuracy: 0.7225\n",
            "Epoch 4/15\n",
            "1875/1875 [==============================] - 9s 5ms/step - loss: 0.7933 - accuracy: 0.7072 - val_loss: 0.7123 - val_accuracy: 0.7487\n",
            "Epoch 5/15\n",
            "1875/1875 [==============================] - 9s 5ms/step - loss: 0.7396 - accuracy: 0.7298 - val_loss: 0.6678 - val_accuracy: 0.7550\n",
            "Epoch 6/15\n",
            "1875/1875 [==============================] - 9s 5ms/step - loss: 0.6997 - accuracy: 0.7430 - val_loss: 0.6657 - val_accuracy: 0.7629\n",
            "Epoch 7/15\n",
            "1875/1875 [==============================] - 8s 4ms/step - loss: 0.6641 - accuracy: 0.7568 - val_loss: 0.6213 - val_accuracy: 0.7746\n",
            "Epoch 8/15\n",
            "1875/1875 [==============================] - 8s 4ms/step - loss: 0.6405 - accuracy: 0.7679 - val_loss: 0.6010 - val_accuracy: 0.7840\n",
            "Epoch 9/15\n",
            "1875/1875 [==============================] - 8s 4ms/step - loss: 0.6245 - accuracy: 0.7704 - val_loss: 0.5962 - val_accuracy: 0.7855\n",
            "Epoch 10/15\n",
            "1875/1875 [==============================] - 8s 5ms/step - loss: 0.6115 - accuracy: 0.7806 - val_loss: 0.5845 - val_accuracy: 0.7887\n",
            "Epoch 11/15\n",
            "1875/1875 [==============================] - 8s 5ms/step - loss: 0.5987 - accuracy: 0.7841 - val_loss: 0.5676 - val_accuracy: 0.7937\n",
            "Epoch 12/15\n",
            "1875/1875 [==============================] - 8s 4ms/step - loss: 0.5909 - accuracy: 0.7864 - val_loss: 0.5590 - val_accuracy: 0.8027\n",
            "Epoch 13/15\n",
            "1875/1875 [==============================] - 8s 5ms/step - loss: 0.5790 - accuracy: 0.7885 - val_loss: 0.5392 - val_accuracy: 0.8083\n",
            "Epoch 14/15\n",
            "1875/1875 [==============================] - 8s 5ms/step - loss: 0.5662 - accuracy: 0.7931 - val_loss: 0.5357 - val_accuracy: 0.8087\n",
            "Epoch 15/15\n",
            "1875/1875 [==============================] - 8s 4ms/step - loss: 0.5557 - accuracy: 0.7983 - val_loss: 0.5346 - val_accuracy: 0.8110\n"
          ],
          "name": "stdout"
        }
      ]
    },
    {
      "cell_type": "code",
      "metadata": {
        "id": "n9RjfUrV5KoP",
        "outputId": "d756c578-78e2-45b7-c61b-6e0395ab2e19",
        "colab": {
          "base_uri": "https://localhost:8080/",
          "height": 592
        }
      },
      "source": [
        "plt.figure(figsize=(10,10))\n",
        "plt.plot(hist.history['accuracy'], label='accuracy')\n",
        "plt.plot(hist.history['loss'], label='loss')\n",
        "plt.plot(hist.history['val_accuracy'], label='val_accuracy')\n",
        "plt.plot(hist.history['val_loss'], label='val_loss')\n",
        "plt.legend(loc='best')\n",
        "plt.show()"
      ],
      "execution_count": 119,
      "outputs": [
        {
          "output_type": "display_data",
          "data": {
            "image/png": "[encoded data removed]",
            "text/plain": [
              "<Figure size 720x720 with 1 Axes>"
            ]
          },
          "metadata": {
            "tags": [],
            "needs_background": "light"
          }
        }
      ]
    },
    {
      "cell_type": "markdown",
      "metadata": {
        "id": "_BRRaMqZ6Swt"
      },
      "source": [
        "## 결과확인"
      ]
    },
    {
      "cell_type": "code",
      "metadata": {
        "id": "VDN5HW8H69QM",
        "outputId": "4bcf68f7-e021-497d-a4aa-339346d619a5",
        "colab": {
          "base_uri": "https://localhost:8080/"
        }
      },
      "source": [
        "test_expand_images.shape"
      ],
      "execution_count": 120,
      "outputs": [
        {
          "output_type": "execute_result",
          "data": {
            "text/plain": [
              "(10000, 56, 56)"
            ]
          },
          "metadata": {
            "tags": []
          },
          "execution_count": 120
        }
      ]
    },
    {
      "cell_type": "code",
      "metadata": {
        "id": "3dc0LvO36WRq",
        "outputId": "385bd475-5513-4764-b0c2-4afa90a366df",
        "colab": {
          "base_uri": "https://localhost:8080/"
        }
      },
      "source": [
        "# 완성된 모델에서 test_expand_image 중 1장을 넣고 결과를 받아보자\n",
        "res = model2.predict(test_expand_images[0].reshape((1,56,56,1)) )\n",
        "res.shape"
      ],
      "execution_count": 123,
      "outputs": [
        {
          "output_type": "execute_result",
          "data": {
            "text/plain": [
              "(1, 10)"
            ]
          },
          "metadata": {
            "tags": []
          },
          "execution_count": 123
        }
      ]
    },
    {
      "cell_type": "code",
      "metadata": {
        "id": "7rLxwOnG7FIm",
        "outputId": "47742932-869b-4dda-d301-db77f025a541",
        "colab": {
          "base_uri": "https://localhost:8080/",
          "height": 626
        }
      },
      "source": [
        "plt.figure(figsize=(8,10))\n",
        "plt.subplot(211)\n",
        "plt.bar(np.arange(0,10), to_categorical((test_labels)[0],10), color='black')\n",
        "plt.title('correct')\n",
        "\n",
        "plt.subplot(212)\n",
        "plt.bar(np.arange(0,10), res[0], color='gray')\n",
        "plt.ylim(0,1.05)\n",
        "print(idx2label(test_labels[0]))\n",
        "\n",
        "plt.show()"
      ],
      "execution_count": 148,
      "outputs": [
        {
          "output_type": "stream",
          "text": [
            "Ankle_boot\n"
          ],
          "name": "stdout"
        },
        {
          "output_type": "display_data",
          "data": {
            "image/png": "[encoded data removed]",
            "text/plain": [
              "<Figure size 576x720 with 2 Axes>"
            ]
          },
          "metadata": {
            "tags": [],
            "needs_background": "light"
          }
        }
      ]
    },
    {
      "cell_type": "code",
      "metadata": {
        "id": "vZMEBbRM7y1y",
        "outputId": "ea700fc9-0da0-49b4-b60f-ca8c08f2f8cd",
        "colab": {
          "base_uri": "https://localhost:8080/",
          "height": 626
        }
      },
      "source": [
        "res = model2.predict(test_expand_images[1].reshape((1,56,56,1)) )\n",
        "plt.figure(figsize=(8,10))\n",
        "plt.subplot(211)\n",
        "plt.bar(np.arange(0,10), to_categorical((test_labels)[1],10), color='black')\n",
        "plt.title('correct')\n",
        "\n",
        "plt.subplot(212)\n",
        "plt.bar(np.arange(0,10), res[0], color='gray')\n",
        "plt.ylim(0,1.05)\n",
        "print(idx2label(test_labels[1]))\n",
        "\n",
        "plt.show()"
      ],
      "execution_count": 149,
      "outputs": [
        {
          "output_type": "stream",
          "text": [
            "Pullover\n"
          ],
          "name": "stdout"
        },
        {
          "output_type": "display_data",
          "data": {
            "image/png": "[encoded data removed]",
            "text/plain": [
              "<Figure size 576x720 with 2 Axes>"
            ]
          },
          "metadata": {
            "tags": [],
            "needs_background": "light"
          }
        }
      ]
    },
    {
      "cell_type": "code",
      "metadata": {
        "id": "K4m-Zixi9QrR",
        "outputId": "a7fb2ec7-ca0a-4fea-ef1f-647d8c689526",
        "colab": {
          "base_uri": "https://localhost:8080/",
          "height": 626
        }
      },
      "source": [
        "res = model2.predict(test_expand_images[1227].reshape((1,56,56,1)) )\n",
        "plt.figure(figsize=(8,10))\n",
        "plt.subplot(211)\n",
        "plt.bar(np.arange(0,10), to_categorical((test_labels)[1227],10), color='black')\n",
        "plt.title('correct')\n",
        "\n",
        "plt.subplot(212)\n",
        "plt.bar(np.arange(0,10), res[0], color='gray')\n",
        "plt.ylim(0,1.05)\n",
        "print(idx2label(test_labels[1227]))\n",
        "\n",
        "plt.show()"
      ],
      "execution_count": 150,
      "outputs": [
        {
          "output_type": "stream",
          "text": [
            "Ankle_boot\n"
          ],
          "name": "stdout"
        },
        {
          "output_type": "display_data",
          "data": {
            "image/png": "[encoded data removed]",
            "text/plain": [
              "<Figure size 576x720 with 2 Axes>"
            ]
          },
          "metadata": {
            "tags": [],
            "needs_background": "light"
          }
        }
      ]
    },
    {
      "cell_type": "markdown",
      "metadata": {
        "id": "TtXm1dbu-uz9"
      },
      "source": [
        "## 멀티 레이블 모델링"
      ]
    },
    {
      "cell_type": "code",
      "metadata": {
        "id": "eEmVthRIFpVF",
        "outputId": "f5cfe85e-f03b-4a9a-bc4c-e1f311f572c2",
        "colab": {
          "base_uri": "https://localhost:8080/"
        }
      },
      "source": [
        "model2.summary()"
      ],
      "execution_count": 151,
      "outputs": [
        {
          "output_type": "stream",
          "text": [
            "Model: \"model_1\"\n",
            "_________________________________________________________________\n",
            "Layer (type)                 Output Shape              Param #   \n",
            "=================================================================\n",
            "input_4 (InputLayer)         [(None, 56, 56, 1)]       0         \n",
            "_________________________________________________________________\n",
            "conv2d_9 (Conv2D)            (None, 56, 56, 16)        80        \n",
            "_________________________________________________________________\n",
            "max_pooling2d_9 (MaxPooling2 (None, 28, 28, 16)        0         \n",
            "_________________________________________________________________\n",
            "dropout_6 (Dropout)          (None, 28, 28, 16)        0         \n",
            "_________________________________________________________________\n",
            "conv2d_10 (Conv2D)           (None, 28, 28, 32)        2080      \n",
            "_________________________________________________________________\n",
            "max_pooling2d_10 (MaxPooling (None, 14, 14, 32)        0         \n",
            "_________________________________________________________________\n",
            "dropout_7 (Dropout)          (None, 14, 14, 32)        0         \n",
            "_________________________________________________________________\n",
            "conv2d_11 (Conv2D)           (None, 14, 14, 64)        8256      \n",
            "_________________________________________________________________\n",
            "max_pooling2d_11 (MaxPooling (None, 7, 7, 64)          0         \n",
            "_________________________________________________________________\n",
            "global_average_pooling2d (Gl (None, 64)                0         \n",
            "_________________________________________________________________\n",
            "dense_1 (Dense)              (None, 10)                650       \n",
            "=================================================================\n",
            "Total params: 11,066\n",
            "Trainable params: 11,066\n",
            "Non-trainable params: 0\n",
            "_________________________________________________________________\n"
          ],
          "name": "stdout"
        }
      ]
    },
    {
      "cell_type": "code",
      "metadata": {
        "id": "-DQkX5IS-e1-"
      },
      "source": [
        "# train_multi_images와 train_multi_lables를 처리할 수 있는 모델을 만들어보자\n",
        "# 기존 모델을 가져와서 진행 예정 \n",
        "def multi_model (model) :\n",
        "  model.trainable = False # 너 모델 학습 잘됐어 수정하지마 라는 의미 역전파 시행하여도 weight 수정이 되지 않음.\n",
        "  x = model.layers[-2].output\n",
        "  x = Dense(10, activation='sigmoid')(x)\n",
        "\n",
        "  return Model(model.input, x)"
      ],
      "execution_count": 152,
      "outputs": []
    },
    {
      "cell_type": "code",
      "metadata": {
        "id": "4wguEHilGDy8",
        "outputId": "4698d64f-2a0c-4de4-d3b8-77a1ab97c818",
        "colab": {
          "base_uri": "https://localhost:8080/"
        }
      },
      "source": [
        "new_model = multi_model(model2)\n",
        "new_model.summary()"
      ],
      "execution_count": 153,
      "outputs": [
        {
          "output_type": "stream",
          "text": [
            "Model: \"model_2\"\n",
            "_________________________________________________________________\n",
            "Layer (type)                 Output Shape              Param #   \n",
            "=================================================================\n",
            "input_4 (InputLayer)         [(None, 56, 56, 1)]       0         \n",
            "_________________________________________________________________\n",
            "conv2d_9 (Conv2D)            (None, 56, 56, 16)        80        \n",
            "_________________________________________________________________\n",
            "max_pooling2d_9 (MaxPooling2 (None, 28, 28, 16)        0         \n",
            "_________________________________________________________________\n",
            "dropout_6 (Dropout)          (None, 28, 28, 16)        0         \n",
            "_________________________________________________________________\n",
            "conv2d_10 (Conv2D)           (None, 28, 28, 32)        2080      \n",
            "_________________________________________________________________\n",
            "max_pooling2d_10 (MaxPooling (None, 14, 14, 32)        0         \n",
            "_________________________________________________________________\n",
            "dropout_7 (Dropout)          (None, 14, 14, 32)        0         \n",
            "_________________________________________________________________\n",
            "conv2d_11 (Conv2D)           (None, 14, 14, 64)        8256      \n",
            "_________________________________________________________________\n",
            "max_pooling2d_11 (MaxPooling (None, 7, 7, 64)          0         \n",
            "_________________________________________________________________\n",
            "global_average_pooling2d (Gl (None, 64)                0         \n",
            "_________________________________________________________________\n",
            "dense_2 (Dense)              (None, 10)                650       \n",
            "=================================================================\n",
            "Total params: 11,066\n",
            "Trainable params: 650\n",
            "Non-trainable params: 10,416\n",
            "_________________________________________________________________\n"
          ],
          "name": "stdout"
        }
      ]
    },
    {
      "cell_type": "code",
      "metadata": {
        "id": "Z8HzDjt9GJ5g",
        "outputId": "cffb6aa2-7852-40a1-b961-7071976038ff",
        "colab": {
          "base_uri": "https://localhost:8080/"
        }
      },
      "source": [
        "new_model.get_weights()[0]"
      ],
      "execution_count": 156,
      "outputs": [
        {
          "output_type": "execute_result",
          "data": {
            "text/plain": [
              "array([[[[ 1.311164  , -0.20371164, -4.4022994 ,  1.7813236 ,\n",
              "           0.16775514, -3.0814903 ,  1.7631335 ,  1.8322005 ,\n",
              "          -0.3658193 ,  0.76927274,  0.67722785,  1.3513575 ,\n",
              "          -0.019356  ,  1.8341588 , -0.19223051,  1.5028136 ]],\n",
              "\n",
              "        [[ 0.13256685, -0.1958943 ,  0.78696895,  1.9419314 ,\n",
              "          -5.5055547 , -0.9734336 ,  1.6214639 , -1.9043996 ,\n",
              "           0.2365129 ,  1.1631109 ,  1.2599903 , -4.3983245 ,\n",
              "           1.1180391 ,  1.7234399 ,  1.8603323 ,  0.26115853]]],\n",
              "\n",
              "\n",
              "       [[[ 1.9105393 , -0.21453229, -1.7523656 ,  0.03220985,\n",
              "           1.0970275 ,  1.2768195 ,  0.8882688 ,  1.4241133 ,\n",
              "           1.3462284 ,  0.8166761 ,  0.3019651 ,  0.2352023 ,\n",
              "           1.2392888 ,  0.69748473,  0.29158127,  1.1042178 ]],\n",
              "\n",
              "        [[ 0.10735784, -0.03037769,  0.96670586, -0.08769474,\n",
              "          -0.6420977 ,  0.5673872 , -0.4948504 , -3.0498083 ,\n",
              "           2.1738808 ,  1.224117  ,  1.381017  , -0.27123514,\n",
              "           1.3052646 ,  0.27319002,  1.3674781 ,  0.36123312]]]],\n",
              "      dtype=float32)"
            ]
          },
          "metadata": {
            "tags": []
          },
          "execution_count": 156
        }
      ]
    },
    {
      "cell_type": "code",
      "metadata": {
        "id": "PpqhJozqG-8X"
      },
      "source": [
        "new_model.compile(loss='categorical_crossentropy', optimizer='adam', metrics=['accuracy'])"
      ],
      "execution_count": 158,
      "outputs": []
    },
    {
      "cell_type": "code",
      "metadata": {
        "id": "P7f70JV8GTcK",
        "outputId": "0e9a7109-0109-4145-b814-5a64de63e8c3",
        "colab": {
          "base_uri": "https://localhost:8080/",
          "height": 694
        }
      },
      "source": [
        "# train multi image를 학습해보자\n",
        "\n",
        "hist2 = new_model.fit(train_multi_images, train_multi_labels,\n",
        "                      validation_data = (test_multi_images, test_multi_labels),\n",
        "                      epochs = 15,\n",
        "                      verbose = 1)"
      ],
      "execution_count": 159,
      "outputs": [
        {
          "output_type": "stream",
          "text": [
            "Epoch 1/15\n",
            "1875/1875 [==============================] - 7s 4ms/step - loss: 7.6449 - accuracy: 0.1368 - val_loss: 4.4044 - val_accuracy: 0.1809\n",
            "Epoch 2/15\n",
            "1875/1875 [==============================] - 7s 4ms/step - loss: 4.5643 - accuracy: 0.2169 - val_loss: 4.0989 - val_accuracy: 0.2510\n",
            "Epoch 3/15\n",
            "1875/1875 [==============================] - 7s 3ms/step - loss: 4.4156 - accuracy: 0.2459 - val_loss: 4.1022 - val_accuracy: 0.2407\n",
            "Epoch 4/15\n",
            "1875/1875 [==============================] - 6s 3ms/step - loss: 4.3340 - accuracy: 0.2651 - val_loss: 4.0830 - val_accuracy: 0.2531\n",
            "Epoch 5/15\n",
            "1875/1875 [==============================] - 6s 3ms/step - loss: 4.3796 - accuracy: 0.2777 - val_loss: 4.0391 - val_accuracy: 0.2961\n",
            "Epoch 6/15\n",
            "1875/1875 [==============================] - 6s 3ms/step - loss: 4.4440 - accuracy: 0.2888 - val_loss: 4.1033 - val_accuracy: 0.2844\n",
            "Epoch 7/15\n",
            "1875/1875 [==============================] - 6s 3ms/step - loss: 4.5200 - accuracy: 0.2979 - val_loss: 4.1801 - val_accuracy: 0.2974\n",
            "Epoch 8/15\n",
            "1875/1875 [==============================] - 7s 3ms/step - loss: 4.6116 - accuracy: 0.3074 - val_loss: 4.2246 - val_accuracy: 0.3040\n",
            "Epoch 9/15\n",
            "1555/1875 [=======================>......] - ETA: 13s - loss: 4.6994 - accuracy: 0.3233"
          ],
          "name": "stdout"
        },
        {
          "output_type": "error",
          "ename": "KeyboardInterrupt",
          "evalue": "ignored",
          "traceback": [
            "\u001b[0;31m---------------------------------------------------------------------------\u001b[0m",
            "\u001b[0;31mKeyboardInterrupt\u001b[0m                         Traceback (most recent call last)",
            "\u001b[0;32m<ipython-input-159-686f1a7da2bc>\u001b[0m in \u001b[0;36m<module>\u001b[0;34m()\u001b[0m\n\u001b[1;32m      4\u001b[0m                       \u001b[0mvalidation_data\u001b[0m \u001b[0;34m=\u001b[0m \u001b[0;34m(\u001b[0m\u001b[0mtest_multi_images\u001b[0m\u001b[0;34m,\u001b[0m \u001b[0mtest_multi_labels\u001b[0m\u001b[0;34m)\u001b[0m\u001b[0;34m,\u001b[0m\u001b[0;34m\u001b[0m\u001b[0;34m\u001b[0m\u001b[0m\n\u001b[1;32m      5\u001b[0m                       \u001b[0mepochs\u001b[0m \u001b[0;34m=\u001b[0m \u001b[0;36m15\u001b[0m\u001b[0;34m,\u001b[0m\u001b[0;34m\u001b[0m\u001b[0;34m\u001b[0m\u001b[0m\n\u001b[0;32m----> 6\u001b[0;31m                       verbose = 1)\n\u001b[0m",
            "\u001b[0;32m/usr/local/lib/python3.7/dist-packages/tensorflow/python/keras/engine/training.py\u001b[0m in \u001b[0;36mfit\u001b[0;34m(self, x, y, batch_size, epochs, verbose, callbacks, validation_split, validation_data, shuffle, class_weight, sample_weight, initial_epoch, steps_per_epoch, validation_steps, validation_batch_size, validation_freq, max_queue_size, workers, use_multiprocessing)\u001b[0m\n\u001b[1;32m   1098\u001b[0m                 _r=1):\n\u001b[1;32m   1099\u001b[0m               \u001b[0mcallbacks\u001b[0m\u001b[0;34m.\u001b[0m\u001b[0mon_train_batch_begin\u001b[0m\u001b[0;34m(\u001b[0m\u001b[0mstep\u001b[0m\u001b[0;34m)\u001b[0m\u001b[0;34m\u001b[0m\u001b[0;34m\u001b[0m\u001b[0m\n\u001b[0;32m-> 1100\u001b[0;31m               \u001b[0mtmp_logs\u001b[0m \u001b[0;34m=\u001b[0m \u001b[0mself\u001b[0m\u001b[0;34m.\u001b[0m\u001b[0mtrain_function\u001b[0m\u001b[0;34m(\u001b[0m\u001b[0miterator\u001b[0m\u001b[0;34m)\u001b[0m\u001b[0;34m\u001b[0m\u001b[0;34m\u001b[0m\u001b[0m\n\u001b[0m\u001b[1;32m   1101\u001b[0m               \u001b[0;32mif\u001b[0m \u001b[0mdata_handler\u001b[0m\u001b[0;34m.\u001b[0m\u001b[0mshould_sync\u001b[0m\u001b[0;34m:\u001b[0m\u001b[0;34m\u001b[0m\u001b[0;34m\u001b[0m\u001b[0m\n\u001b[1;32m   1102\u001b[0m                 \u001b[0mcontext\u001b[0m\u001b[0;34m.\u001b[0m\u001b[0masync_wait\u001b[0m\u001b[0;34m(\u001b[0m\u001b[0;34m)\u001b[0m\u001b[0;34m\u001b[0m\u001b[0;34m\u001b[0m\u001b[0m\n",
            "\u001b[0;32m/usr/local/lib/python3.7/dist-packages/tensorflow/python/eager/def_function.py\u001b[0m in \u001b[0;36m__call__\u001b[0;34m(self, *args, **kwds)\u001b[0m\n\u001b[1;32m    826\u001b[0m     \u001b[0mtracing_count\u001b[0m \u001b[0;34m=\u001b[0m \u001b[0mself\u001b[0m\u001b[0;34m.\u001b[0m\u001b[0mexperimental_get_tracing_count\u001b[0m\u001b[0;34m(\u001b[0m\u001b[0;34m)\u001b[0m\u001b[0;34m\u001b[0m\u001b[0;34m\u001b[0m\u001b[0m\n\u001b[1;32m    827\u001b[0m     \u001b[0;32mwith\u001b[0m \u001b[0mtrace\u001b[0m\u001b[0;34m.\u001b[0m\u001b[0mTrace\u001b[0m\u001b[0;34m(\u001b[0m\u001b[0mself\u001b[0m\u001b[0;34m.\u001b[0m\u001b[0m_name\u001b[0m\u001b[0;34m)\u001b[0m \u001b[0;32mas\u001b[0m \u001b[0mtm\u001b[0m\u001b[0;34m:\u001b[0m\u001b[0;34m\u001b[0m\u001b[0;34m\u001b[0m\u001b[0m\n\u001b[0;32m--> 828\u001b[0;31m       \u001b[0mresult\u001b[0m \u001b[0;34m=\u001b[0m \u001b[0mself\u001b[0m\u001b[0;34m.\u001b[0m\u001b[0m_call\u001b[0m\u001b[0;34m(\u001b[0m\u001b[0;34m*\u001b[0m\u001b[0margs\u001b[0m\u001b[0;34m,\u001b[0m \u001b[0;34m**\u001b[0m\u001b[0mkwds\u001b[0m\u001b[0;34m)\u001b[0m\u001b[0;34m\u001b[0m\u001b[0;34m\u001b[0m\u001b[0m\n\u001b[0m\u001b[1;32m    829\u001b[0m       \u001b[0mcompiler\u001b[0m \u001b[0;34m=\u001b[0m \u001b[0;34m\"xla\"\u001b[0m \u001b[0;32mif\u001b[0m \u001b[0mself\u001b[0m\u001b[0;34m.\u001b[0m\u001b[0m_experimental_compile\u001b[0m \u001b[0;32melse\u001b[0m \u001b[0;34m\"nonXla\"\u001b[0m\u001b[0;34m\u001b[0m\u001b[0;34m\u001b[0m\u001b[0m\n\u001b[1;32m    830\u001b[0m       \u001b[0mnew_tracing_count\u001b[0m \u001b[0;34m=\u001b[0m \u001b[0mself\u001b[0m\u001b[0;34m.\u001b[0m\u001b[0mexperimental_get_tracing_count\u001b[0m\u001b[0;34m(\u001b[0m\u001b[0;34m)\u001b[0m\u001b[0;34m\u001b[0m\u001b[0;34m\u001b[0m\u001b[0m\n",
            "\u001b[0;32m/usr/local/lib/python3.7/dist-packages/tensorflow/python/eager/def_function.py\u001b[0m in \u001b[0;36m_call\u001b[0;34m(self, *args, **kwds)\u001b[0m\n\u001b[1;32m    853\u001b[0m       \u001b[0;31m# In this case we have created variables on the first call, so we run the\u001b[0m\u001b[0;34m\u001b[0m\u001b[0;34m\u001b[0m\u001b[0;34m\u001b[0m\u001b[0m\n\u001b[1;32m    854\u001b[0m       \u001b[0;31m# defunned version which is guaranteed to never create variables.\u001b[0m\u001b[0;34m\u001b[0m\u001b[0;34m\u001b[0m\u001b[0;34m\u001b[0m\u001b[0m\n\u001b[0;32m--> 855\u001b[0;31m       \u001b[0;32mreturn\u001b[0m \u001b[0mself\u001b[0m\u001b[0;34m.\u001b[0m\u001b[0m_stateless_fn\u001b[0m\u001b[0;34m(\u001b[0m\u001b[0;34m*\u001b[0m\u001b[0margs\u001b[0m\u001b[0;34m,\u001b[0m \u001b[0;34m**\u001b[0m\u001b[0mkwds\u001b[0m\u001b[0;34m)\u001b[0m  \u001b[0;31m# pylint: disable=not-callable\u001b[0m\u001b[0;34m\u001b[0m\u001b[0;34m\u001b[0m\u001b[0m\n\u001b[0m\u001b[1;32m    856\u001b[0m     \u001b[0;32melif\u001b[0m \u001b[0mself\u001b[0m\u001b[0;34m.\u001b[0m\u001b[0m_stateful_fn\u001b[0m \u001b[0;32mis\u001b[0m \u001b[0;32mnot\u001b[0m \u001b[0;32mNone\u001b[0m\u001b[0;34m:\u001b[0m\u001b[0;34m\u001b[0m\u001b[0;34m\u001b[0m\u001b[0m\n\u001b[1;32m    857\u001b[0m       \u001b[0;31m# Release the lock early so that multiple threads can perform the call\u001b[0m\u001b[0;34m\u001b[0m\u001b[0;34m\u001b[0m\u001b[0;34m\u001b[0m\u001b[0m\n",
            "\u001b[0;32m/usr/local/lib/python3.7/dist-packages/tensorflow/python/eager/function.py\u001b[0m in \u001b[0;36m__call__\u001b[0;34m(self, *args, **kwargs)\u001b[0m\n\u001b[1;32m   2941\u001b[0m        filtered_flat_args) = self._maybe_define_function(args, kwargs)\n\u001b[1;32m   2942\u001b[0m     return graph_function._call_flat(\n\u001b[0;32m-> 2943\u001b[0;31m         filtered_flat_args, captured_inputs=graph_function.captured_inputs)  # pylint: disable=protected-access\n\u001b[0m\u001b[1;32m   2944\u001b[0m \u001b[0;34m\u001b[0m\u001b[0m\n\u001b[1;32m   2945\u001b[0m   \u001b[0;34m@\u001b[0m\u001b[0mproperty\u001b[0m\u001b[0;34m\u001b[0m\u001b[0;34m\u001b[0m\u001b[0m\n",
            "\u001b[0;32m/usr/local/lib/python3.7/dist-packages/tensorflow/python/eager/function.py\u001b[0m in \u001b[0;36m_call_flat\u001b[0;34m(self, args, captured_inputs, cancellation_manager)\u001b[0m\n\u001b[1;32m   1917\u001b[0m       \u001b[0;31m# No tape is watching; skip to running the function.\u001b[0m\u001b[0;34m\u001b[0m\u001b[0;34m\u001b[0m\u001b[0;34m\u001b[0m\u001b[0m\n\u001b[1;32m   1918\u001b[0m       return self._build_call_outputs(self._inference_function.call(\n\u001b[0;32m-> 1919\u001b[0;31m           ctx, args, cancellation_manager=cancellation_manager))\n\u001b[0m\u001b[1;32m   1920\u001b[0m     forward_backward = self._select_forward_and_backward_functions(\n\u001b[1;32m   1921\u001b[0m         \u001b[0margs\u001b[0m\u001b[0;34m,\u001b[0m\u001b[0;34m\u001b[0m\u001b[0;34m\u001b[0m\u001b[0m\n",
            "\u001b[0;32m/usr/local/lib/python3.7/dist-packages/tensorflow/python/eager/function.py\u001b[0m in \u001b[0;36mcall\u001b[0;34m(self, ctx, args, cancellation_manager)\u001b[0m\n\u001b[1;32m    558\u001b[0m               \u001b[0minputs\u001b[0m\u001b[0;34m=\u001b[0m\u001b[0margs\u001b[0m\u001b[0;34m,\u001b[0m\u001b[0;34m\u001b[0m\u001b[0;34m\u001b[0m\u001b[0m\n\u001b[1;32m    559\u001b[0m               \u001b[0mattrs\u001b[0m\u001b[0;34m=\u001b[0m\u001b[0mattrs\u001b[0m\u001b[0;34m,\u001b[0m\u001b[0;34m\u001b[0m\u001b[0;34m\u001b[0m\u001b[0m\n\u001b[0;32m--> 560\u001b[0;31m               ctx=ctx)\n\u001b[0m\u001b[1;32m    561\u001b[0m         \u001b[0;32melse\u001b[0m\u001b[0;34m:\u001b[0m\u001b[0;34m\u001b[0m\u001b[0;34m\u001b[0m\u001b[0m\n\u001b[1;32m    562\u001b[0m           outputs = execute.execute_with_cancellation(\n",
            "\u001b[0;32m/usr/local/lib/python3.7/dist-packages/tensorflow/python/eager/execute.py\u001b[0m in \u001b[0;36mquick_execute\u001b[0;34m(op_name, num_outputs, inputs, attrs, ctx, name)\u001b[0m\n\u001b[1;32m     58\u001b[0m     \u001b[0mctx\u001b[0m\u001b[0;34m.\u001b[0m\u001b[0mensure_initialized\u001b[0m\u001b[0;34m(\u001b[0m\u001b[0;34m)\u001b[0m\u001b[0;34m\u001b[0m\u001b[0;34m\u001b[0m\u001b[0m\n\u001b[1;32m     59\u001b[0m     tensors = pywrap_tfe.TFE_Py_Execute(ctx._handle, device_name, op_name,\n\u001b[0;32m---> 60\u001b[0;31m                                         inputs, attrs, num_outputs)\n\u001b[0m\u001b[1;32m     61\u001b[0m   \u001b[0;32mexcept\u001b[0m \u001b[0mcore\u001b[0m\u001b[0;34m.\u001b[0m\u001b[0m_NotOkStatusException\u001b[0m \u001b[0;32mas\u001b[0m \u001b[0me\u001b[0m\u001b[0;34m:\u001b[0m\u001b[0;34m\u001b[0m\u001b[0;34m\u001b[0m\u001b[0m\n\u001b[1;32m     62\u001b[0m     \u001b[0;32mif\u001b[0m \u001b[0mname\u001b[0m \u001b[0;32mis\u001b[0m \u001b[0;32mnot\u001b[0m \u001b[0;32mNone\u001b[0m\u001b[0;34m:\u001b[0m\u001b[0;34m\u001b[0m\u001b[0;34m\u001b[0m\u001b[0m\n",
            "\u001b[0;31mKeyboardInterrupt\u001b[0m: "
          ]
        }
      ]
    },
    {
      "cell_type": "code",
      "metadata": {
        "id": "LJEmz9JJHJY_"
      },
      "source": [
        ""
      ],
      "execution_count": null,
      "outputs": []
    }
  ]
}