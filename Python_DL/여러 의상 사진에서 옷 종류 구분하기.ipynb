{
  "nbformat": 4,
  "nbformat_minor": 0,
  "metadata": {
    "colab": {
      "name": "여러 의상 사진에서 옷 종류 구분하기.ipynb",
      "provenance": [],
      "authorship_tag": "ABX9TyNCPR7peBRidKG1JUsa4CzE",
      "include_colab_link": true
    },
    "kernelspec": {
      "name": "python3",
      "display_name": "Python 3"
    },
    "language_info": {
      "name": "python"
    }
  },
  "cells": [
    {
      "cell_type": "markdown",
      "metadata": {
        "id": "view-in-github",
        "colab_type": "text"
      },
      "source": [
        "<a href=\"https://colab.research.google.com/github/moch1996/Vaycold/blob/main/Python_DL/%EC%97%AC%EB%9F%AC%20%EC%9D%98%EC%83%81%20%EC%82%AC%EC%A7%84%EC%97%90%EC%84%9C%20%EC%98%B7%20%EC%A2%85%EB%A5%98%20%EA%B5%AC%EB%B6%84%ED%95%98%EA%B8%B0.ipynb\" target=\"_parent\"><img src=\"https://colab.research.google.com/assets/colab-badge.svg\" alt=\"Open In Colab\"/></a>"
      ]
    },
    {
      "cell_type": "markdown",
      "metadata": {
        "id": "szHq3rqTSM1R"
      },
      "source": [
        "# Goal :\n",
        " - fashion MNIST 이미지를 분류하기\n",
        " - Multi-Class & Multi-Label 구분\n",
        "   - 하나의 사진에 여러 객체가 있을 때 // ex) 한 사진안에 고양이와 독수리가 있을 때 이를 새, 고양이로 분류하는 것\n",
        " - 이미지 확장, 이미지에 객체 삽입"
      ]
    },
    {
      "cell_type": "markdown",
      "metadata": {
        "id": "baiXLrPhSm_e"
      },
      "source": [
        "## Library"
      ]
    },
    {
      "cell_type": "code",
      "metadata": {
        "id": "W0Dnaz4xRfjg"
      },
      "source": [
        "import tensorflow as tf\n",
        "from tensorflow import keras\n",
        "from keras.layers import Dense\n",
        "from keras.models import Sequential\n",
        "\n",
        "import pandas as pd\n",
        "import numpy as np\n",
        "import matplotlib.pyplot as plt\n",
        "import seaborn as sns\n",
        "import warnings\n",
        "from IPython.display import Image\n",
        "from google.colab import drive\n",
        "\n",
        "warnings.filterwarnings('ignore')\n",
        "\n",
        "SEED=34"
      ],
      "execution_count": 1,
      "outputs": []
    },
    {
      "cell_type": "markdown",
      "metadata": {
        "id": "mYCJEwbiTKJI"
      },
      "source": [
        "## 도입전 기본 처리"
      ]
    },
    {
      "cell_type": "code",
      "metadata": {
        "colab": {
          "base_uri": "https://localhost:8080/"
        },
        "id": "zn7w-BGJTIFG",
        "outputId": "3bc7bf62-2c53-43e6-c4c1-c19ca988a122"
      },
      "source": [
        "# fashion MNIST 데이터를 살펴보자\n",
        "fashion_mnist = keras.datasets.fashion_mnist\n",
        "((train_images,train_labels),(test_images, test_labels)) = fashion_mnist.load_data()"
      ],
      "execution_count": 2,
      "outputs": [
        {
          "output_type": "stream",
          "text": [
            "Downloading data from https://storage.googleapis.com/tensorflow/tf-keras-datasets/train-labels-idx1-ubyte.gz\n",
            "32768/29515 [=================================] - 0s 0us/step\n",
            "Downloading data from https://storage.googleapis.com/tensorflow/tf-keras-datasets/train-images-idx3-ubyte.gz\n",
            "26427392/26421880 [==============================] - 0s 0us/step\n",
            "Downloading data from https://storage.googleapis.com/tensorflow/tf-keras-datasets/t10k-labels-idx1-ubyte.gz\n",
            "8192/5148 [===============================================] - 0s 0us/step\n",
            "Downloading data from https://storage.googleapis.com/tensorflow/tf-keras-datasets/t10k-images-idx3-ubyte.gz\n",
            "4423680/4422102 [==============================] - 0s 0us/step\n"
          ],
          "name": "stdout"
        }
      ]
    },
    {
      "cell_type": "code",
      "metadata": {
        "colab": {
          "base_uri": "https://localhost:8080/"
        },
        "id": "TvG77WXuVfhy",
        "outputId": "1ef6d2a7-e991-4891-bf7e-24f5ceb57462"
      },
      "source": [
        "print(train_images.shape, train_labels.shape)\n",
        "print(test_images.shape, test_labels.shape)"
      ],
      "execution_count": 3,
      "outputs": [
        {
          "output_type": "stream",
          "text": [
            "(60000, 28, 28) (60000,)\n",
            "(10000, 28, 28) (10000,)\n"
          ],
          "name": "stdout"
        }
      ]
    },
    {
      "cell_type": "code",
      "metadata": {
        "id": "00Xk813dVhW_"
      },
      "source": [
        "# label을 설정해보자 \n",
        "# 0이 뭔지 1이 뭔지 모르겠음...\n",
        "labels = [\"T-shirt/top\",   #idx 0\n",
        "          \"Trouser\",       #idx 1\n",
        "          \"Pullover\",      #idx 2\n",
        "          \"Dress\",         #idx 3\n",
        "          \"Coat\",          #idx 4\n",
        "          \"Sandal\",        #idx 5\n",
        "          \"Shirt\",         #idx 6\n",
        "          \"Sneaker\",       #idx 7\n",
        "          \"Bag\",           #idx 8\n",
        "          \"Ankle_boot\"]    #idx 9"
      ],
      "execution_count": 4,
      "outputs": []
    },
    {
      "cell_type": "code",
      "metadata": {
        "id": "KS2m6vr_Yqu1"
      },
      "source": [
        "def idx2label(idx) :\n",
        "  return labels[idx]"
      ],
      "execution_count": 5,
      "outputs": []
    },
    {
      "cell_type": "code",
      "metadata": {
        "colab": {
          "base_uri": "https://localhost:8080/",
          "height": 320
        },
        "id": "OBa7StKdZSAM",
        "outputId": "b9094da7-09e9-446c-df16-ea3184728d2c"
      },
      "source": [
        "# plt로 형태를 출력해보자\n",
        "\n",
        "plt.imshow(train_images[0], cmap='gray')\n",
        "plt.title(idx2label(train_labels[0]), size=15)\n",
        "plt.show()\n",
        "print('')\n",
        "print(idx2label(train_labels[0]))"
      ],
      "execution_count": 6,
      "outputs": [
        {
          "output_type": "display_data",
          "data": {
            "image/png": "[encoded data removed]",
            "text/plain": [
              "<Figure size 432x288 with 1 Axes>"
            ]
          },
          "metadata": {
            "tags": [],
            "needs_background": "light"
          }
        },
        {
          "output_type": "stream",
          "text": [
            "\n",
            "Ankle_boot\n"
          ],
          "name": "stdout"
        }
      ]
    },
    {
      "cell_type": "code",
      "metadata": {
        "id": "0Jui0eSMZalH"
      },
      "source": [
        "# 이걸 함수로 만들어 볼까\n",
        "\n",
        "def train_show(idx) :\n",
        "  plt.imshow(train_images[idx], cmap='gray')\n",
        "  plt.title(idx2label(train_labels[idx]), size=20)\n",
        "  plt.show()"
      ],
      "execution_count": 7,
      "outputs": []
    },
    {
      "cell_type": "code",
      "metadata": {
        "colab": {
          "base_uri": "https://localhost:8080/",
          "height": 286
        },
        "id": "1KB_g7ZyaaQc",
        "outputId": "bd2628e4-7119-4570-c2b6-8ab08c7d4e4e"
      },
      "source": [
        "train_show(0)"
      ],
      "execution_count": 8,
      "outputs": [
        {
          "output_type": "display_data",
          "data": {
            "image/png": "[encoded data removed]",
            "text/plain": [
              "<Figure size 432x288 with 1 Axes>"
            ]
          },
          "metadata": {
            "tags": [],
            "needs_background": "light"
          }
        }
      ]
    },
    {
      "cell_type": "code",
      "metadata": {
        "colab": {
          "base_uri": "https://localhost:8080/"
        },
        "id": "m55dsjmuabgV",
        "outputId": "4e6ca113-4cf7-48a1-fb4e-1d4f82240761"
      },
      "source": [
        "# train images에서 0이 아닌 값들을 찾아보자\n",
        "\n",
        "train_images[train_images != 0]"
      ],
      "execution_count": 9,
      "outputs": [
        {
          "output_type": "execute_result",
          "data": {
            "text/plain": [
              "array([ 1, 13, 73, ..., 42, 21, 18], dtype=uint8)"
            ]
          },
          "metadata": {
            "tags": []
          },
          "execution_count": 9
        }
      ]
    },
    {
      "cell_type": "code",
      "metadata": {
        "colab": {
          "base_uri": "https://localhost:8080/"
        },
        "id": "6ZwqatquaxYc",
        "outputId": "f5a3b832-f24e-4296-dbff-7ab7a60bd723"
      },
      "source": [
        "# 이미지의 값이 가장 큰 idx 와 가장 작은 idx를 찾아보자\n",
        "train_images.reshape((60000,-1)).shape"
      ],
      "execution_count": 10,
      "outputs": [
        {
          "output_type": "execute_result",
          "data": {
            "text/plain": [
              "(60000, 784)"
            ]
          },
          "metadata": {
            "tags": []
          },
          "execution_count": 10
        }
      ]
    },
    {
      "cell_type": "code",
      "metadata": {
        "colab": {
          "base_uri": "https://localhost:8080/"
        },
        "id": "2p2be_ZYbhJ0",
        "outputId": "84d92ffb-f476-4d79-e0af-0709e571328f"
      },
      "source": [
        "print(train_images.reshape((60000,-1)).sum(axis=1).argmax()) #최대값\n",
        "print(train_images.reshape((60000,-1)).sum(axis=1).argmin()) #최소값"
      ],
      "execution_count": 11,
      "outputs": [
        {
          "output_type": "stream",
          "text": [
            "55023\n",
            "9230\n"
          ],
          "name": "stdout"
        }
      ]
    },
    {
      "cell_type": "code",
      "metadata": {
        "colab": {
          "base_uri": "https://localhost:8080/",
          "height": 286
        },
        "id": "wiCjMkQJbreN",
        "outputId": "504822e5-9065-4f8b-e490-0154eb02a6bb"
      },
      "source": [
        "train_show(train_images.reshape((60000,-1)).sum(axis=1).argmax())"
      ],
      "execution_count": 12,
      "outputs": [
        {
          "output_type": "display_data",
          "data": {
            "image/png": "[encoded data removed]",
            "text/plain": [
              "<Figure size 432x288 with 1 Axes>"
            ]
          },
          "metadata": {
            "tags": [],
            "needs_background": "light"
          }
        }
      ]
    },
    {
      "cell_type": "code",
      "metadata": {
        "colab": {
          "base_uri": "https://localhost:8080/",
          "height": 286
        },
        "id": "K8CHOGvvb_zv",
        "outputId": "cadcd7ba-9ba6-45ee-c85d-6d7b332d0b61"
      },
      "source": [
        "train_show(train_images.reshape((60000,-1)).sum(axis=1).argmin())"
      ],
      "execution_count": 13,
      "outputs": [
        {
          "output_type": "display_data",
          "data": {
            "image/png": "[encoded data removed]",
            "text/plain": [
              "<Figure size 432x288 with 1 Axes>"
            ]
          },
          "metadata": {
            "tags": [],
            "needs_background": "light"
          }
        }
      ]
    },
    {
      "cell_type": "markdown",
      "metadata": {
        "id": "1O3Y_bXwcVNr"
      },
      "source": [
        "## PreProcessing"
      ]
    },
    {
      "cell_type": "code",
      "metadata": {
        "colab": {
          "base_uri": "https://localhost:8080/"
        },
        "id": "fhU_iDMdcYFE",
        "outputId": "b242dab6-ff86-45f0-ee68-4d03dacb2ac5"
      },
      "source": [
        "# Train, Test 이미지 데이터 범위 확인\n",
        "print(train_images.max(), train_images.min())\n",
        "print(test_images.max(), test_images.min())"
      ],
      "execution_count": 14,
      "outputs": [
        {
          "output_type": "stream",
          "text": [
            "255 0\n",
            "255 0\n"
          ],
          "name": "stdout"
        }
      ]
    },
    {
      "cell_type": "code",
      "metadata": {
        "colab": {
          "base_uri": "https://localhost:8080/"
        },
        "id": "6VNwUteYeuLM",
        "outputId": "a0d46f22-2a52-41d7-f44f-ac6fa274db68"
      },
      "source": [
        "print(train_images.dtype)\n",
        "print(test_images.dtype)"
      ],
      "execution_count": 15,
      "outputs": [
        {
          "output_type": "stream",
          "text": [
            "uint8\n",
            "uint8\n"
          ],
          "name": "stdout"
        }
      ]
    },
    {
      "cell_type": "code",
      "metadata": {
        "id": "jYYSBJUGpopI"
      },
      "source": [
        "train_images = train_images.astype(np.float64)\n",
        "test_images = test_images.astype(np.float64)"
      ],
      "execution_count": 16,
      "outputs": []
    },
    {
      "cell_type": "code",
      "metadata": {
        "id": "WFcgvMpbqq8s"
      },
      "source": [
        "# 데이터 정규화\n",
        "\n",
        "train_images = train_images / 255\n",
        "test_images = test_images / 255"
      ],
      "execution_count": 17,
      "outputs": []
    },
    {
      "cell_type": "code",
      "metadata": {
        "id": "uocGixbUrRBb"
      },
      "source": [
        "# 함수로 구현하면 이런 느낌\n",
        "def norm(data) :\n",
        "  min_v = data.min()\n",
        "  max_v = data.max()\n",
        "  return (data - min_v)/(max_v - min_v)"
      ],
      "execution_count": 18,
      "outputs": []
    },
    {
      "cell_type": "code",
      "metadata": {
        "colab": {
          "base_uri": "https://localhost:8080/"
        },
        "id": "8M3p7Dj2re2P",
        "outputId": "22a244c6-6a1f-4168-fad8-d2042694ecce"
      },
      "source": [
        "norm(train_images).min(), norm(train_images).max()"
      ],
      "execution_count": 19,
      "outputs": [
        {
          "output_type": "execute_result",
          "data": {
            "text/plain": [
              "(0.0, 1.0)"
            ]
          },
          "metadata": {
            "tags": []
          },
          "execution_count": 19
        }
      ]
    },
    {
      "cell_type": "markdown",
      "metadata": {
        "id": "aA2g_3_8sIz2"
      },
      "source": [
        "## Visualizing"
      ]
    },
    {
      "cell_type": "markdown",
      "metadata": {
        "id": "NsydGZTmtjEl"
      },
      "source": [
        "### random"
      ]
    },
    {
      "cell_type": "code",
      "metadata": {
        "id": "-2JAkyHXrsIu"
      },
      "source": [
        "# 랜덤으로 n장을 가져오고 그것의 plt를 그린 후 label까지 불러와보자.\n",
        "def draw(n) : \n",
        "  label_list = []\n",
        "  idx = list(np.random.randint(0,60001,n))\n",
        "  pic_n = train_images[idx].transpose((1,0,2)).reshape((28,-1))\n",
        "  plt.figure(figsize=(10+(n/2), 12))\n",
        "  plt.imshow(pic_n,cmap='gray')\n",
        "  plt.show()\n",
        "\n",
        "  for i in idx :\n",
        "    label_list.append(idx2label(train_labels[i]))\n",
        "  print('')\n",
        "  for j in label_list :\n",
        "    print(j, sep=' ', end= ' ')\n",
        "#train_images[list(np.random.randint(0,60000,5))].shape\n",
        "#np.random.randin"
      ],
      "execution_count": 20,
      "outputs": []
    },
    {
      "cell_type": "code",
      "metadata": {
        "colab": {
          "base_uri": "https://localhost:8080/",
          "height": 171
        },
        "id": "bCX5hVxfQ5Ko",
        "outputId": "44647fd5-6024-4d26-f996-568dc6f06ae4"
      },
      "source": [
        "draw(10)"
      ],
      "execution_count": 21,
      "outputs": [
        {
          "output_type": "display_data",
          "data": {
            "image/png": "[encoded data removed]",
            "text/plain": [
              "<Figure size 1080x864 with 1 Axes>"
            ]
          },
          "metadata": {
            "tags": [],
            "needs_background": "light"
          }
        },
        {
          "output_type": "stream",
          "text": [
            "\n",
            "Ankle_boot Dress T-shirt/top Dress T-shirt/top Dress Coat Sneaker Dress Dress "
          ],
          "name": "stdout"
        }
      ]
    },
    {
      "cell_type": "markdown",
      "metadata": {
        "id": "H54dFqlLto18"
      },
      "source": [
        "### Standard"
      ]
    },
    {
      "cell_type": "code",
      "metadata": {
        "colab": {
          "base_uri": "https://localhost:8080/"
        },
        "id": "q1iy7aBwtrJr",
        "outputId": "3526125d-1872-4060-ed37-647a8aab2a4e"
      },
      "source": [
        "# (5,28,28) 획득하기\n",
        "train_images[:5].shape"
      ],
      "execution_count": 22,
      "outputs": [
        {
          "output_type": "execute_result",
          "data": {
            "text/plain": [
              "(5, 28, 28)"
            ]
          },
          "metadata": {
            "tags": []
          },
          "execution_count": 22
        }
      ]
    },
    {
      "cell_type": "code",
      "metadata": {
        "colab": {
          "base_uri": "https://localhost:8080/"
        },
        "id": "NuNopkkYtwwz",
        "outputId": "f176c118-3187-40c6-f61d-0ef46c53835a"
      },
      "source": [
        "# (28,28*5)로 변환하자\n",
        "train_images[:5].transpose((1,0,2)).reshape((28,-1)).shape"
      ],
      "execution_count": 23,
      "outputs": [
        {
          "output_type": "execute_result",
          "data": {
            "text/plain": [
              "(28, 140)"
            ]
          },
          "metadata": {
            "tags": []
          },
          "execution_count": 23
        }
      ]
    },
    {
      "cell_type": "code",
      "metadata": {
        "colab": {
          "base_uri": "https://localhost:8080/",
          "height": 227
        },
        "id": "NOswLL71utpg",
        "outputId": "cee2fd10-43c9-43c1-c9ff-616200742528"
      },
      "source": [
        "plt.figure(figsize=(16,12))\n",
        "plt.imshow(train_images[:5].transpose((1,0,2)).reshape((28,-1)),cmap='gray')\n",
        "plt.show()\n"
      ],
      "execution_count": 24,
      "outputs": [
        {
          "output_type": "display_data",
          "data": {
            "image/png": "[encoded data removed]",
            "text/plain": [
              "<Figure size 1152x864 with 1 Axes>"
            ]
          },
          "metadata": {
            "tags": [],
            "needs_background": "light"
          }
        }
      ]
    },
    {
      "cell_type": "code",
      "metadata": {
        "colab": {
          "base_uri": "https://localhost:8080/"
        },
        "id": "gOg2xgARM4Kc",
        "outputId": "3890229c-c4d8-425e-d8f6-8f2eeb9b1bfa"
      },
      "source": [
        "# 레이블에 따라 5개를 출력하는 함수를 만들어보자\n",
        "# argwhere을 사용하자\n",
        "np.argwhere(train_labels == 7)[:5,...,0] # 뒤에 ...,0은 펴주는 역할을 수행함"
      ],
      "execution_count": 25,
      "outputs": [
        {
          "output_type": "execute_result",
          "data": {
            "text/plain": [
              "array([ 6, 14, 41, 46, 52])"
            ]
          },
          "metadata": {
            "tags": []
          },
          "execution_count": 25
        }
      ]
    },
    {
      "cell_type": "code",
      "metadata": {
        "colab": {
          "base_uri": "https://localhost:8080/"
        },
        "id": "wQOOfP0KS6jj",
        "outputId": "e6ac4d29-a957-4e58-d24e-e7e68bf529cd"
      },
      "source": [
        "train_images[np.argwhere(train_labels == 7)[:5,...,0]].transpose((1,0,2)).reshape(28,-1).shape"
      ],
      "execution_count": 26,
      "outputs": [
        {
          "output_type": "execute_result",
          "data": {
            "text/plain": [
              "(28, 140)"
            ]
          },
          "metadata": {
            "tags": []
          },
          "execution_count": 26
        }
      ]
    },
    {
      "cell_type": "code",
      "metadata": {
        "colab": {
          "base_uri": "https://localhost:8080/",
          "height": 118
        },
        "id": "4p7oAUaxTege",
        "outputId": "2e30473f-1eba-4367-bba1-fdc01a42fddc"
      },
      "source": [
        "plt.imshow(train_images[np.argwhere(train_labels == 2)[:5,...,0]].transpose((1,0,2)).reshape(28,-1))\n",
        "plt.show()"
      ],
      "execution_count": 27,
      "outputs": [
        {
          "output_type": "display_data",
          "data": {
            "image/png": "[encoded data removed]",
            "text/plain": [
              "<Figure size 432x288 with 1 Axes>"
            ]
          },
          "metadata": {
            "tags": [],
            "needs_background": "light"
          }
        }
      ]
    },
    {
      "cell_type": "code",
      "metadata": {
        "id": "j8ITp-jeTp9i"
      },
      "source": [
        ""
      ],
      "execution_count": 27,
      "outputs": []
    },
    {
      "cell_type": "markdown",
      "metadata": {
        "id": "caeC1UDbZx9c"
      },
      "source": [
        "## Data Augmentation\n",
        " - 이미지 확대 및 다객체 추가 방법"
      ]
    },
    {
      "cell_type": "code",
      "metadata": {
        "id": "nmFokj3NZyvc"
      },
      "source": [
        "# 이미지 한장의 크기를 4배로 확대하고, 객체는 4분면 영역중 랜덤으로 1공간에 넣는 함수를 작성해보자\n",
        "\n",
        "def expand(img) :\n",
        "  bg = np.zeros(img.shape)\n",
        "  # 1 0\n",
        "  # 2 3\n",
        "  idx = np.random.randint(0,4)\n",
        "  slots = [bg,bg,bg,bg]\n",
        "  slots[idx] = img\n",
        "  expanded = np.vstack([\n",
        "                        np.hstack(slots[:2]), \n",
        "                        np.hstack(slots[2:])\n",
        "                        \n",
        "  ]\n",
        "  )\n",
        "  return expanded"
      ],
      "execution_count": 29,
      "outputs": []
    },
    {
      "cell_type": "code",
      "metadata": {
        "colab": {
          "base_uri": "https://localhost:8080/",
          "height": 286
        },
        "id": "Qx2N0pZmf8eR",
        "outputId": "4269ab8f-46c9-49d4-cd3e-0faf47ab4ec6"
      },
      "source": [
        "plt.imshow(expand(train_images[0]))"
      ],
      "execution_count": 30,
      "outputs": [
        {
          "output_type": "execute_result",
          "data": {
            "text/plain": [
              "<matplotlib.image.AxesImage at 0x7ff469232a10>"
            ]
          },
          "metadata": {
            "tags": []
          },
          "execution_count": 30
        },
        {
          "output_type": "display_data",
          "data": {
            "image/png": "[encoded data removed]",
            "text/plain": [
              "<Figure size 432x288 with 1 Axes>"
            ]
          },
          "metadata": {
            "tags": [],
            "needs_background": "light"
          }
        }
      ]
    },
    {
      "cell_type": "code",
      "metadata": {
        "colab": {
          "base_uri": "https://localhost:8080/"
        },
        "id": "NBZ20KP7f_n4",
        "outputId": "7b075dbc-4e4a-4b29-e1f3-203618501372"
      },
      "source": [
        "expand(train_images[0]).shape"
      ],
      "execution_count": 31,
      "outputs": [
        {
          "output_type": "execute_result",
          "data": {
            "text/plain": [
              "(56, 56)"
            ]
          },
          "metadata": {
            "tags": []
          },
          "execution_count": 31
        }
      ]
    },
    {
      "cell_type": "code",
      "metadata": {
        "id": "PEOzolBXgVts"
      },
      "source": [
        "# 전체 training셋과 test셋에 적용해보자.\n",
        "train_expand_images = np.array([expand(img) for img in train_images])\n",
        "test_expand_images = np.array([expand(img) for img in test_images])"
      ],
      "execution_count": 32,
      "outputs": []
    },
    {
      "cell_type": "code",
      "metadata": {
        "colab": {
          "base_uri": "https://localhost:8080/"
        },
        "id": "Nz5hahyqhh0W",
        "outputId": "89cc63ee-21c3-45df-8bad-814b347f9c26"
      },
      "source": [
        "train_expand_images.shape, test_expand_images.shape"
      ],
      "execution_count": 33,
      "outputs": [
        {
          "output_type": "execute_result",
          "data": {
            "text/plain": [
              "((60000, 56, 56), (10000, 56, 56))"
            ]
          },
          "metadata": {
            "tags": []
          },
          "execution_count": 33
        }
      ]
    },
    {
      "cell_type": "code",
      "metadata": {
        "id": "yeWKUNKuhkpj"
      },
      "source": [
        "# 4배 이미지 변환함수를 수정하여 이미지 사이즈를 4배 확대 후 객체를 랜덤으로 0~4개 랜덤 4분면에 위치시키는 함수를 만들어보자\n",
        "# 이 과정을 수행하고 나면 하나의 그림에 여러 그림이 들어 갈 수 있으므로 라벨링을 다르게 해줘야 함.\n",
        "# 그래서 인자가 두 개 필요함\n",
        "\n",
        "def expand_2(x,y) :\n",
        "\n",
        "  images = []\n",
        "  labels = []\n",
        "\n",
        "  for _ in range(4) :\n",
        "    bg = np.zeros((28,28))\n",
        "    idx = np.random.randint(0,5)\n",
        "\n",
        "    label = np.zeros((10,)) #[0,0,0,.....] \n",
        "    slots = [bg, bg, bg, bg]\n",
        "    \n",
        "  \n",
        "\n",
        "\n",
        "\n",
        "  bg = np.zeros(img.shape)\n",
        "  # 1 0\n",
        "  # 2 3\n",
        "  idx = np.random.randint(0,4)\n",
        "  slots = [bg,bg,bg,bg]\n",
        "  slots[idx] = img\n",
        "  expanded = np.vstack([\n",
        "                        np.hstack(slots[:2]), \n",
        "                        np.hstack(slots[2:])\n",
        "                        \n",
        "  ]\n",
        "  )\n",
        "  return expanded"
      ],
      "execution_count": 34,
      "outputs": []
    },
    {
      "cell_type": "code",
      "metadata": {
        "id": "bka1bZBglSTJ"
      },
      "source": [
        "def expand_bc(x, y) :\n",
        "\n",
        "  rd_idx = [0, 1, 2, 3]\n",
        "  np"
      ],
      "execution_count": 35,
      "outputs": []
    },
    {
      "cell_type": "code",
      "metadata": {
        "colab": {
          "base_uri": "https://localhost:8080/",
          "height": 192
        },
        "id": "Oc6-Nxvwlfe2",
        "outputId": "27bf2004-f61e-46bb-88e9-d980b3170344"
      },
      "source": [
        "rd_idx = [0,1,2,3]\n",
        "list[np.random.choice(rd_idx,np.random.randint(0,4),replace=False)]"
      ],
      "execution_count": null,
      "outputs": [
        {
          "output_type": "error",
          "ename": "TypeError",
          "evalue": "ignored",
          "traceback": [
            "\u001b[0;31m---------------------------------------------------------------------------\u001b[0m",
            "\u001b[0;31mTypeError\u001b[0m                                 Traceback (most recent call last)",
            "\u001b[0;32m<ipython-input-199-364f68fbc10a>\u001b[0m in \u001b[0;36m<module>\u001b[0;34m()\u001b[0m\n\u001b[1;32m      1\u001b[0m \u001b[0mrd_idx\u001b[0m \u001b[0;34m=\u001b[0m \u001b[0;34m[\u001b[0m\u001b[0;36m0\u001b[0m\u001b[0;34m,\u001b[0m\u001b[0;36m1\u001b[0m\u001b[0;34m,\u001b[0m\u001b[0;36m2\u001b[0m\u001b[0;34m,\u001b[0m\u001b[0;36m3\u001b[0m\u001b[0;34m]\u001b[0m\u001b[0;34m\u001b[0m\u001b[0;34m\u001b[0m\u001b[0m\n\u001b[0;32m----> 2\u001b[0;31m \u001b[0mlist\u001b[0m\u001b[0;34m[\u001b[0m\u001b[0mnp\u001b[0m\u001b[0;34m.\u001b[0m\u001b[0mrandom\u001b[0m\u001b[0;34m.\u001b[0m\u001b[0mchoice\u001b[0m\u001b[0;34m(\u001b[0m\u001b[0mrd_idx\u001b[0m\u001b[0;34m,\u001b[0m\u001b[0mnp\u001b[0m\u001b[0;34m.\u001b[0m\u001b[0mrandom\u001b[0m\u001b[0;34m.\u001b[0m\u001b[0mrandint\u001b[0m\u001b[0;34m(\u001b[0m\u001b[0;36m0\u001b[0m\u001b[0;34m,\u001b[0m\u001b[0;36m4\u001b[0m\u001b[0;34m)\u001b[0m\u001b[0;34m,\u001b[0m\u001b[0mreplace\u001b[0m\u001b[0;34m=\u001b[0m\u001b[0;32mFalse\u001b[0m\u001b[0;34m)\u001b[0m\u001b[0;34m]\u001b[0m\u001b[0;34m\u001b[0m\u001b[0;34m\u001b[0m\u001b[0m\n\u001b[0m",
            "\u001b[0;31mTypeError\u001b[0m: 'type' object is not subscriptable"
          ]
        }
      ]
    },
    {
      "cell_type": "code",
      "metadata": {
        "colab": {
          "base_uri": "https://localhost:8080/"
        },
        "id": "4XN73BngoEZZ",
        "outputId": "42af1d5a-5fe8-4596-f146-926e850331f2"
      },
      "source": [
        "train_images.shape"
      ],
      "execution_count": null,
      "outputs": [
        {
          "output_type": "execute_result",
          "data": {
            "text/plain": [
              "(60000, 28, 28)"
            ]
          },
          "metadata": {
            "tags": []
          },
          "execution_count": 226
        }
      ]
    },
    {
      "cell_type": "code",
      "metadata": {
        "colab": {
          "base_uri": "https://localhost:8080/",
          "height": 137
        },
        "id": "N5GOIG9klgcu",
        "outputId": "60dde380-5c42-42df-8408-ad86603b6f27"
      },
      "source": [
        "bg = np.zeros((28,28)) # 그림하나당 할당량\n",
        "quad = [0, 1, 2, 3]  # 4분면\n",
        "pick = np.random.randint(0,4) # 몇 개를 뽑을 지 랜덤으로 정한다\n",
        "pic_bg = list(np.random.choice(quad,pick, replace=False)) # 그림이 그려질 사분면\n",
        "pic_n  = list(np.random.choice(range(60000),pick, replace=False)) # 그림을 미리 뽑는다.\n",
        "slots = [bg, bg, bg, bg]\n",
        "\n",
        "for i in pic_bg : # 각 사분면\n",
        "  pic_idx = np.random.randint(0,60000)\n",
        "  for image in x # 랜덤으로 그림 선택\n",
        "\n",
        "\n",
        "\n",
        "  print(i)"
      ],
      "execution_count": 36,
      "outputs": [
        {
          "output_type": "error",
          "ename": "SyntaxError",
          "evalue": "ignored",
          "traceback": [
            "\u001b[0;36m  File \u001b[0;32m\"<ipython-input-36-ca58af864124>\"\u001b[0;36m, line \u001b[0;32m10\u001b[0m\n\u001b[0;31m    for image in x # 랜덤으로 그림 선택\u001b[0m\n\u001b[0m                               ^\u001b[0m\n\u001b[0;31mSyntaxError\u001b[0m\u001b[0;31m:\u001b[0m invalid syntax\n"
          ]
        }
      ]
    },
    {
      "cell_type": "code",
      "metadata": {
        "id": "e1-DStnJlvRe"
      },
      "source": [
        "for _ in range(100) :\n",
        "  print(np.random.randint(0,4))"
      ],
      "execution_count": null,
      "outputs": []
    },
    {
      "cell_type": "code",
      "metadata": {
        "colab": {
          "base_uri": "https://localhost:8080/"
        },
        "id": "zTt1UgX_ma-G",
        "outputId": "e3f65c51-6203-4742-a01b-a53dd22aede9"
      },
      "source": [
        "train_images[0].shape"
      ],
      "execution_count": null,
      "outputs": [
        {
          "output_type": "execute_result",
          "data": {
            "text/plain": [
              "(28, 28)"
            ]
          },
          "metadata": {
            "tags": []
          },
          "execution_count": 235
        }
      ]
    },
    {
      "cell_type": "code",
      "metadata": {
        "colab": {
          "base_uri": "https://localhost:8080/"
        },
        "id": "7vQLMaxlo63y",
        "outputId": "e1244140-dcf3-49a5-cf0b-6e8d66cfec58"
      },
      "source": [
        "a = [1,2,3,4,5]\n",
        "b = [3,4,5,6,7]\n",
        "\n",
        "for c,v in zip(a,b) :\n",
        "  print(c,v)"
      ],
      "execution_count": null,
      "outputs": [
        {
          "output_type": "stream",
          "text": [
            "1 3\n",
            "2 4\n",
            "3 5\n",
            "4 6\n",
            "5 7\n"
          ],
          "name": "stdout"
        }
      ]
    },
    {
      "cell_type": "code",
      "metadata": {
        "id": "0gB0fACzsbV5"
      },
      "source": [
        "from tensorflow.keras.utils import to_categorical"
      ],
      "execution_count": 38,
      "outputs": []
    },
    {
      "cell_type": "code",
      "metadata": {
        "id": "PwekPDpppocZ"
      },
      "source": [
        "bg = np.zeros((28,28)) # 그림하나당 할당량\n",
        "quad = [0, 1, 2, 3]  # 4분면\n",
        "pick = np.random.randint(0,4) # 몇 개를 뽑을 지 랜덤으로 정한다\n",
        "pic_bg = list(np.random.choice(quad,pick, replace=False)) # 그림이 그려질 사분면\n",
        "pic_n  = list(np.random.choice(range(60000),pick, replace=False)) # 그림을 미리 뽑는다.\n",
        "slots = [bg, bg, bg, bg]\n",
        "\n",
        "\n",
        "for a,b in zip(pic_bg, pic_n) :\n",
        "  slots[a] = x[pic_n]\n",
        "  y[pic_n] = to_categorical()\n"
      ],
      "execution_count": 40,
      "outputs": []
    },
    {
      "cell_type": "code",
      "metadata": {
        "colab": {
          "base_uri": "https://localhost:8080/"
        },
        "id": "2ldGWJFgqdEt",
        "outputId": "9cb4140e-d940-4078-a850-317c0dd9bd0a"
      },
      "source": [
        "print(pic_bg, pic_n)"
      ],
      "execution_count": 41,
      "outputs": [
        {
          "output_type": "stream",
          "text": [
            "[] []\n"
          ],
          "name": "stdout"
        }
      ]
    },
    {
      "cell_type": "code",
      "metadata": {
        "id": "pqUfoizKqghz",
        "outputId": "0809cf7b-782a-4c61-e3b3-778479272e0a",
        "colab": {
          "base_uri": "https://localhost:8080/",
          "height": 192
        }
      },
      "source": [
        "for a,b in zip(pic_bg, pic_n) :\n",
        "  slots[a] = train_images[b]"
      ],
      "execution_count": 28,
      "outputs": [
        {
          "output_type": "error",
          "ename": "NameError",
          "evalue": "ignored",
          "traceback": [
            "\u001b[0;31m---------------------------------------------------------------------------\u001b[0m",
            "\u001b[0;31mNameError\u001b[0m                                 Traceback (most recent call last)",
            "\u001b[0;32m<ipython-input-28-d6f4866a6956>\u001b[0m in \u001b[0;36m<module>\u001b[0;34m()\u001b[0m\n\u001b[0;32m----> 1\u001b[0;31m \u001b[0;32mfor\u001b[0m \u001b[0ma\u001b[0m\u001b[0;34m,\u001b[0m\u001b[0mb\u001b[0m \u001b[0;32min\u001b[0m \u001b[0mzip\u001b[0m\u001b[0;34m(\u001b[0m\u001b[0mpic_bg\u001b[0m\u001b[0;34m,\u001b[0m \u001b[0mpic_n\u001b[0m\u001b[0;34m)\u001b[0m \u001b[0;34m:\u001b[0m\u001b[0;34m\u001b[0m\u001b[0;34m\u001b[0m\u001b[0m\n\u001b[0m\u001b[1;32m      2\u001b[0m   \u001b[0mslots\u001b[0m\u001b[0;34m[\u001b[0m\u001b[0ma\u001b[0m\u001b[0;34m]\u001b[0m \u001b[0;34m=\u001b[0m \u001b[0mtrain_images\u001b[0m\u001b[0;34m[\u001b[0m\u001b[0mb\u001b[0m\u001b[0;34m]\u001b[0m\u001b[0;34m\u001b[0m\u001b[0;34m\u001b[0m\u001b[0m\n",
            "\u001b[0;31mNameError\u001b[0m: name 'pic_bg' is not defined"
          ]
        }
      ]
    },
    {
      "cell_type": "code",
      "metadata": {
        "colab": {
          "base_uri": "https://localhost:8080/"
        },
        "id": "2MdqikxLu-Ay",
        "outputId": "f16a95fb-05a1-495e-fe83-fc56bedc865d"
      },
      "source": [
        "slots[3].sum()"
      ],
      "execution_count": null,
      "outputs": [
        {
          "output_type": "execute_result",
          "data": {
            "text/plain": [
              "0.0"
            ]
          },
          "metadata": {
            "tags": []
          },
          "execution_count": 275
        }
      ]
    },
    {
      "cell_type": "code",
      "metadata": {
        "colab": {
          "base_uri": "https://localhost:8080/"
        },
        "id": "EjSgn33Yqlav",
        "outputId": "1f63ee41-a19e-4f94-a506-b52346599219"
      },
      "source": [
        "train_images[39709].shape"
      ],
      "execution_count": null,
      "outputs": [
        {
          "output_type": "execute_result",
          "data": {
            "text/plain": [
              "(28, 28)"
            ]
          },
          "metadata": {
            "tags": []
          },
          "execution_count": 262
        }
      ]
    },
    {
      "cell_type": "code",
      "metadata": {
        "colab": {
          "base_uri": "https://localhost:8080/"
        },
        "id": "PIKbb37MsACP",
        "outputId": "940b3e71-c4b1-4a5c-eea6-14068383eb18"
      },
      "source": [
        "to_categorical(train_labels[39709],10)"
      ],
      "execution_count": null,
      "outputs": [
        {
          "output_type": "execute_result",
          "data": {
            "text/plain": [
              "array([0., 0., 0., 0., 0., 0., 1., 0., 0., 0.], dtype=float32)"
            ]
          },
          "metadata": {
            "tags": []
          },
          "execution_count": 266
        }
      ]
    },
    {
      "cell_type": "code",
      "metadata": {
        "id": "RXFaPdmJXUEo"
      },
      "source": [
        "def my(x,y,iterations=3) :\n",
        "  for iter in range(iterations) :\n",
        "  \n",
        "    bg = np.zeros((28,28))\n",
        "    quad = [0, 1, 2, 3]  # 4분면\n",
        "    pick = np.random.randint(1,5) # 몇 개를 뽑을 지 랜덤으로 정한다 # 최소 1개는 나오게하자;;\n",
        "    pic_bg = list(np.random.choice(quad,pick, replace=False)) # 그림이 그려질 사분면\n",
        "    pic_n  = list(np.random.choice(range(x.shape[0]),pick, replace=False)) # 그림을 미리 뽑는다.\n",
        "    slots = [bg, bg, bg, bg]\n",
        "\n",
        "    labels = np.zeros((10,))\n",
        "    for a,b in zip(pic_bg, pic_n) :\n",
        "      slots[a] = x[b]\n",
        "      labels += to_categorical(y[b],10)\n",
        "\n",
        "    picture = np.vstack([\n",
        "                        np.hstack(slots[:2]),\n",
        "                        np.hstack(slots[2:])\n",
        "    ])\n",
        "\n",
        "\n",
        "    labels[labels >=1 ] = 1\n",
        "    plt.imshow(picture)\n",
        "    plt.show()\n",
        "    print(labels)\n",
        "    for idx in list(np.argwhere(labels==1).reshape(-1)) :\n",
        "      print(idx2label(idx))\n",
        "    print('\\n')\n",
        "  #return picture, labels"
      ],
      "execution_count": 159,
      "outputs": []
    },
    {
      "cell_type": "code",
      "metadata": {
        "id": "TLzj7IIIcKhW",
        "outputId": "7ffb13f6-abba-4359-80e0-fb5af0d8e8e0",
        "colab": {
          "base_uri": "https://localhost:8080/",
          "height": 1000
        }
      },
      "source": [
        "my(train_images, train_labels)"
      ],
      "execution_count": 161,
      "outputs": [
        {
          "output_type": "display_data",
          "data": {
            "image/png": "[encoded data removed]",
            "text/plain": [
              "<Figure size 432x288 with 1 Axes>"
            ]
          },
          "metadata": {
            "tags": [],
            "needs_background": "light"
          }
        },
        {
          "output_type": "stream",
          "text": [
            "[0. 0. 1. 0. 0. 1. 0. 0. 0. 1.]\n",
            "Pullover\n",
            "Sandal\n",
            "Ankle_boot\n",
            "\n",
            "\n"
          ],
          "name": "stdout"
        },
        {
          "output_type": "display_data",
          "data": {
            "image/png": "[encoded data removed]",
            "text/plain": [
              "<Figure size 432x288 with 1 Axes>"
            ]
          },
          "metadata": {
            "tags": [],
            "needs_background": "light"
          }
        },
        {
          "output_type": "stream",
          "text": [
            "[0. 0. 0. 0. 0. 0. 0. 1. 0. 0.]\n",
            "Sneaker\n",
            "\n",
            "\n"
          ],
          "name": "stdout"
        },
        {
          "output_type": "display_data",
          "data": {
            "image/png": "[encoded data removed]",
            "text/plain": [
              "<Figure size 432x288 with 1 Axes>"
            ]
          },
          "metadata": {
            "tags": [],
            "needs_background": "light"
          }
        },
        {
          "output_type": "stream",
          "text": [
            "[0. 1. 0. 0. 0. 1. 0. 0. 1. 0.]\n",
            "Trouser\n",
            "Sandal\n",
            "Bag\n",
            "\n",
            "\n"
          ],
          "name": "stdout"
        }
      ]
    },
    {
      "cell_type": "code",
      "metadata": {
        "id": "jyU_DqBvZvIw",
        "outputId": "bc67be9a-5e85-48d5-f476-e7f1912932b1",
        "colab": {
          "base_uri": "https://localhost:8080/"
        }
      },
      "source": [
        "h = my(train_images, train_labels)\n",
        "h[0].shape"
      ],
      "execution_count": 136,
      "outputs": [
        {
          "output_type": "execute_result",
          "data": {
            "text/plain": [
              "(56, 56)"
            ]
          },
          "metadata": {
            "tags": []
          },
          "execution_count": 136
        }
      ]
    },
    {
      "cell_type": "code",
      "metadata": {
        "id": "buH-T1upa1qt",
        "outputId": "f22d78ed-2fe5-4d86-b143-b2ec56e39d4f",
        "colab": {
          "base_uri": "https://localhost:8080/"
        }
      },
      "source": [
        "h[1]"
      ],
      "execution_count": 144,
      "outputs": [
        {
          "output_type": "execute_result",
          "data": {
            "text/plain": [
              "array([1., 0., 1., 0., 0., 0., 0., 0., 0., 0.])"
            ]
          },
          "metadata": {
            "tags": []
          },
          "execution_count": 144
        }
      ]
    },
    {
      "cell_type": "code",
      "metadata": {
        "id": "_9XZ5W67adiT",
        "outputId": "ecdc7985-5352-4852-b4bb-dc43d41ce14e",
        "colab": {
          "base_uri": "https://localhost:8080/"
        }
      },
      "source": [
        ""
      ],
      "execution_count": 149,
      "outputs": [
        {
          "output_type": "stream",
          "text": [
            "T-shirt/top\n",
            "Pullover\n"
          ],
          "name": "stdout"
        }
      ]
    },
    {
      "cell_type": "code",
      "metadata": {
        "id": "8yat0mCDXiSS",
        "outputId": "4514a6d7-b951-4c5e-ae0a-71a8d736d338",
        "colab": {
          "base_uri": "https://localhost:8080/",
          "height": 1000
        }
      },
      "source": [
        "for _ in range(3) :\n",
        "  h = my(train_images, train_labels)\n",
        "  plt.imshow(h[0])\n",
        "  \n",
        "  plt.show()\n",
        "  print(h[1])\n",
        "  for idx in list(np.argwhere(h[1]==1).reshape(-1)) :\n",
        "    print(idx2label(idx))\n",
        "  print('\\n')"
      ],
      "execution_count": 150,
      "outputs": [
        {
          "output_type": "display_data",
          "data": {
            "image/png": "[encoded data removed]",
            "text/plain": [
              "<Figure size 432x288 with 1 Axes>"
            ]
          },
          "metadata": {
            "tags": [],
            "needs_background": "light"
          }
        },
        {
          "output_type": "stream",
          "text": [
            "[0. 0. 0. 1. 0. 0. 0. 0. 0. 0.]\n",
            "Dress\n",
            "\n",
            "\n"
          ],
          "name": "stdout"
        },
        {
          "output_type": "display_data",
          "data": {
            "image/png": "[encoded data removed]",
            "text/plain": [
              "<Figure size 432x288 with 1 Axes>"
            ]
          },
          "metadata": {
            "tags": [],
            "needs_background": "light"
          }
        },
        {
          "output_type": "stream",
          "text": [
            "[0. 0. 0. 1. 1. 0. 0. 0. 1. 0.]\n",
            "Dress\n",
            "Coat\n",
            "Bag\n",
            "\n",
            "\n"
          ],
          "name": "stdout"
        },
        {
          "output_type": "display_data",
          "data": {
            "image/png": "[encoded data removed]",
            "text/plain": [
              "<Figure size 432x288 with 1 Axes>"
            ]
          },
          "metadata": {
            "tags": [],
            "needs_background": "light"
          }
        },
        {
          "output_type": "stream",
          "text": [
            "[0. 0. 0. 0. 0. 0. 1. 0. 0. 1.]\n",
            "Shirt\n",
            "Ankle_boot\n",
            "\n",
            "\n"
          ],
          "name": "stdout"
        }
      ]
    },
    {
      "cell_type": "code",
      "metadata": {
        "id": "RJtqlRJyXEi1"
      },
      "source": [
        "  expanded = np.vstack([\n",
        "                        np.hstack(slots[:2]), \n",
        "                        np.hstack(slots[2:])\n",
        "                        \n",
        "  ]\n",
        "  )"
      ],
      "execution_count": null,
      "outputs": []
    },
    {
      "cell_type": "code",
      "metadata": {
        "id": "RQRwgoRkSS3K",
        "outputId": "85129160-4c4e-4a66-d2aa-aaf327177cc2",
        "colab": {
          "base_uri": "https://localhost:8080/"
        }
      },
      "source": [
        "pic_bg, pic_n"
      ],
      "execution_count": 44,
      "outputs": [
        {
          "output_type": "execute_result",
          "data": {
            "text/plain": [
              "([3, 1, 0], [15576, 14359, 53988])"
            ]
          },
          "metadata": {
            "tags": []
          },
          "execution_count": 44
        }
      ]
    },
    {
      "cell_type": "code",
      "metadata": {
        "id": "KvCAK5pkSWKw",
        "outputId": "9365bbed-babd-4614-ff22-0181a16a902a",
        "colab": {
          "base_uri": "https://localhost:8080/"
        }
      },
      "source": [
        "for a,b in zip(pic_bg, pic_n) :\n",
        "  print(a,b)"
      ],
      "execution_count": 45,
      "outputs": [
        {
          "output_type": "stream",
          "text": [
            "3 15576\n",
            "1 14359\n",
            "0 53988\n"
          ],
          "name": "stdout"
        }
      ]
    },
    {
      "cell_type": "code",
      "metadata": {
        "id": "WOc4kSheSdPF"
      },
      "source": [
        "for a,b in zip(pic_bg, pic_n) :\n",
        "  slots[a] = train_images[b]\n",
        "  "
      ],
      "execution_count": 46,
      "outputs": []
    },
    {
      "cell_type": "code",
      "metadata": {
        "id": "Hye8B-EkS0Nm",
        "outputId": "973b134d-80ba-47ab-c891-f103136e3616",
        "colab": {
          "base_uri": "https://localhost:8080/"
        }
      },
      "source": [
        "print(slots[0].sum())\n",
        "print(slots[1].sum())\n",
        "print(slots[2].sum())\n",
        "print(slots[3].sum())"
      ],
      "execution_count": 49,
      "outputs": [
        {
          "output_type": "stream",
          "text": [
            "306.06666666666666\n",
            "220.73333333333335\n",
            "0.0\n",
            "141.94901960784313\n"
          ],
          "name": "stdout"
        }
      ]
    },
    {
      "cell_type": "code",
      "metadata": {
        "id": "QAYiQT8ES1Ms",
        "outputId": "b6e024d1-5233-4454-a3c0-080969011811",
        "colab": {
          "base_uri": "https://localhost:8080/"
        }
      },
      "source": [
        "to_categorical(train_labels[15576],10) + to_categorical(train_labels[122],10)"
      ],
      "execution_count": 71,
      "outputs": [
        {
          "output_type": "execute_result",
          "data": {
            "text/plain": [
              "array([0., 0., 0., 0., 0., 0., 1., 0., 0., 1.], dtype=float32)"
            ]
          },
          "metadata": {
            "tags": []
          },
          "execution_count": 71
        }
      ]
    },
    {
      "cell_type": "code",
      "metadata": {
        "id": "GWAzKlD_TKxE",
        "outputId": "339619e4-873b-441a-f52e-44e020bcd6d5",
        "colab": {
          "base_uri": "https://localhost:8080/"
        }
      },
      "source": [
        "train_labels[15576]"
      ],
      "execution_count": 70,
      "outputs": [
        {
          "output_type": "execute_result",
          "data": {
            "text/plain": [
              "6"
            ]
          },
          "metadata": {
            "tags": []
          },
          "execution_count": 70
        }
      ]
    },
    {
      "cell_type": "code",
      "metadata": {
        "id": "fGanqMCvTZXP",
        "outputId": "3acf7ea2-e58e-4a91-c440-f84d4af16203",
        "colab": {
          "base_uri": "https://localhost:8080/"
        }
      },
      "source": [
        "h = np.zeros((10,)) +to_categorical(train_labels[15576],10) + to_categorical(train_labels[122],10) +to_categorical(train_labels[122],10)\n",
        "h[h>=1] = 1\n",
        "h"
      ],
      "execution_count": 80,
      "outputs": [
        {
          "output_type": "execute_result",
          "data": {
            "text/plain": [
              "array([0., 0., 0., 0., 0., 0., 1., 0., 0., 1.])"
            ]
          },
          "metadata": {
            "tags": []
          },
          "execution_count": 80
        }
      ]
    },
    {
      "cell_type": "code",
      "metadata": {
        "id": "P3KJe6dUTyqG"
      },
      "source": [
        ""
      ],
      "execution_count": 73,
      "outputs": []
    }
  ]
}