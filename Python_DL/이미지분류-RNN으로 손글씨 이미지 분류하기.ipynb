{
  "nbformat": 4,
  "nbformat_minor": 0,
  "metadata": {
    "colab": {
      "name": "이미지분류 - RNN으로 손글씨 이미지 분류하기.ipynb",
      "provenance": [],
      "collapsed_sections": [],
      "authorship_tag": "ABX9TyOWVoXVqjWci2/OGW9yzmgT",
      "include_colab_link": true
    },
    "kernelspec": {
      "name": "python3",
      "display_name": "Python 3"
    },
    "language_info": {
      "name": "python"
    }
  },
  "cells": [
    {
      "cell_type": "markdown",
      "metadata": {
        "id": "view-in-github",
        "colab_type": "text"
      },
      "source": [
        "<a href=\"https://colab.research.google.com/github/moch1996/Vaycold/blob/main/Python_DL/%EC%9D%B4%EB%AF%B8%EC%A7%80%EB%B6%84%EB%A5%98-RNN%EC%9C%BC%EB%A1%9C%20%EC%86%90%EA%B8%80%EC%94%A8%20%EC%9D%B4%EB%AF%B8%EC%A7%80%20%EB%B6%84%EB%A5%98%ED%95%98%EA%B8%B0.ipynb\" target=\"_parent\"><img src=\"https://colab.research.google.com/assets/colab-badge.svg\" alt=\"Open In Colab\"/></a>"
      ]
    },
    {
      "cell_type": "markdown",
      "metadata": {
        "id": "j3voStHvgPui"
      },
      "source": [
        "MNIST 데이터셋 사용"
      ]
    },
    {
      "cell_type": "markdown",
      "metadata": {
        "id": "wFUCo3HXhO-X"
      },
      "source": [
        "## 라이브러리"
      ]
    },
    {
      "cell_type": "code",
      "metadata": {
        "id": "9WZ-NKJCgHf3"
      },
      "source": [
        "import tensorflow as tf\n",
        "from tensorflow import keras\n",
        "from keras.layers import Dense\n",
        "from keras.models import Sequential\n",
        "\n",
        "import pandas as pd\n",
        "import numpy as np\n",
        "import matplotlib.pyplot as plt\n",
        "import seaborn as sns\n",
        "import warnings\n",
        "from IPython.display import Image\n",
        "\n",
        "warnings.filterwarnings('ignore')\n",
        "\n",
        "SEED = 34"
      ],
      "execution_count": null,
      "outputs": []
    },
    {
      "cell_type": "markdown",
      "metadata": {
        "id": "zddHPnich372"
      },
      "source": [
        "## 도입 전 기본 처리"
      ]
    },
    {
      "cell_type": "code",
      "metadata": {
        "id": "q3VB0a2jhTOv"
      },
      "source": [
        "# MNIST 데이터 살펴보기"
      ],
      "execution_count": null,
      "outputs": []
    },
    {
      "cell_type": "code",
      "metadata": {
        "id": "aHLwr0yfiDAE"
      },
      "source": [
        "mnist = keras.datasets.mnist\n",
        "# 튜플로 train과 test 셋 나눠서 가져오자\n",
        "((train_images, train_labels),(test_images, test_labels))= mnist.load_data()"
      ],
      "execution_count": null,
      "outputs": []
    },
    {
      "cell_type": "code",
      "metadata": {
        "colab": {
          "base_uri": "https://localhost:8080/"
        },
        "id": "g9qfeWR2iOWi",
        "outputId": "d58ed20a-75e2-4655-d682-e6837ad97030"
      },
      "source": [
        "# 데이터 shape 확인\n",
        "\n",
        "print('train_image : ',train_images.shape)\n",
        "print('train_labels : ',train_labels.shape)\n",
        "print('')\n",
        "print('test_image : ',test_images.shape)\n",
        "print('test_labels : ',test_labels.shape)"
      ],
      "execution_count": null,
      "outputs": [
        {
          "output_type": "stream",
          "text": [
            "train_image :  (60000, 28, 28)\n",
            "train_labels :  (60000,)\n",
            "\n",
            "test_image :  (10000, 28, 28)\n",
            "test_labels :  (10000,)\n"
          ],
          "name": "stdout"
        }
      ]
    },
    {
      "cell_type": "code",
      "metadata": {
        "colab": {
          "base_uri": "https://localhost:8080/"
        },
        "id": "0hJAqOlOjFer",
        "outputId": "b5e4c7e7-8adf-4f13-9575-4f7a361fc5c7"
      },
      "source": [
        "# 28 x 28 형태의 이미지를 plt를 이용해서 출력해보자\n",
        "\n",
        "train_images.shape"
      ],
      "execution_count": null,
      "outputs": [
        {
          "output_type": "execute_result",
          "data": {
            "text/plain": [
              "(60000, 28, 28)"
            ]
          },
          "metadata": {
            "tags": []
          },
          "execution_count": 11
        }
      ]
    },
    {
      "cell_type": "code",
      "metadata": {
        "colab": {
          "base_uri": "https://localhost:8080/"
        },
        "id": "Hz8qtWSnkBvU",
        "outputId": "ac54a1d1-8251-49fa-cd55-016246eb7e68"
      },
      "source": [
        "train_images[0].shape"
      ],
      "execution_count": null,
      "outputs": [
        {
          "output_type": "execute_result",
          "data": {
            "text/plain": [
              "(28, 28)"
            ]
          },
          "metadata": {
            "tags": []
          },
          "execution_count": 13
        }
      ]
    },
    {
      "cell_type": "code",
      "metadata": {
        "colab": {
          "base_uri": "https://localhost:8080/"
        },
        "id": "DzTmXCj9kDgT",
        "outputId": "14a9e830-79ff-4232-a1d0-75a04ff021f1"
      },
      "source": [
        "train_images[-1].shape\n",
        "\n",
        "# 6만장 중 하나를 떼오는 것임"
      ],
      "execution_count": null,
      "outputs": [
        {
          "output_type": "execute_result",
          "data": {
            "text/plain": [
              "(28, 28)"
            ]
          },
          "metadata": {
            "tags": []
          },
          "execution_count": 16
        }
      ]
    },
    {
      "cell_type": "code",
      "metadata": {
        "colab": {
          "base_uri": "https://localhost:8080/",
          "height": 283
        },
        "id": "DrRlYU1PkIdp",
        "outputId": "f0075c94-c2eb-4dd9-8ff8-48fd8101f34d"
      },
      "source": [
        "plt.figure()\n",
        "plt.imshow(train_images[0])\n",
        "plt.colorbar()\n",
        "plt.show()\n",
        "\n",
        "print(train_labels[0])"
      ],
      "execution_count": null,
      "outputs": [
        {
          "output_type": "display_data",
          "data": {
            "image/png": "[encoded data removed]",
            "text/plain": [
              "<Figure size 432x288 with 2 Axes>"
            ]
          },
          "metadata": {
            "tags": [],
            "needs_background": "light"
          }
        },
        {
          "output_type": "stream",
          "text": [
            "5\n"
          ],
          "name": "stdout"
        }
      ]
    },
    {
      "cell_type": "code",
      "metadata": {
        "id": "Tby3XvD2kc07"
      },
      "source": [
        "# train_ images에서 0이 아닌 값들을 출력해보자.\n",
        "# 0번째 데이터셋은 값이 0부터 255까지 있는데 어떤 데이터는 그렇지 않으면 스케일링이 필요할 수 있음\n",
        "# 그렇기 때문에 0이 아닌것들을 지워서 확인하려는 것\n",
        "# 우선 28 x 28을 1차원으로 바꾸자\n",
        "\n",
        "train_images[0].reshape(-1)"
      ],
      "execution_count": null,
      "outputs": []
    },
    {
      "cell_type": "code",
      "metadata": {
        "colab": {
          "base_uri": "https://localhost:8080/"
        },
        "id": "Lk0pXnB0lIn3",
        "outputId": "012f1afe-7ac8-4842-f500-cb289bc9820e"
      },
      "source": [
        "# 이 1차원 벡터에 filter 함수를 적용시키자\n",
        "# filter함수는 들어있는 함수가 참이여야만 값을 반환해주는 함수이다.\n",
        "list(filter( lambda x : x!=0, train_images[0].reshape(-1)))[:10]\n",
        "\n",
        "# 대충 255가 제일 큰것 같군 "
      ],
      "execution_count": 25,
      "outputs": [
        {
          "output_type": "execute_result",
          "data": {
            "text/plain": [
              "[3, 18, 18, 18, 126, 136, 175, 26, 166, 255]"
            ]
          },
          "metadata": {
            "tags": []
          },
          "execution_count": 25
        }
      ]
    },
    {
      "cell_type": "code",
      "metadata": {
        "id": "g-v1qhXnl9pl"
      },
      "source": [
        "sorted(list(filter( lambda x : x!=0, train_images[0].reshape(-1))))"
      ],
      "execution_count": null,
      "outputs": []
    },
    {
      "cell_type": "code",
      "metadata": {
        "colab": {
          "base_uri": "https://localhost:8080/"
        },
        "id": "X5jyYh6wmRdR",
        "outputId": "0bf97d5b-26f3-45d0-bc14-f1dc7a4d2fde"
      },
      "source": [
        "# train_images의 datatype을 보자\n",
        "print(train_images.dtype)"
      ],
      "execution_count": 28,
      "outputs": [
        {
          "output_type": "execute_result",
          "data": {
            "text/plain": [
              "dtype('uint8')"
            ]
          },
          "metadata": {
            "tags": []
          },
          "execution_count": 28
        }
      ]
    },
    {
      "cell_type": "code",
      "metadata": {
        "id": "KWPCW0dUmp60"
      },
      "source": [
        ""
      ],
      "execution_count": null,
      "outputs": []
    },
    {
      "cell_type": "markdown",
      "metadata": {
        "id": "UZLfNR1io6QM"
      },
      "source": [
        "## 전처리"
      ]
    },
    {
      "cell_type": "code",
      "metadata": {
        "colab": {
          "base_uri": "https://localhost:8080/"
        },
        "id": "U9CrtqiYo7cO",
        "outputId": "956c7a93-bbde-4aff-bda8-a3f4d402fe44"
      },
      "source": [
        "# train / test 이미지 최소, 최대값을 출력\n",
        "\n",
        "print(max(train_images.reshape(-1)), min(train_images.reshape(-1)))\n",
        "print(max(test_images.reshape(-1)), min(test_images.reshape(-1)))\n",
        "\n",
        "# 데이터에 이상은 없넹"
      ],
      "execution_count": 32,
      "outputs": [
        {
          "output_type": "stream",
          "text": [
            "255 0\n",
            "255 0\n"
          ],
          "name": "stdout"
        }
      ]
    },
    {
      "cell_type": "code",
      "metadata": {
        "colab": {
          "base_uri": "https://localhost:8080/"
        },
        "id": "Qdcq-Q1tpuFn",
        "outputId": "a8d0bddc-88db-456d-8e04-f465a6f0237d"
      },
      "source": [
        "# 정수형을 실수형으로 변경한 후 dtype으로 비교\n",
        "\n",
        "test_images.astype(np.float64).dtype"
      ],
      "execution_count": 33,
      "outputs": [
        {
          "output_type": "execute_result",
          "data": {
            "text/plain": [
              "dtype('float64')"
            ]
          },
          "metadata": {
            "tags": []
          },
          "execution_count": 33
        }
      ]
    },
    {
      "cell_type": "code",
      "metadata": {
        "id": "EhAkR_VOrAWP"
      },
      "source": [
        "test_images = test_images.astype(np.float64)\n",
        "train_images = train_images.astype(np.float64)"
      ],
      "execution_count": 34,
      "outputs": []
    },
    {
      "cell_type": "code",
      "metadata": {
        "colab": {
          "base_uri": "https://localhost:8080/"
        },
        "id": "SgGg83dgrQ01",
        "outputId": "1a5e096b-4b2b-4608-c61f-1e9dae3b0085"
      },
      "source": [
        "# 데이터를 0~1 정규화를 수행하자\n",
        "# 0에서 1사이의 값을 가지게 하기 위한 작업\n",
        "\n",
        "max((train_images / 255).reshape(-1) )\n"
      ],
      "execution_count": 35,
      "outputs": [
        {
          "output_type": "execute_result",
          "data": {
            "text/plain": [
              "1.0"
            ]
          },
          "metadata": {
            "tags": []
          },
          "execution_count": 35
        }
      ]
    },
    {
      "cell_type": "code",
      "metadata": {
        "id": "pE9RyvMEr6i2"
      },
      "source": [
        "train_images = train_images / 255\n",
        "test_images = test_images / 255"
      ],
      "execution_count": 36,
      "outputs": []
    },
    {
      "cell_type": "markdown",
      "metadata": {
        "id": "j9_okXfnsf6i"
      },
      "source": [
        "## 시각화"
      ]
    },
    {
      "cell_type": "code",
      "metadata": {
        "colab": {
          "base_uri": "https://localhost:8080/"
        },
        "id": "1opF5wClsi57",
        "outputId": "c3412c09-47ab-46d9-fd71-d2c64c8c78af"
      },
      "source": [
        "# train_image의 이미지 5장을 획득하여 (5,28,28)의 shape을 보자\n",
        "\n",
        "train_images[:5].shape"
      ],
      "execution_count": 46,
      "outputs": [
        {
          "output_type": "execute_result",
          "data": {
            "text/plain": [
              "(5, 28, 28)"
            ]
          },
          "metadata": {
            "tags": []
          },
          "execution_count": 46
        }
      ]
    },
    {
      "cell_type": "code",
      "metadata": {
        "colab": {
          "base_uri": "https://localhost:8080/"
        },
        "id": "ICZ0XfqPstci",
        "outputId": "121f805a-21fa-4cd8-b484-56ee0154dfb3"
      },
      "source": [
        "# 위의 5장 이미지를 (28, 28*5)의 shape으로 변경해보자\n",
        "# 왜냐하면 5장의 이미지를 출력해보고 싶기 때문에!\n",
        "train_images[:5].reshape(28,-1) # 이걸 plt로 보면 어떻게 나올까"
      ],
      "execution_count": 48,
      "outputs": [
        {
          "output_type": "execute_result",
          "data": {
            "text/plain": [
              "(28, 140)"
            ]
          },
          "metadata": {
            "tags": []
          },
          "execution_count": 48
        }
      ]
    },
    {
      "cell_type": "code",
      "metadata": {
        "colab": {
          "base_uri": "https://localhost:8080/",
          "height": 118
        },
        "id": "24dEB17juSrO",
        "outputId": "fde47017-7800-4e11-8198-159353ec31e2"
      },
      "source": [
        "plt.imshow(train_images[:5].reshape(28,-1))\n",
        "plt.show()\n",
        "\n",
        "#뭔진 몰라도 굉장히 이상하다"
      ],
      "execution_count": 50,
      "outputs": [
        {
          "output_type": "display_data",
          "data": {
            "image/png": "[encoded data removed]",
            "text/plain": [
              "<Figure size 432x288 with 1 Axes>"
            ]
          },
          "metadata": {
            "tags": [],
            "needs_background": "light"
          }
        }
      ]
    },
    {
      "cell_type": "code",
      "metadata": {
        "colab": {
          "base_uri": "https://localhost:8080/"
        },
        "id": "aESWcZXYuZrw",
        "outputId": "2ff1ae7b-d4ff-4492-8d4a-ced786f4cbd3"
      },
      "source": [
        "# hstack 기법을 사용하자\n",
        "np.hstack(train_images[:5]).shape\n",
        "\n",
        "# 같은 shape임\n"
      ],
      "execution_count": 53,
      "outputs": [
        {
          "output_type": "execute_result",
          "data": {
            "text/plain": [
              "(28, 140)"
            ]
          },
          "metadata": {
            "tags": []
          },
          "execution_count": 53
        }
      ]
    },
    {
      "cell_type": "code",
      "metadata": {
        "colab": {
          "base_uri": "https://localhost:8080/",
          "height": 118
        },
        "id": "w4Z7vOf6utM6",
        "outputId": "a84b0249-48b8-4a5e-9f0b-ba927dbbdc79"
      },
      "source": [
        "# plotting을 해보자\n",
        "plt.imshow(np.hstack(train_images[:5]))\n",
        "plt.show()"
      ],
      "execution_count": 56,
      "outputs": [
        {
          "output_type": "display_data",
          "data": {
            "image/png": "[encoded data removed]",
            "text/plain": [
              "<Figure size 432x288 with 1 Axes>"
            ]
          },
          "metadata": {
            "tags": [],
            "needs_background": "light"
          }
        }
      ]
    },
    {
      "cell_type": "code",
      "metadata": {
        "colab": {
          "base_uri": "https://localhost:8080/"
        },
        "id": "IuI6z_KFu5rg",
        "outputId": "e5ec91db-1bed-41f3-ac68-ca66ebe21a69"
      },
      "source": [
        "# transpose 함수를 이용하여 shape를 변경해보자\n",
        "train_images[:5].shape\n",
        "# (5, 28, 28) 이 의미하는 것이 5는 배치축(0번째 축), 28은 height축(1번째 축), 마지막 28은 width축(2번째축)을 의미함 "
      ],
      "execution_count": 59,
      "outputs": [
        {
          "output_type": "execute_result",
          "data": {
            "text/plain": [
              "(5, 28, 28)"
            ]
          },
          "metadata": {
            "tags": []
          },
          "execution_count": 59
        }
      ]
    },
    {
      "cell_type": "code",
      "metadata": {
        "colab": {
          "base_uri": "https://localhost:8080/"
        },
        "id": "fHZg4Up0vX3z",
        "outputId": "25d14ac6-0641-4d35-96b2-27cbe8c99580"
      },
      "source": [
        "train_images[:5].transpose((1,0,2)).reshape(28,-1).shape #height축, 배치축, width축으로 할거다. 라는 것을 의미"
      ],
      "execution_count": 60,
      "outputs": [
        {
          "output_type": "execute_result",
          "data": {
            "text/plain": [
              "(28, 140)"
            ]
          },
          "metadata": {
            "tags": []
          },
          "execution_count": 60
        }
      ]
    },
    {
      "cell_type": "code",
      "metadata": {
        "colab": {
          "base_uri": "https://localhost:8080/",
          "height": 118
        },
        "id": "2EzoGJCowD8p",
        "outputId": "6c55d9a8-8572-4367-ca67-b619b13dda1f"
      },
      "source": [
        "# 그렇다면 plt로 확인해보자\n",
        "\n",
        "plt.imshow(train_images[:5].reshape(28,-1))\n",
        "plt.show()"
      ],
      "execution_count": 61,
      "outputs": [
        {
          "output_type": "display_data",
          "data": {
            "image/png": "[encoded data removed]",
            "text/plain": [
              "<Figure size 432x288 with 1 Axes>"
            ]
          },
          "metadata": {
            "tags": [],
            "needs_background": "light"
          }
        }
      ]
    },
    {
      "cell_type": "code",
      "metadata": {
        "colab": {
          "base_uri": "https://localhost:8080/",
          "height": 118
        },
        "id": "WeA3pTGpwRts",
        "outputId": "64ddb6d3-8c2d-4dea-fb01-d6a139cdf7aa"
      },
      "source": [
        "plt.imshow(np.hstack(train_images[:5]))\n",
        "plt.show()"
      ],
      "execution_count": 62,
      "outputs": [
        {
          "output_type": "display_data",
          "data": {
            "image/png": "[encoded data removed]",
            "text/plain": [
              "<Figure size 432x288 with 1 Axes>"
            ]
          },
          "metadata": {
            "tags": [],
            "needs_background": "light"
          }
        }
      ]
    },
    {
      "cell_type": "code",
      "metadata": {
        "colab": {
          "base_uri": "https://localhost:8080/",
          "height": 118
        },
        "id": "xUu6iV3_wUng",
        "outputId": "07e78d0b-bcde-4344-9448-56cd3690a205"
      },
      "source": [
        "plt.imshow(train_images[:5].transpose((1,0,2)).reshape(28,-1))\n",
        "plt.show()"
      ],
      "execution_count": 63,
      "outputs": [
        {
          "output_type": "display_data",
          "data": {
            "image/png": "[encoded data removed]",
            "text/plain": [
              "<Figure size 432x288 with 1 Axes>"
            ]
          },
          "metadata": {
            "tags": [],
            "needs_background": "light"
          }
        }
      ]
    },
    {
      "cell_type": "code",
      "metadata": {
        "colab": {
          "base_uri": "https://localhost:8080/",
          "height": 295
        },
        "id": "0UL60oilwaLe",
        "outputId": "3e00a29e-45ee-43a3-9a78-b8e2b847e0ad"
      },
      "source": [
        "# 28 x 140이 된 텐서를 흑백으로 표현해보자\n",
        "\n",
        "plt.imshow(train_images[:5].transpose((1,0,2)).reshape(28,-1),cmap='gray')\n",
        "plt.colorbar()\n",
        "plt.show()\n",
        "print('')\n",
        "print(train_labels[:5])"
      ],
      "execution_count": 68,
      "outputs": [
        {
          "output_type": "display_data",
          "data": {
            "image/png": "[encoded data removed]",
            "text/plain": [
              "<Figure size 432x288 with 2 Axes>"
            ]
          },
          "metadata": {
            "tags": [],
            "needs_background": "light"
          }
        },
        {
          "output_type": "stream",
          "text": [
            "\n",
            "[5 0 4 1 9]\n"
          ],
          "name": "stdout"
        }
      ]
    },
    {
      "cell_type": "markdown",
      "metadata": {
        "id": "NcZ1j7MZxQry"
      },
      "source": [
        "## Data Augmentation - noise 추가방법\n",
        " - 원본은 유지하되 데이터를 살짝 바꾸는 방법"
      ]
    },
    {
      "cell_type": "code",
      "metadata": {
        "colab": {
          "base_uri": "https://localhost:8080/"
        },
        "id": "HtRva7j4w7_L",
        "outputId": "e7533e6c-c2d4-4189-b8d3-521d7edd9fb4"
      },
      "source": [
        "# np.random.random 함수를 이용해보자\n",
        "\n",
        "np.random.random(3)"
      ],
      "execution_count": 69,
      "outputs": [
        {
          "output_type": "execute_result",
          "data": {
            "text/plain": [
              "array([0.9031083 , 0.71901596, 0.22702234])"
            ]
          },
          "metadata": {
            "tags": []
          },
          "execution_count": 69
        }
      ]
    },
    {
      "cell_type": "code",
      "metadata": {
        "id": "3av4DRzU3gmt"
      },
      "source": [
        "# 위 함수를 이용하여  shape 파라미터를 (28, 28)의 랜덤 노이즈를 생성해보자\n",
        "noise = np.random.random((28,28))"
      ],
      "execution_count": 72,
      "outputs": []
    },
    {
      "cell_type": "code",
      "metadata": {
        "colab": {
          "base_uri": "https://localhost:8080/",
          "height": 265
        },
        "id": "DgfhYY-H31BI",
        "outputId": "d72d430e-dc0c-4aad-88fc-4b322619855a"
      },
      "source": [
        "# 생성된 노이즈를 plt를 통해 확인해보자\n",
        "noise = np.random.random((28,28))\n",
        "plt.imshow(noise, cmap='gray')\n",
        "plt.colorbar()\n",
        "plt.show()"
      ],
      "execution_count": 81,
      "outputs": [
        {
          "output_type": "display_data",
          "data": {
            "image/png": "[encoded data removed]",
            "text/plain": [
              "<Figure size 432x288 with 2 Axes>"
            ]
          },
          "metadata": {
            "tags": [],
            "needs_background": "light"
          }
        }
      ]
    },
    {
      "cell_type": "code",
      "metadata": {
        "colab": {
          "base_uri": "https://localhost:8080/"
        },
        "id": "s00gNaEM4FJe",
        "outputId": "7dd61769-331d-4637-c54a-ab29cf8a40c7"
      },
      "source": [
        "# 이번에는 가우시안 노이즈 함수를 사용하여 평균 0 , 표준편차0.1, 사이즈 1로 랜덤값을 3번 출력해보자\n",
        "print(np.random.normal(0,0.1,1))\n",
        "print(np.random.normal(0,0.1,1))\n",
        "print(np.random.normal(0,0.1,1))"
      ],
      "execution_count": 86,
      "outputs": [
        {
          "output_type": "stream",
          "text": [
            "[-0.088334]\n",
            "[-0.05474505]\n",
            "[-0.19930083]\n"
          ],
          "name": "stdout"
        }
      ]
    },
    {
      "cell_type": "code",
      "metadata": {
        "colab": {
          "base_uri": "https://localhost:8080/"
        },
        "id": "3trvc6DF4eXV",
        "outputId": "ff5a3a6c-36d6-4873-fff8-e720d0cf107f"
      },
      "source": [
        "# 이번에는 가우시안 노이즈 함수 평균 3, 표준편차 0.03, 사이즈 1로 출력해보자\n",
        "\n",
        "print(np.random.normal(0,0.1,1))\n",
        "print(np.random.normal(0,0.1,1))\n",
        "print(np.random.normal(0,0.1,1))\n",
        "\n",
        "print('')\n",
        "\n",
        "print(np.random.normal(3,0.01,1))\n",
        "print(np.random.normal(3,0.01,1))\n",
        "print(np.random.normal(3,0.01,1))"
      ],
      "execution_count": 87,
      "outputs": [
        {
          "output_type": "stream",
          "text": [
            "[0.0428846]\n",
            "[0.21741255]\n",
            "[0.029658]\n",
            "\n",
            "[2.99774203]\n",
            "[3.00969259]\n",
            "[2.98633736]\n"
          ],
          "name": "stdout"
        }
      ]
    },
    {
      "cell_type": "code",
      "metadata": {
        "colab": {
          "base_uri": "https://localhost:8080/",
          "height": 265
        },
        "id": "SV96vdD85KMX",
        "outputId": "1771be47-9beb-4a39-99b5-a2ac1cf102ce"
      },
      "source": [
        "# 출력해보자\n",
        "\n",
        "noise2 = np.random.normal(3,0.01,(28,28))  #뒤에 사이즈에다가 28x28을 해주면 됨\n",
        "plt.imshow(noise2, cmap='gray')\n",
        "plt.colorbar()\n",
        "plt.show()\n"
      ],
      "execution_count": 89,
      "outputs": [
        {
          "output_type": "display_data",
          "data": {
            "image/png": "[encoded data removed]",
            "text/plain": [
              "<Figure size 432x288 with 2 Axes>"
            ]
          },
          "metadata": {
            "tags": [],
            "needs_background": "light"
          }
        }
      ]
    },
    {
      "cell_type": "code",
      "metadata": {
        "colab": {
          "base_uri": "https://localhost:8080/"
        },
        "id": "PmiIoUJL5VyS",
        "outputId": "2118b39e-726e-4481-c45d-350e18b8b268"
      },
      "source": [
        "# Train_images의 5번째 이미지와 가우시안 노이즈를 생성한 뒤 각각 tensor에 더한 뒤 noisy_image변수에 할당해보자\n",
        "train_labels[5]"
      ],
      "execution_count": 92,
      "outputs": [
        {
          "output_type": "execute_result",
          "data": {
            "text/plain": [
              "2"
            ]
          },
          "metadata": {
            "tags": []
          },
          "execution_count": 92
        }
      ]
    },
    {
      "cell_type": "code",
      "metadata": {
        "colab": {
          "base_uri": "https://localhost:8080/"
        },
        "id": "TbP1yv-N6B2i",
        "outputId": "c0842428-504d-4ae3-85a8-5f2df17a0184"
      },
      "source": [
        "(train_labels[5] + np.random.normal(0.0, 0.01, (28,28))).shape"
      ],
      "execution_count": 93,
      "outputs": [
        {
          "output_type": "execute_result",
          "data": {
            "text/plain": [
              "(28, 28)"
            ]
          },
          "metadata": {
            "tags": []
          },
          "execution_count": 93
        }
      ]
    },
    {
      "cell_type": "code",
      "metadata": {
        "id": "EuU5omcv6O48"
      },
      "source": [
        "noisy_image = train_images[5] + np.random.normal(0.5, 0.1, (28,28))"
      ],
      "execution_count": 116,
      "outputs": []
    },
    {
      "cell_type": "code",
      "metadata": {
        "colab": {
          "base_uri": "https://localhost:8080/",
          "height": 265
        },
        "id": "wz2IdRZb6W7F",
        "outputId": "2a24e672-292c-4bd8-e25b-cad5f8ae4842"
      },
      "source": [
        "# 노이즈 이미지 출력\n",
        "plt.imshow(noisy_image, cmap='gray')\n",
        "plt.colorbar()\n",
        "plt.show()\n",
        "\n",
        "# 1을 초과하는 것을 볼 수 있음.\n"
      ],
      "execution_count": 117,
      "outputs": [
        {
          "output_type": "display_data",
          "data": {
            "image/png": "[encoded data removed]",
            "text/plain": [
              "<Figure size 432x288 with 2 Axes>"
            ]
          },
          "metadata": {
            "tags": [],
            "needs_background": "light"
          }
        }
      ]
    },
    {
      "cell_type": "code",
      "metadata": {
        "id": "xBre6Oby6bC1"
      },
      "source": [
        "# 노이즈 이미지의 맥스값을 1로 설정해주자\n",
        "# 맥스값이 1을 초과하지 않게 noisy_image 를 수정한 뒤 plt로 출력해보자\n",
        "\n",
        "noisy_image[noisy_image > 1] = 1.0"
      ],
      "execution_count": 119,
      "outputs": []
    },
    {
      "cell_type": "code",
      "metadata": {
        "colab": {
          "base_uri": "https://localhost:8080/"
        },
        "id": "t2znoRxe7Q29",
        "outputId": "449f9557-7075-4aa3-8b62-36f675fda21d"
      },
      "source": [
        "noisy_image[10:11]"
      ],
      "execution_count": 125,
      "outputs": [
        {
          "output_type": "execute_result",
          "data": {
            "text/plain": [
              "array([[0.42245202, 0.53493944, 0.54577779, 0.22709373, 0.54218507,\n",
              "        0.57451651, 0.48788819, 0.44351421, 0.4066249 , 0.99313402,\n",
              "        1.        , 1.        , 1.        , 1.        , 0.77078814,\n",
              "        0.35190956, 0.34618694, 0.68022635, 1.        , 1.        ,\n",
              "        0.77948558, 0.423902  , 0.54004397, 0.41952818, 0.57975967,\n",
              "        0.42680581, 0.62396065, 0.68375499]])"
            ]
          },
          "metadata": {
            "tags": []
          },
          "execution_count": 125
        }
      ]
    },
    {
      "cell_type": "code",
      "metadata": {
        "colab": {
          "base_uri": "https://localhost:8080/",
          "height": 269
        },
        "id": "nWkHwELf7YR5",
        "outputId": "c3b8a3e6-8e54-4f7d-9c27-d58fca7a0692"
      },
      "source": [
        "plt.imshow(noisy_image, cmap='gray')\n",
        "plt.colorbar()\n",
        "plt.show()"
      ],
      "execution_count": 126,
      "outputs": [
        {
          "output_type": "display_data",
          "data": {
            "image/png": "[encoded data removed]",
            "text/plain": [
              "<Figure size 432x288 with 2 Axes>"
            ]
          },
          "metadata": {
            "tags": [],
            "needs_background": "light"
          }
        }
      ]
    },
    {
      "cell_type": "code",
      "metadata": {
        "colab": {
          "base_uri": "https://localhost:8080/"
        },
        "id": "bL9SGIgQ7qnM",
        "outputId": "d9773797-15c1-4fca-fdaa-6f85931ca2b9"
      },
      "source": [
        "# 이제 트레인 이미지와 테스트 이미지에 노이즈를 추가해보자\n",
        "\n",
        "train_images.shape"
      ],
      "execution_count": 127,
      "outputs": [
        {
          "output_type": "execute_result",
          "data": {
            "text/plain": [
              "(60000, 28, 28)"
            ]
          },
          "metadata": {
            "tags": []
          },
          "execution_count": 127
        }
      ]
    },
    {
      "cell_type": "code",
      "metadata": {
        "id": "Q1wD1d3o76h9"
      },
      "source": [
        "train_noisy_images = train_images + np.random.normal(0.5, 0.1, train_images.shape)\n",
        "train_noisy_images[train_noisy_images > 1.0] = 1.0\n",
        "\n",
        "test_noisy_images = test_images + np.random.normal(0.5, 0.1, test_images.shape)\n",
        "test_noisy_images[test_noisy_images > 1.0] = 1.0\n"
      ],
      "execution_count": 128,
      "outputs": []
    },
    {
      "cell_type": "code",
      "metadata": {
        "colab": {
          "base_uri": "https://localhost:8080/"
        },
        "id": "QCCjYl-a8rf0",
        "outputId": "9da69166-d2ef-4a70-a120-baf610e7c70f"
      },
      "source": [
        "# label에 one-hot 인코딩을 적용하여 (배치사이즈, 클래스 개수)의 shape으로 변경해보자.\n",
        "train_labels[:5]"
      ],
      "execution_count": 130,
      "outputs": [
        {
          "output_type": "execute_result",
          "data": {
            "text/plain": [
              "array([5, 0, 4, 1, 9], dtype=uint8)"
            ]
          },
          "metadata": {
            "tags": []
          },
          "execution_count": 130
        }
      ]
    },
    {
      "cell_type": "code",
      "metadata": {
        "colab": {
          "base_uri": "https://localhost:8080/"
        },
        "id": "tpNykuGG9TjF",
        "outputId": "884e3b45-30ab-45fa-d918-0d0f7d84f5ca"
      },
      "source": [
        "train_labels[0]"
      ],
      "execution_count": 131,
      "outputs": [
        {
          "output_type": "execute_result",
          "data": {
            "text/plain": [
              "5"
            ]
          },
          "metadata": {
            "tags": []
          },
          "execution_count": 131
        }
      ]
    },
    {
      "cell_type": "code",
      "metadata": {
        "colab": {
          "base_uri": "https://localhost:8080/"
        },
        "id": "CJ-e5Gij87OL",
        "outputId": "7dd7ad5b-5489-41b5-e9f4-4200d18f236d"
      },
      "source": [
        "from keras.utils import to_categorical\n",
        "\n",
        "to_categorical(train_labels[0])"
      ],
      "execution_count": 132,
      "outputs": [
        {
          "output_type": "execute_result",
          "data": {
            "text/plain": [
              "array([0., 0., 0., 0., 0., 1.], dtype=float32)"
            ]
          },
          "metadata": {
            "tags": []
          },
          "execution_count": 132
        }
      ]
    },
    {
      "cell_type": "code",
      "metadata": {
        "colab": {
          "base_uri": "https://localhost:8080/"
        },
        "id": "Eil844yK9W02",
        "outputId": "7455fe87-3d22-41f8-af95-df09b3313292"
      },
      "source": [
        "to_categorical(4), to_categorical(2) # 이렇게하면 텐서 갯수가 왔따리 갔다리 하지만 이걸 고정해줄 수 있음."
      ],
      "execution_count": 134,
      "outputs": [
        {
          "output_type": "execute_result",
          "data": {
            "text/plain": [
              "(array([0., 0., 0., 0., 1.], dtype=float32),\n",
              " array([0., 0., 1.], dtype=float32))"
            ]
          },
          "metadata": {
            "tags": []
          },
          "execution_count": 134
        }
      ]
    },
    {
      "cell_type": "code",
      "metadata": {
        "colab": {
          "base_uri": "https://localhost:8080/"
        },
        "id": "aANyhFCL9eQI",
        "outputId": "4a1294c0-3a68-4fb6-90ad-0f689656c5aa"
      },
      "source": [
        "to_categorical(2,10) #고정완료"
      ],
      "execution_count": 135,
      "outputs": [
        {
          "output_type": "execute_result",
          "data": {
            "text/plain": [
              "array([0., 0., 1., 0., 0., 0., 0., 0., 0., 0.], dtype=float32)"
            ]
          },
          "metadata": {
            "tags": []
          },
          "execution_count": 135
        }
      ]
    },
    {
      "cell_type": "code",
      "metadata": {
        "colab": {
          "base_uri": "https://localhost:8080/"
        },
        "id": "2OZBt-_n9k9c",
        "outputId": "6d7e0c3f-ca05-4d5b-fd5b-3395dd833c88"
      },
      "source": [
        "print(train_labels.shape, test_labels.shape)\n",
        "train_labels = to_categorical(train_labels, 10)\n",
        "test_labels = to_categorical(test_labels, 10)\n",
        "print(train_labels.shape, test_labels.shape)"
      ],
      "execution_count": 138,
      "outputs": [
        {
          "output_type": "stream",
          "text": [
            "(60000,) (10000,)\n",
            "(60000, 10) (10000, 10)\n"
          ],
          "name": "stdout"
        }
      ]
    },
    {
      "cell_type": "code",
      "metadata": {
        "id": "l_ztC7X69yyv"
      },
      "source": [
        ""
      ],
      "execution_count": null,
      "outputs": []
    }
  ]
}