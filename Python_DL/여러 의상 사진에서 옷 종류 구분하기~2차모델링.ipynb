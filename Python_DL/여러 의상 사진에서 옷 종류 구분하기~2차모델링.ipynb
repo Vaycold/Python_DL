{
  "nbformat": 4,
  "nbformat_minor": 0,
  "metadata": {
    "colab": {
      "name": "여러 의상 사진에서 옷 종류 구분하기.ipynb",
      "provenance": [],
      "authorship_tag": "ABX9TyOBWCS/79nHgYppng8/qU4I",
      "include_colab_link": true
    },
    "kernelspec": {
      "name": "python3",
      "display_name": "Python 3"
    },
    "language_info": {
      "name": "python"
    },
    "accelerator": "GPU"
  },
  "cells": [
    {
      "cell_type": "markdown",
      "metadata": {
        "id": "view-in-github",
        "colab_type": "text"
      },
      "source": [
        "<a href=\"https://colab.research.google.com/github/moch1996/Vaycold/blob/main/Python_DL/%EC%97%AC%EB%9F%AC%20%EC%9D%98%EC%83%81%20%EC%82%AC%EC%A7%84%EC%97%90%EC%84%9C%20%EC%98%B7%20%EC%A2%85%EB%A5%98%20%EA%B5%AC%EB%B6%84%ED%95%98%EA%B8%B0~2%EC%B0%A8%EB%AA%A8%EB%8D%B8%EB%A7%81.ipynb\" target=\"_parent\"><img src=\"https://colab.research.google.com/assets/colab-badge.svg\" alt=\"Open In Colab\"/></a>"
      ]
    },
    {
      "cell_type": "markdown",
      "metadata": {
        "id": "szHq3rqTSM1R"
      },
      "source": [
        "# 이번 학습의 방향\n",
        "    1차 모델링결과 메모리 문제로 코랩에서 더 진행할 수가 없기에 \n",
        "    데이터크기를 줄인 후 다시 모델링을 해보려고 한다.\n",
        "    데이터의 크기는 절반으로 줄일 예정이다\n",
        "     train : (30000,28,28)\n",
        "     test : (5000,28,28)"
      ]
    },
    {
      "cell_type": "markdown",
      "metadata": {
        "id": "baiXLrPhSm_e"
      },
      "source": [
        "## Library"
      ]
    },
    {
      "cell_type": "code",
      "metadata": {
        "id": "W0Dnaz4xRfjg"
      },
      "source": [
        "import tensorflow as tf\n",
        "from tensorflow import keras\n",
        "from keras.models import Sequential\n",
        "from keras.layers import Input, MaxPool2D, Conv2D, Dropout, Dense, Flatten, GlobalAveragePooling2D\n",
        "from keras.models import Model\n",
        "from keras.utils import to_categorical\n",
        "\n",
        "\n",
        "import pandas as pd\n",
        "import numpy as np\n",
        "import matplotlib.pyplot as plt\n",
        "import seaborn as sns\n",
        "import warnings\n",
        "from IPython.display import Image\n",
        "from google.colab import drive\n",
        "\n",
        "warnings.filterwarnings('ignore')\n",
        "\n",
        "SEED=34"
      ],
      "execution_count": 1,
      "outputs": []
    },
    {
      "cell_type": "code",
      "metadata": {
        "id": "7Nv7K8g2Nn7g"
      },
      "source": [
        "# 딱히 필요는 없는 듯 하다..\n",
        "device_name = tf.test.gpu_device_name()\n",
        "if device_name != '/device:GPU:0':\n",
        "  print(\n",
        "      '\\n\\nThis error most likely means that this notebook is not '\n",
        "      'configured to use a GPU.  Change this in Notebook Settings via the '\n",
        "      'command palette (cmd/ctrl-shift-P) or the Edit menu.\\n\\n')\n",
        "  raise SystemError('GPU device not found')"
      ],
      "execution_count": 2,
      "outputs": []
    },
    {
      "cell_type": "markdown",
      "metadata": {
        "id": "-dVrIj0unqXP"
      },
      "source": [
        "## 지난 번 생성했던 함수들"
      ]
    },
    {
      "cell_type": "code",
      "metadata": {
        "id": "Q5gjtpj0n0BR"
      },
      "source": [
        "def idx2label(idx) :\n",
        "  return labels[idx]"
      ],
      "execution_count": 3,
      "outputs": []
    },
    {
      "cell_type": "code",
      "metadata": {
        "id": "80F0kjOyn1KZ"
      },
      "source": [
        "# 이미지 한장의 크기를 4배로 확대하고, 객체는 4분면 영역중 랜덤으로 1공간에 넣는 함수를 작성해보자\n",
        "\n",
        "def expand(img) :\n",
        "  bg = np.zeros(img.shape)\n",
        "  # 1 0\n",
        "  # 2 3\n",
        "  idx = np.random.randint(0,4)\n",
        "  slots = [bg,bg,bg,bg]\n",
        "  slots[idx] = img\n",
        "  expanded = np.vstack([\n",
        "                        np.hstack(slots[:2]), \n",
        "                        np.hstack(slots[2:])\n",
        "                        \n",
        "  ]\n",
        "  )\n",
        "  return expanded"
      ],
      "execution_count": 4,
      "outputs": []
    },
    {
      "cell_type": "code",
      "metadata": {
        "id": "0KCPN4IHn1H2"
      },
      "source": [
        "def expand_4times(x_data,y_data) :\n",
        "  images = []\n",
        "  labels = []\n",
        "\n",
        "  for _ in range(4) :\n",
        "    bg = np.zeros((28,28))\n",
        "    obj_count = np.random.randint(0,5)\n",
        "\n",
        "    label = np.zeros((10,))\n",
        "    slots = [bg, bg,bg,bg]\n",
        "\n",
        "    for idx in range(obj_count) :\n",
        "      i = np.random.randint(len(x_data))\n",
        "      slots[idx] = x_data[i]\n",
        "      label += tf.keras.utils.to_categorical(y_data[i],10)\n",
        "    \n",
        "    np.random.shuffle(slots)\n",
        "  \n",
        "  new_img = np.vstack([\n",
        "                       np.hstack(slots[:2]),\n",
        "                       np.hstack(slots[2:])\n",
        "  ])\n",
        "\n",
        "  images.append(new_img)\n",
        "  labels.append((label >=1).astype(np.int))\n",
        "  return np.array(images), np.array(labels)"
      ],
      "execution_count": 5,
      "outputs": []
    },
    {
      "cell_type": "code",
      "metadata": {
        "id": "ei6la32jn1Fa",
        "colab": {
          "base_uri": "https://localhost:8080/",
          "height": 90
        },
        "outputId": "bc2d975f-36e9-4724-df01-07698ab1589d"
      },
      "source": [
        "'''\n",
        "있으면 편리할 거 같지만 필수는 아닐 거 같은...\n",
        "\n",
        "def final(n) :\n",
        "  res = model2.predict(test_multi_images[n].reshape((1,56,56,1)) )\n",
        "\n",
        "\n",
        "  plt.figure(figsize=(8,10))\n",
        "\n",
        "  plt.subplot(311)\n",
        "  plt.imshow(test_multi_images[n].reshape((56,56))) # 이미지\n",
        "\n",
        "  plt.subplot(312)\n",
        "  plt.bar(np.arange(0,10), test_multi_labels[n], color='black')\n",
        "  plt.title('correct')\n",
        "\n",
        "  plt.subplot(313)\n",
        "  plt.bar(np.arange(0,10), res[0], color='gray')\n",
        "  plt.ylim(0,1.05)\n",
        "\n",
        "\n",
        "  plt.show()\n",
        "  for idx in list(np.argwhere(test_multi_labels[n]==1).reshape(-1)) :\n",
        "    print('')\n",
        "    print(idx2label(idx))\n",
        "\n",
        "'''"
      ],
      "execution_count": null,
      "outputs": [
        {
          "output_type": "execute_result",
          "data": {
            "application/vnd.google.colaboratory.intrinsic+json": {
              "type": "string"
            },
            "text/plain": [
              "\"\\n있으면 편리할 거 같지만 필수는 아닐 거 같은...\\n\\ndef final(n) :\\n  res = model2.predict(test_multi_images[n].reshape((1,56,56,1)) )\\n\\n\\n  plt.figure(figsize=(8,10))\\n\\n  plt.subplot(311)\\n  plt.imshow(test_multi_images[n].reshape((56,56))) # 이미지\\n\\n  plt.subplot(312)\\n  plt.bar(np.arange(0,10), test_multi_labels[n], color='black')\\n  plt.title('correct')\\n\\n  plt.subplot(313)\\n  plt.bar(np.arange(0,10), res[0], color='gray')\\n  plt.ylim(0,1.05)\\n\\n\\n  plt.show()\\n  for idx in list(np.argwhere(test_multi_labels[n]==1).reshape(-1)) :\\n    print('')\\n    print(idx2label(idx))\\n\\n\""
            ]
          },
          "metadata": {
            "tags": []
          },
          "execution_count": 8
        }
      ]
    },
    {
      "cell_type": "code",
      "metadata": {
        "id": "0hTMRn-wn1Cp"
      },
      "source": [
        "# 개수에 따라 연속된 그림을 보여주는 함수를 작성해보자\n",
        "def filter(obj_count, count=5) :\n",
        "  labels = train_multi_labels.sum(axis=1)\n",
        "  ids = np.argwhere( labels == obj_count)[:count,0]\n",
        "\n",
        "  imgs = train_multi_images[ids][...,0].transpose((1,0,2)).reshape(56,-1)\n",
        "  plt.imshow(imgs)\n",
        "  plt.show()"
      ],
      "execution_count": 32,
      "outputs": []
    },
    {
      "cell_type": "markdown",
      "metadata": {
        "id": "mYCJEwbiTKJI"
      },
      "source": [
        "## 진행"
      ]
    },
    {
      "cell_type": "code",
      "metadata": {
        "id": "zn7w-BGJTIFG",
        "outputId": "c6afcb1e-e274-4248-e6a5-d1d9b410545c",
        "colab": {
          "base_uri": "https://localhost:8080/"
        }
      },
      "source": [
        "# fashion MNIST 데이터를 살펴보자\n",
        "fashion_mnist = keras.datasets.fashion_mnist\n",
        "((train_images,train_labels),(test_images, test_labels)) = fashion_mnist.load_data()"
      ],
      "execution_count": 7,
      "outputs": [
        {
          "output_type": "stream",
          "text": [
            "Downloading data from https://storage.googleapis.com/tensorflow/tf-keras-datasets/train-labels-idx1-ubyte.gz\n",
            "32768/29515 [=================================] - 0s 0us/step\n",
            "Downloading data from https://storage.googleapis.com/tensorflow/tf-keras-datasets/train-images-idx3-ubyte.gz\n",
            "26427392/26421880 [==============================] - 1s 0us/step\n",
            "Downloading data from https://storage.googleapis.com/tensorflow/tf-keras-datasets/t10k-labels-idx1-ubyte.gz\n",
            "8192/5148 [===============================================] - 0s 0us/step\n",
            "Downloading data from https://storage.googleapis.com/tensorflow/tf-keras-datasets/t10k-images-idx3-ubyte.gz\n",
            "4423680/4422102 [==============================] - 0s 0us/step\n"
          ],
          "name": "stdout"
        }
      ]
    },
    {
      "cell_type": "code",
      "metadata": {
        "colab": {
          "base_uri": "https://localhost:8080/"
        },
        "id": "TvG77WXuVfhy",
        "outputId": "a8a1e050-b566-4878-d0c8-53eb90388066"
      },
      "source": [
        "print(train_images.shape, train_labels.shape)\n",
        "print(test_images.shape, test_labels.shape)"
      ],
      "execution_count": 8,
      "outputs": [
        {
          "output_type": "stream",
          "text": [
            "(60000, 28, 28) (60000,)\n",
            "(10000, 28, 28) (10000,)\n"
          ],
          "name": "stdout"
        }
      ]
    },
    {
      "cell_type": "code",
      "metadata": {
        "id": "IpQ-KpVSFBqF"
      },
      "source": [
        "# 데이터를 절반만 사용하자\n",
        "\n",
        "train_images = train_images[:30000]\n",
        "train_labels = train_labels[:30000]\n",
        "\n",
        "test_images = test_images[:5000]\n",
        "test_labels = test_labels[:5000]\n"
      ],
      "execution_count": 12,
      "outputs": []
    },
    {
      "cell_type": "code",
      "metadata": {
        "id": "UbiSRf77FfkW"
      },
      "source": [
        "labels = [\"T-shirt/top\",   #idx 0\n",
        "          \"Trouser\",       #idx 1\n",
        "          \"Pullover\",      #idx 2\n",
        "          \"Dress\",         #idx 3\n",
        "          \"Coat\",          #idx 4\n",
        "          \"Sandal\",        #idx 5\n",
        "          \"Shirt\",         #idx 6\n",
        "          \"Sneaker\",       #idx 7\n",
        "          \"Bag\",           #idx 8\n",
        "          \"Ankle_boot\"]    #idx 9"
      ],
      "execution_count": 60,
      "outputs": []
    },
    {
      "cell_type": "code",
      "metadata": {
        "id": "jYYSBJUGpopI"
      },
      "source": [
        "train_images = train_images.astype(np.float64)\n",
        "test_images = test_images.astype(np.float64)"
      ],
      "execution_count": 17,
      "outputs": []
    },
    {
      "cell_type": "code",
      "metadata": {
        "id": "WFcgvMpbqq8s"
      },
      "source": [
        "train_images = train_images / 255\n",
        "test_images = test_images / 255"
      ],
      "execution_count": 18,
      "outputs": []
    },
    {
      "cell_type": "code",
      "metadata": {
        "id": "PEOzolBXgVts"
      },
      "source": [
        "train_expand_images = np.array([expand(img) for img in train_images])\n",
        "test_expand_images = np.array([expand(img) for img in test_images])"
      ],
      "execution_count": 22,
      "outputs": []
    },
    {
      "cell_type": "code",
      "metadata": {
        "colab": {
          "base_uri": "https://localhost:8080/"
        },
        "id": "Nz5hahyqhh0W",
        "outputId": "825d1abc-98d5-4d91-c968-6db92b283d2f"
      },
      "source": [
        "train_expand_images.shape, test_expand_images.shape"
      ],
      "execution_count": 23,
      "outputs": [
        {
          "output_type": "execute_result",
          "data": {
            "text/plain": [
              "((30000, 56, 56), (5000, 56, 56))"
            ]
          },
          "metadata": {
            "tags": []
          },
          "execution_count": 23
        }
      ]
    },
    {
      "cell_type": "code",
      "metadata": {
        "id": "ysXmdFYFqTEz"
      },
      "source": [
        "train_multi_images, train_multi_labels = list(zip(*[expand_4times(train_images, train_labels) for i in train_images]))\n",
        "test_multi_images, test_multi_labels = list(zip(*[expand_4times(test_images, test_labels) for i in test_images]))"
      ],
      "execution_count": 24,
      "outputs": []
    },
    {
      "cell_type": "code",
      "metadata": {
        "colab": {
          "base_uri": "https://localhost:8080/"
        },
        "id": "pNiroJi0rZnJ",
        "outputId": "4ba01dfa-7f5d-4e15-a48e-b027724ad89c"
      },
      "source": [
        "np.array(train_multi_images).shape # 뭐여 중간에1 이 껴있네"
      ],
      "execution_count": 25,
      "outputs": [
        {
          "output_type": "execute_result",
          "data": {
            "text/plain": [
              "(30000, 1, 56, 56)"
            ]
          },
          "metadata": {
            "tags": []
          },
          "execution_count": 25
        }
      ]
    },
    {
      "cell_type": "code",
      "metadata": {
        "colab": {
          "base_uri": "https://localhost:8080/"
        },
        "id": "DRYK_fd0tiex",
        "outputId": "fbe3bdb2-3b20-46c2-b66f-7232f08ffa8f"
      },
      "source": [
        "np.array(train_multi_images)[...,0, :, :].shape"
      ],
      "execution_count": 26,
      "outputs": [
        {
          "output_type": "execute_result",
          "data": {
            "text/plain": [
              "(30000, 56, 56)"
            ]
          },
          "metadata": {
            "tags": []
          },
          "execution_count": 26
        }
      ]
    },
    {
      "cell_type": "code",
      "metadata": {
        "colab": {
          "base_uri": "https://localhost:8080/"
        },
        "id": "Gz0EXpZDt2fM",
        "outputId": "21c7730a-e512-4fa1-cafa-5f117b9958a9"
      },
      "source": [
        "# 이렇게 표시하는게 더 이해하기 쉬움\n",
        "np.array(train_multi_images)[:,0,:,:].shape"
      ],
      "execution_count": 27,
      "outputs": [
        {
          "output_type": "execute_result",
          "data": {
            "text/plain": [
              "(30000, 56, 56)"
            ]
          },
          "metadata": {
            "tags": []
          },
          "execution_count": 27
        }
      ]
    },
    {
      "cell_type": "code",
      "metadata": {
        "colab": {
          "base_uri": "https://localhost:8080/"
        },
        "id": "8f9RxeuFuFai",
        "outputId": "5c3d4231-e79d-402d-cc1f-f99eb17d33b8"
      },
      "source": [
        "np.array(train_multi_labels).shape # 얘도 바꿔주자"
      ],
      "execution_count": 28,
      "outputs": [
        {
          "output_type": "execute_result",
          "data": {
            "text/plain": [
              "(30000, 1, 10)"
            ]
          },
          "metadata": {
            "tags": []
          },
          "execution_count": 28
        }
      ]
    },
    {
      "cell_type": "code",
      "metadata": {
        "colab": {
          "base_uri": "https://localhost:8080/"
        },
        "id": "62KAK_mFuQ8M",
        "outputId": "dccaf86c-e043-477a-c846-1982aec4e884"
      },
      "source": [
        "np.array(train_multi_labels)[:,0,:].shape"
      ],
      "execution_count": 29,
      "outputs": [
        {
          "output_type": "execute_result",
          "data": {
            "text/plain": [
              "(30000, 10)"
            ]
          },
          "metadata": {
            "tags": []
          },
          "execution_count": 29
        }
      ]
    },
    {
      "cell_type": "code",
      "metadata": {
        "id": "xfLF-w9JuVUK"
      },
      "source": [
        "# 데이터셋을 재정의하자\n",
        "train_multi_images = np.array(train_multi_images)[:,0,:,:].reshape(-1,56,56,1)\n",
        "train_multi_labels = np.array(train_multi_labels)[:,0,:]\n",
        "\n",
        "test_multi_images = np.array(test_multi_images)[:,0,:,:].reshape(-1,56,56,1)\n",
        "test_multi_labels = np.array(test_multi_labels)[:,0,:]"
      ],
      "execution_count": 30,
      "outputs": []
    },
    {
      "cell_type": "code",
      "metadata": {
        "colab": {
          "base_uri": "https://localhost:8080/"
        },
        "id": "8sm4GsEgu0b4",
        "outputId": "fb5ddea9-7e66-4a62-908d-03920885a7d9"
      },
      "source": [
        "train_multi_images.shape, test_multi_images.shape"
      ],
      "execution_count": 31,
      "outputs": [
        {
          "output_type": "execute_result",
          "data": {
            "text/plain": [
              "((30000, 56, 56, 1), (5000, 56, 56, 1))"
            ]
          },
          "metadata": {
            "tags": []
          },
          "execution_count": 31
        }
      ]
    },
    {
      "cell_type": "code",
      "metadata": {
        "colab": {
          "base_uri": "https://localhost:8080/"
        },
        "id": "iK42nuDcwqTh",
        "outputId": "b2f9ec67-4062-4b8d-8de2-5c75e3742c0e"
      },
      "source": [
        "# multi label와 train label 차이\n",
        "train_labels[0]"
      ],
      "execution_count": 33,
      "outputs": [
        {
          "output_type": "execute_result",
          "data": {
            "text/plain": [
              "9"
            ]
          },
          "metadata": {
            "tags": []
          },
          "execution_count": 33
        }
      ]
    },
    {
      "cell_type": "code",
      "metadata": {
        "colab": {
          "base_uri": "https://localhost:8080/"
        },
        "id": "z7OFjEFOxNDk",
        "outputId": "4ba466ba-6539-458f-a2a7-3500de99557f"
      },
      "source": [
        "train_multi_labels[0]"
      ],
      "execution_count": 34,
      "outputs": [
        {
          "output_type": "execute_result",
          "data": {
            "text/plain": [
              "array([0, 0, 0, 0, 1, 1, 1, 0, 0, 0])"
            ]
          },
          "metadata": {
            "tags": []
          },
          "execution_count": 34
        }
      ]
    },
    {
      "cell_type": "markdown",
      "metadata": {
        "id": "mFybddn8yuPQ"
      },
      "source": [
        "## Modeling\n",
        " - Transfer Learning\n",
        "   - 학습을 시킨 후 학습한 내용을 바탕으로 다른 모델을 학습시키는 방법"
      ]
    },
    {
      "cell_type": "code",
      "metadata": {
        "id": "-YdmGA-81mwr"
      },
      "source": [
        "def single_model() :\n",
        "  with tf.device('/device:GPU:0'):\n",
        "    input = Input((56,56,1))\n",
        "    x = Conv2D(16, 2, padding='same',activation='relu')(input)\n",
        "    x = MaxPool2D(2)(x)\n",
        "    x = Dropout(0.3)(x)\n",
        "\n",
        "    x = Conv2D(32, 2, padding='same',activation='relu')(x)\n",
        "    x = MaxPool2D(2)(x)\n",
        "    x = Dropout(0.3)(x)\n",
        "\n",
        "    x = Conv2D(64, 2, padding='same',activation='relu')(x)\n",
        "    x = MaxPool2D(2)(x)\n",
        "    \n",
        "    x = Conv2D(64, 2, padding='same',activation='relu')(x) # 추가\n",
        "    x = MaxPool2D(2)(x)                                    # 추가\n",
        "\n",
        "    x = GlobalAveragePooling2D()(x) \n",
        "    x = Dense(10, activation = 'softmax')(x)\n",
        "\n",
        "    return Model(input,x)"
      ],
      "execution_count": 46,
      "outputs": []
    },
    {
      "cell_type": "code",
      "metadata": {
        "colab": {
          "base_uri": "https://localhost:8080/"
        },
        "id": "EQfK-v661uJs",
        "outputId": "09e90410-732b-4a29-9790-290de1113736"
      },
      "source": [
        "model = single_model()\n",
        "model.summary()"
      ],
      "execution_count": 47,
      "outputs": [
        {
          "output_type": "stream",
          "text": [
            "Model: \"model_2\"\n",
            "_________________________________________________________________\n",
            "Layer (type)                 Output Shape              Param #   \n",
            "=================================================================\n",
            "input_3 (InputLayer)         [(None, 56, 56, 1)]       0         \n",
            "_________________________________________________________________\n",
            "conv2d_7 (Conv2D)            (None, 56, 56, 16)        80        \n",
            "_________________________________________________________________\n",
            "max_pooling2d_7 (MaxPooling2 (None, 28, 28, 16)        0         \n",
            "_________________________________________________________________\n",
            "dropout_4 (Dropout)          (None, 28, 28, 16)        0         \n",
            "_________________________________________________________________\n",
            "conv2d_8 (Conv2D)            (None, 28, 28, 32)        2080      \n",
            "_________________________________________________________________\n",
            "max_pooling2d_8 (MaxPooling2 (None, 14, 14, 32)        0         \n",
            "_________________________________________________________________\n",
            "dropout_5 (Dropout)          (None, 14, 14, 32)        0         \n",
            "_________________________________________________________________\n",
            "conv2d_9 (Conv2D)            (None, 14, 14, 64)        8256      \n",
            "_________________________________________________________________\n",
            "max_pooling2d_9 (MaxPooling2 (None, 7, 7, 64)          0         \n",
            "_________________________________________________________________\n",
            "conv2d_10 (Conv2D)           (None, 7, 7, 64)          16448     \n",
            "_________________________________________________________________\n",
            "max_pooling2d_10 (MaxPooling (None, 3, 3, 64)          0         \n",
            "_________________________________________________________________\n",
            "global_average_pooling2d_2 ( (None, 64)                0         \n",
            "_________________________________________________________________\n",
            "dense_2 (Dense)              (None, 10)                650       \n",
            "=================================================================\n",
            "Total params: 27,514\n",
            "Trainable params: 27,514\n",
            "Non-trainable params: 0\n",
            "_________________________________________________________________\n"
          ],
          "name": "stdout"
        }
      ]
    },
    {
      "cell_type": "code",
      "metadata": {
        "id": "jDcGNb1r3whZ"
      },
      "source": [
        "# 만든 모델에 loss 와 optimizer, metric을 설정하자\n",
        "model.compile(loss = 'categorical_crossentropy', optimizer = 'adam', metrics = ['accuracy'])"
      ],
      "execution_count": 48,
      "outputs": []
    },
    {
      "cell_type": "code",
      "metadata": {
        "colab": {
          "base_uri": "https://localhost:8080/"
        },
        "id": "KfRaiXXS4PB_",
        "outputId": "b8bb20c7-3063-4b94-ab7a-6f19d0592b56"
      },
      "source": [
        "# 모델 학습시키자\n",
        "hist = model.fit(train_expand_images.reshape((-1,56,56,1)),\n",
        "                  to_categorical(train_labels,10),\n",
        "                  \n",
        "                  validation_data = (test_expand_images.reshape((-1,56,56,1)),\n",
        "                                     to_categorical(test_labels,10))\n",
        "                  ,epochs=20, verbose=1)"
      ],
      "execution_count": 49,
      "outputs": [
        {
          "output_type": "stream",
          "text": [
            "Epoch 1/20\n",
            "938/938 [==============================] - 5s 4ms/step - loss: 1.5180 - accuracy: 0.4250 - val_loss: 0.8609 - val_accuracy: 0.6942\n",
            "Epoch 2/20\n",
            "938/938 [==============================] - 4s 4ms/step - loss: 0.8239 - accuracy: 0.6932 - val_loss: 0.6749 - val_accuracy: 0.7590\n",
            "Epoch 3/20\n",
            "938/938 [==============================] - 4s 4ms/step - loss: 0.7058 - accuracy: 0.7379 - val_loss: 0.6225 - val_accuracy: 0.7676\n",
            "Epoch 4/20\n",
            "938/938 [==============================] - 4s 4ms/step - loss: 0.6391 - accuracy: 0.7617 - val_loss: 0.5853 - val_accuracy: 0.7888\n",
            "Epoch 5/20\n",
            "938/938 [==============================] - 4s 4ms/step - loss: 0.5865 - accuracy: 0.7812 - val_loss: 0.5471 - val_accuracy: 0.8046\n",
            "Epoch 6/20\n",
            "938/938 [==============================] - 4s 4ms/step - loss: 0.5617 - accuracy: 0.7871 - val_loss: 0.5090 - val_accuracy: 0.8152\n",
            "Epoch 7/20\n",
            "938/938 [==============================] - 4s 4ms/step - loss: 0.5387 - accuracy: 0.8006 - val_loss: 0.5077 - val_accuracy: 0.8270\n",
            "Epoch 8/20\n",
            "938/938 [==============================] - 4s 4ms/step - loss: 0.5217 - accuracy: 0.8064 - val_loss: 0.5092 - val_accuracy: 0.8172\n",
            "Epoch 9/20\n",
            "938/938 [==============================] - 4s 4ms/step - loss: 0.5043 - accuracy: 0.8122 - val_loss: 0.4751 - val_accuracy: 0.8254\n",
            "Epoch 10/20\n",
            "938/938 [==============================] - 4s 4ms/step - loss: 0.4855 - accuracy: 0.8183 - val_loss: 0.4539 - val_accuracy: 0.8346\n",
            "Epoch 11/20\n",
            "938/938 [==============================] - 4s 4ms/step - loss: 0.4768 - accuracy: 0.8232 - val_loss: 0.4316 - val_accuracy: 0.8526\n",
            "Epoch 12/20\n",
            "938/938 [==============================] - 4s 4ms/step - loss: 0.4627 - accuracy: 0.8284 - val_loss: 0.4272 - val_accuracy: 0.8492\n",
            "Epoch 13/20\n",
            "938/938 [==============================] - 4s 4ms/step - loss: 0.4584 - accuracy: 0.8326 - val_loss: 0.4272 - val_accuracy: 0.8554\n",
            "Epoch 14/20\n",
            "938/938 [==============================] - 4s 4ms/step - loss: 0.4361 - accuracy: 0.8388 - val_loss: 0.4538 - val_accuracy: 0.8440\n",
            "Epoch 15/20\n",
            "938/938 [==============================] - 4s 4ms/step - loss: 0.4267 - accuracy: 0.8414 - val_loss: 0.4161 - val_accuracy: 0.8530\n",
            "Epoch 16/20\n",
            "938/938 [==============================] - 4s 4ms/step - loss: 0.4186 - accuracy: 0.8448 - val_loss: 0.4168 - val_accuracy: 0.8528\n",
            "Epoch 17/20\n",
            "938/938 [==============================] - 4s 4ms/step - loss: 0.4122 - accuracy: 0.8476 - val_loss: 0.4271 - val_accuracy: 0.8470\n",
            "Epoch 18/20\n",
            "938/938 [==============================] - 4s 4ms/step - loss: 0.4085 - accuracy: 0.8498 - val_loss: 0.4123 - val_accuracy: 0.8576\n",
            "Epoch 19/20\n",
            "938/938 [==============================] - 4s 4ms/step - loss: 0.3929 - accuracy: 0.8544 - val_loss: 0.3873 - val_accuracy: 0.8692\n",
            "Epoch 20/20\n",
            "938/938 [==============================] - 4s 4ms/step - loss: 0.3803 - accuracy: 0.8597 - val_loss: 0.3606 - val_accuracy: 0.8728\n"
          ],
          "name": "stdout"
        }
      ]
    },
    {
      "cell_type": "code",
      "metadata": {
        "colab": {
          "base_uri": "https://localhost:8080/",
          "height": 592
        },
        "id": "n9RjfUrV5KoP",
        "outputId": "1618a841-2c03-4d2b-9283-699facd92223"
      },
      "source": [
        "plt.figure(figsize=(10,10))\n",
        "plt.plot(hist.history['accuracy'], label='accuracy')\n",
        "plt.plot(hist.history['loss'], label='loss')\n",
        "plt.plot(hist.history['val_accuracy'], label='val_accuracy')\n",
        "plt.plot(hist.history['val_loss'], label='val_loss')\n",
        "plt.legend(loc='best')\n",
        "plt.show()"
      ],
      "execution_count": 50,
      "outputs": [
        {
          "output_type": "display_data",
          "data": {
            "image/png": "[encoded data removed]",
            "text/plain": [
              "<Figure size 720x720 with 1 Axes>"
            ]
          },
          "metadata": {
            "tags": [],
            "needs_background": "light"
          }
        }
      ]
    },
    {
      "cell_type": "markdown",
      "metadata": {
        "id": "_BRRaMqZ6Swt"
      },
      "source": [
        "## 결과확인"
      ]
    },
    {
      "cell_type": "code",
      "metadata": {
        "colab": {
          "base_uri": "https://localhost:8080/"
        },
        "id": "VDN5HW8H69QM",
        "outputId": "d1349fec-8530-4a7f-b426-7c00e18610c8"
      },
      "source": [
        "test_expand_images.shape"
      ],
      "execution_count": 51,
      "outputs": [
        {
          "output_type": "execute_result",
          "data": {
            "text/plain": [
              "(5000, 56, 56)"
            ]
          },
          "metadata": {
            "tags": []
          },
          "execution_count": 51
        }
      ]
    },
    {
      "cell_type": "code",
      "metadata": {
        "colab": {
          "base_uri": "https://localhost:8080/"
        },
        "id": "3dc0LvO36WRq",
        "outputId": "14fd5dc0-473d-44ec-9903-fb003000e9f9"
      },
      "source": [
        "# 완성된 모델에서 test_expand_image 중 1장을 넣고 결과를 받아보자\n",
        "res = model.predict(test_expand_images[1].reshape((1,56,56,1)) )\n",
        "res.shape"
      ],
      "execution_count": 68,
      "outputs": [
        {
          "output_type": "execute_result",
          "data": {
            "text/plain": [
              "(1, 10)"
            ]
          },
          "metadata": {
            "tags": []
          },
          "execution_count": 68
        }
      ]
    },
    {
      "cell_type": "code",
      "metadata": {
        "id": "lLQf-AGXIUFF",
        "outputId": "4a1b6aef-b533-45c1-bde4-74a2af4f8b9d",
        "colab": {
          "base_uri": "https://localhost:8080/"
        }
      },
      "source": [
        "res"
      ],
      "execution_count": 69,
      "outputs": [
        {
          "output_type": "execute_result",
          "data": {
            "text/plain": [
              "array([[1.9034380e-04, 2.3290378e-08, 9.8440474e-01, 5.4743596e-06,\n",
              "        7.3958505e-03, 7.3328692e-08, 7.9133166e-03, 4.9196363e-09,\n",
              "        8.2035673e-05, 8.0617965e-06]], dtype=float32)"
            ]
          },
          "metadata": {
            "tags": []
          },
          "execution_count": 69
        }
      ]
    },
    {
      "cell_type": "code",
      "metadata": {
        "colab": {
          "base_uri": "https://localhost:8080/",
          "height": 613
        },
        "id": "7rLxwOnG7FIm",
        "outputId": "cd3321d0-776f-4c0d-af15-8addd356b003"
      },
      "source": [
        "plt.figure(figsize=(8,10))\n",
        "\n",
        "plt.subplot(311)\n",
        "plt.imshow(test_expand_images[1])\n",
        "\n",
        "\n",
        "plt.subplot(312)\n",
        "plt.bar(np.arange(0,10), to_categorical((test_labels)[1],10), color='black')\n",
        "plt.title('correct')\n",
        "\n",
        "plt.subplot(313)\n",
        "plt.bar(np.arange(0,10), res[0], color='gray')\n",
        "plt.ylim(0,1.05)\n",
        "print(idx2label(test_labels[1]))\n",
        "\n",
        "\n",
        "plt.show()"
      ],
      "execution_count": 70,
      "outputs": [
        {
          "output_type": "stream",
          "text": [
            "Pullover\n"
          ],
          "name": "stdout"
        },
        {
          "output_type": "display_data",
          "data": {
            "image/png": "[encoded data removed]",
            "text/plain": [
              "<Figure size 576x720 with 3 Axes>"
            ]
          },
          "metadata": {
            "tags": [],
            "needs_background": "light"
          }
        }
      ]
    },
    {
      "cell_type": "code",
      "metadata": {
        "colab": {
          "base_uri": "https://localhost:8080/",
          "height": 626
        },
        "id": "vZMEBbRM7y1y",
        "outputId": "1a452464-2044-4545-d7b3-70d1163a5427"
      },
      "source": [
        "res = model.predict(test_expand_images[1227].reshape((1,56,56,1)) )\n",
        "plt.figure(figsize=(8,10))\n",
        "plt.subplot(211)\n",
        "plt.bar(np.arange(0,10), to_categorical((test_labels)[1227],10), color='black')\n",
        "plt.title('correct')\n",
        "\n",
        "plt.subplot(212)\n",
        "plt.bar(np.arange(0,10), res[0], color='gray')\n",
        "plt.ylim(0,1.05)\n",
        "print(idx2label(test_labels[1]))\n",
        "\n",
        "plt.show()"
      ],
      "execution_count": 72,
      "outputs": [
        {
          "output_type": "stream",
          "text": [
            "Pullover\n"
          ],
          "name": "stdout"
        },
        {
          "output_type": "display_data",
          "data": {
            "image/png": "[encoded data removed]",
            "text/plain": [
              "<Figure size 576x720 with 2 Axes>"
            ]
          },
          "metadata": {
            "tags": [],
            "needs_background": "light"
          }
        }
      ]
    },
    {
      "cell_type": "code",
      "metadata": {
        "colab": {
          "base_uri": "https://localhost:8080/",
          "height": 626
        },
        "id": "K4m-Zixi9QrR",
        "outputId": "906f0cf4-c98e-48c2-b21e-e3f64bb7f6c0"
      },
      "source": [
        "res = model.predict(test_expand_images[426].reshape((1,56,56,1)) )\n",
        "plt.figure(figsize=(8,10))\n",
        "plt.subplot(211)\n",
        "plt.bar(np.arange(0,10), to_categorical((test_labels)[426],10), color='black')\n",
        "plt.title('correct')\n",
        "\n",
        "plt.subplot(212)\n",
        "plt.bar(np.arange(0,10), res[0], color='gray')\n",
        "plt.ylim(0,1.05)\n",
        "print(idx2label(test_labels[1227]))\n",
        "\n",
        "plt.show()"
      ],
      "execution_count": 73,
      "outputs": [
        {
          "output_type": "stream",
          "text": [
            "Ankle_boot\n"
          ],
          "name": "stdout"
        },
        {
          "output_type": "display_data",
          "data": {
            "image/png": "[encoded data removed]",
            "text/plain": [
              "<Figure size 576x720 with 2 Axes>"
            ]
          },
          "metadata": {
            "tags": [],
            "needs_background": "light"
          }
        }
      ]
    },
    {
      "cell_type": "markdown",
      "metadata": {
        "id": "TtXm1dbu-uz9"
      },
      "source": [
        "## 멀티 레이블 모델링"
      ]
    },
    {
      "cell_type": "code",
      "metadata": {
        "id": "gUM_y2twKXBr",
        "outputId": "c3abdada-74cf-4a71-98b8-cc3f346f0104",
        "colab": {
          "base_uri": "https://localhost:8080/"
        }
      },
      "source": [
        "model.summary()"
      ],
      "execution_count": 80,
      "outputs": [
        {
          "output_type": "stream",
          "text": [
            "Model: \"model_2\"\n",
            "_________________________________________________________________\n",
            "Layer (type)                 Output Shape              Param #   \n",
            "=================================================================\n",
            "input_3 (InputLayer)         [(None, 56, 56, 1)]       0         \n",
            "_________________________________________________________________\n",
            "conv2d_7 (Conv2D)            (None, 56, 56, 16)        80        \n",
            "_________________________________________________________________\n",
            "max_pooling2d_7 (MaxPooling2 (None, 28, 28, 16)        0         \n",
            "_________________________________________________________________\n",
            "dropout_4 (Dropout)          (None, 28, 28, 16)        0         \n",
            "_________________________________________________________________\n",
            "conv2d_8 (Conv2D)            (None, 28, 28, 32)        2080      \n",
            "_________________________________________________________________\n",
            "max_pooling2d_8 (MaxPooling2 (None, 14, 14, 32)        0         \n",
            "_________________________________________________________________\n",
            "dropout_5 (Dropout)          (None, 14, 14, 32)        0         \n",
            "_________________________________________________________________\n",
            "conv2d_9 (Conv2D)            (None, 14, 14, 64)        8256      \n",
            "_________________________________________________________________\n",
            "max_pooling2d_9 (MaxPooling2 (None, 7, 7, 64)          0         \n",
            "_________________________________________________________________\n",
            "conv2d_10 (Conv2D)           (None, 7, 7, 64)          16448     \n",
            "_________________________________________________________________\n",
            "max_pooling2d_10 (MaxPooling (None, 3, 3, 64)          0         \n",
            "_________________________________________________________________\n",
            "global_average_pooling2d_2 ( (None, 64)                0         \n",
            "_________________________________________________________________\n",
            "dense_2 (Dense)              (None, 10)                650       \n",
            "=================================================================\n",
            "Total params: 27,514\n",
            "Trainable params: 0\n",
            "Non-trainable params: 27,514\n",
            "_________________________________________________________________\n"
          ],
          "name": "stdout"
        }
      ]
    },
    {
      "cell_type": "code",
      "metadata": {
        "id": "-DQkX5IS-e1-"
      },
      "source": [
        "def multi_model (model) :\n",
        "  model.trainable = False # 너 모델 학습 잘됐어 수정하지마 라는 의미 역전파 시행하여도 weight 수정이 되지 않음.\n",
        "  x = model.layers[-2].output\n",
        "  x = Dense(10, activation='sigmoid')(x)\n",
        "\n",
        "  return Model(model.input, x)"
      ],
      "execution_count": 117,
      "outputs": []
    },
    {
      "cell_type": "code",
      "metadata": {
        "colab": {
          "base_uri": "https://localhost:8080/"
        },
        "id": "4wguEHilGDy8",
        "outputId": "69606a35-3867-4e7b-c7ee-dcc81d842760"
      },
      "source": [
        "new_model = multi_model(model)\n",
        "new_model.summary()"
      ],
      "execution_count": 118,
      "outputs": [
        {
          "output_type": "stream",
          "text": [
            "Model: \"model_6\"\n",
            "_________________________________________________________________\n",
            "Layer (type)                 Output Shape              Param #   \n",
            "=================================================================\n",
            "input_3 (InputLayer)         [(None, 56, 56, 1)]       0         \n",
            "_________________________________________________________________\n",
            "conv2d_7 (Conv2D)            (None, 56, 56, 16)        80        \n",
            "_________________________________________________________________\n",
            "max_pooling2d_7 (MaxPooling2 (None, 28, 28, 16)        0         \n",
            "_________________________________________________________________\n",
            "dropout_4 (Dropout)          (None, 28, 28, 16)        0         \n",
            "_________________________________________________________________\n",
            "conv2d_8 (Conv2D)            (None, 28, 28, 32)        2080      \n",
            "_________________________________________________________________\n",
            "max_pooling2d_8 (MaxPooling2 (None, 14, 14, 32)        0         \n",
            "_________________________________________________________________\n",
            "dropout_5 (Dropout)          (None, 14, 14, 32)        0         \n",
            "_________________________________________________________________\n",
            "conv2d_9 (Conv2D)            (None, 14, 14, 64)        8256      \n",
            "_________________________________________________________________\n",
            "max_pooling2d_9 (MaxPooling2 (None, 7, 7, 64)          0         \n",
            "_________________________________________________________________\n",
            "conv2d_10 (Conv2D)           (None, 7, 7, 64)          16448     \n",
            "_________________________________________________________________\n",
            "max_pooling2d_10 (MaxPooling (None, 3, 3, 64)          0         \n",
            "_________________________________________________________________\n",
            "global_average_pooling2d_2 ( (None, 64)                0         \n",
            "_________________________________________________________________\n",
            "dense_6 (Dense)              (None, 10)                650       \n",
            "=================================================================\n",
            "Total params: 27,514\n",
            "Trainable params: 650\n",
            "Non-trainable params: 26,864\n",
            "_________________________________________________________________\n"
          ],
          "name": "stdout"
        }
      ]
    },
    {
      "cell_type": "code",
      "metadata": {
        "id": "PpqhJozqG-8X"
      },
      "source": [
        "new_model.compile(loss='categorical_crossentropy', optimizer='adam', metrics=['accuracy'])"
      ],
      "execution_count": 119,
      "outputs": []
    },
    {
      "cell_type": "code",
      "metadata": {
        "colab": {
          "base_uri": "https://localhost:8080/"
        },
        "id": "P7f70JV8GTcK",
        "outputId": "5445ac86-4207-4220-ae64-2f6023eb351c"
      },
      "source": [
        "# train multi image를 학습해보자\n",
        "\n",
        "hist2 = new_model.fit(train_multi_images, train_multi_labels,\n",
        "                      validation_data = (test_multi_images, test_multi_labels),\n",
        "                      epochs = 20,\n",
        "                      verbose = 1)"
      ],
      "execution_count": 86,
      "outputs": [
        {
          "output_type": "stream",
          "text": [
            "Epoch 1/20\n",
            "938/938 [==============================] - 4s 3ms/step - loss: 7.4974 - accuracy: 0.1232 - val_loss: 4.8422 - val_accuracy: 0.2124\n",
            "Epoch 2/20\n",
            "938/938 [==============================] - 3s 3ms/step - loss: 4.9608 - accuracy: 0.2041 - val_loss: 4.3123 - val_accuracy: 0.2790\n",
            "Epoch 3/20\n",
            "938/938 [==============================] - 3s 3ms/step - loss: 4.6176 - accuracy: 0.2533 - val_loss: 4.1943 - val_accuracy: 0.3082\n",
            "Epoch 4/20\n",
            "938/938 [==============================] - 3s 3ms/step - loss: 4.4292 - accuracy: 0.2916 - val_loss: 4.0654 - val_accuracy: 0.3144\n",
            "Epoch 5/20\n",
            "938/938 [==============================] - 3s 3ms/step - loss: 4.3957 - accuracy: 0.3022 - val_loss: 4.0599 - val_accuracy: 0.3390\n",
            "Epoch 6/20\n",
            "938/938 [==============================] - 3s 3ms/step - loss: 4.3828 - accuracy: 0.3207 - val_loss: 4.0879 - val_accuracy: 0.3428\n",
            "Epoch 7/20\n",
            "938/938 [==============================] - 3s 3ms/step - loss: 4.4233 - accuracy: 0.3255 - val_loss: 4.1791 - val_accuracy: 0.3414\n",
            "Epoch 8/20\n",
            "938/938 [==============================] - 3s 3ms/step - loss: 4.5224 - accuracy: 0.3398 - val_loss: 4.2916 - val_accuracy: 0.3502\n",
            "Epoch 9/20\n",
            "938/938 [==============================] - 3s 3ms/step - loss: 4.5685 - accuracy: 0.3357 - val_loss: 4.3072 - val_accuracy: 0.3682\n",
            "Epoch 10/20\n",
            "938/938 [==============================] - 3s 3ms/step - loss: 4.7343 - accuracy: 0.3448 - val_loss: 4.3714 - val_accuracy: 0.3690\n",
            "Epoch 11/20\n",
            "938/938 [==============================] - 3s 3ms/step - loss: 4.8687 - accuracy: 0.3512 - val_loss: 4.5215 - val_accuracy: 0.3528\n",
            "Epoch 12/20\n",
            "938/938 [==============================] - 3s 3ms/step - loss: 4.9567 - accuracy: 0.3547 - val_loss: 4.6089 - val_accuracy: 0.3674\n",
            "Epoch 13/20\n",
            "938/938 [==============================] - 3s 3ms/step - loss: 5.1626 - accuracy: 0.3469 - val_loss: 4.7853 - val_accuracy: 0.3816\n",
            "Epoch 14/20\n",
            "938/938 [==============================] - 3s 3ms/step - loss: 5.3400 - accuracy: 0.3632 - val_loss: 5.0182 - val_accuracy: 0.3772\n",
            "Epoch 15/20\n",
            "938/938 [==============================] - 3s 3ms/step - loss: 5.5045 - accuracy: 0.3628 - val_loss: 5.0979 - val_accuracy: 0.3732\n",
            "Epoch 16/20\n",
            "938/938 [==============================] - 3s 3ms/step - loss: 5.6361 - accuracy: 0.3596 - val_loss: 5.2103 - val_accuracy: 0.3742\n",
            "Epoch 17/20\n",
            "938/938 [==============================] - 3s 3ms/step - loss: 5.8337 - accuracy: 0.3646 - val_loss: 5.4034 - val_accuracy: 0.3660\n",
            "Epoch 18/20\n",
            "938/938 [==============================] - 3s 3ms/step - loss: 6.0362 - accuracy: 0.3571 - val_loss: 5.6041 - val_accuracy: 0.3936\n",
            "Epoch 19/20\n",
            "938/938 [==============================] - 3s 3ms/step - loss: 6.3016 - accuracy: 0.3667 - val_loss: 5.7182 - val_accuracy: 0.3704\n",
            "Epoch 20/20\n",
            "938/938 [==============================] - 3s 3ms/step - loss: 6.3643 - accuracy: 0.3640 - val_loss: 5.8244 - val_accuracy: 0.3852\n"
          ],
          "name": "stdout"
        }
      ]
    },
    {
      "cell_type": "code",
      "metadata": {
        "id": "3aQizKfFKJjc"
      },
      "source": [
        "# 여전히 몹쓸 성능..."
      ],
      "execution_count": 79,
      "outputs": []
    },
    {
      "cell_type": "code",
      "metadata": {
        "id": "dhuVTsN3ZptF"
      },
      "source": [
        "def final(n) :\n",
        "  res = new_model.predict(test_multi_images[n].reshape((1,56,56,1)) )\n",
        "\n",
        "\n",
        "  plt.figure(figsize=(8,10))\n",
        "\n",
        "  plt.subplot(311)\n",
        "  plt.imshow(test_multi_images[n].reshape((56,56))) # 이미지\n",
        "\n",
        "  plt.subplot(312)\n",
        "  plt.bar(np.arange(0,10), test_multi_labels[n], color='black')\n",
        "  plt.title('correct')\n",
        "\n",
        "  plt.subplot(313)\n",
        "  plt.bar(np.arange(0,10), res[0], color='gray')\n",
        "  plt.ylim(0,1.05)\n",
        "\n",
        "\n",
        "  plt.show()\n",
        "  for idx in list(np.argwhere(test_multi_labels[n]==1).reshape(-1)) :\n",
        "    print('')\n",
        "    print(idx2label(idx))"
      ],
      "execution_count": 89,
      "outputs": []
    },
    {
      "cell_type": "code",
      "metadata": {
        "colab": {
          "base_uri": "https://localhost:8080/",
          "height": 668
        },
        "id": "d1D0TVbxddMS",
        "outputId": "95d467a1-ed88-47c5-e7e7-94121a0b1061"
      },
      "source": [
        "final(2)"
      ],
      "execution_count": 90,
      "outputs": [
        {
          "output_type": "display_data",
          "data": {
            "image/png": "[encoded data removed]",
            "text/plain": [
              "<Figure size 576x720 with 3 Axes>"
            ]
          },
          "metadata": {
            "tags": [],
            "needs_background": "light"
          }
        },
        {
          "output_type": "stream",
          "text": [
            "\n",
            "Sandal\n",
            "\n",
            "Ankle_boot\n"
          ],
          "name": "stdout"
        }
      ]
    },
    {
      "cell_type": "code",
      "metadata": {
        "colab": {
          "base_uri": "https://localhost:8080/",
          "height": 631
        },
        "id": "ggKuy5Q9de_7",
        "outputId": "961f6cec-3978-44b3-fb5a-40313569c87a"
      },
      "source": [
        "final(1227)"
      ],
      "execution_count": 91,
      "outputs": [
        {
          "output_type": "display_data",
          "data": {
            "image/png": "[encoded data removed]",
            "text/plain": [
              "<Figure size 576x720 with 3 Axes>"
            ]
          },
          "metadata": {
            "tags": [],
            "needs_background": "light"
          }
        },
        {
          "output_type": "stream",
          "text": [
            "\n",
            "Coat\n"
          ],
          "name": "stdout"
        }
      ]
    },
    {
      "cell_type": "code",
      "metadata": {
        "colab": {
          "base_uri": "https://localhost:8080/",
          "height": 705
        },
        "id": "geLz4kZmcAP2",
        "outputId": "53217966-8106-4d7e-a982-1ca637e8e21c"
      },
      "source": [
        "final(620)"
      ],
      "execution_count": 92,
      "outputs": [
        {
          "output_type": "display_data",
          "data": {
            "image/png": "[encoded data removed]",
            "text/plain": [
              "<Figure size 576x720 with 3 Axes>"
            ]
          },
          "metadata": {
            "tags": [],
            "needs_background": "light"
          }
        },
        {
          "output_type": "stream",
          "text": [
            "\n",
            "Trouser\n",
            "\n",
            "Pullover\n",
            "\n",
            "Ankle_boot\n"
          ],
          "name": "stdout"
        }
      ]
    },
    {
      "cell_type": "code",
      "metadata": {
        "colab": {
          "base_uri": "https://localhost:8080/",
          "height": 668
        },
        "id": "sCEN-KngbVEW",
        "outputId": "31c6f4b8-2157-4b67-99ad-68aab0a57332"
      },
      "source": [
        "final(222)"
      ],
      "execution_count": 96,
      "outputs": [
        {
          "output_type": "display_data",
          "data": {
            "image/png": "[encoded data removed]",
            "text/plain": [
              "<Figure size 576x720 with 3 Axes>"
            ]
          },
          "metadata": {
            "tags": [],
            "needs_background": "light"
          }
        },
        {
          "output_type": "stream",
          "text": [
            "\n",
            "Shirt\n",
            "\n",
            "Sneaker\n"
          ],
          "name": "stdout"
        }
      ]
    },
    {
      "cell_type": "code",
      "metadata": {
        "colab": {
          "base_uri": "https://localhost:8080/",
          "height": 742
        },
        "id": "jYw2qrv5bf-s",
        "outputId": "7ba6aadf-36e4-4b41-8898-79e26c18d07c"
      },
      "source": [
        "# 정말 안맞는걸 볼 수 있다...\n",
        "final(6)"
      ],
      "execution_count": 98,
      "outputs": [
        {
          "output_type": "display_data",
          "data": {
            "image/png": "[encoded data removed]",
            "text/plain": [
              "<Figure size 576x720 with 3 Axes>"
            ]
          },
          "metadata": {
            "tags": [],
            "needs_background": "light"
          }
        },
        {
          "output_type": "stream",
          "text": [
            "\n",
            "T-shirt/top\n",
            "\n",
            "Trouser\n",
            "\n",
            "Coat\n",
            "\n",
            "Sneaker\n"
          ],
          "name": "stdout"
        }
      ]
    },
    {
      "cell_type": "markdown",
      "metadata": {
        "id": "3BhCXwpULksg"
      },
      "source": [
        "    결과를 다시 보고 있는데 옷의 개수가 많아질 수록 예측을 제대로 못하는 것 같다....\n",
        "    옷의 종류가 하나 이거나 객체가 하나 일때는 분류를 제대로 하는데\n",
        "    2개 일때도 뭔가 비슷하게 유추하려 하고는 하지만 개수가 4개까지 늘어나버리면\n",
        "    그냥 예측을 못한다고 봐야 할 것 같다...\n",
        "    모델의 validation_accuracy가 약 40% 나왔는데 왠지 저 수치는\n",
        "    객체가 1개일 때만 맞춘 것 같다.."
      ]
    },
    {
      "cell_type": "code",
      "metadata": {
        "id": "QiDV4uR_Lh5m"
      },
      "source": [
        "# 배치를 활용해서 모델링을 해보자"
      ],
      "execution_count": 99,
      "outputs": []
    },
    {
      "cell_type": "code",
      "metadata": {
        "colab": {
          "base_uri": "https://localhost:8080/"
        },
        "id": "7et_1s88dr_C",
        "outputId": "cbe0aa75-a41b-411f-b9ce-20caa50b6a5a"
      },
      "source": [
        "# for 문을 활용해서 돌려보자\n",
        "epochs = 15\n",
        "batch_size = 16\n",
        "new_model.compile(loss = 'categorical_crossentropy', optimizer = 'adam', metrics=['accuracy'])\n",
        "for epoch in range(epochs) :\n",
        "  for _ in range(0, len(train_images), batch_size) : \n",
        "    batch_x = []\n",
        "    batch_y = []\n",
        "\n",
        "    for _ in range(batch_size) :\n",
        "      x, y = expand_4times(train_images, train_labels)\n",
        "      batch_x.append(x)\n",
        "      batch_y.append(y)\n",
        "    \n",
        "    batch_x = np.array(batch_x).reshape((-1,56,56,1))\n",
        "    batch_y = np.array(batch_y).reshape((-1,10))\n",
        "\n",
        "    new_model.train_on_batch(batch_x, batch_y)\n",
        "  \n",
        "  print(epoch+1, 'epochs Done!!' )\n",
        "      # 돌릴 때 마다 이미지를 새로 만드는 느낌임."
      ],
      "execution_count": 120,
      "outputs": [
        {
          "output_type": "stream",
          "text": [
            "1 epochs Done!!\n",
            "2 epochs Done!!\n",
            "3 epochs Done!!\n",
            "4 epochs Done!!\n",
            "5 epochs Done!!\n",
            "6 epochs Done!!\n",
            "7 epochs Done!!\n",
            "8 epochs Done!!\n",
            "9 epochs Done!!\n",
            "10 epochs Done!!\n",
            "11 epochs Done!!\n",
            "12 epochs Done!!\n",
            "13 epochs Done!!\n",
            "14 epochs Done!!\n",
            "15 epochs Done!!\n"
          ],
          "name": "stdout"
        }
      ]
    },
    {
      "cell_type": "code",
      "metadata": {
        "id": "2gbqPOupNFJM",
        "outputId": "f3ba2f66-f1f8-495c-a7cf-e5186fcf8912",
        "colab": {
          "base_uri": "https://localhost:8080/"
        }
      },
      "source": [
        "res = new_model.predict(test_multi_images[4].reshape((-1,56,56,1)))\n",
        "res.shape"
      ],
      "execution_count": 102,
      "outputs": [
        {
          "output_type": "execute_result",
          "data": {
            "text/plain": [
              "(1, 10)"
            ]
          },
          "metadata": {
            "tags": []
          },
          "execution_count": 102
        }
      ]
    },
    {
      "cell_type": "code",
      "metadata": {
        "id": "kQ2wNAIehxSq",
        "outputId": "4f31021b-bb71-491b-a5b2-5f959dfab219",
        "colab": {
          "base_uri": "https://localhost:8080/",
          "height": 265
        }
      },
      "source": [
        "res = new_model.predict(test_multi_images[571].reshape((-1,56,56,1)))\n",
        "\n",
        "plt.subplot(211)\n",
        "plt.bar( np.arange(0,10), test_multi_labels[571])\n",
        "\n",
        "plt.subplot(212)\n",
        "plt.bar(np.arange(0,10), res[0])\n",
        "\n",
        "plt.show()"
      ],
      "execution_count": 122,
      "outputs": [
        {
          "output_type": "display_data",
          "data": {
            "image/png": "[encoded data removed]",
            "text/plain": [
              "<Figure size 432x288 with 2 Axes>"
            ]
          },
          "metadata": {
            "tags": [],
            "needs_background": "light"
          }
        }
      ]
    },
    {
      "cell_type": "code",
      "metadata": {
        "id": "DQqGeO-4NdbU",
        "outputId": "c96523a0-d8df-4b00-96db-6045c235b65c",
        "colab": {
          "base_uri": "https://localhost:8080/"
        }
      },
      "source": [
        "test_multi_labels[3]"
      ],
      "execution_count": 111,
      "outputs": [
        {
          "output_type": "execute_result",
          "data": {
            "text/plain": [
              "array([0, 0, 0, 0, 1, 0, 0, 0, 0, 0])"
            ]
          },
          "metadata": {
            "tags": []
          },
          "execution_count": 111
        }
      ]
    },
    {
      "cell_type": "code",
      "metadata": {
        "id": "PJZh8V88N3Qc",
        "outputId": "909959f2-a811-40d2-fd4f-23f8b6df6bf3",
        "colab": {
          "base_uri": "https://localhost:8080/",
          "height": 286
        }
      },
      "source": [
        "plt.imshow(test_multi_images[571].reshape((56,56)))"
      ],
      "execution_count": 116,
      "outputs": [
        {
          "output_type": "execute_result",
          "data": {
            "text/plain": [
              "<matplotlib.image.AxesImage at 0x7f9f90035690>"
            ]
          },
          "metadata": {
            "tags": []
          },
          "execution_count": 116
        },
        {
          "output_type": "display_data",
          "data": {
            "image/png": "[encoded data removed]",
            "text/plain": [
              "<Figure size 432x288 with 1 Axes>"
            ]
          },
          "metadata": {
            "tags": [],
            "needs_background": "light"
          }
        }
      ]
    },
    {
      "cell_type": "code",
      "metadata": {
        "id": "ho_h4_uON5N_"
      },
      "source": [
        "# 모델부터 다시 손보자..."
      ],
      "execution_count": 123,
      "outputs": []
    },
    {
      "cell_type": "code",
      "metadata": {
        "id": "NQokmFjFRYJ-"
      },
      "source": [
        "from keras.layers import GlobalAvgPool2D"
      ],
      "execution_count": 124,
      "outputs": []
    },
    {
      "cell_type": "code",
      "metadata": {
        "id": "E2f6t3OjQVlv"
      },
      "source": [
        "def model2() :\n",
        "  input = Input((56,56,1))\n",
        "  x = Conv2D(16, 2, padding='same',activation='relu')(input)\n",
        "  x = MaxPool2D(2)(x)\n",
        "  x = Dropout(0.3)(x)\n",
        "\n",
        "  x = Conv2D(32, 2, padding='same',activation='relu')(x)\n",
        "  x = MaxPool2D(2)(x)\n",
        "  x = Dropout(0.3)(x)\n",
        "\n",
        "  x = Conv2D(64, 2, padding='same',activation='relu')(x)\n",
        "  x = MaxPool2D(2)(x)\n",
        "  \n",
        "  x = GlobalAvgPool2D()(x)\n",
        "  x = Dense(10, activation='softmax')(x)\n",
        "  return Model(input,x)"
      ],
      "execution_count": 125,
      "outputs": []
    },
    {
      "cell_type": "code",
      "metadata": {
        "id": "iLOl9Jb5RmEV"
      },
      "source": [
        "model2 = model2()"
      ],
      "execution_count": 126,
      "outputs": []
    },
    {
      "cell_type": "code",
      "metadata": {
        "id": "XgIXp-sSRo2a",
        "outputId": "389df825-dbe3-407c-b6f1-5a0662f1533d",
        "colab": {
          "base_uri": "https://localhost:8080/"
        }
      },
      "source": [
        "model2.summary()"
      ],
      "execution_count": 127,
      "outputs": [
        {
          "output_type": "stream",
          "text": [
            "Model: \"model_7\"\n",
            "_________________________________________________________________\n",
            "Layer (type)                 Output Shape              Param #   \n",
            "=================================================================\n",
            "input_4 (InputLayer)         [(None, 56, 56, 1)]       0         \n",
            "_________________________________________________________________\n",
            "conv2d_11 (Conv2D)           (None, 56, 56, 16)        80        \n",
            "_________________________________________________________________\n",
            "max_pooling2d_11 (MaxPooling (None, 28, 28, 16)        0         \n",
            "_________________________________________________________________\n",
            "dropout_6 (Dropout)          (None, 28, 28, 16)        0         \n",
            "_________________________________________________________________\n",
            "conv2d_12 (Conv2D)           (None, 28, 28, 32)        2080      \n",
            "_________________________________________________________________\n",
            "max_pooling2d_12 (MaxPooling (None, 14, 14, 32)        0         \n",
            "_________________________________________________________________\n",
            "dropout_7 (Dropout)          (None, 14, 14, 32)        0         \n",
            "_________________________________________________________________\n",
            "conv2d_13 (Conv2D)           (None, 14, 14, 64)        8256      \n",
            "_________________________________________________________________\n",
            "max_pooling2d_13 (MaxPooling (None, 7, 7, 64)          0         \n",
            "_________________________________________________________________\n",
            "global_average_pooling2d_3 ( (None, 64)                0         \n",
            "_________________________________________________________________\n",
            "dense_7 (Dense)              (None, 10)                650       \n",
            "=================================================================\n",
            "Total params: 11,066\n",
            "Trainable params: 11,066\n",
            "Non-trainable params: 0\n",
            "_________________________________________________________________\n"
          ],
          "name": "stdout"
        }
      ]
    },
    {
      "cell_type": "code",
      "metadata": {
        "id": "LdRQ_S2zSaX2"
      },
      "source": [
        "test_exp"
      ],
      "execution_count": null,
      "outputs": []
    },
    {
      "cell_type": "code",
      "metadata": {
        "id": "GlHUcK_tRqJm"
      },
      "source": [
        "model2.compile(loss='categorical_crossentropy', optimizer = 'adam', metrics=['accuracy'])"
      ],
      "execution_count": 128,
      "outputs": []
    },
    {
      "cell_type": "code",
      "metadata": {
        "id": "1sWyG3R4R3_z",
        "outputId": "3d6aa79c-6116-46a3-b0b7-7fbd975434ff",
        "colab": {
          "base_uri": "https://localhost:8080/"
        }
      },
      "source": [
        "hist3 = model2.fit(train_expand_images.reshape((-1,56,56,1)), \n",
        "                   to_categorical(train_labels,10),\n",
        "                   validation_data = (test_expand_images.reshape((-1,56,56,1)), to_categorical(test_labels, 10)),\n",
        "                   epochs = 15,\n",
        "                   verbose = 1\n",
        "           )"
      ],
      "execution_count": 130,
      "outputs": [
        {
          "output_type": "stream",
          "text": [
            "Epoch 1/15\n",
            "938/938 [==============================] - 4s 4ms/step - loss: 1.9134 - accuracy: 0.2973 - val_loss: 1.2124 - val_accuracy: 0.5798\n",
            "Epoch 2/15\n",
            "938/938 [==============================] - 4s 4ms/step - loss: 1.1797 - accuracy: 0.5820 - val_loss: 1.0010 - val_accuracy: 0.6530\n",
            "Epoch 3/15\n",
            "938/938 [==============================] - 4s 4ms/step - loss: 1.0068 - accuracy: 0.6408 - val_loss: 0.8926 - val_accuracy: 0.6888\n",
            "Epoch 4/15\n",
            "938/938 [==============================] - 4s 4ms/step - loss: 0.9157 - accuracy: 0.6739 - val_loss: 0.8451 - val_accuracy: 0.7060\n",
            "Epoch 5/15\n",
            "938/938 [==============================] - 4s 4ms/step - loss: 0.8614 - accuracy: 0.6872 - val_loss: 0.7961 - val_accuracy: 0.7216\n",
            "Epoch 6/15\n",
            "938/938 [==============================] - 4s 4ms/step - loss: 0.8163 - accuracy: 0.7043 - val_loss: 0.7877 - val_accuracy: 0.7130\n",
            "Epoch 7/15\n",
            "938/938 [==============================] - 4s 4ms/step - loss: 0.7895 - accuracy: 0.7155 - val_loss: 0.7384 - val_accuracy: 0.7316\n",
            "Epoch 8/15\n",
            "938/938 [==============================] - 4s 4ms/step - loss: 0.7461 - accuracy: 0.7312 - val_loss: 0.6841 - val_accuracy: 0.7610\n",
            "Epoch 9/15\n",
            "938/938 [==============================] - 4s 4ms/step - loss: 0.7155 - accuracy: 0.7402 - val_loss: 0.6673 - val_accuracy: 0.7610\n",
            "Epoch 10/15\n",
            "938/938 [==============================] - 4s 4ms/step - loss: 0.6811 - accuracy: 0.7504 - val_loss: 0.6620 - val_accuracy: 0.7658\n",
            "Epoch 11/15\n",
            "938/938 [==============================] - 4s 4ms/step - loss: 0.6703 - accuracy: 0.7558 - val_loss: 0.6322 - val_accuracy: 0.7816\n",
            "Epoch 12/15\n",
            "938/938 [==============================] - 4s 4ms/step - loss: 0.6588 - accuracy: 0.7583 - val_loss: 0.6232 - val_accuracy: 0.7778\n",
            "Epoch 13/15\n",
            "938/938 [==============================] - 4s 4ms/step - loss: 0.6373 - accuracy: 0.7652 - val_loss: 0.6229 - val_accuracy: 0.7814\n",
            "Epoch 14/15\n",
            "938/938 [==============================] - 4s 4ms/step - loss: 0.6248 - accuracy: 0.7712 - val_loss: 0.6000 - val_accuracy: 0.7824\n",
            "Epoch 15/15\n",
            "938/938 [==============================] - 4s 4ms/step - loss: 0.6246 - accuracy: 0.7722 - val_loss: 0.5789 - val_accuracy: 0.8000\n"
          ],
          "name": "stdout"
        }
      ]
    },
    {
      "cell_type": "code",
      "metadata": {
        "id": "f6DpirTlSoLt"
      },
      "source": [
        "def multi_model2(model) :\n",
        "  model.trainable = False\n",
        "  x = model.layers[-2].output\n",
        "  x = Dense(10, activation = 'sigmoid')(x)\n",
        "  return Model(model.input, x)"
      ],
      "execution_count": 131,
      "outputs": []
    },
    {
      "cell_type": "code",
      "metadata": {
        "id": "fZ9E0pZCTjUE",
        "outputId": "2073b37f-19b9-4199-bfa2-3dc0a505f222",
        "colab": {
          "base_uri": "https://localhost:8080/"
        }
      },
      "source": [
        "new_model2 = multi_model2(model2)\n",
        "new_model2.summary()"
      ],
      "execution_count": 132,
      "outputs": [
        {
          "output_type": "stream",
          "text": [
            "Model: \"model_8\"\n",
            "_________________________________________________________________\n",
            "Layer (type)                 Output Shape              Param #   \n",
            "=================================================================\n",
            "input_4 (InputLayer)         [(None, 56, 56, 1)]       0         \n",
            "_________________________________________________________________\n",
            "conv2d_11 (Conv2D)           (None, 56, 56, 16)        80        \n",
            "_________________________________________________________________\n",
            "max_pooling2d_11 (MaxPooling (None, 28, 28, 16)        0         \n",
            "_________________________________________________________________\n",
            "dropout_6 (Dropout)          (None, 28, 28, 16)        0         \n",
            "_________________________________________________________________\n",
            "conv2d_12 (Conv2D)           (None, 28, 28, 32)        2080      \n",
            "_________________________________________________________________\n",
            "max_pooling2d_12 (MaxPooling (None, 14, 14, 32)        0         \n",
            "_________________________________________________________________\n",
            "dropout_7 (Dropout)          (None, 14, 14, 32)        0         \n",
            "_________________________________________________________________\n",
            "conv2d_13 (Conv2D)           (None, 14, 14, 64)        8256      \n",
            "_________________________________________________________________\n",
            "max_pooling2d_13 (MaxPooling (None, 7, 7, 64)          0         \n",
            "_________________________________________________________________\n",
            "global_average_pooling2d_3 ( (None, 64)                0         \n",
            "_________________________________________________________________\n",
            "dense_8 (Dense)              (None, 10)                650       \n",
            "=================================================================\n",
            "Total params: 11,066\n",
            "Trainable params: 650\n",
            "Non-trainable params: 10,416\n",
            "_________________________________________________________________\n"
          ],
          "name": "stdout"
        }
      ]
    },
    {
      "cell_type": "code",
      "metadata": {
        "id": "ynKEKB_kTrEW",
        "outputId": "72232b5e-223f-4d9d-c8d9-2f3ab0de5758",
        "colab": {
          "base_uri": "https://localhost:8080/"
        }
      },
      "source": [
        "new_model2.compile(loss = 'categorical_crossentropy', optimizer ='adam', metrics=['accuracy'])\n",
        "hist4 = new_model2.fit(train_multi_images, train_multi_labels,\n",
        "                       validation_data = (test_multi_images, test_multi_labels),\n",
        "                       epochs = 15,\n",
        "                       verbose = 1)"
      ],
      "execution_count": 133,
      "outputs": [
        {
          "output_type": "stream",
          "text": [
            "Epoch 1/15\n",
            "938/938 [==============================] - 3s 3ms/step - loss: 6.7504 - accuracy: 0.0929 - val_loss: 4.4262 - val_accuracy: 0.1610\n",
            "Epoch 2/15\n",
            "938/938 [==============================] - 3s 3ms/step - loss: 4.4310 - accuracy: 0.1551 - val_loss: 4.1594 - val_accuracy: 0.2224\n",
            "Epoch 3/15\n",
            "938/938 [==============================] - 3s 3ms/step - loss: 4.2379 - accuracy: 0.2021 - val_loss: 4.0445 - val_accuracy: 0.2504\n",
            "Epoch 4/15\n",
            "938/938 [==============================] - 3s 3ms/step - loss: 4.0995 - accuracy: 0.2234 - val_loss: 3.9558 - val_accuracy: 0.2798\n",
            "Epoch 5/15\n",
            "938/938 [==============================] - 3s 3ms/step - loss: 4.0306 - accuracy: 0.2559 - val_loss: 3.8390 - val_accuracy: 0.3072\n",
            "Epoch 6/15\n",
            "938/938 [==============================] - 3s 3ms/step - loss: 3.9979 - accuracy: 0.2703 - val_loss: 3.8771 - val_accuracy: 0.3162\n",
            "Epoch 7/15\n",
            "938/938 [==============================] - 3s 3ms/step - loss: 3.9882 - accuracy: 0.2783 - val_loss: 3.9241 - val_accuracy: 0.3162\n",
            "Epoch 8/15\n",
            "938/938 [==============================] - 3s 3ms/step - loss: 3.9709 - accuracy: 0.2936 - val_loss: 3.8913 - val_accuracy: 0.3220\n",
            "Epoch 9/15\n",
            "938/938 [==============================] - 3s 3ms/step - loss: 3.9830 - accuracy: 0.2973 - val_loss: 3.8114 - val_accuracy: 0.3228\n",
            "Epoch 10/15\n",
            "938/938 [==============================] - 3s 3ms/step - loss: 4.0049 - accuracy: 0.3031 - val_loss: 3.8136 - val_accuracy: 0.3596\n",
            "Epoch 11/15\n",
            "938/938 [==============================] - 3s 3ms/step - loss: 3.9778 - accuracy: 0.3126 - val_loss: 3.8660 - val_accuracy: 0.3418\n",
            "Epoch 12/15\n",
            "938/938 [==============================] - 3s 3ms/step - loss: 4.0070 - accuracy: 0.3419 - val_loss: 3.8377 - val_accuracy: 0.3458\n",
            "Epoch 13/15\n",
            "938/938 [==============================] - 3s 3ms/step - loss: 4.1191 - accuracy: 0.3656 - val_loss: 3.8610 - val_accuracy: 0.3744\n",
            "Epoch 14/15\n",
            "938/938 [==============================] - 3s 3ms/step - loss: 4.1063 - accuracy: 0.4046 - val_loss: 3.9603 - val_accuracy: 0.3578\n",
            "Epoch 15/15\n",
            "938/938 [==============================] - 3s 3ms/step - loss: 4.1292 - accuracy: 0.3937 - val_loss: 3.9315 - val_accuracy: 0.3496\n"
          ],
          "name": "stdout"
        }
      ]
    },
    {
      "cell_type": "code",
      "metadata": {
        "id": "JNrbGZY6UWv1",
        "outputId": "b5424c79-dcc2-45ec-b0d9-008805a32927",
        "colab": {
          "base_uri": "https://localhost:8080/"
        }
      },
      "source": [
        "# for 문을 활용해서 돌려보자\n",
        "epochs = 15\n",
        "batch_size = 16\n",
        "new_model2.compile(loss = 'categorical_crossentropy', optimizer = 'adam', metrics=['accuracy'])\n",
        "for epoch in range(epochs) :\n",
        "  for _ in range(0, len(train_images), batch_size) : \n",
        "    batch_x = []\n",
        "    batch_y = []\n",
        "\n",
        "    for _ in range(batch_size) :\n",
        "      x, y = expand_4times(train_images, train_labels)\n",
        "      batch_x.append(x)\n",
        "      batch_y.append(y)\n",
        "    \n",
        "    batch_x = np.array(batch_x).reshape((-1,56,56,1))\n",
        "    batch_y = np.array(batch_y).reshape((-1,10))\n",
        "\n",
        "    new_model2.train_on_batch(batch_x, batch_y)\n",
        "  \n",
        "  print(epoch+1, 'epochs Done!!' )\n",
        "      # 돌릴 때 마다 이미지를 새로 만드는 느낌임."
      ],
      "execution_count": 135,
      "outputs": [
        {
          "output_type": "stream",
          "text": [
            "1 epochs Done!!\n",
            "2 epochs Done!!\n",
            "3 epochs Done!!\n",
            "4 epochs Done!!\n",
            "5 epochs Done!!\n",
            "6 epochs Done!!\n",
            "7 epochs Done!!\n",
            "8 epochs Done!!\n",
            "9 epochs Done!!\n",
            "10 epochs Done!!\n",
            "11 epochs Done!!\n",
            "12 epochs Done!!\n",
            "13 epochs Done!!\n",
            "14 epochs Done!!\n",
            "15 epochs Done!!\n"
          ],
          "name": "stdout"
        }
      ]
    },
    {
      "cell_type": "code",
      "metadata": {
        "id": "G1thNjbgVNpv"
      },
      "source": [
        "res = new_model2.predict(test_multi_images[3].reshape((-1,56,56,1)))"
      ],
      "execution_count": 141,
      "outputs": []
    },
    {
      "cell_type": "code",
      "metadata": {
        "id": "IxmitOuLYPwO",
        "outputId": "411e6904-ef1b-453e-c4e3-e29ae34c5d1b",
        "colab": {
          "base_uri": "https://localhost:8080/",
          "height": 283
        }
      },
      "source": [
        "plt.bar(np.arange(0,10), test_multi_labels[3], color='black')"
      ],
      "execution_count": 142,
      "outputs": [
        {
          "output_type": "execute_result",
          "data": {
            "text/plain": [
              "<BarContainer object of 10 artists>"
            ]
          },
          "metadata": {
            "tags": []
          },
          "execution_count": 142
        },
        {
          "output_type": "display_data",
          "data": {
            "image/png": "[encoded data removed]",
            "text/plain": [
              "<Figure size 432x288 with 1 Axes>"
            ]
          },
          "metadata": {
            "tags": [],
            "needs_background": "light"
          }
        }
      ]
    },
    {
      "cell_type": "code",
      "metadata": {
        "id": "nMCeNGCwYa3R",
        "outputId": "0421dc6c-a5b4-43af-ff48-319524b46f1d",
        "colab": {
          "base_uri": "https://localhost:8080/",
          "height": 283
        }
      },
      "source": [
        "plt.bar(np.arange(0,10), res[0])"
      ],
      "execution_count": 143,
      "outputs": [
        {
          "output_type": "execute_result",
          "data": {
            "text/plain": [
              "<BarContainer object of 10 artists>"
            ]
          },
          "metadata": {
            "tags": []
          },
          "execution_count": 143
        },
        {
          "output_type": "display_data",
          "data": {
            "image/png": "[encoded data removed]",
            "text/plain": [
              "<Figure size 432x288 with 1 Axes>"
            ]
          },
          "metadata": {
            "tags": [],
            "needs_background": "light"
          }
        }
      ]
    },
    {
      "cell_type": "code",
      "metadata": {
        "id": "PnjiOgfOYl3n",
        "outputId": "422a1492-1a3f-48cd-d594-7f56cc3e9377",
        "colab": {
          "base_uri": "https://localhost:8080/"
        }
      },
      "source": [
        "# 하...... 뭐가 문제일까..."
      ],
      "execution_count": 140,
      "outputs": [
        {
          "output_type": "execute_result",
          "data": {
            "text/plain": [
              "array([[1., 1., 1., 1., 1., 1., 1., 1., 1., 1.]], dtype=float32)"
            ]
          },
          "metadata": {
            "tags": []
          },
          "execution_count": 140
        }
      ]
    },
    {
      "cell_type": "code",
      "metadata": {
        "id": "FcB0c1AhYpcz"
      },
      "source": [
        ""
      ],
      "execution_count": null,
      "outputs": []
    }
  ]
}