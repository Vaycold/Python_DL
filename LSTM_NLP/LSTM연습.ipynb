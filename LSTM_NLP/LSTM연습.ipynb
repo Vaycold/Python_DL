{
  "nbformat": 4,
  "nbformat_minor": 0,
  "metadata": {
    "colab": {
      "name": "LSTM연습.ipynb",
      "provenance": [],
      "authorship_tag": "ABX9TyOFcrjIua2pI6VZVPTm6r2L",
      "include_colab_link": true
    },
    "kernelspec": {
      "name": "python3",
      "display_name": "Python 3"
    },
    "language_info": {
      "name": "python"
    }
  },
  "cells": [
    {
      "cell_type": "markdown",
      "metadata": {
        "id": "view-in-github",
        "colab_type": "text"
      },
      "source": [
        "<a href=\"https://colab.research.google.com/github/Vaycold/Python_DL/blob/main/LSTM_NLP/LSTM%EC%97%B0%EC%8A%B5.ipynb\" target=\"_parent\"><img src=\"https://colab.research.google.com/assets/colab-badge.svg\" alt=\"Open In Colab\"/></a>"
      ]
    },
    {
      "cell_type": "markdown",
      "metadata": {
        "id": "nufqqQKxmSvm"
      },
      "source": [
        "## LSTM을 활용해 주가 예측 모델 구현\n",
        "\n",
        "    - 프로세스 파이프라인 구축"
      ]
    },
    {
      "cell_type": "markdown",
      "metadata": {
        "id": "4pyfVvw2rIbN"
      },
      "source": [
        "### Import Module & Load tock data"
      ]
    },
    {
      "cell_type": "code",
      "metadata": {
        "id": "I2lus59fmR21"
      },
      "source": [
        "# Import module\n",
        "\n",
        "import numpy as np\n",
        "import pandas as pd\n",
        "import matplotlib.pyplot as plt\n",
        "import seaborn as sns\n",
        "import warnings\n",
        "import os \n",
        "\n",
        "warnings.filterwarnings('ignore')"
      ],
      "execution_count": 2,
      "outputs": []
    },
    {
      "cell_type": "code",
      "metadata": {
        "id": "LfeBFRZumSIM",
        "outputId": "81ca16b8-c71d-4093-db35-0a04b3111181",
        "colab": {
          "base_uri": "https://localhost:8080/"
        }
      },
      "source": [
        "# FinanceDataReader import\n",
        "# 이 패키지는 주가 데이터를 편리하게 가져올 수 있음\n",
        "!pip install finance-datareader"
      ],
      "execution_count": 3,
      "outputs": [
        {
          "output_type": "stream",
          "text": [
            "Collecting finance-datareader\n",
            "  Downloading https://files.pythonhosted.org/packages/83/5e/54306e72b5ff5d5ec6cc9f32cdf19602237f9bb70d64efcd527338388be3/finance_datareader-0.9.31-py3-none-any.whl\n",
            "Requirement already satisfied: pandas>=0.19.2 in /usr/local/lib/python3.7/dist-packages (from finance-datareader) (1.1.5)\n",
            "Collecting requests-file\n",
            "  Downloading https://files.pythonhosted.org/packages/77/86/cdb5e8eaed90796aa83a6d9f75cfbd37af553c47a291cd47bc410ef9bdb2/requests_file-1.5.1-py2.py3-none-any.whl\n",
            "Requirement already satisfied: requests>=2.3.0 in /usr/local/lib/python3.7/dist-packages (from finance-datareader) (2.23.0)\n",
            "Requirement already satisfied: lxml in /usr/local/lib/python3.7/dist-packages (from finance-datareader) (4.2.6)\n",
            "Requirement already satisfied: tqdm in /usr/local/lib/python3.7/dist-packages (from finance-datareader) (4.41.1)\n",
            "Requirement already satisfied: pytz>=2017.2 in /usr/local/lib/python3.7/dist-packages (from pandas>=0.19.2->finance-datareader) (2018.9)\n",
            "Requirement already satisfied: python-dateutil>=2.7.3 in /usr/local/lib/python3.7/dist-packages (from pandas>=0.19.2->finance-datareader) (2.8.1)\n",
            "Requirement already satisfied: numpy>=1.15.4 in /usr/local/lib/python3.7/dist-packages (from pandas>=0.19.2->finance-datareader) (1.19.5)\n",
            "Requirement already satisfied: six in /usr/local/lib/python3.7/dist-packages (from requests-file->finance-datareader) (1.15.0)\n",
            "Requirement already satisfied: chardet<4,>=3.0.2 in /usr/local/lib/python3.7/dist-packages (from requests>=2.3.0->finance-datareader) (3.0.4)\n",
            "Requirement already satisfied: idna<3,>=2.5 in /usr/local/lib/python3.7/dist-packages (from requests>=2.3.0->finance-datareader) (2.10)\n",
            "Requirement already satisfied: urllib3!=1.25.0,!=1.25.1,<1.26,>=1.21.1 in /usr/local/lib/python3.7/dist-packages (from requests>=2.3.0->finance-datareader) (1.24.3)\n",
            "Requirement already satisfied: certifi>=2017.4.17 in /usr/local/lib/python3.7/dist-packages (from requests>=2.3.0->finance-datareader) (2021.5.30)\n",
            "Installing collected packages: requests-file, finance-datareader\n",
            "Successfully installed finance-datareader-0.9.31 requests-file-1.5.1\n"
          ],
          "name": "stdout"
        }
      ]
    },
    {
      "cell_type": "code",
      "metadata": {
        "id": "PQqG6M8gmRgJ"
      },
      "source": [
        "import FinanceDataReader as fdr"
      ],
      "execution_count": 4,
      "outputs": []
    },
    {
      "cell_type": "code",
      "metadata": {
        "id": "PEWYKreAmRGS",
        "outputId": "2cf3dbaa-9146-4b2e-d61c-058f85487cc5",
        "colab": {
          "base_uri": "https://localhost:8080/",
          "height": 234
        }
      },
      "source": [
        "# 삼성전자 주가를 불러와보자\n",
        "# 삼성전자(005930) 전체(1996.11.05~ 현재)\n",
        "samsung = fdr.DataReader('005930')\n",
        "samsung.head()\n",
        "# dataframe형태로 가져옴"
      ],
      "execution_count": 5,
      "outputs": [
        {
          "output_type": "execute_result",
          "data": {
            "text/html": [
              "<div>\n",
              "<style scoped>\n",
              "    .dataframe tbody tr th:only-of-type {\n",
              "        vertical-align: middle;\n",
              "    }\n",
              "\n",
              "    .dataframe tbody tr th {\n",
              "        vertical-align: top;\n",
              "    }\n",
              "\n",
              "    .dataframe thead th {\n",
              "        text-align: right;\n",
              "    }\n",
              "</style>\n",
              "<table border=\"1\" class=\"dataframe\">\n",
              "  <thead>\n",
              "    <tr style=\"text-align: right;\">\n",
              "      <th></th>\n",
              "      <th>Open</th>\n",
              "      <th>High</th>\n",
              "      <th>Low</th>\n",
              "      <th>Close</th>\n",
              "      <th>Volume</th>\n",
              "      <th>Change</th>\n",
              "    </tr>\n",
              "    <tr>\n",
              "      <th>Date</th>\n",
              "      <th></th>\n",
              "      <th></th>\n",
              "      <th></th>\n",
              "      <th></th>\n",
              "      <th></th>\n",
              "      <th></th>\n",
              "    </tr>\n",
              "  </thead>\n",
              "  <tbody>\n",
              "    <tr>\n",
              "      <th>1997-06-27</th>\n",
              "      <td>1256</td>\n",
              "      <td>1265</td>\n",
              "      <td>1152</td>\n",
              "      <td>1224</td>\n",
              "      <td>99340</td>\n",
              "      <td>NaN</td>\n",
              "    </tr>\n",
              "    <tr>\n",
              "      <th>1997-06-28</th>\n",
              "      <td>1227</td>\n",
              "      <td>1250</td>\n",
              "      <td>1224</td>\n",
              "      <td>1251</td>\n",
              "      <td>36660</td>\n",
              "      <td>0.022059</td>\n",
              "    </tr>\n",
              "    <tr>\n",
              "      <th>1997-06-30</th>\n",
              "      <td>1259</td>\n",
              "      <td>1290</td>\n",
              "      <td>1254</td>\n",
              "      <td>1260</td>\n",
              "      <td>100240</td>\n",
              "      <td>0.007194</td>\n",
              "    </tr>\n",
              "    <tr>\n",
              "      <th>1997-07-01</th>\n",
              "      <td>1259</td>\n",
              "      <td>1286</td>\n",
              "      <td>1259</td>\n",
              "      <td>1269</td>\n",
              "      <td>167900</td>\n",
              "      <td>0.007143</td>\n",
              "    </tr>\n",
              "    <tr>\n",
              "      <th>1997-07-02</th>\n",
              "      <td>1277</td>\n",
              "      <td>1313</td>\n",
              "      <td>1277</td>\n",
              "      <td>1296</td>\n",
              "      <td>169940</td>\n",
              "      <td>0.021277</td>\n",
              "    </tr>\n",
              "  </tbody>\n",
              "</table>\n",
              "</div>"
            ],
            "text/plain": [
              "            Open  High   Low  Close  Volume    Change\n",
              "Date                                                 \n",
              "1997-06-27  1256  1265  1152   1224   99340       NaN\n",
              "1997-06-28  1227  1250  1224   1251   36660  0.022059\n",
              "1997-06-30  1259  1290  1254   1260  100240  0.007194\n",
              "1997-07-01  1259  1286  1259   1269  167900  0.007143\n",
              "1997-07-02  1277  1313  1277   1296  169940  0.021277"
            ]
          },
          "metadata": {
            "tags": []
          },
          "execution_count": 5
        }
      ]
    },
    {
      "cell_type": "code",
      "metadata": {
        "id": "qrpqnXQ4no62",
        "outputId": "fb49dab4-656e-4e5e-8fbc-84b9535b5a73",
        "colab": {
          "base_uri": "https://localhost:8080/",
          "height": 234
        }
      },
      "source": [
        "samsung.tail()"
      ],
      "execution_count": 6,
      "outputs": [
        {
          "output_type": "execute_result",
          "data": {
            "text/html": [
              "<div>\n",
              "<style scoped>\n",
              "    .dataframe tbody tr th:only-of-type {\n",
              "        vertical-align: middle;\n",
              "    }\n",
              "\n",
              "    .dataframe tbody tr th {\n",
              "        vertical-align: top;\n",
              "    }\n",
              "\n",
              "    .dataframe thead th {\n",
              "        text-align: right;\n",
              "    }\n",
              "</style>\n",
              "<table border=\"1\" class=\"dataframe\">\n",
              "  <thead>\n",
              "    <tr style=\"text-align: right;\">\n",
              "      <th></th>\n",
              "      <th>Open</th>\n",
              "      <th>High</th>\n",
              "      <th>Low</th>\n",
              "      <th>Close</th>\n",
              "      <th>Volume</th>\n",
              "      <th>Change</th>\n",
              "    </tr>\n",
              "    <tr>\n",
              "      <th>Date</th>\n",
              "      <th></th>\n",
              "      <th></th>\n",
              "      <th></th>\n",
              "      <th></th>\n",
              "      <th></th>\n",
              "      <th></th>\n",
              "    </tr>\n",
              "  </thead>\n",
              "  <tbody>\n",
              "    <tr>\n",
              "      <th>2021-06-28</th>\n",
              "      <td>81700</td>\n",
              "      <td>82000</td>\n",
              "      <td>81600</td>\n",
              "      <td>81900</td>\n",
              "      <td>11578529</td>\n",
              "      <td>0.003676</td>\n",
              "    </tr>\n",
              "    <tr>\n",
              "      <th>2021-06-29</th>\n",
              "      <td>81900</td>\n",
              "      <td>82100</td>\n",
              "      <td>80800</td>\n",
              "      <td>81000</td>\n",
              "      <td>15744317</td>\n",
              "      <td>-0.010989</td>\n",
              "    </tr>\n",
              "    <tr>\n",
              "      <th>2021-06-30</th>\n",
              "      <td>81100</td>\n",
              "      <td>81400</td>\n",
              "      <td>80700</td>\n",
              "      <td>80700</td>\n",
              "      <td>13288643</td>\n",
              "      <td>-0.003704</td>\n",
              "    </tr>\n",
              "    <tr>\n",
              "      <th>2021-07-01</th>\n",
              "      <td>80500</td>\n",
              "      <td>80600</td>\n",
              "      <td>80000</td>\n",
              "      <td>80100</td>\n",
              "      <td>13382882</td>\n",
              "      <td>-0.007435</td>\n",
              "    </tr>\n",
              "    <tr>\n",
              "      <th>2021-07-02</th>\n",
              "      <td>80000</td>\n",
              "      <td>80400</td>\n",
              "      <td>79900</td>\n",
              "      <td>80000</td>\n",
              "      <td>5714517</td>\n",
              "      <td>-0.001248</td>\n",
              "    </tr>\n",
              "  </tbody>\n",
              "</table>\n",
              "</div>"
            ],
            "text/plain": [
              "             Open   High    Low  Close    Volume    Change\n",
              "Date                                                      \n",
              "2021-06-28  81700  82000  81600  81900  11578529  0.003676\n",
              "2021-06-29  81900  82100  80800  81000  15744317 -0.010989\n",
              "2021-06-30  81100  81400  80700  80700  13288643 -0.003704\n",
              "2021-07-01  80500  80600  80000  80100  13382882 -0.007435\n",
              "2021-07-02  80000  80400  79900  80000   5714517 -0.001248"
            ]
          },
          "metadata": {
            "tags": []
          },
          "execution_count": 6
        }
      ]
    },
    {
      "cell_type": "code",
      "metadata": {
        "id": "WzCS2GLAnpbI",
        "outputId": "48440f60-41bf-4c08-c33e-ce124fbffdb3",
        "colab": {
          "base_uri": "https://localhost:8080/",
          "height": 295
        }
      },
      "source": [
        "samsung.describe()"
      ],
      "execution_count": 7,
      "outputs": [
        {
          "output_type": "execute_result",
          "data": {
            "text/html": [
              "<div>\n",
              "<style scoped>\n",
              "    .dataframe tbody tr th:only-of-type {\n",
              "        vertical-align: middle;\n",
              "    }\n",
              "\n",
              "    .dataframe tbody tr th {\n",
              "        vertical-align: top;\n",
              "    }\n",
              "\n",
              "    .dataframe thead th {\n",
              "        text-align: right;\n",
              "    }\n",
              "</style>\n",
              "<table border=\"1\" class=\"dataframe\">\n",
              "  <thead>\n",
              "    <tr style=\"text-align: right;\">\n",
              "      <th></th>\n",
              "      <th>Open</th>\n",
              "      <th>High</th>\n",
              "      <th>Low</th>\n",
              "      <th>Close</th>\n",
              "      <th>Volume</th>\n",
              "      <th>Change</th>\n",
              "    </tr>\n",
              "  </thead>\n",
              "  <tbody>\n",
              "    <tr>\n",
              "      <th>count</th>\n",
              "      <td>6000.000000</td>\n",
              "      <td>6000.000000</td>\n",
              "      <td>6000.000000</td>\n",
              "      <td>6000.000000</td>\n",
              "      <td>6.000000e+03</td>\n",
              "      <td>5999.000000</td>\n",
              "    </tr>\n",
              "    <tr>\n",
              "      <th>mean</th>\n",
              "      <td>20730.173167</td>\n",
              "      <td>20954.542500</td>\n",
              "      <td>20505.031667</td>\n",
              "      <td>20755.953833</td>\n",
              "      <td>2.544403e+06</td>\n",
              "      <td>0.001027</td>\n",
              "    </tr>\n",
              "    <tr>\n",
              "      <th>std</th>\n",
              "      <td>18213.883595</td>\n",
              "      <td>18385.055374</td>\n",
              "      <td>18046.507131</td>\n",
              "      <td>18218.540457</td>\n",
              "      <td>6.283708e+06</td>\n",
              "      <td>0.025757</td>\n",
              "    </tr>\n",
              "    <tr>\n",
              "      <th>min</th>\n",
              "      <td>0.000000</td>\n",
              "      <td>0.000000</td>\n",
              "      <td>0.000000</td>\n",
              "      <td>627.000000</td>\n",
              "      <td>0.000000e+00</td>\n",
              "      <td>-0.137566</td>\n",
              "    </tr>\n",
              "    <tr>\n",
              "      <th>25%</th>\n",
              "      <td>7400.000000</td>\n",
              "      <td>7500.000000</td>\n",
              "      <td>7277.250000</td>\n",
              "      <td>7400.000000</td>\n",
              "      <td>2.749732e+05</td>\n",
              "      <td>-0.012231</td>\n",
              "    </tr>\n",
              "    <tr>\n",
              "      <th>50%</th>\n",
              "      <td>13730.000000</td>\n",
              "      <td>13900.000000</td>\n",
              "      <td>13570.000000</td>\n",
              "      <td>13760.000000</td>\n",
              "      <td>4.492690e+05</td>\n",
              "      <td>0.000000</td>\n",
              "    </tr>\n",
              "    <tr>\n",
              "      <th>75%</th>\n",
              "      <td>28000.000000</td>\n",
              "      <td>28220.000000</td>\n",
              "      <td>27670.000000</td>\n",
              "      <td>28000.000000</td>\n",
              "      <td>8.159305e+05</td>\n",
              "      <td>0.012965</td>\n",
              "    </tr>\n",
              "    <tr>\n",
              "      <th>max</th>\n",
              "      <td>90300.000000</td>\n",
              "      <td>96800.000000</td>\n",
              "      <td>89500.000000</td>\n",
              "      <td>91000.000000</td>\n",
              "      <td>9.030618e+07</td>\n",
              "      <td>0.150000</td>\n",
              "    </tr>\n",
              "  </tbody>\n",
              "</table>\n",
              "</div>"
            ],
            "text/plain": [
              "               Open          High  ...        Volume       Change\n",
              "count   6000.000000   6000.000000  ...  6.000000e+03  5999.000000\n",
              "mean   20730.173167  20954.542500  ...  2.544403e+06     0.001027\n",
              "std    18213.883595  18385.055374  ...  6.283708e+06     0.025757\n",
              "min        0.000000      0.000000  ...  0.000000e+00    -0.137566\n",
              "25%     7400.000000   7500.000000  ...  2.749732e+05    -0.012231\n",
              "50%    13730.000000  13900.000000  ...  4.492690e+05     0.000000\n",
              "75%    28000.000000  28220.000000  ...  8.159305e+05     0.012965\n",
              "max    90300.000000  96800.000000  ...  9.030618e+07     0.150000\n",
              "\n",
              "[8 rows x 6 columns]"
            ]
          },
          "metadata": {
            "tags": []
          },
          "execution_count": 7
        }
      ]
    },
    {
      "cell_type": "code",
      "metadata": {
        "id": "1Sstji_3npd2",
        "outputId": "4bf19abf-73c0-4cba-f2fd-5a62484171bd",
        "colab": {
          "base_uri": "https://localhost:8080/"
        }
      },
      "source": [
        "samsung.info()"
      ],
      "execution_count": 8,
      "outputs": [
        {
          "output_type": "stream",
          "text": [
            "<class 'pandas.core.frame.DataFrame'>\n",
            "DatetimeIndex: 6000 entries, 1997-06-27 to 2021-07-02\n",
            "Data columns (total 6 columns):\n",
            " #   Column  Non-Null Count  Dtype  \n",
            "---  ------  --------------  -----  \n",
            " 0   Open    6000 non-null   int64  \n",
            " 1   High    6000 non-null   int64  \n",
            " 2   Low     6000 non-null   int64  \n",
            " 3   Close   6000 non-null   int64  \n",
            " 4   Volume  6000 non-null   int64  \n",
            " 5   Change  5999 non-null   float64\n",
            "dtypes: float64(1), int64(5)\n",
            "memory usage: 328.1 KB\n"
          ],
          "name": "stdout"
        }
      ]
    },
    {
      "cell_type": "code",
      "metadata": {
        "id": "nfYhHTzEnpgR",
        "outputId": "cf48e0c1-8285-477e-c3fb-9ab4631c2f08",
        "colab": {
          "base_uri": "https://localhost:8080/",
          "height": 234
        }
      },
      "source": [
        "# 애플데이터 가져오기\n",
        "apple = fdr.DataReader('AAPL')\n",
        "apple.head()"
      ],
      "execution_count": 9,
      "outputs": [
        {
          "output_type": "execute_result",
          "data": {
            "text/html": [
              "<div>\n",
              "<style scoped>\n",
              "    .dataframe tbody tr th:only-of-type {\n",
              "        vertical-align: middle;\n",
              "    }\n",
              "\n",
              "    .dataframe tbody tr th {\n",
              "        vertical-align: top;\n",
              "    }\n",
              "\n",
              "    .dataframe thead th {\n",
              "        text-align: right;\n",
              "    }\n",
              "</style>\n",
              "<table border=\"1\" class=\"dataframe\">\n",
              "  <thead>\n",
              "    <tr style=\"text-align: right;\">\n",
              "      <th></th>\n",
              "      <th>Close</th>\n",
              "      <th>Open</th>\n",
              "      <th>High</th>\n",
              "      <th>Low</th>\n",
              "      <th>Volume</th>\n",
              "      <th>Change</th>\n",
              "    </tr>\n",
              "    <tr>\n",
              "      <th>Date</th>\n",
              "      <th></th>\n",
              "      <th></th>\n",
              "      <th></th>\n",
              "      <th></th>\n",
              "      <th></th>\n",
              "      <th></th>\n",
              "    </tr>\n",
              "  </thead>\n",
              "  <tbody>\n",
              "    <tr>\n",
              "      <th>1980-12-12</th>\n",
              "      <td>0.13</td>\n",
              "      <td>0.13</td>\n",
              "      <td>0.13</td>\n",
              "      <td>0.13</td>\n",
              "      <td>469030000.0</td>\n",
              "      <td>-0.9988</td>\n",
              "    </tr>\n",
              "    <tr>\n",
              "      <th>1980-12-15</th>\n",
              "      <td>0.12</td>\n",
              "      <td>0.12</td>\n",
              "      <td>0.12</td>\n",
              "      <td>0.12</td>\n",
              "      <td>175880000.0</td>\n",
              "      <td>-0.0769</td>\n",
              "    </tr>\n",
              "    <tr>\n",
              "      <th>1980-12-16</th>\n",
              "      <td>0.11</td>\n",
              "      <td>0.11</td>\n",
              "      <td>0.11</td>\n",
              "      <td>0.11</td>\n",
              "      <td>105730000.0</td>\n",
              "      <td>-0.0833</td>\n",
              "    </tr>\n",
              "    <tr>\n",
              "      <th>1980-12-17</th>\n",
              "      <td>0.12</td>\n",
              "      <td>0.12</td>\n",
              "      <td>0.12</td>\n",
              "      <td>0.12</td>\n",
              "      <td>86440000.0</td>\n",
              "      <td>0.0909</td>\n",
              "    </tr>\n",
              "    <tr>\n",
              "      <th>1980-12-18</th>\n",
              "      <td>0.12</td>\n",
              "      <td>0.12</td>\n",
              "      <td>0.12</td>\n",
              "      <td>0.12</td>\n",
              "      <td>73450000.0</td>\n",
              "      <td>0.0000</td>\n",
              "    </tr>\n",
              "  </tbody>\n",
              "</table>\n",
              "</div>"
            ],
            "text/plain": [
              "            Close  Open  High   Low       Volume  Change\n",
              "Date                                                    \n",
              "1980-12-12   0.13  0.13  0.13  0.13  469030000.0 -0.9988\n",
              "1980-12-15   0.12  0.12  0.12  0.12  175880000.0 -0.0769\n",
              "1980-12-16   0.11  0.11  0.11  0.11  105730000.0 -0.0833\n",
              "1980-12-17   0.12  0.12  0.12  0.12   86440000.0  0.0909\n",
              "1980-12-18   0.12  0.12  0.12  0.12   73450000.0  0.0000"
            ]
          },
          "metadata": {
            "tags": []
          },
          "execution_count": 9
        }
      ]
    },
    {
      "cell_type": "code",
      "metadata": {
        "id": "Ab63Y86Jnpi0",
        "outputId": "36e20c8f-4cd0-450b-8eaa-d8dc38eb624d",
        "colab": {
          "base_uri": "https://localhost:8080/",
          "height": 234
        }
      },
      "source": [
        "apple.tail()"
      ],
      "execution_count": 10,
      "outputs": [
        {
          "output_type": "execute_result",
          "data": {
            "text/html": [
              "<div>\n",
              "<style scoped>\n",
              "    .dataframe tbody tr th:only-of-type {\n",
              "        vertical-align: middle;\n",
              "    }\n",
              "\n",
              "    .dataframe tbody tr th {\n",
              "        vertical-align: top;\n",
              "    }\n",
              "\n",
              "    .dataframe thead th {\n",
              "        text-align: right;\n",
              "    }\n",
              "</style>\n",
              "<table border=\"1\" class=\"dataframe\">\n",
              "  <thead>\n",
              "    <tr style=\"text-align: right;\">\n",
              "      <th></th>\n",
              "      <th>Close</th>\n",
              "      <th>Open</th>\n",
              "      <th>High</th>\n",
              "      <th>Low</th>\n",
              "      <th>Volume</th>\n",
              "      <th>Change</th>\n",
              "    </tr>\n",
              "    <tr>\n",
              "      <th>Date</th>\n",
              "      <th></th>\n",
              "      <th></th>\n",
              "      <th></th>\n",
              "      <th></th>\n",
              "      <th></th>\n",
              "      <th></th>\n",
              "    </tr>\n",
              "  </thead>\n",
              "  <tbody>\n",
              "    <tr>\n",
              "      <th>2021-06-25</th>\n",
              "      <td>133.11</td>\n",
              "      <td>133.46</td>\n",
              "      <td>133.89</td>\n",
              "      <td>132.81</td>\n",
              "      <td>70780000.0</td>\n",
              "      <td>-0.0022</td>\n",
              "    </tr>\n",
              "    <tr>\n",
              "      <th>2021-06-28</th>\n",
              "      <td>134.78</td>\n",
              "      <td>133.46</td>\n",
              "      <td>135.24</td>\n",
              "      <td>133.46</td>\n",
              "      <td>62110000.0</td>\n",
              "      <td>0.0125</td>\n",
              "    </tr>\n",
              "    <tr>\n",
              "      <th>2021-06-29</th>\n",
              "      <td>136.33</td>\n",
              "      <td>134.82</td>\n",
              "      <td>136.49</td>\n",
              "      <td>134.38</td>\n",
              "      <td>64560000.0</td>\n",
              "      <td>0.0115</td>\n",
              "    </tr>\n",
              "    <tr>\n",
              "      <th>2021-06-30</th>\n",
              "      <td>136.96</td>\n",
              "      <td>136.13</td>\n",
              "      <td>137.38</td>\n",
              "      <td>135.89</td>\n",
              "      <td>63260000.0</td>\n",
              "      <td>0.0046</td>\n",
              "    </tr>\n",
              "    <tr>\n",
              "      <th>2021-07-01</th>\n",
              "      <td>137.27</td>\n",
              "      <td>136.68</td>\n",
              "      <td>137.30</td>\n",
              "      <td>135.77</td>\n",
              "      <td>52490000.0</td>\n",
              "      <td>0.0023</td>\n",
              "    </tr>\n",
              "  </tbody>\n",
              "</table>\n",
              "</div>"
            ],
            "text/plain": [
              "             Close    Open    High     Low      Volume  Change\n",
              "Date                                                          \n",
              "2021-06-25  133.11  133.46  133.89  132.81  70780000.0 -0.0022\n",
              "2021-06-28  134.78  133.46  135.24  133.46  62110000.0  0.0125\n",
              "2021-06-29  136.33  134.82  136.49  134.38  64560000.0  0.0115\n",
              "2021-06-30  136.96  136.13  137.38  135.89  63260000.0  0.0046\n",
              "2021-07-01  137.27  136.68  137.30  135.77  52490000.0  0.0023"
            ]
          },
          "metadata": {
            "tags": []
          },
          "execution_count": 10
        }
      ]
    },
    {
      "cell_type": "code",
      "metadata": {
        "id": "ez439fqynplX",
        "outputId": "7db1fff5-224f-43e4-e557-2dcf7455f067",
        "colab": {
          "base_uri": "https://localhost:8080/",
          "height": 234
        }
      },
      "source": [
        "# 특정 시점 이후 데이터 불러오기\n",
        "apple = fdr.DataReader('AAPL', '2017')\n",
        "apple.head()"
      ],
      "execution_count": 11,
      "outputs": [
        {
          "output_type": "execute_result",
          "data": {
            "text/html": [
              "<div>\n",
              "<style scoped>\n",
              "    .dataframe tbody tr th:only-of-type {\n",
              "        vertical-align: middle;\n",
              "    }\n",
              "\n",
              "    .dataframe tbody tr th {\n",
              "        vertical-align: top;\n",
              "    }\n",
              "\n",
              "    .dataframe thead th {\n",
              "        text-align: right;\n",
              "    }\n",
              "</style>\n",
              "<table border=\"1\" class=\"dataframe\">\n",
              "  <thead>\n",
              "    <tr style=\"text-align: right;\">\n",
              "      <th></th>\n",
              "      <th>Close</th>\n",
              "      <th>Open</th>\n",
              "      <th>High</th>\n",
              "      <th>Low</th>\n",
              "      <th>Volume</th>\n",
              "      <th>Change</th>\n",
              "    </tr>\n",
              "    <tr>\n",
              "      <th>Date</th>\n",
              "      <th></th>\n",
              "      <th></th>\n",
              "      <th></th>\n",
              "      <th></th>\n",
              "      <th></th>\n",
              "      <th></th>\n",
              "    </tr>\n",
              "  </thead>\n",
              "  <tbody>\n",
              "    <tr>\n",
              "      <th>2017-01-03</th>\n",
              "      <td>29.04</td>\n",
              "      <td>28.95</td>\n",
              "      <td>29.08</td>\n",
              "      <td>28.69</td>\n",
              "      <td>115130000.0</td>\n",
              "      <td>0.0031</td>\n",
              "    </tr>\n",
              "    <tr>\n",
              "      <th>2017-01-04</th>\n",
              "      <td>29.00</td>\n",
              "      <td>28.96</td>\n",
              "      <td>29.13</td>\n",
              "      <td>28.94</td>\n",
              "      <td>84470000.0</td>\n",
              "      <td>-0.0014</td>\n",
              "    </tr>\n",
              "    <tr>\n",
              "      <th>2017-01-05</th>\n",
              "      <td>29.15</td>\n",
              "      <td>28.98</td>\n",
              "      <td>29.22</td>\n",
              "      <td>28.95</td>\n",
              "      <td>88770000.0</td>\n",
              "      <td>0.0052</td>\n",
              "    </tr>\n",
              "    <tr>\n",
              "      <th>2017-01-06</th>\n",
              "      <td>29.48</td>\n",
              "      <td>29.20</td>\n",
              "      <td>29.54</td>\n",
              "      <td>29.12</td>\n",
              "      <td>127010000.0</td>\n",
              "      <td>0.0113</td>\n",
              "    </tr>\n",
              "    <tr>\n",
              "      <th>2017-01-09</th>\n",
              "      <td>29.75</td>\n",
              "      <td>29.49</td>\n",
              "      <td>29.86</td>\n",
              "      <td>29.48</td>\n",
              "      <td>134250000.0</td>\n",
              "      <td>0.0092</td>\n",
              "    </tr>\n",
              "  </tbody>\n",
              "</table>\n",
              "</div>"
            ],
            "text/plain": [
              "            Close   Open   High    Low       Volume  Change\n",
              "Date                                                       \n",
              "2017-01-03  29.04  28.95  29.08  28.69  115130000.0  0.0031\n",
              "2017-01-04  29.00  28.96  29.13  28.94   84470000.0 -0.0014\n",
              "2017-01-05  29.15  28.98  29.22  28.95   88770000.0  0.0052\n",
              "2017-01-06  29.48  29.20  29.54  29.12  127010000.0  0.0113\n",
              "2017-01-09  29.75  29.49  29.86  29.48  134250000.0  0.0092"
            ]
          },
          "metadata": {
            "tags": []
          },
          "execution_count": 11
        }
      ]
    },
    {
      "cell_type": "code",
      "metadata": {
        "id": "66bNxFxsnpn5",
        "outputId": "1dbf037b-1bab-4c36-a6f9-a4cf45edb7d3",
        "colab": {
          "base_uri": "https://localhost:8080/",
          "height": 234
        }
      },
      "source": [
        "# 포드 사 데이터\n",
        "ford = fdr.DataReader('F', '1980-01-01','2019-12-30')\n",
        "ford.head()"
      ],
      "execution_count": 12,
      "outputs": [
        {
          "output_type": "execute_result",
          "data": {
            "text/html": [
              "<div>\n",
              "<style scoped>\n",
              "    .dataframe tbody tr th:only-of-type {\n",
              "        vertical-align: middle;\n",
              "    }\n",
              "\n",
              "    .dataframe tbody tr th {\n",
              "        vertical-align: top;\n",
              "    }\n",
              "\n",
              "    .dataframe thead th {\n",
              "        text-align: right;\n",
              "    }\n",
              "</style>\n",
              "<table border=\"1\" class=\"dataframe\">\n",
              "  <thead>\n",
              "    <tr style=\"text-align: right;\">\n",
              "      <th></th>\n",
              "      <th>Close</th>\n",
              "      <th>Open</th>\n",
              "      <th>High</th>\n",
              "      <th>Low</th>\n",
              "      <th>Volume</th>\n",
              "      <th>Change</th>\n",
              "    </tr>\n",
              "    <tr>\n",
              "      <th>Date</th>\n",
              "      <th></th>\n",
              "      <th></th>\n",
              "      <th></th>\n",
              "      <th></th>\n",
              "      <th></th>\n",
              "      <th></th>\n",
              "    </tr>\n",
              "  </thead>\n",
              "  <tbody>\n",
              "    <tr>\n",
              "      <th>1980-03-18</th>\n",
              "      <td>1.83</td>\n",
              "      <td>1.83</td>\n",
              "      <td>1.85</td>\n",
              "      <td>1.82</td>\n",
              "      <td>3770000.0</td>\n",
              "      <td>-0.0108</td>\n",
              "    </tr>\n",
              "    <tr>\n",
              "      <th>1980-03-19</th>\n",
              "      <td>1.85</td>\n",
              "      <td>1.85</td>\n",
              "      <td>1.86</td>\n",
              "      <td>1.83</td>\n",
              "      <td>1560000.0</td>\n",
              "      <td>0.0109</td>\n",
              "    </tr>\n",
              "    <tr>\n",
              "      <th>1980-03-20</th>\n",
              "      <td>1.86</td>\n",
              "      <td>1.86</td>\n",
              "      <td>1.88</td>\n",
              "      <td>1.85</td>\n",
              "      <td>1450000.0</td>\n",
              "      <td>0.0054</td>\n",
              "    </tr>\n",
              "    <tr>\n",
              "      <th>1980-03-21</th>\n",
              "      <td>1.78</td>\n",
              "      <td>1.78</td>\n",
              "      <td>1.85</td>\n",
              "      <td>1.76</td>\n",
              "      <td>5020000.0</td>\n",
              "      <td>-0.0430</td>\n",
              "    </tr>\n",
              "    <tr>\n",
              "      <th>1980-03-24</th>\n",
              "      <td>1.71</td>\n",
              "      <td>1.71</td>\n",
              "      <td>1.75</td>\n",
              "      <td>1.66</td>\n",
              "      <td>3330000.0</td>\n",
              "      <td>-0.0393</td>\n",
              "    </tr>\n",
              "  </tbody>\n",
              "</table>\n",
              "</div>"
            ],
            "text/plain": [
              "            Close  Open  High   Low     Volume  Change\n",
              "Date                                                  \n",
              "1980-03-18   1.83  1.83  1.85  1.82  3770000.0 -0.0108\n",
              "1980-03-19   1.85  1.85  1.86  1.83  1560000.0  0.0109\n",
              "1980-03-20   1.86  1.86  1.88  1.85  1450000.0  0.0054\n",
              "1980-03-21   1.78  1.78  1.85  1.76  5020000.0 -0.0430\n",
              "1980-03-24   1.71  1.71  1.75  1.66  3330000.0 -0.0393"
            ]
          },
          "metadata": {
            "tags": []
          },
          "execution_count": 12
        }
      ]
    },
    {
      "cell_type": "code",
      "metadata": {
        "id": "ldXL_xC4npqa",
        "outputId": "00a4f5a5-a35a-4e69-f1c5-165eb31e77ee",
        "colab": {
          "base_uri": "https://localhost:8080/",
          "height": 234
        }
      },
      "source": [
        "ford.tail()"
      ],
      "execution_count": 13,
      "outputs": [
        {
          "output_type": "execute_result",
          "data": {
            "text/html": [
              "<div>\n",
              "<style scoped>\n",
              "    .dataframe tbody tr th:only-of-type {\n",
              "        vertical-align: middle;\n",
              "    }\n",
              "\n",
              "    .dataframe tbody tr th {\n",
              "        vertical-align: top;\n",
              "    }\n",
              "\n",
              "    .dataframe thead th {\n",
              "        text-align: right;\n",
              "    }\n",
              "</style>\n",
              "<table border=\"1\" class=\"dataframe\">\n",
              "  <thead>\n",
              "    <tr style=\"text-align: right;\">\n",
              "      <th></th>\n",
              "      <th>Close</th>\n",
              "      <th>Open</th>\n",
              "      <th>High</th>\n",
              "      <th>Low</th>\n",
              "      <th>Volume</th>\n",
              "      <th>Change</th>\n",
              "    </tr>\n",
              "    <tr>\n",
              "      <th>Date</th>\n",
              "      <th></th>\n",
              "      <th></th>\n",
              "      <th></th>\n",
              "      <th></th>\n",
              "      <th></th>\n",
              "      <th></th>\n",
              "    </tr>\n",
              "  </thead>\n",
              "  <tbody>\n",
              "    <tr>\n",
              "      <th>2019-12-23</th>\n",
              "      <td>9.44</td>\n",
              "      <td>9.50</td>\n",
              "      <td>9.57</td>\n",
              "      <td>9.40</td>\n",
              "      <td>54800000.0</td>\n",
              "      <td>-0.0042</td>\n",
              "    </tr>\n",
              "    <tr>\n",
              "      <th>2019-12-24</th>\n",
              "      <td>9.47</td>\n",
              "      <td>9.44</td>\n",
              "      <td>9.49</td>\n",
              "      <td>9.43</td>\n",
              "      <td>11880000.0</td>\n",
              "      <td>0.0032</td>\n",
              "    </tr>\n",
              "    <tr>\n",
              "      <th>2019-12-26</th>\n",
              "      <td>9.45</td>\n",
              "      <td>9.47</td>\n",
              "      <td>9.49</td>\n",
              "      <td>9.43</td>\n",
              "      <td>28980000.0</td>\n",
              "      <td>-0.0021</td>\n",
              "    </tr>\n",
              "    <tr>\n",
              "      <th>2019-12-27</th>\n",
              "      <td>9.36</td>\n",
              "      <td>9.45</td>\n",
              "      <td>9.46</td>\n",
              "      <td>9.35</td>\n",
              "      <td>28270000.0</td>\n",
              "      <td>-0.0095</td>\n",
              "    </tr>\n",
              "    <tr>\n",
              "      <th>2019-12-30</th>\n",
              "      <td>9.25</td>\n",
              "      <td>9.34</td>\n",
              "      <td>9.35</td>\n",
              "      <td>9.23</td>\n",
              "      <td>36090000.0</td>\n",
              "      <td>-0.0118</td>\n",
              "    </tr>\n",
              "  </tbody>\n",
              "</table>\n",
              "</div>"
            ],
            "text/plain": [
              "            Close  Open  High   Low      Volume  Change\n",
              "Date                                                   \n",
              "2019-12-23   9.44  9.50  9.57  9.40  54800000.0 -0.0042\n",
              "2019-12-24   9.47  9.44  9.49  9.43  11880000.0  0.0032\n",
              "2019-12-26   9.45  9.47  9.49  9.43  28980000.0 -0.0021\n",
              "2019-12-27   9.36  9.45  9.46  9.35  28270000.0 -0.0095\n",
              "2019-12-30   9.25  9.34  9.35  9.23  36090000.0 -0.0118"
            ]
          },
          "metadata": {
            "tags": []
          },
          "execution_count": 13
        }
      ]
    },
    {
      "cell_type": "code",
      "metadata": {
        "id": "WgFXEW-Mnps3",
        "outputId": "7aa29a7a-8167-4214-9d2a-dd06244ffa63",
        "colab": {
          "base_uri": "https://localhost:8080/",
          "height": 234
        }
      },
      "source": [
        "stock_code = '005930'\n",
        "stock = fdr.DataReader(stock_code)\n",
        "stock.head()"
      ],
      "execution_count": 14,
      "outputs": [
        {
          "output_type": "execute_result",
          "data": {
            "text/html": [
              "<div>\n",
              "<style scoped>\n",
              "    .dataframe tbody tr th:only-of-type {\n",
              "        vertical-align: middle;\n",
              "    }\n",
              "\n",
              "    .dataframe tbody tr th {\n",
              "        vertical-align: top;\n",
              "    }\n",
              "\n",
              "    .dataframe thead th {\n",
              "        text-align: right;\n",
              "    }\n",
              "</style>\n",
              "<table border=\"1\" class=\"dataframe\">\n",
              "  <thead>\n",
              "    <tr style=\"text-align: right;\">\n",
              "      <th></th>\n",
              "      <th>Open</th>\n",
              "      <th>High</th>\n",
              "      <th>Low</th>\n",
              "      <th>Close</th>\n",
              "      <th>Volume</th>\n",
              "      <th>Change</th>\n",
              "    </tr>\n",
              "    <tr>\n",
              "      <th>Date</th>\n",
              "      <th></th>\n",
              "      <th></th>\n",
              "      <th></th>\n",
              "      <th></th>\n",
              "      <th></th>\n",
              "      <th></th>\n",
              "    </tr>\n",
              "  </thead>\n",
              "  <tbody>\n",
              "    <tr>\n",
              "      <th>1997-06-27</th>\n",
              "      <td>1256</td>\n",
              "      <td>1265</td>\n",
              "      <td>1152</td>\n",
              "      <td>1224</td>\n",
              "      <td>99340</td>\n",
              "      <td>NaN</td>\n",
              "    </tr>\n",
              "    <tr>\n",
              "      <th>1997-06-28</th>\n",
              "      <td>1227</td>\n",
              "      <td>1250</td>\n",
              "      <td>1224</td>\n",
              "      <td>1251</td>\n",
              "      <td>36660</td>\n",
              "      <td>0.022059</td>\n",
              "    </tr>\n",
              "    <tr>\n",
              "      <th>1997-06-30</th>\n",
              "      <td>1259</td>\n",
              "      <td>1290</td>\n",
              "      <td>1254</td>\n",
              "      <td>1260</td>\n",
              "      <td>100240</td>\n",
              "      <td>0.007194</td>\n",
              "    </tr>\n",
              "    <tr>\n",
              "      <th>1997-07-01</th>\n",
              "      <td>1259</td>\n",
              "      <td>1286</td>\n",
              "      <td>1259</td>\n",
              "      <td>1269</td>\n",
              "      <td>167900</td>\n",
              "      <td>0.007143</td>\n",
              "    </tr>\n",
              "    <tr>\n",
              "      <th>1997-07-02</th>\n",
              "      <td>1277</td>\n",
              "      <td>1313</td>\n",
              "      <td>1277</td>\n",
              "      <td>1296</td>\n",
              "      <td>169940</td>\n",
              "      <td>0.021277</td>\n",
              "    </tr>\n",
              "  </tbody>\n",
              "</table>\n",
              "</div>"
            ],
            "text/plain": [
              "            Open  High   Low  Close  Volume    Change\n",
              "Date                                                 \n",
              "1997-06-27  1256  1265  1152   1224   99340       NaN\n",
              "1997-06-28  1227  1250  1224   1251   36660  0.022059\n",
              "1997-06-30  1259  1290  1254   1260  100240  0.007194\n",
              "1997-07-01  1259  1286  1259   1269  167900  0.007143\n",
              "1997-07-02  1277  1313  1277   1296  169940  0.021277"
            ]
          },
          "metadata": {
            "tags": []
          },
          "execution_count": 14
        }
      ]
    },
    {
      "cell_type": "code",
      "metadata": {
        "id": "4QRVfkLInpvq",
        "outputId": "d9a4a3aa-081a-41bf-ade5-fbb2112c691f",
        "colab": {
          "base_uri": "https://localhost:8080/"
        }
      },
      "source": [
        "stock.index"
      ],
      "execution_count": 15,
      "outputs": [
        {
          "output_type": "execute_result",
          "data": {
            "text/plain": [
              "DatetimeIndex(['1997-06-27', '1997-06-28', '1997-06-30', '1997-07-01',\n",
              "               '1997-07-02', '1997-07-03', '1997-07-04', '1997-07-05',\n",
              "               '1997-07-07', '1997-07-08',\n",
              "               ...\n",
              "               '2021-06-21', '2021-06-22', '2021-06-23', '2021-06-24',\n",
              "               '2021-06-25', '2021-06-28', '2021-06-29', '2021-06-30',\n",
              "               '2021-07-01', '2021-07-02'],\n",
              "              dtype='datetime64[ns]', name='Date', length=6000, freq=None)"
            ]
          },
          "metadata": {
            "tags": []
          },
          "execution_count": 15
        }
      ]
    },
    {
      "cell_type": "markdown",
      "metadata": {
        "id": "I2fuFcnZmQnW"
      },
      "source": [
        "### 시각화"
      ]
    },
    {
      "cell_type": "code",
      "metadata": {
        "id": "d9drVK-_ljjw",
        "outputId": "b5d0c6da-9a0f-487a-c74d-edb2ffc99898",
        "colab": {
          "base_uri": "https://localhost:8080/"
        }
      },
      "source": [
        "stock.columns"
      ],
      "execution_count": 16,
      "outputs": [
        {
          "output_type": "execute_result",
          "data": {
            "text/plain": [
              "Index(['Open', 'High', 'Low', 'Close', 'Volume', 'Change'], dtype='object')"
            ]
          },
          "metadata": {
            "tags": []
          },
          "execution_count": 16
        }
      ]
    },
    {
      "cell_type": "code",
      "metadata": {
        "id": "O92HQXlFl2uU",
        "outputId": "a500540c-aa33-4b62-bcea-1c06e2ffbf3c",
        "colab": {
          "base_uri": "https://localhost:8080/"
        }
      },
      "source": [
        "stock.index"
      ],
      "execution_count": 17,
      "outputs": [
        {
          "output_type": "execute_result",
          "data": {
            "text/plain": [
              "DatetimeIndex(['1997-06-27', '1997-06-28', '1997-06-30', '1997-07-01',\n",
              "               '1997-07-02', '1997-07-03', '1997-07-04', '1997-07-05',\n",
              "               '1997-07-07', '1997-07-08',\n",
              "               ...\n",
              "               '2021-06-21', '2021-06-22', '2021-06-23', '2021-06-24',\n",
              "               '2021-06-25', '2021-06-28', '2021-06-29', '2021-06-30',\n",
              "               '2021-07-01', '2021-07-02'],\n",
              "              dtype='datetime64[ns]', name='Date', length=6000, freq=None)"
            ]
          },
          "metadata": {
            "tags": []
          },
          "execution_count": 17
        }
      ]
    },
    {
      "cell_type": "code",
      "metadata": {
        "id": "nSget7JDraat"
      },
      "source": [
        "stock['Year'] = stock.index.year\n",
        "stock['Month'] = stock.index.month\n",
        "stock['Day'] = stock.index.day"
      ],
      "execution_count": 19,
      "outputs": []
    },
    {
      "cell_type": "code",
      "metadata": {
        "id": "dunVDGBSreAo",
        "outputId": "fce05895-e8a5-4e87-d3a7-221abd015661",
        "colab": {
          "base_uri": "https://localhost:8080/",
          "height": 234
        }
      },
      "source": [
        "stock.head()"
      ],
      "execution_count": 21,
      "outputs": [
        {
          "output_type": "execute_result",
          "data": {
            "text/html": [
              "<div>\n",
              "<style scoped>\n",
              "    .dataframe tbody tr th:only-of-type {\n",
              "        vertical-align: middle;\n",
              "    }\n",
              "\n",
              "    .dataframe tbody tr th {\n",
              "        vertical-align: top;\n",
              "    }\n",
              "\n",
              "    .dataframe thead th {\n",
              "        text-align: right;\n",
              "    }\n",
              "</style>\n",
              "<table border=\"1\" class=\"dataframe\">\n",
              "  <thead>\n",
              "    <tr style=\"text-align: right;\">\n",
              "      <th></th>\n",
              "      <th>Open</th>\n",
              "      <th>High</th>\n",
              "      <th>Low</th>\n",
              "      <th>Close</th>\n",
              "      <th>Volume</th>\n",
              "      <th>Change</th>\n",
              "      <th>Year</th>\n",
              "      <th>Month</th>\n",
              "      <th>Day</th>\n",
              "    </tr>\n",
              "    <tr>\n",
              "      <th>Date</th>\n",
              "      <th></th>\n",
              "      <th></th>\n",
              "      <th></th>\n",
              "      <th></th>\n",
              "      <th></th>\n",
              "      <th></th>\n",
              "      <th></th>\n",
              "      <th></th>\n",
              "      <th></th>\n",
              "    </tr>\n",
              "  </thead>\n",
              "  <tbody>\n",
              "    <tr>\n",
              "      <th>1997-06-27</th>\n",
              "      <td>1256</td>\n",
              "      <td>1265</td>\n",
              "      <td>1152</td>\n",
              "      <td>1224</td>\n",
              "      <td>99340</td>\n",
              "      <td>NaN</td>\n",
              "      <td>1997</td>\n",
              "      <td>6</td>\n",
              "      <td>27</td>\n",
              "    </tr>\n",
              "    <tr>\n",
              "      <th>1997-06-28</th>\n",
              "      <td>1227</td>\n",
              "      <td>1250</td>\n",
              "      <td>1224</td>\n",
              "      <td>1251</td>\n",
              "      <td>36660</td>\n",
              "      <td>0.022059</td>\n",
              "      <td>1997</td>\n",
              "      <td>6</td>\n",
              "      <td>28</td>\n",
              "    </tr>\n",
              "    <tr>\n",
              "      <th>1997-06-30</th>\n",
              "      <td>1259</td>\n",
              "      <td>1290</td>\n",
              "      <td>1254</td>\n",
              "      <td>1260</td>\n",
              "      <td>100240</td>\n",
              "      <td>0.007194</td>\n",
              "      <td>1997</td>\n",
              "      <td>6</td>\n",
              "      <td>30</td>\n",
              "    </tr>\n",
              "    <tr>\n",
              "      <th>1997-07-01</th>\n",
              "      <td>1259</td>\n",
              "      <td>1286</td>\n",
              "      <td>1259</td>\n",
              "      <td>1269</td>\n",
              "      <td>167900</td>\n",
              "      <td>0.007143</td>\n",
              "      <td>1997</td>\n",
              "      <td>7</td>\n",
              "      <td>1</td>\n",
              "    </tr>\n",
              "    <tr>\n",
              "      <th>1997-07-02</th>\n",
              "      <td>1277</td>\n",
              "      <td>1313</td>\n",
              "      <td>1277</td>\n",
              "      <td>1296</td>\n",
              "      <td>169940</td>\n",
              "      <td>0.021277</td>\n",
              "      <td>1997</td>\n",
              "      <td>7</td>\n",
              "      <td>2</td>\n",
              "    </tr>\n",
              "  </tbody>\n",
              "</table>\n",
              "</div>"
            ],
            "text/plain": [
              "            Open  High   Low  Close  Volume    Change  Year  Month  Day\n",
              "Date                                                                   \n",
              "1997-06-27  1256  1265  1152   1224   99340       NaN  1997      6   27\n",
              "1997-06-28  1227  1250  1224   1251   36660  0.022059  1997      6   28\n",
              "1997-06-30  1259  1290  1254   1260  100240  0.007194  1997      6   30\n",
              "1997-07-01  1259  1286  1259   1269  167900  0.007143  1997      7    1\n",
              "1997-07-02  1277  1313  1277   1296  169940  0.021277  1997      7    2"
            ]
          },
          "metadata": {
            "tags": []
          },
          "execution_count": 21
        }
      ]
    },
    {
      "cell_type": "code",
      "metadata": {
        "id": "zOkcVksKrpv3",
        "outputId": "388744e1-2ce7-41f0-f3fa-ab177ad9fcf5",
        "colab": {
          "base_uri": "https://localhost:8080/",
          "height": 447
        }
      },
      "source": [
        "# 연도별 월별 피벗테이블\n",
        "\n",
        "stock.groupby(['Year','Month']).mean()"
      ],
      "execution_count": 25,
      "outputs": [
        {
          "output_type": "execute_result",
          "data": {
            "text/html": [
              "<div>\n",
              "<style scoped>\n",
              "    .dataframe tbody tr th:only-of-type {\n",
              "        vertical-align: middle;\n",
              "    }\n",
              "\n",
              "    .dataframe tbody tr th {\n",
              "        vertical-align: top;\n",
              "    }\n",
              "\n",
              "    .dataframe thead th {\n",
              "        text-align: right;\n",
              "    }\n",
              "</style>\n",
              "<table border=\"1\" class=\"dataframe\">\n",
              "  <thead>\n",
              "    <tr style=\"text-align: right;\">\n",
              "      <th></th>\n",
              "      <th></th>\n",
              "      <th>Open</th>\n",
              "      <th>High</th>\n",
              "      <th>Low</th>\n",
              "      <th>Close</th>\n",
              "      <th>Volume</th>\n",
              "      <th>Change</th>\n",
              "      <th>Day</th>\n",
              "    </tr>\n",
              "    <tr>\n",
              "      <th>Year</th>\n",
              "      <th>Month</th>\n",
              "      <th></th>\n",
              "      <th></th>\n",
              "      <th></th>\n",
              "      <th></th>\n",
              "      <th></th>\n",
              "      <th></th>\n",
              "      <th></th>\n",
              "    </tr>\n",
              "  </thead>\n",
              "  <tbody>\n",
              "    <tr>\n",
              "      <th rowspan=\"5\" valign=\"top\">1997</th>\n",
              "      <th>6</th>\n",
              "      <td>1247.333333</td>\n",
              "      <td>1268.333333</td>\n",
              "      <td>1210.000000</td>\n",
              "      <td>1245.000000</td>\n",
              "      <td>7.874667e+04</td>\n",
              "      <td>0.014627</td>\n",
              "      <td>28.333333</td>\n",
              "    </tr>\n",
              "    <tr>\n",
              "      <th>7</th>\n",
              "      <td>1228.769231</td>\n",
              "      <td>1241.461538</td>\n",
              "      <td>1216.423077</td>\n",
              "      <td>1227.500000</td>\n",
              "      <td>7.374308e+04</td>\n",
              "      <td>-0.003107</td>\n",
              "      <td>15.884615</td>\n",
              "    </tr>\n",
              "    <tr>\n",
              "      <th>8</th>\n",
              "      <td>1261.840000</td>\n",
              "      <td>1278.040000</td>\n",
              "      <td>1250.640000</td>\n",
              "      <td>1267.280000</td>\n",
              "      <td>1.537483e+05</td>\n",
              "      <td>0.003438</td>\n",
              "      <td>15.840000</td>\n",
              "    </tr>\n",
              "    <tr>\n",
              "      <th>9</th>\n",
              "      <td>1224.652174</td>\n",
              "      <td>1238.739130</td>\n",
              "      <td>1209.217391</td>\n",
              "      <td>1224.521739</td>\n",
              "      <td>6.507870e+04</td>\n",
              "      <td>-0.002450</td>\n",
              "      <td>15.086957</td>\n",
              "    </tr>\n",
              "    <tr>\n",
              "      <th>10</th>\n",
              "      <td>1027.230769</td>\n",
              "      <td>1045.730769</td>\n",
              "      <td>995.307692</td>\n",
              "      <td>1014.000000</td>\n",
              "      <td>1.376285e+05</td>\n",
              "      <td>-0.020538</td>\n",
              "      <td>16.576923</td>\n",
              "    </tr>\n",
              "    <tr>\n",
              "      <th>...</th>\n",
              "      <th>...</th>\n",
              "      <td>...</td>\n",
              "      <td>...</td>\n",
              "      <td>...</td>\n",
              "      <td>...</td>\n",
              "      <td>...</td>\n",
              "      <td>...</td>\n",
              "      <td>...</td>\n",
              "    </tr>\n",
              "    <tr>\n",
              "      <th rowspan=\"5\" valign=\"top\">2021</th>\n",
              "      <th>3</th>\n",
              "      <td>82250.000000</td>\n",
              "      <td>82763.636364</td>\n",
              "      <td>81609.090909</td>\n",
              "      <td>82072.727273</td>\n",
              "      <td>1.761874e+07</td>\n",
              "      <td>-0.000570</td>\n",
              "      <td>16.318182</td>\n",
              "    </tr>\n",
              "    <tr>\n",
              "      <th>4</th>\n",
              "      <td>83786.363636</td>\n",
              "      <td>84150.000000</td>\n",
              "      <td>83095.454545</td>\n",
              "      <td>83586.363636</td>\n",
              "      <td>1.695174e+07</td>\n",
              "      <td>0.000101</td>\n",
              "      <td>16.045455</td>\n",
              "    </tr>\n",
              "    <tr>\n",
              "      <th>5</th>\n",
              "      <td>80547.368421</td>\n",
              "      <td>81105.263158</td>\n",
              "      <td>80015.789474</td>\n",
              "      <td>80521.052632</td>\n",
              "      <td>1.853742e+07</td>\n",
              "      <td>-0.000592</td>\n",
              "      <td>16.684211</td>\n",
              "    </tr>\n",
              "    <tr>\n",
              "      <th>6</th>\n",
              "      <td>81195.454545</td>\n",
              "      <td>81590.909091</td>\n",
              "      <td>80740.909091</td>\n",
              "      <td>81104.545455</td>\n",
              "      <td>1.514088e+07</td>\n",
              "      <td>0.000147</td>\n",
              "      <td>15.318182</td>\n",
              "    </tr>\n",
              "    <tr>\n",
              "      <th>7</th>\n",
              "      <td>80250.000000</td>\n",
              "      <td>80500.000000</td>\n",
              "      <td>79950.000000</td>\n",
              "      <td>80050.000000</td>\n",
              "      <td>9.624433e+06</td>\n",
              "      <td>-0.004342</td>\n",
              "      <td>1.500000</td>\n",
              "    </tr>\n",
              "  </tbody>\n",
              "</table>\n",
              "<p>290 rows × 7 columns</p>\n",
              "</div>"
            ],
            "text/plain": [
              "                    Open          High  ...    Change        Day\n",
              "Year Month                              ...                     \n",
              "1997 6       1247.333333   1268.333333  ...  0.014627  28.333333\n",
              "     7       1228.769231   1241.461538  ... -0.003107  15.884615\n",
              "     8       1261.840000   1278.040000  ...  0.003438  15.840000\n",
              "     9       1224.652174   1238.739130  ... -0.002450  15.086957\n",
              "     10      1027.230769   1045.730769  ... -0.020538  16.576923\n",
              "...                  ...           ...  ...       ...        ...\n",
              "2021 3      82250.000000  82763.636364  ... -0.000570  16.318182\n",
              "     4      83786.363636  84150.000000  ...  0.000101  16.045455\n",
              "     5      80547.368421  81105.263158  ... -0.000592  16.684211\n",
              "     6      81195.454545  81590.909091  ...  0.000147  15.318182\n",
              "     7      80250.000000  80500.000000  ... -0.004342   1.500000\n",
              "\n",
              "[290 rows x 7 columns]"
            ]
          },
          "metadata": {
            "tags": []
          },
          "execution_count": 25
        }
      ]
    },
    {
      "cell_type": "code",
      "metadata": {
        "id": "S2ot2sREr3HC",
        "outputId": "9466033e-6086-4f29-ebf0-f7369a72b455",
        "colab": {
          "base_uri": "https://localhost:8080/",
          "height": 560
        }
      },
      "source": [
        "plt.figure(figsize=(16,9))\n",
        "\n",
        "plt.plot(stock['Close'])\n",
        "plt.xlabel('Date', fontsize=20)\n",
        "plt.ylabel('Close Price', fontsize=20)\n",
        "plt.show()"
      ],
      "execution_count": 29,
      "outputs": [
        {
          "output_type": "display_data",
          "data": {
            "image/png": "[encoded data removed]",
            "text/plain": [
              "<Figure size 1152x648 with 1 Axes>"
            ]
          },
          "metadata": {
            "tags": [],
            "needs_background": "light"
          }
        }
      ]
    },
    {
      "cell_type": "code",
      "metadata": {
        "id": "qYfE099vsNpJ",
        "outputId": "d6a7a83d-1856-4ea7-e3ef-af666bece254",
        "colab": {
          "base_uri": "https://localhost:8080/",
          "height": 447
        }
      },
      "source": [
        "# 구간 별 나눠서 그려보기\n",
        "time_steps = [['1990','2000'],\n",
        "              ['2000','2010'],\n",
        "              ['2010','2015'],\n",
        "              ['2015','2020']\n",
        "              \n",
        "]\n",
        "# 90년대 데이터\n",
        "stock.loc[(stock.index >= time_steps[0][0]) & (stock.index < time_steps[0][1])]"
      ],
      "execution_count": 35,
      "outputs": [
        {
          "output_type": "execute_result",
          "data": {
            "text/html": [
              "<div>\n",
              "<style scoped>\n",
              "    .dataframe tbody tr th:only-of-type {\n",
              "        vertical-align: middle;\n",
              "    }\n",
              "\n",
              "    .dataframe tbody tr th {\n",
              "        vertical-align: top;\n",
              "    }\n",
              "\n",
              "    .dataframe thead th {\n",
              "        text-align: right;\n",
              "    }\n",
              "</style>\n",
              "<table border=\"1\" class=\"dataframe\">\n",
              "  <thead>\n",
              "    <tr style=\"text-align: right;\">\n",
              "      <th></th>\n",
              "      <th>Open</th>\n",
              "      <th>High</th>\n",
              "      <th>Low</th>\n",
              "      <th>Close</th>\n",
              "      <th>Volume</th>\n",
              "      <th>Change</th>\n",
              "      <th>Year</th>\n",
              "      <th>Month</th>\n",
              "      <th>Day</th>\n",
              "    </tr>\n",
              "    <tr>\n",
              "      <th>Date</th>\n",
              "      <th></th>\n",
              "      <th></th>\n",
              "      <th></th>\n",
              "      <th></th>\n",
              "      <th></th>\n",
              "      <th></th>\n",
              "      <th></th>\n",
              "      <th></th>\n",
              "      <th></th>\n",
              "    </tr>\n",
              "  </thead>\n",
              "  <tbody>\n",
              "    <tr>\n",
              "      <th>1997-06-27</th>\n",
              "      <td>1256</td>\n",
              "      <td>1265</td>\n",
              "      <td>1152</td>\n",
              "      <td>1224</td>\n",
              "      <td>99340</td>\n",
              "      <td>NaN</td>\n",
              "      <td>1997</td>\n",
              "      <td>6</td>\n",
              "      <td>27</td>\n",
              "    </tr>\n",
              "    <tr>\n",
              "      <th>1997-06-28</th>\n",
              "      <td>1227</td>\n",
              "      <td>1250</td>\n",
              "      <td>1224</td>\n",
              "      <td>1251</td>\n",
              "      <td>36660</td>\n",
              "      <td>0.022059</td>\n",
              "      <td>1997</td>\n",
              "      <td>6</td>\n",
              "      <td>28</td>\n",
              "    </tr>\n",
              "    <tr>\n",
              "      <th>1997-06-30</th>\n",
              "      <td>1259</td>\n",
              "      <td>1290</td>\n",
              "      <td>1254</td>\n",
              "      <td>1260</td>\n",
              "      <td>100240</td>\n",
              "      <td>0.007194</td>\n",
              "      <td>1997</td>\n",
              "      <td>6</td>\n",
              "      <td>30</td>\n",
              "    </tr>\n",
              "    <tr>\n",
              "      <th>1997-07-01</th>\n",
              "      <td>1259</td>\n",
              "      <td>1286</td>\n",
              "      <td>1259</td>\n",
              "      <td>1269</td>\n",
              "      <td>167900</td>\n",
              "      <td>0.007143</td>\n",
              "      <td>1997</td>\n",
              "      <td>7</td>\n",
              "      <td>1</td>\n",
              "    </tr>\n",
              "    <tr>\n",
              "      <th>1997-07-02</th>\n",
              "      <td>1277</td>\n",
              "      <td>1313</td>\n",
              "      <td>1277</td>\n",
              "      <td>1296</td>\n",
              "      <td>169940</td>\n",
              "      <td>0.021277</td>\n",
              "      <td>1997</td>\n",
              "      <td>7</td>\n",
              "      <td>2</td>\n",
              "    </tr>\n",
              "    <tr>\n",
              "      <th>...</th>\n",
              "      <td>...</td>\n",
              "      <td>...</td>\n",
              "      <td>...</td>\n",
              "      <td>...</td>\n",
              "      <td>...</td>\n",
              "      <td>...</td>\n",
              "      <td>...</td>\n",
              "      <td>...</td>\n",
              "      <td>...</td>\n",
              "    </tr>\n",
              "    <tr>\n",
              "      <th>1999-12-22</th>\n",
              "      <td>5140</td>\n",
              "      <td>5350</td>\n",
              "      <td>5060</td>\n",
              "      <td>5280</td>\n",
              "      <td>826858</td>\n",
              "      <td>0.047619</td>\n",
              "      <td>1999</td>\n",
              "      <td>12</td>\n",
              "      <td>22</td>\n",
              "    </tr>\n",
              "    <tr>\n",
              "      <th>1999-12-23</th>\n",
              "      <td>5280</td>\n",
              "      <td>5700</td>\n",
              "      <td>5240</td>\n",
              "      <td>5580</td>\n",
              "      <td>1057262</td>\n",
              "      <td>0.056818</td>\n",
              "      <td>1999</td>\n",
              "      <td>12</td>\n",
              "      <td>23</td>\n",
              "    </tr>\n",
              "    <tr>\n",
              "      <th>1999-12-24</th>\n",
              "      <td>5700</td>\n",
              "      <td>5720</td>\n",
              "      <td>5360</td>\n",
              "      <td>5460</td>\n",
              "      <td>708446</td>\n",
              "      <td>-0.021505</td>\n",
              "      <td>1999</td>\n",
              "      <td>12</td>\n",
              "      <td>24</td>\n",
              "    </tr>\n",
              "    <tr>\n",
              "      <th>1999-12-27</th>\n",
              "      <td>5460</td>\n",
              "      <td>5490</td>\n",
              "      <td>5140</td>\n",
              "      <td>5220</td>\n",
              "      <td>934057</td>\n",
              "      <td>-0.043956</td>\n",
              "      <td>1999</td>\n",
              "      <td>12</td>\n",
              "      <td>27</td>\n",
              "    </tr>\n",
              "    <tr>\n",
              "      <th>1999-12-28</th>\n",
              "      <td>5200</td>\n",
              "      <td>5560</td>\n",
              "      <td>5050</td>\n",
              "      <td>5320</td>\n",
              "      <td>1481697</td>\n",
              "      <td>0.019157</td>\n",
              "      <td>1999</td>\n",
              "      <td>12</td>\n",
              "      <td>28</td>\n",
              "    </tr>\n",
              "  </tbody>\n",
              "</table>\n",
              "<p>691 rows × 9 columns</p>\n",
              "</div>"
            ],
            "text/plain": [
              "            Open  High   Low  Close   Volume    Change  Year  Month  Day\n",
              "Date                                                                    \n",
              "1997-06-27  1256  1265  1152   1224    99340       NaN  1997      6   27\n",
              "1997-06-28  1227  1250  1224   1251    36660  0.022059  1997      6   28\n",
              "1997-06-30  1259  1290  1254   1260   100240  0.007194  1997      6   30\n",
              "1997-07-01  1259  1286  1259   1269   167900  0.007143  1997      7    1\n",
              "1997-07-02  1277  1313  1277   1296   169940  0.021277  1997      7    2\n",
              "...          ...   ...   ...    ...      ...       ...   ...    ...  ...\n",
              "1999-12-22  5140  5350  5060   5280   826858  0.047619  1999     12   22\n",
              "1999-12-23  5280  5700  5240   5580  1057262  0.056818  1999     12   23\n",
              "1999-12-24  5700  5720  5360   5460   708446 -0.021505  1999     12   24\n",
              "1999-12-27  5460  5490  5140   5220   934057 -0.043956  1999     12   27\n",
              "1999-12-28  5200  5560  5050   5320  1481697  0.019157  1999     12   28\n",
              "\n",
              "[691 rows x 9 columns]"
            ]
          },
          "metadata": {
            "tags": []
          },
          "execution_count": 35
        }
      ]
    },
    {
      "cell_type": "code",
      "metadata": {
        "id": "OSnApTe_tPNB",
        "outputId": "42c185a7-3ea6-40f5-830a-8f0fdbc3b5d2",
        "colab": {
          "base_uri": "https://localhost:8080/",
          "height": 585
        }
      },
      "source": [
        "fig, axes = plt.subplots(2,2)\n",
        "fig.set_size_inches(14,8)\n",
        "for i in range(4) :\n",
        "    ax = axes[i // 2 , i%2]\n",
        "    df = stock.loc[(stock.index >= time_steps[i][0]) & (stock.index < time_steps[i][1])]\n",
        "    sns.lineplot(y = df['Close'], x = df.index, data = df, ax=ax)\n",
        "\n",
        "plt.tight_layout()\n",
        "plt.show()"
      ],
      "execution_count": 38,
      "outputs": [
        {
          "output_type": "display_data",
          "data": {
            "image/png": "[encoded data removed]",
            "text/plain": [
              "<Figure size 1008x576 with 4 Axes>"
            ]
          },
          "metadata": {
            "tags": [],
            "needs_background": "light"
          }
        }
      ]
    },
    {
      "cell_type": "markdown",
      "metadata": {
        "id": "iN3b1Ja6uPQm"
      },
      "source": [
        "### 시계열 데이터의 전처리"
      ]
    },
    {
      "cell_type": "code",
      "metadata": {
        "id": "WuA_iXFut5i-"
      },
      "source": [
        "from sklearn.preprocessing import MinMaxScaler\n",
        "scaler = MinMaxScaler()\n",
        "\n",
        "# scale을 적용할 column\n",
        "scale_cols = ['Open','High, ']"
      ],
      "execution_count": 39,
      "outputs": []
    },
    {
      "cell_type": "code",
      "metadata": {
        "id": "cQIGL0bYuYWc"
      },
      "source": [
        "stock.columns"
      ],
      "execution_count": null,
      "outputs": []
    },
    {
      "cell_type": "code",
      "metadata": {
        "id": "EgRULKsNujC9"
      },
      "source": [
        ""
      ],
      "execution_count": null,
      "outputs": []
    }
  ]
}