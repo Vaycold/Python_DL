{
  "nbformat": 4,
  "nbformat_minor": 0,
  "metadata": {
    "colab": {
      "name": "LSTM연습.ipynb",
      "provenance": [],
      "authorship_tag": "ABX9TyNXTjsx49pmDBUk+LGMA7bD",
      "include_colab_link": true
    },
    "kernelspec": {
      "name": "python3",
      "display_name": "Python 3"
    },
    "language_info": {
      "name": "python"
    }
  },
  "cells": [
    {
      "cell_type": "markdown",
      "metadata": {
        "id": "view-in-github",
        "colab_type": "text"
      },
      "source": [
        "<a href=\"https://colab.research.google.com/github/Vaycold/Python_DL/blob/main/LSTM_NLP/LSTM%EC%97%B0%EC%8A%B5.ipynb\" target=\"_parent\"><img src=\"https://colab.research.google.com/assets/colab-badge.svg\" alt=\"Open In Colab\"/></a>"
      ]
    },
    {
      "cell_type": "markdown",
      "metadata": {
        "id": "nufqqQKxmSvm"
      },
      "source": [
        "## LSTM을 활용해 주가 예측 모델 구현\n",
        "\n",
        "    - 프로세스 파이프라인 구축"
      ]
    },
    {
      "cell_type": "markdown",
      "metadata": {
        "id": "4pyfVvw2rIbN"
      },
      "source": [
        "### Import Module & Load tock data"
      ]
    },
    {
      "cell_type": "code",
      "metadata": {
        "id": "I2lus59fmR21"
      },
      "source": [
        "# Import module\n",
        "\n",
        "import numpy as np\n",
        "import pandas as pd\n",
        "import matplotlib.pyplot as plt\n",
        "import seaborn as sns\n",
        "import warnings\n",
        "import os \n",
        "\n",
        "warnings.filterwarnings('ignore')"
      ],
      "execution_count": 1,
      "outputs": []
    },
    {
      "cell_type": "code",
      "metadata": {
        "id": "LfeBFRZumSIM",
        "colab": {
          "base_uri": "https://localhost:8080/"
        },
        "outputId": "8646627d-a843-4611-f009-3ade0349d0fa"
      },
      "source": [
        "# FinanceDataReader import\n",
        "# 이 패키지는 주가 데이터를 편리하게 가져올 수 있음\n",
        "!pip install finance-datareader"
      ],
      "execution_count": 2,
      "outputs": [
        {
          "output_type": "stream",
          "text": [
            "Collecting finance-datareader\n",
            "  Downloading https://files.pythonhosted.org/packages/83/5e/54306e72b5ff5d5ec6cc9f32cdf19602237f9bb70d64efcd527338388be3/finance_datareader-0.9.31-py3-none-any.whl\n",
            "Collecting requests-file\n",
            "  Downloading https://files.pythonhosted.org/packages/77/86/cdb5e8eaed90796aa83a6d9f75cfbd37af553c47a291cd47bc410ef9bdb2/requests_file-1.5.1-py2.py3-none-any.whl\n",
            "Requirement already satisfied: requests>=2.3.0 in /usr/local/lib/python3.7/dist-packages (from finance-datareader) (2.23.0)\n",
            "Requirement already satisfied: pandas>=0.19.2 in /usr/local/lib/python3.7/dist-packages (from finance-datareader) (1.1.5)\n",
            "Requirement already satisfied: lxml in /usr/local/lib/python3.7/dist-packages (from finance-datareader) (4.2.6)\n",
            "Requirement already satisfied: tqdm in /usr/local/lib/python3.7/dist-packages (from finance-datareader) (4.41.1)\n",
            "Requirement already satisfied: six in /usr/local/lib/python3.7/dist-packages (from requests-file->finance-datareader) (1.15.0)\n",
            "Requirement already satisfied: urllib3!=1.25.0,!=1.25.1,<1.26,>=1.21.1 in /usr/local/lib/python3.7/dist-packages (from requests>=2.3.0->finance-datareader) (1.24.3)\n",
            "Requirement already satisfied: certifi>=2017.4.17 in /usr/local/lib/python3.7/dist-packages (from requests>=2.3.0->finance-datareader) (2021.5.30)\n",
            "Requirement already satisfied: idna<3,>=2.5 in /usr/local/lib/python3.7/dist-packages (from requests>=2.3.0->finance-datareader) (2.10)\n",
            "Requirement already satisfied: chardet<4,>=3.0.2 in /usr/local/lib/python3.7/dist-packages (from requests>=2.3.0->finance-datareader) (3.0.4)\n",
            "Requirement already satisfied: numpy>=1.15.4 in /usr/local/lib/python3.7/dist-packages (from pandas>=0.19.2->finance-datareader) (1.19.5)\n",
            "Requirement already satisfied: pytz>=2017.2 in /usr/local/lib/python3.7/dist-packages (from pandas>=0.19.2->finance-datareader) (2018.9)\n",
            "Requirement already satisfied: python-dateutil>=2.7.3 in /usr/local/lib/python3.7/dist-packages (from pandas>=0.19.2->finance-datareader) (2.8.1)\n",
            "Installing collected packages: requests-file, finance-datareader\n",
            "Successfully installed finance-datareader-0.9.31 requests-file-1.5.1\n"
          ],
          "name": "stdout"
        }
      ]
    },
    {
      "cell_type": "code",
      "metadata": {
        "id": "PQqG6M8gmRgJ"
      },
      "source": [
        "import FinanceDataReader as fdr"
      ],
      "execution_count": 3,
      "outputs": []
    },
    {
      "cell_type": "code",
      "metadata": {
        "id": "PEWYKreAmRGS",
        "colab": {
          "base_uri": "https://localhost:8080/",
          "height": 234
        },
        "outputId": "e2186332-d7e0-40ee-85e9-9ce48eee921d"
      },
      "source": [
        "# 삼성전자 주가를 불러와보자\n",
        "# 삼성전자(005930) 전체(1996.11.05~ 현재)\n",
        "samsung = fdr.DataReader('005930')\n",
        "samsung.head()\n",
        "# dataframe형태로 가져옴"
      ],
      "execution_count": 4,
      "outputs": [
        {
          "output_type": "execute_result",
          "data": {
            "text/html": [
              "<div>\n",
              "<style scoped>\n",
              "    .dataframe tbody tr th:only-of-type {\n",
              "        vertical-align: middle;\n",
              "    }\n",
              "\n",
              "    .dataframe tbody tr th {\n",
              "        vertical-align: top;\n",
              "    }\n",
              "\n",
              "    .dataframe thead th {\n",
              "        text-align: right;\n",
              "    }\n",
              "</style>\n",
              "<table border=\"1\" class=\"dataframe\">\n",
              "  <thead>\n",
              "    <tr style=\"text-align: right;\">\n",
              "      <th></th>\n",
              "      <th>Open</th>\n",
              "      <th>High</th>\n",
              "      <th>Low</th>\n",
              "      <th>Close</th>\n",
              "      <th>Volume</th>\n",
              "      <th>Change</th>\n",
              "    </tr>\n",
              "    <tr>\n",
              "      <th>Date</th>\n",
              "      <th></th>\n",
              "      <th></th>\n",
              "      <th></th>\n",
              "      <th></th>\n",
              "      <th></th>\n",
              "      <th></th>\n",
              "    </tr>\n",
              "  </thead>\n",
              "  <tbody>\n",
              "    <tr>\n",
              "      <th>1997-06-27</th>\n",
              "      <td>1256</td>\n",
              "      <td>1265</td>\n",
              "      <td>1152</td>\n",
              "      <td>1224</td>\n",
              "      <td>99340</td>\n",
              "      <td>NaN</td>\n",
              "    </tr>\n",
              "    <tr>\n",
              "      <th>1997-06-28</th>\n",
              "      <td>1227</td>\n",
              "      <td>1250</td>\n",
              "      <td>1224</td>\n",
              "      <td>1251</td>\n",
              "      <td>36660</td>\n",
              "      <td>0.022059</td>\n",
              "    </tr>\n",
              "    <tr>\n",
              "      <th>1997-06-30</th>\n",
              "      <td>1259</td>\n",
              "      <td>1290</td>\n",
              "      <td>1254</td>\n",
              "      <td>1260</td>\n",
              "      <td>100240</td>\n",
              "      <td>0.007194</td>\n",
              "    </tr>\n",
              "    <tr>\n",
              "      <th>1997-07-01</th>\n",
              "      <td>1259</td>\n",
              "      <td>1286</td>\n",
              "      <td>1259</td>\n",
              "      <td>1269</td>\n",
              "      <td>167900</td>\n",
              "      <td>0.007143</td>\n",
              "    </tr>\n",
              "    <tr>\n",
              "      <th>1997-07-02</th>\n",
              "      <td>1277</td>\n",
              "      <td>1313</td>\n",
              "      <td>1277</td>\n",
              "      <td>1296</td>\n",
              "      <td>169940</td>\n",
              "      <td>0.021277</td>\n",
              "    </tr>\n",
              "  </tbody>\n",
              "</table>\n",
              "</div>"
            ],
            "text/plain": [
              "            Open  High   Low  Close  Volume    Change\n",
              "Date                                                 \n",
              "1997-06-27  1256  1265  1152   1224   99340       NaN\n",
              "1997-06-28  1227  1250  1224   1251   36660  0.022059\n",
              "1997-06-30  1259  1290  1254   1260  100240  0.007194\n",
              "1997-07-01  1259  1286  1259   1269  167900  0.007143\n",
              "1997-07-02  1277  1313  1277   1296  169940  0.021277"
            ]
          },
          "metadata": {
            "tags": []
          },
          "execution_count": 4
        }
      ]
    },
    {
      "cell_type": "code",
      "metadata": {
        "id": "qrpqnXQ4no62",
        "colab": {
          "base_uri": "https://localhost:8080/",
          "height": 234
        },
        "outputId": "77706582-a9ce-489d-9d51-08758ff4a2cf"
      },
      "source": [
        "samsung.tail()"
      ],
      "execution_count": 5,
      "outputs": [
        {
          "output_type": "execute_result",
          "data": {
            "text/html": [
              "<div>\n",
              "<style scoped>\n",
              "    .dataframe tbody tr th:only-of-type {\n",
              "        vertical-align: middle;\n",
              "    }\n",
              "\n",
              "    .dataframe tbody tr th {\n",
              "        vertical-align: top;\n",
              "    }\n",
              "\n",
              "    .dataframe thead th {\n",
              "        text-align: right;\n",
              "    }\n",
              "</style>\n",
              "<table border=\"1\" class=\"dataframe\">\n",
              "  <thead>\n",
              "    <tr style=\"text-align: right;\">\n",
              "      <th></th>\n",
              "      <th>Open</th>\n",
              "      <th>High</th>\n",
              "      <th>Low</th>\n",
              "      <th>Close</th>\n",
              "      <th>Volume</th>\n",
              "      <th>Change</th>\n",
              "    </tr>\n",
              "    <tr>\n",
              "      <th>Date</th>\n",
              "      <th></th>\n",
              "      <th></th>\n",
              "      <th></th>\n",
              "      <th></th>\n",
              "      <th></th>\n",
              "      <th></th>\n",
              "    </tr>\n",
              "  </thead>\n",
              "  <tbody>\n",
              "    <tr>\n",
              "      <th>2021-06-28</th>\n",
              "      <td>81700</td>\n",
              "      <td>82000</td>\n",
              "      <td>81600</td>\n",
              "      <td>81900</td>\n",
              "      <td>11578529</td>\n",
              "      <td>0.003676</td>\n",
              "    </tr>\n",
              "    <tr>\n",
              "      <th>2021-06-29</th>\n",
              "      <td>81900</td>\n",
              "      <td>82100</td>\n",
              "      <td>80800</td>\n",
              "      <td>81000</td>\n",
              "      <td>15744317</td>\n",
              "      <td>-0.010989</td>\n",
              "    </tr>\n",
              "    <tr>\n",
              "      <th>2021-06-30</th>\n",
              "      <td>81100</td>\n",
              "      <td>81400</td>\n",
              "      <td>80700</td>\n",
              "      <td>80700</td>\n",
              "      <td>13288643</td>\n",
              "      <td>-0.003704</td>\n",
              "    </tr>\n",
              "    <tr>\n",
              "      <th>2021-07-01</th>\n",
              "      <td>80500</td>\n",
              "      <td>80600</td>\n",
              "      <td>80000</td>\n",
              "      <td>80100</td>\n",
              "      <td>13382882</td>\n",
              "      <td>-0.007435</td>\n",
              "    </tr>\n",
              "    <tr>\n",
              "      <th>2021-07-02</th>\n",
              "      <td>80000</td>\n",
              "      <td>80400</td>\n",
              "      <td>79900</td>\n",
              "      <td>80000</td>\n",
              "      <td>8181692</td>\n",
              "      <td>-0.001248</td>\n",
              "    </tr>\n",
              "  </tbody>\n",
              "</table>\n",
              "</div>"
            ],
            "text/plain": [
              "             Open   High    Low  Close    Volume    Change\n",
              "Date                                                      \n",
              "2021-06-28  81700  82000  81600  81900  11578529  0.003676\n",
              "2021-06-29  81900  82100  80800  81000  15744317 -0.010989\n",
              "2021-06-30  81100  81400  80700  80700  13288643 -0.003704\n",
              "2021-07-01  80500  80600  80000  80100  13382882 -0.007435\n",
              "2021-07-02  80000  80400  79900  80000   8181692 -0.001248"
            ]
          },
          "metadata": {
            "tags": []
          },
          "execution_count": 5
        }
      ]
    },
    {
      "cell_type": "code",
      "metadata": {
        "id": "WzCS2GLAnpbI",
        "colab": {
          "base_uri": "https://localhost:8080/",
          "height": 295
        },
        "outputId": "ac56487f-e058-4a59-e27b-9d963151614c"
      },
      "source": [
        "samsung.describe()"
      ],
      "execution_count": 6,
      "outputs": [
        {
          "output_type": "execute_result",
          "data": {
            "text/html": [
              "<div>\n",
              "<style scoped>\n",
              "    .dataframe tbody tr th:only-of-type {\n",
              "        vertical-align: middle;\n",
              "    }\n",
              "\n",
              "    .dataframe tbody tr th {\n",
              "        vertical-align: top;\n",
              "    }\n",
              "\n",
              "    .dataframe thead th {\n",
              "        text-align: right;\n",
              "    }\n",
              "</style>\n",
              "<table border=\"1\" class=\"dataframe\">\n",
              "  <thead>\n",
              "    <tr style=\"text-align: right;\">\n",
              "      <th></th>\n",
              "      <th>Open</th>\n",
              "      <th>High</th>\n",
              "      <th>Low</th>\n",
              "      <th>Close</th>\n",
              "      <th>Volume</th>\n",
              "      <th>Change</th>\n",
              "    </tr>\n",
              "  </thead>\n",
              "  <tbody>\n",
              "    <tr>\n",
              "      <th>count</th>\n",
              "      <td>6000.000000</td>\n",
              "      <td>6000.000000</td>\n",
              "      <td>6000.000000</td>\n",
              "      <td>6000.000000</td>\n",
              "      <td>6.000000e+03</td>\n",
              "      <td>5999.000000</td>\n",
              "    </tr>\n",
              "    <tr>\n",
              "      <th>mean</th>\n",
              "      <td>20730.173167</td>\n",
              "      <td>20954.542500</td>\n",
              "      <td>20505.031667</td>\n",
              "      <td>20755.953833</td>\n",
              "      <td>2.544814e+06</td>\n",
              "      <td>0.001027</td>\n",
              "    </tr>\n",
              "    <tr>\n",
              "      <th>std</th>\n",
              "      <td>18213.883595</td>\n",
              "      <td>18385.055374</td>\n",
              "      <td>18046.507131</td>\n",
              "      <td>18218.540457</td>\n",
              "      <td>6.283996e+06</td>\n",
              "      <td>0.025757</td>\n",
              "    </tr>\n",
              "    <tr>\n",
              "      <th>min</th>\n",
              "      <td>0.000000</td>\n",
              "      <td>0.000000</td>\n",
              "      <td>0.000000</td>\n",
              "      <td>627.000000</td>\n",
              "      <td>0.000000e+00</td>\n",
              "      <td>-0.137566</td>\n",
              "    </tr>\n",
              "    <tr>\n",
              "      <th>25%</th>\n",
              "      <td>7400.000000</td>\n",
              "      <td>7500.000000</td>\n",
              "      <td>7277.250000</td>\n",
              "      <td>7400.000000</td>\n",
              "      <td>2.749732e+05</td>\n",
              "      <td>-0.012231</td>\n",
              "    </tr>\n",
              "    <tr>\n",
              "      <th>50%</th>\n",
              "      <td>13730.000000</td>\n",
              "      <td>13900.000000</td>\n",
              "      <td>13570.000000</td>\n",
              "      <td>13760.000000</td>\n",
              "      <td>4.492690e+05</td>\n",
              "      <td>0.000000</td>\n",
              "    </tr>\n",
              "    <tr>\n",
              "      <th>75%</th>\n",
              "      <td>28000.000000</td>\n",
              "      <td>28220.000000</td>\n",
              "      <td>27670.000000</td>\n",
              "      <td>28000.000000</td>\n",
              "      <td>8.159305e+05</td>\n",
              "      <td>0.012965</td>\n",
              "    </tr>\n",
              "    <tr>\n",
              "      <th>max</th>\n",
              "      <td>90300.000000</td>\n",
              "      <td>96800.000000</td>\n",
              "      <td>89500.000000</td>\n",
              "      <td>91000.000000</td>\n",
              "      <td>9.030618e+07</td>\n",
              "      <td>0.150000</td>\n",
              "    </tr>\n",
              "  </tbody>\n",
              "</table>\n",
              "</div>"
            ],
            "text/plain": [
              "               Open          High  ...        Volume       Change\n",
              "count   6000.000000   6000.000000  ...  6.000000e+03  5999.000000\n",
              "mean   20730.173167  20954.542500  ...  2.544814e+06     0.001027\n",
              "std    18213.883595  18385.055374  ...  6.283996e+06     0.025757\n",
              "min        0.000000      0.000000  ...  0.000000e+00    -0.137566\n",
              "25%     7400.000000   7500.000000  ...  2.749732e+05    -0.012231\n",
              "50%    13730.000000  13900.000000  ...  4.492690e+05     0.000000\n",
              "75%    28000.000000  28220.000000  ...  8.159305e+05     0.012965\n",
              "max    90300.000000  96800.000000  ...  9.030618e+07     0.150000\n",
              "\n",
              "[8 rows x 6 columns]"
            ]
          },
          "metadata": {
            "tags": []
          },
          "execution_count": 6
        }
      ]
    },
    {
      "cell_type": "code",
      "metadata": {
        "id": "1Sstji_3npd2",
        "colab": {
          "base_uri": "https://localhost:8080/"
        },
        "outputId": "812a1e1a-3e2d-43d6-a144-9adfe2ab49b8"
      },
      "source": [
        "samsung.info()"
      ],
      "execution_count": 7,
      "outputs": [
        {
          "output_type": "stream",
          "text": [
            "<class 'pandas.core.frame.DataFrame'>\n",
            "DatetimeIndex: 6000 entries, 1997-06-27 to 2021-07-02\n",
            "Data columns (total 6 columns):\n",
            " #   Column  Non-Null Count  Dtype  \n",
            "---  ------  --------------  -----  \n",
            " 0   Open    6000 non-null   int64  \n",
            " 1   High    6000 non-null   int64  \n",
            " 2   Low     6000 non-null   int64  \n",
            " 3   Close   6000 non-null   int64  \n",
            " 4   Volume  6000 non-null   int64  \n",
            " 5   Change  5999 non-null   float64\n",
            "dtypes: float64(1), int64(5)\n",
            "memory usage: 328.1 KB\n"
          ],
          "name": "stdout"
        }
      ]
    },
    {
      "cell_type": "code",
      "metadata": {
        "id": "nfYhHTzEnpgR",
        "colab": {
          "base_uri": "https://localhost:8080/",
          "height": 234
        },
        "outputId": "88e7aa92-348f-4224-d899-3883cce5d32b"
      },
      "source": [
        "# 애플데이터 가져오기\n",
        "apple = fdr.DataReader('AAPL')\n",
        "apple.head()"
      ],
      "execution_count": 8,
      "outputs": [
        {
          "output_type": "execute_result",
          "data": {
            "text/html": [
              "<div>\n",
              "<style scoped>\n",
              "    .dataframe tbody tr th:only-of-type {\n",
              "        vertical-align: middle;\n",
              "    }\n",
              "\n",
              "    .dataframe tbody tr th {\n",
              "        vertical-align: top;\n",
              "    }\n",
              "\n",
              "    .dataframe thead th {\n",
              "        text-align: right;\n",
              "    }\n",
              "</style>\n",
              "<table border=\"1\" class=\"dataframe\">\n",
              "  <thead>\n",
              "    <tr style=\"text-align: right;\">\n",
              "      <th></th>\n",
              "      <th>Close</th>\n",
              "      <th>Open</th>\n",
              "      <th>High</th>\n",
              "      <th>Low</th>\n",
              "      <th>Volume</th>\n",
              "      <th>Change</th>\n",
              "    </tr>\n",
              "    <tr>\n",
              "      <th>Date</th>\n",
              "      <th></th>\n",
              "      <th></th>\n",
              "      <th></th>\n",
              "      <th></th>\n",
              "      <th></th>\n",
              "      <th></th>\n",
              "    </tr>\n",
              "  </thead>\n",
              "  <tbody>\n",
              "    <tr>\n",
              "      <th>1980-12-12</th>\n",
              "      <td>0.13</td>\n",
              "      <td>0.13</td>\n",
              "      <td>0.13</td>\n",
              "      <td>0.13</td>\n",
              "      <td>469030000.0</td>\n",
              "      <td>-0.9988</td>\n",
              "    </tr>\n",
              "    <tr>\n",
              "      <th>1980-12-15</th>\n",
              "      <td>0.12</td>\n",
              "      <td>0.12</td>\n",
              "      <td>0.12</td>\n",
              "      <td>0.12</td>\n",
              "      <td>175880000.0</td>\n",
              "      <td>-0.0769</td>\n",
              "    </tr>\n",
              "    <tr>\n",
              "      <th>1980-12-16</th>\n",
              "      <td>0.11</td>\n",
              "      <td>0.11</td>\n",
              "      <td>0.11</td>\n",
              "      <td>0.11</td>\n",
              "      <td>105730000.0</td>\n",
              "      <td>-0.0833</td>\n",
              "    </tr>\n",
              "    <tr>\n",
              "      <th>1980-12-17</th>\n",
              "      <td>0.12</td>\n",
              "      <td>0.12</td>\n",
              "      <td>0.12</td>\n",
              "      <td>0.12</td>\n",
              "      <td>86440000.0</td>\n",
              "      <td>0.0909</td>\n",
              "    </tr>\n",
              "    <tr>\n",
              "      <th>1980-12-18</th>\n",
              "      <td>0.12</td>\n",
              "      <td>0.12</td>\n",
              "      <td>0.12</td>\n",
              "      <td>0.12</td>\n",
              "      <td>73450000.0</td>\n",
              "      <td>0.0000</td>\n",
              "    </tr>\n",
              "  </tbody>\n",
              "</table>\n",
              "</div>"
            ],
            "text/plain": [
              "            Close  Open  High   Low       Volume  Change\n",
              "Date                                                    \n",
              "1980-12-12   0.13  0.13  0.13  0.13  469030000.0 -0.9988\n",
              "1980-12-15   0.12  0.12  0.12  0.12  175880000.0 -0.0769\n",
              "1980-12-16   0.11  0.11  0.11  0.11  105730000.0 -0.0833\n",
              "1980-12-17   0.12  0.12  0.12  0.12   86440000.0  0.0909\n",
              "1980-12-18   0.12  0.12  0.12  0.12   73450000.0  0.0000"
            ]
          },
          "metadata": {
            "tags": []
          },
          "execution_count": 8
        }
      ]
    },
    {
      "cell_type": "code",
      "metadata": {
        "id": "Ab63Y86Jnpi0",
        "colab": {
          "base_uri": "https://localhost:8080/",
          "height": 234
        },
        "outputId": "ff578484-1fc1-4c41-d8ff-c3801baf11a8"
      },
      "source": [
        "apple.tail()"
      ],
      "execution_count": 9,
      "outputs": [
        {
          "output_type": "execute_result",
          "data": {
            "text/html": [
              "<div>\n",
              "<style scoped>\n",
              "    .dataframe tbody tr th:only-of-type {\n",
              "        vertical-align: middle;\n",
              "    }\n",
              "\n",
              "    .dataframe tbody tr th {\n",
              "        vertical-align: top;\n",
              "    }\n",
              "\n",
              "    .dataframe thead th {\n",
              "        text-align: right;\n",
              "    }\n",
              "</style>\n",
              "<table border=\"1\" class=\"dataframe\">\n",
              "  <thead>\n",
              "    <tr style=\"text-align: right;\">\n",
              "      <th></th>\n",
              "      <th>Close</th>\n",
              "      <th>Open</th>\n",
              "      <th>High</th>\n",
              "      <th>Low</th>\n",
              "      <th>Volume</th>\n",
              "      <th>Change</th>\n",
              "    </tr>\n",
              "    <tr>\n",
              "      <th>Date</th>\n",
              "      <th></th>\n",
              "      <th></th>\n",
              "      <th></th>\n",
              "      <th></th>\n",
              "      <th></th>\n",
              "      <th></th>\n",
              "    </tr>\n",
              "  </thead>\n",
              "  <tbody>\n",
              "    <tr>\n",
              "      <th>2021-06-28</th>\n",
              "      <td>134.78</td>\n",
              "      <td>133.46</td>\n",
              "      <td>135.24</td>\n",
              "      <td>133.46</td>\n",
              "      <td>62110000.0</td>\n",
              "      <td>0.0125</td>\n",
              "    </tr>\n",
              "    <tr>\n",
              "      <th>2021-06-29</th>\n",
              "      <td>136.33</td>\n",
              "      <td>134.82</td>\n",
              "      <td>136.49</td>\n",
              "      <td>134.38</td>\n",
              "      <td>64560000.0</td>\n",
              "      <td>0.0115</td>\n",
              "    </tr>\n",
              "    <tr>\n",
              "      <th>2021-06-30</th>\n",
              "      <td>136.96</td>\n",
              "      <td>136.13</td>\n",
              "      <td>137.38</td>\n",
              "      <td>135.89</td>\n",
              "      <td>63260000.0</td>\n",
              "      <td>0.0046</td>\n",
              "    </tr>\n",
              "    <tr>\n",
              "      <th>2021-07-01</th>\n",
              "      <td>137.27</td>\n",
              "      <td>136.68</td>\n",
              "      <td>137.30</td>\n",
              "      <td>135.77</td>\n",
              "      <td>52490000.0</td>\n",
              "      <td>0.0023</td>\n",
              "    </tr>\n",
              "    <tr>\n",
              "      <th>2021-07-02</th>\n",
              "      <td>139.96</td>\n",
              "      <td>137.90</td>\n",
              "      <td>140.00</td>\n",
              "      <td>137.74</td>\n",
              "      <td>78950000.0</td>\n",
              "      <td>0.0196</td>\n",
              "    </tr>\n",
              "  </tbody>\n",
              "</table>\n",
              "</div>"
            ],
            "text/plain": [
              "             Close    Open    High     Low      Volume  Change\n",
              "Date                                                          \n",
              "2021-06-28  134.78  133.46  135.24  133.46  62110000.0  0.0125\n",
              "2021-06-29  136.33  134.82  136.49  134.38  64560000.0  0.0115\n",
              "2021-06-30  136.96  136.13  137.38  135.89  63260000.0  0.0046\n",
              "2021-07-01  137.27  136.68  137.30  135.77  52490000.0  0.0023\n",
              "2021-07-02  139.96  137.90  140.00  137.74  78950000.0  0.0196"
            ]
          },
          "metadata": {
            "tags": []
          },
          "execution_count": 9
        }
      ]
    },
    {
      "cell_type": "code",
      "metadata": {
        "id": "ez439fqynplX",
        "colab": {
          "base_uri": "https://localhost:8080/",
          "height": 234
        },
        "outputId": "c5f09ec3-8b7e-4fa6-e2aa-c6fdae416f9b"
      },
      "source": [
        "# 특정 시점 이후 데이터 불러오기\n",
        "apple = fdr.DataReader('AAPL', '2017')\n",
        "apple.head()"
      ],
      "execution_count": 10,
      "outputs": [
        {
          "output_type": "execute_result",
          "data": {
            "text/html": [
              "<div>\n",
              "<style scoped>\n",
              "    .dataframe tbody tr th:only-of-type {\n",
              "        vertical-align: middle;\n",
              "    }\n",
              "\n",
              "    .dataframe tbody tr th {\n",
              "        vertical-align: top;\n",
              "    }\n",
              "\n",
              "    .dataframe thead th {\n",
              "        text-align: right;\n",
              "    }\n",
              "</style>\n",
              "<table border=\"1\" class=\"dataframe\">\n",
              "  <thead>\n",
              "    <tr style=\"text-align: right;\">\n",
              "      <th></th>\n",
              "      <th>Close</th>\n",
              "      <th>Open</th>\n",
              "      <th>High</th>\n",
              "      <th>Low</th>\n",
              "      <th>Volume</th>\n",
              "      <th>Change</th>\n",
              "    </tr>\n",
              "    <tr>\n",
              "      <th>Date</th>\n",
              "      <th></th>\n",
              "      <th></th>\n",
              "      <th></th>\n",
              "      <th></th>\n",
              "      <th></th>\n",
              "      <th></th>\n",
              "    </tr>\n",
              "  </thead>\n",
              "  <tbody>\n",
              "    <tr>\n",
              "      <th>2017-01-03</th>\n",
              "      <td>29.04</td>\n",
              "      <td>28.95</td>\n",
              "      <td>29.08</td>\n",
              "      <td>28.69</td>\n",
              "      <td>115130000.0</td>\n",
              "      <td>0.0031</td>\n",
              "    </tr>\n",
              "    <tr>\n",
              "      <th>2017-01-04</th>\n",
              "      <td>29.00</td>\n",
              "      <td>28.96</td>\n",
              "      <td>29.13</td>\n",
              "      <td>28.94</td>\n",
              "      <td>84470000.0</td>\n",
              "      <td>-0.0014</td>\n",
              "    </tr>\n",
              "    <tr>\n",
              "      <th>2017-01-05</th>\n",
              "      <td>29.15</td>\n",
              "      <td>28.98</td>\n",
              "      <td>29.22</td>\n",
              "      <td>28.95</td>\n",
              "      <td>88770000.0</td>\n",
              "      <td>0.0052</td>\n",
              "    </tr>\n",
              "    <tr>\n",
              "      <th>2017-01-06</th>\n",
              "      <td>29.48</td>\n",
              "      <td>29.20</td>\n",
              "      <td>29.54</td>\n",
              "      <td>29.12</td>\n",
              "      <td>127010000.0</td>\n",
              "      <td>0.0113</td>\n",
              "    </tr>\n",
              "    <tr>\n",
              "      <th>2017-01-09</th>\n",
              "      <td>29.75</td>\n",
              "      <td>29.49</td>\n",
              "      <td>29.86</td>\n",
              "      <td>29.48</td>\n",
              "      <td>134250000.0</td>\n",
              "      <td>0.0092</td>\n",
              "    </tr>\n",
              "  </tbody>\n",
              "</table>\n",
              "</div>"
            ],
            "text/plain": [
              "            Close   Open   High    Low       Volume  Change\n",
              "Date                                                       \n",
              "2017-01-03  29.04  28.95  29.08  28.69  115130000.0  0.0031\n",
              "2017-01-04  29.00  28.96  29.13  28.94   84470000.0 -0.0014\n",
              "2017-01-05  29.15  28.98  29.22  28.95   88770000.0  0.0052\n",
              "2017-01-06  29.48  29.20  29.54  29.12  127010000.0  0.0113\n",
              "2017-01-09  29.75  29.49  29.86  29.48  134250000.0  0.0092"
            ]
          },
          "metadata": {
            "tags": []
          },
          "execution_count": 10
        }
      ]
    },
    {
      "cell_type": "code",
      "metadata": {
        "id": "66bNxFxsnpn5",
        "colab": {
          "base_uri": "https://localhost:8080/",
          "height": 234
        },
        "outputId": "b761b70c-52ec-49ba-bce3-067968e67798"
      },
      "source": [
        "# 포드 사 데이터\n",
        "ford = fdr.DataReader('F', '1980-01-01','2019-12-30')\n",
        "ford.head()"
      ],
      "execution_count": 11,
      "outputs": [
        {
          "output_type": "execute_result",
          "data": {
            "text/html": [
              "<div>\n",
              "<style scoped>\n",
              "    .dataframe tbody tr th:only-of-type {\n",
              "        vertical-align: middle;\n",
              "    }\n",
              "\n",
              "    .dataframe tbody tr th {\n",
              "        vertical-align: top;\n",
              "    }\n",
              "\n",
              "    .dataframe thead th {\n",
              "        text-align: right;\n",
              "    }\n",
              "</style>\n",
              "<table border=\"1\" class=\"dataframe\">\n",
              "  <thead>\n",
              "    <tr style=\"text-align: right;\">\n",
              "      <th></th>\n",
              "      <th>Close</th>\n",
              "      <th>Open</th>\n",
              "      <th>High</th>\n",
              "      <th>Low</th>\n",
              "      <th>Volume</th>\n",
              "      <th>Change</th>\n",
              "    </tr>\n",
              "    <tr>\n",
              "      <th>Date</th>\n",
              "      <th></th>\n",
              "      <th></th>\n",
              "      <th></th>\n",
              "      <th></th>\n",
              "      <th></th>\n",
              "      <th></th>\n",
              "    </tr>\n",
              "  </thead>\n",
              "  <tbody>\n",
              "    <tr>\n",
              "      <th>1980-03-18</th>\n",
              "      <td>1.83</td>\n",
              "      <td>1.83</td>\n",
              "      <td>1.85</td>\n",
              "      <td>1.82</td>\n",
              "      <td>3770000.0</td>\n",
              "      <td>-0.0108</td>\n",
              "    </tr>\n",
              "    <tr>\n",
              "      <th>1980-03-19</th>\n",
              "      <td>1.85</td>\n",
              "      <td>1.85</td>\n",
              "      <td>1.86</td>\n",
              "      <td>1.83</td>\n",
              "      <td>1560000.0</td>\n",
              "      <td>0.0109</td>\n",
              "    </tr>\n",
              "    <tr>\n",
              "      <th>1980-03-20</th>\n",
              "      <td>1.86</td>\n",
              "      <td>1.86</td>\n",
              "      <td>1.88</td>\n",
              "      <td>1.85</td>\n",
              "      <td>1450000.0</td>\n",
              "      <td>0.0054</td>\n",
              "    </tr>\n",
              "    <tr>\n",
              "      <th>1980-03-21</th>\n",
              "      <td>1.78</td>\n",
              "      <td>1.78</td>\n",
              "      <td>1.85</td>\n",
              "      <td>1.76</td>\n",
              "      <td>5020000.0</td>\n",
              "      <td>-0.0430</td>\n",
              "    </tr>\n",
              "    <tr>\n",
              "      <th>1980-03-24</th>\n",
              "      <td>1.71</td>\n",
              "      <td>1.71</td>\n",
              "      <td>1.75</td>\n",
              "      <td>1.66</td>\n",
              "      <td>3330000.0</td>\n",
              "      <td>-0.0393</td>\n",
              "    </tr>\n",
              "  </tbody>\n",
              "</table>\n",
              "</div>"
            ],
            "text/plain": [
              "            Close  Open  High   Low     Volume  Change\n",
              "Date                                                  \n",
              "1980-03-18   1.83  1.83  1.85  1.82  3770000.0 -0.0108\n",
              "1980-03-19   1.85  1.85  1.86  1.83  1560000.0  0.0109\n",
              "1980-03-20   1.86  1.86  1.88  1.85  1450000.0  0.0054\n",
              "1980-03-21   1.78  1.78  1.85  1.76  5020000.0 -0.0430\n",
              "1980-03-24   1.71  1.71  1.75  1.66  3330000.0 -0.0393"
            ]
          },
          "metadata": {
            "tags": []
          },
          "execution_count": 11
        }
      ]
    },
    {
      "cell_type": "code",
      "metadata": {
        "id": "ldXL_xC4npqa",
        "colab": {
          "base_uri": "https://localhost:8080/",
          "height": 234
        },
        "outputId": "4d1c1c71-f030-4d6a-ac2f-3a8c4e9001a5"
      },
      "source": [
        "ford.tail()"
      ],
      "execution_count": 12,
      "outputs": [
        {
          "output_type": "execute_result",
          "data": {
            "text/html": [
              "<div>\n",
              "<style scoped>\n",
              "    .dataframe tbody tr th:only-of-type {\n",
              "        vertical-align: middle;\n",
              "    }\n",
              "\n",
              "    .dataframe tbody tr th {\n",
              "        vertical-align: top;\n",
              "    }\n",
              "\n",
              "    .dataframe thead th {\n",
              "        text-align: right;\n",
              "    }\n",
              "</style>\n",
              "<table border=\"1\" class=\"dataframe\">\n",
              "  <thead>\n",
              "    <tr style=\"text-align: right;\">\n",
              "      <th></th>\n",
              "      <th>Close</th>\n",
              "      <th>Open</th>\n",
              "      <th>High</th>\n",
              "      <th>Low</th>\n",
              "      <th>Volume</th>\n",
              "      <th>Change</th>\n",
              "    </tr>\n",
              "    <tr>\n",
              "      <th>Date</th>\n",
              "      <th></th>\n",
              "      <th></th>\n",
              "      <th></th>\n",
              "      <th></th>\n",
              "      <th></th>\n",
              "      <th></th>\n",
              "    </tr>\n",
              "  </thead>\n",
              "  <tbody>\n",
              "    <tr>\n",
              "      <th>2019-12-23</th>\n",
              "      <td>9.44</td>\n",
              "      <td>9.50</td>\n",
              "      <td>9.57</td>\n",
              "      <td>9.40</td>\n",
              "      <td>54800000.0</td>\n",
              "      <td>-0.0042</td>\n",
              "    </tr>\n",
              "    <tr>\n",
              "      <th>2019-12-24</th>\n",
              "      <td>9.47</td>\n",
              "      <td>9.44</td>\n",
              "      <td>9.49</td>\n",
              "      <td>9.43</td>\n",
              "      <td>11880000.0</td>\n",
              "      <td>0.0032</td>\n",
              "    </tr>\n",
              "    <tr>\n",
              "      <th>2019-12-26</th>\n",
              "      <td>9.45</td>\n",
              "      <td>9.47</td>\n",
              "      <td>9.49</td>\n",
              "      <td>9.43</td>\n",
              "      <td>28980000.0</td>\n",
              "      <td>-0.0021</td>\n",
              "    </tr>\n",
              "    <tr>\n",
              "      <th>2019-12-27</th>\n",
              "      <td>9.36</td>\n",
              "      <td>9.45</td>\n",
              "      <td>9.46</td>\n",
              "      <td>9.35</td>\n",
              "      <td>28270000.0</td>\n",
              "      <td>-0.0095</td>\n",
              "    </tr>\n",
              "    <tr>\n",
              "      <th>2019-12-30</th>\n",
              "      <td>9.25</td>\n",
              "      <td>9.34</td>\n",
              "      <td>9.35</td>\n",
              "      <td>9.23</td>\n",
              "      <td>36090000.0</td>\n",
              "      <td>-0.0118</td>\n",
              "    </tr>\n",
              "  </tbody>\n",
              "</table>\n",
              "</div>"
            ],
            "text/plain": [
              "            Close  Open  High   Low      Volume  Change\n",
              "Date                                                   \n",
              "2019-12-23   9.44  9.50  9.57  9.40  54800000.0 -0.0042\n",
              "2019-12-24   9.47  9.44  9.49  9.43  11880000.0  0.0032\n",
              "2019-12-26   9.45  9.47  9.49  9.43  28980000.0 -0.0021\n",
              "2019-12-27   9.36  9.45  9.46  9.35  28270000.0 -0.0095\n",
              "2019-12-30   9.25  9.34  9.35  9.23  36090000.0 -0.0118"
            ]
          },
          "metadata": {
            "tags": []
          },
          "execution_count": 12
        }
      ]
    },
    {
      "cell_type": "code",
      "metadata": {
        "id": "WgFXEW-Mnps3",
        "colab": {
          "base_uri": "https://localhost:8080/",
          "height": 234
        },
        "outputId": "ea5b9605-f07a-40cc-d58e-b14b4c1a7279"
      },
      "source": [
        "stock_code = '005930'\n",
        "stock = fdr.DataReader(stock_code)\n",
        "stock.head()"
      ],
      "execution_count": 13,
      "outputs": [
        {
          "output_type": "execute_result",
          "data": {
            "text/html": [
              "<div>\n",
              "<style scoped>\n",
              "    .dataframe tbody tr th:only-of-type {\n",
              "        vertical-align: middle;\n",
              "    }\n",
              "\n",
              "    .dataframe tbody tr th {\n",
              "        vertical-align: top;\n",
              "    }\n",
              "\n",
              "    .dataframe thead th {\n",
              "        text-align: right;\n",
              "    }\n",
              "</style>\n",
              "<table border=\"1\" class=\"dataframe\">\n",
              "  <thead>\n",
              "    <tr style=\"text-align: right;\">\n",
              "      <th></th>\n",
              "      <th>Open</th>\n",
              "      <th>High</th>\n",
              "      <th>Low</th>\n",
              "      <th>Close</th>\n",
              "      <th>Volume</th>\n",
              "      <th>Change</th>\n",
              "    </tr>\n",
              "    <tr>\n",
              "      <th>Date</th>\n",
              "      <th></th>\n",
              "      <th></th>\n",
              "      <th></th>\n",
              "      <th></th>\n",
              "      <th></th>\n",
              "      <th></th>\n",
              "    </tr>\n",
              "  </thead>\n",
              "  <tbody>\n",
              "    <tr>\n",
              "      <th>1997-06-27</th>\n",
              "      <td>1256</td>\n",
              "      <td>1265</td>\n",
              "      <td>1152</td>\n",
              "      <td>1224</td>\n",
              "      <td>99340</td>\n",
              "      <td>NaN</td>\n",
              "    </tr>\n",
              "    <tr>\n",
              "      <th>1997-06-28</th>\n",
              "      <td>1227</td>\n",
              "      <td>1250</td>\n",
              "      <td>1224</td>\n",
              "      <td>1251</td>\n",
              "      <td>36660</td>\n",
              "      <td>0.022059</td>\n",
              "    </tr>\n",
              "    <tr>\n",
              "      <th>1997-06-30</th>\n",
              "      <td>1259</td>\n",
              "      <td>1290</td>\n",
              "      <td>1254</td>\n",
              "      <td>1260</td>\n",
              "      <td>100240</td>\n",
              "      <td>0.007194</td>\n",
              "    </tr>\n",
              "    <tr>\n",
              "      <th>1997-07-01</th>\n",
              "      <td>1259</td>\n",
              "      <td>1286</td>\n",
              "      <td>1259</td>\n",
              "      <td>1269</td>\n",
              "      <td>167900</td>\n",
              "      <td>0.007143</td>\n",
              "    </tr>\n",
              "    <tr>\n",
              "      <th>1997-07-02</th>\n",
              "      <td>1277</td>\n",
              "      <td>1313</td>\n",
              "      <td>1277</td>\n",
              "      <td>1296</td>\n",
              "      <td>169940</td>\n",
              "      <td>0.021277</td>\n",
              "    </tr>\n",
              "  </tbody>\n",
              "</table>\n",
              "</div>"
            ],
            "text/plain": [
              "            Open  High   Low  Close  Volume    Change\n",
              "Date                                                 \n",
              "1997-06-27  1256  1265  1152   1224   99340       NaN\n",
              "1997-06-28  1227  1250  1224   1251   36660  0.022059\n",
              "1997-06-30  1259  1290  1254   1260  100240  0.007194\n",
              "1997-07-01  1259  1286  1259   1269  167900  0.007143\n",
              "1997-07-02  1277  1313  1277   1296  169940  0.021277"
            ]
          },
          "metadata": {
            "tags": []
          },
          "execution_count": 13
        }
      ]
    },
    {
      "cell_type": "code",
      "metadata": {
        "id": "4QRVfkLInpvq",
        "colab": {
          "base_uri": "https://localhost:8080/"
        },
        "outputId": "91b561c5-0d1c-4959-dc9e-e67ef7077cd0"
      },
      "source": [
        "stock.index"
      ],
      "execution_count": 14,
      "outputs": [
        {
          "output_type": "execute_result",
          "data": {
            "text/plain": [
              "DatetimeIndex(['1997-06-27', '1997-06-28', '1997-06-30', '1997-07-01',\n",
              "               '1997-07-02', '1997-07-03', '1997-07-04', '1997-07-05',\n",
              "               '1997-07-07', '1997-07-08',\n",
              "               ...\n",
              "               '2021-06-21', '2021-06-22', '2021-06-23', '2021-06-24',\n",
              "               '2021-06-25', '2021-06-28', '2021-06-29', '2021-06-30',\n",
              "               '2021-07-01', '2021-07-02'],\n",
              "              dtype='datetime64[ns]', name='Date', length=6000, freq=None)"
            ]
          },
          "metadata": {
            "tags": []
          },
          "execution_count": 14
        }
      ]
    },
    {
      "cell_type": "markdown",
      "metadata": {
        "id": "I2fuFcnZmQnW"
      },
      "source": [
        "### 시각화"
      ]
    },
    {
      "cell_type": "code",
      "metadata": {
        "id": "d9drVK-_ljjw",
        "colab": {
          "base_uri": "https://localhost:8080/"
        },
        "outputId": "ea2ea7cb-78df-48b2-c53b-da1f6e2d5d0b"
      },
      "source": [
        "stock.columns"
      ],
      "execution_count": 15,
      "outputs": [
        {
          "output_type": "execute_result",
          "data": {
            "text/plain": [
              "Index(['Open', 'High', 'Low', 'Close', 'Volume', 'Change'], dtype='object')"
            ]
          },
          "metadata": {
            "tags": []
          },
          "execution_count": 15
        }
      ]
    },
    {
      "cell_type": "code",
      "metadata": {
        "id": "O92HQXlFl2uU",
        "colab": {
          "base_uri": "https://localhost:8080/"
        },
        "outputId": "4803fe94-031b-463c-fe66-4c5862fd0f7a"
      },
      "source": [
        "stock.index"
      ],
      "execution_count": 16,
      "outputs": [
        {
          "output_type": "execute_result",
          "data": {
            "text/plain": [
              "DatetimeIndex(['1997-06-27', '1997-06-28', '1997-06-30', '1997-07-01',\n",
              "               '1997-07-02', '1997-07-03', '1997-07-04', '1997-07-05',\n",
              "               '1997-07-07', '1997-07-08',\n",
              "               ...\n",
              "               '2021-06-21', '2021-06-22', '2021-06-23', '2021-06-24',\n",
              "               '2021-06-25', '2021-06-28', '2021-06-29', '2021-06-30',\n",
              "               '2021-07-01', '2021-07-02'],\n",
              "              dtype='datetime64[ns]', name='Date', length=6000, freq=None)"
            ]
          },
          "metadata": {
            "tags": []
          },
          "execution_count": 16
        }
      ]
    },
    {
      "cell_type": "code",
      "metadata": {
        "id": "nSget7JDraat"
      },
      "source": [
        "stock['Year'] = stock.index.year\n",
        "stock['Month'] = stock.index.month\n",
        "stock['Day'] = stock.index.day"
      ],
      "execution_count": 17,
      "outputs": []
    },
    {
      "cell_type": "code",
      "metadata": {
        "id": "dunVDGBSreAo",
        "colab": {
          "base_uri": "https://localhost:8080/",
          "height": 234
        },
        "outputId": "e515d2b7-020f-4ca1-c3e2-adef8f9fa3e8"
      },
      "source": [
        "stock.head()"
      ],
      "execution_count": 18,
      "outputs": [
        {
          "output_type": "execute_result",
          "data": {
            "text/html": [
              "<div>\n",
              "<style scoped>\n",
              "    .dataframe tbody tr th:only-of-type {\n",
              "        vertical-align: middle;\n",
              "    }\n",
              "\n",
              "    .dataframe tbody tr th {\n",
              "        vertical-align: top;\n",
              "    }\n",
              "\n",
              "    .dataframe thead th {\n",
              "        text-align: right;\n",
              "    }\n",
              "</style>\n",
              "<table border=\"1\" class=\"dataframe\">\n",
              "  <thead>\n",
              "    <tr style=\"text-align: right;\">\n",
              "      <th></th>\n",
              "      <th>Open</th>\n",
              "      <th>High</th>\n",
              "      <th>Low</th>\n",
              "      <th>Close</th>\n",
              "      <th>Volume</th>\n",
              "      <th>Change</th>\n",
              "      <th>Year</th>\n",
              "      <th>Month</th>\n",
              "      <th>Day</th>\n",
              "    </tr>\n",
              "    <tr>\n",
              "      <th>Date</th>\n",
              "      <th></th>\n",
              "      <th></th>\n",
              "      <th></th>\n",
              "      <th></th>\n",
              "      <th></th>\n",
              "      <th></th>\n",
              "      <th></th>\n",
              "      <th></th>\n",
              "      <th></th>\n",
              "    </tr>\n",
              "  </thead>\n",
              "  <tbody>\n",
              "    <tr>\n",
              "      <th>1997-06-27</th>\n",
              "      <td>1256</td>\n",
              "      <td>1265</td>\n",
              "      <td>1152</td>\n",
              "      <td>1224</td>\n",
              "      <td>99340</td>\n",
              "      <td>NaN</td>\n",
              "      <td>1997</td>\n",
              "      <td>6</td>\n",
              "      <td>27</td>\n",
              "    </tr>\n",
              "    <tr>\n",
              "      <th>1997-06-28</th>\n",
              "      <td>1227</td>\n",
              "      <td>1250</td>\n",
              "      <td>1224</td>\n",
              "      <td>1251</td>\n",
              "      <td>36660</td>\n",
              "      <td>0.022059</td>\n",
              "      <td>1997</td>\n",
              "      <td>6</td>\n",
              "      <td>28</td>\n",
              "    </tr>\n",
              "    <tr>\n",
              "      <th>1997-06-30</th>\n",
              "      <td>1259</td>\n",
              "      <td>1290</td>\n",
              "      <td>1254</td>\n",
              "      <td>1260</td>\n",
              "      <td>100240</td>\n",
              "      <td>0.007194</td>\n",
              "      <td>1997</td>\n",
              "      <td>6</td>\n",
              "      <td>30</td>\n",
              "    </tr>\n",
              "    <tr>\n",
              "      <th>1997-07-01</th>\n",
              "      <td>1259</td>\n",
              "      <td>1286</td>\n",
              "      <td>1259</td>\n",
              "      <td>1269</td>\n",
              "      <td>167900</td>\n",
              "      <td>0.007143</td>\n",
              "      <td>1997</td>\n",
              "      <td>7</td>\n",
              "      <td>1</td>\n",
              "    </tr>\n",
              "    <tr>\n",
              "      <th>1997-07-02</th>\n",
              "      <td>1277</td>\n",
              "      <td>1313</td>\n",
              "      <td>1277</td>\n",
              "      <td>1296</td>\n",
              "      <td>169940</td>\n",
              "      <td>0.021277</td>\n",
              "      <td>1997</td>\n",
              "      <td>7</td>\n",
              "      <td>2</td>\n",
              "    </tr>\n",
              "  </tbody>\n",
              "</table>\n",
              "</div>"
            ],
            "text/plain": [
              "            Open  High   Low  Close  Volume    Change  Year  Month  Day\n",
              "Date                                                                   \n",
              "1997-06-27  1256  1265  1152   1224   99340       NaN  1997      6   27\n",
              "1997-06-28  1227  1250  1224   1251   36660  0.022059  1997      6   28\n",
              "1997-06-30  1259  1290  1254   1260  100240  0.007194  1997      6   30\n",
              "1997-07-01  1259  1286  1259   1269  167900  0.007143  1997      7    1\n",
              "1997-07-02  1277  1313  1277   1296  169940  0.021277  1997      7    2"
            ]
          },
          "metadata": {
            "tags": []
          },
          "execution_count": 18
        }
      ]
    },
    {
      "cell_type": "code",
      "metadata": {
        "id": "zOkcVksKrpv3",
        "colab": {
          "base_uri": "https://localhost:8080/",
          "height": 447
        },
        "outputId": "de9c75a7-c2a0-4d1c-e509-fb70c49c5ac1"
      },
      "source": [
        "# 연도별 월별 피벗테이블\n",
        "\n",
        "stock.groupby(['Year','Month']).mean()"
      ],
      "execution_count": 19,
      "outputs": [
        {
          "output_type": "execute_result",
          "data": {
            "text/html": [
              "<div>\n",
              "<style scoped>\n",
              "    .dataframe tbody tr th:only-of-type {\n",
              "        vertical-align: middle;\n",
              "    }\n",
              "\n",
              "    .dataframe tbody tr th {\n",
              "        vertical-align: top;\n",
              "    }\n",
              "\n",
              "    .dataframe thead th {\n",
              "        text-align: right;\n",
              "    }\n",
              "</style>\n",
              "<table border=\"1\" class=\"dataframe\">\n",
              "  <thead>\n",
              "    <tr style=\"text-align: right;\">\n",
              "      <th></th>\n",
              "      <th></th>\n",
              "      <th>Open</th>\n",
              "      <th>High</th>\n",
              "      <th>Low</th>\n",
              "      <th>Close</th>\n",
              "      <th>Volume</th>\n",
              "      <th>Change</th>\n",
              "      <th>Day</th>\n",
              "    </tr>\n",
              "    <tr>\n",
              "      <th>Year</th>\n",
              "      <th>Month</th>\n",
              "      <th></th>\n",
              "      <th></th>\n",
              "      <th></th>\n",
              "      <th></th>\n",
              "      <th></th>\n",
              "      <th></th>\n",
              "      <th></th>\n",
              "    </tr>\n",
              "  </thead>\n",
              "  <tbody>\n",
              "    <tr>\n",
              "      <th rowspan=\"5\" valign=\"top\">1997</th>\n",
              "      <th>6</th>\n",
              "      <td>1247.333333</td>\n",
              "      <td>1268.333333</td>\n",
              "      <td>1210.000000</td>\n",
              "      <td>1245.000000</td>\n",
              "      <td>7.874667e+04</td>\n",
              "      <td>0.014627</td>\n",
              "      <td>28.333333</td>\n",
              "    </tr>\n",
              "    <tr>\n",
              "      <th>7</th>\n",
              "      <td>1228.769231</td>\n",
              "      <td>1241.461538</td>\n",
              "      <td>1216.423077</td>\n",
              "      <td>1227.500000</td>\n",
              "      <td>7.374308e+04</td>\n",
              "      <td>-0.003107</td>\n",
              "      <td>15.884615</td>\n",
              "    </tr>\n",
              "    <tr>\n",
              "      <th>8</th>\n",
              "      <td>1261.840000</td>\n",
              "      <td>1278.040000</td>\n",
              "      <td>1250.640000</td>\n",
              "      <td>1267.280000</td>\n",
              "      <td>1.537483e+05</td>\n",
              "      <td>0.003438</td>\n",
              "      <td>15.840000</td>\n",
              "    </tr>\n",
              "    <tr>\n",
              "      <th>9</th>\n",
              "      <td>1224.652174</td>\n",
              "      <td>1238.739130</td>\n",
              "      <td>1209.217391</td>\n",
              "      <td>1224.521739</td>\n",
              "      <td>6.507870e+04</td>\n",
              "      <td>-0.002450</td>\n",
              "      <td>15.086957</td>\n",
              "    </tr>\n",
              "    <tr>\n",
              "      <th>10</th>\n",
              "      <td>1027.230769</td>\n",
              "      <td>1045.730769</td>\n",
              "      <td>995.307692</td>\n",
              "      <td>1014.000000</td>\n",
              "      <td>1.376285e+05</td>\n",
              "      <td>-0.020538</td>\n",
              "      <td>16.576923</td>\n",
              "    </tr>\n",
              "    <tr>\n",
              "      <th>...</th>\n",
              "      <th>...</th>\n",
              "      <td>...</td>\n",
              "      <td>...</td>\n",
              "      <td>...</td>\n",
              "      <td>...</td>\n",
              "      <td>...</td>\n",
              "      <td>...</td>\n",
              "      <td>...</td>\n",
              "    </tr>\n",
              "    <tr>\n",
              "      <th rowspan=\"5\" valign=\"top\">2021</th>\n",
              "      <th>3</th>\n",
              "      <td>82250.000000</td>\n",
              "      <td>82763.636364</td>\n",
              "      <td>81609.090909</td>\n",
              "      <td>82072.727273</td>\n",
              "      <td>1.761874e+07</td>\n",
              "      <td>-0.000570</td>\n",
              "      <td>16.318182</td>\n",
              "    </tr>\n",
              "    <tr>\n",
              "      <th>4</th>\n",
              "      <td>83786.363636</td>\n",
              "      <td>84150.000000</td>\n",
              "      <td>83095.454545</td>\n",
              "      <td>83586.363636</td>\n",
              "      <td>1.695174e+07</td>\n",
              "      <td>0.000101</td>\n",
              "      <td>16.045455</td>\n",
              "    </tr>\n",
              "    <tr>\n",
              "      <th>5</th>\n",
              "      <td>80547.368421</td>\n",
              "      <td>81105.263158</td>\n",
              "      <td>80015.789474</td>\n",
              "      <td>80521.052632</td>\n",
              "      <td>1.853742e+07</td>\n",
              "      <td>-0.000592</td>\n",
              "      <td>16.684211</td>\n",
              "    </tr>\n",
              "    <tr>\n",
              "      <th>6</th>\n",
              "      <td>81195.454545</td>\n",
              "      <td>81590.909091</td>\n",
              "      <td>80740.909091</td>\n",
              "      <td>81104.545455</td>\n",
              "      <td>1.514088e+07</td>\n",
              "      <td>0.000147</td>\n",
              "      <td>15.318182</td>\n",
              "    </tr>\n",
              "    <tr>\n",
              "      <th>7</th>\n",
              "      <td>80250.000000</td>\n",
              "      <td>80500.000000</td>\n",
              "      <td>79950.000000</td>\n",
              "      <td>80050.000000</td>\n",
              "      <td>1.078229e+07</td>\n",
              "      <td>-0.004342</td>\n",
              "      <td>1.500000</td>\n",
              "    </tr>\n",
              "  </tbody>\n",
              "</table>\n",
              "<p>290 rows × 7 columns</p>\n",
              "</div>"
            ],
            "text/plain": [
              "                    Open          High  ...    Change        Day\n",
              "Year Month                              ...                     \n",
              "1997 6       1247.333333   1268.333333  ...  0.014627  28.333333\n",
              "     7       1228.769231   1241.461538  ... -0.003107  15.884615\n",
              "     8       1261.840000   1278.040000  ...  0.003438  15.840000\n",
              "     9       1224.652174   1238.739130  ... -0.002450  15.086957\n",
              "     10      1027.230769   1045.730769  ... -0.020538  16.576923\n",
              "...                  ...           ...  ...       ...        ...\n",
              "2021 3      82250.000000  82763.636364  ... -0.000570  16.318182\n",
              "     4      83786.363636  84150.000000  ...  0.000101  16.045455\n",
              "     5      80547.368421  81105.263158  ... -0.000592  16.684211\n",
              "     6      81195.454545  81590.909091  ...  0.000147  15.318182\n",
              "     7      80250.000000  80500.000000  ... -0.004342   1.500000\n",
              "\n",
              "[290 rows x 7 columns]"
            ]
          },
          "metadata": {
            "tags": []
          },
          "execution_count": 19
        }
      ]
    },
    {
      "cell_type": "code",
      "metadata": {
        "id": "S2ot2sREr3HC",
        "colab": {
          "base_uri": "https://localhost:8080/",
          "height": 560
        },
        "outputId": "0b237342-4624-465e-89e5-64a193cc684a"
      },
      "source": [
        "plt.figure(figsize=(16,9))\n",
        "\n",
        "plt.plot(stock['Close'])\n",
        "plt.xlabel('Date', fontsize=20)\n",
        "plt.ylabel('Close Price', fontsize=20)\n",
        "plt.show()"
      ],
      "execution_count": 20,
      "outputs": [
        {
          "output_type": "display_data",
          "data": {
            "image/png": "[encoded data removed]",
            "text/plain": [
              "<Figure size 1152x648 with 1 Axes>"
            ]
          },
          "metadata": {
            "tags": [],
            "needs_background": "light"
          }
        }
      ]
    },
    {
      "cell_type": "code",
      "metadata": {
        "id": "qYfE099vsNpJ",
        "colab": {
          "base_uri": "https://localhost:8080/",
          "height": 447
        },
        "outputId": "ae078066-aca6-414c-e292-65c1993b8e82"
      },
      "source": [
        "# 구간 별 나눠서 그려보기\n",
        "time_steps = [['1990','2000'],\n",
        "              ['2000','2010'],\n",
        "              ['2010','2015'],\n",
        "              ['2015','2020']\n",
        "              \n",
        "]\n",
        "# 90년대 데이터\n",
        "stock.loc[(stock.index >= time_steps[0][0]) & (stock.index < time_steps[0][1])]"
      ],
      "execution_count": 21,
      "outputs": [
        {
          "output_type": "execute_result",
          "data": {
            "text/html": [
              "<div>\n",
              "<style scoped>\n",
              "    .dataframe tbody tr th:only-of-type {\n",
              "        vertical-align: middle;\n",
              "    }\n",
              "\n",
              "    .dataframe tbody tr th {\n",
              "        vertical-align: top;\n",
              "    }\n",
              "\n",
              "    .dataframe thead th {\n",
              "        text-align: right;\n",
              "    }\n",
              "</style>\n",
              "<table border=\"1\" class=\"dataframe\">\n",
              "  <thead>\n",
              "    <tr style=\"text-align: right;\">\n",
              "      <th></th>\n",
              "      <th>Open</th>\n",
              "      <th>High</th>\n",
              "      <th>Low</th>\n",
              "      <th>Close</th>\n",
              "      <th>Volume</th>\n",
              "      <th>Change</th>\n",
              "      <th>Year</th>\n",
              "      <th>Month</th>\n",
              "      <th>Day</th>\n",
              "    </tr>\n",
              "    <tr>\n",
              "      <th>Date</th>\n",
              "      <th></th>\n",
              "      <th></th>\n",
              "      <th></th>\n",
              "      <th></th>\n",
              "      <th></th>\n",
              "      <th></th>\n",
              "      <th></th>\n",
              "      <th></th>\n",
              "      <th></th>\n",
              "    </tr>\n",
              "  </thead>\n",
              "  <tbody>\n",
              "    <tr>\n",
              "      <th>1997-06-27</th>\n",
              "      <td>1256</td>\n",
              "      <td>1265</td>\n",
              "      <td>1152</td>\n",
              "      <td>1224</td>\n",
              "      <td>99340</td>\n",
              "      <td>NaN</td>\n",
              "      <td>1997</td>\n",
              "      <td>6</td>\n",
              "      <td>27</td>\n",
              "    </tr>\n",
              "    <tr>\n",
              "      <th>1997-06-28</th>\n",
              "      <td>1227</td>\n",
              "      <td>1250</td>\n",
              "      <td>1224</td>\n",
              "      <td>1251</td>\n",
              "      <td>36660</td>\n",
              "      <td>0.022059</td>\n",
              "      <td>1997</td>\n",
              "      <td>6</td>\n",
              "      <td>28</td>\n",
              "    </tr>\n",
              "    <tr>\n",
              "      <th>1997-06-30</th>\n",
              "      <td>1259</td>\n",
              "      <td>1290</td>\n",
              "      <td>1254</td>\n",
              "      <td>1260</td>\n",
              "      <td>100240</td>\n",
              "      <td>0.007194</td>\n",
              "      <td>1997</td>\n",
              "      <td>6</td>\n",
              "      <td>30</td>\n",
              "    </tr>\n",
              "    <tr>\n",
              "      <th>1997-07-01</th>\n",
              "      <td>1259</td>\n",
              "      <td>1286</td>\n",
              "      <td>1259</td>\n",
              "      <td>1269</td>\n",
              "      <td>167900</td>\n",
              "      <td>0.007143</td>\n",
              "      <td>1997</td>\n",
              "      <td>7</td>\n",
              "      <td>1</td>\n",
              "    </tr>\n",
              "    <tr>\n",
              "      <th>1997-07-02</th>\n",
              "      <td>1277</td>\n",
              "      <td>1313</td>\n",
              "      <td>1277</td>\n",
              "      <td>1296</td>\n",
              "      <td>169940</td>\n",
              "      <td>0.021277</td>\n",
              "      <td>1997</td>\n",
              "      <td>7</td>\n",
              "      <td>2</td>\n",
              "    </tr>\n",
              "    <tr>\n",
              "      <th>...</th>\n",
              "      <td>...</td>\n",
              "      <td>...</td>\n",
              "      <td>...</td>\n",
              "      <td>...</td>\n",
              "      <td>...</td>\n",
              "      <td>...</td>\n",
              "      <td>...</td>\n",
              "      <td>...</td>\n",
              "      <td>...</td>\n",
              "    </tr>\n",
              "    <tr>\n",
              "      <th>1999-12-22</th>\n",
              "      <td>5140</td>\n",
              "      <td>5350</td>\n",
              "      <td>5060</td>\n",
              "      <td>5280</td>\n",
              "      <td>826858</td>\n",
              "      <td>0.047619</td>\n",
              "      <td>1999</td>\n",
              "      <td>12</td>\n",
              "      <td>22</td>\n",
              "    </tr>\n",
              "    <tr>\n",
              "      <th>1999-12-23</th>\n",
              "      <td>5280</td>\n",
              "      <td>5700</td>\n",
              "      <td>5240</td>\n",
              "      <td>5580</td>\n",
              "      <td>1057262</td>\n",
              "      <td>0.056818</td>\n",
              "      <td>1999</td>\n",
              "      <td>12</td>\n",
              "      <td>23</td>\n",
              "    </tr>\n",
              "    <tr>\n",
              "      <th>1999-12-24</th>\n",
              "      <td>5700</td>\n",
              "      <td>5720</td>\n",
              "      <td>5360</td>\n",
              "      <td>5460</td>\n",
              "      <td>708446</td>\n",
              "      <td>-0.021505</td>\n",
              "      <td>1999</td>\n",
              "      <td>12</td>\n",
              "      <td>24</td>\n",
              "    </tr>\n",
              "    <tr>\n",
              "      <th>1999-12-27</th>\n",
              "      <td>5460</td>\n",
              "      <td>5490</td>\n",
              "      <td>5140</td>\n",
              "      <td>5220</td>\n",
              "      <td>934057</td>\n",
              "      <td>-0.043956</td>\n",
              "      <td>1999</td>\n",
              "      <td>12</td>\n",
              "      <td>27</td>\n",
              "    </tr>\n",
              "    <tr>\n",
              "      <th>1999-12-28</th>\n",
              "      <td>5200</td>\n",
              "      <td>5560</td>\n",
              "      <td>5050</td>\n",
              "      <td>5320</td>\n",
              "      <td>1481697</td>\n",
              "      <td>0.019157</td>\n",
              "      <td>1999</td>\n",
              "      <td>12</td>\n",
              "      <td>28</td>\n",
              "    </tr>\n",
              "  </tbody>\n",
              "</table>\n",
              "<p>691 rows × 9 columns</p>\n",
              "</div>"
            ],
            "text/plain": [
              "            Open  High   Low  Close   Volume    Change  Year  Month  Day\n",
              "Date                                                                    \n",
              "1997-06-27  1256  1265  1152   1224    99340       NaN  1997      6   27\n",
              "1997-06-28  1227  1250  1224   1251    36660  0.022059  1997      6   28\n",
              "1997-06-30  1259  1290  1254   1260   100240  0.007194  1997      6   30\n",
              "1997-07-01  1259  1286  1259   1269   167900  0.007143  1997      7    1\n",
              "1997-07-02  1277  1313  1277   1296   169940  0.021277  1997      7    2\n",
              "...          ...   ...   ...    ...      ...       ...   ...    ...  ...\n",
              "1999-12-22  5140  5350  5060   5280   826858  0.047619  1999     12   22\n",
              "1999-12-23  5280  5700  5240   5580  1057262  0.056818  1999     12   23\n",
              "1999-12-24  5700  5720  5360   5460   708446 -0.021505  1999     12   24\n",
              "1999-12-27  5460  5490  5140   5220   934057 -0.043956  1999     12   27\n",
              "1999-12-28  5200  5560  5050   5320  1481697  0.019157  1999     12   28\n",
              "\n",
              "[691 rows x 9 columns]"
            ]
          },
          "metadata": {
            "tags": []
          },
          "execution_count": 21
        }
      ]
    },
    {
      "cell_type": "code",
      "metadata": {
        "id": "OSnApTe_tPNB",
        "colab": {
          "base_uri": "https://localhost:8080/",
          "height": 585
        },
        "outputId": "2152c4dc-15b8-45af-912c-f076018ddbc2"
      },
      "source": [
        "fig, axes = plt.subplots(2,2)\n",
        "fig.set_size_inches(14,8)\n",
        "for i in range(4) :\n",
        "    ax = axes[i // 2 , i%2]\n",
        "    df = stock.loc[(stock.index >= time_steps[i][0]) & (stock.index < time_steps[i][1])]\n",
        "    sns.lineplot(y = df['Close'], x = df.index, data = df, ax=ax)\n",
        "\n",
        "plt.tight_layout()\n",
        "plt.show()"
      ],
      "execution_count": 61,
      "outputs": [
        {
          "output_type": "display_data",
          "data": {
            "image/png": "[encoded data removed]",
            "text/plain": [
              "<Figure size 1008x576 with 4 Axes>"
            ]
          },
          "metadata": {
            "tags": [],
            "needs_background": "light"
          }
        }
      ]
    },
    {
      "cell_type": "markdown",
      "metadata": {
        "id": "iN3b1Ja6uPQm"
      },
      "source": [
        "### 시계열 데이터의 전처리"
      ]
    },
    {
      "cell_type": "code",
      "metadata": {
        "id": "WuA_iXFut5i-"
      },
      "source": [
        "from sklearn.preprocessing import MinMaxScaler\n",
        "scaler = MinMaxScaler()\n",
        "\n",
        "# scale을 적용할 column\n",
        "scale_cols = ['Open','High', 'Low', 'Close', 'Volume']"
      ],
      "execution_count": 63,
      "outputs": []
    },
    {
      "cell_type": "code",
      "metadata": {
        "id": "EgRULKsNujC9",
        "outputId": "380a1f35-6103-4927-eae2-ad8ff4ed0aa7",
        "colab": {
          "base_uri": "https://localhost:8080/",
          "height": 203
        }
      },
      "source": [
        "scaled = scaler.fit_transform(stock[scale_cols])\n",
        "df = pd.DataFrame(scaled, columns = scale_cols)\n",
        "df.head()"
      ],
      "execution_count": 64,
      "outputs": [
        {
          "output_type": "execute_result",
          "data": {
            "text/html": [
              "<div>\n",
              "<style scoped>\n",
              "    .dataframe tbody tr th:only-of-type {\n",
              "        vertical-align: middle;\n",
              "    }\n",
              "\n",
              "    .dataframe tbody tr th {\n",
              "        vertical-align: top;\n",
              "    }\n",
              "\n",
              "    .dataframe thead th {\n",
              "        text-align: right;\n",
              "    }\n",
              "</style>\n",
              "<table border=\"1\" class=\"dataframe\">\n",
              "  <thead>\n",
              "    <tr style=\"text-align: right;\">\n",
              "      <th></th>\n",
              "      <th>Open</th>\n",
              "      <th>High</th>\n",
              "      <th>Low</th>\n",
              "      <th>Close</th>\n",
              "      <th>Volume</th>\n",
              "    </tr>\n",
              "  </thead>\n",
              "  <tbody>\n",
              "    <tr>\n",
              "      <th>0</th>\n",
              "      <td>0.013909</td>\n",
              "      <td>0.013068</td>\n",
              "      <td>0.012872</td>\n",
              "      <td>0.006606</td>\n",
              "      <td>0.001100</td>\n",
              "    </tr>\n",
              "    <tr>\n",
              "      <th>1</th>\n",
              "      <td>0.013588</td>\n",
              "      <td>0.012913</td>\n",
              "      <td>0.013676</td>\n",
              "      <td>0.006905</td>\n",
              "      <td>0.000406</td>\n",
              "    </tr>\n",
              "    <tr>\n",
              "      <th>2</th>\n",
              "      <td>0.013942</td>\n",
              "      <td>0.013326</td>\n",
              "      <td>0.014011</td>\n",
              "      <td>0.007004</td>\n",
              "      <td>0.001110</td>\n",
              "    </tr>\n",
              "    <tr>\n",
              "      <th>3</th>\n",
              "      <td>0.013942</td>\n",
              "      <td>0.013285</td>\n",
              "      <td>0.014067</td>\n",
              "      <td>0.007104</td>\n",
              "      <td>0.001859</td>\n",
              "    </tr>\n",
              "    <tr>\n",
              "      <th>4</th>\n",
              "      <td>0.014142</td>\n",
              "      <td>0.013564</td>\n",
              "      <td>0.014268</td>\n",
              "      <td>0.007403</td>\n",
              "      <td>0.001882</td>\n",
              "    </tr>\n",
              "  </tbody>\n",
              "</table>\n",
              "</div>"
            ],
            "text/plain": [
              "       Open      High       Low     Close    Volume\n",
              "0  0.013909  0.013068  0.012872  0.006606  0.001100\n",
              "1  0.013588  0.012913  0.013676  0.006905  0.000406\n",
              "2  0.013942  0.013326  0.014011  0.007004  0.001110\n",
              "3  0.013942  0.013285  0.014067  0.007104  0.001859\n",
              "4  0.014142  0.013564  0.014268  0.007403  0.001882"
            ]
          },
          "metadata": {
            "tags": []
          },
          "execution_count": 64
        }
      ]
    },
    {
      "cell_type": "code",
      "metadata": {
        "id": "cTbJUQoFQlaQ"
      },
      "source": [
        "# train / test\n",
        "from sklearn.model_selection import train_test_split\n",
        "x_train, x_test, y_train, y_test = train_test_split(df.drop(['Close'], axis=1), df['Close'], test_size = 0.2, random_state = 0, shuffle=False)"
      ],
      "execution_count": 65,
      "outputs": []
    },
    {
      "cell_type": "code",
      "metadata": {
        "id": "vmssG6gnRK7_",
        "outputId": "042baa3e-5d3d-47d0-9803-75dc9f5c5eb6",
        "colab": {
          "base_uri": "https://localhost:8080/"
        }
      },
      "source": [
        "x_train.shape, x_test.shape"
      ],
      "execution_count": 66,
      "outputs": [
        {
          "output_type": "execute_result",
          "data": {
            "text/plain": [
              "((4800, 4), (1200, 4))"
            ]
          },
          "metadata": {
            "tags": []
          },
          "execution_count": 66
        }
      ]
    },
    {
      "cell_type": "code",
      "metadata": {
        "id": "SM0ce-mWROf2",
        "outputId": "1a09bd6f-a378-471f-de3f-10c2ce99e43d",
        "colab": {
          "base_uri": "https://localhost:8080/"
        }
      },
      "source": [
        "y_train.shape, y_test.shape"
      ],
      "execution_count": 67,
      "outputs": [
        {
          "output_type": "execute_result",
          "data": {
            "text/plain": [
              "((4800,), (1200,))"
            ]
          },
          "metadata": {
            "tags": []
          },
          "execution_count": 67
        }
      ]
    },
    {
      "cell_type": "code",
      "metadata": {
        "id": "SXkenqgKRRcb"
      },
      "source": [
        "# 시퀀스 데이터셋 함수 구현\n",
        "\n",
        "import tensorflow as tf\n",
        "def windowed_dataset(series, window_size, batch_size, shuffle) :\n",
        "    series = tf.expand_dims(series, axis=-1) # 끝 방향으로 차원을 하나 늘려줌 \n",
        "    ds = tf.data.Dataset.from_tensor_slices(series)\n",
        "    ds = ds.window(window_size + 1, shift = 1, stride = 1, drop_remainder =True)\n",
        "    ds = ds.flat_map(lambda w : w.batch(window_size +1))\n",
        "    if shuffle :\n",
        "        ds = ds.shuffle(1000)\n",
        "    ds = ds.map(lambda w : (w[:-1], w[-1]))\n",
        "    return ds.batch(batch_size).prefetch(1)"
      ],
      "execution_count": 68,
      "outputs": []
    },
    {
      "cell_type": "code",
      "metadata": {
        "id": "4A85L-InSKVh"
      },
      "source": [
        "window_size = 20\n",
        "batch_size = 32\n",
        "\n",
        "train_data = windowed_dataset(y_train, window_size, batch_size, True)\n",
        "test_data = windowed_dataset(y_test, window_size, batch_size, False)"
      ],
      "execution_count": 69,
      "outputs": []
    },
    {
      "cell_type": "code",
      "metadata": {
        "id": "ecRX5L5qT5nw",
        "outputId": "6537ad40-6261-456b-a0d2-4860c1e09d03",
        "colab": {
          "base_uri": "https://localhost:8080/"
        }
      },
      "source": [
        "# x : (batch, window, feature)\n",
        "# y : (batch, feature)\n",
        "for data in train_data.take(1) :\n",
        "    print(f'데이터셋 x 구성 (batch_size, window_size, feature 갯수 : {data[0].shape}')\n",
        "    print(f'데이터셋 y 구성 (batch_size, window_size, feature 갯수 : {data[1].shape}')"
      ],
      "execution_count": 70,
      "outputs": [
        {
          "output_type": "stream",
          "text": [
            "데이터셋 x 구성 (batch_size, window_size, feature 갯수 : (32, 20, 1)\n",
            "데이터셋 y 구성 (batch_size, window_size, feature 갯수 : (32, 1)\n"
          ],
          "name": "stdout"
        }
      ]
    },
    {
      "cell_type": "code",
      "metadata": {
        "id": "aBjEGXNHT60_"
      },
      "source": [
        "from tensorflow import keras\n",
        "from keras.models import Model, Sequential\n",
        "from keras.layers import Dense, LSTM, Conv1D, Lambda\n",
        "from keras.losses import Huber\n",
        "from keras.optimizers import Adam\n",
        "from keras.callbacks import EarlyStopping, ModelCheckpoint"
      ],
      "execution_count": 71,
      "outputs": []
    },
    {
      "cell_type": "code",
      "metadata": {
        "id": "PNIePfZ8te-z"
      },
      "source": [
        "model = Sequential([\n",
        "                    Conv1D(filters=32, kernel_size = 5, \n",
        "                           padding = 'causal', \n",
        "                           activation = 'relu',\n",
        "                           input_shape = [window_size, 1]),\n",
        "                    LSTM(16),\n",
        "                    Dense(16, activation = 'relu'),\n",
        "                    Dense(1),\n",
        "                    #Lambda(lambda x : x*20), \n",
        "]\n",
        "\n",
        ")"
      ],
      "execution_count": 72,
      "outputs": []
    },
    {
      "cell_type": "code",
      "metadata": {
        "id": "X9sIjJK0uxFT"
      },
      "source": [
        "loss = Huber() #MSE, MAE가 같이 임계값 내에 있으면 L2\n",
        "earlystopping = EarlyStopping(monitor ='val_loss', patience = 10)\n",
        "filename = 'tmp_checkpoint.ckpt'\n",
        "checkpoint = ModelCheckpoint(filepath=filename,\n",
        "                             save_best_only = True,\n",
        "                             save_weights_only = True,\n",
        "                             monitor = 'val_loss',\n",
        "                             verbose = 1,)"
      ],
      "execution_count": 73,
      "outputs": []
    },
    {
      "cell_type": "code",
      "metadata": {
        "id": "I5YqsFugvZ4J"
      },
      "source": [
        "model.compile(optimizer = 'adam', loss=loss, metrics = ['mae'])"
      ],
      "execution_count": 74,
      "outputs": []
    },
    {
      "cell_type": "code",
      "metadata": {
        "id": "w9xW7oQqvwMU",
        "outputId": "2ceff6cc-ab21-4028-e4ee-05b9a9dc3262",
        "colab": {
          "base_uri": "https://localhost:8080/"
        }
      },
      "source": [
        "model.fit(train_data, validation_data = (test_data),\n",
        "          epochs = 50,\n",
        "          callbacks = [earlystopping, checkpoint])"
      ],
      "execution_count": 75,
      "outputs": [
        {
          "output_type": "stream",
          "text": [
            "Epoch 1/50\n",
            "150/150 [==============================] - 6s 19ms/step - loss: 5.7986e-05 - mae: 0.0073 - val_loss: 0.0044 - val_mae: 0.0717\n",
            "\n",
            "Epoch 00001: val_loss improved from inf to 0.00439, saving model to tmp_checkpoint.ckpt\n",
            "Epoch 2/50\n",
            "150/150 [==============================] - 2s 13ms/step - loss: 1.2654e-05 - mae: 0.0038 - val_loss: 0.0033 - val_mae: 0.0597\n",
            "\n",
            "Epoch 00002: val_loss improved from 0.00439 to 0.00331, saving model to tmp_checkpoint.ckpt\n",
            "Epoch 3/50\n",
            "150/150 [==============================] - 2s 13ms/step - loss: 1.1633e-05 - mae: 0.0036 - val_loss: 0.0027 - val_mae: 0.0537\n",
            "\n",
            "Epoch 00003: val_loss improved from 0.00331 to 0.00272, saving model to tmp_checkpoint.ckpt\n",
            "Epoch 4/50\n",
            "150/150 [==============================] - 2s 13ms/step - loss: 1.0178e-05 - mae: 0.0033 - val_loss: 0.0020 - val_mae: 0.0452\n",
            "\n",
            "Epoch 00004: val_loss improved from 0.00272 to 0.00200, saving model to tmp_checkpoint.ckpt\n",
            "Epoch 5/50\n",
            "150/150 [==============================] - 2s 13ms/step - loss: 1.0436e-05 - mae: 0.0034 - val_loss: 0.0015 - val_mae: 0.0370\n",
            "\n",
            "Epoch 00005: val_loss improved from 0.00200 to 0.00146, saving model to tmp_checkpoint.ckpt\n",
            "Epoch 6/50\n",
            "150/150 [==============================] - 2s 13ms/step - loss: 9.9727e-06 - mae: 0.0033 - val_loss: 0.0015 - val_mae: 0.0396\n",
            "\n",
            "Epoch 00006: val_loss did not improve from 0.00146\n",
            "Epoch 7/50\n",
            "150/150 [==============================] - 2s 13ms/step - loss: 1.1129e-05 - mae: 0.0036 - val_loss: 0.0012 - val_mae: 0.0334\n",
            "\n",
            "Epoch 00007: val_loss improved from 0.00146 to 0.00121, saving model to tmp_checkpoint.ckpt\n",
            "Epoch 8/50\n",
            "150/150 [==============================] - 2s 13ms/step - loss: 9.7193e-06 - mae: 0.0032 - val_loss: 0.0017 - val_mae: 0.0431\n",
            "\n",
            "Epoch 00008: val_loss did not improve from 0.00121\n",
            "Epoch 9/50\n",
            "150/150 [==============================] - 2s 13ms/step - loss: 8.4804e-06 - mae: 0.0030 - val_loss: 0.0012 - val_mae: 0.0324\n",
            "\n",
            "Epoch 00009: val_loss improved from 0.00121 to 0.00116, saving model to tmp_checkpoint.ckpt\n",
            "Epoch 10/50\n",
            "150/150 [==============================] - 2s 12ms/step - loss: 8.1399e-06 - mae: 0.0029 - val_loss: 9.6489e-04 - val_mae: 0.0298\n",
            "\n",
            "Epoch 00010: val_loss improved from 0.00116 to 0.00096, saving model to tmp_checkpoint.ckpt\n",
            "Epoch 11/50\n",
            "150/150 [==============================] - 2s 14ms/step - loss: 8.0203e-06 - mae: 0.0028 - val_loss: 0.0014 - val_mae: 0.0390\n",
            "\n",
            "Epoch 00011: val_loss did not improve from 0.00096\n",
            "Epoch 12/50\n",
            "150/150 [==============================] - 2s 14ms/step - loss: 7.6644e-06 - mae: 0.0028 - val_loss: 0.0012 - val_mae: 0.0347\n",
            "\n",
            "Epoch 00012: val_loss did not improve from 0.00096\n",
            "Epoch 13/50\n",
            "150/150 [==============================] - 2s 13ms/step - loss: 8.4455e-06 - mae: 0.0031 - val_loss: 0.0010 - val_mae: 0.0310\n",
            "\n",
            "Epoch 00013: val_loss did not improve from 0.00096\n",
            "Epoch 14/50\n",
            "150/150 [==============================] - 2s 14ms/step - loss: 7.1091e-06 - mae: 0.0028 - val_loss: 0.0011 - val_mae: 0.0333\n",
            "\n",
            "Epoch 00014: val_loss did not improve from 0.00096\n",
            "Epoch 15/50\n",
            "150/150 [==============================] - 2s 13ms/step - loss: 6.9570e-06 - mae: 0.0027 - val_loss: 8.5405e-04 - val_mae: 0.0274\n",
            "\n",
            "Epoch 00015: val_loss improved from 0.00096 to 0.00085, saving model to tmp_checkpoint.ckpt\n",
            "Epoch 16/50\n",
            "150/150 [==============================] - 2s 13ms/step - loss: 6.4660e-06 - mae: 0.0026 - val_loss: 0.0013 - val_mae: 0.0365\n",
            "\n",
            "Epoch 00016: val_loss did not improve from 0.00085\n",
            "Epoch 17/50\n",
            "150/150 [==============================] - 2s 13ms/step - loss: 6.3177e-06 - mae: 0.0026 - val_loss: 0.0013 - val_mae: 0.0365\n",
            "\n",
            "Epoch 00017: val_loss did not improve from 0.00085\n",
            "Epoch 18/50\n",
            "150/150 [==============================] - 2s 13ms/step - loss: 7.0835e-06 - mae: 0.0028 - val_loss: 0.0015 - val_mae: 0.0396\n",
            "\n",
            "Epoch 00018: val_loss did not improve from 0.00085\n",
            "Epoch 19/50\n",
            "150/150 [==============================] - 2s 13ms/step - loss: 5.9726e-06 - mae: 0.0025 - val_loss: 7.2258e-04 - val_mae: 0.0241\n",
            "\n",
            "Epoch 00019: val_loss improved from 0.00085 to 0.00072, saving model to tmp_checkpoint.ckpt\n",
            "Epoch 20/50\n",
            "150/150 [==============================] - 2s 13ms/step - loss: 5.6257e-06 - mae: 0.0024 - val_loss: 0.0011 - val_mae: 0.0325\n",
            "\n",
            "Epoch 00020: val_loss did not improve from 0.00072\n",
            "Epoch 21/50\n",
            "150/150 [==============================] - 2s 13ms/step - loss: 5.4472e-06 - mae: 0.0024 - val_loss: 9.0351e-04 - val_mae: 0.0279\n",
            "\n",
            "Epoch 00021: val_loss did not improve from 0.00072\n",
            "Epoch 22/50\n",
            "150/150 [==============================] - 2s 12ms/step - loss: 5.1667e-06 - mae: 0.0023 - val_loss: 0.0012 - val_mae: 0.0346\n",
            "\n",
            "Epoch 00022: val_loss did not improve from 0.00072\n",
            "Epoch 23/50\n",
            "150/150 [==============================] - 2s 13ms/step - loss: 5.7539e-06 - mae: 0.0025 - val_loss: 0.0010 - val_mae: 0.0301\n",
            "\n",
            "Epoch 00023: val_loss did not improve from 0.00072\n",
            "Epoch 24/50\n",
            "150/150 [==============================] - 2s 14ms/step - loss: 5.6019e-06 - mae: 0.0025 - val_loss: 8.6379e-04 - val_mae: 0.0265\n",
            "\n",
            "Epoch 00024: val_loss did not improve from 0.00072\n",
            "Epoch 25/50\n",
            "150/150 [==============================] - 2s 13ms/step - loss: 4.5286e-06 - mae: 0.0021 - val_loss: 9.3311e-04 - val_mae: 0.0282\n",
            "\n",
            "Epoch 00025: val_loss did not improve from 0.00072\n",
            "Epoch 26/50\n",
            "150/150 [==============================] - 2s 13ms/step - loss: 4.5438e-06 - mae: 0.0022 - val_loss: 7.8968e-04 - val_mae: 0.0244\n",
            "\n",
            "Epoch 00026: val_loss did not improve from 0.00072\n",
            "Epoch 27/50\n",
            "150/150 [==============================] - 2s 14ms/step - loss: 6.3077e-06 - mae: 0.0027 - val_loss: 9.3988e-04 - val_mae: 0.0281\n",
            "\n",
            "Epoch 00027: val_loss did not improve from 0.00072\n",
            "Epoch 28/50\n",
            "150/150 [==============================] - 2s 14ms/step - loss: 5.2138e-06 - mae: 0.0025 - val_loss: 8.6249e-04 - val_mae: 0.0266\n",
            "\n",
            "Epoch 00028: val_loss did not improve from 0.00072\n",
            "Epoch 29/50\n",
            "150/150 [==============================] - 2s 14ms/step - loss: 4.1240e-06 - mae: 0.0020 - val_loss: 0.0010 - val_mae: 0.0305\n",
            "\n",
            "Epoch 00029: val_loss did not improve from 0.00072\n"
          ],
          "name": "stdout"
        },
        {
          "output_type": "execute_result",
          "data": {
            "text/plain": [
              "<keras.callbacks.History at 0x7fe1354239d0>"
            ]
          },
          "metadata": {
            "tags": []
          },
          "execution_count": 75
        }
      ]
    },
    {
      "cell_type": "code",
      "metadata": {
        "id": "l_qEtd0Vv5QE",
        "outputId": "5f075e8b-002a-4928-99f8-c31cbcc6c30a",
        "colab": {
          "base_uri": "https://localhost:8080/"
        }
      },
      "source": [
        "model.load_weights(filename)"
      ],
      "execution_count": 76,
      "outputs": [
        {
          "output_type": "execute_result",
          "data": {
            "text/plain": [
              "<tensorflow.python.training.tracking.util.CheckpointLoadStatus at 0x7fe130b47d10>"
            ]
          },
          "metadata": {
            "tags": []
          },
          "execution_count": 76
        }
      ]
    },
    {
      "cell_type": "code",
      "metadata": {
        "id": "kaEKsJQ4waz-"
      },
      "source": [
        "pred = model.predict(test_data)"
      ],
      "execution_count": 77,
      "outputs": []
    },
    {
      "cell_type": "code",
      "metadata": {
        "id": "fKL0xUBnwck2",
        "outputId": "2a22871e-26bb-4b5c-d5fb-6d9c4a2b15e1",
        "colab": {
          "base_uri": "https://localhost:8080/"
        }
      },
      "source": [
        "pred"
      ],
      "execution_count": 78,
      "outputs": [
        {
          "output_type": "execute_result",
          "data": {
            "text/plain": [
              "array([[0.34077966],\n",
              "       [0.3366061 ],\n",
              "       [0.33356613],\n",
              "       ...,\n",
              "       [0.8010126 ],\n",
              "       [0.8003244 ],\n",
              "       [0.7976212 ]], dtype=float32)"
            ]
          },
          "metadata": {
            "tags": []
          },
          "execution_count": 78
        }
      ]
    },
    {
      "cell_type": "code",
      "metadata": {
        "id": "bHJF3hn7wiBQ",
        "outputId": "97634d49-b3c9-4359-f75e-653d49b53859",
        "colab": {
          "base_uri": "https://localhost:8080/",
          "height": 537
        }
      },
      "source": [
        "plt.figure(figsize=(12,9))\n",
        "plt.plot(np.asarray(y_test)[20:], label='actual')\n",
        "\n",
        "plt.plot(pred, label='prediction')\n",
        "plt.legend()\n",
        "plt.show()"
      ],
      "execution_count": 79,
      "outputs": [
        {
          "output_type": "display_data",
          "data": {
            "image/png": "[encoded data removed]",
            "text/plain": [
              "<Figure size 864x648 with 1 Axes>"
            ]
          },
          "metadata": {
            "tags": [],
            "needs_background": "light"
          }
        }
      ]
    },
    {
      "cell_type": "code",
      "metadata": {
        "id": "wYzfFq9Pw_J6"
      },
      "source": [
        "# 마지막 부분이 조금 아쉽다. \n",
        "# lr을 조금 조정해보자\n",
        "model = Sequential([\n",
        "                    Conv1D(filters=32, kernel_size = 5, \n",
        "                           padding = 'causal', \n",
        "                           activation = 'relu',\n",
        "                           input_shape = [window_size, 1]),\n",
        "                    LSTM(16),\n",
        "                    Dense(16, activation = 'relu'),\n",
        "                    Dense(1),\n",
        "                    #Lambda(lambda x : x*20), \n",
        "]\n",
        "\n",
        ")\n",
        "adam = Adam(learning_rate=0.005)\n",
        "loss = Huber()\n",
        "model.compile(optimizer=adam, loss=loss, metrics=['mae'])"
      ],
      "execution_count": 178,
      "outputs": []
    },
    {
      "cell_type": "code",
      "metadata": {
        "id": "8PsqnnDb3prA",
        "outputId": "bae44bf7-685e-44d3-dcbb-0ad4d1b9e6d7",
        "colab": {
          "base_uri": "https://localhost:8080/"
        }
      },
      "source": [
        "model.fit(train_data, validation_data = (test_data),\n",
        "          epochs = 50,\n",
        "          callbacks = [earlystopping])"
      ],
      "execution_count": 179,
      "outputs": [
        {
          "output_type": "stream",
          "text": [
            "Epoch 1/50\n",
            "150/150 [==============================] - 6s 21ms/step - loss: 7.3549e-05 - mae: 0.0078 - val_loss: 0.0025 - val_mae: 0.0476\n",
            "Epoch 2/50\n",
            "150/150 [==============================] - 2s 15ms/step - loss: 1.0211e-05 - mae: 0.0034 - val_loss: 0.0015 - val_mae: 0.0351\n",
            "Epoch 3/50\n",
            "150/150 [==============================] - 2s 15ms/step - loss: 1.0724e-05 - mae: 0.0034 - val_loss: 0.0012 - val_mae: 0.0298\n",
            "Epoch 4/50\n",
            "150/150 [==============================] - 3s 16ms/step - loss: 1.4471e-05 - mae: 0.0041 - val_loss: 0.0010 - val_mae: 0.0311\n",
            "Epoch 5/50\n",
            "150/150 [==============================] - 2s 15ms/step - loss: 8.7006e-06 - mae: 0.0031 - val_loss: 0.0013 - val_mae: 0.0392\n",
            "Epoch 6/50\n",
            "150/150 [==============================] - 2s 15ms/step - loss: 9.9756e-06 - mae: 0.0033 - val_loss: 7.0611e-04 - val_mae: 0.0268\n",
            "Epoch 7/50\n",
            "150/150 [==============================] - 2s 16ms/step - loss: 9.1362e-06 - mae: 0.0033 - val_loss: 5.1100e-04 - val_mae: 0.0223\n",
            "Epoch 8/50\n",
            "150/150 [==============================] - 2s 16ms/step - loss: 5.6062e-06 - mae: 0.0025 - val_loss: 0.0016 - val_mae: 0.0461\n",
            "Epoch 9/50\n",
            "150/150 [==============================] - 2s 15ms/step - loss: 9.3083e-06 - mae: 0.0034 - val_loss: 5.5241e-04 - val_mae: 0.0250\n",
            "Epoch 10/50\n",
            "150/150 [==============================] - 2s 15ms/step - loss: 7.6929e-06 - mae: 0.0029 - val_loss: 0.0010 - val_mae: 0.0388\n",
            "Epoch 11/50\n",
            "150/150 [==============================] - 2s 15ms/step - loss: 5.3036e-06 - mae: 0.0025 - val_loss: 3.7632e-04 - val_mae: 0.0193\n",
            "Epoch 12/50\n",
            "150/150 [==============================] - 2s 16ms/step - loss: 5.1701e-06 - mae: 0.0024 - val_loss: 7.1040e-04 - val_mae: 0.0305\n",
            "Epoch 13/50\n",
            "150/150 [==============================] - 2s 16ms/step - loss: 6.9565e-06 - mae: 0.0028 - val_loss: 4.0462e-04 - val_mae: 0.0197\n",
            "Epoch 14/50\n",
            "150/150 [==============================] - 2s 15ms/step - loss: 9.6488e-06 - mae: 0.0034 - val_loss: 2.4400e-04 - val_mae: 0.0153\n",
            "Epoch 15/50\n",
            "150/150 [==============================] - 2s 16ms/step - loss: 5.4502e-06 - mae: 0.0025 - val_loss: 3.9080e-04 - val_mae: 0.0203\n",
            "Epoch 16/50\n",
            "150/150 [==============================] - 2s 16ms/step - loss: 5.6483e-06 - mae: 0.0025 - val_loss: 4.0734e-04 - val_mae: 0.0204\n",
            "Epoch 17/50\n",
            "150/150 [==============================] - 2s 16ms/step - loss: 5.8989e-06 - mae: 0.0027 - val_loss: 3.7807e-04 - val_mae: 0.0196\n",
            "Epoch 18/50\n",
            "150/150 [==============================] - 2s 16ms/step - loss: 5.6503e-06 - mae: 0.0025 - val_loss: 6.7679e-04 - val_mae: 0.0285\n",
            "Epoch 19/50\n",
            "150/150 [==============================] - 2s 16ms/step - loss: 3.7861e-06 - mae: 0.0020 - val_loss: 7.9997e-04 - val_mae: 0.0326\n",
            "Epoch 20/50\n",
            "150/150 [==============================] - 2s 15ms/step - loss: 4.4603e-06 - mae: 0.0023 - val_loss: 6.1676e-04 - val_mae: 0.0272\n",
            "Epoch 21/50\n",
            "150/150 [==============================] - 2s 15ms/step - loss: 5.7328e-06 - mae: 0.0026 - val_loss: 7.1098e-04 - val_mae: 0.0299\n",
            "Epoch 22/50\n",
            "150/150 [==============================] - 3s 16ms/step - loss: 4.8447e-06 - mae: 0.0023 - val_loss: 7.3708e-04 - val_mae: 0.0308\n",
            "Epoch 23/50\n",
            "150/150 [==============================] - 3s 16ms/step - loss: 5.6086e-06 - mae: 0.0026 - val_loss: 5.4492e-04 - val_mae: 0.0245\n",
            "Epoch 24/50\n",
            "150/150 [==============================] - 2s 16ms/step - loss: 3.9614e-06 - mae: 0.0020 - val_loss: 4.3407e-04 - val_mae: 0.0208\n"
          ],
          "name": "stdout"
        },
        {
          "output_type": "execute_result",
          "data": {
            "text/plain": [
              "<keras.callbacks.History at 0x7fe0efdf2bd0>"
            ]
          },
          "metadata": {
            "tags": []
          },
          "execution_count": 179
        }
      ]
    },
    {
      "cell_type": "code",
      "metadata": {
        "id": "S5Z0f7Mu3tNb",
        "outputId": "9f4b43a2-ff5a-4ce9-e643-9962abc3469c",
        "colab": {
          "base_uri": "https://localhost:8080/",
          "height": 537
        }
      },
      "source": [
        "pred = model.predict(test_data)\n",
        "plt.figure(figsize=(12,9))\n",
        "plt.plot(np.asarray(y_test)[20:], label='actual')\n",
        "\n",
        "plt.plot(pred, label='prediction')\n",
        "plt.legend()\n",
        "plt.show()"
      ],
      "execution_count": 180,
      "outputs": [
        {
          "output_type": "display_data",
          "data": {
            "image/png": "[encoded data removed]",
            "text/plain": [
              "<Figure size 864x648 with 1 Axes>"
            ]
          },
          "metadata": {
            "tags": [],
            "needs_background": "light"
          }
        }
      ]
    },
    {
      "cell_type": "code",
      "metadata": {
        "id": "hLUgevGb4blp"
      },
      "source": [
        ""
      ],
      "execution_count": null,
      "outputs": []
    }
  ]
}