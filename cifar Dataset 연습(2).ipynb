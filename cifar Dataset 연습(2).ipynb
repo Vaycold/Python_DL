{
  "nbformat": 4,
  "nbformat_minor": 0,
  "metadata": {
    "colab": {
      "name": "Untitled15.ipynb",
      "provenance": [],
      "include_colab_link": true
    },
    "kernelspec": {
      "name": "python3",
      "display_name": "Python 3"
    },
    "language_info": {
      "name": "python"
    }
  },
  "cells": [
    {
      "cell_type": "markdown",
      "metadata": {
        "id": "view-in-github",
        "colab_type": "text"
      },
      "source": [
        "<a href=\"https://colab.research.google.com/github/Vaycold/Python_DL/blob/main/cifar%20Dataset%20%EC%97%B0%EC%8A%B5(2).ipynb\" target=\"_parent\"><img src=\"https://colab.research.google.com/assets/colab-badge.svg\" alt=\"Open In Colab\"/></a>"
      ]
    },
    {
      "cell_type": "markdown",
      "metadata": {
        "id": "Rv_z_A8T-oji"
      },
      "source": [
        "## Data load"
      ]
    },
    {
      "cell_type": "code",
      "metadata": {
        "colab": {
          "base_uri": "https://localhost:8080/"
        },
        "id": "qapYZSEm-TOe",
        "outputId": "537ec209-2fd2-4aca-848f-88f17870d4d3"
      },
      "source": [
        "import os\n",
        "import numpy as np\n",
        "import tensorflow as tf\n",
        "import pandas as pd\n",
        "from PIL import Image\n",
        "import matplotlib.pyplot as plt\n",
        "from glob import glob\n",
        "from natsort import natsorted\n",
        "from google.colab import drive\n",
        "drive.mount('/content/MyDrive')"
      ],
      "execution_count": 1,
      "outputs": [
        {
          "output_type": "stream",
          "text": [
            "Mounted at /content/MyDrive\n"
          ],
          "name": "stdout"
        }
      ]
    },
    {
      "cell_type": "code",
      "metadata": {
        "id": "XJ-wv4zg-WbK"
      },
      "source": [
        "drive_path = '/content/MyDrive/MyDrive/fastcampus/DL_300/이미지분석/dataset/cifar'"
      ],
      "execution_count": 2,
      "outputs": []
    },
    {
      "cell_type": "code",
      "metadata": {
        "id": "bHr-DayR_zME"
      },
      "source": [
        "train_paths = sorted(glob(drive_path + '/train/*.png'))"
      ],
      "execution_count": 8,
      "outputs": []
    },
    {
      "cell_type": "code",
      "metadata": {
        "id": "qnIHO1oc-mz1"
      },
      "source": [
        "test_paths  = sorted(glob(drive_path + '/test/*.png'))"
      ],
      "execution_count": 4,
      "outputs": []
    },
    {
      "cell_type": "code",
      "metadata": {
        "colab": {
          "base_uri": "https://localhost:8080/"
        },
        "id": "sk66eSkh_AUH",
        "outputId": "e43a45f6-fbcc-482e-c51c-77b5afd6de27"
      },
      "source": [
        "len(train_paths) , len(test_paths)"
      ],
      "execution_count": 9,
      "outputs": [
        {
          "output_type": "execute_result",
          "data": {
            "text/plain": [
              "(50000, 10000)"
            ]
          },
          "metadata": {
            "tags": []
          },
          "execution_count": 9
        }
      ]
    },
    {
      "cell_type": "code",
      "metadata": {
        "id": "A3lST8bEAnh5"
      },
      "source": [
        "path = train_paths[0]"
      ],
      "execution_count": 10,
      "outputs": []
    },
    {
      "cell_type": "markdown",
      "metadata": {
        "id": "l6ZkpnV-DZ8s"
      },
      "source": [
        "## Get the Label(Class)"
      ]
    },
    {
      "cell_type": "code",
      "metadata": {
        "colab": {
          "base_uri": "https://localhost:8080/"
        },
        "id": "XJPtciJhCc6u",
        "outputId": "8414873c-f54e-4dbb-d15e-eb04d1e4e05c"
      },
      "source": [
        "fname = os.path.basename(path)\n",
        "print('file name  : ',fname)\n",
        "\n",
        "cls_name = fname.replace('.png','').split('_')[-1]\n",
        "print('class name  : ',cls_name)"
      ],
      "execution_count": 11,
      "outputs": [
        {
          "output_type": "stream",
          "text": [
            "file name  :  0_frog.png\n",
            "class name  :  frog\n"
          ],
          "name": "stdout"
        }
      ]
    },
    {
      "cell_type": "code",
      "metadata": {
        "id": "QZ0Errp0CfZo"
      },
      "source": [
        "def get_class_name(path) :\n",
        "    return os.path.basename(path).replace('.png','').split('_')[-1] "
      ],
      "execution_count": 12,
      "outputs": []
    },
    {
      "cell_type": "code",
      "metadata": {
        "id": "Y9GwUmU-DRYx"
      },
      "source": [
        "# CHECK THE #. CLASS \n",
        "class_names = []\n",
        "\n",
        "for path in train_paths :\n",
        "    class_names.append(get_class_name(path))"
      ],
      "execution_count": 13,
      "outputs": []
    },
    {
      "cell_type": "code",
      "metadata": {
        "colab": {
          "base_uri": "https://localhost:8080/"
        },
        "id": "W8N_tDDjDSYd",
        "outputId": "0b92ba4e-f03f-412b-ef9d-2370091a7330"
      },
      "source": [
        "len(np.unique(class_names))"
      ],
      "execution_count": 14,
      "outputs": [
        {
          "output_type": "execute_result",
          "data": {
            "text/plain": [
              "10"
            ]
          },
          "metadata": {
            "tags": []
          },
          "execution_count": 14
        }
      ]
    },
    {
      "cell_type": "code",
      "metadata": {
        "colab": {
          "base_uri": "https://localhost:8080/"
        },
        "id": "_NNjlCpBD0Xh",
        "outputId": "afa32d14-95fe-4c0a-8202-8d2fc1c9500c"
      },
      "source": [
        "uniques = np.unique(class_names)\n",
        "uniques"
      ],
      "execution_count": 15,
      "outputs": [
        {
          "output_type": "execute_result",
          "data": {
            "text/plain": [
              "array(['airplane', 'automobile', 'bird', 'cat', 'deer', 'dog', 'frog',\n",
              "       'horse', 'ship', 'truck'], dtype='<U10')"
            ]
          },
          "metadata": {
            "tags": []
          },
          "execution_count": 15
        }
      ]
    },
    {
      "cell_type": "markdown",
      "metadata": {
        "id": "y485l0zeHyd3"
      },
      "source": [
        "## tf.data 사용해보기\n"
      ]
    },
    {
      "cell_type": "code",
      "metadata": {
        "id": "Hh1_DVWYEej4"
      },
      "source": [
        "path = train_paths[0]"
      ],
      "execution_count": 16,
      "outputs": []
    },
    {
      "cell_type": "code",
      "metadata": {
        "colab": {
          "base_uri": "https://localhost:8080/"
        },
        "id": "U3Cg3ExQII6D",
        "outputId": "f5e7c317-1bd8-4568-dc3a-376d4b9053c6"
      },
      "source": [
        "gfile = tf.io.read_file(path)\n",
        "image = tf.io.decode_image(gfile)\n",
        "image.shape"
      ],
      "execution_count": 17,
      "outputs": [
        {
          "output_type": "execute_result",
          "data": {
            "text/plain": [
              "TensorShape([32, 32, 3])"
            ]
          },
          "metadata": {
            "tags": []
          },
          "execution_count": 17
        }
      ]
    },
    {
      "cell_type": "code",
      "metadata": {
        "colab": {
          "base_uri": "https://localhost:8080/",
          "height": 281
        },
        "id": "z_gmVi_3IV31",
        "outputId": "c214dd45-35dc-407e-8ab4-b9d8286d122c"
      },
      "source": [
        "# 그냥 데이터 확인해서 해보는 방법\n",
        "plt.title(os.path.basename(path))\n",
        "plt.imshow(image)\n",
        "plt.show()"
      ],
      "execution_count": 18,
      "outputs": [
        {
          "output_type": "display_data",
          "data": {
            "image/png": "[encoded data removed]",
            "text/plain": [
              "<Figure size 432x288 with 1 Axes>"
            ]
          },
          "metadata": {
            "tags": [],
            "needs_background": "light"
          }
        }
      ]
    },
    {
      "cell_type": "code",
      "metadata": {
        "colab": {
          "base_uri": "https://localhost:8080/"
        },
        "id": "m1amlAGbIYko",
        "outputId": "0d7c1643-5fd3-4ebd-e86b-9621788a4df3"
      },
      "source": [
        "# tf.data\n",
        "\n",
        "train_paths[:10]"
      ],
      "execution_count": 19,
      "outputs": [
        {
          "output_type": "execute_result",
          "data": {
            "text/plain": [
              "['/content/MyDrive/MyDrive/fastcampus/DL_300/이미지분석/dataset/cifar/train/0_frog.png',\n",
              " '/content/MyDrive/MyDrive/fastcampus/DL_300/이미지분석/dataset/cifar/train/10000_automobile.png',\n",
              " '/content/MyDrive/MyDrive/fastcampus/DL_300/이미지분석/dataset/cifar/train/10001_frog.png',\n",
              " '/content/MyDrive/MyDrive/fastcampus/DL_300/이미지분석/dataset/cifar/train/10002_frog.png',\n",
              " '/content/MyDrive/MyDrive/fastcampus/DL_300/이미지분석/dataset/cifar/train/10003_ship.png',\n",
              " '/content/MyDrive/MyDrive/fastcampus/DL_300/이미지분석/dataset/cifar/train/10004_ship.png',\n",
              " '/content/MyDrive/MyDrive/fastcampus/DL_300/이미지분석/dataset/cifar/train/10005_cat.png',\n",
              " '/content/MyDrive/MyDrive/fastcampus/DL_300/이미지분석/dataset/cifar/train/10006_deer.png',\n",
              " '/content/MyDrive/MyDrive/fastcampus/DL_300/이미지분석/dataset/cifar/train/10007_frog.png',\n",
              " '/content/MyDrive/MyDrive/fastcampus/DL_300/이미지분석/dataset/cifar/train/10008_airplane.png']"
            ]
          },
          "metadata": {
            "tags": []
          },
          "execution_count": 19
        }
      ]
    },
    {
      "cell_type": "code",
      "metadata": {
        "id": "TPdcNZ75IlvC"
      },
      "source": [
        "def read_image(path) :\n",
        "    return tf.io.decode_image(tf.io.read_file(path))"
      ],
      "execution_count": 20,
      "outputs": []
    },
    {
      "cell_type": "code",
      "metadata": {
        "colab": {
          "base_uri": "https://localhost:8080/"
        },
        "id": "ghKdV0FdI1Hm",
        "outputId": "ecd15d8a-11d0-4995-c846-b59dea685bbb"
      },
      "source": [
        "dataset = tf.data.Dataset.from_tensor_slices(train_paths)\n",
        "dataset = dataset.map(read_image) # 데이터를 읽는것임\n",
        "tf_image = next(iter(dataset))\n",
        "tf_image.shape"
      ],
      "execution_count": 21,
      "outputs": [
        {
          "output_type": "execute_result",
          "data": {
            "text/plain": [
              "TensorShape([32, 32, 3])"
            ]
          },
          "metadata": {
            "tags": []
          },
          "execution_count": 21
        }
      ]
    },
    {
      "cell_type": "code",
      "metadata": {
        "colab": {
          "base_uri": "https://localhost:8080/"
        },
        "id": "rOMa5dR2I_j4",
        "outputId": "c6a643a7-b600-4f88-c75e-58a699e57d97"
      },
      "source": [
        "dataset = tf.data.Dataset.from_tensor_slices(train_paths)\n",
        "dataset = dataset.map(read_image) # 데이터를 읽는것임\n",
        "dataset = dataset.batch(batch_size=8) # 배치로 묶기\n",
        "tf_image = next(iter(dataset))\n",
        "tf_image.shape"
      ],
      "execution_count": 22,
      "outputs": [
        {
          "output_type": "execute_result",
          "data": {
            "text/plain": [
              "TensorShape([8, 32, 32, 3])"
            ]
          },
          "metadata": {
            "tags": []
          },
          "execution_count": 22
        }
      ]
    },
    {
      "cell_type": "code",
      "metadata": {
        "id": "lUGOGQAmJfH5"
      },
      "source": [
        "dataset = tf.data.Dataset.from_tensor_slices(train_paths)\n",
        "dataset = dataset.map(read_image) # 데이터를 읽는것임\n",
        "dataset = dataset.batch(batch_size=8) # 배치로 묶기\n",
        "#dataset = dataset.shuffle(buffer_size=len(train_paths)) # 데이터 셔플 buffer_size 매뉴얼은 train_path의 갯수로 하면 너무 오래걸림...\n",
        "dataset = dataset.shuffle(buffer_size=30)\n"
      ],
      "execution_count": 24,
      "outputs": []
    },
    {
      "cell_type": "code",
      "metadata": {
        "id": "9qgwJdCWJ4UD",
        "colab": {
          "base_uri": "https://localhost:8080/",
          "height": 266
        },
        "outputId": "4041e6de-8f6d-4cdd-f522-31b22a41f9ea"
      },
      "source": [
        "tf_image = next(iter(dataset))\n",
        "plt.imshow(tf_image[0])\n",
        "plt.show()"
      ],
      "execution_count": 25,
      "outputs": [
        {
          "output_type": "display_data",
          "data": {
            "image/png": "[encoded data removed]",
            "text/plain": [
              "<Figure size 432x288 with 1 Axes>"
            ]
          },
          "metadata": {
            "tags": [],
            "needs_background": "light"
          }
        }
      ]
    },
    {
      "cell_type": "code",
      "metadata": {
        "id": "1t90AzS64wCc"
      },
      "source": [
        "# label하고 같이 넣어보자"
      ],
      "execution_count": 27,
      "outputs": []
    },
    {
      "cell_type": "code",
      "metadata": {
        "id": "Uni2RP0F8MaD"
      },
      "source": [
        "label_names = [get_class_name(path) for path in train_paths]"
      ],
      "execution_count": 31,
      "outputs": []
    },
    {
      "cell_type": "code",
      "metadata": {
        "colab": {
          "base_uri": "https://localhost:8080/"
        },
        "id": "6k8pIc0l8Qb3",
        "outputId": "af4c5bdf-fef9-4d59-c493-540a3661a87f"
      },
      "source": [
        "class_names = np.unique(label_names)\n",
        "class_names"
      ],
      "execution_count": 35,
      "outputs": [
        {
          "output_type": "execute_result",
          "data": {
            "text/plain": [
              "array(['airplane', 'automobile', 'bird', 'cat', 'deer', 'dog', 'frog',\n",
              "       'horse', 'ship', 'truck'], dtype='<U10')"
            ]
          },
          "metadata": {
            "tags": []
          },
          "execution_count": 35
        }
      ]
    },
    {
      "cell_type": "code",
      "metadata": {
        "id": "tS3eo0KI8oti"
      },
      "source": [
        "# 원핫인코딩을 할 수 있는 함수를 구현해보자\n",
        "def one_hot(label) :\n",
        "    return np.array(class_names == label, np.uint8)"
      ],
      "execution_count": 46,
      "outputs": []
    },
    {
      "cell_type": "code",
      "metadata": {
        "colab": {
          "base_uri": "https://localhost:8080/"
        },
        "id": "SjF-eRKA9Tby",
        "outputId": "d8739922-66a2-4894-97d2-ab266e019980"
      },
      "source": [
        "train_paths[:10]"
      ],
      "execution_count": 37,
      "outputs": [
        {
          "output_type": "execute_result",
          "data": {
            "text/plain": [
              "['/content/MyDrive/MyDrive/fastcampus/DL_300/이미지분석/dataset/cifar/train/0_frog.png',\n",
              " '/content/MyDrive/MyDrive/fastcampus/DL_300/이미지분석/dataset/cifar/train/10000_automobile.png',\n",
              " '/content/MyDrive/MyDrive/fastcampus/DL_300/이미지분석/dataset/cifar/train/10001_frog.png',\n",
              " '/content/MyDrive/MyDrive/fastcampus/DL_300/이미지분석/dataset/cifar/train/10002_frog.png',\n",
              " '/content/MyDrive/MyDrive/fastcampus/DL_300/이미지분석/dataset/cifar/train/10003_ship.png',\n",
              " '/content/MyDrive/MyDrive/fastcampus/DL_300/이미지분석/dataset/cifar/train/10004_ship.png',\n",
              " '/content/MyDrive/MyDrive/fastcampus/DL_300/이미지분석/dataset/cifar/train/10005_cat.png',\n",
              " '/content/MyDrive/MyDrive/fastcampus/DL_300/이미지분석/dataset/cifar/train/10006_deer.png',\n",
              " '/content/MyDrive/MyDrive/fastcampus/DL_300/이미지분석/dataset/cifar/train/10007_frog.png',\n",
              " '/content/MyDrive/MyDrive/fastcampus/DL_300/이미지분석/dataset/cifar/train/10008_airplane.png']"
            ]
          },
          "metadata": {
            "tags": []
          },
          "execution_count": 37
        }
      ]
    },
    {
      "cell_type": "code",
      "metadata": {
        "colab": {
          "base_uri": "https://localhost:8080/"
        },
        "id": "U_UAzWhZ9WAU",
        "outputId": "0b975d0e-3fb0-46f6-a300-15d436d18e32"
      },
      "source": [
        "label_names[:10]"
      ],
      "execution_count": 38,
      "outputs": [
        {
          "output_type": "execute_result",
          "data": {
            "text/plain": [
              "['frog',\n",
              " 'automobile',\n",
              " 'frog',\n",
              " 'frog',\n",
              " 'ship',\n",
              " 'ship',\n",
              " 'cat',\n",
              " 'deer',\n",
              " 'frog',\n",
              " 'airplane']"
            ]
          },
          "metadata": {
            "tags": []
          },
          "execution_count": 38
        }
      ]
    },
    {
      "cell_type": "code",
      "metadata": {
        "id": "eynCKy0p94Z8"
      },
      "source": [
        "def read_image(path) :\n",
        "    return tf.io.decode_image(tf.io.read_file(path))"
      ],
      "execution_count": null,
      "outputs": []
    },
    {
      "cell_type": "code",
      "metadata": {
        "id": "a160FcUG9u-x"
      },
      "source": [
        "def read_image_label(path, label) :\n",
        "    return tf.io.decode_image(tf.io.read_file(path)), label\n"
      ],
      "execution_count": 39,
      "outputs": []
    },
    {
      "cell_type": "code",
      "metadata": {
        "id": "FB2xVVWn9YtR"
      },
      "source": [
        "dataset = tf.data.Dataset.from_tensor_slices((train_paths, label_names))\n",
        "dataset = dataset.map(read_image_label) # 이젠 read_image 함수를 쓸 수 없음, read_image는 input이 한개이기 때문 그렇지만 지금은 두개의 인풋이다. \n",
        "dataset = dataset.batch(batch_size = 8)\n",
        "dataset = dataset.repeat()  # 이걸 안 넣으면 한번 들어가고 끝나버림\n"
      ],
      "execution_count": 41,
      "outputs": []
    },
    {
      "cell_type": "code",
      "metadata": {
        "colab": {
          "base_uri": "https://localhost:8080/"
        },
        "id": "u4aRbLxJ-A53",
        "outputId": "c292be71-73bf-498c-8532-fa4254ac9427"
      },
      "source": [
        "image, label = next(iter(dataset))\n",
        "image.shape, label.shape"
      ],
      "execution_count": 42,
      "outputs": [
        {
          "output_type": "execute_result",
          "data": {
            "text/plain": [
              "(TensorShape([8, 32, 32, 3]), TensorShape([8]))"
            ]
          },
          "metadata": {
            "tags": []
          },
          "execution_count": 42
        }
      ]
    },
    {
      "cell_type": "code",
      "metadata": {
        "colab": {
          "base_uri": "https://localhost:8080/"
        },
        "id": "3CcE3-hs-SUv",
        "outputId": "889295ee-178f-46e4-9005-6619680826dc"
      },
      "source": [
        "label[0]"
      ],
      "execution_count": 43,
      "outputs": [
        {
          "output_type": "execute_result",
          "data": {
            "text/plain": [
              "<tf.Tensor: shape=(), dtype=string, numpy=b'frog'>"
            ]
          },
          "metadata": {
            "tags": []
          },
          "execution_count": 43
        }
      ]
    },
    {
      "cell_type": "code",
      "metadata": {
        "colab": {
          "base_uri": "https://localhost:8080/",
          "height": 281
        },
        "id": "h2gCnm_E-Ubd",
        "outputId": "46b0e252-4bc4-4cf2-c7aa-8cac23561395"
      },
      "source": [
        "plt.imshow(image[0])\n",
        "plt.title(np.array(label[0]))\n",
        "plt.show()"
      ],
      "execution_count": 44,
      "outputs": [
        {
          "output_type": "display_data",
          "data": {
            "image/png": "[encoded data removed]",
            "text/plain": [
              "<Figure size 432x288 with 1 Axes>"
            ]
          },
          "metadata": {
            "tags": [],
            "needs_background": "light"
          }
        }
      ]
    },
    {
      "cell_type": "markdown",
      "metadata": {
        "id": "NfAvSG9z-xrw"
      },
      "source": [
        "## tensorflow 함수로 label 얻기"
      ]
    },
    {
      "cell_type": "code",
      "metadata": {
        "colab": {
          "base_uri": "https://localhost:8080/"
        },
        "id": "tRwhKPCK-bIG",
        "outputId": "d322ce3c-edc5-488c-e88d-c2d5d8f98724"
      },
      "source": [
        "one_hot('frog')"
      ],
      "execution_count": 47,
      "outputs": [
        {
          "output_type": "execute_result",
          "data": {
            "text/plain": [
              "array([0, 0, 0, 0, 0, 0, 1, 0, 0, 0], dtype=uint8)"
            ]
          },
          "metadata": {
            "tags": []
          },
          "execution_count": 47
        }
      ]
    },
    {
      "cell_type": "code",
      "metadata": {
        "colab": {
          "base_uri": "https://localhost:8080/",
          "height": 35
        },
        "id": "E3CWiev6-81b",
        "outputId": "bab09e67-b9ee-4e2b-e0b3-eae2048462b5"
      },
      "source": [
        "path"
      ],
      "execution_count": 48,
      "outputs": [
        {
          "output_type": "execute_result",
          "data": {
            "application/vnd.google.colaboratory.intrinsic+json": {
              "type": "string"
            },
            "text/plain": [
              "'/content/MyDrive/MyDrive/fastcampus/DL_300/이미지분석/dataset/cifar/train/0_frog.png'"
            ]
          },
          "metadata": {
            "tags": []
          },
          "execution_count": 48
        }
      ]
    },
    {
      "cell_type": "code",
      "metadata": {
        "colab": {
          "base_uri": "https://localhost:8080/"
        },
        "id": "Fh38u1mF_FQN",
        "outputId": "ec2601cb-ec0c-4e01-80ff-b12a93d8d587"
      },
      "source": [
        "fname = tf.strings.split(path, '_')[-1]\n",
        "fname"
      ],
      "execution_count": 51,
      "outputs": [
        {
          "output_type": "execute_result",
          "data": {
            "text/plain": [
              "<tf.Tensor: shape=(), dtype=string, numpy=b'frog.png'>"
            ]
          },
          "metadata": {
            "tags": []
          },
          "execution_count": 51
        }
      ]
    },
    {
      "cell_type": "code",
      "metadata": {
        "colab": {
          "base_uri": "https://localhost:8080/"
        },
        "id": "-qAbB8dk_QOh",
        "outputId": "35434f51-08b9-4415-b5c9-1b01e398a3e6"
      },
      "source": [
        "cls_name = tf.strings.regex_replace(fname, '.png','')\n",
        "cls_name"
      ],
      "execution_count": 53,
      "outputs": [
        {
          "output_type": "execute_result",
          "data": {
            "text/plain": [
              "<tf.Tensor: shape=(), dtype=string, numpy=b'frog'>"
            ]
          },
          "metadata": {
            "tags": []
          },
          "execution_count": 53
        }
      ]
    },
    {
      "cell_type": "code",
      "metadata": {
        "colab": {
          "base_uri": "https://localhost:8080/"
        },
        "id": "Jg0koxsj_kFS",
        "outputId": "58e34277-41c1-43e1-aa19-7edd5ed98780"
      },
      "source": [
        "class_names == cls_name"
      ],
      "execution_count": 54,
      "outputs": [
        {
          "output_type": "execute_result",
          "data": {
            "text/plain": [
              "<tf.Tensor: shape=(10,), dtype=bool, numpy=\n",
              "array([False, False, False, False, False, False,  True, False, False,\n",
              "       False])>"
            ]
          },
          "metadata": {
            "tags": []
          },
          "execution_count": 54
        }
      ]
    },
    {
      "cell_type": "code",
      "metadata": {
        "colab": {
          "base_uri": "https://localhost:8080/"
        },
        "id": "H8YFdnNn_rzy",
        "outputId": "6aba6284-ac2e-48c3-ad3a-bca00c948dff"
      },
      "source": [
        "onehot_encoding = tf.cast(class_names == cls_name, tf.uint8)\n",
        "onehot_encoding"
      ],
      "execution_count": 56,
      "outputs": [
        {
          "output_type": "execute_result",
          "data": {
            "text/plain": [
              "<tf.Tensor: shape=(10,), dtype=uint8, numpy=array([0, 0, 0, 0, 0, 0, 1, 0, 0, 0], dtype=uint8)>"
            ]
          },
          "metadata": {
            "tags": []
          },
          "execution_count": 56
        }
      ]
    },
    {
      "cell_type": "code",
      "metadata": {
        "id": "5UHwVdwZ_yZm"
      },
      "source": [
        "def get_label(path) : \n",
        "    fname = tf.strings.split(path, '_')[-1]\n",
        "    cls_name = tf.strings.regex_replace(fname, '.png','')\n",
        "    onehot_encoding = tf.cast(class_names == cls_name, tf.uint8)\n",
        "    return onehot_encoding"
      ],
      "execution_count": 57,
      "outputs": []
    },
    {
      "cell_type": "code",
      "metadata": {
        "id": "s-3MTjFpAirT"
      },
      "source": [
        "def read_image_label(path) :\n",
        "\n",
        "    return tf.io.decode_image(tf.io.read_file(path)), get_label(path)\n"
      ],
      "execution_count": 59,
      "outputs": []
    },
    {
      "cell_type": "code",
      "metadata": {
        "id": "3u_8R7dNAHlP"
      },
      "source": [
        "dataset = tf.data.Dataset.from_tensor_slices(train_paths)\n",
        "dataset = dataset.map(read_image_label) # 이젠 read_image 함수를 쓸 수 없음, read_image는 input이 한개이기 때문 그렇지만 지금은 두개의 인풋이다. \n",
        "dataset = dataset.batch(batch_size = 8)\n",
        "dataset = dataset.repeat() \n"
      ],
      "execution_count": 60,
      "outputs": []
    },
    {
      "cell_type": "code",
      "metadata": {
        "id": "YDIGzaJRAyvy"
      },
      "source": [
        "image, label = next(iter(dataset))"
      ],
      "execution_count": 61,
      "outputs": []
    },
    {
      "cell_type": "code",
      "metadata": {
        "colab": {
          "base_uri": "https://localhost:8080/"
        },
        "id": "UQhWVm8rA-Lx",
        "outputId": "cb0e39b4-3c44-4ffe-9979-e27154fe3d54"
      },
      "source": [
        "image.shape, label.shape"
      ],
      "execution_count": 62,
      "outputs": [
        {
          "output_type": "execute_result",
          "data": {
            "text/plain": [
              "(TensorShape([8, 32, 32, 3]), TensorShape([8, 10]))"
            ]
          },
          "metadata": {
            "tags": []
          },
          "execution_count": 62
        }
      ]
    },
    {
      "cell_type": "code",
      "metadata": {
        "id": "2NZ2reM5A_Jd"
      },
      "source": [
        ""
      ],
      "execution_count": null,
      "outputs": []
    }
  ]
}