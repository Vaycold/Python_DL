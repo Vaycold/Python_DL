{
  "nbformat": 4,
  "nbformat_minor": 0,
  "metadata": {
    "colab": {
      "name": "MNIST  연습.ipynb",
      "provenance": [],
      "authorship_tag": "ABX9TyMRWSRy3Q8tdis3cFQ7Yalf",
      "include_colab_link": true
    },
    "kernelspec": {
      "name": "python3",
      "display_name": "Python 3"
    },
    "language_info": {
      "name": "python"
    }
  },
  "cells": [
    {
      "cell_type": "markdown",
      "metadata": {
        "id": "view-in-github",
        "colab_type": "text"
      },
      "source": [
        "<a href=\"https://colab.research.google.com/github/Vaycold/Python_DL/blob/main/MNIST%20%EC%97%B0%EC%8A%B5(2).ipynb\" target=\"_parent\"><img src=\"https://colab.research.google.com/assets/colab-badge.svg\" alt=\"Open In Colab\"/></a>"
      ]
    },
    {
      "cell_type": "markdown",
      "metadata": {
        "id": "uwOK3XGByBPw"
      },
      "source": [
        "## Load the Dataset"
      ]
    },
    {
      "cell_type": "code",
      "metadata": {
        "colab": {
          "base_uri": "https://localhost:8080/"
        },
        "id": "uZa6UOCrxQTh",
        "outputId": "29ba807e-1e50-4cc4-b222-ac646a866f54"
      },
      "source": [
        "import os\n",
        "import numpy as np\n",
        "import tensorflow as tf\n",
        "from PIL import Image\n",
        "import matplotlib.pyplot as plt\n",
        "from glob import glob\n",
        "from natsort import natsorted\n",
        "from google.colab import drive\n",
        "drive.mount('/content/MyDrive')"
      ],
      "execution_count": 1,
      "outputs": [
        {
          "output_type": "stream",
          "text": [
            "Mounted at /content/MyDrive\n"
          ],
          "name": "stdout"
        }
      ]
    },
    {
      "cell_type": "code",
      "metadata": {
        "id": "P9RVyrMNxSkb"
      },
      "source": [
        "google_path = '/content/MyDrive/MyDrive/part3--이미지-분석으로-배우는-tensorflow-2.0과-pytorch/Part3) 이미지 분석으로 배우는 tensorflow 2.0과 Pytorch/dataset/mnist_png'"
      ],
      "execution_count": 2,
      "outputs": []
    },
    {
      "cell_type": "code",
      "metadata": {
        "colab": {
          "base_uri": "https://localhost:8080/",
          "height": 35
        },
        "id": "ohIwj5d4xbxB",
        "outputId": "c1dbd00a-78d8-4fd9-ca2e-745d35077849"
      },
      "source": [
        "data_paths = glob(google_path + '/training/*/*.png') # 트레이닝 폴더에 있는 png 전부다 가져오기\n",
        "data_paths = natsorted(data_paths)\n",
        "data_paths[0]"
      ],
      "execution_count": 3,
      "outputs": [
        {
          "output_type": "execute_result",
          "data": {
            "application/vnd.google.colaboratory.intrinsic+json": {
              "type": "string"
            },
            "text/plain": [
              "'/content/MyDrive/MyDrive/part3--이미지-분석으로-배우는-tensorflow-2.0과-pytorch/Part3) 이미지 분석으로 배우는 tensorflow 2.0과 Pytorch/dataset/mnist_png/training/0/1.png'"
            ]
          },
          "metadata": {
            "tags": []
          },
          "execution_count": 3
        }
      ]
    },
    {
      "cell_type": "code",
      "metadata": {
        "colab": {
          "base_uri": "https://localhost:8080/",
          "height": 35
        },
        "id": "TI7Sau1lxix5",
        "outputId": "b7f93146-b971-49ab-d782-67c7c7469120"
      },
      "source": [
        "path = data_paths[0]\n",
        "path"
      ],
      "execution_count": 5,
      "outputs": [
        {
          "output_type": "execute_result",
          "data": {
            "application/vnd.google.colaboratory.intrinsic+json": {
              "type": "string"
            },
            "text/plain": [
              "'/content/MyDrive/MyDrive/part3--이미지-분석으로-배우는-tensorflow-2.0과-pytorch/Part3) 이미지 분석으로 배우는 tensorflow 2.0과 Pytorch/dataset/mnist_png/training/0/1.png'"
            ]
          },
          "metadata": {
            "tags": []
          },
          "execution_count": 5
        }
      ]
    },
    {
      "cell_type": "code",
      "metadata": {
        "id": "zkmgARPD2Yw7"
      },
      "source": [
        "label_nums = natsorted(os.listdir(google_path + '/training'))"
      ],
      "execution_count": 15,
      "outputs": []
    },
    {
      "cell_type": "markdown",
      "metadata": {
        "id": "kkp4UxsXyFr2"
      },
      "source": [
        "## Load the image"
      ]
    },
    {
      "cell_type": "code",
      "metadata": {
        "colab": {
          "base_uri": "https://localhost:8080/"
        },
        "id": "dhze2lshxpsG",
        "outputId": "e420740d-2c2c-4494-dd8d-13725906bee8"
      },
      "source": [
        "# Load image\n",
        "\n",
        "gfile = tf.io.read_file(path)\n",
        "image = tf.io.decode_image(gfile)\n",
        "image.shape"
      ],
      "execution_count": 6,
      "outputs": [
        {
          "output_type": "execute_result",
          "data": {
            "text/plain": [
              "TensorShape([28, 28, 1])"
            ]
          },
          "metadata": {
            "tags": []
          },
          "execution_count": 6
        }
      ]
    },
    {
      "cell_type": "code",
      "metadata": {
        "colab": {
          "base_uri": "https://localhost:8080/",
          "height": 265
        },
        "id": "68ivZuMrySmk",
        "outputId": "b1f60b37-2d95-46c2-fc5a-189aabc011a7"
      },
      "source": [
        "plt.imshow(image[:,:,0], 'gray')\n",
        "plt.show()"
      ],
      "execution_count": 7,
      "outputs": [
        {
          "output_type": "display_data",
          "data": {
            "image/png": "[encoded data removed]",
            "text/plain": [
              "<Figure size 432x288 with 1 Axes>"
            ]
          },
          "metadata": {
            "tags": [],
            "needs_background": "light"
          }
        }
      ]
    },
    {
      "cell_type": "markdown",
      "metadata": {
        "id": "Lu_0vhiMygZI"
      },
      "source": [
        "## Data Generator"
      ]
    },
    {
      "cell_type": "code",
      "metadata": {
        "id": "XBQs9H0EyYtE"
      },
      "source": [
        "# Set Data Generator\n",
        "from tensorflow.keras.preprocessing.image import ImageDataGenerator"
      ],
      "execution_count": 8,
      "outputs": []
    },
    {
      "cell_type": "code",
      "metadata": {
        "id": "W7iufsUCywpG"
      },
      "source": [
        "datagen = ImageDataGenerator(\n",
        "    rotation_range = 20,\n",
        "    width_shift_range = 0.2,\n",
        "    height_shift_range = 0.2,\n",
        "    horizontal_flip = True\n",
        ")"
      ],
      "execution_count": 9,
      "outputs": []
    },
    {
      "cell_type": "code",
      "metadata": {
        "colab": {
          "base_uri": "https://localhost:8080/"
        },
        "id": "RRwcYUnozDt_",
        "outputId": "afb9bd64-16b4-41c9-dc8a-02f561c8ea6c"
      },
      "source": [
        "inputs = image[tf.newaxis,...]\n",
        "inputs.shape"
      ],
      "execution_count": 10,
      "outputs": [
        {
          "output_type": "execute_result",
          "data": {
            "text/plain": [
              "TensorShape([1, 28, 28, 1])"
            ]
          },
          "metadata": {
            "tags": []
          },
          "execution_count": 10
        }
      ]
    },
    {
      "cell_type": "code",
      "metadata": {
        "colab": {
          "base_uri": "https://localhost:8080/"
        },
        "id": "ukVGfQWNzPFP",
        "outputId": "586d3816-d728-4c8a-e4b0-df4a13cc726b"
      },
      "source": [
        "image = next(iter(datagen.flow(inputs)))\n",
        "image.shape"
      ],
      "execution_count": 11,
      "outputs": [
        {
          "output_type": "execute_result",
          "data": {
            "text/plain": [
              "(1, 28, 28, 1)"
            ]
          },
          "metadata": {
            "tags": []
          },
          "execution_count": 11
        }
      ]
    },
    {
      "cell_type": "code",
      "metadata": {
        "colab": {
          "base_uri": "https://localhost:8080/",
          "height": 216
        },
        "id": "y0wisVoMzyT1",
        "outputId": "cf08e99a-23b6-45c9-afbc-ca5a35e4a77a"
      },
      "source": [
        "plt.subplot(121)\n",
        "plt.title('DataGen')\n",
        "plt.imshow(image[0,:,:,0], 'gray')\n",
        "# plt.imshow(np.squeeze(image), 'gray) # 이 방법도 가능\n",
        "\n",
        "\n",
        "plt.subplot(122)\n",
        "plt.title('Original')\n",
        "plt.imshow(tf.io.decode_image(tf.io.read_file(path))[:,:,0], 'gray')\n",
        "plt.show()"
      ],
      "execution_count": 14,
      "outputs": [
        {
          "output_type": "display_data",
          "data": {
            "image/png": "[encoded data removed]",
            "text/plain": [
              "<Figure size 432x288 with 2 Axes>"
            ]
          },
          "metadata": {
            "tags": [],
            "needs_background": "light"
          }
        }
      ]
    },
    {
      "cell_type": "markdown",
      "metadata": {
        "id": "Yri9QJGP2gAC"
      },
      "source": [
        "## New image 오픈하지 않고 로드하기 "
      ]
    },
    {
      "cell_type": "code",
      "metadata": {
        "id": "Hxn7u5P90Dxm"
      },
      "source": [
        "train_dir = google_path + '/training'\n",
        "test_dir  = google_path + '/testing'"
      ],
      "execution_count": 16,
      "outputs": []
    },
    {
      "cell_type": "code",
      "metadata": {
        "id": "uzLxvUs_2tgb"
      },
      "source": [
        "# Hyper Parameter Tunning\n",
        "\n",
        "num_epochs = 10\n",
        "batch_size = 32\n",
        "lr = 1e-03\n",
        "dropout_rate = 0.7\n",
        "input_shape = (28,28,1)\n",
        "num_classes = 10"
      ],
      "execution_count": 18,
      "outputs": []
    },
    {
      "cell_type": "code",
      "metadata": {
        "id": "A8VM47-K215w"
      },
      "source": [
        "# Preprocessing\n",
        "\n",
        "train_datagen = ImageDataGenerator(\n",
        "    rescale = 1/255.,\n",
        "    width_shift_range = 0.3,\n",
        "    zoom_range = 0.2,\n",
        "    horizontal_flip = True\n",
        ")\n",
        "\n",
        "test_datagen = ImageDataGenerator(\n",
        "    rescale = 1/255.\n",
        ")"
      ],
      "execution_count": 19,
      "outputs": []
    },
    {
      "cell_type": "code",
      "metadata": {
        "colab": {
          "base_uri": "https://localhost:8080/"
        },
        "id": "31yByloE3rnr",
        "outputId": "31abf17e-d39d-41a0-d2bf-7a5550d5e348"
      },
      "source": [
        "train_generator = train_datagen.flow_from_directory(\n",
        "    train_dir,\n",
        "    target_size = input_shape[:2],\n",
        "    batch_size = batch_size,\n",
        "    color_mode = 'grayscale',\n",
        "    class_mode = 'categorical',\n",
        ")"
      ],
      "execution_count": 21,
      "outputs": [
        {
          "output_type": "stream",
          "text": [
            "Found 60001 images belonging to 10 classes.\n"
          ],
          "name": "stdout"
        }
      ]
    },
    {
      "cell_type": "code",
      "metadata": {
        "colab": {
          "base_uri": "https://localhost:8080/"
        },
        "id": "C9jY4tdA4TR8",
        "outputId": "10e79f43-7526-48da-e6ba-0be587af0de6"
      },
      "source": [
        "validation_generator = test_datagen.flow_from_directory(\n",
        "    test_dir,\n",
        "    target_size = input_shape[:2],\n",
        "    batch_size = batch_size,\n",
        "    color_mode = 'grayscale',\n",
        "    class_mode = 'categorical',\n",
        ")"
      ],
      "execution_count": 22,
      "outputs": [
        {
          "output_type": "stream",
          "text": [
            "Found 10000 images belonging to 10 classes.\n"
          ],
          "name": "stdout"
        }
      ]
    },
    {
      "cell_type": "code",
      "metadata": {
        "id": "dgOi5zs-4cT5"
      },
      "source": [
        ""
      ],
      "execution_count": null,
      "outputs": []
    }
  ]
}