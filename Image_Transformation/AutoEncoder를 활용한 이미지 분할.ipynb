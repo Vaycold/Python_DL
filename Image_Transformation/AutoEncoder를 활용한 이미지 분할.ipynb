{
  "nbformat": 4,
  "nbformat_minor": 0,
  "metadata": {
    "colab": {
      "name": "배경지우기.ipynb",
      "provenance": [],
      "authorship_tag": "ABX9TyOG9vrsrjjkTNCg1wNK+4l+",
      "include_colab_link": true
    },
    "kernelspec": {
      "name": "python3",
      "display_name": "Python 3"
    },
    "language_info": {
      "name": "python"
    }
  },
  "cells": [
    {
      "cell_type": "markdown",
      "metadata": {
        "id": "view-in-github",
        "colab_type": "text"
      },
      "source": [
        "<a href=\"https://colab.research.google.com/github/Vaycold/Python_DL/blob/main/Image_Transformation/AutoEncoder%EB%A5%BC%20%ED%99%9C%EC%9A%A9%ED%95%9C%20%EC%9D%B4%EB%AF%B8%EC%A7%80%20%EB%B6%84%ED%95%A0.ipynb\" target=\"_parent\"><img src=\"https://colab.research.google.com/assets/colab-badge.svg\" alt=\"Open In Colab\"/></a>"
      ]
    },
    {
      "cell_type": "markdown",
      "metadata": {
        "id": "UsX7HEToxc1I"
      },
      "source": [
        "## Goal\n",
        "```\n",
        " - 작게 줄인 PFCN 데이터를 이용하여 사람 영역 추출\n",
        " - 큰 사진을 작게 줄이기\n",
        " - 이미지에 대한 Autoencoder식 접근\n"
      ]
    },
    {
      "cell_type": "code",
      "metadata": {
        "id": "obc9baRPxfHO"
      },
      "source": [
        "# Import package\n",
        "\n",
        "import tensorflow as tf\n",
        "from tensorflow import keras\n",
        "from keras.layers import Dense\n",
        "from keras.models import Sequential\n",
        "\n",
        "import numpy as np\n",
        "import pandas as pd\n",
        "import matplotlib.pyplot as plt\n",
        "import seaborn as sns\n",
        "import os\n",
        "import warnings\n",
        "from google.colab import drive\n",
        "from IPython.display import Image\n",
        "\n",
        "warnings.filterwarnings('ignore')"
      ],
      "execution_count": 1,
      "outputs": []
    },
    {
      "cell_type": "code",
      "metadata": {
        "colab": {
          "base_uri": "https://localhost:8080/"
        },
        "id": "wMf65RUIyj_P",
        "outputId": "b5056d5d-a611-4ce6-f160-a541180fb09b"
      },
      "source": [
        "drive.mount('/content/MyDrive')"
      ],
      "execution_count": 2,
      "outputs": [
        {
          "output_type": "stream",
          "text": [
            "Mounted at /content/MyDrive\n"
          ],
          "name": "stdout"
        }
      ]
    },
    {
      "cell_type": "code",
      "metadata": {
        "colab": {
          "base_uri": "https://localhost:8080/"
        },
        "id": "pTf_jxlLyqLW",
        "outputId": "6e95f142-2205-4b48-9b6a-f7878073a9a8"
      },
      "source": [
        "os.listdir()"
      ],
      "execution_count": 3,
      "outputs": [
        {
          "output_type": "execute_result",
          "data": {
            "text/plain": [
              "['.config', 'MyDrive', 'sample_data']"
            ]
          },
          "metadata": {
            "tags": []
          },
          "execution_count": 3
        }
      ]
    },
    {
      "cell_type": "code",
      "metadata": {
        "colab": {
          "base_uri": "https://localhost:8080/"
        },
        "id": "MOyJvTVUy0A2",
        "outputId": "87519ed1-35bd-4d6c-b06e-b8103dcc086b"
      },
      "source": [
        "os.listdir('MyDrive/MyDrive/fastcampus/DL_300/이미지변환/dataset')"
      ],
      "execution_count": 4,
      "outputs": [
        {
          "output_type": "execute_result",
          "data": {
            "text/plain": [
              "['ReadMe.txt', 'training', 'testing', 'pfcn_small.npz']"
            ]
          },
          "metadata": {
            "tags": []
          },
          "execution_count": 4
        }
      ]
    },
    {
      "cell_type": "markdown",
      "metadata": {
        "id": "s-G329fhHsOC"
      },
      "source": [
        "## Dataload"
      ]
    },
    {
      "cell_type": "code",
      "metadata": {
        "id": "Dq8MjoQ_zMEW"
      },
      "source": [
        "#train_path = 'MyDrive/MyDrive/fastcampus/DL_300/이미지변환/dataset/training' # \n",
        "#test_path = 'MyDrive/MyDrive/fastcampus/DL_300/이미지변환/dataset/testing'"
      ],
      "execution_count": null,
      "outputs": []
    },
    {
      "cell_type": "code",
      "metadata": {
        "id": "05o32OVFzWoV"
      },
      "source": [
        "import imageio\n",
        "x = imageio.imread(train_path+'/00001.png')\n",
        "y = imageio.imread(train_path+'/00001_matte.png')\n",
        "\n",
        "# 이러한 방식이 있다고만 알아두자"
      ],
      "execution_count": null,
      "outputs": []
    },
    {
      "cell_type": "code",
      "metadata": {
        "colab": {
          "base_uri": "https://localhost:8080/"
        },
        "id": "Ovb3kaCg0BTW",
        "outputId": "72f1b525-3d0b-4d77-ada7-92d1b2c6850b"
      },
      "source": [
        "print(x.shape, y.shape)"
      ],
      "execution_count": null,
      "outputs": [
        {
          "output_type": "stream",
          "text": [
            "(800, 600, 3) (800, 600)\n"
          ],
          "name": "stdout"
        }
      ]
    },
    {
      "cell_type": "code",
      "metadata": {
        "colab": {
          "base_uri": "https://localhost:8080/",
          "height": 521
        },
        "id": "Bs--btqR0JSO",
        "outputId": "f9519e08-e6ef-434e-e983-e0690d32294b"
      },
      "source": [
        "# visualizing x & y\n",
        "plt.imshow(x)\n",
        "plt.colorbar()\n",
        "plt.show()\n",
        "plt.imshow(y)\n",
        "plt.colorbar()\n",
        "plt.show()"
      ],
      "execution_count": null,
      "outputs": [
        {
          "output_type": "display_data",
          "data": {
            "image/png": "[encoded data removed]",
            "text/plain": [
              "<Figure size 432x288 with 2 Axes>"
            ]
          },
          "metadata": {
            "tags": [],
            "needs_background": "light"
          }
        },
        {
          "output_type": "display_data",
          "data": {
            "image/png": "[encoded data removed]",
            "text/plain": [
              "<Figure size 432x288 with 2 Axes>"
            ]
          },
          "metadata": {
            "tags": [],
            "needs_background": "light"
          }
        }
      ]
    },
    {
      "cell_type": "code",
      "metadata": {
        "id": "4YfTFzg60JNd"
      },
      "source": [
        "# Decrease the dataset's size // (800,600,3) -> (100,75,3) // (800,600) -> (100,75)\n",
        "from skimage.transform import resize\n",
        "x1 = resize(x, (100,75))\n",
        "y1 = resize(y, (100,75))"
      ],
      "execution_count": null,
      "outputs": []
    },
    {
      "cell_type": "code",
      "metadata": {
        "colab": {
          "base_uri": "https://localhost:8080/"
        },
        "id": "M-3Q6ibq0JKh",
        "outputId": "94a6f463-8ea7-4cb2-88be-ee31fe94ddba"
      },
      "source": [
        "print(x1.shape, y1.shape)"
      ],
      "execution_count": null,
      "outputs": [
        {
          "output_type": "stream",
          "text": [
            "(100, 75, 3) (100, 75)\n"
          ],
          "name": "stdout"
        }
      ]
    },
    {
      "cell_type": "code",
      "metadata": {
        "id": "ORnG5pUf1eLl"
      },
      "source": [
        "# 위 방식대로 줄일 수도 있지만 그냥 줄인 파일을 다운받아서 사용하기로 하자."
      ],
      "execution_count": null,
      "outputs": []
    },
    {
      "cell_type": "code",
      "metadata": {
        "id": "3ZEBwFmTHwpM",
        "outputId": "c82d4376-1c5b-4962-b2b3-b7b40c04bdaa",
        "colab": {
          "base_uri": "https://localhost:8080/"
        }
      },
      "source": [
        "os.listdir('MyDrive/MyDrive/fastcampus/DL_300/이미지변환/dataset')"
      ],
      "execution_count": 5,
      "outputs": [
        {
          "output_type": "execute_result",
          "data": {
            "text/plain": [
              "['ReadMe.txt', 'training', 'testing', 'pfcn_small.npz']"
            ]
          },
          "metadata": {
            "tags": []
          },
          "execution_count": 5
        }
      ]
    },
    {
      "cell_type": "code",
      "metadata": {
        "id": "mZVSGcy3Ik56"
      },
      "source": [
        "# Data load\n",
        "dataset_path = 'MyDrive/MyDrive/fastcampus/DL_300/이미지변환/dataset'\n",
        "pfcn_small = np.load(dataset_path + '/pfcn_small.npz')"
      ],
      "execution_count": 6,
      "outputs": []
    },
    {
      "cell_type": "code",
      "metadata": {
        "id": "lmkhbBlyI5jz",
        "outputId": "9ba2a014-3746-47b0-c75a-422d5bf33269",
        "colab": {
          "base_uri": "https://localhost:8080/"
        }
      },
      "source": [
        "pfcn_small['train_images'].shape"
      ],
      "execution_count": 9,
      "outputs": [
        {
          "output_type": "execute_result",
          "data": {
            "text/plain": [
              "(1700, 100, 75, 3)"
            ]
          },
          "metadata": {
            "tags": []
          },
          "execution_count": 9
        }
      ]
    },
    {
      "cell_type": "code",
      "metadata": {
        "id": "ftWXDQQiI5hx",
        "outputId": "d571a9f8-b402-427e-b08a-3facb7e8498f",
        "colab": {
          "base_uri": "https://localhost:8080/"
        }
      },
      "source": [
        "pfcn_small['train_mattes'].shape"
      ],
      "execution_count": 10,
      "outputs": [
        {
          "output_type": "execute_result",
          "data": {
            "text/plain": [
              "(1700, 100, 75)"
            ]
          },
          "metadata": {
            "tags": []
          },
          "execution_count": 10
        }
      ]
    },
    {
      "cell_type": "code",
      "metadata": {
        "id": "q3cYHuVzI5fL",
        "outputId": "be59b541-4b2e-4681-fcd6-cb58568aa12f",
        "colab": {
          "base_uri": "https://localhost:8080/"
        }
      },
      "source": [
        "pfcn_small['test_images'].shape"
      ],
      "execution_count": 11,
      "outputs": [
        {
          "output_type": "execute_result",
          "data": {
            "text/plain": [
              "(300, 100, 75, 3)"
            ]
          },
          "metadata": {
            "tags": []
          },
          "execution_count": 11
        }
      ]
    },
    {
      "cell_type": "code",
      "metadata": {
        "id": "9ImbU6QeI5dL",
        "outputId": "78b3d0a9-1e1e-4d38-80e6-099bfd78b342",
        "colab": {
          "base_uri": "https://localhost:8080/"
        }
      },
      "source": [
        "pfcn_small['test_mattes'].shape"
      ],
      "execution_count": 12,
      "outputs": [
        {
          "output_type": "execute_result",
          "data": {
            "text/plain": [
              "(300, 100, 75)"
            ]
          },
          "metadata": {
            "tags": []
          },
          "execution_count": 12
        }
      ]
    },
    {
      "cell_type": "code",
      "metadata": {
        "id": "1rNHou-XI5a_"
      },
      "source": [
        "train_images = pfcn_small['train_images']\n",
        "train_mattes = pfcn_small['train_mattes']\n",
        "test_images = pfcn_small['test_images']\n",
        "test_mattes = pfcn_small['test_mattes']"
      ],
      "execution_count": 13,
      "outputs": []
    },
    {
      "cell_type": "code",
      "metadata": {
        "id": "6V_Oz3eNI5YZ",
        "outputId": "5e131d05-fbb5-4237-d222-24bd9ad720a9",
        "colab": {
          "base_uri": "https://localhost:8080/"
        }
      },
      "source": [
        "# 0이 아닌 값들 출력\n",
        "list(filter(lambda x : x !=0, train_images[0].reshape(-1)))[:10]"
      ],
      "execution_count": 16,
      "outputs": [
        {
          "output_type": "execute_result",
          "data": {
            "text/plain": [
              "[0.2362745098039194,\n",
              " 0.3480392156862709,\n",
              " 0.6470588235294088,\n",
              " 0.24509803921568626,\n",
              " 0.3568627450980406,\n",
              " 0.6558823529411772,\n",
              " 0.2549019607843108,\n",
              " 0.3647058823529383,\n",
              " 0.6647058823529384,\n",
              " 0.23725490196078006]"
            ]
          },
          "metadata": {
            "tags": []
          },
          "execution_count": 16
        }
      ]
    },
    {
      "cell_type": "code",
      "metadata": {
        "id": "9onax3T2I5WY",
        "outputId": "35d4537e-1d96-49bf-892a-aae8b2d95439",
        "colab": {
          "base_uri": "https://localhost:8080/"
        }
      },
      "source": [
        "# 이 방법을 더 추천\n",
        "train_images[train_images!=0]"
      ],
      "execution_count": 17,
      "outputs": [
        {
          "output_type": "execute_result",
          "data": {
            "text/plain": [
              "array([0.23627451, 0.34803922, 0.64705882, ..., 0.05588235, 0.0245098 ,\n",
              "       0.01470588])"
            ]
          },
          "metadata": {
            "tags": []
          },
          "execution_count": 17
        }
      ]
    },
    {
      "cell_type": "markdown",
      "metadata": {
        "id": "zTcu-xtQYS6w"
      },
      "source": [
        "## Pre-processing\n"
      ]
    },
    {
      "cell_type": "code",
      "metadata": {
        "id": "UQfBoTZXKHus",
        "outputId": "6f4a3e8a-3e47-475b-ad33-1ea1c83affaf",
        "colab": {
          "base_uri": "https://localhost:8080/"
        }
      },
      "source": [
        "# 최대값 최소값 확인\n",
        "print(train_images.max(), train_images.min())"
      ],
      "execution_count": 20,
      "outputs": [
        {
          "output_type": "stream",
          "text": [
            "1.0 0.0\n"
          ],
          "name": "stdout"
        }
      ]
    },
    {
      "cell_type": "code",
      "metadata": {
        "id": "Q3ISzcpENQlD",
        "outputId": "33bb57a9-6015-4f4a-cc90-6b5e21bdc8f8",
        "colab": {
          "base_uri": "https://localhost:8080/"
        }
      },
      "source": [
        "train_mattes[0].shape"
      ],
      "execution_count": 22,
      "outputs": [
        {
          "output_type": "execute_result",
          "data": {
            "text/plain": [
              "(100, 75)"
            ]
          },
          "metadata": {
            "tags": []
          },
          "execution_count": 22
        }
      ]
    },
    {
      "cell_type": "code",
      "metadata": {
        "id": "BVSzwqU2KHs_"
      },
      "source": [
        "# mattes의 shape 변경\n"
      ],
      "execution_count": null,
      "outputs": []
    },
    {
      "cell_type": "code",
      "metadata": {
        "id": "tI9HIThuKHqc"
      },
      "source": [
        ""
      ],
      "execution_count": null,
      "outputs": []
    },
    {
      "cell_type": "code",
      "metadata": {
        "id": "3HsXrRCQKHoi"
      },
      "source": [
        ""
      ],
      "execution_count": null,
      "outputs": []
    },
    {
      "cell_type": "code",
      "metadata": {
        "id": "v6sKUiWJKHmD"
      },
      "source": [
        ""
      ],
      "execution_count": null,
      "outputs": []
    },
    {
      "cell_type": "code",
      "metadata": {
        "id": "BaaA1cMcKHjr"
      },
      "source": [
        ""
      ],
      "execution_count": null,
      "outputs": []
    },
    {
      "cell_type": "code",
      "metadata": {
        "id": "4xtY0hWqKHhe"
      },
      "source": [
        ""
      ],
      "execution_count": null,
      "outputs": []
    },
    {
      "cell_type": "markdown",
      "metadata": {
        "id": "t7EGEpDhxdji"
      },
      "source": [
        "## Goal\n",
        "```\n",
        " - 작게 줄인 PFCN 데이터를 이용하여 사람 영역 추출\n",
        " - 큰 사진을 작게 줄이기\n",
        " - 이미지에 대한 Autoencoder식 접근\n"
      ]
    },
    {
      "cell_type": "markdown",
      "metadata": {
        "id": "r5CRo6Clxdqb"
      },
      "source": [
        "## Goal\n",
        "```\n",
        " - 작게 줄인 PFCN 데이터를 이용하여 사람 영역 추출\n",
        " - 큰 사진을 작게 줄이기\n",
        " - 이미지에 대한 Autoencoder식 접근\n"
      ]
    },
    {
      "cell_type": "markdown",
      "metadata": {
        "id": "LivrrKDPxduG"
      },
      "source": [
        "## Goal\n",
        "```\n",
        " - 작게 줄인 PFCN 데이터를 이용하여 사람 영역 추출\n",
        " - 큰 사진을 작게 줄이기\n",
        " - 이미지에 대한 Autoencoder식 접근\n"
      ]
    },
    {
      "cell_type": "markdown",
      "metadata": {
        "id": "_ZfBgkAXxdw1"
      },
      "source": [
        "## Goal\n",
        "```\n",
        " - 작게 줄인 PFCN 데이터를 이용하여 사람 영역 추출\n",
        " - 큰 사진을 작게 줄이기\n",
        " - 이미지에 대한 Autoencoder식 접근\n"
      ]
    },
    {
      "cell_type": "code",
      "metadata": {
        "id": "EGdD-0VYWp9S"
      },
      "source": [
        ""
      ],
      "execution_count": null,
      "outputs": []
    }
  ]
}