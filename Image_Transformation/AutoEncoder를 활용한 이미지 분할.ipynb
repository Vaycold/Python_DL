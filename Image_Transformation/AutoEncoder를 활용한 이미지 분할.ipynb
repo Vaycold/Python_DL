{
  "nbformat": 4,
  "nbformat_minor": 0,
  "metadata": {
    "colab": {
      "name": "배경지우기.ipynb",
      "provenance": [],
      "authorship_tag": "ABX9TyNP4tSVyMxyypxLMP2L4Rzo",
      "include_colab_link": true
    },
    "kernelspec": {
      "name": "python3",
      "display_name": "Python 3"
    },
    "language_info": {
      "name": "python"
    }
  },
  "cells": [
    {
      "cell_type": "markdown",
      "metadata": {
        "id": "view-in-github",
        "colab_type": "text"
      },
      "source": [
        "<a href=\"https://colab.research.google.com/github/Vaycold/Python_DL/blob/main/Image_Transformation/AutoEncoder%EB%A5%BC%20%ED%99%9C%EC%9A%A9%ED%95%9C%20%EC%9D%B4%EB%AF%B8%EC%A7%80%20%EB%B6%84%ED%95%A0.ipynb\" target=\"_parent\"><img src=\"https://colab.research.google.com/assets/colab-badge.svg\" alt=\"Open In Colab\"/></a>"
      ]
    },
    {
      "cell_type": "markdown",
      "metadata": {
        "id": "zTcu-xtQYS6w"
      },
      "source": [
        "## Goal\n",
        "```\n",
        " - 작게 줄인 PFCN 데이터를 이용하여 사람 영역 추출\n",
        " - 큰 사진을 작게 줄이기\n",
        " - 이미지에 대한 Autoencoder식 접근\n"
      ]
    },
    {
      "cell_type": "code",
      "metadata": {
        "id": "EGdD-0VYWp9S"
      },
      "source": [
        ""
      ],
      "execution_count": null,
      "outputs": []
    }
  ]
}