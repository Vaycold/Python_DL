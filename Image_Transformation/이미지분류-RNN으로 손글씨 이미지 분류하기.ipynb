{
  "nbformat": 4,
  "nbformat_minor": 0,
  "metadata": {
    "colab": {
      "name": "이미지분류 - RNN으로 손글씨 이미지 분류하기.ipynb",
      "provenance": [],
      "collapsed_sections": [],
      "authorship_tag": "ABX9TyNPYhUDyHA1ZZgqgXM4qL/m",
      "include_colab_link": true
    },
    "kernelspec": {
      "name": "python3",
      "display_name": "Python 3"
    },
    "language_info": {
      "name": "python"
    }
  },
  "cells": [
    {
      "cell_type": "markdown",
      "metadata": {
        "id": "view-in-github",
        "colab_type": "text"
      },
      "source": [
        "<a href=\"https://colab.research.google.com/github/moch1996/Vaycold/blob/main/Python_DL/%EC%9D%B4%EB%AF%B8%EC%A7%80%EB%B6%84%EB%A5%98-RNN%EC%9C%BC%EB%A1%9C%20%EC%86%90%EA%B8%80%EC%94%A8%20%EC%9D%B4%EB%AF%B8%EC%A7%80%20%EB%B6%84%EB%A5%98%ED%95%98%EA%B8%B0.ipynb\" target=\"_parent\"><img src=\"https://colab.research.google.com/assets/colab-badge.svg\" alt=\"Open In Colab\"/></a>"
      ]
    },
    {
      "cell_type": "markdown",
      "metadata": {
        "id": "j3voStHvgPui"
      },
      "source": [
        "MNIST 데이터셋 사용"
      ]
    },
    {
      "cell_type": "markdown",
      "metadata": {
        "id": "wFUCo3HXhO-X"
      },
      "source": [
        "## 라이브러리"
      ]
    },
    {
      "cell_type": "code",
      "metadata": {
        "id": "9WZ-NKJCgHf3"
      },
      "source": [
        "import tensorflow as tf\n",
        "from tensorflow import keras\n",
        "from keras.layers import Dense\n",
        "from keras.models import Sequential\n",
        "\n",
        "import pandas as pd\n",
        "import numpy as np\n",
        "import matplotlib.pyplot as plt\n",
        "import seaborn as sns\n",
        "import warnings\n",
        "from IPython.display import Image\n",
        "\n",
        "warnings.filterwarnings('ignore')\n",
        "\n",
        "SEED = 34"
      ],
      "execution_count": 1,
      "outputs": []
    },
    {
      "cell_type": "markdown",
      "metadata": {
        "id": "zddHPnich372"
      },
      "source": [
        "## 도입 전 기본 처리"
      ]
    },
    {
      "cell_type": "code",
      "metadata": {
        "id": "q3VB0a2jhTOv"
      },
      "source": [
        "# MNIST 데이터 살펴보기"
      ],
      "execution_count": 2,
      "outputs": []
    },
    {
      "cell_type": "code",
      "metadata": {
        "id": "aHLwr0yfiDAE",
        "outputId": "716e3731-7fb0-4a79-b796-f2d36b028c11",
        "colab": {
          "base_uri": "https://localhost:8080/"
        }
      },
      "source": [
        "mnist = keras.datasets.mnist\n",
        "# 튜플로 train과 test 셋 나눠서 가져오자\n",
        "((train_images, train_labels),(test_images, test_labels))= mnist.load_data()"
      ],
      "execution_count": 3,
      "outputs": [
        {
          "output_type": "stream",
          "text": [
            "Downloading data from https://storage.googleapis.com/tensorflow/tf-keras-datasets/mnist.npz\n",
            "11493376/11490434 [==============================] - 0s 0us/step\n"
          ],
          "name": "stdout"
        }
      ]
    },
    {
      "cell_type": "code",
      "metadata": {
        "colab": {
          "base_uri": "https://localhost:8080/"
        },
        "id": "g9qfeWR2iOWi",
        "outputId": "5a6295be-fad4-47ae-e145-c501dd67722d"
      },
      "source": [
        "# 데이터 shape 확인\n",
        "\n",
        "print('train_image : ',train_images.shape)\n",
        "print('train_labels : ',train_labels.shape)\n",
        "print('')\n",
        "print('test_image : ',test_images.shape)\n",
        "print('test_labels : ',test_labels.shape)"
      ],
      "execution_count": 4,
      "outputs": [
        {
          "output_type": "stream",
          "text": [
            "train_image :  (60000, 28, 28)\n",
            "train_labels :  (60000,)\n",
            "\n",
            "test_image :  (10000, 28, 28)\n",
            "test_labels :  (10000,)\n"
          ],
          "name": "stdout"
        }
      ]
    },
    {
      "cell_type": "code",
      "metadata": {
        "colab": {
          "base_uri": "https://localhost:8080/"
        },
        "id": "0hJAqOlOjFer",
        "outputId": "7dd3008b-7b34-4a27-891c-d124b775352c"
      },
      "source": [
        "# 28 x 28 형태의 이미지를 plt를 이용해서 출력해보자\n",
        "\n",
        "train_images.shape"
      ],
      "execution_count": 5,
      "outputs": [
        {
          "output_type": "execute_result",
          "data": {
            "text/plain": [
              "(60000, 28, 28)"
            ]
          },
          "metadata": {
            "tags": []
          },
          "execution_count": 5
        }
      ]
    },
    {
      "cell_type": "code",
      "metadata": {
        "colab": {
          "base_uri": "https://localhost:8080/"
        },
        "id": "Hz8qtWSnkBvU",
        "outputId": "9efb6da1-25a1-4590-8e33-f35dd70b790d"
      },
      "source": [
        "train_images[0].shape"
      ],
      "execution_count": 6,
      "outputs": [
        {
          "output_type": "execute_result",
          "data": {
            "text/plain": [
              "(28, 28)"
            ]
          },
          "metadata": {
            "tags": []
          },
          "execution_count": 6
        }
      ]
    },
    {
      "cell_type": "code",
      "metadata": {
        "colab": {
          "base_uri": "https://localhost:8080/"
        },
        "id": "DzTmXCj9kDgT",
        "outputId": "b1fdd6a5-0dba-4eaa-9475-0113ff474a7a"
      },
      "source": [
        "train_images[-1].shape\n",
        "\n",
        "# 6만장 중 하나를 떼오는 것임"
      ],
      "execution_count": 7,
      "outputs": [
        {
          "output_type": "execute_result",
          "data": {
            "text/plain": [
              "(28, 28)"
            ]
          },
          "metadata": {
            "tags": []
          },
          "execution_count": 7
        }
      ]
    },
    {
      "cell_type": "code",
      "metadata": {
        "colab": {
          "base_uri": "https://localhost:8080/",
          "height": 283
        },
        "id": "DrRlYU1PkIdp",
        "outputId": "562d279a-323d-4170-fa75-df4b1d6f5367"
      },
      "source": [
        "plt.figure()\n",
        "plt.imshow(train_images[0])\n",
        "plt.colorbar()\n",
        "plt.show()\n",
        "\n",
        "print(train_labels[0])"
      ],
      "execution_count": 8,
      "outputs": [
        {
          "output_type": "display_data",
          "data": {
            "image/png": "[encoded data removed]",
            "text/plain": [
              "<Figure size 432x288 with 2 Axes>"
            ]
          },
          "metadata": {
            "tags": [],
            "needs_background": "light"
          }
        },
        {
          "output_type": "stream",
          "text": [
            "5\n"
          ],
          "name": "stdout"
        }
      ]
    },
    {
      "cell_type": "code",
      "metadata": {
        "id": "Tby3XvD2kc07",
        "outputId": "81f77819-b7c2-43ea-b248-0ef17bd1df7b",
        "colab": {
          "base_uri": "https://localhost:8080/"
        }
      },
      "source": [
        "# train_ images에서 0이 아닌 값들을 출력해보자.\n",
        "# 0번째 데이터셋은 값이 0부터 255까지 있는데 어떤 데이터는 그렇지 않으면 스케일링이 필요할 수 있음\n",
        "# 그렇기 때문에 0이 아닌것들을 지워서 확인하려는 것\n",
        "# 우선 28 x 28을 1차원으로 바꾸자\n",
        "\n",
        "train_images[0].reshape(-1)"
      ],
      "execution_count": 9,
      "outputs": [
        {
          "output_type": "execute_result",
          "data": {
            "text/plain": [
              "array([  0,   0,   0,   0,   0,   0,   0,   0,   0,   0,   0,   0,   0,\n",
              "         0,   0,   0,   0,   0,   0,   0,   0,   0,   0,   0,   0,   0,\n",
              "         0,   0,   0,   0,   0,   0,   0,   0,   0,   0,   0,   0,   0,\n",
              "         0,   0,   0,   0,   0,   0,   0,   0,   0,   0,   0,   0,   0,\n",
              "         0,   0,   0,   0,   0,   0,   0,   0,   0,   0,   0,   0,   0,\n",
              "         0,   0,   0,   0,   0,   0,   0,   0,   0,   0,   0,   0,   0,\n",
              "         0,   0,   0,   0,   0,   0,   0,   0,   0,   0,   0,   0,   0,\n",
              "         0,   0,   0,   0,   0,   0,   0,   0,   0,   0,   0,   0,   0,\n",
              "         0,   0,   0,   0,   0,   0,   0,   0,   0,   0,   0,   0,   0,\n",
              "         0,   0,   0,   0,   0,   0,   0,   0,   0,   0,   0,   0,   0,\n",
              "         0,   0,   0,   0,   0,   0,   0,   0,   0,   0,   0,   0,   0,\n",
              "         0,   0,   0,   0,   0,   0,   0,   0,   0,   3,  18,  18,  18,\n",
              "       126, 136, 175,  26, 166, 255, 247, 127,   0,   0,   0,   0,   0,\n",
              "         0,   0,   0,   0,   0,   0,   0,  30,  36,  94, 154, 170, 253,\n",
              "       253, 253, 253, 253, 225, 172, 253, 242, 195,  64,   0,   0,   0,\n",
              "         0,   0,   0,   0,   0,   0,   0,   0,  49, 238, 253, 253, 253,\n",
              "       253, 253, 253, 253, 253, 251,  93,  82,  82,  56,  39,   0,   0,\n",
              "         0,   0,   0,   0,   0,   0,   0,   0,   0,   0,  18, 219, 253,\n",
              "       253, 253, 253, 253, 198, 182, 247, 241,   0,   0,   0,   0,   0,\n",
              "         0,   0,   0,   0,   0,   0,   0,   0,   0,   0,   0,   0,   0,\n",
              "        80, 156, 107, 253, 253, 205,  11,   0,  43, 154,   0,   0,   0,\n",
              "         0,   0,   0,   0,   0,   0,   0,   0,   0,   0,   0,   0,   0,\n",
              "         0,   0,   0,  14,   1, 154, 253,  90,   0,   0,   0,   0,   0,\n",
              "         0,   0,   0,   0,   0,   0,   0,   0,   0,   0,   0,   0,   0,\n",
              "         0,   0,   0,   0,   0,   0,   0, 139, 253, 190,   2,   0,   0,\n",
              "         0,   0,   0,   0,   0,   0,   0,   0,   0,   0,   0,   0,   0,\n",
              "         0,   0,   0,   0,   0,   0,   0,   0,   0,  11, 190, 253,  70,\n",
              "         0,   0,   0,   0,   0,   0,   0,   0,   0,   0,   0,   0,   0,\n",
              "         0,   0,   0,   0,   0,   0,   0,   0,   0,   0,   0,   0,  35,\n",
              "       241, 225, 160, 108,   1,   0,   0,   0,   0,   0,   0,   0,   0,\n",
              "         0,   0,   0,   0,   0,   0,   0,   0,   0,   0,   0,   0,   0,\n",
              "         0,   0,  81, 240, 253, 253, 119,  25,   0,   0,   0,   0,   0,\n",
              "         0,   0,   0,   0,   0,   0,   0,   0,   0,   0,   0,   0,   0,\n",
              "         0,   0,   0,   0,   0,  45, 186, 253, 253, 150,  27,   0,   0,\n",
              "         0,   0,   0,   0,   0,   0,   0,   0,   0,   0,   0,   0,   0,\n",
              "         0,   0,   0,   0,   0,   0,   0,   0,  16,  93, 252, 253, 187,\n",
              "         0,   0,   0,   0,   0,   0,   0,   0,   0,   0,   0,   0,   0,\n",
              "         0,   0,   0,   0,   0,   0,   0,   0,   0,   0,   0,   0, 249,\n",
              "       253, 249,  64,   0,   0,   0,   0,   0,   0,   0,   0,   0,   0,\n",
              "         0,   0,   0,   0,   0,   0,   0,   0,   0,   0,   0,  46, 130,\n",
              "       183, 253, 253, 207,   2,   0,   0,   0,   0,   0,   0,   0,   0,\n",
              "         0,   0,   0,   0,   0,   0,   0,   0,   0,   0,   0,  39, 148,\n",
              "       229, 253, 253, 253, 250, 182,   0,   0,   0,   0,   0,   0,   0,\n",
              "         0,   0,   0,   0,   0,   0,   0,   0,   0,   0,   0,  24, 114,\n",
              "       221, 253, 253, 253, 253, 201,  78,   0,   0,   0,   0,   0,   0,\n",
              "         0,   0,   0,   0,   0,   0,   0,   0,   0,   0,   0,  23,  66,\n",
              "       213, 253, 253, 253, 253, 198,  81,   2,   0,   0,   0,   0,   0,\n",
              "         0,   0,   0,   0,   0,   0,   0,   0,   0,   0,   0,  18, 171,\n",
              "       219, 253, 253, 253, 253, 195,  80,   9,   0,   0,   0,   0,   0,\n",
              "         0,   0,   0,   0,   0,   0,   0,   0,   0,   0,   0,  55, 172,\n",
              "       226, 253, 253, 253, 253, 244, 133,  11,   0,   0,   0,   0,   0,\n",
              "         0,   0,   0,   0,   0,   0,   0,   0,   0,   0,   0,   0,   0,\n",
              "       136, 253, 253, 253, 212, 135, 132,  16,   0,   0,   0,   0,   0,\n",
              "         0,   0,   0,   0,   0,   0,   0,   0,   0,   0,   0,   0,   0,\n",
              "         0,   0,   0,   0,   0,   0,   0,   0,   0,   0,   0,   0,   0,\n",
              "         0,   0,   0,   0,   0,   0,   0,   0,   0,   0,   0,   0,   0,\n",
              "         0,   0,   0,   0,   0,   0,   0,   0,   0,   0,   0,   0,   0,\n",
              "         0,   0,   0,   0,   0,   0,   0,   0,   0,   0,   0,   0,   0,\n",
              "         0,   0,   0,   0,   0,   0,   0,   0,   0,   0,   0,   0,   0,\n",
              "         0,   0,   0,   0,   0,   0,   0,   0,   0,   0,   0,   0,   0,\n",
              "         0,   0,   0,   0], dtype=uint8)"
            ]
          },
          "metadata": {
            "tags": []
          },
          "execution_count": 9
        }
      ]
    },
    {
      "cell_type": "code",
      "metadata": {
        "colab": {
          "base_uri": "https://localhost:8080/"
        },
        "id": "Lk0pXnB0lIn3",
        "outputId": "be8db30a-4dba-41af-df5a-7061a6436449"
      },
      "source": [
        "# 이 1차원 벡터에 filter 함수를 적용시키자\n",
        "# filter함수는 들어있는 함수가 참이여야만 값을 반환해주는 함수이다.\n",
        "list(filter( lambda x : x!=0, train_images[0].reshape(-1)))[:10]\n",
        "\n",
        "# 대충 255가 제일 큰것 같군 "
      ],
      "execution_count": 10,
      "outputs": [
        {
          "output_type": "execute_result",
          "data": {
            "text/plain": [
              "[3, 18, 18, 18, 126, 136, 175, 26, 166, 255]"
            ]
          },
          "metadata": {
            "tags": []
          },
          "execution_count": 10
        }
      ]
    },
    {
      "cell_type": "code",
      "metadata": {
        "id": "g-v1qhXnl9pl",
        "outputId": "9fb27342-7797-4a1f-8ae1-84bc4e64aed1",
        "colab": {
          "base_uri": "https://localhost:8080/"
        }
      },
      "source": [
        "sorted(list(filter( lambda x : x!=0, train_images[0].reshape(-1))))"
      ],
      "execution_count": 11,
      "outputs": [
        {
          "output_type": "execute_result",
          "data": {
            "text/plain": [
              "[1,\n",
              " 1,\n",
              " 2,\n",
              " 2,\n",
              " 2,\n",
              " 3,\n",
              " 9,\n",
              " 11,\n",
              " 11,\n",
              " 11,\n",
              " 14,\n",
              " 16,\n",
              " 16,\n",
              " 18,\n",
              " 18,\n",
              " 18,\n",
              " 18,\n",
              " 18,\n",
              " 23,\n",
              " 24,\n",
              " 25,\n",
              " 26,\n",
              " 27,\n",
              " 30,\n",
              " 35,\n",
              " 36,\n",
              " 39,\n",
              " 39,\n",
              " 43,\n",
              " 45,\n",
              " 46,\n",
              " 49,\n",
              " 55,\n",
              " 56,\n",
              " 64,\n",
              " 64,\n",
              " 66,\n",
              " 70,\n",
              " 78,\n",
              " 80,\n",
              " 80,\n",
              " 81,\n",
              " 81,\n",
              " 82,\n",
              " 82,\n",
              " 90,\n",
              " 93,\n",
              " 93,\n",
              " 94,\n",
              " 107,\n",
              " 108,\n",
              " 114,\n",
              " 119,\n",
              " 126,\n",
              " 127,\n",
              " 130,\n",
              " 132,\n",
              " 133,\n",
              " 135,\n",
              " 136,\n",
              " 136,\n",
              " 139,\n",
              " 148,\n",
              " 150,\n",
              " 154,\n",
              " 154,\n",
              " 154,\n",
              " 156,\n",
              " 160,\n",
              " 166,\n",
              " 170,\n",
              " 171,\n",
              " 172,\n",
              " 172,\n",
              " 175,\n",
              " 182,\n",
              " 182,\n",
              " 183,\n",
              " 186,\n",
              " 187,\n",
              " 190,\n",
              " 190,\n",
              " 195,\n",
              " 195,\n",
              " 198,\n",
              " 198,\n",
              " 201,\n",
              " 205,\n",
              " 207,\n",
              " 212,\n",
              " 213,\n",
              " 219,\n",
              " 219,\n",
              " 221,\n",
              " 225,\n",
              " 225,\n",
              " 226,\n",
              " 229,\n",
              " 238,\n",
              " 240,\n",
              " 241,\n",
              " 241,\n",
              " 242,\n",
              " 244,\n",
              " 247,\n",
              " 247,\n",
              " 249,\n",
              " 249,\n",
              " 250,\n",
              " 251,\n",
              " 252,\n",
              " 253,\n",
              " 253,\n",
              " 253,\n",
              " 253,\n",
              " 253,\n",
              " 253,\n",
              " 253,\n",
              " 253,\n",
              " 253,\n",
              " 253,\n",
              " 253,\n",
              " 253,\n",
              " 253,\n",
              " 253,\n",
              " 253,\n",
              " 253,\n",
              " 253,\n",
              " 253,\n",
              " 253,\n",
              " 253,\n",
              " 253,\n",
              " 253,\n",
              " 253,\n",
              " 253,\n",
              " 253,\n",
              " 253,\n",
              " 253,\n",
              " 253,\n",
              " 253,\n",
              " 253,\n",
              " 253,\n",
              " 253,\n",
              " 253,\n",
              " 253,\n",
              " 253,\n",
              " 253,\n",
              " 253,\n",
              " 253,\n",
              " 253,\n",
              " 253,\n",
              " 253,\n",
              " 253,\n",
              " 253,\n",
              " 253,\n",
              " 253,\n",
              " 253,\n",
              " 253,\n",
              " 253,\n",
              " 253,\n",
              " 253,\n",
              " 253,\n",
              " 253,\n",
              " 253,\n",
              " 253,\n",
              " 255]"
            ]
          },
          "metadata": {
            "tags": []
          },
          "execution_count": 11
        }
      ]
    },
    {
      "cell_type": "code",
      "metadata": {
        "colab": {
          "base_uri": "https://localhost:8080/"
        },
        "id": "X5jyYh6wmRdR",
        "outputId": "db83f31f-d285-42fb-b5af-39671a6bc8ff"
      },
      "source": [
        "# train_images의 datatype을 보자\n",
        "print(train_images.dtype)"
      ],
      "execution_count": 12,
      "outputs": [
        {
          "output_type": "stream",
          "text": [
            "uint8\n"
          ],
          "name": "stdout"
        }
      ]
    },
    {
      "cell_type": "code",
      "metadata": {
        "id": "KWPCW0dUmp60"
      },
      "source": [
        ""
      ],
      "execution_count": 12,
      "outputs": []
    },
    {
      "cell_type": "markdown",
      "metadata": {
        "id": "UZLfNR1io6QM"
      },
      "source": [
        "## 전처리"
      ]
    },
    {
      "cell_type": "code",
      "metadata": {
        "colab": {
          "base_uri": "https://localhost:8080/"
        },
        "id": "U9CrtqiYo7cO",
        "outputId": "9e75f48a-9d13-4f3d-d4c5-8dc811748938"
      },
      "source": [
        "# train / test 이미지 최소, 최대값을 출력\n",
        "\n",
        "print(max(train_images.reshape(-1)), min(train_images.reshape(-1)))\n",
        "print(max(test_images.reshape(-1)), min(test_images.reshape(-1)))\n",
        "\n",
        "# 데이터에 이상은 없넹"
      ],
      "execution_count": 13,
      "outputs": [
        {
          "output_type": "stream",
          "text": [
            "255 0\n",
            "255 0\n"
          ],
          "name": "stdout"
        }
      ]
    },
    {
      "cell_type": "code",
      "metadata": {
        "colab": {
          "base_uri": "https://localhost:8080/"
        },
        "id": "Qdcq-Q1tpuFn",
        "outputId": "32e98e8c-493c-4002-e359-613bb74ad160"
      },
      "source": [
        "# 정수형을 실수형으로 변경한 후 dtype으로 비교\n",
        "\n",
        "test_images.astype(np.float64).dtype"
      ],
      "execution_count": 14,
      "outputs": [
        {
          "output_type": "execute_result",
          "data": {
            "text/plain": [
              "dtype('float64')"
            ]
          },
          "metadata": {
            "tags": []
          },
          "execution_count": 14
        }
      ]
    },
    {
      "cell_type": "code",
      "metadata": {
        "id": "EhAkR_VOrAWP"
      },
      "source": [
        "test_images = test_images.astype(np.float64)\n",
        "train_images = train_images.astype(np.float64)"
      ],
      "execution_count": 15,
      "outputs": []
    },
    {
      "cell_type": "code",
      "metadata": {
        "colab": {
          "base_uri": "https://localhost:8080/"
        },
        "id": "SgGg83dgrQ01",
        "outputId": "3cf2bfb7-3398-43ec-b80c-66187c1d07c3"
      },
      "source": [
        "# 데이터를 0~1 정규화를 수행하자\n",
        "# 0에서 1사이의 값을 가지게 하기 위한 작업\n",
        "\n",
        "max((train_images / 255).reshape(-1) )\n"
      ],
      "execution_count": 16,
      "outputs": [
        {
          "output_type": "execute_result",
          "data": {
            "text/plain": [
              "1.0"
            ]
          },
          "metadata": {
            "tags": []
          },
          "execution_count": 16
        }
      ]
    },
    {
      "cell_type": "code",
      "metadata": {
        "id": "pE9RyvMEr6i2"
      },
      "source": [
        "train_images = train_images / 255\n",
        "test_images = test_images / 255"
      ],
      "execution_count": 17,
      "outputs": []
    },
    {
      "cell_type": "markdown",
      "metadata": {
        "id": "j9_okXfnsf6i"
      },
      "source": [
        "## 시각화"
      ]
    },
    {
      "cell_type": "code",
      "metadata": {
        "colab": {
          "base_uri": "https://localhost:8080/"
        },
        "id": "1opF5wClsi57",
        "outputId": "9b132432-8f50-43f1-c60f-67b488043738"
      },
      "source": [
        "# train_image의 이미지 5장을 획득하여 (5,28,28)의 shape을 보자\n",
        "\n",
        "train_images[:5].shape"
      ],
      "execution_count": 18,
      "outputs": [
        {
          "output_type": "execute_result",
          "data": {
            "text/plain": [
              "(5, 28, 28)"
            ]
          },
          "metadata": {
            "tags": []
          },
          "execution_count": 18
        }
      ]
    },
    {
      "cell_type": "code",
      "metadata": {
        "colab": {
          "base_uri": "https://localhost:8080/"
        },
        "id": "ICZ0XfqPstci",
        "outputId": "e2dafbcc-ec78-4b83-f785-a42b16f9ae96"
      },
      "source": [
        "# 위의 5장 이미지를 (28, 28*5)의 shape으로 변경해보자\n",
        "# 왜냐하면 5장의 이미지를 출력해보고 싶기 때문에!\n",
        "train_images[:5].reshape(28,-1) # 이걸 plt로 보면 어떻게 나올까"
      ],
      "execution_count": 19,
      "outputs": [
        {
          "output_type": "execute_result",
          "data": {
            "text/plain": [
              "array([[0., 0., 0., ..., 0., 0., 0.],\n",
              "       [0., 0., 0., ..., 0., 0., 0.],\n",
              "       [0., 0., 0., ..., 0., 0., 0.],\n",
              "       ...,\n",
              "       [0., 0., 0., ..., 0., 0., 0.],\n",
              "       [0., 0., 0., ..., 0., 0., 0.],\n",
              "       [0., 0., 0., ..., 0., 0., 0.]])"
            ]
          },
          "metadata": {
            "tags": []
          },
          "execution_count": 19
        }
      ]
    },
    {
      "cell_type": "code",
      "metadata": {
        "colab": {
          "base_uri": "https://localhost:8080/",
          "height": 118
        },
        "id": "24dEB17juSrO",
        "outputId": "17935964-dcb2-469a-fb76-8e85adaa5e25"
      },
      "source": [
        "plt.imshow(train_images[:5].reshape(28,-1))\n",
        "plt.show()\n",
        "\n",
        "#뭔진 몰라도 굉장히 이상하다"
      ],
      "execution_count": 20,
      "outputs": [
        {
          "output_type": "display_data",
          "data": {
            "image/png": "[encoded data removed]",
            "text/plain": [
              "<Figure size 432x288 with 1 Axes>"
            ]
          },
          "metadata": {
            "tags": [],
            "needs_background": "light"
          }
        }
      ]
    },
    {
      "cell_type": "code",
      "metadata": {
        "colab": {
          "base_uri": "https://localhost:8080/"
        },
        "id": "aESWcZXYuZrw",
        "outputId": "ad53730b-93b6-4884-f38f-0df4244df8c6"
      },
      "source": [
        "# hstack 기법을 사용하자\n",
        "np.hstack(train_images[:5]).shape\n",
        "\n",
        "# 같은 shape임\n"
      ],
      "execution_count": 21,
      "outputs": [
        {
          "output_type": "execute_result",
          "data": {
            "text/plain": [
              "(28, 140)"
            ]
          },
          "metadata": {
            "tags": []
          },
          "execution_count": 21
        }
      ]
    },
    {
      "cell_type": "code",
      "metadata": {
        "colab": {
          "base_uri": "https://localhost:8080/",
          "height": 118
        },
        "id": "w4Z7vOf6utM6",
        "outputId": "11c9dcf4-c90c-46cc-de84-c2b8400c100e"
      },
      "source": [
        "# plotting을 해보자\n",
        "plt.imshow(np.hstack(train_images[:5]))\n",
        "plt.show()"
      ],
      "execution_count": 22,
      "outputs": [
        {
          "output_type": "display_data",
          "data": {
            "image/png": "[encoded data removed]",
            "text/plain": [
              "<Figure size 432x288 with 1 Axes>"
            ]
          },
          "metadata": {
            "tags": [],
            "needs_background": "light"
          }
        }
      ]
    },
    {
      "cell_type": "code",
      "metadata": {
        "colab": {
          "base_uri": "https://localhost:8080/"
        },
        "id": "IuI6z_KFu5rg",
        "outputId": "3dc91003-3f43-4586-877d-7742cf1d94dc"
      },
      "source": [
        "# transpose 함수를 이용하여 shape를 변경해보자\n",
        "train_images[:5].shape\n",
        "# (5, 28, 28) 이 의미하는 것이 5는 배치축(0번째 축), 28은 height축(1번째 축), 마지막 28은 width축(2번째축)을 의미함 "
      ],
      "execution_count": 23,
      "outputs": [
        {
          "output_type": "execute_result",
          "data": {
            "text/plain": [
              "(5, 28, 28)"
            ]
          },
          "metadata": {
            "tags": []
          },
          "execution_count": 23
        }
      ]
    },
    {
      "cell_type": "code",
      "metadata": {
        "colab": {
          "base_uri": "https://localhost:8080/"
        },
        "id": "fHZg4Up0vX3z",
        "outputId": "03bd3b40-e7d7-4398-b602-95c90bc991f3"
      },
      "source": [
        "train_images[:5].transpose((1,0,2)).reshape(28,-1).shape #height축, 배치축, width축으로 할거다. 라는 것을 의미"
      ],
      "execution_count": 24,
      "outputs": [
        {
          "output_type": "execute_result",
          "data": {
            "text/plain": [
              "(28, 140)"
            ]
          },
          "metadata": {
            "tags": []
          },
          "execution_count": 24
        }
      ]
    },
    {
      "cell_type": "code",
      "metadata": {
        "colab": {
          "base_uri": "https://localhost:8080/",
          "height": 118
        },
        "id": "2EzoGJCowD8p",
        "outputId": "0276cb8b-aafb-4e0f-9e3c-f01d3147a7d2"
      },
      "source": [
        "# 그렇다면 plt로 확인해보자\n",
        "\n",
        "plt.imshow(train_images[:5].reshape(28,-1))\n",
        "plt.show()"
      ],
      "execution_count": 25,
      "outputs": [
        {
          "output_type": "display_data",
          "data": {
            "image/png": "[encoded data removed]",
            "text/plain": [
              "<Figure size 432x288 with 1 Axes>"
            ]
          },
          "metadata": {
            "tags": [],
            "needs_background": "light"
          }
        }
      ]
    },
    {
      "cell_type": "code",
      "metadata": {
        "colab": {
          "base_uri": "https://localhost:8080/",
          "height": 118
        },
        "id": "WeA3pTGpwRts",
        "outputId": "a7b9bf2d-34bf-41f7-ebd3-77a9e09517bf"
      },
      "source": [
        "plt.imshow(np.hstack(train_images[:5]))\n",
        "plt.show()"
      ],
      "execution_count": 26,
      "outputs": [
        {
          "output_type": "display_data",
          "data": {
            "image/png": "[encoded data removed]",
            "text/plain": [
              "<Figure size 432x288 with 1 Axes>"
            ]
          },
          "metadata": {
            "tags": [],
            "needs_background": "light"
          }
        }
      ]
    },
    {
      "cell_type": "code",
      "metadata": {
        "colab": {
          "base_uri": "https://localhost:8080/",
          "height": 118
        },
        "id": "xUu6iV3_wUng",
        "outputId": "2ee5f487-1893-4bca-c5f9-5fee2f3913c6"
      },
      "source": [
        "plt.imshow(train_images[:5].transpose((1,0,2)).reshape(28,-1))\n",
        "plt.show()"
      ],
      "execution_count": 27,
      "outputs": [
        {
          "output_type": "display_data",
          "data": {
            "image/png": "[encoded data removed]",
            "text/plain": [
              "<Figure size 432x288 with 1 Axes>"
            ]
          },
          "metadata": {
            "tags": [],
            "needs_background": "light"
          }
        }
      ]
    },
    {
      "cell_type": "code",
      "metadata": {
        "colab": {
          "base_uri": "https://localhost:8080/",
          "height": 295
        },
        "id": "0UL60oilwaLe",
        "outputId": "ff6ee8c3-1461-4621-bf7d-04bc70ab4f94"
      },
      "source": [
        "# 28 x 140이 된 텐서를 흑백으로 표현해보자\n",
        "\n",
        "plt.imshow(train_images[:5].transpose((1,0,2)).reshape(28,-1),cmap='gray')\n",
        "plt.colorbar()\n",
        "plt.show()\n",
        "print('')\n",
        "print(train_labels[:5])"
      ],
      "execution_count": 28,
      "outputs": [
        {
          "output_type": "display_data",
          "data": {
            "image/png": "[encoded data removed]",
            "text/plain": [
              "<Figure size 432x288 with 2 Axes>"
            ]
          },
          "metadata": {
            "tags": [],
            "needs_background": "light"
          }
        },
        {
          "output_type": "stream",
          "text": [
            "\n",
            "[5 0 4 1 9]\n"
          ],
          "name": "stdout"
        }
      ]
    },
    {
      "cell_type": "markdown",
      "metadata": {
        "id": "NcZ1j7MZxQry"
      },
      "source": [
        "## Data Augmentation - noise 추가방법\n",
        " - 원본은 유지하되 데이터를 살짝 바꾸는 방법"
      ]
    },
    {
      "cell_type": "code",
      "metadata": {
        "colab": {
          "base_uri": "https://localhost:8080/"
        },
        "id": "HtRva7j4w7_L",
        "outputId": "2e225633-7dfc-4ba3-f5aa-0527e989c54d"
      },
      "source": [
        "# np.random.random 함수를 이용해보자\n",
        "\n",
        "np.random.random(3)"
      ],
      "execution_count": 29,
      "outputs": [
        {
          "output_type": "execute_result",
          "data": {
            "text/plain": [
              "array([0.39821175, 0.79224148, 0.0238953 ])"
            ]
          },
          "metadata": {
            "tags": []
          },
          "execution_count": 29
        }
      ]
    },
    {
      "cell_type": "code",
      "metadata": {
        "id": "3av4DRzU3gmt"
      },
      "source": [
        "# 위 함수를 이용하여  shape 파라미터를 (28, 28)의 랜덤 노이즈를 생성해보자\n",
        "noise = np.random.random((28,28))"
      ],
      "execution_count": 30,
      "outputs": []
    },
    {
      "cell_type": "code",
      "metadata": {
        "colab": {
          "base_uri": "https://localhost:8080/",
          "height": 265
        },
        "id": "DgfhYY-H31BI",
        "outputId": "28b8bd84-5333-4273-c5b8-7b081b180237"
      },
      "source": [
        "# 생성된 노이즈를 plt를 통해 확인해보자\n",
        "noise = np.random.random((28,28))\n",
        "plt.imshow(noise, cmap='gray')\n",
        "plt.colorbar()\n",
        "plt.show()"
      ],
      "execution_count": 31,
      "outputs": [
        {
          "output_type": "display_data",
          "data": {
            "image/png": "[encoded data removed]",
            "text/plain": [
              "<Figure size 432x288 with 2 Axes>"
            ]
          },
          "metadata": {
            "tags": [],
            "needs_background": "light"
          }
        }
      ]
    },
    {
      "cell_type": "code",
      "metadata": {
        "colab": {
          "base_uri": "https://localhost:8080/"
        },
        "id": "s00gNaEM4FJe",
        "outputId": "2a7a33aa-b4bf-40bd-c1dd-c419035bbd9e"
      },
      "source": [
        "# 이번에는 가우시안 노이즈 함수를 사용하여 평균 0 , 표준편차0.1, 사이즈 1로 랜덤값을 3번 출력해보자\n",
        "print(np.random.normal(0,0.1,1))\n",
        "print(np.random.normal(0,0.1,1))\n",
        "print(np.random.normal(0,0.1,1))"
      ],
      "execution_count": 32,
      "outputs": [
        {
          "output_type": "stream",
          "text": [
            "[0.09936679]\n",
            "[0.03127335]\n",
            "[-0.08795692]\n"
          ],
          "name": "stdout"
        }
      ]
    },
    {
      "cell_type": "code",
      "metadata": {
        "colab": {
          "base_uri": "https://localhost:8080/"
        },
        "id": "3trvc6DF4eXV",
        "outputId": "d858d496-0410-4d24-c373-18943a1568f4"
      },
      "source": [
        "# 이번에는 가우시안 노이즈 함수 평균 3, 표준편차 0.03, 사이즈 1로 출력해보자\n",
        "\n",
        "print(np.random.normal(0,0.1,1))\n",
        "print(np.random.normal(0,0.1,1))\n",
        "print(np.random.normal(0,0.1,1))\n",
        "\n",
        "print('')\n",
        "\n",
        "print(np.random.normal(3,0.01,1))\n",
        "print(np.random.normal(3,0.01,1))\n",
        "print(np.random.normal(3,0.01,1))"
      ],
      "execution_count": 33,
      "outputs": [
        {
          "output_type": "stream",
          "text": [
            "[-0.08389908]\n",
            "[0.05730507]\n",
            "[-0.170064]\n",
            "\n",
            "[2.99977334]\n",
            "[2.99288392]\n",
            "[2.98615858]\n"
          ],
          "name": "stdout"
        }
      ]
    },
    {
      "cell_type": "code",
      "metadata": {
        "colab": {
          "base_uri": "https://localhost:8080/",
          "height": 265
        },
        "id": "SV96vdD85KMX",
        "outputId": "5424e9ea-3910-4b62-ac55-3f20ea520a07"
      },
      "source": [
        "# 출력해보자\n",
        "\n",
        "noise2 = np.random.normal(3,0.01,(28,28))  #뒤에 사이즈에다가 28x28을 해주면 됨\n",
        "plt.imshow(noise2, cmap='gray')\n",
        "plt.colorbar()\n",
        "plt.show()\n"
      ],
      "execution_count": 34,
      "outputs": [
        {
          "output_type": "display_data",
          "data": {
            "image/png": "[encoded data removed]",
            "text/plain": [
              "<Figure size 432x288 with 2 Axes>"
            ]
          },
          "metadata": {
            "tags": [],
            "needs_background": "light"
          }
        }
      ]
    },
    {
      "cell_type": "code",
      "metadata": {
        "colab": {
          "base_uri": "https://localhost:8080/"
        },
        "id": "PmiIoUJL5VyS",
        "outputId": "ca559308-99d4-4b94-aea3-9cb95abeeca9"
      },
      "source": [
        "# Train_images의 5번째 이미지와 가우시안 노이즈를 생성한 뒤 각각 tensor에 더한 뒤 noisy_image변수에 할당해보자\n",
        "train_labels[5]"
      ],
      "execution_count": 35,
      "outputs": [
        {
          "output_type": "execute_result",
          "data": {
            "text/plain": [
              "2"
            ]
          },
          "metadata": {
            "tags": []
          },
          "execution_count": 35
        }
      ]
    },
    {
      "cell_type": "code",
      "metadata": {
        "colab": {
          "base_uri": "https://localhost:8080/"
        },
        "id": "TbP1yv-N6B2i",
        "outputId": "0d19f630-3250-4046-a39f-71dbdd664696"
      },
      "source": [
        "(train_labels[5] + np.random.normal(0.0, 0.01, (28,28))).shape"
      ],
      "execution_count": 36,
      "outputs": [
        {
          "output_type": "execute_result",
          "data": {
            "text/plain": [
              "(28, 28)"
            ]
          },
          "metadata": {
            "tags": []
          },
          "execution_count": 36
        }
      ]
    },
    {
      "cell_type": "code",
      "metadata": {
        "id": "EuU5omcv6O48"
      },
      "source": [
        "noisy_image = train_images[5] + np.random.normal(0.5, 0.1, (28,28))"
      ],
      "execution_count": 37,
      "outputs": []
    },
    {
      "cell_type": "code",
      "metadata": {
        "colab": {
          "base_uri": "https://localhost:8080/",
          "height": 265
        },
        "id": "wz2IdRZb6W7F",
        "outputId": "09896722-d0af-4eca-9908-0a2c3f07a1ea"
      },
      "source": [
        "# 노이즈 이미지 출력\n",
        "plt.imshow(noisy_image, cmap='gray')\n",
        "plt.colorbar()\n",
        "plt.show()\n",
        "\n",
        "# 1을 초과하는 것을 볼 수 있음.\n"
      ],
      "execution_count": 38,
      "outputs": [
        {
          "output_type": "display_data",
          "data": {
            "image/png": "[encoded data removed]",
            "text/plain": [
              "<Figure size 432x288 with 2 Axes>"
            ]
          },
          "metadata": {
            "tags": [],
            "needs_background": "light"
          }
        }
      ]
    },
    {
      "cell_type": "code",
      "metadata": {
        "id": "xBre6Oby6bC1"
      },
      "source": [
        "# 노이즈 이미지의 맥스값을 1로 설정해주자\n",
        "# 맥스값이 1을 초과하지 않게 noisy_image 를 수정한 뒤 plt로 출력해보자\n",
        "\n",
        "noisy_image[noisy_image > 1] = 1.0"
      ],
      "execution_count": 39,
      "outputs": []
    },
    {
      "cell_type": "code",
      "metadata": {
        "colab": {
          "base_uri": "https://localhost:8080/"
        },
        "id": "t2znoRxe7Q29",
        "outputId": "7c3e6cc8-522d-4243-f8c4-bc52246c5b64"
      },
      "source": [
        "noisy_image[10:11]"
      ],
      "execution_count": 40,
      "outputs": [
        {
          "output_type": "execute_result",
          "data": {
            "text/plain": [
              "array([[0.56324544, 0.5294541 , 0.42318746, 0.33867442, 0.43905605,\n",
              "        0.3857323 , 0.48417529, 0.50920249, 0.54838104, 1.        ,\n",
              "        1.        , 1.        , 1.        , 1.        , 0.51689486,\n",
              "        0.47997238, 0.49745695, 0.85189176, 1.        , 1.        ,\n",
              "        0.77767339, 0.63882925, 0.66804042, 0.52614854, 0.49082287,\n",
              "        0.38401507, 0.63187299, 0.60218593]])"
            ]
          },
          "metadata": {
            "tags": []
          },
          "execution_count": 40
        }
      ]
    },
    {
      "cell_type": "code",
      "metadata": {
        "colab": {
          "base_uri": "https://localhost:8080/",
          "height": 269
        },
        "id": "nWkHwELf7YR5",
        "outputId": "5ce65d9b-a4f5-4913-c81d-5b7c2bbf06c0"
      },
      "source": [
        "plt.imshow(noisy_image, cmap='gray')\n",
        "plt.colorbar()\n",
        "plt.show()"
      ],
      "execution_count": 41,
      "outputs": [
        {
          "output_type": "display_data",
          "data": {
            "image/png": "[encoded data removed]",
            "text/plain": [
              "<Figure size 432x288 with 2 Axes>"
            ]
          },
          "metadata": {
            "tags": [],
            "needs_background": "light"
          }
        }
      ]
    },
    {
      "cell_type": "code",
      "metadata": {
        "colab": {
          "base_uri": "https://localhost:8080/"
        },
        "id": "bL9SGIgQ7qnM",
        "outputId": "d81ad821-10e9-4478-87c9-e7ae05ecf50a"
      },
      "source": [
        "# 이제 트레인 이미지와 테스트 이미지에 노이즈를 추가해보자\n",
        "\n",
        "train_images.shape"
      ],
      "execution_count": 42,
      "outputs": [
        {
          "output_type": "execute_result",
          "data": {
            "text/plain": [
              "(60000, 28, 28)"
            ]
          },
          "metadata": {
            "tags": []
          },
          "execution_count": 42
        }
      ]
    },
    {
      "cell_type": "code",
      "metadata": {
        "id": "Q1wD1d3o76h9"
      },
      "source": [
        "train_noisy_images = train_images + np.random.normal(0.5, 0.1, train_images.shape)\n",
        "train_noisy_images[train_noisy_images > 1.0] = 1.0\n",
        "\n",
        "test_noisy_images = test_images + np.random.normal(0.5, 0.1, test_images.shape)\n",
        "test_noisy_images[test_noisy_images > 1.0] = 1.0\n"
      ],
      "execution_count": 43,
      "outputs": []
    },
    {
      "cell_type": "code",
      "metadata": {
        "colab": {
          "base_uri": "https://localhost:8080/"
        },
        "id": "QCCjYl-a8rf0",
        "outputId": "2866e7fc-31b8-450b-8ddd-86fef01ffeb9"
      },
      "source": [
        "# label에 one-hot 인코딩을 적용하여 (배치사이즈, 클래스 개수)의 shape으로 변경해보자.\n",
        "train_labels[:5]"
      ],
      "execution_count": 44,
      "outputs": [
        {
          "output_type": "execute_result",
          "data": {
            "text/plain": [
              "array([5, 0, 4, 1, 9], dtype=uint8)"
            ]
          },
          "metadata": {
            "tags": []
          },
          "execution_count": 44
        }
      ]
    },
    {
      "cell_type": "code",
      "metadata": {
        "colab": {
          "base_uri": "https://localhost:8080/"
        },
        "id": "tpNykuGG9TjF",
        "outputId": "da525a71-c873-4a16-f661-3ee60a0d2585"
      },
      "source": [
        "train_labels[0]"
      ],
      "execution_count": 45,
      "outputs": [
        {
          "output_type": "execute_result",
          "data": {
            "text/plain": [
              "5"
            ]
          },
          "metadata": {
            "tags": []
          },
          "execution_count": 45
        }
      ]
    },
    {
      "cell_type": "code",
      "metadata": {
        "colab": {
          "base_uri": "https://localhost:8080/"
        },
        "id": "CJ-e5Gij87OL",
        "outputId": "00863161-934a-4132-df46-8097c48bf47f"
      },
      "source": [
        "from keras.utils import to_categorical\n",
        "\n",
        "to_categorical(train_labels[0])"
      ],
      "execution_count": 46,
      "outputs": [
        {
          "output_type": "execute_result",
          "data": {
            "text/plain": [
              "array([0., 0., 0., 0., 0., 1.], dtype=float32)"
            ]
          },
          "metadata": {
            "tags": []
          },
          "execution_count": 46
        }
      ]
    },
    {
      "cell_type": "code",
      "metadata": {
        "colab": {
          "base_uri": "https://localhost:8080/"
        },
        "id": "Eil844yK9W02",
        "outputId": "26b6d906-3cb6-46c6-b07e-59c775a19ff9"
      },
      "source": [
        "to_categorical(4), to_categorical(2) # 이렇게하면 텐서 갯수가 왔따리 갔다리 하지만 이걸 고정해줄 수 있음."
      ],
      "execution_count": 47,
      "outputs": [
        {
          "output_type": "execute_result",
          "data": {
            "text/plain": [
              "(array([0., 0., 0., 0., 1.], dtype=float32),\n",
              " array([0., 0., 1.], dtype=float32))"
            ]
          },
          "metadata": {
            "tags": []
          },
          "execution_count": 47
        }
      ]
    },
    {
      "cell_type": "code",
      "metadata": {
        "colab": {
          "base_uri": "https://localhost:8080/"
        },
        "id": "aANyhFCL9eQI",
        "outputId": "a45b96d2-ec2b-4141-a91e-85377cebe670"
      },
      "source": [
        "to_categorical(2,10) #고정완료"
      ],
      "execution_count": 48,
      "outputs": [
        {
          "output_type": "execute_result",
          "data": {
            "text/plain": [
              "array([0., 0., 1., 0., 0., 0., 0., 0., 0., 0.], dtype=float32)"
            ]
          },
          "metadata": {
            "tags": []
          },
          "execution_count": 48
        }
      ]
    },
    {
      "cell_type": "code",
      "metadata": {
        "colab": {
          "base_uri": "https://localhost:8080/"
        },
        "id": "2OZBt-_n9k9c",
        "outputId": "3127216c-7ff5-4586-9f78-66d6ff93e26f"
      },
      "source": [
        "print(train_labels.shape, test_labels.shape)\n",
        "train_labels = to_categorical(train_labels, 10)\n",
        "test_labels = to_categorical(test_labels, 10)\n",
        "print(train_labels.shape, test_labels.shape)"
      ],
      "execution_count": 49,
      "outputs": [
        {
          "output_type": "stream",
          "text": [
            "(60000,) (10000,)\n",
            "(60000, 10) (10000, 10)\n"
          ],
          "name": "stdout"
        }
      ]
    },
    {
      "cell_type": "code",
      "metadata": {
        "id": "l_ztC7X69yyv"
      },
      "source": [
        ""
      ],
      "execution_count": null,
      "outputs": []
    },
    {
      "cell_type": "markdown",
      "metadata": {
        "id": "hd3uTAs2wwZb"
      },
      "source": [
        "## 모델링"
      ]
    },
    {
      "cell_type": "code",
      "metadata": {
        "id": "IORuxCVlwxMU"
      },
      "source": [
        "# 이 학습셋을 처리하는 이미지 classification 모델을 만들어 보자\n",
        "# - Input : (28 x 28), 64unit의 simple RNN, 10unit의 FC를 가진 모델\n",
        "\n",
        "from keras.layers import SimpleRNN\n",
        "from keras.layers import Dense, Input\n",
        "from keras.models import Model"
      ],
      "execution_count": 51,
      "outputs": []
    },
    {
      "cell_type": "code",
      "metadata": {
        "id": "M1O9_hb7w8tl"
      },
      "source": [
        "# rnn은 28x28을 한번에 처리하는 것이 아니라 (1,28), (2,28),....(28,28)로 처리함 \n",
        "\n",
        "inputs = Input(shape=(28,28))\n",
        "x = SimpleRNN(64, activation = 'tanh')(inputs) # 첫번째 인자는 몇개로 나갈 것이냐 라는 값임 여기서는 64\n",
        "x = Dense(10, activation='softmax')(x)\n",
        "model = Model(inputs, x) # 모델은 인자를 input과 output을 받음\n"
      ],
      "execution_count": 56,
      "outputs": []
    },
    {
      "cell_type": "code",
      "metadata": {
        "id": "r-YyTcKOyooL",
        "outputId": "a38919f3-b81c-4cb2-fbde-69eb7ba9a156",
        "colab": {
          "base_uri": "https://localhost:8080/"
        }
      },
      "source": [
        "# 모델의 요약정보를 확인해보자\n",
        "model.summary()"
      ],
      "execution_count": 57,
      "outputs": [
        {
          "output_type": "stream",
          "text": [
            "Model: \"model_1\"\n",
            "_________________________________________________________________\n",
            "Layer (type)                 Output Shape              Param #   \n",
            "=================================================================\n",
            "input_2 (InputLayer)         [(None, 28, 28)]          0         \n",
            "_________________________________________________________________\n",
            "simple_rnn_1 (SimpleRNN)     (None, 64)                5952      \n",
            "_________________________________________________________________\n",
            "dense_1 (Dense)              (None, 10)                650       \n",
            "=================================================================\n",
            "Total params: 6,602\n",
            "Trainable params: 6,602\n",
            "Non-trainable params: 0\n",
            "_________________________________________________________________\n"
          ],
          "name": "stdout"
        }
      ]
    },
    {
      "cell_type": "code",
      "metadata": {
        "id": "uMQVX3Oty2-v"
      },
      "source": [
        "# 모델에 loss와 optimizer, metric을 설정해보자\n",
        "# - loss : categorical_crossentropy\n",
        "# - optimizer : adam\n",
        "# - metric : accuracy \n",
        "\n",
        "model.compile(loss = 'categorical_crossentropy', optimizer='adam', metrics = ['accuracy'])"
      ],
      "execution_count": 58,
      "outputs": []
    },
    {
      "cell_type": "code",
      "metadata": {
        "id": "bA3K-qIZztIX",
        "outputId": "f8bccde4-94fc-4f6c-89ea-266055b063d5",
        "colab": {
          "base_uri": "https://localhost:8080/"
        }
      },
      "source": [
        "# 이 모델을 train_noisy_images를 학습시켜보자\n",
        "# epochs : 5\n",
        "hist = model.fit(train_noisy_images, train_labels, validation_data=(test_noisy_images, test_labels), epochs=5, verbose =2)"
      ],
      "execution_count": 59,
      "outputs": [
        {
          "output_type": "stream",
          "text": [
            "Epoch 1/5\n",
            "1875/1875 - 11s - loss: 0.7314 - accuracy: 0.7655 - val_loss: 0.3970 - val_accuracy: 0.8834\n",
            "Epoch 2/5\n",
            "1875/1875 - 10s - loss: 0.3856 - accuracy: 0.8833 - val_loss: 0.3715 - val_accuracy: 0.8895\n",
            "Epoch 3/5\n",
            "1875/1875 - 10s - loss: 0.3228 - accuracy: 0.9054 - val_loss: 0.3041 - val_accuracy: 0.9068\n",
            "Epoch 4/5\n",
            "1875/1875 - 10s - loss: 0.2864 - accuracy: 0.9155 - val_loss: 0.2599 - val_accuracy: 0.9231\n",
            "Epoch 5/5\n",
            "1875/1875 - 11s - loss: 0.2670 - accuracy: 0.9217 - val_loss: 0.2175 - val_accuracy: 0.9368\n"
          ],
          "name": "stdout"
        }
      ]
    },
    {
      "cell_type": "code",
      "metadata": {
        "id": "QqEaYu0V0AZm",
        "outputId": "cd6e2a7b-67b5-4232-b7f1-48eba7be9130",
        "colab": {
          "base_uri": "https://localhost:8080/",
          "height": 265
        }
      },
      "source": [
        "# 진행상황을 plt로 출력해보자\n",
        "\n",
        "plt.plot(hist.history['accuracy'], label='accuracy')\n",
        "plt.plot(hist.history['loss'], label='loss')\n",
        "plt.plot(hist.history['val_accuracy'], label='val_accuracy')\n",
        "plt.plot(hist.history['val_loss'], label='val_loss')\n",
        "plt.legend(loc='upper left')\n",
        "plt.show()"
      ],
      "execution_count": 60,
      "outputs": [
        {
          "output_type": "display_data",
          "data": {
            "image/png": "[encoded data removed]",
            "text/plain": [
              "<Figure size 432x288 with 1 Axes>"
            ]
          },
          "metadata": {
            "tags": [],
            "needs_background": "light"
          }
        }
      ]
    },
    {
      "cell_type": "markdown",
      "metadata": {
        "id": "pfFRJu4P1_j5"
      },
      "source": [
        "## 결과확인"
      ]
    },
    {
      "cell_type": "code",
      "metadata": {
        "id": "fyIYZRLe0567",
        "outputId": "70544952-a219-46d3-ddc5-3f0a94d6fd06",
        "colab": {
          "base_uri": "https://localhost:8080/"
        }
      },
      "source": [
        "# 완성된 모델에서 test_noisy_image를 1장 넣고 결과를 res 변수에 저장해보자\n",
        "\n",
        "test_noisy_images[0].shape"
      ],
      "execution_count": 62,
      "outputs": [
        {
          "output_type": "execute_result",
          "data": {
            "text/plain": [
              "(28, 28)"
            ]
          },
          "metadata": {
            "tags": []
          },
          "execution_count": 62
        }
      ]
    },
    {
      "cell_type": "code",
      "metadata": {
        "id": "TlQhIGDD1-qA"
      },
      "source": [
        "model.predict(test_noisy_images[0]) # 을실행하면 에러가 뜸 shape이 맞지않기 때문이다\n"
      ],
      "execution_count": null,
      "outputs": []
    },
    {
      "cell_type": "code",
      "metadata": {
        "id": "gDFc82AG2WZR",
        "outputId": "ba16f37d-545f-4162-e66c-95aa0f0bba9e",
        "colab": {
          "base_uri": "https://localhost:8080/"
        }
      },
      "source": [
        "# 그렇기 떄문에 이렇게 해주면됨\n",
        "\n",
        "model.predict(test_noisy_images[0].reshape(1,28,28))"
      ],
      "execution_count": 65,
      "outputs": [
        {
          "output_type": "execute_result",
          "data": {
            "text/plain": [
              "array([[6.72502836e-07, 7.84114891e-05, 2.02961921e-04, 8.22163594e-04,\n",
              "        1.07667845e-04, 1.81260802e-05, 3.42247333e-08, 9.91103649e-01,\n",
              "        7.06329884e-05, 7.59573281e-03]], dtype=float32)"
            ]
          },
          "metadata": {
            "tags": []
          },
          "execution_count": 65
        }
      ]
    },
    {
      "cell_type": "code",
      "metadata": {
        "id": "zpvm_-sp2nNV"
      },
      "source": [
        "# 이런 방법도 있음\n",
        "res = model.predict(test_noisy_images[:1])"
      ],
      "execution_count": 66,
      "outputs": []
    },
    {
      "cell_type": "code",
      "metadata": {
        "id": "2_yeeyyD27gZ",
        "outputId": "f911f8a8-0ae5-40df-f349-08d5993b99e7",
        "colab": {
          "base_uri": "https://localhost:8080/"
        }
      },
      "source": [
        "res.shape"
      ],
      "execution_count": 67,
      "outputs": [
        {
          "output_type": "execute_result",
          "data": {
            "text/plain": [
              "(1, 10)"
            ]
          },
          "metadata": {
            "tags": []
          },
          "execution_count": 67
        }
      ]
    },
    {
      "cell_type": "code",
      "metadata": {
        "id": "fj4NOe-F29AQ",
        "outputId": "3cc520c8-e982-4ed0-a9c1-7c9c62d9b05c",
        "colab": {
          "base_uri": "https://localhost:8080/",
          "height": 234
        }
      },
      "source": [
        "# test_noisy_image와 test_image를 width 방향으로 결합하여 plt로 출력해보자\n",
        "# 즉 28 x (28*2)의 형태가 나타나야 됨.\n",
        "\n",
        "print(np.concatenate( [ test_noisy_images[0], test_images[0]], axis=1).shape)\n",
        "plt.imshow(np.concatenate( [ test_noisy_images[0], test_images[0]], axis=1), cmap='gray')\n",
        "plt.show()"
      ],
      "execution_count": 70,
      "outputs": [
        {
          "output_type": "stream",
          "text": [
            "(28, 56)\n"
          ],
          "name": "stdout"
        },
        {
          "output_type": "display_data",
          "data": {
            "image/png": "[encoded data removed]",
            "text/plain": [
              "<Figure size 432x288 with 1 Axes>"
            ]
          },
          "metadata": {
            "tags": [],
            "needs_background": "light"
          }
        }
      ]
    },
    {
      "cell_type": "code",
      "metadata": {
        "id": "-LI815Mr3qyP",
        "outputId": "e40b0d8b-3472-4a83-aa15-944bf10b2cd8",
        "colab": {
          "base_uri": "https://localhost:8080/",
          "height": 265
        }
      },
      "source": [
        "# res와 test_labels[0]의 결과를 plt.bar로 확인해보자\n",
        "\n",
        "plt.bar(range(10), res[0], alpha=0.5)\n",
        "plt.bar(np.array(range(10))+0.01, test_labels[0], alpha=0.7)\n",
        "plt.show()"
      ],
      "execution_count": 79,
      "outputs": [
        {
          "output_type": "display_data",
          "data": {
            "image/png": "[encoded data removed]",
            "text/plain": [
              "<Figure size 432x288 with 1 Axes>"
            ]
          },
          "metadata": {
            "tags": [],
            "needs_background": "light"
          }
        }
      ]
    },
    {
      "cell_type": "markdown",
      "metadata": {
        "id": "MF5XQwzY5NNj"
      },
      "source": [
        "## 모델 저장 및 Download"
      ]
    },
    {
      "cell_type": "code",
      "metadata": {
        "id": "ywQasFm74TH8"
      },
      "source": [
        "# 모델 저장\n",
        "\n",
        "model.save('./lecture001.h5')"
      ],
      "execution_count": 80,
      "outputs": []
    },
    {
      "cell_type": "code",
      "metadata": {
        "id": "hfWDlM_W6yxJ"
      },
      "source": [
        "# 모델 로드\n",
        "\n",
        "new_model = tf.keras.models.load_model('./lecture001.h5')"
      ],
      "execution_count": 81,
      "outputs": []
    },
    {
      "cell_type": "code",
      "metadata": {
        "id": "n_kVU01X66vq",
        "outputId": "9af114e2-4e25-42b2-9747-ebe9ccf85275",
        "colab": {
          "base_uri": "https://localhost:8080/"
        }
      },
      "source": [
        "new_model.summary()"
      ],
      "execution_count": 82,
      "outputs": [
        {
          "output_type": "stream",
          "text": [
            "Model: \"model_1\"\n",
            "_________________________________________________________________\n",
            "Layer (type)                 Output Shape              Param #   \n",
            "=================================================================\n",
            "input_2 (InputLayer)         [(None, 28, 28)]          0         \n",
            "_________________________________________________________________\n",
            "simple_rnn_1 (SimpleRNN)     (None, 64)                5952      \n",
            "_________________________________________________________________\n",
            "dense_1 (Dense)              (None, 10)                650       \n",
            "=================================================================\n",
            "Total params: 6,602\n",
            "Trainable params: 6,602\n",
            "Non-trainable params: 0\n",
            "_________________________________________________________________\n"
          ],
          "name": "stdout"
        }
      ]
    },
    {
      "cell_type": "code",
      "metadata": {
        "id": "Qk5mtjbM68X_",
        "outputId": "00b9ee9d-a49f-4002-a680-bab87e7327ab",
        "colab": {
          "base_uri": "https://localhost:8080/",
          "height": 17
        }
      },
      "source": [
        "# 모델 로컬에 저장\n",
        "\n",
        "from google.colab import files\n",
        "files.download('./lecture001.h5')"
      ],
      "execution_count": 83,
      "outputs": [
        {
          "output_type": "display_data",
          "data": {
            "application/javascript": [
              "\n",
              "    async function download(id, filename, size) {\n",
              "      if (!google.colab.kernel.accessAllowed) {\n",
              "        return;\n",
              "      }\n",
              "      const div = document.createElement('div');\n",
              "      const label = document.createElement('label');\n",
              "      label.textContent = `Downloading \"${filename}\": `;\n",
              "      div.appendChild(label);\n",
              "      const progress = document.createElement('progress');\n",
              "      progress.max = size;\n",
              "      div.appendChild(progress);\n",
              "      document.body.appendChild(div);\n",
              "\n",
              "      const buffers = [];\n",
              "      let downloaded = 0;\n",
              "\n",
              "      const channel = await google.colab.kernel.comms.open(id);\n",
              "      // Send a message to notify the kernel that we're ready.\n",
              "      channel.send({})\n",
              "\n",
              "      for await (const message of channel.messages) {\n",
              "        // Send a message to notify the kernel that we're ready.\n",
              "        channel.send({})\n",
              "        if (message.buffers) {\n",
              "          for (const buffer of message.buffers) {\n",
              "            buffers.push(buffer);\n",
              "            downloaded += buffer.byteLength;\n",
              "            progress.value = downloaded;\n",
              "          }\n",
              "        }\n",
              "      }\n",
              "      const blob = new Blob(buffers, {type: 'application/binary'});\n",
              "      const a = document.createElement('a');\n",
              "      a.href = window.URL.createObjectURL(blob);\n",
              "      a.download = filename;\n",
              "      div.appendChild(a);\n",
              "      a.click();\n",
              "      div.remove();\n",
              "    }\n",
              "  "
            ],
            "text/plain": [
              "<IPython.core.display.Javascript object>"
            ]
          },
          "metadata": {
            "tags": []
          }
        },
        {
          "output_type": "display_data",
          "data": {
            "application/javascript": [
              "download(\"download_087a3f44-2d92-4fc3-8f24-0f18448348f2\", \"lecture001.h5\", 110624)"
            ],
            "text/plain": [
              "<IPython.core.display.Javascript object>"
            ]
          },
          "metadata": {
            "tags": []
          }
        }
      ]
    },
    {
      "cell_type": "code",
      "metadata": {
        "id": "RpkXbC537MTZ"
      },
      "source": [
        ""
      ],
      "execution_count": null,
      "outputs": []
    }
  ]
}